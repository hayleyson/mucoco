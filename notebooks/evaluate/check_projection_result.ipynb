{
 "cells": [
  {
   "cell_type": "code",
   "execution_count": 1,
   "metadata": {},
   "outputs": [],
   "source": [
    "import pandas as pd"
   ]
  },
  {
   "cell_type": "code",
   "execution_count": 3,
   "metadata": {},
   "outputs": [],
   "source": [
    "nls15_nps15=pd.read_json('/home/s3/hyeryung/mucoco/outputs/toxicity/projection/gpt2-word-netps3-nls15-nps15-modelmucola-lr0.001/outputs_epsilon-3.txt.intermediate',\n",
    "                         lines=True)"
   ]
  },
  {
   "cell_type": "code",
   "execution_count": 6,
   "metadata": {},
   "outputs": [
    {
     "data": {
      "text/plain": [
       "15.0     374\n",
       "105.0      1\n",
       "225.0      1\n",
       "Name: best_step, dtype: int64"
      ]
     },
     "execution_count": 6,
     "metadata": {},
     "output_type": "execute_result"
    }
   ],
   "source": [
    "nls15_nps15['best_step'].value_counts()"
   ]
  },
  {
   "cell_type": "code",
   "execution_count": 2,
   "metadata": {},
   "outputs": [],
   "source": [
    "nls10_nps10=pd.read_json('/home/s3/hyeryung/mucoco/outputs/toxicity/projection/gpt2-word-netps3-nls10-nps10-modelmucola-lr0.001/outputs_epsilon-3.txt.intermediate',\n",
    "                         lines=True)"
   ]
  },
  {
   "cell_type": "code",
   "execution_count": 3,
   "metadata": {},
   "outputs": [
    {
     "data": {
      "text/plain": [
       "best_step\n",
       "10.0     373\n",
       "160.0      1\n",
       "20.0       1\n",
       "150.0      1\n",
       "Name: count, dtype: int64"
      ]
     },
     "execution_count": 3,
     "metadata": {},
     "output_type": "execute_result"
    }
   ],
   "source": [
    "nls10_nps10['best_step'].value_counts()"
   ]
  },
  {
   "cell_type": "code",
   "execution_count": 4,
   "metadata": {},
   "outputs": [],
   "source": [
    "nls5_nps5=pd.read_json('/home/s3/hyeryung/mucoco/outputs/toxicity/projection/gpt2-word-netps3-nls5-nps5-modelenergy-lr0.001/outputs_epsilon-3.txt.intermediate',\n",
    "                         lines=True)"
   ]
  },
  {
   "cell_type": "code",
   "execution_count": 5,
   "metadata": {},
   "outputs": [
    {
     "data": {
      "text/plain": [
       "best_step\n",
       "5.0    1385\n",
       "Name: count, dtype: int64"
      ]
     },
     "execution_count": 5,
     "metadata": {},
     "output_type": "execute_result"
    }
   ],
   "source": [
    "nls5_nps5['best_step'].value_counts()"
   ]
  },
  {
   "cell_type": "code",
   "execution_count": 6,
   "metadata": {},
   "outputs": [],
   "source": [
    "nls5_nps5_2=pd.read_json('/home/s3/hyeryung/mucoco/outputs/toxicity/projection/gpt2-word-netps3-nls10-nps10-modelmucola-lr0.0001/outputs_epsilon-3.txt.intermediate',\n",
    "                         lines=True)"
   ]
  },
  {
   "cell_type": "code",
   "execution_count": 8,
   "metadata": {},
   "outputs": [
    {
     "data": {
      "text/plain": [
       "best_step\n",
       "10.0    376\n",
       "Name: count, dtype: int64"
      ]
     },
     "execution_count": 8,
     "metadata": {},
     "output_type": "execute_result"
    }
   ],
   "source": [
    "nls5_nps5_2['best_step'].value_counts()"
   ]
  },
  {
   "cell_type": "code",
   "execution_count": null,
   "metadata": {},
   "outputs": [],
   "source": []
  }
 ],
 "metadata": {
  "kernelspec": {
   "display_name": "Python 3 (ipykernel)",
   "language": "python",
   "name": "python3"
  },
  "language_info": {
   "codemirror_mode": {
    "name": "ipython",
    "version": 3
   },
   "file_extension": ".py",
   "mimetype": "text/x-python",
   "name": "python",
   "nbconvert_exporter": "python",
   "pygments_lexer": "ipython3",
   "version": "3.10.12"
  }
 },
 "nbformat": 4,
 "nbformat_minor": 4
}
