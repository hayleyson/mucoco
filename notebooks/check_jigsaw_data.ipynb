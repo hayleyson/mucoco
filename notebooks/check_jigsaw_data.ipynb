{
 "cells": [
  {
   "attachments": {},
   "cell_type": "markdown",
   "metadata": {},
   "source": [
    "### clean up unncessary columns"
   ]
  },
  {
   "cell_type": "code",
   "execution_count": 19,
   "metadata": {
    "vscode": {
     "languageId": "python"
    }
   },
   "outputs": [],
   "source": [
    "import pandas as pd\n",
    "\n",
    "js = pd.read_csv(\"/home/hyeryungson/mucoco/data/toxicity/jigsaw-unintended-bias-in-toxicity-classification/all_data.csv\")"
   ]
  },
  {
   "cell_type": "code",
   "execution_count": 20,
   "metadata": {
    "vscode": {
     "languageId": "python"
    }
   },
   "outputs": [
    {
     "data": {
      "text/plain": [
       "Index(['id', 'comment_text', 'split', 'created_date', 'publication_id',\n",
       "       'parent_id', 'article_id', 'rating', 'funny', 'wow', 'sad', 'likes',\n",
       "       'disagree', 'toxicity', 'severe_toxicity', 'obscene', 'sexual_explicit',\n",
       "       'identity_attack', 'insult', 'threat', 'male', 'female', 'transgender',\n",
       "       'other_gender', 'heterosexual', 'homosexual_gay_or_lesbian', 'bisexual',\n",
       "       'other_sexual_orientation', 'christian', 'jewish', 'muslim', 'hindu',\n",
       "       'buddhist', 'atheist', 'other_religion', 'black', 'white', 'asian',\n",
       "       'latino', 'other_race_or_ethnicity', 'physical_disability',\n",
       "       'intellectual_or_learning_disability', 'psychiatric_or_mental_illness',\n",
       "       'other_disability', 'identity_annotator_count',\n",
       "       'toxicity_annotator_count'],\n",
       "      dtype='object')"
      ]
     },
     "execution_count": 20,
     "metadata": {},
     "output_type": "execute_result"
    }
   ],
   "source": [
    "js.columns"
   ]
  },
  {
   "cell_type": "code",
   "execution_count": 21,
   "metadata": {
    "vscode": {
     "languageId": "python"
    }
   },
   "outputs": [],
   "source": [
    "# drop columns related to identity\n",
    "js = js.drop(columns=['male', 'female', 'transgender',\n",
    "       'other_gender', 'heterosexual', 'homosexual_gay_or_lesbian', 'bisexual',\n",
    "       'other_sexual_orientation', 'christian', 'jewish', 'muslim', 'hindu',\n",
    "       'buddhist', 'atheist', 'other_religion', 'black', 'white', 'asian',\n",
    "       'latino', 'other_race_or_ethnicity', 'physical_disability',\n",
    "       'intellectual_or_learning_disability', 'psychiatric_or_mental_illness',\n",
    "       'other_disability', 'identity_annotator_count'])"
   ]
  },
  {
   "cell_type": "code",
   "execution_count": 22,
   "metadata": {
    "vscode": {
     "languageId": "python"
    }
   },
   "outputs": [],
   "source": [
    "# drop columns - metadata from CivilComments\n",
    "js = js.drop(columns=['created_date','publication_id',\n",
    "       'parent_id', 'article_id', 'rating', 'funny', 'wow', 'sad', 'likes',\n",
    "       'disagree'])"
   ]
  },
  {
   "cell_type": "code",
   "execution_count": 24,
   "metadata": {
    "vscode": {
     "languageId": "python"
    }
   },
   "outputs": [],
   "source": [
    "js.to_csv(\"/home/hyeryungson/mucoco/data/toxicity/jigsaw-unintended-bias-in-toxicity-classification/all_data_simple.csv\",index=False)"
   ]
  },
  {
   "attachments": {},
   "cell_type": "markdown",
   "metadata": {},
   "source": [
    "### Check distribution of toxicity column"
   ]
  },
  {
   "cell_type": "code",
   "execution_count": null,
   "metadata": {
    "vscode": {
     "languageId": "python"
    }
   },
   "outputs": [],
   "source": [
    "import numpy as np"
   ]
  },
  {
   "cell_type": "code",
   "execution_count": null,
   "metadata": {
    "vscode": {
     "languageId": "python"
    }
   },
   "outputs": [],
   "source": [
    "js = pd.read_csv(\"/home/hyeryungson/mucoco/data/toxicity/jigsaw-unintended-bias-in-toxicity-classification/all_data_simple.csv\")"
   ]
  },
  {
   "cell_type": "code",
   "execution_count": 28,
   "metadata": {
    "vscode": {
     "languageId": "python"
    }
   },
   "outputs": [
    {
     "data": {
      "text/plain": [
       "0.00    0.000000\n",
       "0.05    0.000000\n",
       "0.10    0.000000\n",
       "0.15    0.000000\n",
       "0.20    0.000000\n",
       "0.25    0.000000\n",
       "0.30    0.000000\n",
       "0.35    0.000000\n",
       "0.40    0.000000\n",
       "0.45    0.000000\n",
       "0.50    0.000000\n",
       "0.55    0.000000\n",
       "0.60    0.000000\n",
       "0.65    0.000000\n",
       "0.70    0.000000\n",
       "0.75    0.166667\n",
       "0.80    0.200000\n",
       "0.85    0.200000\n",
       "0.90    0.400000\n",
       "0.95    0.600000\n",
       "1.00    1.000000\n",
       "Name: toxicity, dtype: float64"
      ]
     },
     "execution_count": 28,
     "metadata": {},
     "output_type": "execute_result"
    }
   ],
   "source": [
    "js['toxicity'].quantile(np.arange(0, 1.1, 0.1))\n",
    "\n",
    "# 대략 10% 만 toxic (toxicity > 0.5)\n",
    "\n",
    "# 0.0    0.0\n",
    "# 0.1    0.0\n",
    "# 0.2    0.0\n",
    "# 0.3    0.0\n",
    "# 0.4    0.0\n",
    "# 0.5    0.0\n",
    "# 0.6    0.0\n",
    "# 0.7    0.0\n",
    "# 0.8    0.2\n",
    "# 0.9    0.4\n",
    "# 1.0    1.0\n",
    "# Name: toxicity, dtype: float64"
   ]
  },
  {
   "cell_type": "code",
   "execution_count": 29,
   "metadata": {
    "vscode": {
     "languageId": "python"
    }
   },
   "outputs": [
    {
     "data": {
      "text/plain": [
       "0.0       3.0\n",
       "0.1       4.0\n",
       "0.2       4.0\n",
       "0.3       4.0\n",
       "0.4       4.0\n",
       "0.5       4.0\n",
       "0.6       4.0\n",
       "0.7       6.0\n",
       "0.8       6.0\n",
       "0.9      10.0\n",
       "1.0    4936.0\n",
       "Name: toxicity_annotator_count, dtype: float64"
      ]
     },
     "execution_count": 29,
     "metadata": {},
     "output_type": "execute_result"
    }
   ],
   "source": [
    "js['toxicity_annotator_count'].quantile(np.arange(0, 1.1, 0.1))\n",
    "\n",
    "# at least 3 annotators (mostly 4 annotators)\n",
    "\n",
    "# 0.0       3.0\n",
    "# 0.1       4.0\n",
    "# 0.2       4.0\n",
    "# 0.3       4.0\n",
    "# 0.4       4.0\n",
    "# 0.5       4.0\n",
    "# 0.6       4.0\n",
    "# 0.7       6.0\n",
    "# 0.8       6.0\n",
    "# 0.9      10.0\n",
    "# 1.0    4936.0\n",
    "# Name: toxicity_annotator_count, dtype: float64"
   ]
  },
  {
   "cell_type": "code",
   "execution_count": 41,
   "metadata": {
    "vscode": {
     "languageId": "python"
    }
   },
   "outputs": [
    {
     "name": "stdout",
     "output_type": "stream",
     "text": [
      "# duplicated comments :  27600\n",
      "proportion of duplicated comments :  0.013803340408378828\n"
     ]
    }
   ],
   "source": [
    "# number of rows with duplicated comment_text -> ~1% of the data -> ignore!\n",
    "print(\"# duplicated comments : \", js.shape[0] - js.drop_duplicates(subset=['comment_text']).shape[0])\n",
    "print(\"proportion of duplicated comments : \", (js.shape[0] - js.drop_duplicates(subset=['comment_text']).shape[0])/js.shape[0])"
   ]
  },
  {
   "cell_type": "code",
   "execution_count": 55,
   "metadata": {
    "vscode": {
     "languageId": "python"
    }
   },
   "outputs": [
    {
     "name": "stdout",
     "output_type": "stream",
     "text": [
      "# duplicated comments :  2139\n"
     ]
    }
   ],
   "source": [
    "# number of rows with duplicated comment_text, toxicity_score, toxicity_annotator_count -> ~1% of the data -> ignore!\n",
    "print(\"# duplicated comments : \", js.shape[0] - js.drop_duplicates(subset=['comment_text', 'toxicity']).shape[0])"
   ]
  },
  {
   "cell_type": "code",
   "execution_count": 56,
   "metadata": {
    "vscode": {
     "languageId": "python"
    }
   },
   "outputs": [],
   "source": [
    "js = js.sort_values(by=\"toxicity_annotator_count\", ascending=False)\n",
    "js = js.drop_duplicates(subset=['comment_text', 'toxicity'], keep=\"first\")"
   ]
  },
  {
   "cell_type": "code",
   "execution_count": 57,
   "metadata": {
    "vscode": {
     "languageId": "python"
    }
   },
   "outputs": [
    {
     "name": "stdout",
     "output_type": "stream",
     "text": [
      "# duplicated comments :  0\n"
     ]
    }
   ],
   "source": [
    "# number of rows with duplicated comment_text, toxicity_score, toxicity_annotator_count -> ~1% of the data -> ignore!\n",
    "print(\"# duplicated comments : \", js.shape[0] - js.drop_duplicates(subset=['comment_text', 'toxicity']).shape[0])"
   ]
  },
  {
   "cell_type": "code",
   "execution_count": 31,
   "metadata": {
    "vscode": {
     "languageId": "python"
    }
   },
   "outputs": [],
   "source": [
    "# is toxicity value similar to perspective api scores?\n",
    "\n",
    "samples=pd.read_csv('notebooks/results/samples.csv')"
   ]
  },
  {
   "cell_type": "code",
   "execution_count": 82,
   "metadata": {
    "vscode": {
     "languageId": "python"
    }
   },
   "outputs": [
    {
     "data": {
      "text/plain": [
       "Index(['id', 'comment_text', 'split', 'toxicity', 'severe_toxicity', 'obscene',\n",
       "       'sexual_explicit', 'identity_attack', 'insult', 'threat',\n",
       "       'toxicity_annotator_count'],\n",
       "      dtype='object')"
      ]
     },
     "execution_count": 82,
     "metadata": {},
     "output_type": "execute_result"
    }
   ],
   "source": [
    "js.columns"
   ]
  },
  {
   "cell_type": "code",
   "execution_count": 84,
   "metadata": {
    "vscode": {
     "languageId": "python"
    }
   },
   "outputs": [],
   "source": [
    "# samples2=samples.merge(js[[\"comment_text\", \"toxicity\", \"toxicity_annotator_count\"]],left_on=\"text\", right_on=\"comment_text\", how=\"left\")\n",
    "samples2=samples.merge(js[[\"comment_text\", \"toxicity\", \"toxicity_annotator_count\", 'obscene',\n",
    "                             'sexual_explicit', 'identity_attack', 'insult', 'threat']],left_on=\"text\", right_on=\"comment_text\", how=\"left\")"
   ]
  },
  {
   "cell_type": "code",
   "execution_count": 85,
   "metadata": {
    "vscode": {
     "languageId": "python"
    }
   },
   "outputs": [
    {
     "data": {
      "text/plain": [
       "(20000, 20723)"
      ]
     },
     "execution_count": 85,
     "metadata": {},
     "output_type": "execute_result"
    }
   ],
   "source": [
    "len(samples), len(samples2) ## num rows differ due to rows with same text but different toxicity scores"
   ]
  },
  {
   "cell_type": "code",
   "execution_count": 65,
   "metadata": {
    "vscode": {
     "languageId": "python"
    }
   },
   "outputs": [
    {
     "data": {
      "text/plain": [
       "Text(0, 0.5, 'human label (fraction of annotators)')"
      ]
     },
     "execution_count": 65,
     "metadata": {},
     "output_type": "execute_result"
    },
    {
     "data": {
      "image/png": "[encoded data removed]",
      "text/plain": [
       "<Figure size 640x480 with 1 Axes>"
      ]
     },
     "metadata": {},
     "output_type": "display_data"
    }
   ],
   "source": [
    "import matplotlib.pyplot as plt\n",
    "\n",
    "plt.scatter(x=samples2['api_proba'], y=samples2['toxicity'], s=0.1)\n",
    "plt.xlabel('api proba')\n",
    "plt.ylabel('human label (fraction of annotators)')"
   ]
  },
  {
   "cell_type": "code",
   "execution_count": 74,
   "metadata": {
    "vscode": {
     "languageId": "python"
    }
   },
   "outputs": [
    {
     "data": {
      "text/plain": [
       "Text(0, 0.5, 'human label (fraction of annotators)')"
      ]
     },
     "execution_count": 74,
     "metadata": {},
     "output_type": "execute_result"
    },
    {
     "data": {
      "image/png": "[encoded data removed]",
      "text/plain": [
       "<Figure size 640x480 with 1 Axes>"
      ]
     },
     "metadata": {},
     "output_type": "display_data"
    }
   ],
   "source": [
    "plt.scatter(x=samples2['mod_proba'], y=samples2['toxicity'], s=0.1)\n",
    "plt.xlabel('model proba')\n",
    "plt.ylabel('human label (fraction of annotators)')"
   ]
  },
  {
   "cell_type": "code",
   "execution_count": 90,
   "metadata": {
    "vscode": {
     "languageId": "python"
    }
   },
   "outputs": [
    {
     "data": {
      "text/html": [
       "<div>\n",
       "<style scoped>\n",
       "    .dataframe tbody tr th:only-of-type {\n",
       "        vertical-align: middle;\n",
       "    }\n",
       "\n",
       "    .dataframe tbody tr th {\n",
       "        vertical-align: top;\n",
       "    }\n",
       "\n",
       "    .dataframe thead th {\n",
       "        text-align: right;\n",
       "    }\n",
       "</style>\n",
       "<table border=\"1\" class=\"dataframe\">\n",
       "  <thead>\n",
       "    <tr style=\"text-align: right;\">\n",
       "      <th></th>\n",
       "      <th>index</th>\n",
       "      <th>text</th>\n",
       "      <th>api_proba</th>\n",
       "      <th>label</th>\n",
       "      <th>mod_proba</th>\n",
       "      <th>comment_text</th>\n",
       "      <th>toxicity</th>\n",
       "      <th>toxicity_annotator_count</th>\n",
       "      <th>obscene</th>\n",
       "      <th>sexual_explicit</th>\n",
       "      <th>identity_attack</th>\n",
       "      <th>insult</th>\n",
       "      <th>threat</th>\n",
       "    </tr>\n",
       "  </thead>\n",
       "  <tbody>\n",
       "    <tr>\n",
       "      <th>12842</th>\n",
       "      <td>14138</td>\n",
       "      <td>Not surprised.  Most Russians are criminals an...</td>\n",
       "      <td>3.11e-02</td>\n",
       "      <td>1</td>\n",
       "      <td>1.0</td>\n",
       "      <td>Not surprised.  Most Russians are criminals an...</td>\n",
       "      <td>0.92</td>\n",
       "      <td>1878</td>\n",
       "      <td>1.19e-01</td>\n",
       "      <td>1.17e-02</td>\n",
       "      <td>9.11e-01</td>\n",
       "      <td>0.90</td>\n",
       "      <td>1.06e-03</td>\n",
       "    </tr>\n",
       "    <tr>\n",
       "      <th>13775</th>\n",
       "      <td>60806</td>\n",
       "      <td>Yeesh what is this world coming to.  Oh no, so...</td>\n",
       "      <td>9.61e-02</td>\n",
       "      <td>1</td>\n",
       "      <td>1.0</td>\n",
       "      <td>Yeesh what is this world coming to.  Oh no, so...</td>\n",
       "      <td>0.90</td>\n",
       "      <td>1842</td>\n",
       "      <td>6.18e-01</td>\n",
       "      <td>1.14e-02</td>\n",
       "      <td>7.25e-01</td>\n",
       "      <td>0.89</td>\n",
       "      <td>6.51e-03</td>\n",
       "    </tr>\n",
       "    <tr>\n",
       "      <th>15334</th>\n",
       "      <td>62944</td>\n",
       "      <td>I guess you forgot the meaning of \"Freedom of ...</td>\n",
       "      <td>3.78e-02</td>\n",
       "      <td>1</td>\n",
       "      <td>1.0</td>\n",
       "      <td>I guess you forgot the meaning of \"Freedom of ...</td>\n",
       "      <td>0.85</td>\n",
       "      <td>1833</td>\n",
       "      <td>7.40e-01</td>\n",
       "      <td>1.36e-02</td>\n",
       "      <td>2.35e-01</td>\n",
       "      <td>0.83</td>\n",
       "      <td>4.91e-03</td>\n",
       "    </tr>\n",
       "    <tr>\n",
       "      <th>18894</th>\n",
       "      <td>16146</td>\n",
       "      <td>No, you're not wrong.  What you are is boorish...</td>\n",
       "      <td>2.60e-02</td>\n",
       "      <td>1</td>\n",
       "      <td>1.0</td>\n",
       "      <td>No, you're not wrong.  What you are is boorish...</td>\n",
       "      <td>0.96</td>\n",
       "      <td>1820</td>\n",
       "      <td>8.24e-03</td>\n",
       "      <td>5.49e-04</td>\n",
       "      <td>2.20e-03</td>\n",
       "      <td>0.95</td>\n",
       "      <td>2.20e-03</td>\n",
       "    </tr>\n",
       "    <tr>\n",
       "      <th>17531</th>\n",
       "      <td>56393</td>\n",
       "      <td>Of COURSE you have a choice. What garbage. Unb...</td>\n",
       "      <td>1.41e-02</td>\n",
       "      <td>1</td>\n",
       "      <td>1.0</td>\n",
       "      <td>Of COURSE you have a choice. What garbage. Unb...</td>\n",
       "      <td>0.93</td>\n",
       "      <td>1725</td>\n",
       "      <td>4.12e-02</td>\n",
       "      <td>5.80e-04</td>\n",
       "      <td>4.64e-03</td>\n",
       "      <td>0.91</td>\n",
       "      <td>4.87e-02</td>\n",
       "    </tr>\n",
       "    <tr>\n",
       "      <th>...</th>\n",
       "      <td>...</td>\n",
       "      <td>...</td>\n",
       "      <td>...</td>\n",
       "      <td>...</td>\n",
       "      <td>...</td>\n",
       "      <td>...</td>\n",
       "      <td>...</td>\n",
       "      <td>...</td>\n",
       "      <td>...</td>\n",
       "      <td>...</td>\n",
       "      <td>...</td>\n",
       "      <td>...</td>\n",
       "      <td>...</td>\n",
       "    </tr>\n",
       "    <tr>\n",
       "      <th>14832</th>\n",
       "      <td>23731</td>\n",
       "      <td>\"“No politician in history, and I say this wit...</td>\n",
       "      <td>4.98e-02</td>\n",
       "      <td>1</td>\n",
       "      <td>1.0</td>\n",
       "      <td>\"“No politician in history, and I say this wit...</td>\n",
       "      <td>1.00</td>\n",
       "      <td>4</td>\n",
       "      <td>0.00e+00</td>\n",
       "      <td>0.00e+00</td>\n",
       "      <td>0.00e+00</td>\n",
       "      <td>1.00</td>\n",
       "      <td>0.00e+00</td>\n",
       "    </tr>\n",
       "    <tr>\n",
       "      <th>15814</th>\n",
       "      <td>12399</td>\n",
       "      <td>Sorry Ken. I guess you shouldn't have nominate...</td>\n",
       "      <td>6.41e-03</td>\n",
       "      <td>1</td>\n",
       "      <td>1.0</td>\n",
       "      <td>Sorry Ken. I guess you shouldn't have nominate...</td>\n",
       "      <td>1.00</td>\n",
       "      <td>4</td>\n",
       "      <td>0.00e+00</td>\n",
       "      <td>0.00e+00</td>\n",
       "      <td>0.00e+00</td>\n",
       "      <td>1.00</td>\n",
       "      <td>0.00e+00</td>\n",
       "    </tr>\n",
       "    <tr>\n",
       "      <th>15806</th>\n",
       "      <td>15368</td>\n",
       "      <td>Democrats can reliably win the Peoples' Republ...</td>\n",
       "      <td>1.40e-02</td>\n",
       "      <td>1</td>\n",
       "      <td>1.0</td>\n",
       "      <td>Democrats can reliably win the Peoples' Republ...</td>\n",
       "      <td>1.00</td>\n",
       "      <td>4</td>\n",
       "      <td>0.00e+00</td>\n",
       "      <td>0.00e+00</td>\n",
       "      <td>0.00e+00</td>\n",
       "      <td>1.00</td>\n",
       "      <td>0.00e+00</td>\n",
       "    </tr>\n",
       "    <tr>\n",
       "      <th>19241</th>\n",
       "      <td>42145</td>\n",
       "      <td>You will find the same thing on any article th...</td>\n",
       "      <td>8.86e-03</td>\n",
       "      <td>1</td>\n",
       "      <td>1.0</td>\n",
       "      <td>You will find the same thing on any article th...</td>\n",
       "      <td>1.00</td>\n",
       "      <td>4</td>\n",
       "      <td>0.00e+00</td>\n",
       "      <td>0.00e+00</td>\n",
       "      <td>0.00e+00</td>\n",
       "      <td>1.00</td>\n",
       "      <td>0.00e+00</td>\n",
       "    </tr>\n",
       "    <tr>\n",
       "      <th>13377</th>\n",
       "      <td>39314</td>\n",
       "      <td>Only one comment.  Shows where people's heads ...</td>\n",
       "      <td>1.63e-02</td>\n",
       "      <td>1</td>\n",
       "      <td>1.0</td>\n",
       "      <td>Only one comment.  Shows where people's heads ...</td>\n",
       "      <td>1.00</td>\n",
       "      <td>4</td>\n",
       "      <td>0.00e+00</td>\n",
       "      <td>0.00e+00</td>\n",
       "      <td>0.00e+00</td>\n",
       "      <td>1.00</td>\n",
       "      <td>0.00e+00</td>\n",
       "    </tr>\n",
       "  </tbody>\n",
       "</table>\n",
       "<p>2040 rows × 13 columns</p>\n",
       "</div>"
      ],
      "text/plain": [
       "       index                                               text  api_proba  \\\n",
       "12842  14138  Not surprised.  Most Russians are criminals an...   3.11e-02   \n",
       "13775  60806  Yeesh what is this world coming to.  Oh no, so...   9.61e-02   \n",
       "15334  62944  I guess you forgot the meaning of \"Freedom of ...   3.78e-02   \n",
       "18894  16146  No, you're not wrong.  What you are is boorish...   2.60e-02   \n",
       "17531  56393  Of COURSE you have a choice. What garbage. Unb...   1.41e-02   \n",
       "...      ...                                                ...        ...   \n",
       "14832  23731  \"“No politician in history, and I say this wit...   4.98e-02   \n",
       "15814  12399  Sorry Ken. I guess you shouldn't have nominate...   6.41e-03   \n",
       "15806  15368  Democrats can reliably win the Peoples' Republ...   1.40e-02   \n",
       "19241  42145  You will find the same thing on any article th...   8.86e-03   \n",
       "13377  39314  Only one comment.  Shows where people's heads ...   1.63e-02   \n",
       "\n",
       "       label  mod_proba                                       comment_text  \\\n",
       "12842      1        1.0  Not surprised.  Most Russians are criminals an...   \n",
       "13775      1        1.0  Yeesh what is this world coming to.  Oh no, so...   \n",
       "15334      1        1.0  I guess you forgot the meaning of \"Freedom of ...   \n",
       "18894      1        1.0  No, you're not wrong.  What you are is boorish...   \n",
       "17531      1        1.0  Of COURSE you have a choice. What garbage. Unb...   \n",
       "...      ...        ...                                                ...   \n",
       "14832      1        1.0  \"“No politician in history, and I say this wit...   \n",
       "15814      1        1.0  Sorry Ken. I guess you shouldn't have nominate...   \n",
       "15806      1        1.0  Democrats can reliably win the Peoples' Republ...   \n",
       "19241      1        1.0  You will find the same thing on any article th...   \n",
       "13377      1        1.0  Only one comment.  Shows where people's heads ...   \n",
       "\n",
       "       toxicity  toxicity_annotator_count   obscene  sexual_explicit  \\\n",
       "12842      0.92                      1878  1.19e-01         1.17e-02   \n",
       "13775      0.90                      1842  6.18e-01         1.14e-02   \n",
       "15334      0.85                      1833  7.40e-01         1.36e-02   \n",
       "18894      0.96                      1820  8.24e-03         5.49e-04   \n",
       "17531      0.93                      1725  4.12e-02         5.80e-04   \n",
       "...         ...                       ...       ...              ...   \n",
       "14832      1.00                         4  0.00e+00         0.00e+00   \n",
       "15814      1.00                         4  0.00e+00         0.00e+00   \n",
       "15806      1.00                         4  0.00e+00         0.00e+00   \n",
       "19241      1.00                         4  0.00e+00         0.00e+00   \n",
       "13377      1.00                         4  0.00e+00         0.00e+00   \n",
       "\n",
       "       identity_attack  insult    threat  \n",
       "12842         9.11e-01    0.90  1.06e-03  \n",
       "13775         7.25e-01    0.89  6.51e-03  \n",
       "15334         2.35e-01    0.83  4.91e-03  \n",
       "18894         2.20e-03    0.95  2.20e-03  \n",
       "17531         4.64e-03    0.91  4.87e-02  \n",
       "...                ...     ...       ...  \n",
       "14832         0.00e+00    1.00  0.00e+00  \n",
       "15814         0.00e+00    1.00  0.00e+00  \n",
       "15806         0.00e+00    1.00  0.00e+00  \n",
       "19241         0.00e+00    1.00  0.00e+00  \n",
       "13377         0.00e+00    1.00  0.00e+00  \n",
       "\n",
       "[2040 rows x 13 columns]"
      ]
     },
     "execution_count": 90,
     "metadata": {},
     "output_type": "execute_result"
    }
   ],
   "source": [
    "pd.set_option('display.precision', 2)\n",
    "# probe samples that have low api scores but high toxicity (label)\n",
    "samples2.loc[(samples2['api_proba']<0.1) & (samples2['toxicity']>0.5),:].sort_values(by='toxicity_annotator_count', ascending=False)"
   ]
  },
  {
   "cell_type": "code",
   "execution_count": 81,
   "metadata": {
    "vscode": {
     "languageId": "python"
    }
   },
   "outputs": [
    {
     "name": "stdout",
     "output_type": "stream",
     "text": [
      "Not surprised.  Most Russians are criminals and their women are skanks and users...\n"
     ]
    }
   ],
   "source": [
    "print(samples2.loc[12842, \"text\"])\n",
    "print(samples2.loc[12842, \"text\"])"
   ]
  },
  {
   "cell_type": "code",
   "execution_count": 73,
   "metadata": {
    "vscode": {
     "languageId": "python"
    }
   },
   "outputs": [
    {
     "data": {
      "text/plain": [
       "\"Yeesh what is this world coming to.  Oh no, someone called me a Canuck the other day, my feelings are now hurt, I better take time off work and sue someone.\\nMy apology would have gone like this:  I'm very sorry you are a bunch of queers!!!!\""
      ]
     },
     "execution_count": 73,
     "metadata": {},
     "output_type": "execute_result"
    }
   ],
   "source": [
    "samples2.loc[13775, \"text\"]"
   ]
  },
  {
   "cell_type": "code",
   "execution_count": 77,
   "metadata": {
    "vscode": {
     "languageId": "python"
    }
   },
   "outputs": [
    {
     "data": {
      "text/plain": [
       "\"Democrats can reliably win the Peoples' Republic of Juneau's downtown district, a couple or three districts in Anchorage, downtown, the U-Med, and East Anchorage, a district or two in Fairbanks, and a couple of rural districts.   It's been that way for thirty years.   Sometimes the Ds come up with a particularly attractive candidate that can win in some other districts and sometimes they put up candidates that sound more like conservatives than most Republicans do.   All the Democrat efforts in redistricting have been to try to dilute solidly Republican areas so they have some hope of coalitions.   Now their toy is false-flag Republicans backed by the Democrats for districts where a D is the kiss of death.   You lefties liked gerrymandering when Knowles led the reapportionment in '00.   Hypocrites!\""
      ]
     },
     "execution_count": 77,
     "metadata": {},
     "output_type": "execute_result"
    }
   ],
   "source": [
    "samples2.loc[15806, \"text\"]"
   ]
  }
 ],
 "metadata": {
  "kernelspec": {
   "display_name": "Python 3 (ipykernel)",
   "language": "python",
   "name": "python3"
  },
  "orig_nbformat": 4
 },
 "nbformat": 4,
 "nbformat_minor": 2
}
