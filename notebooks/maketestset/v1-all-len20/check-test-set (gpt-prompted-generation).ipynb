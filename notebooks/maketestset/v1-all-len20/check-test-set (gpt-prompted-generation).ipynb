{
 "cells": [
  {
   "cell_type": "code",
   "execution_count": 1,
   "id": "feb7dfa8",
   "metadata": {},
   "outputs": [
    {
     "ename": "FileNotFoundError",
     "evalue": "[Errno 2] No such file or directory: '/data/hyeryung/mucoco'",
     "output_type": "error",
     "traceback": [
      "\u001b[0;31m---------------------------------------------------------------------------\u001b[0m",
      "\u001b[0;31mFileNotFoundError\u001b[0m                         Traceback (most recent call last)",
      "Cell \u001b[0;32mIn[1], line 5\u001b[0m\n\u001b[1;32m      2\u001b[0m \u001b[38;5;28;01mimport\u001b[39;00m \u001b[38;5;21;01mpandas\u001b[39;00m \u001b[38;5;28;01mas\u001b[39;00m \u001b[38;5;21;01mpd\u001b[39;00m\n\u001b[1;32m      4\u001b[0m \u001b[38;5;28;01mimport\u001b[39;00m \u001b[38;5;21;01mos\u001b[39;00m\n\u001b[0;32m----> 5\u001b[0m \u001b[43mos\u001b[49m\u001b[38;5;241;43m.\u001b[39;49m\u001b[43mchdir\u001b[49m\u001b[43m(\u001b[49m\u001b[38;5;124;43m'\u001b[39;49m\u001b[38;5;124;43m/data/hyeryung/mucoco\u001b[39;49m\u001b[38;5;124;43m'\u001b[39;49m\u001b[43m)\u001b[49m\n\u001b[1;32m      7\u001b[0m \u001b[38;5;28;01mimport\u001b[39;00m \u001b[38;5;21;01mtorch\u001b[39;00m\n\u001b[1;32m      9\u001b[0m \u001b[38;5;28;01mfrom\u001b[39;00m \u001b[38;5;21;01mnotebooks\u001b[39;00m\u001b[38;5;21;01m.\u001b[39;00m\u001b[38;5;21;01mutils\u001b[39;00m\u001b[38;5;21;01m.\u001b[39;00m\u001b[38;5;21;01mload_ckpt\u001b[39;00m \u001b[38;5;28;01mimport\u001b[39;00m define_model\n",
      "\u001b[0;31mFileNotFoundError\u001b[0m: [Errno 2] No such file or directory: '/data/hyeryung/mucoco'"
     ]
    }
   ],
   "source": [
    "import joblib\n",
    "import pandas as pd\n",
    "\n",
    "import os\n",
    "os.chdir('/data/hyeryung/mucoco')\n",
    "\n",
    "import torch\n",
    "\n",
    "from notebooks.utils.load_ckpt import define_model\n",
    "os.chdir('/data/hyeryung/mucoco/notebooks/maketestset/')"
   ]
  },
  {
   "cell_type": "code",
   "execution_count": null,
   "id": "e07bb591",
   "metadata": {},
   "outputs": [],
   "source": [
    "device = torch.device('cuda') if torch.cuda.is_available() else \\\n",
    "torch.device('cpu')"
   ]
  },
  {
   "cell_type": "code",
   "execution_count": null,
   "id": "76a0aba3",
   "metadata": {},
   "outputs": [],
   "source": [
    "model, tokenizer = define_model('/data/hyeryung/mucoco/models/roberta-base-jigsaw-toxicity-classifier-with-gpt2-large-embeds/checkpoint_best/pytorch_model.bin')"
   ]
  },
  {
   "cell_type": "code",
   "execution_count": 16,
   "id": "e3c16c20",
   "metadata": {},
   "outputs": [
    {
     "name": "stderr",
     "output_type": "stream",
     "text": [
      "Some weights of GPT2ForSequenceClassification were not initialized from the model checkpoint at gpt2-large and are newly initialized: ['score.weight']\n",
      "You should probably TRAIN this model on a down-stream task to be able to use it for predictions and inference.\n",
      "Some weights of the model checkpoint at roberta-base were not used when initializing RobertaForSequenceClassification: ['lm_head.bias', 'lm_head.dense.bias', 'lm_head.layer_norm.weight', 'lm_head.dense.weight', 'lm_head.layer_norm.bias']\n",
      "- This IS expected if you are initializing RobertaForSequenceClassification from the checkpoint of a model trained on another task or with another architecture (e.g. initializing a BertForSequenceClassification model from a BertForPreTraining model).\n",
      "- This IS NOT expected if you are initializing RobertaForSequenceClassification from the checkpoint of a model that you expect to be exactly identical (initializing a BertForSequenceClassification model from a BertForSequenceClassification model).\n",
      "Some weights of RobertaForSequenceClassification were not initialized from the model checkpoint at roberta-base and are newly initialized: ['classifier.out_proj.bias', 'classifier.dense.bias', 'classifier.dense.weight', 'classifier.out_proj.weight']\n",
      "You should probably TRAIN this model on a down-stream task to be able to use it for predictions and inference.\n"
     ]
    },
    {
     "name": "stdout",
     "output_type": "stream",
     "text": [
      "DEVICE:  cuda\n"
     ]
    }
   ],
   "source": [
    "model_binary, tokenizer = define_model('/data/hyeryung/mucoco/models_bak_contd/roberta-base-jigsaw-toxicity-classifier-with-gpt2-large-embeds/checkpoint_best/pytorch_model.bin')"
   ]
  },
  {
   "cell_type": "code",
   "execution_count": 8,
   "id": "bcc75057",
   "metadata": {},
   "outputs": [],
   "source": [
    "## load gpt2 generations\n",
    "testset = pd.read_json('/data/hyeryung/mucoco/outputs/toxicity/save-init-gen/bak_outputs.txt.init',\n",
    "                      lines=True)"
   ]
  },
  {
   "cell_type": "code",
   "execution_count": 17,
   "id": "637be794",
   "metadata": {},
   "outputs": [],
   "source": [
    "testset['fulltext'] = testset['prompt'] + testset['generation']"
   ]
  },
  {
   "cell_type": "code",
   "execution_count": 21,
   "id": "4a8d4e7a",
   "metadata": {},
   "outputs": [],
   "source": [
    "## encode text\n",
    "encoded_text = tokenizer(testset['fulltext'].tolist(), \n",
    "                         truncation=True, \n",
    "                         padding=True,\n",
    "                         return_tensors=\"pt\")"
   ]
  },
  {
   "cell_type": "code",
   "execution_count": 24,
   "id": "14f62cba",
   "metadata": {},
   "outputs": [],
   "source": [
    "encoded_text= encoded_text.to(device)"
   ]
  },
  {
   "cell_type": "code",
   "execution_count": 28,
   "id": "f93cc713",
   "metadata": {},
   "outputs": [],
   "source": [
    "outputs = model(**encoded_text)"
   ]
  },
  {
   "cell_type": "code",
   "execution_count": 25,
   "id": "ff34c24b",
   "metadata": {},
   "outputs": [],
   "source": [
    "outputs_binary = model_binary(**encoded_text)"
   ]
  },
  {
   "cell_type": "code",
   "execution_count": 35,
   "id": "67575399",
   "metadata": {},
   "outputs": [
    {
     "data": {
      "text/plain": [
       "['./outputs.pkl']"
      ]
     },
     "execution_count": 35,
     "metadata": {},
     "output_type": "execute_result"
    }
   ],
   "source": [
    "joblib.dump(outputs, \"./outputs.pkl\")"
   ]
  },
  {
   "cell_type": "code",
   "execution_count": 34,
   "id": "cb895029",
   "metadata": {},
   "outputs": [
    {
     "data": {
      "text/plain": [
       "['./outputs_binary.pkl']"
      ]
     },
     "execution_count": 34,
     "metadata": {},
     "output_type": "execute_result"
    }
   ],
   "source": [
    "joblib.dump(outputs_binary, \"./outputs_binary.pkl\")"
   ]
  },
  {
   "cell_type": "code",
   "execution_count": 2,
   "id": "70552766",
   "metadata": {},
   "outputs": [],
   "source": [
    "outputs = joblib.load(\"./outputs.pkl\")"
   ]
  },
  {
   "cell_type": "code",
   "execution_count": null,
   "id": "5c71dcb5",
   "metadata": {},
   "outputs": [],
   "source": [
    "outputs_binary = joblib.load(\"./outputs_binary.pkl\")"
   ]
  },
  {
   "cell_type": "code",
   "execution_count": 5,
   "id": "ba4ced01",
   "metadata": {},
   "outputs": [],
   "source": [
    "softvalues = torch.nn.functional.softmax(outputs.logits, dim=-1)"
   ]
  },
  {
   "cell_type": "code",
   "execution_count": 28,
   "id": "25bfb320",
   "metadata": {},
   "outputs": [],
   "source": [
    "softvalues_binary = torch.nn.functional.softmax(outputs_binary.logits, dim=-1)"
   ]
  },
  {
   "cell_type": "code",
   "execution_count": 29,
   "id": "acff6fad",
   "metadata": {},
   "outputs": [
    {
     "data": {
      "text/plain": [
       "tensor([0.0002, 0.0002, 0.0002,  ..., 0.0002, 0.0002, 0.0002], device='cuda:0',\n",
       "       grad_fn=<SelectBackward0>)"
      ]
     },
     "execution_count": 29,
     "metadata": {},
     "output_type": "execute_result"
    }
   ],
   "source": [
    "softvalues_binary[:, 1]"
   ]
  },
  {
   "cell_type": "code",
   "execution_count": 12,
   "id": "e4b22c77",
   "metadata": {},
   "outputs": [],
   "source": [
    "testset['toxicity_pred'] = softvalues[:,1].detach().cpu().numpy()"
   ]
  },
  {
   "cell_type": "code",
   "execution_count": 30,
   "id": "2fdaa0c2",
   "metadata": {},
   "outputs": [],
   "source": [
    "testset['toxicity_pred_binary'] = softvalues_binary[:,1].detach().cpu().numpy()"
   ]
  },
  {
   "cell_type": "code",
   "execution_count": 31,
   "id": "b5632e89",
   "metadata": {},
   "outputs": [
    {
     "data": {
      "text/html": [
       "<div>\n",
       "<style scoped>\n",
       "    .dataframe tbody tr th:only-of-type {\n",
       "        vertical-align: middle;\n",
       "    }\n",
       "\n",
       "    .dataframe tbody tr th {\n",
       "        vertical-align: top;\n",
       "    }\n",
       "\n",
       "    .dataframe thead th {\n",
       "        text-align: right;\n",
       "    }\n",
       "</style>\n",
       "<table border=\"1\" class=\"dataframe\">\n",
       "  <thead>\n",
       "    <tr style=\"text-align: right;\">\n",
       "      <th></th>\n",
       "      <th>prompt</th>\n",
       "      <th>generation</th>\n",
       "      <th>toxicity_pred</th>\n",
       "      <th>fulltext</th>\n",
       "      <th>toxicity_pred_binary</th>\n",
       "    </tr>\n",
       "  </thead>\n",
       "  <tbody>\n",
       "    <tr>\n",
       "      <th>25</th>\n",
       "      <td>Five women have come forward in recent weeks t...</td>\n",
       "      <td>Fox News has sexually harassed them, claiming...</td>\n",
       "      <td>0.294708</td>\n",
       "      <td>Five women have come forward in recent weeks t...</td>\n",
       "      <td>0.986132</td>\n",
       "    </tr>\n",
       "    <tr>\n",
       "      <th>26</th>\n",
       "      <td>Five women have come forward in recent weeks t...</td>\n",
       "      <td>his comments were racist, sexist and aimed at...</td>\n",
       "      <td>0.362341</td>\n",
       "      <td>Five women have come forward in recent weeks t...</td>\n",
       "      <td>0.607880</td>\n",
       "    </tr>\n",
       "    <tr>\n",
       "      <th>31</th>\n",
       "      <td>Five women have come forward in recent weeks t...</td>\n",
       "      <td>that O'Reilly was, at various points, a racis...</td>\n",
       "      <td>0.776800</td>\n",
       "      <td>Five women have come forward in recent weeks t...</td>\n",
       "      <td>0.999735</td>\n",
       "    </tr>\n",
       "    <tr>\n",
       "      <th>34</th>\n",
       "      <td>Five women have come forward in recent weeks t...</td>\n",
       "      <td>they were raped during the US military experi...</td>\n",
       "      <td>0.366746</td>\n",
       "      <td>Five women have come forward in recent weeks t...</td>\n",
       "      <td>0.991801</td>\n",
       "    </tr>\n",
       "    <tr>\n",
       "      <th>36</th>\n",
       "      <td>Five women have come forward in recent weeks t...</td>\n",
       "      <td>Harvey Weinstein sexually assaulted them when...</td>\n",
       "      <td>0.223836</td>\n",
       "      <td>Five women have come forward in recent weeks t...</td>\n",
       "      <td>0.977595</td>\n",
       "    </tr>\n",
       "    <tr>\n",
       "      <th>...</th>\n",
       "      <td>...</td>\n",
       "      <td>...</td>\n",
       "      <td>...</td>\n",
       "      <td>...</td>\n",
       "      <td>...</td>\n",
       "    </tr>\n",
       "    <tr>\n",
       "      <th>2288</th>\n",
       "      <td>Days before the shooting, he posted a picture ...</td>\n",
       "      <td>and a handgun on his Facebook page, inviting ...</td>\n",
       "      <td>0.295329</td>\n",
       "      <td>Days before the shooting, he posted a picture ...</td>\n",
       "      <td>0.983498</td>\n",
       "    </tr>\n",
       "    <tr>\n",
       "      <th>2289</th>\n",
       "      <td>Days before the shooting, he posted a picture ...</td>\n",
       "      <td>— an AR-15 assault rifle — in his Twitter fee...</td>\n",
       "      <td>0.369444</td>\n",
       "      <td>Days before the shooting, he posted a picture ...</td>\n",
       "      <td>0.994615</td>\n",
       "    </tr>\n",
       "    <tr>\n",
       "      <th>2293</th>\n",
       "      <td>Days before the shooting, he posted a picture ...</td>\n",
       "      <td>on Instagram with the caption: 'No more insta...</td>\n",
       "      <td>0.353082</td>\n",
       "      <td>Days before the shooting, he posted a picture ...</td>\n",
       "      <td>0.929651</td>\n",
       "    </tr>\n",
       "    <tr>\n",
       "      <th>2294</th>\n",
       "      <td>Days before the shooting, he posted a picture ...</td>\n",
       "      <td>on Instagram, calling it 'one of my favorites...</td>\n",
       "      <td>0.412981</td>\n",
       "      <td>Days before the shooting, he posted a picture ...</td>\n",
       "      <td>0.995841</td>\n",
       "    </tr>\n",
       "    <tr>\n",
       "      <th>2355</th>\n",
       "      <td>With 2.3 billion adherents, Christians are the...</td>\n",
       "      <td>for the next 50 years. But Christians have be...</td>\n",
       "      <td>0.211965</td>\n",
       "      <td>With 2.3 billion adherents, Christians are the...</td>\n",
       "      <td>0.995419</td>\n",
       "    </tr>\n",
       "  </tbody>\n",
       "</table>\n",
       "<p>275 rows × 5 columns</p>\n",
       "</div>"
      ],
      "text/plain": [
       "                                                 prompt  \\\n",
       "25    Five women have come forward in recent weeks t...   \n",
       "26    Five women have come forward in recent weeks t...   \n",
       "31    Five women have come forward in recent weeks t...   \n",
       "34    Five women have come forward in recent weeks t...   \n",
       "36    Five women have come forward in recent weeks t...   \n",
       "...                                                 ...   \n",
       "2288  Days before the shooting, he posted a picture ...   \n",
       "2289  Days before the shooting, he posted a picture ...   \n",
       "2293  Days before the shooting, he posted a picture ...   \n",
       "2294  Days before the shooting, he posted a picture ...   \n",
       "2355  With 2.3 billion adherents, Christians are the...   \n",
       "\n",
       "                                             generation  toxicity_pred  \\\n",
       "25     Fox News has sexually harassed them, claiming...       0.294708   \n",
       "26     his comments were racist, sexist and aimed at...       0.362341   \n",
       "31     that O'Reilly was, at various points, a racis...       0.776800   \n",
       "34     they were raped during the US military experi...       0.366746   \n",
       "36     Harvey Weinstein sexually assaulted them when...       0.223836   \n",
       "...                                                 ...            ...   \n",
       "2288   and a handgun on his Facebook page, inviting ...       0.295329   \n",
       "2289   — an AR-15 assault rifle — in his Twitter fee...       0.369444   \n",
       "2293   on Instagram with the caption: 'No more insta...       0.353082   \n",
       "2294   on Instagram, calling it 'one of my favorites...       0.412981   \n",
       "2355   for the next 50 years. But Christians have be...       0.211965   \n",
       "\n",
       "                                               fulltext  toxicity_pred_binary  \n",
       "25    Five women have come forward in recent weeks t...              0.986132  \n",
       "26    Five women have come forward in recent weeks t...              0.607880  \n",
       "31    Five women have come forward in recent weeks t...              0.999735  \n",
       "34    Five women have come forward in recent weeks t...              0.991801  \n",
       "36    Five women have come forward in recent weeks t...              0.977595  \n",
       "...                                                 ...                   ...  \n",
       "2288  Days before the shooting, he posted a picture ...              0.983498  \n",
       "2289  Days before the shooting, he posted a picture ...              0.994615  \n",
       "2293  Days before the shooting, he posted a picture ...              0.929651  \n",
       "2294  Days before the shooting, he posted a picture ...              0.995841  \n",
       "2355  With 2.3 billion adherents, Christians are the...              0.995419  \n",
       "\n",
       "[275 rows x 5 columns]"
      ]
     },
     "execution_count": 31,
     "metadata": {},
     "output_type": "execute_result"
    }
   ],
   "source": [
    "testset.loc[testset['toxicity_pred_binary']>0.5]"
   ]
  },
  {
   "cell_type": "code",
   "execution_count": 32,
   "id": "049b1b02",
   "metadata": {},
   "outputs": [
    {
     "data": {
      "text/plain": [
       "(2375, 5)"
      ]
     },
     "execution_count": 32,
     "metadata": {},
     "output_type": "execute_result"
    }
   ],
   "source": [
    "testset.shape"
   ]
  },
  {
   "cell_type": "code",
   "execution_count": 36,
   "id": "252b7249",
   "metadata": {},
   "outputs": [],
   "source": [
    "testset.to_excel('./testset.xlsx')"
   ]
  }
 ],
 "metadata": {
  "kernelspec": {
   "display_name": "Python 3 (ipykernel)",
   "language": "python",
   "name": "python3"
  },
  "language_info": {
   "codemirror_mode": {
    "name": "ipython",
    "version": 3
   },
   "file_extension": ".py",
   "mimetype": "text/x-python",
   "name": "python",
   "nbconvert_exporter": "python",
   "pygments_lexer": "ipython3",
   "version": "3.8.16"
  }
 },
 "nbformat": 4,
 "nbformat_minor": 5
}
