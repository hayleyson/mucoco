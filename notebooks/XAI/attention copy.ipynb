{
 "cells": [
  {
   "cell_type": "code",
   "execution_count": 1,
   "metadata": {},
   "outputs": [
    {
     "name": "stdout",
     "output_type": "stream",
     "text": [
      "/home/hyeryungson/mucoco\n"
     ]
    }
   ],
   "source": [
    "import os\n",
    "print(os.getcwd())\n",
    "rdir='/home/hyeryungson'\n",
    "os.chdir(os.path.join(rdir, 'mucoco/notebooks'))\n",
    "os.chdir(os.path.join(rdir, 'mucoco'))\n",
    "\n",
    "import torch\n",
    "from torch.utils.data import DataLoader\n",
    "import matplotlib.pyplot as plt\n",
    "import seaborn as sns\n",
    "from datasets import load_dataset\n",
    "from transformers import DataCollatorWithPadding, AutoModelForSequenceClassification, AutoTokenizer, AutoConfig"
   ]
  },
  {
   "cell_type": "code",
   "execution_count": 2,
   "metadata": {},
   "outputs": [],
   "source": [
    "# set gpu (template code)\n",
    "os.environ[\"CUDA_DEVICE_ORDER\"]=\"PCI_BUS_ID\"  # Arrange GPU devices starting from 0\n",
    "os.environ[\"CUDA_VISIBLE_DEVICES\"]= \"0\"  # Set the GPU 0 to use"
   ]
  },
  {
   "cell_type": "code",
   "execution_count": 3,
   "metadata": {},
   "outputs": [
    {
     "name": "stdout",
     "output_type": "stream",
     "text": [
      "Which cpu/cuda?: cuda\n",
      "Which device?: 0\n"
     ]
    }
   ],
   "source": [
    "# set device type\n",
    "DEVICE = torch.device('cuda') if torch.cuda.is_available() else torch.device('cpu')\n",
    "print(f\"Which cpu/cuda?: {DEVICE}\")\n",
    "print(f\"Which device?: {torch.cuda.current_device()}\")"
   ]
  },
  {
   "cell_type": "code",
   "execution_count": 5,
   "metadata": {},
   "outputs": [
    {
     "name": "stderr",
     "output_type": "stream",
     "text": [
      "Found cached dataset csv (/home/hyeryungson/.cache/huggingface/datasets/csv/default-f2c97d4747e75281/0.0.0/6954658bab30a358235fa864b05cf819af0e179325c740e4bc853bcc7ec513e1)\n"
     ]
    },
    {
     "data": {
      "application/vnd.jupyter.widget-view+json": {
       "model_id": "f373f6c02c1b47ee8caa4595e05fe0c0",
       "version_major": 2,
       "version_minor": 0
      },
      "text/plain": [
       "  0%|          | 0/1 [00:00<?, ?it/s]"
      ]
     },
     "metadata": {},
     "output_type": "display_data"
    },
    {
     "data": {
      "application/vnd.jupyter.widget-view+json": {
       "model_id": "7bd577915766444b8c3f3374b112caca",
       "version_major": 2,
       "version_minor": 0
      },
      "text/plain": [
       "Map:   0%|          | 0/4505 [00:00<?, ? examples/s]"
      ]
     },
     "metadata": {},
     "output_type": "display_data"
    },
    {
     "data": {
      "application/vnd.jupyter.widget-view+json": {
       "model_id": "ee14e16516774697a9ad8d4f5f336bab",
       "version_major": 2,
       "version_minor": 0
      },
      "text/plain": [
       "Filter:   0%|          | 0/4505 [00:00<?, ? examples/s]"
      ]
     },
     "metadata": {},
     "output_type": "display_data"
    }
   ],
   "source": [
    "# Define dataset\n",
    "toxicity_data = load_dataset(\"csv\", data_files=\"./notebooks/results/test_mucoco+add_preds2.csv\")\n",
    "# toxicity_data = load_dataset(\"json\", data_files=\"./data/toxicity/jigsaw-unintended-bias-in-toxicity-classification/fine-grained/train.jsonl\")\n",
    "\n",
    "# load trained model & tokenizer\n",
    "# checkpoint='/home/hyeryungson/mucoco/models/models_balanced/roberta-base-jigsaw-toxicity-classifier-with-gpt2-large-embeds/checkpoint_best/pytorch_model.bin' # balanced\n",
    "# model, tokenizer = define_model(checkpoint, output_attentions=True)\n",
    "\n",
    "checkpoint = 'mohsenfayyaz/toxicity-classifier'\n",
    "\n",
    "labels=[0,1]\n",
    "config = AutoConfig.from_pretrained(checkpoint, num_labels=len(labels))\n",
    "config.output_attentions = True ## set this option!\n",
    "model = AutoModelForSequenceClassification.from_pretrained(checkpoint, config=config)\n",
    "tokenizer = AutoTokenizer.from_pretrained(checkpoint)\n",
    "\n",
    "def tokenize_function(example):\n",
    "    return tokenizer(example[\"text\"], truncation=True)\n",
    "\n",
    "tokenized_dataset=toxicity_data.map(tokenize_function, batched=True)\n",
    "\n",
    "# remove unnecessary columns, rename columns\n",
    "tokenized_dataset = tokenized_dataset.remove_columns([\"text\"]) # drop columns except input_id, labels, attention_mask\n",
    "tokenized_dataset = tokenized_dataset.rename_column(\"toxicity\", \"labels\")\n",
    "tokenized_dataset.set_format(\"torch\")\n",
    "\n",
    "# select those samples that we want to debug (check attention scores of)\n",
    "tokenized_dataset_subset = tokenized_dataset[\"train\"].filter(lambda x: (x[\"labels\"]==1.0))\n",
    "\n",
    "# build data loader\n",
    "batch_size = 32\n",
    "data_collator = DataCollatorWithPadding(tokenizer=tokenizer)\n",
    "subset_dataloader = DataLoader(\n",
    "    dataset=tokenized_dataset_subset, shuffle=False, batch_size=batch_size, collate_fn=data_collator\n",
    ")"
   ]
  },
  {
   "cell_type": "code",
   "execution_count": 28,
   "metadata": {},
   "outputs": [
    {
     "data": {
      "text/plain": [
       "[100, 102, 0, 101, 103]"
      ]
     },
     "execution_count": 28,
     "metadata": {},
     "output_type": "execute_result"
    }
   ],
   "source": [
    "tokenizer.all_special_ids"
   ]
  },
  {
   "cell_type": "code",
   "execution_count": 29,
   "metadata": {},
   "outputs": [
    {
     "data": {
      "text/plain": [
       "['[UNK]', '[SEP]', '[PAD]', '[CLS]', '[MASK]']"
      ]
     },
     "execution_count": 29,
     "metadata": {},
     "output_type": "execute_result"
    }
   ],
   "source": [
    "tokenizer.convert_ids_to_tokens(tokenizer.all_special_ids)"
   ]
  },
  {
   "cell_type": "code",
   "execution_count": null,
   "metadata": {},
   "outputs": [],
   "source": [
    "def get_attention_per_token(cls_model, dataloader, layer_num=10, model_type=\"bert\",\n",
    "                            token_ids_to_skip=None,\n",
    "                            device=torch.device('cuda') if torch.cuda.is_available() else torch.device('cpu')):\n",
    "\n",
    "    layer_num=10\n",
    "    cls_attns_soft_list = []\n",
    "    input_id_list = []\n",
    "    labels_list = []\n",
    "    preds_list = []\n",
    "    cls_model.eval()\n",
    "    cls_model.to(device)\n",
    "    for batch in dataloader:\n",
    "        batch = {k: v.to(device) for k, v in batch.items()} # move training data to gpu\n",
    "        with torch.no_grad():\n",
    "            outputs = cls_model.forward(\n",
    "                batch[\"input_ids\"],\n",
    "                attention_mask=batch[\"attention_mask\"],\n",
    "            )\n",
    "        ############### main logic for looking at attentions for XAI : BEGIN ###############\n",
    "        attentions = outputs[\"attentions\"][layer_num]\n",
    "        if model_type == \"bert\": # reference: LEWIS paper\n",
    "            cls_attns = attentions.max(1)[0][1:, 0]  # [1:, 0] because we want to skip CLS token\n",
    "        elif model_type == \"gpt\":\n",
    "            cls_attns = attentions.max(1)[0][:, 0] # [:, ]\n",
    "        print(cls_attns)\n",
    "        cls_attns[cls_attns==0.0] = -float(\"inf\")\n",
    "        cls_attns_soft = cls_attns.softmax(-1)\n",
    "        ############### main logic for looking at attentions for XAI : END ###############\n",
    "        cls_attns_soft_list.append(cls_attns_soft)\n",
    "        input_id_list.append(batch[\"input_ids\"])\n",
    "        labels_list.append(batch[\"labels\"])\n",
    "        preds_list.append(outputs[\"logits\"].softmax(-1)[:,1])\n",
    "\n",
    "    for batch_num in range(len(cls_attns_soft_list)):\n",
    "        print(\"Batch: \", batch_num)\n",
    "        for ix in range(len(cls_attns_soft_list[batch_num])):\n",
    "\n",
    "            attn=cls_attns_soft_list[batch_num][ix][cls_attns_soft_list[batch_num][ix]!=0.0]\n",
    "            attn=attn.cpu().unsqueeze(0).numpy()\n",
    "            toks=tokenizer.convert_ids_to_tokens(input_id_list[batch_num][ix][torch.isin(input_id_list[batch_num][ix], torch.Tensor(token_ids_to_skip).to(device), invert=True)])\n",
    "            print(toks)\n",
    "            fig, ax = plt.subplots(figsize=(0.2 * len(toks), 0.5))\n",
    "            # sns.heatmap(attn, cbar=False,vmin=0, vmax=1)\n",
    "            sns.heatmap(attn, cbar=False, ax=ax)\n",
    "            for _x in range(attn.shape[-1]):\n",
    "                plt.text(_x, 0.8, toks[_x], size=8, color='gray', rotation=40)\n",
    "            plot_title = f\"{layer_num}th Layer Attn / Ground Truth: {labels_list[batch_num][ix]:.3f} / Pred: {preds_list[batch_num][ix]:.3f}\"\n",
    "            file_name = f\"./notebooks/XAI/fig/layer{layer_num}_gt{labels_list[batch_num][ix]:.3f}_pred{preds_list[batch_num][ix]:.3f}_ix{ix+32*batch_num}.png\"\n",
    "            plt.title(plot_title)\n",
    "            plt.savefig(file_name, bbox_inches=\"tight\")\n",
    "            plt.show()"
   ]
  },
  {
   "cell_type": "code",
   "execution_count": 51,
   "metadata": {},
   "outputs": [
    {
     "name": "stdout",
     "output_type": "stream",
     "text": [
      "Batch:  0\n",
      "['i', 'always', 'said', 'i', 'was', 'waiting', 'until', 'i', 'could', 'do', 'this', 'in', 'the', 'summer', '.', 'crap', 'what', 'will', 'my', 'excuse', 'be', 'now', '?', '?', '.', '.', '.', '.', '.', '.']\n"
     ]
    },
    {
     "data": {
      "image/png": "[encoded data removed]",
      "text/plain": [
       "<Figure size 600x50 with 1 Axes>"
      ]
     },
     "metadata": {},
     "output_type": "display_data"
    },
    {
     "name": "stdout",
     "output_type": "stream",
     "text": [
      "['in', 'a', 'word', ',', 'rubbish', '.']\n"
     ]
    },
    {
     "ename": "IndexError",
     "evalue": "list index out of range",
     "output_type": "error",
     "traceback": [
      "\u001b[0;31m---------------------------------------------------------------------------\u001b[0m",
      "\u001b[0;31mIndexError\u001b[0m                                Traceback (most recent call last)",
      "Cell \u001b[0;32mIn[51], line 1\u001b[0m\n\u001b[0;32m----> 1\u001b[0m get_attention_per_token(model, subset_dataloader, token_ids_to_skip\u001b[39m=\u001b[39;49m[\u001b[39m100\u001b[39;49m, \u001b[39m102\u001b[39;49m, \u001b[39m0\u001b[39;49m, \u001b[39m101\u001b[39;49m, \u001b[39m103\u001b[39;49m])\n",
      "Cell \u001b[0;32mIn[50], line 45\u001b[0m, in \u001b[0;36mget_attention_per_token\u001b[0;34m(cls_model, dataloader, layer_num, model_type, token_ids_to_skip, device)\u001b[0m\n\u001b[1;32m     43\u001b[0m sns\u001b[39m.\u001b[39mheatmap(attn, cbar\u001b[39m=\u001b[39m\u001b[39mFalse\u001b[39;00m, ax\u001b[39m=\u001b[39max)\n\u001b[1;32m     44\u001b[0m \u001b[39mfor\u001b[39;00m _x \u001b[39min\u001b[39;00m \u001b[39mrange\u001b[39m(attn\u001b[39m.\u001b[39mshape[\u001b[39m-\u001b[39m\u001b[39m1\u001b[39m]):\n\u001b[0;32m---> 45\u001b[0m     plt\u001b[39m.\u001b[39mtext(_x, \u001b[39m0.8\u001b[39m, toks[_x], size\u001b[39m=\u001b[39m\u001b[39m8\u001b[39m, color\u001b[39m=\u001b[39m\u001b[39m'\u001b[39m\u001b[39mgray\u001b[39m\u001b[39m'\u001b[39m, rotation\u001b[39m=\u001b[39m\u001b[39m40\u001b[39m)\n\u001b[1;32m     46\u001b[0m plot_title \u001b[39m=\u001b[39m \u001b[39mf\u001b[39m\u001b[39m\"\u001b[39m\u001b[39m{\u001b[39;00mlayer_num\u001b[39m}\u001b[39;00m\u001b[39mth Layer Attn / Ground Truth: \u001b[39m\u001b[39m{\u001b[39;00mlabels_list[batch_num][ix]\u001b[39m:\u001b[39;00m\u001b[39m.3f\u001b[39m\u001b[39m}\u001b[39;00m\u001b[39m / Pred: \u001b[39m\u001b[39m{\u001b[39;00mpreds_list[batch_num][ix]\u001b[39m:\u001b[39;00m\u001b[39m.3f\u001b[39m\u001b[39m}\u001b[39;00m\u001b[39m\"\u001b[39m\n\u001b[1;32m     47\u001b[0m file_name \u001b[39m=\u001b[39m \u001b[39mf\u001b[39m\u001b[39m\"\u001b[39m\u001b[39m./notebooks/XAI/fig/layer\u001b[39m\u001b[39m{\u001b[39;00mlayer_num\u001b[39m}\u001b[39;00m\u001b[39m_gt\u001b[39m\u001b[39m{\u001b[39;00mlabels_list[batch_num][ix]\u001b[39m:\u001b[39;00m\u001b[39m.3f\u001b[39m\u001b[39m}\u001b[39;00m\u001b[39m_pred\u001b[39m\u001b[39m{\u001b[39;00mpreds_list[batch_num][ix]\u001b[39m:\u001b[39;00m\u001b[39m.3f\u001b[39m\u001b[39m}\u001b[39;00m\u001b[39m_ix\u001b[39m\u001b[39m{\u001b[39;00mix\u001b[39m+\u001b[39m\u001b[39m32\u001b[39m\u001b[39m*\u001b[39mbatch_num\u001b[39m}\u001b[39;00m\u001b[39m.png\u001b[39m\u001b[39m\"\u001b[39m\n",
      "\u001b[0;31mIndexError\u001b[0m: list index out of range"
     ]
    },
    {
     "data": {
      "image/png": "[encoded data removed]",
      "text/plain": [
       "<Figure size 120x50 with 1 Axes>"
      ]
     },
     "metadata": {},
     "output_type": "display_data"
    }
   ],
   "source": [
    "get_attention_per_token(model, subset_dataloader, token_ids_to_skip=[100, 102, 0, 101, 103])"
   ]
  },
  {
   "cell_type": "code",
   "execution_count": null,
   "metadata": {},
   "outputs": [],
   "source": []
  }
 ],
 "metadata": {
  "kernelspec": {
   "display_name": "Python 3 (ipykernel)",
   "language": "python",
   "name": "python3"
  },
  "language_info": {
   "codemirror_mode": {
    "name": "ipython",
    "version": 3
   },
   "file_extension": ".py",
   "mimetype": "text/x-python",
   "name": "python",
   "nbconvert_exporter": "python",
   "pygments_lexer": "ipython3",
   "version": "3.8.16"
  }
 },
 "nbformat": 4,
 "nbformat_minor": 2
}
