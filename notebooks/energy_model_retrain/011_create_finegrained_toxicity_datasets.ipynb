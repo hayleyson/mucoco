{
 "cells": [
  {
   "cell_type": "code",
   "execution_count": 1,
   "metadata": {},
   "outputs": [],
   "source": [
    "# discretize toxicity columns and check distribution\n",
    "# or simply check histogram\n",
    "import pandas as pd\n",
    "import seaborn as sns\n",
    "import numpy as np\n",
    "import torch"
   ]
  },
  {
   "cell_type": "code",
   "execution_count": 2,
   "metadata": {},
   "outputs": [
    {
     "data": {
      "text/plain": [
       "'/home/hyeryungson/mucoco'"
      ]
     },
     "execution_count": 2,
     "metadata": {},
     "output_type": "execute_result"
    }
   ],
   "source": [
    "import os\n",
    "os.getcwd()"
   ]
  },
  {
   "cell_type": "code",
   "execution_count": 3,
   "metadata": {},
   "outputs": [],
   "source": [
    "data_dir = './data/toxicity/jigsaw-unintended-bias-in-toxicity-classification/'"
   ]
  },
  {
   "attachments": {},
   "cell_type": "markdown",
   "metadata": {},
   "source": [
    "## Read data"
   ]
  },
  {
   "cell_type": "code",
   "execution_count": 4,
   "metadata": {},
   "outputs": [],
   "source": [
    "all_data = pd.read_csv(os.path.join(data_dir, 'all_data_simple.csv'))"
   ]
  },
  {
   "cell_type": "code",
   "execution_count": 5,
   "metadata": {},
   "outputs": [
    {
     "name": "stdout",
     "output_type": "stream",
     "text": [
      "nrows before drop duplicates by text column  1999516\n",
      "nrows after drop duplicates by text column 1977803\n",
      "nrows to be dropped  21713\n"
     ]
    }
   ],
   "source": [
    "# remove rows that have both text and toxicity duplicated\n",
    "print('nrows before drop duplicates by text column ', all_data.shape[0])\n",
    "print('nrows after drop duplicates by text column', all_data.drop_duplicates(subset=['comment_text', 'toxicity']).shape[0])\n",
    "print('nrows to be dropped ', all_data.shape[0] - all_data.drop_duplicates(subset=['comment_text', 'toxicity']).shape[0])\n",
    "\n",
    "all_data = all_data.drop_duplicates(subset=['comment_text', 'toxicity'])"
   ]
  },
  {
   "attachments": {},
   "cell_type": "markdown",
   "metadata": {},
   "source": [
    "### Decides what to do with samples that have multiple different toxicity labels\n",
    "\n",
    "-> # 그냥 깔끔하게 다 삭제하자."
   ]
  },
  {
   "cell_type": "code",
   "execution_count": 6,
   "metadata": {},
   "outputs": [],
   "source": [
    "all_data['toxicity_cat']=pd.cut(all_data['toxicity'], np.arange(0, 1.11, 0.1), include_lowest=False, right=False)"
   ]
  },
  {
   "cell_type": "code",
   "execution_count": 7,
   "metadata": {},
   "outputs": [
    {
     "data": {
      "text/html": [
       "<div>\n",
       "<style scoped>\n",
       "    .dataframe tbody tr th:only-of-type {\n",
       "        vertical-align: middle;\n",
       "    }\n",
       "\n",
       "    .dataframe tbody tr th {\n",
       "        vertical-align: top;\n",
       "    }\n",
       "\n",
       "    .dataframe thead tr th {\n",
       "        text-align: left;\n",
       "    }\n",
       "\n",
       "    .dataframe thead tr:last-of-type th {\n",
       "        text-align: right;\n",
       "    }\n",
       "</style>\n",
       "<table border=\"1\" class=\"dataframe\">\n",
       "  <thead>\n",
       "    <tr>\n",
       "      <th></th>\n",
       "      <th colspan=\"2\" halign=\"left\">id</th>\n",
       "    </tr>\n",
       "    <tr>\n",
       "      <th></th>\n",
       "      <th>len</th>\n",
       "      <th>portion</th>\n",
       "    </tr>\n",
       "    <tr>\n",
       "      <th>toxicity_cat</th>\n",
       "      <th></th>\n",
       "      <th></th>\n",
       "    </tr>\n",
       "  </thead>\n",
       "  <tbody>\n",
       "    <tr>\n",
       "      <th>[0.0, 0.1)</th>\n",
       "      <td>1382741</td>\n",
       "      <td>0.699130</td>\n",
       "    </tr>\n",
       "    <tr>\n",
       "      <th>[0.1, 0.2)</th>\n",
       "      <td>177893</td>\n",
       "      <td>0.089945</td>\n",
       "    </tr>\n",
       "    <tr>\n",
       "      <th>[0.2, 0.3)</th>\n",
       "      <td>188465</td>\n",
       "      <td>0.095290</td>\n",
       "    </tr>\n",
       "    <tr>\n",
       "      <th>[0.3, 0.4)</th>\n",
       "      <td>6093</td>\n",
       "      <td>0.003081</td>\n",
       "    </tr>\n",
       "    <tr>\n",
       "      <th>[0.4, 0.5)</th>\n",
       "      <td>63108</td>\n",
       "      <td>0.031908</td>\n",
       "    </tr>\n",
       "    <tr>\n",
       "      <th>[0.5, 0.6)</th>\n",
       "      <td>79559</td>\n",
       "      <td>0.040226</td>\n",
       "    </tr>\n",
       "    <tr>\n",
       "      <th>[0.6, 0.7)</th>\n",
       "      <td>29662</td>\n",
       "      <td>0.014997</td>\n",
       "    </tr>\n",
       "    <tr>\n",
       "      <th>[0.7, 0.8)</th>\n",
       "      <td>16204</td>\n",
       "      <td>0.008193</td>\n",
       "    </tr>\n",
       "    <tr>\n",
       "      <th>[0.8, 0.9)</th>\n",
       "      <td>23878</td>\n",
       "      <td>0.012073</td>\n",
       "    </tr>\n",
       "    <tr>\n",
       "      <th>[0.9, 1.0)</th>\n",
       "      <td>5339</td>\n",
       "      <td>0.002699</td>\n",
       "    </tr>\n",
       "    <tr>\n",
       "      <th>[1.0, 1.1)</th>\n",
       "      <td>4861</td>\n",
       "      <td>0.002458</td>\n",
       "    </tr>\n",
       "  </tbody>\n",
       "</table>\n",
       "</div>"
      ],
      "text/plain": [
       "                   id          \n",
       "                  len   portion\n",
       "toxicity_cat                   \n",
       "[0.0, 0.1)    1382741  0.699130\n",
       "[0.1, 0.2)     177893  0.089945\n",
       "[0.2, 0.3)     188465  0.095290\n",
       "[0.3, 0.4)       6093  0.003081\n",
       "[0.4, 0.5)      63108  0.031908\n",
       "[0.5, 0.6)      79559  0.040226\n",
       "[0.6, 0.7)      29662  0.014997\n",
       "[0.7, 0.8)      16204  0.008193\n",
       "[0.8, 0.9)      23878  0.012073\n",
       "[0.9, 1.0)       5339  0.002699\n",
       "[1.0, 1.1)       4861  0.002458"
      ]
     },
     "execution_count": 7,
     "metadata": {},
     "output_type": "execute_result"
    }
   ],
   "source": [
    "# composition of toxicity label before deleting such dirty samples\n",
    "def portion(x):\n",
    "    return len(x)/len(all_data)\n",
    "all_data.groupby('toxicity_cat').agg({'id': [len, portion]})"
   ]
  },
  {
   "cell_type": "code",
   "execution_count": 8,
   "metadata": {},
   "outputs": [],
   "source": [
    "# check if there're samples with duplicated text but with different toxicity label\n",
    "dup_data = all_data.loc[all_data['comment_text'].duplicated(keep=False)].sort_values(by='comment_text')"
   ]
  },
  {
   "cell_type": "code",
   "execution_count": 9,
   "metadata": {},
   "outputs": [],
   "source": [
    "eda_dup_data = dup_data.groupby('comment_text')['toxicity'].agg(['min','max','mean']).sort_values(by='max')"
   ]
  },
  {
   "cell_type": "code",
   "execution_count": 160,
   "metadata": {},
   "outputs": [],
   "source": [
    "eda_dup_data.to_csv('eda_dup_data.csv')"
   ]
  },
  {
   "cell_type": "code",
   "execution_count": 161,
   "metadata": {},
   "outputs": [],
   "source": [
    "dup_data['toxicity_count'] = dup_data['toxicity_annotator_count'] * dup_data['toxicity']"
   ]
  },
  {
   "cell_type": "code",
   "execution_count": 167,
   "metadata": {},
   "outputs": [
    {
     "data": {
      "text/html": [
       "<div>\n",
       "<style scoped>\n",
       "    .dataframe tbody tr th:only-of-type {\n",
       "        vertical-align: middle;\n",
       "    }\n",
       "\n",
       "    .dataframe tbody tr th {\n",
       "        vertical-align: top;\n",
       "    }\n",
       "\n",
       "    .dataframe thead th {\n",
       "        text-align: right;\n",
       "    }\n",
       "</style>\n",
       "<table border=\"1\" class=\"dataframe\">\n",
       "  <thead>\n",
       "    <tr style=\"text-align: right;\">\n",
       "      <th></th>\n",
       "      <th>toxicity_count</th>\n",
       "      <th>toxicity_annotator_count</th>\n",
       "    </tr>\n",
       "    <tr>\n",
       "      <th>comment_text</th>\n",
       "      <th></th>\n",
       "      <th></th>\n",
       "    </tr>\n",
       "  </thead>\n",
       "  <tbody>\n",
       "    <tr>\n",
       "      <th>\" Just another reminder that people are generally stupid sheep.\"\\n Hussein Obama is all the reminder we need that the \" stupid\" vote.</th>\n",
       "      <td>133.0</td>\n",
       "      <td>162</td>\n",
       "    </tr>\n",
       "    <tr>\n",
       "      <th>\" Mr. Drumpf's speech before the Asian Pacific Economic Cooperation yesterday, was one of powerful, articulated excellence, and long overdue. It showed great strength, something that past administrations have long lacked, especially Mr. Obama who was very weak on the concerns raised in that speech, and it was well received.\"\\nHow odd.\\nI also saw that speech and was appalled that such an ignorant dilettante represents our country on the world stage.\\nI guess we just have different ideas about what America could/should be.</th>\n",
       "      <td>5.0</td>\n",
       "      <td>16</td>\n",
       "    </tr>\n",
       "    <tr>\n",
       "      <th>\" Turner had a long list of past driving offenses, and three previous felony convictions.\"\\n\\nSeems to me he was just a loser of a driver doing METH. Plenty of them out there unfortunately. Loser drivers that is.\\n\\nhttps://ntl.bts.gov/lib/25000/25800/25867/DOT-HS-808-078.pdf</th>\n",
       "      <td>5.0</td>\n",
       "      <td>16</td>\n",
       "    </tr>\n",
       "    <tr>\n",
       "      <th>\" new board members holding more diverse views\" is just GOP speak for gormless idiots who donated to the party.</th>\n",
       "      <td>90.0</td>\n",
       "      <td>127</td>\n",
       "    </tr>\n",
       "    <tr>\n",
       "      <th>\"\"\"\"national strategy to prevent gender-based violence\"\"\"\\n\\nApparatchiks saying that through government strategy they can stop a women from raping a man or vice versa\\n\\nThe end of the Marxist era is coming. This never ending Marxist dogma that government can control how a man or women interacts with their opposite sex is idiotic at best and really really creepy and dangerous at worst.\\n\\nGovernment is endlessly trying to control every thing in this country.\\nYou can't legislate how a person acts.\\n\\nYour never ending attempt to take over our souls is shameful</th>\n",
       "      <td>9.0</td>\n",
       "      <td>20</td>\n",
       "    </tr>\n",
       "    <tr>\n",
       "      <th>...</th>\n",
       "      <td>...</td>\n",
       "      <td>...</td>\n",
       "    </tr>\n",
       "    <tr>\n",
       "      <th>…people who denigrate any American's right to protest are nothing more than cretinous unpatriotic boors.</th>\n",
       "      <td>32.0</td>\n",
       "      <td>48</td>\n",
       "    </tr>\n",
       "    <tr>\n",
       "      <th>‪Please sign petition for US President Trump to act on Khadr. Trudeau too timid.‬\\nSend to your friends \\nThanks\\n\\nhttps://petitions.whitehouse.gov/petition/canada-will-pay-10-million-canadian-terrorist-killer-us-army-hero-sgt-chris-speer-demand-canada-not-do</th>\n",
       "      <td>1.0</td>\n",
       "      <td>10</td>\n",
       "    </tr>\n",
       "    <tr>\n",
       "      <th>══════════★●°●°●°●°●°●°●★ \\n+ᴍʏ Fʀɪᴇɴᴅ's ᴍᴏᴍ ᴍᴀᴋᴇs $73 ʜᴏᴜʀʟʏ ᴏɴ ᴛʜᴇ ᴄᴏᴍᴘᴜᴛᴇʀ . Sʜᴇ ʜᴀs ʙᴇᴇɴ ᴏᴜᴛ ᴏғ ᴀ ᴊᴏʙ ғᴏʀ 7 ᴍᴏɴᴛʜs ʙᴜᴛ ʟᴀsᴛ ᴍᴏɴᴛʜ ʜᴇʀ ᴄʜᴇᴄᴋ ᴡᴀs $20864 ᴊᴜsᴛ ᴡᴏʀᴋɪɴɢ ᴏɴ ᴛʜᴇ ᴄᴏᴍᴘᴜᴛᴇʀ ғᴏʀ ᴀ ғᴇᴡ ʜᴏᴜʀs. \\nclick­­ T­­h­­i­­s­­ L­­i­­n­­k----&gt;&gt; \\n\\n✬══✬•°•°• ✬ •°•°• ✬ •°•°• ✬══✬ w­w­w­.­9­9­m­o­n­e­y­c­l­a­s­s­.­c­o­m­ᴵᴵᴵᴵᴵᴵᴵᴵᴵᴵᴵᴵᴵᴵᴵᴵᴵᴵᴵᴵᴵᴵᴵᴵ­</th>\n",
       "      <td>1.0</td>\n",
       "      <td>16</td>\n",
       "    </tr>\n",
       "    <tr>\n",
       "      <th>★★★\\nI’ve made $64,000 so far this year w0rking 0nline and I’m a full time student. I’m using an 0nline business opportunity I heard about and I’ve made such great m0ney. It’s really user friendly and I’m just so happy that I found out about it. Here’s what I’ve been doing…\\nclick this link\\n\\n❥❥❥❥❥❥---&gt;ᴵᴵᴵᴵᴵᴵᴵᴵᴵw­­­w­­­w.­­­h­­­i­­­g­­­h­­­p­­­a­­­y­­­5­­­.c­­­o­­­mᴵᴵᴵᴵᴵ ­­­ONLY\\ndo not include ONLY\\n✔✔✔✔✔✔✔✔✔✔✔✔✔✔✔✔✔✔</th>\n",
       "      <td>1.0</td>\n",
       "      <td>10</td>\n",
       "    </tr>\n",
       "    <tr>\n",
       "      <th>🏆</th>\n",
       "      <td>1.0</td>\n",
       "      <td>20</td>\n",
       "    </tr>\n",
       "  </tbody>\n",
       "</table>\n",
       "<p>4347 rows × 2 columns</p>\n",
       "</div>"
      ],
      "text/plain": [
       "                                                    toxicity_count  \\\n",
       "comment_text                                                         \n",
       "\" Just another reminder that people are general...           133.0   \n",
       "\" Mr. Drumpf's speech before the Asian Pacific ...             5.0   \n",
       "\" Turner had a long list of past driving offens...             5.0   \n",
       "\" new board members holding more diverse views\"...            90.0   \n",
       "\"\"\"\"national strategy to prevent gender-based v...             9.0   \n",
       "...                                                            ...   \n",
       "…people who denigrate any American's right to p...            32.0   \n",
       "‪Please sign petition for US President Trump to...             1.0   \n",
       "══════════★●°●°●°●°●°●°●★ \\n+ᴍʏ Fʀɪᴇɴᴅ's ᴍᴏᴍ ᴍᴀ...             1.0   \n",
       "★★★\\nI’ve made $64,000 so far this year w0rking...             1.0   \n",
       "🏆                                                              1.0   \n",
       "\n",
       "                                                    toxicity_annotator_count  \n",
       "comment_text                                                                  \n",
       "\" Just another reminder that people are general...                       162  \n",
       "\" Mr. Drumpf's speech before the Asian Pacific ...                        16  \n",
       "\" Turner had a long list of past driving offens...                        16  \n",
       "\" new board members holding more diverse views\"...                       127  \n",
       "\"\"\"\"national strategy to prevent gender-based v...                        20  \n",
       "...                                                                      ...  \n",
       "…people who denigrate any American's right to p...                        48  \n",
       "‪Please sign petition for US President Trump to...                        10  \n",
       "══════════★●°●°●°●°●°●°●★ \\n+ᴍʏ Fʀɪᴇɴᴅ's ᴍᴏᴍ ᴍᴀ...                        16  \n",
       "★★★\\nI’ve made $64,000 so far this year w0rking...                        10  \n",
       "🏆                                                                         20  \n",
       "\n",
       "[4347 rows x 2 columns]"
      ]
     },
     "execution_count": 167,
     "metadata": {},
     "output_type": "execute_result"
    }
   ],
   "source": [
    "def calculate_toxicity(x):\n",
    "    return x['toxicity_count'].sum(), x['toxicity_annotator_count'].sum(),x['toxicity_count'].sum()/x['toxicity_annotator_count'].sum()\n",
    "dup_data.groupby('comment_text')[['toxicity_count', 'toxicity_annotator_count']].sum()"
   ]
  },
  {
   "cell_type": "code",
   "execution_count": 173,
   "metadata": {},
   "outputs": [],
   "source": [
    "def calculate_toxicity(x):\n",
    "    return x['toxicity_count'].sum()/x['toxicity_annotator_count'].sum()\n",
    "dup_data_toxicity = dup_data.groupby('comment_text').apply(calculate_toxicity)"
   ]
  },
  {
   "cell_type": "code",
   "execution_count": 174,
   "metadata": {},
   "outputs": [],
   "source": [
    "eda_dup_data['toxicity'] = dup_data_toxicity"
   ]
  },
  {
   "cell_type": "code",
   "execution_count": 176,
   "metadata": {},
   "outputs": [
    {
     "name": "stderr",
     "output_type": "stream",
     "text": [
      "/tmp/ipykernel_1320765/3027762642.py:1: UserWarning: \n",
      "\n",
      "`distplot` is a deprecated function and will be removed in seaborn v0.14.0.\n",
      "\n",
      "Please adapt your code to use either `displot` (a figure-level function with\n",
      "similar flexibility) or `histplot` (an axes-level function for histograms).\n",
      "\n",
      "For a guide to updating your code to use the new functions, please see\n",
      "https://gist.github.com/mwaskom/de44147ed2974457ad6372750bbe5751\n",
      "\n",
      "  sns.distplot(eda_dup_data['toxicity'], kde=False)\n"
     ]
    },
    {
     "data": {
      "text/plain": [
       "<Axes: xlabel='toxicity'>"
      ]
     },
     "execution_count": 176,
     "metadata": {},
     "output_type": "execute_result"
    },
    {
     "data": {
      "image/png": "[encoded data removed]",
      "text/plain": [
       "<Figure size 640x480 with 1 Axes>"
      ]
     },
     "metadata": {},
     "output_type": "display_data"
    }
   ],
   "source": [
    "sns.distplot(eda_dup_data['toxicity'], kde=False)"
   ]
  },
  {
   "cell_type": "code",
   "execution_count": null,
   "metadata": {},
   "outputs": [],
   "source": [
    "# 그냥 깔끔하게 다 삭제하자."
   ]
  },
  {
   "attachments": {},
   "cell_type": "markdown",
   "metadata": {},
   "source": [
    "### continue"
   ]
  },
  {
   "cell_type": "code",
   "execution_count": 10,
   "metadata": {},
   "outputs": [],
   "source": [
    "all_data = all_data.loc[~all_data['comment_text'].duplicated(keep=False)]"
   ]
  },
  {
   "cell_type": "code",
   "execution_count": 11,
   "metadata": {},
   "outputs": [
    {
     "data": {
      "text/html": [
       "<div>\n",
       "<style scoped>\n",
       "    .dataframe tbody tr th:only-of-type {\n",
       "        vertical-align: middle;\n",
       "    }\n",
       "\n",
       "    .dataframe tbody tr th {\n",
       "        vertical-align: top;\n",
       "    }\n",
       "\n",
       "    .dataframe thead tr th {\n",
       "        text-align: left;\n",
       "    }\n",
       "\n",
       "    .dataframe thead tr:last-of-type th {\n",
       "        text-align: right;\n",
       "    }\n",
       "</style>\n",
       "<table border=\"1\" class=\"dataframe\">\n",
       "  <thead>\n",
       "    <tr>\n",
       "      <th></th>\n",
       "      <th colspan=\"2\" halign=\"left\">id</th>\n",
       "    </tr>\n",
       "    <tr>\n",
       "      <th></th>\n",
       "      <th>len</th>\n",
       "      <th>portion</th>\n",
       "    </tr>\n",
       "    <tr>\n",
       "      <th>toxicity_cat</th>\n",
       "      <th></th>\n",
       "      <th></th>\n",
       "    </tr>\n",
       "  </thead>\n",
       "  <tbody>\n",
       "    <tr>\n",
       "      <th>[0.0, 0.1)</th>\n",
       "      <td>1380237</td>\n",
       "      <td>0.701494</td>\n",
       "    </tr>\n",
       "    <tr>\n",
       "      <th>[0.1, 0.2)</th>\n",
       "      <td>175909</td>\n",
       "      <td>0.089404</td>\n",
       "    </tr>\n",
       "    <tr>\n",
       "      <th>[0.2, 0.3)</th>\n",
       "      <td>186505</td>\n",
       "      <td>0.094790</td>\n",
       "    </tr>\n",
       "    <tr>\n",
       "      <th>[0.3, 0.4)</th>\n",
       "      <td>5991</td>\n",
       "      <td>0.003045</td>\n",
       "    </tr>\n",
       "    <tr>\n",
       "      <th>[0.4, 0.5)</th>\n",
       "      <td>62370</td>\n",
       "      <td>0.031699</td>\n",
       "    </tr>\n",
       "    <tr>\n",
       "      <th>[0.5, 0.6)</th>\n",
       "      <td>78504</td>\n",
       "      <td>0.039899</td>\n",
       "    </tr>\n",
       "    <tr>\n",
       "      <th>[0.6, 0.7)</th>\n",
       "      <td>29088</td>\n",
       "      <td>0.014784</td>\n",
       "    </tr>\n",
       "    <tr>\n",
       "      <th>[0.7, 0.8)</th>\n",
       "      <td>15841</td>\n",
       "      <td>0.008051</td>\n",
       "    </tr>\n",
       "    <tr>\n",
       "      <th>[0.8, 0.9)</th>\n",
       "      <td>23287</td>\n",
       "      <td>0.011835</td>\n",
       "    </tr>\n",
       "    <tr>\n",
       "      <th>[0.9, 1.0)</th>\n",
       "      <td>5063</td>\n",
       "      <td>0.002573</td>\n",
       "    </tr>\n",
       "    <tr>\n",
       "      <th>[1.0, 1.1)</th>\n",
       "      <td>4774</td>\n",
       "      <td>0.002426</td>\n",
       "    </tr>\n",
       "  </tbody>\n",
       "</table>\n",
       "</div>"
      ],
      "text/plain": [
       "                   id          \n",
       "                  len   portion\n",
       "toxicity_cat                   \n",
       "[0.0, 0.1)    1380237  0.701494\n",
       "[0.1, 0.2)     175909  0.089404\n",
       "[0.2, 0.3)     186505  0.094790\n",
       "[0.3, 0.4)       5991  0.003045\n",
       "[0.4, 0.5)      62370  0.031699\n",
       "[0.5, 0.6)      78504  0.039899\n",
       "[0.6, 0.7)      29088  0.014784\n",
       "[0.7, 0.8)      15841  0.008051\n",
       "[0.8, 0.9)      23287  0.011835\n",
       "[0.9, 1.0)       5063  0.002573\n",
       "[1.0, 1.1)       4774  0.002426"
      ]
     },
     "execution_count": 11,
     "metadata": {},
     "output_type": "execute_result"
    }
   ],
   "source": [
    "def portion(x):\n",
    "    return len(x)/len(all_data)\n",
    "all_data.groupby('toxicity_cat').agg({'id': [len, portion]})"
   ]
  },
  {
   "cell_type": "code",
   "execution_count": 12,
   "metadata": {},
   "outputs": [
    {
     "name": "stderr",
     "output_type": "stream",
     "text": [
      "/tmp/ipykernel_401857/936240274.py:2: UserWarning: \n",
      "\n",
      "`distplot` is a deprecated function and will be removed in seaborn v0.14.0.\n",
      "\n",
      "Please adapt your code to use either `displot` (a figure-level function with\n",
      "similar flexibility) or `histplot` (an axes-level function for histograms).\n",
      "\n",
      "For a guide to updating your code to use the new functions, please see\n",
      "https://gist.github.com/mwaskom/de44147ed2974457ad6372750bbe5751\n",
      "\n",
      "  sns.distplot(all_data['toxicity'], kde=False)\n"
     ]
    },
    {
     "data": {
      "text/plain": [
       "<Axes: xlabel='toxicity'>"
      ]
     },
     "execution_count": 12,
     "metadata": {},
     "output_type": "execute_result"
    },
    {
     "data": {
      "image/png": "[encoded data removed]",
      "text/plain": [
       "<Figure size 640x480 with 1 Axes>"
      ]
     },
     "metadata": {},
     "output_type": "display_data"
    }
   ],
   "source": [
    "# highly imbalanced.\n",
    "sns.distplot(all_data['toxicity'], kde=False)"
   ]
  },
  {
   "attachments": {},
   "cell_type": "markdown",
   "metadata": {},
   "source": [
    "## Set aside test data"
   ]
  },
  {
   "cell_type": "code",
   "execution_count": 13,
   "metadata": {},
   "outputs": [],
   "source": [
    "test0=pd.read_json('/home/hyeryungson/mucoco/data/toxicity/jigsaw-unintended-bias-in-toxicity-classification/test_0.jsonl', lines=True)\n",
    "test1=pd.read_json('/home/hyeryungson/mucoco/data/toxicity/jigsaw-unintended-bias-in-toxicity-classification/test_1.jsonl', lines=True)"
   ]
  },
  {
   "cell_type": "code",
   "execution_count": 14,
   "metadata": {},
   "outputs": [
    {
     "data": {
      "text/plain": [
       "(2000, 2000, 1998, 2000)"
      ]
     },
     "execution_count": 14,
     "metadata": {},
     "output_type": "execute_result"
    }
   ],
   "source": [
    "# double check if any duplicates\n",
    "len(test0['text'].drop_duplicates()), len(test0),len(test1['text'].drop_duplicates()), len(test1)"
   ]
  },
  {
   "cell_type": "code",
   "execution_count": 15,
   "metadata": {},
   "outputs": [],
   "source": [
    "# test1 has duplicates => drop_duplicates\n",
    "test1 = test1.drop_duplicates(subset='text')"
   ]
  },
  {
   "cell_type": "code",
   "execution_count": 16,
   "metadata": {},
   "outputs": [],
   "source": [
    "test0=test0.merge(all_data.rename(columns={'comment_text': 'text'})[['text', 'toxicity']], left_on='text', right_on='text', how='left')\n",
    "test1=test1.merge(all_data.rename(columns={'comment_text': 'text'})[['text', 'toxicity']], left_on='text', right_on='text', how='left')"
   ]
  },
  {
   "cell_type": "code",
   "execution_count": 17,
   "metadata": {},
   "outputs": [
    {
     "data": {
      "text/plain": [
       "0.0    1989\n",
       "Name: toxicity, dtype: int64"
      ]
     },
     "execution_count": 17,
     "metadata": {},
     "output_type": "execute_result"
    }
   ],
   "source": [
    "test0['toxicity'].value_counts() ## 몇몇 중복 데이터 때문에 이런 경우 존재함"
   ]
  },
  {
   "cell_type": "code",
   "execution_count": 18,
   "metadata": {},
   "outputs": [
    {
     "data": {
      "text/plain": [
       "0.500000    522\n",
       "0.506667      2\n",
       "0.508197      1\n",
       "0.509804      1\n",
       "0.512500      3\n",
       "           ... \n",
       "0.975610      1\n",
       "0.982369      1\n",
       "0.982759      1\n",
       "0.985310      1\n",
       "1.000000     55\n",
       "Name: toxicity, Length: 369, dtype: int64"
      ]
     },
     "execution_count": 18,
     "metadata": {},
     "output_type": "execute_result"
    }
   ],
   "source": [
    "test1['toxicity'].value_counts().sort_index()"
   ]
  },
  {
   "cell_type": "code",
   "execution_count": 19,
   "metadata": {},
   "outputs": [],
   "source": [
    "test=pd.concat([test0, test1],axis=0)"
   ]
  },
  {
   "cell_type": "code",
   "execution_count": 20,
   "metadata": {},
   "outputs": [
    {
     "data": {
      "text/plain": [
       "(3998, 2)"
      ]
     },
     "execution_count": 20,
     "metadata": {},
     "output_type": "execute_result"
    }
   ],
   "source": [
    "test.shape"
   ]
  },
  {
   "cell_type": "code",
   "execution_count": 23,
   "metadata": {},
   "outputs": [],
   "source": [
    "test.to_json('/home/hyeryungson/mucoco/data/toxicity/jigsaw-unintended-bias-in-toxicity-classification/fine-grained/test.jsonl', orient='records', lines=True)"
   ]
  },
  {
   "cell_type": "code",
   "execution_count": 24,
   "metadata": {},
   "outputs": [
    {
     "data": {
      "text/html": [
       "<div>\n",
       "<style scoped>\n",
       "    .dataframe tbody tr th:only-of-type {\n",
       "        vertical-align: middle;\n",
       "    }\n",
       "\n",
       "    .dataframe tbody tr th {\n",
       "        vertical-align: top;\n",
       "    }\n",
       "\n",
       "    .dataframe thead tr th {\n",
       "        text-align: left;\n",
       "    }\n",
       "\n",
       "    .dataframe thead tr:last-of-type th {\n",
       "        text-align: right;\n",
       "    }\n",
       "</style>\n",
       "<table border=\"1\" class=\"dataframe\">\n",
       "  <thead>\n",
       "    <tr>\n",
       "      <th></th>\n",
       "      <th colspan=\"2\" halign=\"left\">text</th>\n",
       "    </tr>\n",
       "    <tr>\n",
       "      <th></th>\n",
       "      <th>len</th>\n",
       "      <th>portion</th>\n",
       "    </tr>\n",
       "    <tr>\n",
       "      <th>toxicity_cat</th>\n",
       "      <th></th>\n",
       "      <th></th>\n",
       "    </tr>\n",
       "  </thead>\n",
       "  <tbody>\n",
       "    <tr>\n",
       "      <th>[0.0, 0.1)</th>\n",
       "      <td>1989</td>\n",
       "      <td>0.497499</td>\n",
       "    </tr>\n",
       "    <tr>\n",
       "      <th>[0.1, 0.2)</th>\n",
       "      <td>0</td>\n",
       "      <td>0.000000</td>\n",
       "    </tr>\n",
       "    <tr>\n",
       "      <th>[0.2, 0.3)</th>\n",
       "      <td>0</td>\n",
       "      <td>0.000000</td>\n",
       "    </tr>\n",
       "    <tr>\n",
       "      <th>[0.3, 0.4)</th>\n",
       "      <td>0</td>\n",
       "      <td>0.000000</td>\n",
       "    </tr>\n",
       "    <tr>\n",
       "      <th>[0.4, 0.5)</th>\n",
       "      <td>0</td>\n",
       "      <td>0.000000</td>\n",
       "    </tr>\n",
       "    <tr>\n",
       "      <th>[0.5, 0.6)</th>\n",
       "      <td>970</td>\n",
       "      <td>0.242621</td>\n",
       "    </tr>\n",
       "    <tr>\n",
       "      <th>[0.6, 0.7)</th>\n",
       "      <td>376</td>\n",
       "      <td>0.094047</td>\n",
       "    </tr>\n",
       "    <tr>\n",
       "      <th>[0.7, 0.8)</th>\n",
       "      <td>208</td>\n",
       "      <td>0.052026</td>\n",
       "    </tr>\n",
       "    <tr>\n",
       "      <th>[0.8, 0.9)</th>\n",
       "      <td>300</td>\n",
       "      <td>0.075038</td>\n",
       "    </tr>\n",
       "    <tr>\n",
       "      <th>[0.9, 1.0)</th>\n",
       "      <td>51</td>\n",
       "      <td>0.012756</td>\n",
       "    </tr>\n",
       "    <tr>\n",
       "      <th>[1.0, 1.1)</th>\n",
       "      <td>55</td>\n",
       "      <td>0.013757</td>\n",
       "    </tr>\n",
       "  </tbody>\n",
       "</table>\n",
       "</div>"
      ],
      "text/plain": [
       "              text          \n",
       "               len   portion\n",
       "toxicity_cat                \n",
       "[0.0, 0.1)    1989  0.497499\n",
       "[0.1, 0.2)       0  0.000000\n",
       "[0.2, 0.3)       0  0.000000\n",
       "[0.3, 0.4)       0  0.000000\n",
       "[0.4, 0.5)       0  0.000000\n",
       "[0.5, 0.6)     970  0.242621\n",
       "[0.6, 0.7)     376  0.094047\n",
       "[0.7, 0.8)     208  0.052026\n",
       "[0.8, 0.9)     300  0.075038\n",
       "[0.9, 1.0)      51  0.012756\n",
       "[1.0, 1.1)      55  0.013757"
      ]
     },
     "execution_count": 24,
     "metadata": {},
     "output_type": "execute_result"
    }
   ],
   "source": [
    "def portion(x):\n",
    "    return len(x)/len(test)\n",
    "test['toxicity_cat']=pd.cut(test['toxicity'], np.arange(0, 1.11, 0.1), include_lowest=False, right=False)\n",
    "test.groupby('toxicity_cat').agg({'text': [len, portion]})"
   ]
  },
  {
   "attachments": {},
   "cell_type": "markdown",
   "metadata": {},
   "source": [
    "## Prep for the rest of the steps"
   ]
  },
  {
   "cell_type": "code",
   "execution_count": 25,
   "metadata": {},
   "outputs": [],
   "source": [
    "# only leave those not used for test data\n",
    "all_data = all_data.loc[~all_data['comment_text'].isin(test['text']),].copy()"
   ]
  },
  {
   "cell_type": "code",
   "execution_count": 26,
   "metadata": {},
   "outputs": [
    {
     "data": {
      "text/plain": [
       "1963620"
      ]
     },
     "execution_count": 26,
     "metadata": {},
     "output_type": "execute_result"
    }
   ],
   "source": [
    "len(all_data)"
   ]
  },
  {
   "cell_type": "code",
   "execution_count": 27,
   "metadata": {},
   "outputs": [
    {
     "data": {
      "text/html": [
       "<div>\n",
       "<style scoped>\n",
       "    .dataframe tbody tr th:only-of-type {\n",
       "        vertical-align: middle;\n",
       "    }\n",
       "\n",
       "    .dataframe tbody tr th {\n",
       "        vertical-align: top;\n",
       "    }\n",
       "\n",
       "    .dataframe thead tr th {\n",
       "        text-align: left;\n",
       "    }\n",
       "\n",
       "    .dataframe thead tr:last-of-type th {\n",
       "        text-align: right;\n",
       "    }\n",
       "</style>\n",
       "<table border=\"1\" class=\"dataframe\">\n",
       "  <thead>\n",
       "    <tr>\n",
       "      <th></th>\n",
       "      <th colspan=\"2\" halign=\"left\">id</th>\n",
       "    </tr>\n",
       "    <tr>\n",
       "      <th></th>\n",
       "      <th>len</th>\n",
       "      <th>portion</th>\n",
       "    </tr>\n",
       "    <tr>\n",
       "      <th>toxicity_cat</th>\n",
       "      <th></th>\n",
       "      <th></th>\n",
       "    </tr>\n",
       "  </thead>\n",
       "  <tbody>\n",
       "    <tr>\n",
       "      <th>[0.0, 0.1)</th>\n",
       "      <td>1378248</td>\n",
       "      <td>0.701891</td>\n",
       "    </tr>\n",
       "    <tr>\n",
       "      <th>[0.1, 0.2)</th>\n",
       "      <td>175909</td>\n",
       "      <td>0.089584</td>\n",
       "    </tr>\n",
       "    <tr>\n",
       "      <th>[0.2, 0.3)</th>\n",
       "      <td>186505</td>\n",
       "      <td>0.094980</td>\n",
       "    </tr>\n",
       "    <tr>\n",
       "      <th>[0.3, 0.4)</th>\n",
       "      <td>5991</td>\n",
       "      <td>0.003051</td>\n",
       "    </tr>\n",
       "    <tr>\n",
       "      <th>[0.4, 0.5)</th>\n",
       "      <td>62370</td>\n",
       "      <td>0.031763</td>\n",
       "    </tr>\n",
       "    <tr>\n",
       "      <th>[0.5, 0.6)</th>\n",
       "      <td>77534</td>\n",
       "      <td>0.039485</td>\n",
       "    </tr>\n",
       "    <tr>\n",
       "      <th>[0.6, 0.7)</th>\n",
       "      <td>28712</td>\n",
       "      <td>0.014622</td>\n",
       "    </tr>\n",
       "    <tr>\n",
       "      <th>[0.7, 0.8)</th>\n",
       "      <td>15633</td>\n",
       "      <td>0.007961</td>\n",
       "    </tr>\n",
       "    <tr>\n",
       "      <th>[0.8, 0.9)</th>\n",
       "      <td>22987</td>\n",
       "      <td>0.011706</td>\n",
       "    </tr>\n",
       "    <tr>\n",
       "      <th>[0.9, 1.0)</th>\n",
       "      <td>5012</td>\n",
       "      <td>0.002552</td>\n",
       "    </tr>\n",
       "    <tr>\n",
       "      <th>[1.0, 1.1)</th>\n",
       "      <td>4719</td>\n",
       "      <td>0.002403</td>\n",
       "    </tr>\n",
       "  </tbody>\n",
       "</table>\n",
       "</div>"
      ],
      "text/plain": [
       "                   id          \n",
       "                  len   portion\n",
       "toxicity_cat                   \n",
       "[0.0, 0.1)    1378248  0.701891\n",
       "[0.1, 0.2)     175909  0.089584\n",
       "[0.2, 0.3)     186505  0.094980\n",
       "[0.3, 0.4)       5991  0.003051\n",
       "[0.4, 0.5)      62370  0.031763\n",
       "[0.5, 0.6)      77534  0.039485\n",
       "[0.6, 0.7)      28712  0.014622\n",
       "[0.7, 0.8)      15633  0.007961\n",
       "[0.8, 0.9)      22987  0.011706\n",
       "[0.9, 1.0)       5012  0.002552\n",
       "[1.0, 1.1)       4719  0.002403"
      ]
     },
     "execution_count": 27,
     "metadata": {},
     "output_type": "execute_result"
    }
   ],
   "source": [
    "def portion(x):\n",
    "    return len(x)/len(all_data)\n",
    "all_data.groupby('toxicity_cat').agg({'id': [len, portion]})"
   ]
  },
  {
   "attachments": {},
   "cell_type": "markdown",
   "metadata": {},
   "source": [
    "## Resample data\n",
    "Sample 4719 samples per bin.\n",
    "- 4719 : number of samples in the smallest bin"
   ]
  },
  {
   "cell_type": "code",
   "execution_count": 28,
   "metadata": {},
   "outputs": [],
   "source": [
    "all_data_sample = all_data.groupby('toxicity_cat').sample(4719, random_state=9999)"
   ]
  },
  {
   "cell_type": "code",
   "execution_count": 29,
   "metadata": {},
   "outputs": [
    {
     "data": {
      "text/html": [
       "<div>\n",
       "<style scoped>\n",
       "    .dataframe tbody tr th:only-of-type {\n",
       "        vertical-align: middle;\n",
       "    }\n",
       "\n",
       "    .dataframe tbody tr th {\n",
       "        vertical-align: top;\n",
       "    }\n",
       "\n",
       "    .dataframe thead tr th {\n",
       "        text-align: left;\n",
       "    }\n",
       "\n",
       "    .dataframe thead tr:last-of-type th {\n",
       "        text-align: right;\n",
       "    }\n",
       "</style>\n",
       "<table border=\"1\" class=\"dataframe\">\n",
       "  <thead>\n",
       "    <tr>\n",
       "      <th></th>\n",
       "      <th colspan=\"2\" halign=\"left\">id</th>\n",
       "    </tr>\n",
       "    <tr>\n",
       "      <th></th>\n",
       "      <th>len</th>\n",
       "      <th>portion</th>\n",
       "    </tr>\n",
       "    <tr>\n",
       "      <th>toxicity_cat</th>\n",
       "      <th></th>\n",
       "      <th></th>\n",
       "    </tr>\n",
       "  </thead>\n",
       "  <tbody>\n",
       "    <tr>\n",
       "      <th>[0.0, 0.1)</th>\n",
       "      <td>4719</td>\n",
       "      <td>0.090909</td>\n",
       "    </tr>\n",
       "    <tr>\n",
       "      <th>[0.1, 0.2)</th>\n",
       "      <td>4719</td>\n",
       "      <td>0.090909</td>\n",
       "    </tr>\n",
       "    <tr>\n",
       "      <th>[0.2, 0.3)</th>\n",
       "      <td>4719</td>\n",
       "      <td>0.090909</td>\n",
       "    </tr>\n",
       "    <tr>\n",
       "      <th>[0.3, 0.4)</th>\n",
       "      <td>4719</td>\n",
       "      <td>0.090909</td>\n",
       "    </tr>\n",
       "    <tr>\n",
       "      <th>[0.4, 0.5)</th>\n",
       "      <td>4719</td>\n",
       "      <td>0.090909</td>\n",
       "    </tr>\n",
       "    <tr>\n",
       "      <th>[0.5, 0.6)</th>\n",
       "      <td>4719</td>\n",
       "      <td>0.090909</td>\n",
       "    </tr>\n",
       "    <tr>\n",
       "      <th>[0.6, 0.7)</th>\n",
       "      <td>4719</td>\n",
       "      <td>0.090909</td>\n",
       "    </tr>\n",
       "    <tr>\n",
       "      <th>[0.7, 0.8)</th>\n",
       "      <td>4719</td>\n",
       "      <td>0.090909</td>\n",
       "    </tr>\n",
       "    <tr>\n",
       "      <th>[0.8, 0.9)</th>\n",
       "      <td>4719</td>\n",
       "      <td>0.090909</td>\n",
       "    </tr>\n",
       "    <tr>\n",
       "      <th>[0.9, 1.0)</th>\n",
       "      <td>4719</td>\n",
       "      <td>0.090909</td>\n",
       "    </tr>\n",
       "    <tr>\n",
       "      <th>[1.0, 1.1)</th>\n",
       "      <td>4719</td>\n",
       "      <td>0.090909</td>\n",
       "    </tr>\n",
       "  </tbody>\n",
       "</table>\n",
       "</div>"
      ],
      "text/plain": [
       "                id          \n",
       "               len   portion\n",
       "toxicity_cat                \n",
       "[0.0, 0.1)    4719  0.090909\n",
       "[0.1, 0.2)    4719  0.090909\n",
       "[0.2, 0.3)    4719  0.090909\n",
       "[0.3, 0.4)    4719  0.090909\n",
       "[0.4, 0.5)    4719  0.090909\n",
       "[0.5, 0.6)    4719  0.090909\n",
       "[0.6, 0.7)    4719  0.090909\n",
       "[0.7, 0.8)    4719  0.090909\n",
       "[0.8, 0.9)    4719  0.090909\n",
       "[0.9, 1.0)    4719  0.090909\n",
       "[1.0, 1.1)    4719  0.090909"
      ]
     },
     "execution_count": 29,
     "metadata": {},
     "output_type": "execute_result"
    }
   ],
   "source": [
    "def portion(x):\n",
    "    return len(x)/len(all_data_sample)\n",
    "all_data_sample.groupby('toxicity_cat').agg({'id': [len, portion]})"
   ]
  },
  {
   "cell_type": "code",
   "execution_count": 30,
   "metadata": {},
   "outputs": [
    {
     "data": {
      "text/plain": [
       "51909"
      ]
     },
     "execution_count": 30,
     "metadata": {},
     "output_type": "execute_result"
    }
   ],
   "source": [
    "len(all_data_sample)"
   ]
  },
  {
   "cell_type": "code",
   "execution_count": 31,
   "metadata": {},
   "outputs": [],
   "source": [
    "all_data_sample.to_csv(os.path.join(data_dir, f'all_data_sample_{len(all_data_sample)}.csv'), index=False)"
   ]
  },
  {
   "attachments": {},
   "cell_type": "markdown",
   "metadata": {},
   "source": [
    "## Split into train, dev, test"
   ]
  },
  {
   "cell_type": "code",
   "execution_count": 7,
   "metadata": {},
   "outputs": [],
   "source": [
    "from sklearn.model_selection import train_test_split"
   ]
  },
  {
   "cell_type": "code",
   "execution_count": 4,
   "metadata": {},
   "outputs": [],
   "source": [
    "all_data_sample = pd.read_csv(os.path.join(data_dir, f'all_data_sample_51909.csv'))"
   ]
  },
  {
   "cell_type": "code",
   "execution_count": 5,
   "metadata": {},
   "outputs": [],
   "source": [
    "all_data_sample = all_data_sample.reset_index(drop=True)"
   ]
  },
  {
   "cell_type": "code",
   "execution_count": 8,
   "metadata": {},
   "outputs": [],
   "source": [
    "# 9: 1 split\n",
    "train_data, dev_data = train_test_split(all_data_sample, stratify=all_data_sample['toxicity_cat'], test_size=0.1, random_state=1234)"
   ]
  },
  {
   "cell_type": "code",
   "execution_count": 35,
   "metadata": {},
   "outputs": [
    {
     "data": {
      "text/plain": [
       "((46718, 12), (5191, 12))"
      ]
     },
     "execution_count": 35,
     "metadata": {},
     "output_type": "execute_result"
    }
   ],
   "source": [
    "train_data.shape, dev_data.shape"
   ]
  },
  {
   "cell_type": "code",
   "execution_count": 36,
   "metadata": {},
   "outputs": [],
   "source": [
    "dev_data[['comment_text', 'toxicity']].rename(columns={'comment_text': 'text'}).to_json(os.path.join(data_dir, 'fine-grained', 'dev.jsonl'), orient='records', lines=True)\n",
    "train_data[['comment_text', 'toxicity']].rename(columns={'comment_text': 'text'}).to_json(os.path.join(data_dir, 'fine-grained', 'train.jsonl'), orient='records', lines=True)"
   ]
  },
  {
   "cell_type": "code",
   "execution_count": 37,
   "metadata": {},
   "outputs": [
    {
     "data": {
      "text/html": [
       "<div>\n",
       "<style scoped>\n",
       "    .dataframe tbody tr th:only-of-type {\n",
       "        vertical-align: middle;\n",
       "    }\n",
       "\n",
       "    .dataframe tbody tr th {\n",
       "        vertical-align: top;\n",
       "    }\n",
       "\n",
       "    .dataframe thead tr th {\n",
       "        text-align: left;\n",
       "    }\n",
       "\n",
       "    .dataframe thead tr:last-of-type th {\n",
       "        text-align: right;\n",
       "    }\n",
       "</style>\n",
       "<table border=\"1\" class=\"dataframe\">\n",
       "  <thead>\n",
       "    <tr>\n",
       "      <th></th>\n",
       "      <th colspan=\"2\" halign=\"left\">id</th>\n",
       "    </tr>\n",
       "    <tr>\n",
       "      <th></th>\n",
       "      <th>len</th>\n",
       "      <th>portion</th>\n",
       "    </tr>\n",
       "    <tr>\n",
       "      <th>toxicity_cat</th>\n",
       "      <th></th>\n",
       "      <th></th>\n",
       "    </tr>\n",
       "  </thead>\n",
       "  <tbody>\n",
       "    <tr>\n",
       "      <th>[0.0, 0.1)</th>\n",
       "      <td>4247</td>\n",
       "      <td>0.090907</td>\n",
       "    </tr>\n",
       "    <tr>\n",
       "      <th>[0.1, 0.2)</th>\n",
       "      <td>4247</td>\n",
       "      <td>0.090907</td>\n",
       "    </tr>\n",
       "    <tr>\n",
       "      <th>[0.2, 0.3)</th>\n",
       "      <td>4247</td>\n",
       "      <td>0.090907</td>\n",
       "    </tr>\n",
       "    <tr>\n",
       "      <th>[0.3, 0.4)</th>\n",
       "      <td>4247</td>\n",
       "      <td>0.090907</td>\n",
       "    </tr>\n",
       "    <tr>\n",
       "      <th>[0.4, 0.5)</th>\n",
       "      <td>4247</td>\n",
       "      <td>0.090907</td>\n",
       "    </tr>\n",
       "    <tr>\n",
       "      <th>[0.5, 0.6)</th>\n",
       "      <td>4247</td>\n",
       "      <td>0.090907</td>\n",
       "    </tr>\n",
       "    <tr>\n",
       "      <th>[0.6, 0.7)</th>\n",
       "      <td>4247</td>\n",
       "      <td>0.090907</td>\n",
       "    </tr>\n",
       "    <tr>\n",
       "      <th>[0.7, 0.8)</th>\n",
       "      <td>4247</td>\n",
       "      <td>0.090907</td>\n",
       "    </tr>\n",
       "    <tr>\n",
       "      <th>[0.8, 0.9)</th>\n",
       "      <td>4248</td>\n",
       "      <td>0.090929</td>\n",
       "    </tr>\n",
       "    <tr>\n",
       "      <th>[0.9, 1.0)</th>\n",
       "      <td>4247</td>\n",
       "      <td>0.090907</td>\n",
       "    </tr>\n",
       "    <tr>\n",
       "      <th>[1.0, 1.1)</th>\n",
       "      <td>4247</td>\n",
       "      <td>0.090907</td>\n",
       "    </tr>\n",
       "  </tbody>\n",
       "</table>\n",
       "</div>"
      ],
      "text/plain": [
       "                id          \n",
       "               len   portion\n",
       "toxicity_cat                \n",
       "[0.0, 0.1)    4247  0.090907\n",
       "[0.1, 0.2)    4247  0.090907\n",
       "[0.2, 0.3)    4247  0.090907\n",
       "[0.3, 0.4)    4247  0.090907\n",
       "[0.4, 0.5)    4247  0.090907\n",
       "[0.5, 0.6)    4247  0.090907\n",
       "[0.6, 0.7)    4247  0.090907\n",
       "[0.7, 0.8)    4247  0.090907\n",
       "[0.8, 0.9)    4248  0.090929\n",
       "[0.9, 1.0)    4247  0.090907\n",
       "[1.0, 1.1)    4247  0.090907"
      ]
     },
     "execution_count": 37,
     "metadata": {},
     "output_type": "execute_result"
    }
   ],
   "source": [
    "def portion(x):\n",
    "    return len(x)/len(train_data)\n",
    "train_data.groupby('toxicity_cat').agg({'id': [len, portion]})"
   ]
  },
  {
   "cell_type": "code",
   "execution_count": 38,
   "metadata": {},
   "outputs": [
    {
     "data": {
      "text/html": [
       "<div>\n",
       "<style scoped>\n",
       "    .dataframe tbody tr th:only-of-type {\n",
       "        vertical-align: middle;\n",
       "    }\n",
       "\n",
       "    .dataframe tbody tr th {\n",
       "        vertical-align: top;\n",
       "    }\n",
       "\n",
       "    .dataframe thead tr th {\n",
       "        text-align: left;\n",
       "    }\n",
       "\n",
       "    .dataframe thead tr:last-of-type th {\n",
       "        text-align: right;\n",
       "    }\n",
       "</style>\n",
       "<table border=\"1\" class=\"dataframe\">\n",
       "  <thead>\n",
       "    <tr>\n",
       "      <th></th>\n",
       "      <th colspan=\"2\" halign=\"left\">id</th>\n",
       "    </tr>\n",
       "    <tr>\n",
       "      <th></th>\n",
       "      <th>len</th>\n",
       "      <th>portion</th>\n",
       "    </tr>\n",
       "    <tr>\n",
       "      <th>toxicity_cat</th>\n",
       "      <th></th>\n",
       "      <th></th>\n",
       "    </tr>\n",
       "  </thead>\n",
       "  <tbody>\n",
       "    <tr>\n",
       "      <th>[0.0, 0.1)</th>\n",
       "      <td>472</td>\n",
       "      <td>0.090927</td>\n",
       "    </tr>\n",
       "    <tr>\n",
       "      <th>[0.1, 0.2)</th>\n",
       "      <td>472</td>\n",
       "      <td>0.090927</td>\n",
       "    </tr>\n",
       "    <tr>\n",
       "      <th>[0.2, 0.3)</th>\n",
       "      <td>472</td>\n",
       "      <td>0.090927</td>\n",
       "    </tr>\n",
       "    <tr>\n",
       "      <th>[0.3, 0.4)</th>\n",
       "      <td>472</td>\n",
       "      <td>0.090927</td>\n",
       "    </tr>\n",
       "    <tr>\n",
       "      <th>[0.4, 0.5)</th>\n",
       "      <td>472</td>\n",
       "      <td>0.090927</td>\n",
       "    </tr>\n",
       "    <tr>\n",
       "      <th>[0.5, 0.6)</th>\n",
       "      <td>472</td>\n",
       "      <td>0.090927</td>\n",
       "    </tr>\n",
       "    <tr>\n",
       "      <th>[0.6, 0.7)</th>\n",
       "      <td>472</td>\n",
       "      <td>0.090927</td>\n",
       "    </tr>\n",
       "    <tr>\n",
       "      <th>[0.7, 0.8)</th>\n",
       "      <td>472</td>\n",
       "      <td>0.090927</td>\n",
       "    </tr>\n",
       "    <tr>\n",
       "      <th>[0.8, 0.9)</th>\n",
       "      <td>471</td>\n",
       "      <td>0.090734</td>\n",
       "    </tr>\n",
       "    <tr>\n",
       "      <th>[0.9, 1.0)</th>\n",
       "      <td>472</td>\n",
       "      <td>0.090927</td>\n",
       "    </tr>\n",
       "    <tr>\n",
       "      <th>[1.0, 1.1)</th>\n",
       "      <td>472</td>\n",
       "      <td>0.090927</td>\n",
       "    </tr>\n",
       "  </tbody>\n",
       "</table>\n",
       "</div>"
      ],
      "text/plain": [
       "               id          \n",
       "              len   portion\n",
       "toxicity_cat               \n",
       "[0.0, 0.1)    472  0.090927\n",
       "[0.1, 0.2)    472  0.090927\n",
       "[0.2, 0.3)    472  0.090927\n",
       "[0.3, 0.4)    472  0.090927\n",
       "[0.4, 0.5)    472  0.090927\n",
       "[0.5, 0.6)    472  0.090927\n",
       "[0.6, 0.7)    472  0.090927\n",
       "[0.7, 0.8)    472  0.090927\n",
       "[0.8, 0.9)    471  0.090734\n",
       "[0.9, 1.0)    472  0.090927\n",
       "[1.0, 1.1)    472  0.090927"
      ]
     },
     "execution_count": 38,
     "metadata": {},
     "output_type": "execute_result"
    }
   ],
   "source": [
    "def portion(x):\n",
    "    return len(x)/len(dev_data)\n",
    "dev_data.groupby('toxicity_cat').agg({'id': [len, portion]})"
   ]
  }
 ],
 "metadata": {
  "kernelspec": {
   "display_name": "Python 3 (ipykernel)",
   "language": "python",
   "name": "python3"
  },
  "language_info": {
   "codemirror_mode": {
    "name": "ipython",
    "version": 3
   },
   "file_extension": ".py",
   "mimetype": "text/x-python",
   "name": "python",
   "nbconvert_exporter": "python",
   "pygments_lexer": "ipython3",
   "version": "3.8.16"
  },
  "orig_nbformat": 4
 },
 "nbformat": 4,
 "nbformat_minor": 2
}
