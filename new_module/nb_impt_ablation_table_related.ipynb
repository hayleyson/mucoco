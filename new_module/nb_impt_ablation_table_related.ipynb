{
 "cells": [
  {
   "cell_type": "markdown",
   "id": "5cda6793-77f0-410e-a4ed-3c60f38e681c",
   "metadata": {},
   "source": [
    "# Toxicity"
   ]
  },
  {
   "cell_type": "markdown",
   "id": "be378df0-b63f-43f9-a80a-ef7925028228",
   "metadata": {},
   "source": [
    "## Code to calculate metrics on common examples"
   ]
  },
  {
   "cell_type": "code",
   "execution_count": 1,
   "id": "a3b32def-d55f-4ac2-8e75-df0bcfe9a415",
   "metadata": {},
   "outputs": [
    {
     "data": {
      "text/plain": [
       "'/home/s3/hyeryung/mucoco'"
      ]
     },
     "execution_count": 1,
     "metadata": {},
     "output_type": "execute_result"
    }
   ],
   "source": [
    "import pandas as pd\n",
    "from glob import glob\n",
    "import os\n",
    "os.chdir('/home/s3/hyeryung/mucoco')\n",
    "from evaluation.prompted_sampling.evaluate import distinctness, repetition\n",
    "os.getcwd()"
   ]
  },
  {
   "cell_type": "code",
   "execution_count": 2,
   "id": "84353f61-786f-41ec-8a50-523ef65bd530",
   "metadata": {},
   "outputs": [],
   "source": [
    "run_ids=\"\"\"duf2r40i\n",
    "xo9cuxwt\n",
    "rvz3rpkg\n",
    "9wvrb6tm\n",
    "rt1gftvo\n",
    "c77e9d5d\n",
    "gtgpwrna\n",
    "7fjid6rd\n",
    "vbwqb7sj\n",
    "tsnyh5jg\n",
    "bbja89dg\n",
    "5de5l7xb\n",
    "0v4eiwve\n",
    "wtbdd1l0\n",
    "59vupfa1\n",
    "kpseb40i\n",
    "r3neasla\n",
    "gj7vpi4b\n",
    "rc2h1xg6\n",
    "0ejjmp0e\n",
    "oc6pto51\n",
    "wj9ww99a\n",
    "gb09bmmt\n",
    "nkss5p4q\n",
    "by5s93vs\n",
    "1p7censa\"\"\".split()"
   ]
  },
  {
   "cell_type": "code",
   "execution_count": 3,
   "id": "d77a3fc8-9f7a-4b5b-b149-1008b2a88280",
   "metadata": {},
   "outputs": [],
   "source": [
    "## func to read output file\n",
    "def unravel(outputs_df):\n",
    "    outputs_df=outputs_df.explode('generations',ignore_index=True)\n",
    "    \n",
    "    outputs_df['prompt']=outputs_df['prompt'].apply(lambda x: x['text'])\n",
    "    \n",
    "    outputs_df['text']=outputs_df['generations'].apply(lambda x: x['text'])\n",
    "    \n",
    "    gen_dict=outputs_df['generations'].values[0]\n",
    "    \n",
    "    for col in gen_dict.keys():\n",
    "        outputs_df[col] = outputs_df['generations'].apply(lambda x: x.get(col,None))\n",
    "\n",
    "    return outputs_df"
   ]
  },
  {
   "cell_type": "code",
   "execution_count": 4,
   "id": "52c6af4f-2073-40ff-a280-930368b9cb00",
   "metadata": {},
   "outputs": [],
   "source": [
    "def ravel(unraveled_df):\n",
    "\n",
    "    unraveled_df['generations']= unraveled_df.apply(lambda x: [{'text': x['text'],\n",
    "                                                               'tokens': x['tokens']}],axis=1)\n",
    "    return unraveled_df.groupby('prompt')['generations'].sum([]).reset_index()"
   ]
  },
  {
   "cell_type": "code",
   "execution_count": 5,
   "id": "fc3c0dd5-b7f9-4d4f-9f58-8089e3d7d3da",
   "metadata": {},
   "outputs": [],
   "source": [
    "## get common indexs\n",
    "\n",
    "outputs_dfs=[]\n",
    "edited_ixs=[]\n",
    "common_edited_ixs=set()\n",
    "\n",
    "for run_id in run_ids:\n",
    "\n",
    "    output_file=[x for x in glob(f\"outputs/toxicity/**/**/*{run_id}*/outputs_epsilon*.txt\") if not x.endswith('filled.txt')]\n",
    "    if len(output_file) == 0:\n",
    "        output_file=[x for x in glob(f\"outputs/toxicity/**/*{run_id}*/outputs_epsilon*.txt\") if not x.endswith('filled.txt')]\n",
    "    # print(output_file)\n",
    "    outputs=pd.read_json(output_file[0], lines=True)\n",
    "    outputs=unravel(outputs)[['prompt','text','allsat']].copy()\n",
    "    outputs_dfs.append(outputs)\n",
    "    edited_ixs.append(set(outputs.loc[outputs['allsat']!=-1].index.tolist()))\n",
    "    if len(common_edited_ixs) == 0:\n",
    "        common_edited_ixs = edited_ixs[-1]\n",
    "    else:\n",
    "        common_edited_ixs = common_edited_ixs.intersection(edited_ixs[-1])"
   ]
  },
  {
   "cell_type": "code",
   "execution_count": 6,
   "id": "f231f54f-45fd-4382-9a1e-16f1b13f9ea6",
   "metadata": {},
   "outputs": [],
   "source": [
    "common_edited_ixs=list(common_edited_ixs)"
   ]
  },
  {
   "cell_type": "code",
   "execution_count": 7,
   "id": "0ed466fc-a5cf-4853-b8ad-ff1b88c184ed",
   "metadata": {},
   "outputs": [
    {
     "data": {
      "text/plain": [
       "287"
      ]
     },
     "execution_count": 7,
     "metadata": {},
     "output_type": "execute_result"
    }
   ],
   "source": [
    "len(common_edited_ixs)"
   ]
  },
  {
   "cell_type": "code",
   "execution_count": 60,
   "id": "635dc5d4-1f45-4c8c-b568-72d3c1b10eae",
   "metadata": {},
   "outputs": [],
   "source": [
    "# ## test hypothesis that explode in unravel preserves the order \n",
    "\n",
    "# eda=pd.merge(outputs_dfs[0],outputs_dfs[14],left_index=True,right_index=True)\n",
    "# eda.loc[eda['allsat_x']!=-1, ['text_x','text_y']].values"
   ]
  },
  {
   "cell_type": "code",
   "execution_count": 61,
   "id": "7b99d786-950d-4c6f-a11c-43e26960683b",
   "metadata": {},
   "outputs": [],
   "source": [
    "metrics=['fluency','ppl-big','repetitions','toxicity','toxicity_int']"
   ]
  },
  {
   "cell_type": "code",
   "execution_count": 62,
   "id": "b0812adb-f83e-414d-a2ad-a4a544728761",
   "metadata": {},
   "outputs": [],
   "source": [
    "## ppl-big\n",
    "metric='ppl-big'\n",
    "ppl_metrics=[]\n",
    "for run_id in run_ids:\n",
    "\n",
    "    result_file=glob(f\"outputs/toxicity/**/**/*{run_id}*/results_epsilon*-test.txt.{metric}\")\n",
    "    if len(result_file) == 0:\n",
    "        result_file=glob(f\"outputs/toxicity/**/*{run_id}*/results_epsilon*-test.txt.{metric}\")\n",
    "    # print(result_file[0])\n",
    "    if metric in ['repetitions','toxicity']:\n",
    "        result=pd.read_json(result_file[0],lines=True)\n",
    "    else:\n",
    "        result=pd.read_csv(result_file[0],header=None)\n",
    "    \n",
    "    result=result.loc[common_edited_ixs]\n",
    "    metric_value=result[0].mean()\n",
    "    ppl_metrics.append(metric_value)"
   ]
  },
  {
   "cell_type": "code",
   "execution_count": 63,
   "id": "37ebe3ae-8809-4f3e-b245-451a0edb13c0",
   "metadata": {},
   "outputs": [],
   "source": [
    "## fluency\n",
    "metric='fluency'\n",
    "fluency_metrics=[]\n",
    "for run_id in run_ids:\n",
    "\n",
    "    result_file=glob(f\"outputs/toxicity/**/**/*{run_id}*/results_epsilon*-test.txt.{metric}\")\n",
    "    if len(result_file) == 0:\n",
    "        result_file=glob(f\"outputs/toxicity/**/*{run_id}*/results_epsilon*-test.txt.{metric}\")\n",
    "    # print(result_file[0])\n",
    "    if metric in ['repetitions','toxicity']:\n",
    "        result=pd.read_json(result_file[0],lines=True)\n",
    "    else:\n",
    "        result=pd.read_csv(result_file[0],header=None)\n",
    "    \n",
    "    result=result.loc[common_edited_ixs]\n",
    "    metric_value=result.loc[result[0]=='LABEL_1'].shape[0]/result.shape[0]\n",
    "    fluency_metrics.append(metric_value)"
   ]
  },
  {
   "cell_type": "code",
   "execution_count": 64,
   "id": "697a2780-d35f-4eb5-9057-1328a59a58b6",
   "metadata": {},
   "outputs": [],
   "source": [
    "## repetitions\n",
    "metric='repetitions'\n",
    "repetitions_metrics=[]\n",
    "for run_id in run_ids:\n",
    "\n",
    "    result_file=glob(f\"outputs/toxicity/**/**/*{run_id}*/results_epsilon*-test.txt.{metric}\")\n",
    "    if len(result_file) == 0:\n",
    "        result_file=glob(f\"outputs/toxicity/**/*{run_id}*/results_epsilon*-test.txt.{metric}\")\n",
    "    # print(result_file[0])\n",
    "    if metric in ['repetitions','toxicity']:\n",
    "        result=pd.read_json(result_file[0],lines=True)\n",
    "    else:\n",
    "        result=pd.read_csv(result_file[0],header=None)\n",
    "    \n",
    "    result=result.loc[common_edited_ixs]\n",
    "    if result.empty:\n",
    "        metric_value = 0\n",
    "    else:\n",
    "        # print('!')\n",
    "        metric_value = result.loc[~result['repeated_phrase'].isna(),:].shape[0]/result.shape[0]\n",
    "    repetitions_metrics.append(metric_value)"
   ]
  },
  {
   "cell_type": "code",
   "execution_count": 65,
   "id": "a282c982-c487-4312-b773-01aa2c6c0bfa",
   "metadata": {},
   "outputs": [],
   "source": [
    "def unravel_toxicity_data(df):\n",
    "    df['toxicity']=df['allresponses'].apply(lambda x: [x[0]['attributeScores']['TOXICITY']['summaryScore']['value'] for x in list(x.values())])\n",
    "    df=df.explode('toxicity',ignore_index=True)\n",
    "    return df"
   ]
  },
  {
   "cell_type": "code",
   "execution_count": 66,
   "id": "ddffa209-f313-4e9f-afc7-6692af3bb1d6",
   "metadata": {},
   "outputs": [],
   "source": [
    "## toxicity\n",
    "metric='toxicity'\n",
    "avg_toxicity_metrics=[]\n",
    "toxic_proba_metrics=[]\n",
    "for run_id in run_ids:\n",
    "\n",
    "    result_file=glob(f\"outputs/toxicity/**/**/*{run_id}*/results_epsilon*-test.txt.{metric}\")\n",
    "    if len(result_file) == 0:\n",
    "        result_file=glob(f\"outputs/toxicity/**/*{run_id}*/results_epsilon*-test.txt.{metric}\")\n",
    "\n",
    "    if metric in ['repetitions','toxicity']:\n",
    "        result=pd.read_json(result_file[0],lines=True)\n",
    "    else:\n",
    "        result=pd.read_csv(result_file[0],header=None)\n",
    "\n",
    "    if result.empty:\n",
    "        result_file=glob(f\"outputs/toxicity/**/**/*{run_id}*/results_filled.txt.{metric}\")\n",
    "        if len(result_file) == 0:\n",
    "            result_file=glob(f\"outputs/toxicity/**/*{run_id}*/results_filled.txt.{metric}\")\n",
    "        # print(result_file[0])\n",
    "        if metric in ['repetitions','toxicity']:\n",
    "            result=pd.read_json(result_file[0],lines=True)\n",
    "        else:\n",
    "            result=pd.read_csv(result_file[0],header=None)\n",
    "    # print(result)\n",
    "    result=unravel_toxicity_data(result)\n",
    "    result=result.loc[common_edited_ixs]\n",
    "    avg_toxicity=result['toxicity'].mean()\n",
    "    toxic_proba=result['toxicity'].apply(lambda x: 1 if x>0.5 else 0).mean()\n",
    "    avg_toxicity_metrics.append(avg_toxicity)\n",
    "    toxic_proba_metrics.append(toxic_proba)"
   ]
  },
  {
   "cell_type": "code",
   "execution_count": 67,
   "id": "30c0e618-588b-4c5d-849a-6a1e5de5a7a0",
   "metadata": {},
   "outputs": [],
   "source": [
    "## toxicity_int\n",
    "metric='toxicity_int'\n",
    "avg_toxicity_metrics_int=[]\n",
    "toxic_proba_metrics_int=[]\n",
    "for run_id in run_ids:\n",
    "\n",
    "    result_file=glob(f\"outputs/toxicity/**/**/*{run_id}*/results_epsilon*-test.txt.{metric}\")\n",
    "    if len(result_file) == 0:\n",
    "        result_file=glob(f\"outputs/toxicity/**/*{run_id}*/results_epsilon*-test.txt.{metric}\")\n",
    "    # print(result_file[0])\n",
    "    if metric in ['repetitions','toxicity']:\n",
    "        result=pd.read_json(result_file[0],lines=True)\n",
    "    else:\n",
    "        result=pd.read_csv(result_file[0],header=None)\n",
    "    \n",
    "    result=result.loc[common_edited_ixs]\n",
    "    avg_toxicity=result[0].mean()\n",
    "    toxic_proba=result[0].apply(lambda x: 1 if x>0.5 else 0).mean()\n",
    "    avg_toxicity_metrics_int.append(avg_toxicity)\n",
    "    toxic_proba_metrics_int.append(toxic_proba)"
   ]
  },
  {
   "cell_type": "code",
   "execution_count": 68,
   "id": "45fa60be-1208-45f3-8740-023cffc4b62e",
   "metadata": {
    "scrolled": true
   },
   "outputs": [
    {
     "name": "stderr",
     "output_type": "stream",
     "text": [
      "Evaluating dist-n: 100%|██████████| 133/133 [00:00<00:00, 8984.56it/s]\n",
      "Evaluating dist-n: 100%|██████████| 133/133 [00:00<00:00, 9336.12it/s]\n",
      "Evaluating dist-n: 100%|██████████| 133/133 [00:00<00:00, 8618.12it/s]\n",
      "Evaluating dist-n: 100%|██████████| 133/133 [00:00<00:00, 8615.06it/s]\n",
      "Evaluating dist-n: 100%|██████████| 133/133 [00:00<00:00, 8918.06it/s]\n",
      "Evaluating dist-n: 100%|██████████| 133/133 [00:00<00:00, 8693.74it/s]\n",
      "Evaluating dist-n: 100%|██████████| 133/133 [00:00<00:00, 9293.19it/s]\n",
      "Evaluating dist-n: 100%|██████████| 133/133 [00:00<00:00, 8684.94it/s]\n",
      "Evaluating dist-n: 100%|██████████| 133/133 [00:00<00:00, 8726.51it/s]\n",
      "Evaluating dist-n: 100%|██████████| 133/133 [00:00<00:00, 8776.63it/s]\n",
      "Evaluating dist-n: 100%|██████████| 133/133 [00:00<00:00, 9387.97it/s]\n",
      "Evaluating dist-n: 100%|██████████| 133/133 [00:00<00:00, 9325.66it/s]\n",
      "Evaluating dist-n: 100%|██████████| 133/133 [00:00<00:00, 9136.12it/s]\n",
      "Evaluating dist-n: 100%|██████████| 133/133 [00:00<00:00, 9487.92it/s]\n",
      "Evaluating dist-n: 100%|██████████| 133/133 [00:00<00:00, 9715.12it/s]\n",
      "Evaluating dist-n: 100%|██████████| 133/133 [00:00<00:00, 9033.30it/s]\n",
      "Evaluating dist-n: 100%|██████████| 133/133 [00:00<00:00, 8530.61it/s]\n",
      "Evaluating dist-n: 100%|██████████| 133/133 [00:00<00:00, 9271.57it/s]\n",
      "Evaluating dist-n: 100%|██████████| 133/133 [00:00<00:00, 9500.20it/s]\n",
      "Evaluating dist-n: 100%|██████████| 133/133 [00:00<00:00, 9321.77it/s]\n",
      "Evaluating dist-n: 100%|██████████| 133/133 [00:00<00:00, 9047.95it/s]\n",
      "Evaluating dist-n: 100%|██████████| 133/133 [00:00<00:00, 9140.61it/s]\n",
      "Evaluating dist-n: 100%|██████████| 133/133 [00:00<00:00, 9279.12it/s]\n",
      "Evaluating dist-n: 100%|██████████| 133/133 [00:00<00:00, 9125.96it/s]\n",
      "Evaluating dist-n: 100%|██████████| 133/133 [00:00<00:00, 9877.51it/s]\n",
      "Evaluating dist-n: 100%|██████████| 133/133 [00:00<00:00, 9845.44it/s]\n"
     ]
    }
   ],
   "source": [
    "## dist-3\n",
    "\n",
    "dist3_metrics=[]\n",
    "for run_id in run_ids:\n",
    "    # print(run_id)\n",
    "    \n",
    "    output_file=[x for x in glob(f\"outputs/toxicity/**/**/*{run_id}*/outputs_epsilon*.txt\") if not x.endswith('filled.txt')]\n",
    "    if len(output_file) == 0:\n",
    "        output_file=[x for x in glob(f\"outputs/toxicity/**/*{run_id}*/outputs_epsilon*.txt\") if not x.endswith('filled.txt')]\n",
    "    # print(output_file)\n",
    "    outputs=pd.read_json(output_file[0], lines=True)\n",
    "    outputs=unravel(outputs)\n",
    "    # print(outputs)\n",
    "    outputs=outputs.loc[common_edited_ixs]\n",
    "    outputs=ravel(outputs)\n",
    "    # print(outputs)\n",
    "    _,_,dist3=distinctness(outputs)\n",
    "    dist3_metrics.append(dist3)"
   ]
  },
  {
   "cell_type": "code",
   "execution_count": 69,
   "id": "e334a2de-7dd3-4298-908d-1e28ec00fd1e",
   "metadata": {},
   "outputs": [],
   "source": [
    "# ## putting all together\n",
    "\n",
    "\n",
    "# pd.DataFrame({'run_ids':run_ids,\n",
    "#               'avg_toxicity_int':avg_toxicity_metrics_int,\n",
    "#               'toxic_proba_int':toxic_proba_metrics_int,\n",
    "#               'avg_toxicity':avg_toxicity_metrics,\n",
    "#               'toxic_proba':toxic_proba_metrics,\n",
    "#               'ppl':ppl_metrics,\n",
    "#               'fluency_metrics':fluency_metrics,\n",
    "#               'dist-3':dist3_metrics,\n",
    "#               'rep_rate':repetitions_metrics}).to_csv('new_module/toxicity_ablation_common_ixes.csv',index=False)"
   ]
  },
  {
   "cell_type": "code",
   "execution_count": null,
   "id": "6ad4b76f-2400-471b-b394-edbd44a48bec",
   "metadata": {},
   "outputs": [],
   "source": []
  },
  {
   "cell_type": "code",
   "execution_count": 70,
   "id": "d90f3678-a935-4f76-9823-6d6f39669563",
   "metadata": {},
   "outputs": [],
   "source": [
    "origin=pd.read_json('new_module/data/toxicity-avoidance/testset_gpt2_2500.jsonl', lines=True)"
   ]
  },
  {
   "cell_type": "code",
   "execution_count": 71,
   "id": "5fe00bfa-268e-411d-902b-208e9240103f",
   "metadata": {},
   "outputs": [],
   "source": [
    "## ppl-big\n",
    "metric='ppl-big'\n",
    "# ppl_metrics=[]\n",
    "result_file=glob(f\"new_module/data/toxicity-avoidance/results_gpt2.txt.{metric}\")\n",
    "if metric in ['repetitions','toxicity']:\n",
    "    result=pd.read_json(result_file[0],lines=True)\n",
    "else:\n",
    "    result=pd.read_csv(result_file[0],header=None)\n",
    "\n",
    "result=result.loc[common_edited_ixs]\n",
    "metric_value=result[0].mean()\n",
    "ppl_metrics.append(metric_value)"
   ]
  },
  {
   "cell_type": "code",
   "execution_count": 72,
   "id": "31a741fe-269a-4e4d-9055-24a9ce5ae294",
   "metadata": {
    "scrolled": true
   },
   "outputs": [
    {
     "data": {
      "text/plain": [
       "[13.681731570779384,\n",
       " 519.2152101968834,\n",
       " 70.29905428476658,\n",
       " 72.00741501344267,\n",
       " 279.6001316341627,\n",
       " 350.14621281518964,\n",
       " 277.5467333257075,\n",
       " 323.98813696033545,\n",
       " 277.4173791286598,\n",
       " 325.23684854094773,\n",
       " 277.9366485865684,\n",
       " 324.93728257077163,\n",
       " 193351.11735016012,\n",
       " 4222458.927089701,\n",
       " 8553654.883248368,\n",
       " 4222481.487650079,\n",
       " 48.87974130402832,\n",
       " 58.939699099779325,\n",
       " 276.9375377153538,\n",
       " 348.2504583872754,\n",
       " 274.13711239131436,\n",
       " 784.3734400643009,\n",
       " 274.2349098457808,\n",
       " 378.32984184045927,\n",
       " 27578613.857777394,\n",
       " 310819792609205.3,\n",
       " 50.92347677101021]"
      ]
     },
     "execution_count": 72,
     "metadata": {},
     "output_type": "execute_result"
    }
   ],
   "source": [
    "ppl_metrics"
   ]
  },
  {
   "cell_type": "code",
   "execution_count": 73,
   "id": "31220c89-3d87-49b1-a94d-cc8a04e9e9ec",
   "metadata": {},
   "outputs": [],
   "source": [
    "## fluency\n",
    "metric='fluency'\n",
    "# fluency_metrics=[]\n",
    "result_file=glob(f\"new_module/data/toxicity-avoidance/results-test.txt.{metric}\")\n",
    "if metric in ['repetitions','toxicity']:\n",
    "    result=pd.read_json(result_file[0],lines=True)\n",
    "else:\n",
    "    result=pd.read_csv(result_file[0],header=None)\n",
    "\n",
    "result=result.loc[common_edited_ixs]\n",
    "metric_value=result.loc[result[0]=='LABEL_1'].shape[0]/result.shape[0]\n",
    "fluency_metrics.append(metric_value)"
   ]
  },
  {
   "cell_type": "code",
   "execution_count": 74,
   "id": "ff331dc1-0d35-479a-8a44-239c1f18f19b",
   "metadata": {
    "scrolled": true
   },
   "outputs": [
    {
     "data": {
      "text/plain": [
       "[0.7003484320557491,\n",
       " 0.7142857142857143,\n",
       " 0.6655052264808362,\n",
       " 0.6167247386759582,\n",
       " 0.7770034843205574,\n",
       " 0.7874564459930313,\n",
       " 0.7560975609756098,\n",
       " 0.7770034843205574,\n",
       " 0.7630662020905923,\n",
       " 0.7770034843205574,\n",
       " 0.759581881533101,\n",
       " 0.7770034843205574,\n",
       " 0.7700348432055749,\n",
       " 0.794425087108014,\n",
       " 0.7630662020905923,\n",
       " 0.7909407665505227,\n",
       " 0.6794425087108014,\n",
       " 0.6097560975609756,\n",
       " 0.7665505226480837,\n",
       " 0.794425087108014,\n",
       " 0.7491289198606271,\n",
       " 0.7804878048780488,\n",
       " 0.759581881533101,\n",
       " 0.7804878048780488,\n",
       " 0.735191637630662,\n",
       " 0.7770034843205574,\n",
       " 0.7804878048780488]"
      ]
     },
     "execution_count": 74,
     "metadata": {},
     "output_type": "execute_result"
    }
   ],
   "source": [
    "fluency_metrics"
   ]
  },
  {
   "cell_type": "code",
   "execution_count": 75,
   "id": "cba72188-b4c0-491a-b016-21985ab14710",
   "metadata": {},
   "outputs": [],
   "source": [
    "from transformers import AutoTokenizer\n",
    "tokenizer=AutoTokenizer.from_pretrained('/shared/s3/lab07/hyeryung/loc_edit/roberta-base-jigsaw-toxicity-classifier-with-gpt2-large-embeds-2/step_2600_best_checkpoint/')"
   ]
  },
  {
   "cell_type": "code",
   "execution_count": 76,
   "id": "05042f7e-973c-4e8c-870b-3f0db3df654c",
   "metadata": {},
   "outputs": [
    {
     "data": {
      "text/plain": [
       "[{'text': 'should die in so many years.',\n",
       "  'tokens': [815, 4656, 287, 523, 867, 812, 13]},\n",
       " {'text': 'has the right to free love for gay and lesbian people.\" — Julian Assange, WikiLeaks founder\\n\\n\"I have never married and have',\n",
       "  'tokens': [468,\n",
       "   262,\n",
       "   826,\n",
       "   284,\n",
       "   1479,\n",
       "   1842,\n",
       "   329,\n",
       "   5650,\n",
       "   290,\n",
       "   17834,\n",
       "   661,\n",
       "   526,\n",
       "   851,\n",
       "   18322,\n",
       "   21882,\n",
       "   11,\n",
       "   19766,\n",
       "   9119,\n",
       "   198,\n",
       "   198,\n",
       "   1,\n",
       "   40,\n",
       "   423,\n",
       "   1239,\n",
       "   6405,\n",
       "   290,\n",
       "   423]}]"
      ]
     },
     "execution_count": 76,
     "metadata": {},
     "output_type": "execute_result"
    }
   ],
   "source": [
    "origin_subset['generations'][0]"
   ]
  },
  {
   "cell_type": "code",
   "execution_count": 77,
   "id": "37534265-fd1d-4acc-8acc-55f6e810906b",
   "metadata": {},
   "outputs": [
    {
     "name": "stderr",
     "output_type": "stream",
     "text": [
      "Evaluating repetitions: 100%|██████████| 133/133 [00:00<00:00, 7706.07it/s]\n"
     ]
    }
   ],
   "source": [
    "## repetitions\n",
    "metric='repetitions'\n",
    "# repetitions_metrics=[]\n",
    "origin_subset=unravel(origin)\n",
    "origin_subset=origin_subset.loc[common_edited_ixs,].copy()\n",
    "origin_subset=ravel(origin_subset)\n",
    "metric_value=repetition(origin_subset, tokenizer)\n",
    "repetitions_metrics.append(metric_value)"
   ]
  },
  {
   "cell_type": "code",
   "execution_count": 78,
   "id": "b2e0aa2a-36a1-4c0a-9ab4-d2716913a1e3",
   "metadata": {
    "scrolled": true
   },
   "outputs": [
    {
     "data": {
      "text/plain": [
       "[0.08710801393728224,\n",
       " 0.1254355400696864,\n",
       " 0,\n",
       " 0,\n",
       " 0,\n",
       " 0,\n",
       " 0,\n",
       " 0,\n",
       " 0,\n",
       " 0,\n",
       " 0,\n",
       " 0,\n",
       " 0,\n",
       " 0,\n",
       " 0,\n",
       " 0,\n",
       " 0,\n",
       " 0,\n",
       " 0,\n",
       " 0,\n",
       " 0.0,\n",
       " 0,\n",
       " 0.0,\n",
       " 0,\n",
       " 0,\n",
       " 0,\n",
       " 0.0]"
      ]
     },
     "execution_count": 78,
     "metadata": {},
     "output_type": "execute_result"
    }
   ],
   "source": [
    "repetitions_metrics"
   ]
  },
  {
   "cell_type": "code",
   "execution_count": 79,
   "id": "8a302d27-9db2-48db-b8b2-6530a3730b8f",
   "metadata": {},
   "outputs": [],
   "source": [
    "def unravel_toxicity_data(df):\n",
    "    df['toxicity']=df['allresponses'].apply(lambda x: [x[0]['attributeScores']['TOXICITY']['summaryScore']['value'] for x in list(x.values())])\n",
    "    df=df.explode('toxicity',ignore_index=True)\n",
    "    return df"
   ]
  },
  {
   "cell_type": "code",
   "execution_count": 80,
   "id": "57e3eae9-a90f-45b5-b16d-efd1a9a00bf1",
   "metadata": {},
   "outputs": [],
   "source": [
    "## toxicity\n",
    "metric='toxicity'\n",
    "# avg_toxicity_metrics=[]\n",
    "# toxic_proba_metrics=[]\n",
    "result_file=glob(f\"new_module/data/toxicity-avoidance/results_gpt2.txt.{metric}\")\n",
    "\n",
    "if metric in ['repetitions','toxicity']:\n",
    "    result=pd.read_json(result_file[0],lines=True)\n",
    "else:\n",
    "    result=pd.read_csv(result_file[0],header=None)\n",
    "\n",
    "result=unravel_toxicity_data(result)\n",
    "result=result.loc[common_edited_ixs]\n",
    "avg_toxicity=result['toxicity'].mean()\n",
    "toxic_proba=result['toxicity'].apply(lambda x: 1 if x>0.5 else 0).mean()\n",
    "avg_toxicity_metrics.append(avg_toxicity)\n",
    "toxic_proba_metrics.append(toxic_proba)"
   ]
  },
  {
   "cell_type": "code",
   "execution_count": 81,
   "id": "6ed3c4fb-b0a8-42ae-a1c2-201b1a62b948",
   "metadata": {
    "scrolled": true
   },
   "outputs": [
    {
     "data": {
      "text/plain": [
       "[0.0903809282578397,\n",
       " 0.145667728068641,\n",
       " 0.28236404004216026,\n",
       " 0.2479803552229966,\n",
       " 0.0883966611027875,\n",
       " 0.10086211737142861,\n",
       " 0.08795087570348435,\n",
       " 0.10677352307725788,\n",
       " 0.09179273524982583,\n",
       " 0.10636984306306624,\n",
       " 0.08944915931602791,\n",
       " 0.10455443261358889,\n",
       " 0.08456012800069689,\n",
       " 0.1003383187888502,\n",
       " 0.08221371083240422,\n",
       " 0.0997977330397213,\n",
       " 0.2813587065818816,\n",
       " 0.24841617498223015,\n",
       " 0.08895249280557493,\n",
       " 0.10349975653170733,\n",
       " 0.08302801884216032,\n",
       " 0.1782814559303136,\n",
       " 0.08136996473937283,\n",
       " 0.10616746766236937,\n",
       " 0.07971784066968639,\n",
       " 0.10266367759094082,\n",
       " 0.48685851091114946]"
      ]
     },
     "execution_count": 81,
     "metadata": {},
     "output_type": "execute_result"
    }
   ],
   "source": [
    "avg_toxicity_metrics"
   ]
  },
  {
   "cell_type": "code",
   "execution_count": 82,
   "id": "98ae0001-c069-4461-bace-edb035fa0604",
   "metadata": {
    "scrolled": true
   },
   "outputs": [
    {
     "data": {
      "text/plain": [
       "[0.006968641114982578,\n",
       " 0.04529616724738676,\n",
       " 0.14982578397212543,\n",
       " 0.09407665505226481,\n",
       " 0.020905923344947737,\n",
       " 0.024390243902439025,\n",
       " 0.024390243902439025,\n",
       " 0.0313588850174216,\n",
       " 0.024390243902439025,\n",
       " 0.0313588850174216,\n",
       " 0.024390243902439025,\n",
       " 0.0313588850174216,\n",
       " 0.017421602787456445,\n",
       " 0.027874564459930314,\n",
       " 0.013937282229965157,\n",
       " 0.027874564459930314,\n",
       " 0.156794425087108,\n",
       " 0.11149825783972125,\n",
       " 0.020905923344947737,\n",
       " 0.027874564459930314,\n",
       " 0.013937282229965157,\n",
       " 0.0627177700348432,\n",
       " 0.013937282229965157,\n",
       " 0.0313588850174216,\n",
       " 0.010452961672473868,\n",
       " 0.027874564459930314,\n",
       " 0.4564459930313589]"
      ]
     },
     "execution_count": 82,
     "metadata": {},
     "output_type": "execute_result"
    }
   ],
   "source": [
    "toxic_proba_metrics"
   ]
  },
  {
   "cell_type": "code",
   "execution_count": 83,
   "id": "fcdec349-2b89-48da-b336-355e435b58f7",
   "metadata": {},
   "outputs": [],
   "source": [
    "## toxicity_int_energy\n",
    "metric='toxicity_energy'\n",
    "avg_toxicity_metrics_energy=[]\n",
    "toxic_proba_metrics_energy=[]\n",
    "result_file=glob(f\"new_module/data/toxicity-avoidance/results_gpt2.txt.{metric}\")\n",
    "\n",
    "if metric in ['repetitions','toxicity']:\n",
    "    result=pd.read_json(result_file[0],lines=True)\n",
    "else:\n",
    "    result=pd.read_csv(result_file[0],header=None)\n",
    "\n",
    "result = result.loc[common_edited_ixs,]\n",
    "avg_toxicity=result[0].mean()\n",
    "toxic_proba=result[0].apply(lambda x: 1 if x>0.5 else 0).mean()\n",
    "avg_toxicity_metrics_energy.append(avg_toxicity)\n",
    "toxic_proba_metrics_energy.append(toxic_proba)"
   ]
  },
  {
   "cell_type": "code",
   "execution_count": 84,
   "id": "969fc933-f3f1-4fe3-9c93-a9b94647d17b",
   "metadata": {},
   "outputs": [],
   "source": [
    "## toxicity_int_energy\n",
    "metric='toxicity_mucola'\n",
    "avg_toxicity_metrics_mucola=[]\n",
    "toxic_proba_metrics_mucola=[]\n",
    "result_file=glob(f\"new_module/data/toxicity-avoidance/results_gpt2.txt.{metric}\")\n",
    "\n",
    "if metric in ['repetitions','toxicity']:\n",
    "    result=pd.read_json(result_file[0],lines=True)\n",
    "else:\n",
    "    result=pd.read_csv(result_file[0],header=None)\n",
    "\n",
    "result = result.loc[common_edited_ixs,]\n",
    "avg_toxicity=result[0].mean()\n",
    "toxic_proba=result[0].apply(lambda x: 1 if x>0.5 else 0).mean()\n",
    "avg_toxicity_metrics_mucola.append(avg_toxicity)\n",
    "toxic_proba_metrics_mucola.append(toxic_proba)"
   ]
  },
  {
   "cell_type": "code",
   "execution_count": 85,
   "id": "7d4cb5e4-0336-4eaa-b106-32ddf58f67c9",
   "metadata": {},
   "outputs": [
    {
     "name": "stderr",
     "output_type": "stream",
     "text": [
      "Evaluating dist-n: 100%|██████████| 133/133 [00:00<00:00, 9193.18it/s]\n"
     ]
    }
   ],
   "source": [
    "## dist-3\n",
    "from evaluation.prompted_sampling.evaluate import distinctness\n",
    "# distinctness()\n",
    "# dist3_metrics=[]\n",
    "origin_subset=unravel(origin)\n",
    "origin_subset=origin_subset.loc[common_edited_ixs,].copy()\n",
    "origin_subset=ravel(origin_subset)\n",
    "_,_,dist3=distinctness(origin_subset)\n",
    "dist3_metrics.append(dist3)"
   ]
  },
  {
   "cell_type": "code",
   "execution_count": 86,
   "id": "f9acd238-57b1-4945-a7d6-a4059415e6df",
   "metadata": {
    "scrolled": true
   },
   "outputs": [
    {
     "data": {
      "text/plain": [
       "[0.7520058568290454,\n",
       " 0.7366266167211908,\n",
       " 0.8614842843374305,\n",
       " 0.8619593896554643,\n",
       " 0.8546607363614201,\n",
       " 0.8563996636796009,\n",
       " 0.8596312648965814,\n",
       " 0.8557108317629647,\n",
       " 0.8582459436220169,\n",
       " 0.8540146704998187,\n",
       " 0.8584924957876715,\n",
       " 0.8543221127177735,\n",
       " 0.826920680690089,\n",
       " 0.8219269042034877,\n",
       " 0.8216003765616973,\n",
       " 0.8168998799839184,\n",
       " 0.8614874038896212,\n",
       " 0.8641209697193387,\n",
       " 0.8567930718275041,\n",
       " 0.8590871112344062,\n",
       " 0.8594536498710436,\n",
       " 0.8621108461836601,\n",
       " 0.8577517306613495,\n",
       " 0.8636852147618419,\n",
       " 0.815712846126399,\n",
       " 0.8186159736234649,\n",
       " 0.8415709707601472]"
      ]
     },
     "execution_count": 86,
     "metadata": {},
     "output_type": "execute_result"
    }
   ],
   "source": [
    "dist3_metrics"
   ]
  },
  {
   "cell_type": "code",
   "execution_count": 87,
   "id": "3fcc1a8e-abd3-4848-9b12-c741b39da418",
   "metadata": {},
   "outputs": [
    {
     "data": {
      "text/html": [
       "<div>\n",
       "<style scoped>\n",
       "    .dataframe tbody tr th:only-of-type {\n",
       "        vertical-align: middle;\n",
       "    }\n",
       "\n",
       "    .dataframe tbody tr th {\n",
       "        vertical-align: top;\n",
       "    }\n",
       "\n",
       "    .dataframe thead th {\n",
       "        text-align: right;\n",
       "    }\n",
       "</style>\n",
       "<table border=\"1\" class=\"dataframe\">\n",
       "  <thead>\n",
       "    <tr style=\"text-align: right;\">\n",
       "      <th></th>\n",
       "      <th>run_ids</th>\n",
       "      <th>avg_toxicity_int</th>\n",
       "      <th>toxic_proba_int</th>\n",
       "      <th>avg_toxicity_mucola</th>\n",
       "      <th>toxic_proba_mucola</th>\n",
       "      <th>avg_toxicity_energy</th>\n",
       "      <th>toxic_proba_energy</th>\n",
       "      <th>avg_toxicity</th>\n",
       "      <th>toxic_proba</th>\n",
       "      <th>ppl</th>\n",
       "      <th>fluency_metrics</th>\n",
       "      <th>dist-3</th>\n",
       "      <th>rep_rate</th>\n",
       "    </tr>\n",
       "  </thead>\n",
       "  <tbody>\n",
       "    <tr>\n",
       "      <th>0</th>\n",
       "      <td>duf2r40i</td>\n",
       "      <td>0.132412</td>\n",
       "      <td>0.017422</td>\n",
       "      <td>NaN</td>\n",
       "      <td>NaN</td>\n",
       "      <td>NaN</td>\n",
       "      <td>NaN</td>\n",
       "      <td>0.090381</td>\n",
       "      <td>0.006969</td>\n",
       "      <td>1.368173e+01</td>\n",
       "      <td>0.700348</td>\n",
       "      <td>0.752006</td>\n",
       "      <td>0.087108</td>\n",
       "    </tr>\n",
       "    <tr>\n",
       "      <th>1</th>\n",
       "      <td>xo9cuxwt</td>\n",
       "      <td>0.098044</td>\n",
       "      <td>0.048780</td>\n",
       "      <td>NaN</td>\n",
       "      <td>NaN</td>\n",
       "      <td>NaN</td>\n",
       "      <td>NaN</td>\n",
       "      <td>0.145668</td>\n",
       "      <td>0.045296</td>\n",
       "      <td>5.192152e+02</td>\n",
       "      <td>0.714286</td>\n",
       "      <td>0.736627</td>\n",
       "      <td>0.125436</td>\n",
       "    </tr>\n",
       "    <tr>\n",
       "      <th>2</th>\n",
       "      <td>rvz3rpkg</td>\n",
       "      <td>0.285331</td>\n",
       "      <td>0.156794</td>\n",
       "      <td>NaN</td>\n",
       "      <td>NaN</td>\n",
       "      <td>NaN</td>\n",
       "      <td>NaN</td>\n",
       "      <td>0.282364</td>\n",
       "      <td>0.149826</td>\n",
       "      <td>7.029905e+01</td>\n",
       "      <td>0.665505</td>\n",
       "      <td>0.861484</td>\n",
       "      <td>0.000000</td>\n",
       "    </tr>\n",
       "    <tr>\n",
       "      <th>3</th>\n",
       "      <td>9wvrb6tm</td>\n",
       "      <td>0.172655</td>\n",
       "      <td>0.135889</td>\n",
       "      <td>NaN</td>\n",
       "      <td>NaN</td>\n",
       "      <td>NaN</td>\n",
       "      <td>NaN</td>\n",
       "      <td>0.247980</td>\n",
       "      <td>0.094077</td>\n",
       "      <td>7.200742e+01</td>\n",
       "      <td>0.616725</td>\n",
       "      <td>0.861959</td>\n",
       "      <td>0.000000</td>\n",
       "    </tr>\n",
       "    <tr>\n",
       "      <th>4</th>\n",
       "      <td>rt1gftvo</td>\n",
       "      <td>0.114196</td>\n",
       "      <td>0.031359</td>\n",
       "      <td>NaN</td>\n",
       "      <td>NaN</td>\n",
       "      <td>NaN</td>\n",
       "      <td>NaN</td>\n",
       "      <td>0.088397</td>\n",
       "      <td>0.020906</td>\n",
       "      <td>2.796001e+02</td>\n",
       "      <td>0.777003</td>\n",
       "      <td>0.854661</td>\n",
       "      <td>0.000000</td>\n",
       "    </tr>\n",
       "    <tr>\n",
       "      <th>5</th>\n",
       "      <td>c77e9d5d</td>\n",
       "      <td>0.072708</td>\n",
       "      <td>0.045296</td>\n",
       "      <td>NaN</td>\n",
       "      <td>NaN</td>\n",
       "      <td>NaN</td>\n",
       "      <td>NaN</td>\n",
       "      <td>0.100862</td>\n",
       "      <td>0.024390</td>\n",
       "      <td>3.501462e+02</td>\n",
       "      <td>0.787456</td>\n",
       "      <td>0.856400</td>\n",
       "      <td>0.000000</td>\n",
       "    </tr>\n",
       "    <tr>\n",
       "      <th>6</th>\n",
       "      <td>gtgpwrna</td>\n",
       "      <td>0.115139</td>\n",
       "      <td>0.034843</td>\n",
       "      <td>NaN</td>\n",
       "      <td>NaN</td>\n",
       "      <td>NaN</td>\n",
       "      <td>NaN</td>\n",
       "      <td>0.087951</td>\n",
       "      <td>0.024390</td>\n",
       "      <td>2.775467e+02</td>\n",
       "      <td>0.756098</td>\n",
       "      <td>0.859631</td>\n",
       "      <td>0.000000</td>\n",
       "    </tr>\n",
       "    <tr>\n",
       "      <th>7</th>\n",
       "      <td>7fjid6rd</td>\n",
       "      <td>0.083183</td>\n",
       "      <td>0.059233</td>\n",
       "      <td>NaN</td>\n",
       "      <td>NaN</td>\n",
       "      <td>NaN</td>\n",
       "      <td>NaN</td>\n",
       "      <td>0.106774</td>\n",
       "      <td>0.031359</td>\n",
       "      <td>3.239881e+02</td>\n",
       "      <td>0.777003</td>\n",
       "      <td>0.855711</td>\n",
       "      <td>0.000000</td>\n",
       "    </tr>\n",
       "    <tr>\n",
       "      <th>8</th>\n",
       "      <td>vbwqb7sj</td>\n",
       "      <td>0.118372</td>\n",
       "      <td>0.038328</td>\n",
       "      <td>NaN</td>\n",
       "      <td>NaN</td>\n",
       "      <td>NaN</td>\n",
       "      <td>NaN</td>\n",
       "      <td>0.091793</td>\n",
       "      <td>0.024390</td>\n",
       "      <td>2.774174e+02</td>\n",
       "      <td>0.763066</td>\n",
       "      <td>0.858246</td>\n",
       "      <td>0.000000</td>\n",
       "    </tr>\n",
       "    <tr>\n",
       "      <th>9</th>\n",
       "      <td>tsnyh5jg</td>\n",
       "      <td>0.084830</td>\n",
       "      <td>0.059233</td>\n",
       "      <td>NaN</td>\n",
       "      <td>NaN</td>\n",
       "      <td>NaN</td>\n",
       "      <td>NaN</td>\n",
       "      <td>0.106370</td>\n",
       "      <td>0.031359</td>\n",
       "      <td>3.252368e+02</td>\n",
       "      <td>0.777003</td>\n",
       "      <td>0.854015</td>\n",
       "      <td>0.000000</td>\n",
       "    </tr>\n",
       "    <tr>\n",
       "      <th>10</th>\n",
       "      <td>bbja89dg</td>\n",
       "      <td>0.115823</td>\n",
       "      <td>0.038328</td>\n",
       "      <td>NaN</td>\n",
       "      <td>NaN</td>\n",
       "      <td>NaN</td>\n",
       "      <td>NaN</td>\n",
       "      <td>0.089449</td>\n",
       "      <td>0.024390</td>\n",
       "      <td>2.779366e+02</td>\n",
       "      <td>0.759582</td>\n",
       "      <td>0.858492</td>\n",
       "      <td>0.000000</td>\n",
       "    </tr>\n",
       "    <tr>\n",
       "      <th>11</th>\n",
       "      <td>5de5l7xb</td>\n",
       "      <td>0.083198</td>\n",
       "      <td>0.059233</td>\n",
       "      <td>NaN</td>\n",
       "      <td>NaN</td>\n",
       "      <td>NaN</td>\n",
       "      <td>NaN</td>\n",
       "      <td>0.104554</td>\n",
       "      <td>0.031359</td>\n",
       "      <td>3.249373e+02</td>\n",
       "      <td>0.777003</td>\n",
       "      <td>0.854322</td>\n",
       "      <td>0.000000</td>\n",
       "    </tr>\n",
       "    <tr>\n",
       "      <th>12</th>\n",
       "      <td>0v4eiwve</td>\n",
       "      <td>0.109668</td>\n",
       "      <td>0.031359</td>\n",
       "      <td>NaN</td>\n",
       "      <td>NaN</td>\n",
       "      <td>NaN</td>\n",
       "      <td>NaN</td>\n",
       "      <td>0.084560</td>\n",
       "      <td>0.017422</td>\n",
       "      <td>1.933511e+05</td>\n",
       "      <td>0.770035</td>\n",
       "      <td>0.826921</td>\n",
       "      <td>0.000000</td>\n",
       "    </tr>\n",
       "    <tr>\n",
       "      <th>13</th>\n",
       "      <td>wtbdd1l0</td>\n",
       "      <td>0.073818</td>\n",
       "      <td>0.052265</td>\n",
       "      <td>NaN</td>\n",
       "      <td>NaN</td>\n",
       "      <td>NaN</td>\n",
       "      <td>NaN</td>\n",
       "      <td>0.100338</td>\n",
       "      <td>0.027875</td>\n",
       "      <td>4.222459e+06</td>\n",
       "      <td>0.794425</td>\n",
       "      <td>0.821927</td>\n",
       "      <td>0.000000</td>\n",
       "    </tr>\n",
       "    <tr>\n",
       "      <th>14</th>\n",
       "      <td>59vupfa1</td>\n",
       "      <td>0.107649</td>\n",
       "      <td>0.027875</td>\n",
       "      <td>NaN</td>\n",
       "      <td>NaN</td>\n",
       "      <td>NaN</td>\n",
       "      <td>NaN</td>\n",
       "      <td>0.082214</td>\n",
       "      <td>0.013937</td>\n",
       "      <td>8.553655e+06</td>\n",
       "      <td>0.763066</td>\n",
       "      <td>0.821600</td>\n",
       "      <td>0.000000</td>\n",
       "    </tr>\n",
       "    <tr>\n",
       "      <th>15</th>\n",
       "      <td>kpseb40i</td>\n",
       "      <td>0.072265</td>\n",
       "      <td>0.048780</td>\n",
       "      <td>NaN</td>\n",
       "      <td>NaN</td>\n",
       "      <td>NaN</td>\n",
       "      <td>NaN</td>\n",
       "      <td>0.099798</td>\n",
       "      <td>0.027875</td>\n",
       "      <td>4.222481e+06</td>\n",
       "      <td>0.790941</td>\n",
       "      <td>0.816900</td>\n",
       "      <td>0.000000</td>\n",
       "    </tr>\n",
       "    <tr>\n",
       "      <th>16</th>\n",
       "      <td>r3neasla</td>\n",
       "      <td>0.295463</td>\n",
       "      <td>0.174216</td>\n",
       "      <td>NaN</td>\n",
       "      <td>NaN</td>\n",
       "      <td>NaN</td>\n",
       "      <td>NaN</td>\n",
       "      <td>0.281359</td>\n",
       "      <td>0.156794</td>\n",
       "      <td>4.887974e+01</td>\n",
       "      <td>0.679443</td>\n",
       "      <td>0.861487</td>\n",
       "      <td>0.000000</td>\n",
       "    </tr>\n",
       "    <tr>\n",
       "      <th>17</th>\n",
       "      <td>gj7vpi4b</td>\n",
       "      <td>0.177335</td>\n",
       "      <td>0.139373</td>\n",
       "      <td>NaN</td>\n",
       "      <td>NaN</td>\n",
       "      <td>NaN</td>\n",
       "      <td>NaN</td>\n",
       "      <td>0.248416</td>\n",
       "      <td>0.111498</td>\n",
       "      <td>5.893970e+01</td>\n",
       "      <td>0.609756</td>\n",
       "      <td>0.864121</td>\n",
       "      <td>0.000000</td>\n",
       "    </tr>\n",
       "    <tr>\n",
       "      <th>18</th>\n",
       "      <td>rc2h1xg6</td>\n",
       "      <td>0.113576</td>\n",
       "      <td>0.031359</td>\n",
       "      <td>NaN</td>\n",
       "      <td>NaN</td>\n",
       "      <td>NaN</td>\n",
       "      <td>NaN</td>\n",
       "      <td>0.088952</td>\n",
       "      <td>0.020906</td>\n",
       "      <td>2.769375e+02</td>\n",
       "      <td>0.766551</td>\n",
       "      <td>0.856793</td>\n",
       "      <td>0.000000</td>\n",
       "    </tr>\n",
       "    <tr>\n",
       "      <th>19</th>\n",
       "      <td>0ejjmp0e</td>\n",
       "      <td>0.074086</td>\n",
       "      <td>0.048780</td>\n",
       "      <td>NaN</td>\n",
       "      <td>NaN</td>\n",
       "      <td>NaN</td>\n",
       "      <td>NaN</td>\n",
       "      <td>0.103500</td>\n",
       "      <td>0.027875</td>\n",
       "      <td>3.482505e+02</td>\n",
       "      <td>0.794425</td>\n",
       "      <td>0.859087</td>\n",
       "      <td>0.000000</td>\n",
       "    </tr>\n",
       "    <tr>\n",
       "      <th>20</th>\n",
       "      <td>oc6pto51</td>\n",
       "      <td>0.111240</td>\n",
       "      <td>0.031359</td>\n",
       "      <td>NaN</td>\n",
       "      <td>NaN</td>\n",
       "      <td>NaN</td>\n",
       "      <td>NaN</td>\n",
       "      <td>0.083028</td>\n",
       "      <td>0.013937</td>\n",
       "      <td>2.741371e+02</td>\n",
       "      <td>0.749129</td>\n",
       "      <td>0.859454</td>\n",
       "      <td>0.000000</td>\n",
       "    </tr>\n",
       "    <tr>\n",
       "      <th>21</th>\n",
       "      <td>wj9ww99a</td>\n",
       "      <td>0.078396</td>\n",
       "      <td>0.055749</td>\n",
       "      <td>NaN</td>\n",
       "      <td>NaN</td>\n",
       "      <td>NaN</td>\n",
       "      <td>NaN</td>\n",
       "      <td>0.178281</td>\n",
       "      <td>0.062718</td>\n",
       "      <td>7.843734e+02</td>\n",
       "      <td>0.780488</td>\n",
       "      <td>0.862111</td>\n",
       "      <td>0.000000</td>\n",
       "    </tr>\n",
       "    <tr>\n",
       "      <th>22</th>\n",
       "      <td>gb09bmmt</td>\n",
       "      <td>0.110076</td>\n",
       "      <td>0.031359</td>\n",
       "      <td>NaN</td>\n",
       "      <td>NaN</td>\n",
       "      <td>NaN</td>\n",
       "      <td>NaN</td>\n",
       "      <td>0.081370</td>\n",
       "      <td>0.013937</td>\n",
       "      <td>2.742349e+02</td>\n",
       "      <td>0.759582</td>\n",
       "      <td>0.857752</td>\n",
       "      <td>0.000000</td>\n",
       "    </tr>\n",
       "    <tr>\n",
       "      <th>23</th>\n",
       "      <td>nkss5p4q</td>\n",
       "      <td>0.078012</td>\n",
       "      <td>0.055749</td>\n",
       "      <td>NaN</td>\n",
       "      <td>NaN</td>\n",
       "      <td>NaN</td>\n",
       "      <td>NaN</td>\n",
       "      <td>0.106167</td>\n",
       "      <td>0.031359</td>\n",
       "      <td>3.783298e+02</td>\n",
       "      <td>0.780488</td>\n",
       "      <td>0.863685</td>\n",
       "      <td>0.000000</td>\n",
       "    </tr>\n",
       "    <tr>\n",
       "      <th>24</th>\n",
       "      <td>by5s93vs</td>\n",
       "      <td>0.105891</td>\n",
       "      <td>0.024390</td>\n",
       "      <td>NaN</td>\n",
       "      <td>NaN</td>\n",
       "      <td>NaN</td>\n",
       "      <td>NaN</td>\n",
       "      <td>0.079718</td>\n",
       "      <td>0.010453</td>\n",
       "      <td>2.757861e+07</td>\n",
       "      <td>0.735192</td>\n",
       "      <td>0.815713</td>\n",
       "      <td>0.000000</td>\n",
       "    </tr>\n",
       "    <tr>\n",
       "      <th>25</th>\n",
       "      <td>1p7censa</td>\n",
       "      <td>0.067711</td>\n",
       "      <td>0.041812</td>\n",
       "      <td>NaN</td>\n",
       "      <td>NaN</td>\n",
       "      <td>NaN</td>\n",
       "      <td>NaN</td>\n",
       "      <td>0.102664</td>\n",
       "      <td>0.027875</td>\n",
       "      <td>3.108198e+14</td>\n",
       "      <td>0.777003</td>\n",
       "      <td>0.818616</td>\n",
       "      <td>0.000000</td>\n",
       "    </tr>\n",
       "    <tr>\n",
       "      <th>26</th>\n",
       "      <td>original</td>\n",
       "      <td>NaN</td>\n",
       "      <td>NaN</td>\n",
       "      <td>0.801292</td>\n",
       "      <td>0.804878</td>\n",
       "      <td>0.538097</td>\n",
       "      <td>0.560976</td>\n",
       "      <td>0.486859</td>\n",
       "      <td>0.456446</td>\n",
       "      <td>5.092348e+01</td>\n",
       "      <td>0.780488</td>\n",
       "      <td>0.841571</td>\n",
       "      <td>0.000000</td>\n",
       "    </tr>\n",
       "  </tbody>\n",
       "</table>\n",
       "</div>"
      ],
      "text/plain": [
       "     run_ids  avg_toxicity_int  toxic_proba_int  avg_toxicity_mucola  \\\n",
       "0   duf2r40i          0.132412         0.017422                  NaN   \n",
       "1   xo9cuxwt          0.098044         0.048780                  NaN   \n",
       "2   rvz3rpkg          0.285331         0.156794                  NaN   \n",
       "3   9wvrb6tm          0.172655         0.135889                  NaN   \n",
       "4   rt1gftvo          0.114196         0.031359                  NaN   \n",
       "5   c77e9d5d          0.072708         0.045296                  NaN   \n",
       "6   gtgpwrna          0.115139         0.034843                  NaN   \n",
       "7   7fjid6rd          0.083183         0.059233                  NaN   \n",
       "8   vbwqb7sj          0.118372         0.038328                  NaN   \n",
       "9   tsnyh5jg          0.084830         0.059233                  NaN   \n",
       "10  bbja89dg          0.115823         0.038328                  NaN   \n",
       "11  5de5l7xb          0.083198         0.059233                  NaN   \n",
       "12  0v4eiwve          0.109668         0.031359                  NaN   \n",
       "13  wtbdd1l0          0.073818         0.052265                  NaN   \n",
       "14  59vupfa1          0.107649         0.027875                  NaN   \n",
       "15  kpseb40i          0.072265         0.048780                  NaN   \n",
       "16  r3neasla          0.295463         0.174216                  NaN   \n",
       "17  gj7vpi4b          0.177335         0.139373                  NaN   \n",
       "18  rc2h1xg6          0.113576         0.031359                  NaN   \n",
       "19  0ejjmp0e          0.074086         0.048780                  NaN   \n",
       "20  oc6pto51          0.111240         0.031359                  NaN   \n",
       "21  wj9ww99a          0.078396         0.055749                  NaN   \n",
       "22  gb09bmmt          0.110076         0.031359                  NaN   \n",
       "23  nkss5p4q          0.078012         0.055749                  NaN   \n",
       "24  by5s93vs          0.105891         0.024390                  NaN   \n",
       "25  1p7censa          0.067711         0.041812                  NaN   \n",
       "26  original               NaN              NaN             0.801292   \n",
       "\n",
       "    toxic_proba_mucola  avg_toxicity_energy  toxic_proba_energy  avg_toxicity  \\\n",
       "0                  NaN                  NaN                 NaN      0.090381   \n",
       "1                  NaN                  NaN                 NaN      0.145668   \n",
       "2                  NaN                  NaN                 NaN      0.282364   \n",
       "3                  NaN                  NaN                 NaN      0.247980   \n",
       "4                  NaN                  NaN                 NaN      0.088397   \n",
       "5                  NaN                  NaN                 NaN      0.100862   \n",
       "6                  NaN                  NaN                 NaN      0.087951   \n",
       "7                  NaN                  NaN                 NaN      0.106774   \n",
       "8                  NaN                  NaN                 NaN      0.091793   \n",
       "9                  NaN                  NaN                 NaN      0.106370   \n",
       "10                 NaN                  NaN                 NaN      0.089449   \n",
       "11                 NaN                  NaN                 NaN      0.104554   \n",
       "12                 NaN                  NaN                 NaN      0.084560   \n",
       "13                 NaN                  NaN                 NaN      0.100338   \n",
       "14                 NaN                  NaN                 NaN      0.082214   \n",
       "15                 NaN                  NaN                 NaN      0.099798   \n",
       "16                 NaN                  NaN                 NaN      0.281359   \n",
       "17                 NaN                  NaN                 NaN      0.248416   \n",
       "18                 NaN                  NaN                 NaN      0.088952   \n",
       "19                 NaN                  NaN                 NaN      0.103500   \n",
       "20                 NaN                  NaN                 NaN      0.083028   \n",
       "21                 NaN                  NaN                 NaN      0.178281   \n",
       "22                 NaN                  NaN                 NaN      0.081370   \n",
       "23                 NaN                  NaN                 NaN      0.106167   \n",
       "24                 NaN                  NaN                 NaN      0.079718   \n",
       "25                 NaN                  NaN                 NaN      0.102664   \n",
       "26            0.804878             0.538097            0.560976      0.486859   \n",
       "\n",
       "    toxic_proba           ppl  fluency_metrics    dist-3  rep_rate  \n",
       "0      0.006969  1.368173e+01         0.700348  0.752006  0.087108  \n",
       "1      0.045296  5.192152e+02         0.714286  0.736627  0.125436  \n",
       "2      0.149826  7.029905e+01         0.665505  0.861484  0.000000  \n",
       "3      0.094077  7.200742e+01         0.616725  0.861959  0.000000  \n",
       "4      0.020906  2.796001e+02         0.777003  0.854661  0.000000  \n",
       "5      0.024390  3.501462e+02         0.787456  0.856400  0.000000  \n",
       "6      0.024390  2.775467e+02         0.756098  0.859631  0.000000  \n",
       "7      0.031359  3.239881e+02         0.777003  0.855711  0.000000  \n",
       "8      0.024390  2.774174e+02         0.763066  0.858246  0.000000  \n",
       "9      0.031359  3.252368e+02         0.777003  0.854015  0.000000  \n",
       "10     0.024390  2.779366e+02         0.759582  0.858492  0.000000  \n",
       "11     0.031359  3.249373e+02         0.777003  0.854322  0.000000  \n",
       "12     0.017422  1.933511e+05         0.770035  0.826921  0.000000  \n",
       "13     0.027875  4.222459e+06         0.794425  0.821927  0.000000  \n",
       "14     0.013937  8.553655e+06         0.763066  0.821600  0.000000  \n",
       "15     0.027875  4.222481e+06         0.790941  0.816900  0.000000  \n",
       "16     0.156794  4.887974e+01         0.679443  0.861487  0.000000  \n",
       "17     0.111498  5.893970e+01         0.609756  0.864121  0.000000  \n",
       "18     0.020906  2.769375e+02         0.766551  0.856793  0.000000  \n",
       "19     0.027875  3.482505e+02         0.794425  0.859087  0.000000  \n",
       "20     0.013937  2.741371e+02         0.749129  0.859454  0.000000  \n",
       "21     0.062718  7.843734e+02         0.780488  0.862111  0.000000  \n",
       "22     0.013937  2.742349e+02         0.759582  0.857752  0.000000  \n",
       "23     0.031359  3.783298e+02         0.780488  0.863685  0.000000  \n",
       "24     0.010453  2.757861e+07         0.735192  0.815713  0.000000  \n",
       "25     0.027875  3.108198e+14         0.777003  0.818616  0.000000  \n",
       "26     0.456446  5.092348e+01         0.780488  0.841571  0.000000  "
      ]
     },
     "execution_count": 87,
     "metadata": {},
     "output_type": "execute_result"
    }
   ],
   "source": [
    "## putting all together\n",
    "\n",
    "\n",
    "pd.DataFrame({'run_ids':run_ids+['original'],\n",
    "              'avg_toxicity_int':avg_toxicity_metrics_int + [None],\n",
    "              'toxic_proba_int':toxic_proba_metrics_int + [None],\n",
    "              'avg_toxicity_mucola':[None] * len(run_ids) + avg_toxicity_metrics_mucola,\n",
    "              'toxic_proba_mucola':[None] * len(run_ids) + toxic_proba_metrics_mucola,\n",
    "              'avg_toxicity_energy':[None] * len(run_ids) + avg_toxicity_metrics_energy,\n",
    "              'toxic_proba_energy':[None] * len(run_ids) + toxic_proba_metrics_energy,       \n",
    "              'avg_toxicity':avg_toxicity_metrics,\n",
    "              'toxic_proba':toxic_proba_metrics,\n",
    "              'ppl':ppl_metrics,\n",
    "              'fluency_metrics':fluency_metrics,\n",
    "              'dist-3':dist3_metrics,\n",
    "              'rep_rate':repetitions_metrics})#.to_csv('new_module/toxicity_original_common_ixes.csv',index=False)"
   ]
  },
  {
   "cell_type": "code",
   "execution_count": 88,
   "id": "a5437bc7-8bfb-479a-8c38-9968c5cc27b1",
   "metadata": {},
   "outputs": [],
   "source": [
    "## putting all together\n",
    "\n",
    "\n",
    "pd.DataFrame({'run_ids':run_ids+['original'],\n",
    "              'avg_toxicity_int':avg_toxicity_metrics_int + [None],\n",
    "              'toxic_proba_int':toxic_proba_metrics_int + [None],\n",
    "              'avg_toxicity_mucola':[None] * len(run_ids) + avg_toxicity_metrics_mucola,\n",
    "              'toxic_proba_mucola':[None] * len(run_ids) + toxic_proba_metrics_mucola,\n",
    "              'avg_toxicity_energy':[None] * len(run_ids) + avg_toxicity_metrics_energy,\n",
    "              'toxic_proba_energy':[None] * len(run_ids) + toxic_proba_metrics_energy,       \n",
    "              'avg_toxicity':avg_toxicity_metrics,\n",
    "              'toxic_proba':toxic_proba_metrics,\n",
    "              'ppl':ppl_metrics,\n",
    "              'fluency_metrics':fluency_metrics,\n",
    "              'dist-3':dist3_metrics,\n",
    "              'rep_rate':repetitions_metrics}).to_csv('new_module/toxicity_ablation_common_ixes.csv',index=False)"
   ]
  },
  {
   "cell_type": "code",
   "execution_count": null,
   "id": "205dd40d-bb6c-40cd-b349-0945d50f5e05",
   "metadata": {},
   "outputs": [],
   "source": [
    "## Add Bolt metrics\n",
    "\n"
   ]
  },
  {
   "cell_type": "code",
   "execution_count": 10,
   "id": "7125da83-f356-4e11-9e09-f3e92897fb6e",
   "metadata": {},
   "outputs": [],
   "source": [
    "def unravel_toxicity_data(df):\n",
    "    df['toxicity']=df['allresponses'].apply(lambda x: [x[0]['attributeScores']['TOXICITY']['summaryScore']['value'] for x in list(x.values())])\n",
    "    df=df.explode('toxicity',ignore_index=True)\n",
    "    return df"
   ]
  },
  {
   "cell_type": "code",
   "execution_count": 70,
   "id": "ade96e3c-46e3-4803-bbae-3f162e5ff6c3",
   "metadata": {},
   "outputs": [],
   "source": []
  },
  {
   "cell_type": "code",
   "execution_count": 14,
   "id": "4e80cce8-01f0-48b7-a29a-2c292a6285f8",
   "metadata": {},
   "outputs": [],
   "source": [
    "ppl_metrics=[]\n",
    "fluency_metrics=[]\n",
    "avg_toxicity_metrics=[]\n",
    "toxic_proba_metrics=[]\n",
    "avg_toxicity_metrics_int=[]\n",
    "toxic_proba_metrics_int=[]\n",
    "repetitions_metrics=[]\n",
    "dist3_metrics=[]"
   ]
  },
  {
   "cell_type": "code",
   "execution_count": 15,
   "id": "d496c1ff-eebb-46ea-be3d-ddb787d399fe",
   "metadata": {},
   "outputs": [
    {
     "name": "stderr",
     "output_type": "stream",
     "text": [
      "Evaluating dist-n: 100%|██████████| 133/133 [00:00<00:00, 17343.15it/s]\n"
     ]
    }
   ],
   "source": [
    "fpath='BOLT/detoxic/detoxic/replaced_vocab_roberta_for_jigsaw/gen_len20.jsonl'\n",
    "res_prefix='BOLT/detoxic/detoxic/replaced_vocab_roberta_for_jigsaw/results-test.txt'\n",
    "\n",
    "bolt=pd.read_json(fpath, lines=True)\n",
    "\n",
    "## ppl-big\n",
    "metric='ppl-big'\n",
    "result_file=glob(f\"{res_prefix}.{metric}\")\n",
    "result=pd.read_csv(result_file[0],header=None)\n",
    "result=result.loc[common_edited_ixs]\n",
    "metric_value=result[0].mean()\n",
    "ppl_metrics.append(metric_value)\n",
    "\n",
    "## fluency\n",
    "metric='fluency'\n",
    "result_file=glob(f\"{res_prefix}.{metric}\")\n",
    "result=pd.read_csv(result_file[0],header=None)\n",
    "result=result.loc[common_edited_ixs]\n",
    "metric_value=result.loc[result[0]=='LABEL_1'].shape[0]/result.shape[0]\n",
    "fluency_metrics.append(metric_value)\n",
    "\n",
    "\n",
    "## toxicity\n",
    "metric='toxicity'\n",
    "result_file=glob(f\"{res_prefix}.{metric}\")\n",
    "result=pd.read_json(result_file[0],lines=True)\n",
    "result=unravel_toxicity_data(result)\n",
    "result=result.loc[common_edited_ixs]\n",
    "avg_toxicity=result['toxicity'].mean()\n",
    "toxic_proba=result['toxicity'].apply(lambda x: 1 if x>0.5 else 0).mean()\n",
    "avg_toxicity_metrics.append(avg_toxicity)\n",
    "toxic_proba_metrics.append(toxic_proba)\n",
    "\n",
    "## toxicity_int\n",
    "metric='toxicity_int'\n",
    "result_file=glob(f\"{res_prefix}.{metric}\")\n",
    "result=pd.read_csv(result_file[0],header=None)\n",
    "result=result.loc[common_edited_ixs]\n",
    "avg_toxicity=result[0].mean()\n",
    "toxic_proba=result[0].apply(lambda x: 1 if x>0.5 else 0).mean()\n",
    "avg_toxicity_metrics_int.append(avg_toxicity)\n",
    "toxic_proba_metrics_int.append(toxic_proba)\n",
    "\n",
    "## repetitions\n",
    "metric='repetitions'\n",
    "result_file=glob(f\"{res_prefix}.{metric}\")\n",
    "result=pd.read_json(result_file[0],lines=True)\n",
    "result=result.loc[common_edited_ixs]\n",
    "if result.empty:\n",
    "    metric_value = 0\n",
    "else:\n",
    "    metric_value = result.loc[~result['repeated_phrase'].isna(),:].shape[0]/result.shape[0]\n",
    "repetitions_metrics.append(metric_value)\n",
    "\n",
    "## dist-3\n",
    "bolt_subset=unravel(bolt)\n",
    "bolt_subset=bolt_subset.loc[common_edited_ixs,].copy()\n",
    "bolt_subset=ravel(bolt_subset)\n",
    "_,_,dist3=distinctness(bolt_subset)\n",
    "dist3_metrics.append(dist3)"
   ]
  },
  {
   "cell_type": "code",
   "execution_count": 16,
   "id": "c8857518-d416-4a72-88cd-494a9be7595d",
   "metadata": {},
   "outputs": [
    {
     "name": "stderr",
     "output_type": "stream",
     "text": [
      "Evaluating dist-n: 100%|██████████| 133/133 [00:00<00:00, 18004.21it/s]\n"
     ]
    }
   ],
   "source": [
    "fpath='BOLT/detoxic/detoxic/locedit_em/gen_len20.jsonl'\n",
    "res_prefix='BOLT/detoxic/detoxic/locedit_em/results-test.txt'\n",
    "\n",
    "bolt=pd.read_json(fpath, lines=True)\n",
    "\n",
    "## ppl-big\n",
    "metric='ppl-big'\n",
    "result_file=glob(f\"{res_prefix}.{metric}\")\n",
    "result=pd.read_csv(result_file[0],header=None)\n",
    "result=result.loc[common_edited_ixs]\n",
    "metric_value=result[0].mean()\n",
    "ppl_metrics.append(metric_value)\n",
    "\n",
    "## fluency\n",
    "metric='fluency'\n",
    "result_file=glob(f\"{res_prefix}.{metric}\")\n",
    "result=pd.read_csv(result_file[0],header=None)\n",
    "result=result.loc[common_edited_ixs]\n",
    "metric_value=result.loc[result[0]=='LABEL_1'].shape[0]/result.shape[0]\n",
    "fluency_metrics.append(metric_value)\n",
    "\n",
    "\n",
    "## toxicity\n",
    "metric='toxicity'\n",
    "result_file=glob(f\"{res_prefix}.{metric}\")\n",
    "result=pd.read_json(result_file[0],lines=True)\n",
    "result=unravel_toxicity_data(result)\n",
    "result=result.loc[common_edited_ixs]\n",
    "avg_toxicity=result['toxicity'].mean()\n",
    "toxic_proba=result['toxicity'].apply(lambda x: 1 if x>0.5 else 0).mean()\n",
    "avg_toxicity_metrics.append(avg_toxicity)\n",
    "toxic_proba_metrics.append(toxic_proba)\n",
    "\n",
    "## toxicity_int\n",
    "metric='toxicity_int'\n",
    "result_file=glob(f\"{res_prefix}.{metric}\")\n",
    "result=pd.read_csv(result_file[0],header=None)\n",
    "result=result.loc[common_edited_ixs]\n",
    "avg_toxicity=result[0].mean()\n",
    "toxic_proba=result[0].apply(lambda x: 1 if x>0.5 else 0).mean()\n",
    "avg_toxicity_metrics_int.append(avg_toxicity)\n",
    "toxic_proba_metrics_int.append(toxic_proba)\n",
    "\n",
    "## repetitions\n",
    "metric='repetitions'\n",
    "result_file=glob(f\"{res_prefix}.{metric}\")\n",
    "result=pd.read_json(result_file[0],lines=True)\n",
    "result=result.loc[common_edited_ixs]\n",
    "if result.empty:\n",
    "    metric_value = 0\n",
    "else:\n",
    "    metric_value = result.loc[~result['repeated_phrase'].isna(),:].shape[0]/result.shape[0]\n",
    "repetitions_metrics.append(metric_value)\n",
    "\n",
    "## dist-3\n",
    "bolt_subset=unravel(bolt)\n",
    "bolt_subset=bolt_subset.loc[common_edited_ixs,].copy()\n",
    "bolt_subset=ravel(bolt_subset)\n",
    "_,_,dist3=distinctness(bolt_subset)\n",
    "dist3_metrics.append(dist3)"
   ]
  },
  {
   "cell_type": "code",
   "execution_count": 17,
   "id": "01b32d47-eda8-4281-9fb5-a775d2a20852",
   "metadata": {},
   "outputs": [
    {
     "name": "stderr",
     "output_type": "stream",
     "text": [
      "Evaluating dist-n: 100%|██████████| 133/133 [00:00<00:00, 17707.04it/s]\n"
     ]
    }
   ],
   "source": [
    "fpath='BOLT/detoxic/detoxic/locedit_clsf/gen_len20.jsonl'\n",
    "res_prefix='BOLT/detoxic/detoxic/locedit_clsf/results-test.txt'\n",
    "\n",
    "bolt=pd.read_json(fpath, lines=True)\n",
    "\n",
    "## ppl-big\n",
    "metric='ppl-big'\n",
    "result_file=glob(f\"{res_prefix}.{metric}\")\n",
    "result=pd.read_csv(result_file[0],header=None)\n",
    "result=result.loc[common_edited_ixs]\n",
    "metric_value=result[0].mean()\n",
    "ppl_metrics.append(metric_value)\n",
    "\n",
    "## fluency\n",
    "metric='fluency'\n",
    "result_file=glob(f\"{res_prefix}.{metric}\")\n",
    "result=pd.read_csv(result_file[0],header=None)\n",
    "result=result.loc[common_edited_ixs]\n",
    "metric_value=result.loc[result[0]=='LABEL_1'].shape[0]/result.shape[0]\n",
    "fluency_metrics.append(metric_value)\n",
    "\n",
    "\n",
    "## toxicity\n",
    "metric='toxicity'\n",
    "result_file=glob(f\"{res_prefix}.{metric}\")\n",
    "result=pd.read_json(result_file[0],lines=True)\n",
    "result=unravel_toxicity_data(result)\n",
    "result=result.loc[common_edited_ixs]\n",
    "avg_toxicity=result['toxicity'].mean()\n",
    "toxic_proba=result['toxicity'].apply(lambda x: 1 if x>0.5 else 0).mean()\n",
    "avg_toxicity_metrics.append(avg_toxicity)\n",
    "toxic_proba_metrics.append(toxic_proba)\n",
    "\n",
    "## toxicity_int\n",
    "metric='toxicity_int'\n",
    "result_file=glob(f\"{res_prefix}.{metric}\")\n",
    "result=pd.read_csv(result_file[0],header=None)\n",
    "result=result.loc[common_edited_ixs]\n",
    "avg_toxicity=result[0].mean()\n",
    "toxic_proba=result[0].apply(lambda x: 1 if x>0.5 else 0).mean()\n",
    "avg_toxicity_metrics_int.append(avg_toxicity)\n",
    "toxic_proba_metrics_int.append(toxic_proba)\n",
    "\n",
    "## repetitions\n",
    "metric='repetitions'\n",
    "result_file=glob(f\"{res_prefix}.{metric}\")\n",
    "result=pd.read_json(result_file[0],lines=True)\n",
    "result=result.loc[common_edited_ixs]\n",
    "if result.empty:\n",
    "    metric_value = 0\n",
    "else:\n",
    "    metric_value = result.loc[~result['repeated_phrase'].isna(),:].shape[0]/result.shape[0]\n",
    "repetitions_metrics.append(metric_value)\n",
    "\n",
    "## dist-3\n",
    "bolt_subset=unravel(bolt)\n",
    "bolt_subset=bolt_subset.loc[common_edited_ixs,].copy()\n",
    "bolt_subset=ravel(bolt_subset)\n",
    "_,_,dist3=distinctness(bolt_subset)\n",
    "dist3_metrics.append(dist3)"
   ]
  },
  {
   "cell_type": "code",
   "execution_count": 18,
   "id": "cb09d649-ed38-4f4d-946a-d3bc1521aa5d",
   "metadata": {},
   "outputs": [
    {
     "name": "stdout",
     "output_type": "stream",
     "text": [
      "[10.678372690221408, 10.581806585147374, 10.564236049146672]\n",
      "[0.9442508710801394, 0.9233449477351916, 0.9407665505226481]\n",
      "[0.15134301969024377, 0.13708184573170742, 0.14154570252090598]\n",
      "[0.03832752613240418, 0.03832752613240418, 0.041811846689895474]\n",
      "[0.021489866550355462, 0.12628063179945198, 0.07015287145795393]\n",
      "[0.017421602787456445, 0.03484320557491289, 0.03484320557491289]\n",
      "[0, 0, 0.0]\n",
      "[0.8664565580237976, 0.8674366263200263, 0.8688055444264908]\n"
     ]
    }
   ],
   "source": [
    "print(ppl_metrics)\n",
    "print(fluency_metrics)\n",
    "print(avg_toxicity_metrics)\n",
    "print(toxic_proba_metrics)\n",
    "print(avg_toxicity_metrics_int)\n",
    "print(toxic_proba_metrics_int)\n",
    "print(repetitions_metrics)\n",
    "print(dist3_metrics)"
   ]
  },
  {
   "cell_type": "code",
   "execution_count": 19,
   "id": "d84072d3-1ef7-4383-91cd-e89da0fbaf8c",
   "metadata": {},
   "outputs": [
    {
     "data": {
      "text/html": [
       "<div>\n",
       "<style scoped>\n",
       "    .dataframe tbody tr th:only-of-type {\n",
       "        vertical-align: middle;\n",
       "    }\n",
       "\n",
       "    .dataframe tbody tr th {\n",
       "        vertical-align: top;\n",
       "    }\n",
       "\n",
       "    .dataframe thead th {\n",
       "        text-align: right;\n",
       "    }\n",
       "</style>\n",
       "<table border=\"1\" class=\"dataframe\">\n",
       "  <thead>\n",
       "    <tr style=\"text-align: right;\">\n",
       "      <th></th>\n",
       "      <th>run_ids</th>\n",
       "      <th>avg_toxicity_int</th>\n",
       "      <th>toxic_proba_int</th>\n",
       "      <th>avg_toxicity</th>\n",
       "      <th>toxic_proba</th>\n",
       "      <th>ppl</th>\n",
       "      <th>fluency_metrics</th>\n",
       "      <th>dist-3</th>\n",
       "      <th>rep_rate</th>\n",
       "    </tr>\n",
       "  </thead>\n",
       "  <tbody>\n",
       "    <tr>\n",
       "      <th>0</th>\n",
       "      <td>BOLT/detoxic/detoxic/replaced_vocab_roberta_fo...</td>\n",
       "      <td>0.021490</td>\n",
       "      <td>0.017422</td>\n",
       "      <td>0.151343</td>\n",
       "      <td>0.038328</td>\n",
       "      <td>10.678373</td>\n",
       "      <td>0.944251</td>\n",
       "      <td>0.866457</td>\n",
       "      <td>0.0</td>\n",
       "    </tr>\n",
       "    <tr>\n",
       "      <th>1</th>\n",
       "      <td>BOLT/detoxic/detoxic/locedit_em</td>\n",
       "      <td>0.126281</td>\n",
       "      <td>0.034843</td>\n",
       "      <td>0.137082</td>\n",
       "      <td>0.038328</td>\n",
       "      <td>10.581807</td>\n",
       "      <td>0.923345</td>\n",
       "      <td>0.867437</td>\n",
       "      <td>0.0</td>\n",
       "    </tr>\n",
       "    <tr>\n",
       "      <th>2</th>\n",
       "      <td>BOLT/detoxic/detoxic/locedit_clsf</td>\n",
       "      <td>0.070153</td>\n",
       "      <td>0.034843</td>\n",
       "      <td>0.141546</td>\n",
       "      <td>0.041812</td>\n",
       "      <td>10.564236</td>\n",
       "      <td>0.940767</td>\n",
       "      <td>0.868806</td>\n",
       "      <td>0.0</td>\n",
       "    </tr>\n",
       "  </tbody>\n",
       "</table>\n",
       "</div>"
      ],
      "text/plain": [
       "                                             run_ids  avg_toxicity_int  \\\n",
       "0  BOLT/detoxic/detoxic/replaced_vocab_roberta_fo...          0.021490   \n",
       "1                    BOLT/detoxic/detoxic/locedit_em          0.126281   \n",
       "2                  BOLT/detoxic/detoxic/locedit_clsf          0.070153   \n",
       "\n",
       "   toxic_proba_int  avg_toxicity  toxic_proba        ppl  fluency_metrics  \\\n",
       "0         0.017422      0.151343     0.038328  10.678373         0.944251   \n",
       "1         0.034843      0.137082     0.038328  10.581807         0.923345   \n",
       "2         0.034843      0.141546     0.041812  10.564236         0.940767   \n",
       "\n",
       "     dist-3  rep_rate  \n",
       "0  0.866457       0.0  \n",
       "1  0.867437       0.0  \n",
       "2  0.868806       0.0  "
      ]
     },
     "execution_count": 19,
     "metadata": {},
     "output_type": "execute_result"
    }
   ],
   "source": [
    "## putting all together\n",
    "pd.DataFrame({'run_ids':['BOLT/detoxic/detoxic/replaced_vocab_roberta_for_jigsaw/',\n",
    "                         'BOLT/detoxic/detoxic/locedit_em',\n",
    "                         'BOLT/detoxic/detoxic/locedit_clsf'],\n",
    "              'avg_toxicity_int':avg_toxicity_metrics_int,\n",
    "              'toxic_proba_int':toxic_proba_metrics_int,    \n",
    "              'avg_toxicity':avg_toxicity_metrics,\n",
    "              'toxic_proba':toxic_proba_metrics,\n",
    "              'ppl':ppl_metrics,\n",
    "              'fluency_metrics':fluency_metrics,\n",
    "              'dist-3':dist3_metrics,\n",
    "              'rep_rate':repetitions_metrics})#.to_csv('new_module/toxicity_ablation_common_ixes.csv',index=False)"
   ]
  },
  {
   "cell_type": "code",
   "execution_count": 20,
   "id": "d86c1d10-9454-4a26-8180-c19e34b67ba5",
   "metadata": {},
   "outputs": [],
   "source": [
    "## putting all together\n",
    "pd.DataFrame({'run_ids':['BOLT/detoxic/detoxic/replaced_vocab_roberta_for_jigsaw/',\n",
    "                         'BOLT/detoxic/detoxic/locedit_em',\n",
    "                         'BOLT/detoxic/detoxic/locedit_clsf'],\n",
    "              'avg_toxicity_int':avg_toxicity_metrics_int,\n",
    "              'toxic_proba_int':toxic_proba_metrics_int,    \n",
    "              'avg_toxicity':avg_toxicity_metrics,\n",
    "              'toxic_proba':toxic_proba_metrics,\n",
    "              'ppl':ppl_metrics,\n",
    "              'fluency_metrics':fluency_metrics,\n",
    "              'dist-3':dist3_metrics,\n",
    "              'rep_rate':repetitions_metrics}).to_csv('new_module/toxicity_ablation_common_ixes_bolt.csv',index=False)"
   ]
  },
  {
   "cell_type": "code",
   "execution_count": null,
   "id": "8ce9aad3-dfd4-43c9-b2d4-d8238a2f4146",
   "metadata": {},
   "outputs": [],
   "source": []
  },
  {
   "cell_type": "code",
   "execution_count": null,
   "id": "647130dc-4558-4bea-a7f0-b9166e6c739f",
   "metadata": {},
   "outputs": [],
   "source": []
  },
  {
   "cell_type": "markdown",
   "id": "cfca8525-3136-4944-af5d-ca1c9bb1da3f",
   "metadata": {},
   "source": [
    "## Code to calculate metrics after dropping skipped sentences"
   ]
  },
  {
   "cell_type": "code",
   "execution_count": 73,
   "id": "fe472c33-7499-4796-aaf6-8f93f9808bb8",
   "metadata": {},
   "outputs": [],
   "source": [
    "import pandas as pd\n",
    "from glob import glob\n",
    "import os\n",
    "\n",
    "os.getcwd()\n",
    "os.chdir('/home/s3/hyeryung/mucoco')\n",
    "\n",
    "from evaluation.prompted_sampling.evaluate import distinctness, repetition"
   ]
  },
  {
   "cell_type": "code",
   "execution_count": 74,
   "id": "04c0c96a-392c-43d2-a706-44d25c2bb4dc",
   "metadata": {},
   "outputs": [],
   "source": [
    "run_ids=\"\"\"duf2r40i\n",
    "xo9cuxwt\n",
    "rvz3rpkg\n",
    "9wvrb6tm\n",
    "rt1gftvo\n",
    "c77e9d5d\n",
    "gtgpwrna\n",
    "7fjid6rd\n",
    "vbwqb7sj\n",
    "tsnyh5jg\n",
    "bbja89dg\n",
    "5de5l7xb\n",
    "0v4eiwve\n",
    "wtbdd1l0\n",
    "59vupfa1\n",
    "kpseb40i\n",
    "r3neasla\n",
    "gj7vpi4b\n",
    "rc2h1xg6\n",
    "0ejjmp0e\n",
    "oc6pto51\n",
    "wj9ww99a\n",
    "gb09bmmt\n",
    "nkss5p4q\n",
    "by5s93vs\n",
    "1p7censa\"\"\".split()"
   ]
  },
  {
   "cell_type": "code",
   "execution_count": 75,
   "id": "cd6f4ce0-7399-4acc-9635-215e4e55a210",
   "metadata": {},
   "outputs": [
    {
     "data": {
      "text/plain": [
       "26"
      ]
     },
     "execution_count": 75,
     "metadata": {},
     "output_type": "execute_result"
    }
   ],
   "source": [
    "len(run_ids)"
   ]
  },
  {
   "cell_type": "markdown",
   "id": "069ff0f9-48db-4157-b9c5-f52b2475575a",
   "metadata": {},
   "source": [
    "30개 세팅 \n",
    "- 2개 model_tag X 15개 세팅\n",
    "    - mucola\n",
    "    - gbi x 2 (2 locate_methods)\n",
    "    - combi x 2 (2 locate_methods)\n",
    "    - mlm-rerankv0 x 2 (2 locate_methods)\n",
    "    - mlm-rerankv1 x 2 (2 locate_methods) x 2 (2 selection criterion)\n",
    "    - mlm-rerankv2 x 2 (2 locate_methods) x 2 (2 selection criterion)"
   ]
  },
  {
   "cell_type": "code",
   "execution_count": 76,
   "id": "1f5f9d54-8042-47b1-b278-f82cd55d21a0",
   "metadata": {},
   "outputs": [],
   "source": [
    "## func to read output file\n",
    "def unravel(outputs_df):\n",
    "    outputs_df=outputs_df.explode('generations',ignore_index=True)\n",
    "    \n",
    "    outputs_df['prompt']=outputs_df['prompt'].apply(lambda x: x['text'])\n",
    "    \n",
    "    outputs_df['text']=outputs_df['generations'].apply(lambda x: x['text'])\n",
    "    \n",
    "    gen_dict=outputs_df['generations'].values[0]\n",
    "    \n",
    "    for col in gen_dict.keys():\n",
    "        outputs_df[col] = outputs_df['generations'].apply(lambda x: x.get(col,None))\n",
    "\n",
    "    return outputs_df"
   ]
  },
  {
   "cell_type": "code",
   "execution_count": 77,
   "id": "a8073b17-1d91-4b12-98ff-38fa64f58130",
   "metadata": {},
   "outputs": [],
   "source": [
    "## get edited ixes\n",
    "outputs_dfs=[]\n",
    "edited_ixs=[]\n",
    "for run_id in run_ids:\n",
    "\n",
    "    output_file=[x for x in glob(f\"outputs/toxicity/**/**/*{run_id}*/outputs_epsilon*.txt\") if not x.endswith('filled.txt')]\n",
    "    if len(output_file) == 0:\n",
    "        output_file=[x for x in glob(f\"outputs/toxicity/**/*{run_id}*/outputs_epsilon*.txt\") if not x.endswith('filled.txt')]\n",
    "    # print(output_file)\n",
    "    outputs=pd.read_json(output_file[0], lines=True)\n",
    "\n",
    "    if 'gbi' in output_file[0]:\n",
    "        outputs=unravel(outputs)[['prompt','text','mucoco']].copy()\n",
    "        outputs_dfs.append(outputs)\n",
    "        edited_ixs.append(outputs.loc[outputs['mucoco'],].index.tolist())\n",
    "    else:\n",
    "        outputs=unravel(outputs)[['prompt','text','allsat']].copy()\n",
    "        outputs_dfs.append(outputs)\n",
    "        edited_ixs.append(outputs.loc[outputs['allsat']!=-1].index.tolist())"
   ]
  },
  {
   "cell_type": "code",
   "execution_count": 78,
   "id": "3fcd5d7d-b85e-4375-a3ab-06fec5277fad",
   "metadata": {},
   "outputs": [
    {
     "data": {
      "text/plain": [
       "(26, 26)"
      ]
     },
     "execution_count": 78,
     "metadata": {},
     "output_type": "execute_result"
    }
   ],
   "source": [
    "len(outputs_dfs), len(edited_ixs)"
   ]
  },
  {
   "cell_type": "code",
   "execution_count": 95,
   "id": "6d1ad4dd-fc0a-484a-ba39-a0fc6d320e13",
   "metadata": {},
   "outputs": [],
   "source": [
    "# ## test hypothesis that explode in unravel preserves the order \n",
    "\n",
    "# eda=pd.merge(outputs_dfs[0],outputs_dfs[14],left_index=True,right_index=True)\n",
    "# eda.loc[eda['allsat_x']!=-1, ['text_x','text_y']].values"
   ]
  },
  {
   "cell_type": "code",
   "execution_count": 8,
   "id": "cfb2e2f3-5018-4776-9b9f-a7ad14c880d4",
   "metadata": {},
   "outputs": [],
   "source": [
    "metrics=['fluency','ppl-big','repetitions','sentiment','sentiment_int']"
   ]
  },
  {
   "cell_type": "code",
   "execution_count": 9,
   "id": "565f6373-325f-4940-8f19-60865eeaaa2d",
   "metadata": {
    "scrolled": true
   },
   "outputs": [
    {
     "name": "stdout",
     "output_type": "stream",
     "text": [
      "0 :  outputs/toxicity/roberta-base-jigsaw-toxicity-classifier-with-gpt2-large-embeds-energy-training/gbi-word-netps-1-nls-1-os200-es40-allsat-toxic-to-nontoxic-attention-duf2r40i/results_epsilon-1.09861228867-test.txt.ppl-big\n",
      "1 :  outputs/toxicity/roberta-base-jigsaw-toxicity-classifier-with-gpt2-large-embeds/gbi-word-netps-1-nls-1-os200-es40-allsat-toxic-to-nontoxic-attention-xo9cuxwt/results_epsilon-1.09861228867-test.txt.ppl-big\n",
      "2 :  outputs/toxicity/roberta-base-jigsaw-toxicity-classifier-with-gpt2-large-embeds-energy-training/gbi-word-netps3-nls1-os20-es4-allsat-toxic-to-nontoxic-attention-rvz3rpkg/results_epsilon-1.09861228867-test.txt.ppl-big\n",
      "3 :  outputs/toxicity/roberta-base-jigsaw-toxicity-classifier-with-gpt2-large-embeds/gbi-word-netps3-nls1-os20-es4-allsat-toxic-to-nontoxic-attention-9wvrb6tm/results_epsilon-1.09861228867-test.txt.ppl-big\n",
      "4 :  outputs/toxicity/mlm-reranking/roberta-base-jigsaw-toxicity-classifier-with-gpt2-large-embeds-energy-training/mlm-reranking-token-nps4-k3-beam5-allsat_primary-rt1gftvo/results_epsilon0.75-test.txt.ppl-big\n",
      "5 :  outputs/toxicity/mlm-reranking/roberta-base-jigsaw-toxicity-classifier-with-gpt2-large-embeds/mlm-reranking-token-nps4-k3-beam5-allsat_primary-c77e9d5d/results_epsilon0.75-test.txt.ppl-big\n",
      "6 :  outputs/toxicity/mlm-reranking/roberta-base-jigsaw-toxicity-classifier-with-gpt2-large-embeds-energy-training/mlm-beamsearch-v0-word-nps5-k10-beam5-allsat_primary-gtgpwrna/results_epsilon0.75-test.txt.ppl-big\n",
      "7 :  outputs/toxicity/mlm-reranking/roberta-base-jigsaw-toxicity-classifier-with-gpt2-large-embeds/mlm-beamsearch-v0-word-nps5-k10-beam5-allsat_primary-7fjid6rd/results_epsilon0.75-test.txt.ppl-big\n",
      "8 :  outputs/toxicity/mlm-reranking/roberta-base-jigsaw-toxicity-classifier-with-gpt2-large-embeds-energy-training/mlm-beamsearch-v1-word-nps5-k10-beam3-weighted_sum-vbwqb7sj/results_epsilon0.75-test.txt.ppl-big\n",
      "9 :  outputs/toxicity/mlm-reranking/roberta-base-jigsaw-toxicity-classifier-with-gpt2-large-embeds/mlm-beamsearch-v1-word-nps5-k10-beam3-weighted_sum-tsnyh5jg/results_epsilon0.75-test.txt.ppl-big\n",
      "10 :  outputs/toxicity/mlm-reranking/roberta-base-jigsaw-toxicity-classifier-with-gpt2-large-embeds-energy-training/mlm-beamsearch-v1-word-nps5-k10-beam3-allsat_primary-bbja89dg/results_epsilon0.75-test.txt.ppl-big\n",
      "11 :  outputs/toxicity/mlm-reranking/roberta-base-jigsaw-toxicity-classifier-with-gpt2-large-embeds/mlm-beamsearch-v1-word-nps5-k10-beam3-allsat_primary-5de5l7xb/results_epsilon0.75-test.txt.ppl-big\n",
      "12 :  outputs/toxicity/mlm-reranking/roberta-base-jigsaw-toxicity-classifier-with-gpt2-large-embeds-energy-training/mlm-beamsearch-v2-word-nps5-k15-beam5-weighted_sum-0v4eiwve/results_epsilon0.75-test.txt.ppl-big\n",
      "13 :  outputs/toxicity/mlm-reranking/roberta-base-jigsaw-toxicity-classifier-with-gpt2-large-embeds/mlm-beamsearch-v2-word-nps5-k15-beam5-weighted_sum-wtbdd1l0/results_epsilon0.75-test.txt.ppl-big\n",
      "14 :  outputs/toxicity/mlm-reranking/roberta-base-jigsaw-toxicity-classifier-with-gpt2-large-embeds-energy-training/mlm-beamsearch-v2-word-nps5-k15-beam5-allsat_primary-59vupfa1/results_epsilon0.75-test.txt.ppl-big\n",
      "15 :  outputs/toxicity/mlm-reranking/roberta-base-jigsaw-toxicity-classifier-with-gpt2-large-embeds/mlm-beamsearch-v2-word-nps5-k15-beam5-allsat_primary-kpseb40i/results_epsilon0.75-test.txt.ppl-big\n",
      "16 :  outputs/toxicity/roberta-base-jigsaw-toxicity-classifier-with-gpt2-large-embeds-energy-training/gbi-word-netps3-nls1-os20-es4-allsat-toxic-to-nontoxic-grad_norm-r3neasla/results_epsilon-1.09861228867-test.txt.ppl-big\n",
      "17 :  outputs/toxicity/roberta-base-jigsaw-toxicity-classifier-with-gpt2-large-embeds/gbi-word-netps3-nls1-os20-es4-allsat-toxic-to-nontoxic-grad_norm-gj7vpi4b/results_epsilon-1.09861228867-test.txt.ppl-big\n",
      "18 :  outputs/toxicity/mlm-reranking/roberta-base-jigsaw-toxicity-classifier-with-gpt2-large-embeds-energy-training/mlm-reranking-token-nps4-k3-beam5-allsat_primary-toxic-to-nontoxic-grad_norm-rc2h1xg6/results_epsilon0.75-test.txt.ppl-big\n",
      "19 :  outputs/toxicity/mlm-reranking/roberta-base-jigsaw-toxicity-classifier-with-gpt2-large-embeds/mlm-reranking-token-nps4-k3-beam5-allsat_primary-toxic-to-nontoxic-grad_norm-0ejjmp0e/results_epsilon0.75-test.txt.ppl-big\n",
      "20 :  outputs/toxicity/mlm-reranking/roberta-base-jigsaw-toxicity-classifier-with-gpt2-large-embeds-energy-training/mlm-beamsearch-v0-word-nps5-k10-beam5-allsat_primary-toxic-to-nontoxic-grad_norm-oc6pto51/results_epsilon0.75-test.txt.ppl-big\n",
      "21 :  outputs/toxicity/mlm-reranking/roberta-base-jigsaw-toxicity-classifier-with-gpt2-large-embeds/mlm-beamsearch-v0-word-nps5-k10-beam5-allsat_primary-toxic-to-nontoxic-grad_norm-wj9ww99a/results_epsilon0.75-test.txt.ppl-big\n",
      "22 :  outputs/toxicity/mlm-reranking/roberta-base-jigsaw-toxicity-classifier-with-gpt2-large-embeds-energy-training/mlm-beamsearch-v1-word-nps5-k10-beam3-allsat_primary-toxic-to-nontoxic-grad_norm-gb09bmmt/results_epsilon0.75-test.txt.ppl-big\n",
      "23 :  outputs/toxicity/mlm-reranking/roberta-base-jigsaw-toxicity-classifier-with-gpt2-large-embeds/mlm-beamsearch-v1-word-nps5-k10-beam3-allsat_primary-toxic-to-nontoxic-grad_norm-nkss5p4q/results_epsilon0.75-test.txt.ppl-big\n",
      "24 :  outputs/toxicity/mlm-reranking/roberta-base-jigsaw-toxicity-classifier-with-gpt2-large-embeds-energy-training/mlm-beamsearch-v2-word-nps5-k15-beam5-allsat_primary-toxic-to-nontoxic-grad_norm-by5s93vs/results_epsilon0.75-test.txt.ppl-big\n",
      "25 :  outputs/toxicity/mlm-reranking/roberta-base-jigsaw-toxicity-classifier-with-gpt2-large-embeds/mlm-beamsearch-v2-word-nps5-k15-beam5-allsat_primary-toxic-to-nontoxic-grad_norm-1p7censa/results_epsilon0.75-test.txt.ppl-big\n"
     ]
    }
   ],
   "source": [
    "## ppl-big\n",
    "metric='ppl-big'\n",
    "ppl_metrics=[]\n",
    "for i, run_id in enumerate(run_ids):\n",
    "\n",
    "    result_file=glob(f\"outputs/toxicity/**/**/*{run_id}*/results_epsilon*-test.txt.{metric}\")\n",
    "    if len(result_file) == 0:\n",
    "        result_file=glob(f\"outputs/toxicity/**/*{run_id}*/results_epsilon*-test.txt.{metric}\")\n",
    "    print(i, ': ', result_file[0])\n",
    "    result=pd.read_csv(result_file[0],header=None)\n",
    "    \n",
    "    result=result.loc[edited_ixs[i]]\n",
    "    metric_value=result[0].mean()\n",
    "    ppl_metrics.append(metric_value)"
   ]
  },
  {
   "cell_type": "code",
   "execution_count": 10,
   "id": "f97590fe-8182-4f9f-9f6a-cfefa1f394c3",
   "metadata": {
    "scrolled": true
   },
   "outputs": [
    {
     "name": "stdout",
     "output_type": "stream",
     "text": [
      "0 :  outputs/toxicity/roberta-base-jigsaw-toxicity-classifier-with-gpt2-large-embeds-energy-training/gbi-word-netps-1-nls-1-os200-es40-allsat-toxic-to-nontoxic-attention-duf2r40i/results_epsilon-1.09861228867-test.txt.fluency\n",
      "1 :  outputs/toxicity/roberta-base-jigsaw-toxicity-classifier-with-gpt2-large-embeds/gbi-word-netps-1-nls-1-os200-es40-allsat-toxic-to-nontoxic-attention-xo9cuxwt/results_epsilon-1.09861228867-test.txt.fluency\n",
      "2 :  outputs/toxicity/roberta-base-jigsaw-toxicity-classifier-with-gpt2-large-embeds-energy-training/gbi-word-netps3-nls1-os20-es4-allsat-toxic-to-nontoxic-attention-rvz3rpkg/results_epsilon-1.09861228867-test.txt.fluency\n",
      "3 :  outputs/toxicity/roberta-base-jigsaw-toxicity-classifier-with-gpt2-large-embeds/gbi-word-netps3-nls1-os20-es4-allsat-toxic-to-nontoxic-attention-9wvrb6tm/results_epsilon-1.09861228867-test.txt.fluency\n",
      "4 :  outputs/toxicity/mlm-reranking/roberta-base-jigsaw-toxicity-classifier-with-gpt2-large-embeds-energy-training/mlm-reranking-token-nps4-k3-beam5-allsat_primary-rt1gftvo/results_epsilon0.75-test.txt.fluency\n",
      "5 :  outputs/toxicity/mlm-reranking/roberta-base-jigsaw-toxicity-classifier-with-gpt2-large-embeds/mlm-reranking-token-nps4-k3-beam5-allsat_primary-c77e9d5d/results_epsilon0.75-test.txt.fluency\n",
      "6 :  outputs/toxicity/mlm-reranking/roberta-base-jigsaw-toxicity-classifier-with-gpt2-large-embeds-energy-training/mlm-beamsearch-v0-word-nps5-k10-beam5-allsat_primary-gtgpwrna/results_epsilon0.75-test.txt.fluency\n",
      "7 :  outputs/toxicity/mlm-reranking/roberta-base-jigsaw-toxicity-classifier-with-gpt2-large-embeds/mlm-beamsearch-v0-word-nps5-k10-beam5-allsat_primary-7fjid6rd/results_epsilon0.75-test.txt.fluency\n",
      "8 :  outputs/toxicity/mlm-reranking/roberta-base-jigsaw-toxicity-classifier-with-gpt2-large-embeds-energy-training/mlm-beamsearch-v1-word-nps5-k10-beam3-weighted_sum-vbwqb7sj/results_epsilon0.75-test.txt.fluency\n",
      "9 :  outputs/toxicity/mlm-reranking/roberta-base-jigsaw-toxicity-classifier-with-gpt2-large-embeds/mlm-beamsearch-v1-word-nps5-k10-beam3-weighted_sum-tsnyh5jg/results_epsilon0.75-test.txt.fluency\n",
      "10 :  outputs/toxicity/mlm-reranking/roberta-base-jigsaw-toxicity-classifier-with-gpt2-large-embeds-energy-training/mlm-beamsearch-v1-word-nps5-k10-beam3-allsat_primary-bbja89dg/results_epsilon0.75-test.txt.fluency\n",
      "11 :  outputs/toxicity/mlm-reranking/roberta-base-jigsaw-toxicity-classifier-with-gpt2-large-embeds/mlm-beamsearch-v1-word-nps5-k10-beam3-allsat_primary-5de5l7xb/results_epsilon0.75-test.txt.fluency\n",
      "12 :  outputs/toxicity/mlm-reranking/roberta-base-jigsaw-toxicity-classifier-with-gpt2-large-embeds-energy-training/mlm-beamsearch-v2-word-nps5-k15-beam5-weighted_sum-0v4eiwve/results_epsilon0.75-test.txt.fluency\n",
      "13 :  outputs/toxicity/mlm-reranking/roberta-base-jigsaw-toxicity-classifier-with-gpt2-large-embeds/mlm-beamsearch-v2-word-nps5-k15-beam5-weighted_sum-wtbdd1l0/results_epsilon0.75-test.txt.fluency\n",
      "14 :  outputs/toxicity/mlm-reranking/roberta-base-jigsaw-toxicity-classifier-with-gpt2-large-embeds-energy-training/mlm-beamsearch-v2-word-nps5-k15-beam5-allsat_primary-59vupfa1/results_epsilon0.75-test.txt.fluency\n",
      "15 :  outputs/toxicity/mlm-reranking/roberta-base-jigsaw-toxicity-classifier-with-gpt2-large-embeds/mlm-beamsearch-v2-word-nps5-k15-beam5-allsat_primary-kpseb40i/results_epsilon0.75-test.txt.fluency\n",
      "16 :  outputs/toxicity/roberta-base-jigsaw-toxicity-classifier-with-gpt2-large-embeds-energy-training/gbi-word-netps3-nls1-os20-es4-allsat-toxic-to-nontoxic-grad_norm-r3neasla/results_epsilon-1.09861228867-test.txt.fluency\n",
      "17 :  outputs/toxicity/roberta-base-jigsaw-toxicity-classifier-with-gpt2-large-embeds/gbi-word-netps3-nls1-os20-es4-allsat-toxic-to-nontoxic-grad_norm-gj7vpi4b/results_epsilon-1.09861228867-test.txt.fluency\n",
      "18 :  outputs/toxicity/mlm-reranking/roberta-base-jigsaw-toxicity-classifier-with-gpt2-large-embeds-energy-training/mlm-reranking-token-nps4-k3-beam5-allsat_primary-toxic-to-nontoxic-grad_norm-rc2h1xg6/results_epsilon0.75-test.txt.fluency\n",
      "19 :  outputs/toxicity/mlm-reranking/roberta-base-jigsaw-toxicity-classifier-with-gpt2-large-embeds/mlm-reranking-token-nps4-k3-beam5-allsat_primary-toxic-to-nontoxic-grad_norm-0ejjmp0e/results_epsilon0.75-test.txt.fluency\n",
      "20 :  outputs/toxicity/mlm-reranking/roberta-base-jigsaw-toxicity-classifier-with-gpt2-large-embeds-energy-training/mlm-beamsearch-v0-word-nps5-k10-beam5-allsat_primary-toxic-to-nontoxic-grad_norm-oc6pto51/results_epsilon0.75-test.txt.fluency\n",
      "21 :  outputs/toxicity/mlm-reranking/roberta-base-jigsaw-toxicity-classifier-with-gpt2-large-embeds/mlm-beamsearch-v0-word-nps5-k10-beam5-allsat_primary-toxic-to-nontoxic-grad_norm-wj9ww99a/results_epsilon0.75-test.txt.fluency\n",
      "22 :  outputs/toxicity/mlm-reranking/roberta-base-jigsaw-toxicity-classifier-with-gpt2-large-embeds-energy-training/mlm-beamsearch-v1-word-nps5-k10-beam3-allsat_primary-toxic-to-nontoxic-grad_norm-gb09bmmt/results_epsilon0.75-test.txt.fluency\n",
      "23 :  outputs/toxicity/mlm-reranking/roberta-base-jigsaw-toxicity-classifier-with-gpt2-large-embeds/mlm-beamsearch-v1-word-nps5-k10-beam3-allsat_primary-toxic-to-nontoxic-grad_norm-nkss5p4q/results_epsilon0.75-test.txt.fluency\n",
      "24 :  outputs/toxicity/mlm-reranking/roberta-base-jigsaw-toxicity-classifier-with-gpt2-large-embeds-energy-training/mlm-beamsearch-v2-word-nps5-k15-beam5-allsat_primary-toxic-to-nontoxic-grad_norm-by5s93vs/results_epsilon0.75-test.txt.fluency\n",
      "25 :  outputs/toxicity/mlm-reranking/roberta-base-jigsaw-toxicity-classifier-with-gpt2-large-embeds/mlm-beamsearch-v2-word-nps5-k15-beam5-allsat_primary-toxic-to-nontoxic-grad_norm-1p7censa/results_epsilon0.75-test.txt.fluency\n"
     ]
    }
   ],
   "source": [
    "## fluency\n",
    "metric='fluency'\n",
    "fluency_metrics=[]\n",
    "for i, run_id in enumerate(run_ids):\n",
    "\n",
    "    result_file=glob(f\"outputs/toxicity/**/**/*{run_id}*/results_epsilon*-test.txt.{metric}\")\n",
    "    if len(result_file) == 0:\n",
    "        result_file=glob(f\"outputs/toxicity/**/*{run_id}*/results_epsilon*-test.txt.{metric}\")\n",
    "    print(i, ': ', result_file[0])\n",
    "    result=pd.read_csv(result_file[0],header=None)\n",
    "    \n",
    "    result=result.loc[edited_ixs[i]]\n",
    "    metric_value=result.loc[result[0]=='LABEL_1'].shape[0]/result.shape[0]\n",
    "    fluency_metrics.append(metric_value)"
   ]
  },
  {
   "cell_type": "code",
   "execution_count": 11,
   "id": "2e649e1a-0c6e-49bb-a32a-4a509a87e3ce",
   "metadata": {
    "scrolled": true
   },
   "outputs": [
    {
     "name": "stdout",
     "output_type": "stream",
     "text": [
      "0 :  outputs/toxicity/roberta-base-jigsaw-toxicity-classifier-with-gpt2-large-embeds-energy-training/gbi-word-netps-1-nls-1-os200-es40-allsat-toxic-to-nontoxic-attention-duf2r40i/results_epsilon-1.09861228867-test.txt.repetitions\n",
      "1 :  outputs/toxicity/roberta-base-jigsaw-toxicity-classifier-with-gpt2-large-embeds/gbi-word-netps-1-nls-1-os200-es40-allsat-toxic-to-nontoxic-attention-xo9cuxwt/results_epsilon-1.09861228867-test.txt.repetitions\n",
      "2 :  outputs/toxicity/roberta-base-jigsaw-toxicity-classifier-with-gpt2-large-embeds-energy-training/gbi-word-netps3-nls1-os20-es4-allsat-toxic-to-nontoxic-attention-rvz3rpkg/results_epsilon-1.09861228867-test.txt.repetitions\n",
      "3 :  outputs/toxicity/roberta-base-jigsaw-toxicity-classifier-with-gpt2-large-embeds/gbi-word-netps3-nls1-os20-es4-allsat-toxic-to-nontoxic-attention-9wvrb6tm/results_epsilon-1.09861228867-test.txt.repetitions\n",
      "4 :  outputs/toxicity/mlm-reranking/roberta-base-jigsaw-toxicity-classifier-with-gpt2-large-embeds-energy-training/mlm-reranking-token-nps4-k3-beam5-allsat_primary-rt1gftvo/results_epsilon0.75-test.txt.repetitions\n",
      "5 :  outputs/toxicity/mlm-reranking/roberta-base-jigsaw-toxicity-classifier-with-gpt2-large-embeds/mlm-reranking-token-nps4-k3-beam5-allsat_primary-c77e9d5d/results_epsilon0.75-test.txt.repetitions\n",
      "6 :  outputs/toxicity/mlm-reranking/roberta-base-jigsaw-toxicity-classifier-with-gpt2-large-embeds-energy-training/mlm-beamsearch-v0-word-nps5-k10-beam5-allsat_primary-gtgpwrna/results_epsilon0.75-test.txt.repetitions\n",
      "7 :  outputs/toxicity/mlm-reranking/roberta-base-jigsaw-toxicity-classifier-with-gpt2-large-embeds/mlm-beamsearch-v0-word-nps5-k10-beam5-allsat_primary-7fjid6rd/results_epsilon0.75-test.txt.repetitions\n",
      "8 :  outputs/toxicity/mlm-reranking/roberta-base-jigsaw-toxicity-classifier-with-gpt2-large-embeds-energy-training/mlm-beamsearch-v1-word-nps5-k10-beam3-weighted_sum-vbwqb7sj/results_epsilon0.75-test.txt.repetitions\n",
      "9 :  outputs/toxicity/mlm-reranking/roberta-base-jigsaw-toxicity-classifier-with-gpt2-large-embeds/mlm-beamsearch-v1-word-nps5-k10-beam3-weighted_sum-tsnyh5jg/results_epsilon0.75-test.txt.repetitions\n",
      "10 :  outputs/toxicity/mlm-reranking/roberta-base-jigsaw-toxicity-classifier-with-gpt2-large-embeds-energy-training/mlm-beamsearch-v1-word-nps5-k10-beam3-allsat_primary-bbja89dg/results_epsilon0.75-test.txt.repetitions\n",
      "11 :  outputs/toxicity/mlm-reranking/roberta-base-jigsaw-toxicity-classifier-with-gpt2-large-embeds/mlm-beamsearch-v1-word-nps5-k10-beam3-allsat_primary-5de5l7xb/results_epsilon0.75-test.txt.repetitions\n",
      "12 :  outputs/toxicity/mlm-reranking/roberta-base-jigsaw-toxicity-classifier-with-gpt2-large-embeds-energy-training/mlm-beamsearch-v2-word-nps5-k15-beam5-weighted_sum-0v4eiwve/results_epsilon0.75-test.txt.repetitions\n",
      "13 :  outputs/toxicity/mlm-reranking/roberta-base-jigsaw-toxicity-classifier-with-gpt2-large-embeds/mlm-beamsearch-v2-word-nps5-k15-beam5-weighted_sum-wtbdd1l0/results_epsilon0.75-test.txt.repetitions\n",
      "14 :  outputs/toxicity/mlm-reranking/roberta-base-jigsaw-toxicity-classifier-with-gpt2-large-embeds-energy-training/mlm-beamsearch-v2-word-nps5-k15-beam5-allsat_primary-59vupfa1/results_epsilon0.75-test.txt.repetitions\n",
      "15 :  outputs/toxicity/mlm-reranking/roberta-base-jigsaw-toxicity-classifier-with-gpt2-large-embeds/mlm-beamsearch-v2-word-nps5-k15-beam5-allsat_primary-kpseb40i/results_epsilon0.75-test.txt.repetitions\n",
      "16 :  outputs/toxicity/roberta-base-jigsaw-toxicity-classifier-with-gpt2-large-embeds-energy-training/gbi-word-netps3-nls1-os20-es4-allsat-toxic-to-nontoxic-grad_norm-r3neasla/results_epsilon-1.09861228867-test.txt.repetitions\n",
      "17 :  outputs/toxicity/roberta-base-jigsaw-toxicity-classifier-with-gpt2-large-embeds/gbi-word-netps3-nls1-os20-es4-allsat-toxic-to-nontoxic-grad_norm-gj7vpi4b/results_epsilon-1.09861228867-test.txt.repetitions\n",
      "18 :  outputs/toxicity/mlm-reranking/roberta-base-jigsaw-toxicity-classifier-with-gpt2-large-embeds-energy-training/mlm-reranking-token-nps4-k3-beam5-allsat_primary-toxic-to-nontoxic-grad_norm-rc2h1xg6/results_epsilon0.75-test.txt.repetitions\n",
      "19 :  outputs/toxicity/mlm-reranking/roberta-base-jigsaw-toxicity-classifier-with-gpt2-large-embeds/mlm-reranking-token-nps4-k3-beam5-allsat_primary-toxic-to-nontoxic-grad_norm-0ejjmp0e/results_epsilon0.75-test.txt.repetitions\n",
      "20 :  outputs/toxicity/mlm-reranking/roberta-base-jigsaw-toxicity-classifier-with-gpt2-large-embeds-energy-training/mlm-beamsearch-v0-word-nps5-k10-beam5-allsat_primary-toxic-to-nontoxic-grad_norm-oc6pto51/results_epsilon0.75-test.txt.repetitions\n",
      "21 :  outputs/toxicity/mlm-reranking/roberta-base-jigsaw-toxicity-classifier-with-gpt2-large-embeds/mlm-beamsearch-v0-word-nps5-k10-beam5-allsat_primary-toxic-to-nontoxic-grad_norm-wj9ww99a/results_epsilon0.75-test.txt.repetitions\n",
      "22 :  outputs/toxicity/mlm-reranking/roberta-base-jigsaw-toxicity-classifier-with-gpt2-large-embeds-energy-training/mlm-beamsearch-v1-word-nps5-k10-beam3-allsat_primary-toxic-to-nontoxic-grad_norm-gb09bmmt/results_epsilon0.75-test.txt.repetitions\n",
      "23 :  outputs/toxicity/mlm-reranking/roberta-base-jigsaw-toxicity-classifier-with-gpt2-large-embeds/mlm-beamsearch-v1-word-nps5-k10-beam3-allsat_primary-toxic-to-nontoxic-grad_norm-nkss5p4q/results_epsilon0.75-test.txt.repetitions\n",
      "24 :  outputs/toxicity/mlm-reranking/roberta-base-jigsaw-toxicity-classifier-with-gpt2-large-embeds-energy-training/mlm-beamsearch-v2-word-nps5-k15-beam5-allsat_primary-toxic-to-nontoxic-grad_norm-by5s93vs/results_epsilon0.75-test.txt.repetitions\n",
      "25 :  outputs/toxicity/mlm-reranking/roberta-base-jigsaw-toxicity-classifier-with-gpt2-large-embeds/mlm-beamsearch-v2-word-nps5-k15-beam5-allsat_primary-toxic-to-nontoxic-grad_norm-1p7censa/results_epsilon0.75-test.txt.repetitions\n"
     ]
    }
   ],
   "source": [
    "## repetitions\n",
    "metric='repetitions'\n",
    "repetitions_metrics=[]\n",
    "for i, run_id in enumerate(run_ids):\n",
    "\n",
    "    result_file=glob(f\"outputs/toxicity/**/**/*{run_id}*/results_epsilon*-test.txt.{metric}\")\n",
    "    if len(result_file) == 0:\n",
    "        result_file=glob(f\"outputs/toxicity/**/*{run_id}*/results_epsilon*-test.txt.{metric}\")\n",
    "    print(i, ': ', result_file[0])\n",
    "    result=pd.read_json(result_file[0],lines=True)\n",
    "    \n",
    "    result=result.loc[edited_ixs[i]]\n",
    "    if result.empty:\n",
    "        metric_value = 0\n",
    "    else:\n",
    "        # print('!')\n",
    "        metric_value = result.loc[~result['repeated_phrase'].isna(),:].shape[0]/result.shape[0]\n",
    "    repetitions_metrics.append(metric_value)"
   ]
  },
  {
   "cell_type": "code",
   "execution_count": 13,
   "id": "ff283fac-2fb8-4b09-9671-e0146936e8a3",
   "metadata": {},
   "outputs": [],
   "source": [
    "def unravel_toxicity_data(df):\n",
    "    df['toxicity']=df['allresponses'].apply(lambda x: [x[0]['attributeScores']['TOXICITY']['summaryScore']['value'] for x in list(x.values())])\n",
    "    df=df.explode('toxicity',ignore_index=True)\n",
    "    return df"
   ]
  },
  {
   "cell_type": "code",
   "execution_count": 14,
   "id": "8589c1ef-9940-4387-9104-aa4822c94313",
   "metadata": {},
   "outputs": [],
   "source": [
    "## repetitions\n",
    "metric='toxicity'\n",
    "avg_toxicity_metrics=[]\n",
    "toxic_proba_metrics=[]\n",
    "for i, run_id in enumerate(run_ids):\n",
    "\n",
    "    result_file=glob(f\"outputs/toxicity/**/**/*{run_id}*/results_epsilon*-test.txt.{metric}\")\n",
    "    if len(result_file) == 0:\n",
    "        result_file=glob(f\"outputs/toxicity/**/*{run_id}*/results_epsilon*-test.txt.{metric}\")\n",
    "\n",
    "    if metric in ['repetitions','toxicity']:\n",
    "        result=pd.read_json(result_file[0],lines=True)\n",
    "    else:\n",
    "        result=pd.read_csv(result_file[0],header=None)\n",
    "\n",
    "    if result.empty:\n",
    "        result_file=glob(f\"outputs/toxicity/**/**/*{run_id}*/results_filled.txt.{metric}\")\n",
    "        if len(result_file) == 0:\n",
    "            result_file=glob(f\"outputs/toxicity/**/*{run_id}*/results_filled.txt.{metric}\")\n",
    "        # print(result_file[0])\n",
    "        if metric in ['repetitions','toxicity']:\n",
    "            result=pd.read_json(result_file[0],lines=True)\n",
    "        else:\n",
    "            result=pd.read_csv(result_file[0],header=None)\n",
    "    # print(result)\n",
    "    result=unravel_toxicity_data(result)\n",
    "    result=result.loc[edited_ixs[i]]\n",
    "    avg_toxicity=result['toxicity'].mean()\n",
    "    toxic_proba=result['toxicity'].apply(lambda x: 1 if x>0.5 else 0).mean()\n",
    "    avg_toxicity_metrics.append(avg_toxicity)\n",
    "    toxic_proba_metrics.append(toxic_proba)"
   ]
  },
  {
   "cell_type": "code",
   "execution_count": 15,
   "id": "c3ff47b6-ce52-4c15-88ac-bf41e0b70e9c",
   "metadata": {},
   "outputs": [],
   "source": [
    "## toxicity_int\n",
    "metric='toxicity_int'\n",
    "avg_toxicity_metrics_int=[]\n",
    "toxic_proba_metrics_int=[]\n",
    "for i, run_id in enumerate(run_ids):\n",
    "\n",
    "    result_file=glob(f\"outputs/toxicity/**/**/*{run_id}*/results_epsilon*-test.txt.{metric}\")\n",
    "    if len(result_file) == 0:\n",
    "        result_file=glob(f\"outputs/toxicity/**/*{run_id}*/results_epsilon*-test.txt.{metric}\")\n",
    "    # print(result_file[0])\n",
    "    if metric in ['repetitions','toxicity']:\n",
    "        result=pd.read_json(result_file[0],lines=True)\n",
    "    else:\n",
    "        result=pd.read_csv(result_file[0],header=None)\n",
    "    \n",
    "    result=result.loc[edited_ixs[i]]\n",
    "    avg_toxicity=result[0].mean()\n",
    "    toxic_proba=result[0].apply(lambda x: 1 if x>0.5 else 0).mean()\n",
    "    avg_toxicity_metrics_int.append(avg_toxicity)\n",
    "    toxic_proba_metrics_int.append(toxic_proba)"
   ]
  },
  {
   "cell_type": "code",
   "execution_count": 16,
   "id": "a01d397a-3c29-4553-a53a-9f694389322a",
   "metadata": {},
   "outputs": [],
   "source": [
    "def ravel(unraveled_df):\n",
    "\n",
    "    unraveled_df['generations']= unraveled_df.apply(lambda x: [{'text': x['text'],\n",
    "                                                               'tokens': x['tokens']}],axis=1)\n",
    "    return unraveled_df.groupby('prompt')['generations'].sum([]).reset_index()"
   ]
  },
  {
   "cell_type": "code",
   "execution_count": 17,
   "id": "5044ac17-d6d0-44b0-9939-13c70f60efa1",
   "metadata": {
    "scrolled": true
   },
   "outputs": [
    {
     "name": "stdout",
     "output_type": "stream",
     "text": [
      "(520, 3)\n",
      "(173, 2)\n"
     ]
    },
    {
     "name": "stderr",
     "output_type": "stream",
     "text": [
      "Evaluating dist-n: 100%|██████████| 173/173 [00:00<00:00, 7556.20it/s]\n"
     ]
    },
    {
     "name": "stdout",
     "output_type": "stream",
     "text": [
      "(328, 3)\n",
      "(149, 2)\n"
     ]
    },
    {
     "name": "stderr",
     "output_type": "stream",
     "text": [
      "Evaluating dist-n: 100%|██████████| 149/149 [00:00<00:00, 10431.15it/s]\n"
     ]
    },
    {
     "name": "stdout",
     "output_type": "stream",
     "text": [
      "(520, 3)\n",
      "(173, 2)\n"
     ]
    },
    {
     "name": "stderr",
     "output_type": "stream",
     "text": [
      "Evaluating dist-n: 100%|██████████| 173/173 [00:00<00:00, 8494.27it/s]\n"
     ]
    },
    {
     "name": "stdout",
     "output_type": "stream",
     "text": [
      "(328, 3)\n",
      "(149, 2)\n"
     ]
    },
    {
     "name": "stderr",
     "output_type": "stream",
     "text": [
      "Evaluating dist-n: 100%|██████████| 149/149 [00:00<00:00, 9712.21it/s]\n"
     ]
    },
    {
     "name": "stdout",
     "output_type": "stream",
     "text": [
      "(520, 3)\n",
      "(173, 2)\n"
     ]
    },
    {
     "name": "stderr",
     "output_type": "stream",
     "text": [
      "Evaluating dist-n: 100%|██████████| 173/173 [00:00<00:00, 8366.36it/s]"
     ]
    },
    {
     "name": "stdout",
     "output_type": "stream",
     "text": [
      "(328, 3)\n"
     ]
    },
    {
     "name": "stderr",
     "output_type": "stream",
     "text": [
      "\n"
     ]
    },
    {
     "name": "stdout",
     "output_type": "stream",
     "text": [
      "(149, 2)\n"
     ]
    },
    {
     "name": "stderr",
     "output_type": "stream",
     "text": [
      "Evaluating dist-n: 100%|██████████| 149/149 [00:00<00:00, 10156.36it/s]\n"
     ]
    },
    {
     "name": "stdout",
     "output_type": "stream",
     "text": [
      "(520, 3)\n",
      "(173, 2)\n"
     ]
    },
    {
     "name": "stderr",
     "output_type": "stream",
     "text": [
      "Evaluating dist-n: 100%|██████████| 173/173 [00:00<00:00, 10762.76it/s]\n"
     ]
    },
    {
     "name": "stdout",
     "output_type": "stream",
     "text": [
      "(328, 3)\n",
      "(149, 2)\n"
     ]
    },
    {
     "name": "stderr",
     "output_type": "stream",
     "text": [
      "Evaluating dist-n: 100%|██████████| 149/149 [00:00<00:00, 13583.24it/s]\n"
     ]
    },
    {
     "name": "stdout",
     "output_type": "stream",
     "text": [
      "(520, 3)\n",
      "(173, 2)\n"
     ]
    },
    {
     "name": "stderr",
     "output_type": "stream",
     "text": [
      "Evaluating dist-n: 100%|██████████| 173/173 [00:00<00:00, 11543.71it/s]\n"
     ]
    },
    {
     "name": "stdout",
     "output_type": "stream",
     "text": [
      "(328, 3)\n",
      "(149, 2)\n"
     ]
    },
    {
     "name": "stderr",
     "output_type": "stream",
     "text": [
      "Evaluating dist-n: 100%|██████████| 149/149 [00:00<00:00, 14051.43it/s]\n"
     ]
    },
    {
     "name": "stdout",
     "output_type": "stream",
     "text": [
      "(520, 3)\n",
      "(173, 2)\n"
     ]
    },
    {
     "name": "stderr",
     "output_type": "stream",
     "text": [
      "Evaluating dist-n: 100%|██████████| 173/173 [00:00<00:00, 11295.02it/s]\n"
     ]
    },
    {
     "name": "stdout",
     "output_type": "stream",
     "text": [
      "(328, 3)\n",
      "(149, 2)\n"
     ]
    },
    {
     "name": "stderr",
     "output_type": "stream",
     "text": [
      "Evaluating dist-n: 100%|██████████| 149/149 [00:00<00:00, 13225.64it/s]\n"
     ]
    },
    {
     "name": "stdout",
     "output_type": "stream",
     "text": [
      "(520, 3)\n",
      "(173, 2)\n"
     ]
    },
    {
     "name": "stderr",
     "output_type": "stream",
     "text": [
      "Evaluating dist-n: 100%|██████████| 173/173 [00:00<00:00, 12469.32it/s]"
     ]
    },
    {
     "name": "stdout",
     "output_type": "stream",
     "text": [
      "(328, 3)\n"
     ]
    },
    {
     "name": "stderr",
     "output_type": "stream",
     "text": [
      "\n"
     ]
    },
    {
     "name": "stdout",
     "output_type": "stream",
     "text": [
      "(149, 2)\n"
     ]
    },
    {
     "name": "stderr",
     "output_type": "stream",
     "text": [
      "Evaluating dist-n: 100%|██████████| 149/149 [00:00<00:00, 14450.08it/s]\n"
     ]
    },
    {
     "name": "stdout",
     "output_type": "stream",
     "text": [
      "(520, 3)\n",
      "(173, 2)\n"
     ]
    },
    {
     "name": "stderr",
     "output_type": "stream",
     "text": [
      "Evaluating dist-n: 100%|██████████| 173/173 [00:00<00:00, 11793.24it/s]\n"
     ]
    },
    {
     "name": "stdout",
     "output_type": "stream",
     "text": [
      "(328, 3)\n",
      "(149, 2)\n"
     ]
    },
    {
     "name": "stderr",
     "output_type": "stream",
     "text": [
      "Evaluating dist-n: 100%|██████████| 149/149 [00:00<00:00, 14464.12it/s]\n"
     ]
    },
    {
     "name": "stdout",
     "output_type": "stream",
     "text": [
      "(520, 3)\n",
      "(173, 2)\n"
     ]
    },
    {
     "name": "stderr",
     "output_type": "stream",
     "text": [
      "Evaluating dist-n: 100%|██████████| 173/173 [00:00<00:00, 11857.03it/s]\n"
     ]
    },
    {
     "name": "stdout",
     "output_type": "stream",
     "text": [
      "(328, 3)\n",
      "(149, 2)\n"
     ]
    },
    {
     "name": "stderr",
     "output_type": "stream",
     "text": [
      "Evaluating dist-n: 100%|██████████| 149/149 [00:00<00:00, 13337.70it/s]\n"
     ]
    },
    {
     "name": "stdout",
     "output_type": "stream",
     "text": [
      "(520, 3)\n",
      "(173, 2)\n"
     ]
    },
    {
     "name": "stderr",
     "output_type": "stream",
     "text": [
      "Evaluating dist-n: 100%|██████████| 173/173 [00:00<00:00, 11181.71it/s]\n"
     ]
    },
    {
     "name": "stdout",
     "output_type": "stream",
     "text": [
      "(328, 3)\n",
      "(149, 2)\n"
     ]
    },
    {
     "name": "stderr",
     "output_type": "stream",
     "text": [
      "Evaluating dist-n: 100%|██████████| 149/149 [00:00<00:00, 13523.86it/s]\n"
     ]
    },
    {
     "name": "stdout",
     "output_type": "stream",
     "text": [
      "(520, 3)\n",
      "(173, 2)\n"
     ]
    },
    {
     "name": "stderr",
     "output_type": "stream",
     "text": [
      "Evaluating dist-n: 100%|██████████| 173/173 [00:00<00:00, 11801.11it/s]\n"
     ]
    },
    {
     "name": "stdout",
     "output_type": "stream",
     "text": [
      "(328, 3)\n",
      "(149, 2)\n"
     ]
    },
    {
     "name": "stderr",
     "output_type": "stream",
     "text": [
      "Evaluating dist-n: 100%|██████████| 149/149 [00:00<00:00, 13726.75it/s]\n"
     ]
    },
    {
     "name": "stdout",
     "output_type": "stream",
     "text": [
      "(520, 3)\n",
      "(173, 2)\n"
     ]
    },
    {
     "name": "stderr",
     "output_type": "stream",
     "text": [
      "Evaluating dist-n: 100%|██████████| 173/173 [00:00<00:00, 10484.40it/s]\n"
     ]
    },
    {
     "name": "stdout",
     "output_type": "stream",
     "text": [
      "(328, 3)\n",
      "(149, 2)\n"
     ]
    },
    {
     "name": "stderr",
     "output_type": "stream",
     "text": [
      "Evaluating dist-n: 100%|██████████| 149/149 [00:00<00:00, 13822.07it/s]\n"
     ]
    },
    {
     "name": "stdout",
     "output_type": "stream",
     "text": [
      "(520, 3)\n",
      "(173, 2)\n"
     ]
    },
    {
     "name": "stderr",
     "output_type": "stream",
     "text": [
      "Evaluating dist-n: 100%|██████████| 173/173 [00:00<00:00, 12080.29it/s]\n"
     ]
    },
    {
     "name": "stdout",
     "output_type": "stream",
     "text": [
      "(328, 3)\n",
      "(149, 2)\n"
     ]
    },
    {
     "name": "stderr",
     "output_type": "stream",
     "text": [
      "Evaluating dist-n: 100%|██████████| 149/149 [00:00<00:00, 14796.65it/s]\n"
     ]
    }
   ],
   "source": [
    "## dist-3\n",
    "\n",
    "dist3_metrics=[]\n",
    "for i, run_id in enumerate(run_ids):\n",
    "    \n",
    "    result = outputs_dfs[i]\n",
    "    result=result.loc[edited_ixs[i]]\n",
    "    print(result.shape)\n",
    "    result = ravel(result)\n",
    "    print(result.shape)\n",
    "    _,_,dist3=distinctness(result)\n",
    "    dist3_metrics.append(dist3)"
   ]
  },
  {
   "cell_type": "code",
   "execution_count": 19,
   "id": "38fa9966-4683-4380-99f5-6fee867a4635",
   "metadata": {},
   "outputs": [],
   "source": [
    "## putting all together\n",
    "pd.DataFrame({'run_ids':run_ids,\n",
    "              'avg_toxicity_int':avg_toxicity_metrics_int,\n",
    "              'toxic_proba_int':toxic_proba_metrics_int,\n",
    "              'avg_toxicity':avg_toxicity_metrics,\n",
    "              'toxic_proba':toxic_proba_metrics,\n",
    "              'ppl':ppl_metrics,\n",
    "              'fluency_metrics':fluency_metrics,\n",
    "              'dist-3':dist3_metrics,\n",
    "              'rep_rate':repetitions_metrics}).to_csv('new_module/toxicity_ablation_dropped.csv',index=False)"
   ]
  },
  {
   "cell_type": "code",
   "execution_count": 18,
   "id": "74113a78-1b5d-4a1b-8e6d-01c7013078b8",
   "metadata": {},
   "outputs": [
    {
     "data": {
      "text/html": [
       "<div>\n",
       "<style scoped>\n",
       "    .dataframe tbody tr th:only-of-type {\n",
       "        vertical-align: middle;\n",
       "    }\n",
       "\n",
       "    .dataframe tbody tr th {\n",
       "        vertical-align: top;\n",
       "    }\n",
       "\n",
       "    .dataframe thead th {\n",
       "        text-align: right;\n",
       "    }\n",
       "</style>\n",
       "<table border=\"1\" class=\"dataframe\">\n",
       "  <thead>\n",
       "    <tr style=\"text-align: right;\">\n",
       "      <th></th>\n",
       "      <th>run_ids</th>\n",
       "      <th>avg_toxicity_int</th>\n",
       "      <th>toxic_proba_int</th>\n",
       "      <th>avg_toxicity</th>\n",
       "      <th>toxic_proba</th>\n",
       "      <th>ppl</th>\n",
       "      <th>fluency_metrics</th>\n",
       "      <th>dist-3</th>\n",
       "      <th>rep_rate</th>\n",
       "    </tr>\n",
       "  </thead>\n",
       "  <tbody>\n",
       "    <tr>\n",
       "      <th>0</th>\n",
       "      <td>duf2r40i</td>\n",
       "      <td>0.144238</td>\n",
       "      <td>0.021154</td>\n",
       "      <td>0.089080</td>\n",
       "      <td>0.003846</td>\n",
       "      <td>1.183877e+01</td>\n",
       "      <td>0.700000</td>\n",
       "      <td>0.745368</td>\n",
       "      <td>0.092308</td>\n",
       "    </tr>\n",
       "    <tr>\n",
       "      <th>1</th>\n",
       "      <td>xo9cuxwt</td>\n",
       "      <td>0.096598</td>\n",
       "      <td>0.045732</td>\n",
       "      <td>0.132274</td>\n",
       "      <td>0.039634</td>\n",
       "      <td>5.271674e+02</td>\n",
       "      <td>0.728659</td>\n",
       "      <td>0.693515</td>\n",
       "      <td>0.112805</td>\n",
       "    </tr>\n",
       "    <tr>\n",
       "      <th>2</th>\n",
       "      <td>rvz3rpkg</td>\n",
       "      <td>0.261650</td>\n",
       "      <td>0.111538</td>\n",
       "      <td>0.253697</td>\n",
       "      <td>0.101923</td>\n",
       "      <td>7.082493e+01</td>\n",
       "      <td>0.636538</td>\n",
       "      <td>0.868928</td>\n",
       "      <td>0.000000</td>\n",
       "    </tr>\n",
       "    <tr>\n",
       "      <th>3</th>\n",
       "      <td>9wvrb6tm</td>\n",
       "      <td>0.162628</td>\n",
       "      <td>0.125000</td>\n",
       "      <td>0.226851</td>\n",
       "      <td>0.082317</td>\n",
       "      <td>2.076643e+02</td>\n",
       "      <td>0.640244</td>\n",
       "      <td>0.805141</td>\n",
       "      <td>0.000000</td>\n",
       "    </tr>\n",
       "    <tr>\n",
       "      <th>4</th>\n",
       "      <td>rt1gftvo</td>\n",
       "      <td>0.122335</td>\n",
       "      <td>0.040385</td>\n",
       "      <td>0.090420</td>\n",
       "      <td>0.023077</td>\n",
       "      <td>1.896763e+02</td>\n",
       "      <td>0.778846</td>\n",
       "      <td>0.859186</td>\n",
       "      <td>0.000000</td>\n",
       "    </tr>\n",
       "    <tr>\n",
       "      <th>5</th>\n",
       "      <td>c77e9d5d</td>\n",
       "      <td>0.067335</td>\n",
       "      <td>0.039634</td>\n",
       "      <td>0.097130</td>\n",
       "      <td>0.021341</td>\n",
       "      <td>3.987478e+02</td>\n",
       "      <td>0.804878</td>\n",
       "      <td>0.798008</td>\n",
       "      <td>0.000000</td>\n",
       "    </tr>\n",
       "    <tr>\n",
       "      <th>6</th>\n",
       "      <td>gtgpwrna</td>\n",
       "      <td>0.122108</td>\n",
       "      <td>0.042308</td>\n",
       "      <td>0.092204</td>\n",
       "      <td>0.028846</td>\n",
       "      <td>1.871284e+02</td>\n",
       "      <td>0.771154</td>\n",
       "      <td>0.867484</td>\n",
       "      <td>0.000000</td>\n",
       "    </tr>\n",
       "    <tr>\n",
       "      <th>7</th>\n",
       "      <td>7fjid6rd</td>\n",
       "      <td>0.076454</td>\n",
       "      <td>0.051829</td>\n",
       "      <td>0.102324</td>\n",
       "      <td>0.027439</td>\n",
       "      <td>3.378623e+02</td>\n",
       "      <td>0.795732</td>\n",
       "      <td>0.797359</td>\n",
       "      <td>0.000000</td>\n",
       "    </tr>\n",
       "    <tr>\n",
       "      <th>8</th>\n",
       "      <td>vbwqb7sj</td>\n",
       "      <td>0.128610</td>\n",
       "      <td>0.051923</td>\n",
       "      <td>0.098750</td>\n",
       "      <td>0.030769</td>\n",
       "      <td>1.873398e+02</td>\n",
       "      <td>0.769231</td>\n",
       "      <td>0.866513</td>\n",
       "      <td>0.000000</td>\n",
       "    </tr>\n",
       "    <tr>\n",
       "      <th>9</th>\n",
       "      <td>tsnyh5jg</td>\n",
       "      <td>0.077896</td>\n",
       "      <td>0.051829</td>\n",
       "      <td>0.101706</td>\n",
       "      <td>0.027439</td>\n",
       "      <td>3.389895e+02</td>\n",
       "      <td>0.795732</td>\n",
       "      <td>0.795879</td>\n",
       "      <td>0.000000</td>\n",
       "    </tr>\n",
       "    <tr>\n",
       "      <th>10</th>\n",
       "      <td>bbja89dg</td>\n",
       "      <td>0.123491</td>\n",
       "      <td>0.046154</td>\n",
       "      <td>0.093816</td>\n",
       "      <td>0.028846</td>\n",
       "      <td>1.874964e+02</td>\n",
       "      <td>0.767308</td>\n",
       "      <td>0.866749</td>\n",
       "      <td>0.000000</td>\n",
       "    </tr>\n",
       "    <tr>\n",
       "      <th>11</th>\n",
       "      <td>5de5l7xb</td>\n",
       "      <td>0.076467</td>\n",
       "      <td>0.051829</td>\n",
       "      <td>0.100117</td>\n",
       "      <td>0.027439</td>\n",
       "      <td>3.387273e+02</td>\n",
       "      <td>0.795732</td>\n",
       "      <td>0.796135</td>\n",
       "      <td>0.000000</td>\n",
       "    </tr>\n",
       "    <tr>\n",
       "      <th>12</th>\n",
       "      <td>0v4eiwve</td>\n",
       "      <td>0.119237</td>\n",
       "      <td>0.042308</td>\n",
       "      <td>0.089752</td>\n",
       "      <td>0.019231</td>\n",
       "      <td>3.328237e+06</td>\n",
       "      <td>0.778846</td>\n",
       "      <td>0.835605</td>\n",
       "      <td>0.000000</td>\n",
       "    </tr>\n",
       "    <tr>\n",
       "      <th>13</th>\n",
       "      <td>wtbdd1l0</td>\n",
       "      <td>0.068179</td>\n",
       "      <td>0.045732</td>\n",
       "      <td>0.095784</td>\n",
       "      <td>0.024390</td>\n",
       "      <td>3.867570e+06</td>\n",
       "      <td>0.810976</td>\n",
       "      <td>0.763362</td>\n",
       "      <td>0.000000</td>\n",
       "    </tr>\n",
       "    <tr>\n",
       "      <th>14</th>\n",
       "      <td>59vupfa1</td>\n",
       "      <td>0.112628</td>\n",
       "      <td>0.034615</td>\n",
       "      <td>0.083794</td>\n",
       "      <td>0.013462</td>\n",
       "      <td>9.317686e+06</td>\n",
       "      <td>0.773077</td>\n",
       "      <td>0.832160</td>\n",
       "      <td>0.000000</td>\n",
       "    </tr>\n",
       "    <tr>\n",
       "      <th>15</th>\n",
       "      <td>kpseb40i</td>\n",
       "      <td>0.066820</td>\n",
       "      <td>0.042683</td>\n",
       "      <td>0.095311</td>\n",
       "      <td>0.024390</td>\n",
       "      <td>3.867590e+06</td>\n",
       "      <td>0.807927</td>\n",
       "      <td>0.758846</td>\n",
       "      <td>0.000000</td>\n",
       "    </tr>\n",
       "    <tr>\n",
       "      <th>16</th>\n",
       "      <td>r3neasla</td>\n",
       "      <td>0.265261</td>\n",
       "      <td>0.113462</td>\n",
       "      <td>0.252481</td>\n",
       "      <td>0.103846</td>\n",
       "      <td>5.554567e+01</td>\n",
       "      <td>0.657692</td>\n",
       "      <td>0.868399</td>\n",
       "      <td>0.000000</td>\n",
       "    </tr>\n",
       "    <tr>\n",
       "      <th>17</th>\n",
       "      <td>gj7vpi4b</td>\n",
       "      <td>0.166653</td>\n",
       "      <td>0.125000</td>\n",
       "      <td>0.227123</td>\n",
       "      <td>0.097561</td>\n",
       "      <td>9.959294e+02</td>\n",
       "      <td>0.643293</td>\n",
       "      <td>0.806959</td>\n",
       "      <td>0.000000</td>\n",
       "    </tr>\n",
       "    <tr>\n",
       "      <th>18</th>\n",
       "      <td>rc2h1xg6</td>\n",
       "      <td>0.116175</td>\n",
       "      <td>0.036538</td>\n",
       "      <td>0.091259</td>\n",
       "      <td>0.021154</td>\n",
       "      <td>1.869358e+02</td>\n",
       "      <td>0.778846</td>\n",
       "      <td>0.864235</td>\n",
       "      <td>0.000000</td>\n",
       "    </tr>\n",
       "    <tr>\n",
       "      <th>19</th>\n",
       "      <td>0ejjmp0e</td>\n",
       "      <td>0.068414</td>\n",
       "      <td>0.042683</td>\n",
       "      <td>0.098051</td>\n",
       "      <td>0.024390</td>\n",
       "      <td>3.968390e+02</td>\n",
       "      <td>0.814024</td>\n",
       "      <td>0.800476</td>\n",
       "      <td>0.000000</td>\n",
       "    </tr>\n",
       "    <tr>\n",
       "      <th>20</th>\n",
       "      <td>oc6pto51</td>\n",
       "      <td>0.112038</td>\n",
       "      <td>0.032692</td>\n",
       "      <td>0.083789</td>\n",
       "      <td>0.015385</td>\n",
       "      <td>1.842516e+02</td>\n",
       "      <td>0.757692</td>\n",
       "      <td>0.868915</td>\n",
       "      <td>0.000000</td>\n",
       "    </tr>\n",
       "    <tr>\n",
       "      <th>21</th>\n",
       "      <td>wj9ww99a</td>\n",
       "      <td>0.072211</td>\n",
       "      <td>0.048780</td>\n",
       "      <td>0.160313</td>\n",
       "      <td>0.054878</td>\n",
       "      <td>7.624150e+02</td>\n",
       "      <td>0.801829</td>\n",
       "      <td>0.803574</td>\n",
       "      <td>0.000000</td>\n",
       "    </tr>\n",
       "    <tr>\n",
       "      <th>22</th>\n",
       "      <td>gb09bmmt</td>\n",
       "      <td>0.110250</td>\n",
       "      <td>0.032692</td>\n",
       "      <td>0.083080</td>\n",
       "      <td>0.013462</td>\n",
       "      <td>1.870779e+02</td>\n",
       "      <td>0.753846</td>\n",
       "      <td>0.867752</td>\n",
       "      <td>0.001923</td>\n",
       "    </tr>\n",
       "    <tr>\n",
       "      <th>23</th>\n",
       "      <td>nkss5p4q</td>\n",
       "      <td>0.071868</td>\n",
       "      <td>0.048780</td>\n",
       "      <td>0.100895</td>\n",
       "      <td>0.027439</td>\n",
       "      <td>4.071386e+02</td>\n",
       "      <td>0.801829</td>\n",
       "      <td>0.805676</td>\n",
       "      <td>0.000000</td>\n",
       "    </tr>\n",
       "    <tr>\n",
       "      <th>24</th>\n",
       "      <td>by5s93vs</td>\n",
       "      <td>0.108650</td>\n",
       "      <td>0.026923</td>\n",
       "      <td>0.084108</td>\n",
       "      <td>0.009615</td>\n",
       "      <td>1.757137e+10</td>\n",
       "      <td>0.744231</td>\n",
       "      <td>0.830788</td>\n",
       "      <td>0.000000</td>\n",
       "    </tr>\n",
       "    <tr>\n",
       "      <th>25</th>\n",
       "      <td>1p7censa</td>\n",
       "      <td>0.062845</td>\n",
       "      <td>0.036585</td>\n",
       "      <td>0.097684</td>\n",
       "      <td>0.024390</td>\n",
       "      <td>2.752110e+14</td>\n",
       "      <td>0.795732</td>\n",
       "      <td>0.759987</td>\n",
       "      <td>0.000000</td>\n",
       "    </tr>\n",
       "  </tbody>\n",
       "</table>\n",
       "</div>"
      ],
      "text/plain": [
       "     run_ids  avg_toxicity_int  toxic_proba_int  avg_toxicity  toxic_proba  \\\n",
       "0   duf2r40i          0.144238         0.021154      0.089080     0.003846   \n",
       "1   xo9cuxwt          0.096598         0.045732      0.132274     0.039634   \n",
       "2   rvz3rpkg          0.261650         0.111538      0.253697     0.101923   \n",
       "3   9wvrb6tm          0.162628         0.125000      0.226851     0.082317   \n",
       "4   rt1gftvo          0.122335         0.040385      0.090420     0.023077   \n",
       "5   c77e9d5d          0.067335         0.039634      0.097130     0.021341   \n",
       "6   gtgpwrna          0.122108         0.042308      0.092204     0.028846   \n",
       "7   7fjid6rd          0.076454         0.051829      0.102324     0.027439   \n",
       "8   vbwqb7sj          0.128610         0.051923      0.098750     0.030769   \n",
       "9   tsnyh5jg          0.077896         0.051829      0.101706     0.027439   \n",
       "10  bbja89dg          0.123491         0.046154      0.093816     0.028846   \n",
       "11  5de5l7xb          0.076467         0.051829      0.100117     0.027439   \n",
       "12  0v4eiwve          0.119237         0.042308      0.089752     0.019231   \n",
       "13  wtbdd1l0          0.068179         0.045732      0.095784     0.024390   \n",
       "14  59vupfa1          0.112628         0.034615      0.083794     0.013462   \n",
       "15  kpseb40i          0.066820         0.042683      0.095311     0.024390   \n",
       "16  r3neasla          0.265261         0.113462      0.252481     0.103846   \n",
       "17  gj7vpi4b          0.166653         0.125000      0.227123     0.097561   \n",
       "18  rc2h1xg6          0.116175         0.036538      0.091259     0.021154   \n",
       "19  0ejjmp0e          0.068414         0.042683      0.098051     0.024390   \n",
       "20  oc6pto51          0.112038         0.032692      0.083789     0.015385   \n",
       "21  wj9ww99a          0.072211         0.048780      0.160313     0.054878   \n",
       "22  gb09bmmt          0.110250         0.032692      0.083080     0.013462   \n",
       "23  nkss5p4q          0.071868         0.048780      0.100895     0.027439   \n",
       "24  by5s93vs          0.108650         0.026923      0.084108     0.009615   \n",
       "25  1p7censa          0.062845         0.036585      0.097684     0.024390   \n",
       "\n",
       "             ppl  fluency_metrics    dist-3  rep_rate  \n",
       "0   1.183877e+01         0.700000  0.745368  0.092308  \n",
       "1   5.271674e+02         0.728659  0.693515  0.112805  \n",
       "2   7.082493e+01         0.636538  0.868928  0.000000  \n",
       "3   2.076643e+02         0.640244  0.805141  0.000000  \n",
       "4   1.896763e+02         0.778846  0.859186  0.000000  \n",
       "5   3.987478e+02         0.804878  0.798008  0.000000  \n",
       "6   1.871284e+02         0.771154  0.867484  0.000000  \n",
       "7   3.378623e+02         0.795732  0.797359  0.000000  \n",
       "8   1.873398e+02         0.769231  0.866513  0.000000  \n",
       "9   3.389895e+02         0.795732  0.795879  0.000000  \n",
       "10  1.874964e+02         0.767308  0.866749  0.000000  \n",
       "11  3.387273e+02         0.795732  0.796135  0.000000  \n",
       "12  3.328237e+06         0.778846  0.835605  0.000000  \n",
       "13  3.867570e+06         0.810976  0.763362  0.000000  \n",
       "14  9.317686e+06         0.773077  0.832160  0.000000  \n",
       "15  3.867590e+06         0.807927  0.758846  0.000000  \n",
       "16  5.554567e+01         0.657692  0.868399  0.000000  \n",
       "17  9.959294e+02         0.643293  0.806959  0.000000  \n",
       "18  1.869358e+02         0.778846  0.864235  0.000000  \n",
       "19  3.968390e+02         0.814024  0.800476  0.000000  \n",
       "20  1.842516e+02         0.757692  0.868915  0.000000  \n",
       "21  7.624150e+02         0.801829  0.803574  0.000000  \n",
       "22  1.870779e+02         0.753846  0.867752  0.001923  \n",
       "23  4.071386e+02         0.801829  0.805676  0.000000  \n",
       "24  1.757137e+10         0.744231  0.830788  0.000000  \n",
       "25  2.752110e+14         0.795732  0.759987  0.000000  "
      ]
     },
     "execution_count": 18,
     "metadata": {},
     "output_type": "execute_result"
    }
   ],
   "source": [
    "pd.DataFrame({'run_ids':run_ids,\n",
    "              'avg_toxicity_int':avg_toxicity_metrics_int,\n",
    "              'toxic_proba_int':toxic_proba_metrics_int,\n",
    "              'avg_toxicity':avg_toxicity_metrics,\n",
    "              'toxic_proba':toxic_proba_metrics,\n",
    "              'ppl':ppl_metrics,\n",
    "              'fluency_metrics':fluency_metrics,\n",
    "              'dist-3':dist3_metrics,\n",
    "              'rep_rate':repetitions_metrics})"
   ]
  },
  {
   "cell_type": "markdown",
   "id": "bbc0555c-ece9-4bd0-847a-51528b5938c1",
   "metadata": {},
   "source": [
    "## Count tokens decoded"
   ]
  },
  {
   "cell_type": "code",
   "execution_count": 125,
   "id": "a275b6fc-346a-49f1-8758-168d6cb1dc48",
   "metadata": {},
   "outputs": [
    {
     "data": {
      "text/plain": [
       "True"
      ]
     },
     "execution_count": 125,
     "metadata": {},
     "output_type": "execute_result"
    }
   ],
   "source": [
    "set(edited_ixs[0]) == set(edited_ixs[4])"
   ]
  },
  {
   "cell_type": "code",
   "execution_count": 126,
   "id": "5a93e031-82eb-43c1-804a-8934aeae2d86",
   "metadata": {},
   "outputs": [
    {
     "data": {
      "text/plain": [
       "True"
      ]
     },
     "execution_count": 126,
     "metadata": {},
     "output_type": "execute_result"
    }
   ],
   "source": [
    "set(edited_ixs[1]) == set(edited_ixs[5])"
   ]
  },
  {
   "cell_type": "code",
   "execution_count": 106,
   "id": "21b58c9e-b68e-487a-ba60-cf94509370f8",
   "metadata": {},
   "outputs": [],
   "source": [
    "origin=pd.read_json('new_module/data/toxicity-avoidance/testset_gpt2_2500.jsonl', lines=True)"
   ]
  },
  {
   "cell_type": "code",
   "execution_count": 108,
   "id": "a5149dce-cefe-4fc5-b717-6b1ca22197c9",
   "metadata": {},
   "outputs": [],
   "source": [
    "origin=unravel(origin)"
   ]
  },
  {
   "cell_type": "code",
   "execution_count": 121,
   "id": "71ac3ef1-d8b9-450d-a9f6-18eca1a809e8",
   "metadata": {},
   "outputs": [],
   "source": [
    "curr_ixs=edited_ixs[2]"
   ]
  },
  {
   "cell_type": "code",
   "execution_count": 122,
   "id": "6b9483d6-d987-4d33-ab15-dc3b552ec76d",
   "metadata": {},
   "outputs": [
    {
     "name": "stdout",
     "output_type": "stream",
     "text": [
      "12340\n"
     ]
    }
   ],
   "source": [
    "curr_origin=origin.loc[curr_ixs,].copy()\n",
    "curr_origin['num_toks']=curr_origin['tokens'].apply(len)\n",
    "print(curr_origin['num_toks'].sum())"
   ]
  },
  {
   "cell_type": "code",
   "execution_count": 127,
   "id": "469e6a08-c7aa-4d3a-9564-9cde123f253d",
   "metadata": {},
   "outputs": [],
   "source": [
    "curr_ixs=edited_ixs[5]"
   ]
  },
  {
   "cell_type": "code",
   "execution_count": 128,
   "id": "a451065b-fb58-4a3a-929d-dff84f643ecb",
   "metadata": {},
   "outputs": [
    {
     "name": "stdout",
     "output_type": "stream",
     "text": [
      "7225\n"
     ]
    }
   ],
   "source": [
    "curr_origin=origin.loc[curr_ixs,].copy()\n",
    "curr_origin['num_toks']=curr_origin['tokens'].apply(len)\n",
    "print(curr_origin['num_toks'].sum())"
   ]
  },
  {
   "cell_type": "markdown",
   "id": "aa3d14a7-c146-4790-b8ce-acb202af8b10",
   "metadata": {},
   "source": [
    "# Sentiment"
   ]
  },
  {
   "cell_type": "markdown",
   "id": "a01b51b5-1efe-45c5-98db-aaf5fecce2e7",
   "metadata": {},
   "source": [
    "## Code to calculate metrics on common examples"
   ]
  },
  {
   "cell_type": "code",
   "execution_count": 21,
   "id": "4a83dbbf-e466-455c-ab0b-f8f2ab599ac3",
   "metadata": {},
   "outputs": [
    {
     "data": {
      "text/plain": [
       "'/home/s3/hyeryung/mucoco'"
      ]
     },
     "execution_count": 21,
     "metadata": {},
     "output_type": "execute_result"
    }
   ],
   "source": [
    "import pandas as pd\n",
    "from glob import glob\n",
    "import os\n",
    "os.chdir('/home/s3/hyeryung/mucoco')\n",
    "from evaluation.prompted_sampling.evaluate import distinctness, repetition\n",
    "os.getcwd()"
   ]
  },
  {
   "cell_type": "code",
   "execution_count": 22,
   "id": "1e00eb16-30b4-41bf-97e9-706bc48d3618",
   "metadata": {},
   "outputs": [],
   "source": [
    "run_ids=\"\"\"ugr3ts53\n",
    "7khk65lu\n",
    "0ax3fe5q\n",
    "745dg32u\n",
    "9ujeyli7\n",
    "hlnz0mx2\n",
    "4tml0ox0\n",
    "k7iftmov\n",
    "z6iu47d2\n",
    "ljuam185\n",
    "a2bn8dk5\n",
    "s13j6sqs\n",
    "0xteb62f\n",
    "qy6h3xm3\n",
    "51eicj7v\n",
    "0stmb3i8\n",
    "m4u9glnx\n",
    "bpfmw7l8\n",
    "pygsotv9\n",
    "4kzzg2vx\n",
    "omhz1rr1\n",
    "gahrb4gt\n",
    "e30unz6h\n",
    "3hra2btv\n",
    "fxe95fbr\n",
    "utoptt6f\n",
    "ecoyl88a\n",
    "fsputbpc\n",
    "73xgem0e\n",
    "3vt75up1\"\"\".split()"
   ]
  },
  {
   "cell_type": "code",
   "execution_count": 23,
   "id": "8c276357-0a45-479a-88d4-3fbb007fadea",
   "metadata": {},
   "outputs": [],
   "source": [
    "## func to read output file\n",
    "def unravel(outputs_df):\n",
    "    outputs_df=outputs_df.explode('generations',ignore_index=True)\n",
    "    \n",
    "    outputs_df['prompt']=outputs_df['prompt'].apply(lambda x: x['text'])\n",
    "    \n",
    "    outputs_df['text']=outputs_df['generations'].apply(lambda x: x['text'])\n",
    "    \n",
    "    gen_dict=outputs_df['generations'].values[0]\n",
    "    \n",
    "    for col in gen_dict.keys():\n",
    "        outputs_df[col] = outputs_df['generations'].apply(lambda x: x.get(col,None))\n",
    "\n",
    "    return outputs_df"
   ]
  },
  {
   "cell_type": "code",
   "execution_count": 24,
   "id": "4cc5151c-2473-47fe-8cf4-c4dc6bdb1283",
   "metadata": {},
   "outputs": [],
   "source": [
    "def ravel(unraveled_df):\n",
    "\n",
    "    unraveled_df['generations']= unraveled_df.apply(lambda x: [{'text': x['text'],\n",
    "                                                               'tokens': x['tokens']}],axis=1)\n",
    "    return unraveled_df.groupby('prompt')['generations'].sum([]).reset_index()"
   ]
  },
  {
   "cell_type": "code",
   "execution_count": 25,
   "id": "177341c6-40a7-4e27-abb2-fdf3dabb6444",
   "metadata": {
    "scrolled": true
   },
   "outputs": [
    {
     "name": "stdout",
     "output_type": "stream",
     "text": [
      "134\n",
      "154\n",
      "134\n",
      "154\n",
      "134\n",
      "154\n",
      "134\n",
      "154\n",
      "134\n",
      "154\n",
      "134\n",
      "154\n",
      "134\n",
      "154\n",
      "134\n",
      "154\n",
      "134\n",
      "154\n",
      "134\n",
      "154\n",
      "134\n",
      "154\n",
      "134\n",
      "154\n",
      "134\n",
      "154\n",
      "134\n",
      "154\n",
      "134\n",
      "154\n"
     ]
    }
   ],
   "source": [
    "## get edited ixes\n",
    "outputs_dfs=[]\n",
    "edited_ixs=[]\n",
    "common_edited_ixs=set()\n",
    "for run_id in run_ids:\n",
    "\n",
    "    output_file=[x for x in glob(f\"outputs/sentiment/**/**/*{run_id}*/outputs_epsilon*.txt\") if not x.endswith('filled.txt')]\n",
    "    if len(output_file) == 0:\n",
    "        output_file=[x for x in glob(f\"outputs/sentiment/**/*{run_id}*/outputs_epsilon*.txt\") if not x.endswith('filled.txt')]\n",
    "    # print(output_file)\n",
    "    outputs=pd.read_json(output_file[0], lines=True)\n",
    "\n",
    "    if 'gbi' in output_file[0]:\n",
    "        outputs=unravel(outputs)[['prompt','text','mucoco']].copy()\n",
    "        outputs_dfs.append(outputs)\n",
    "        edited_ixs.append(outputs.loc[outputs['mucoco'],].index.tolist())\n",
    "        print(len(edited_ixs[-1]))\n",
    "    else:\n",
    "        outputs=unravel(outputs)[['prompt','text','allsat']].copy()\n",
    "        outputs_dfs.append(outputs)\n",
    "        edited_ixs.append(outputs.loc[outputs['allsat']!=-1].index.tolist())\n",
    "        print(len(edited_ixs[-1]))\n",
    "    \n",
    "    if len(common_edited_ixs) == 0:\n",
    "        common_edited_ixs = set(edited_ixs[-1])\n",
    "    else:\n",
    "        common_edited_ixs = common_edited_ixs.intersection(set(edited_ixs[-1]))"
   ]
  },
  {
   "cell_type": "code",
   "execution_count": 26,
   "id": "4a464e07-c661-4541-93b3-e76ce4c3a919",
   "metadata": {},
   "outputs": [],
   "source": [
    "common_edited_ixs=list(common_edited_ixs)"
   ]
  },
  {
   "cell_type": "code",
   "execution_count": 27,
   "id": "47d68f34-b34f-4f9f-8f38-19408da89185",
   "metadata": {},
   "outputs": [
    {
     "data": {
      "text/plain": [
       "113"
      ]
     },
     "execution_count": 27,
     "metadata": {},
     "output_type": "execute_result"
    }
   ],
   "source": [
    "len(common_edited_ixs)"
   ]
  },
  {
   "cell_type": "code",
   "execution_count": 130,
   "id": "fe7723dc-527c-424b-a73d-aaa4ee2d07eb",
   "metadata": {},
   "outputs": [],
   "source": [
    "# ## test hypothesis that explode in unravel preserves the order \n",
    "\n",
    "# eda=pd.merge(outputs_dfs[0],outputs_dfs[14],left_index=True,right_index=True)\n",
    "# eda.loc[eda['allsat_x']!=-1, ['text_x','text_y']].values"
   ]
  },
  {
   "cell_type": "code",
   "execution_count": 131,
   "id": "f068ab40-ff45-4102-9940-d3970c107367",
   "metadata": {},
   "outputs": [],
   "source": [
    "metrics=['fluency','ppl-big','repetitions','sentiment','sentiment_int']"
   ]
  },
  {
   "cell_type": "code",
   "execution_count": 132,
   "id": "44408cde-d460-4d30-97a8-122207419940",
   "metadata": {},
   "outputs": [],
   "source": [
    "## ppl-big\n",
    "metric='ppl-big'\n",
    "ppl_metrics=[]\n",
    "for run_id in run_ids:\n",
    "\n",
    "    result_file=glob(f\"outputs/sentiment/**/**/*{run_id}*/results_epsilon*-test.txt.{metric}\")\n",
    "    if len(result_file) == 0:\n",
    "        result_file=glob(f\"outputs/sentiment/**/*{run_id}*/results_epsilon*-test.txt.{metric}\")\n",
    "    # print(result_file[0])\n",
    "    if metric in ['repetitions','toxicity']:\n",
    "        result=pd.read_json(result_file[0],lines=True)\n",
    "    else:\n",
    "        result=pd.read_csv(result_file[0],header=None)\n",
    "    \n",
    "    result=result.loc[common_edited_ixs]\n",
    "    metric_value=result[0].mean()\n",
    "    ppl_metrics.append(metric_value)"
   ]
  },
  {
   "cell_type": "code",
   "execution_count": 133,
   "id": "c4c00c08-2934-41d6-9bc6-eaf8c2dd4961",
   "metadata": {},
   "outputs": [],
   "source": [
    "## fluency\n",
    "metric='fluency'\n",
    "fluency_metrics=[]\n",
    "for run_id in run_ids:\n",
    "\n",
    "    result_file=glob(f\"outputs/sentiment/**/**/*{run_id}*/results_epsilon*-test.txt.{metric}\")\n",
    "    if len(result_file) == 0:\n",
    "        result_file=glob(f\"outputs/sentiment/**/*{run_id}*/results_epsilon*-test.txt.{metric}\")\n",
    "    # print(result_file[0])\n",
    "    if metric in ['repetitions','toxicity']:\n",
    "        result=pd.read_json(result_file[0],lines=True)\n",
    "    else:\n",
    "        result=pd.read_csv(result_file[0],header=None)\n",
    "    \n",
    "    result=result.loc[common_edited_ixs]\n",
    "    metric_value=result.loc[result[0]=='LABEL_1'].shape[0]/result.shape[0]\n",
    "    fluency_metrics.append(metric_value)"
   ]
  },
  {
   "cell_type": "code",
   "execution_count": 134,
   "id": "1d58927b-b2f2-4888-b2c5-1e3578b5bdaf",
   "metadata": {},
   "outputs": [],
   "source": [
    "## repetitions\n",
    "metric='repetitions'\n",
    "repetitions_metrics=[]\n",
    "for run_id in run_ids:\n",
    "\n",
    "    result_file=glob(f\"outputs/sentiment/**/**/*{run_id}*/results_epsilon*-test.txt.{metric}\")\n",
    "    if len(result_file) == 0:\n",
    "        result_file=glob(f\"outputs/sentiment/**/*{run_id}*/results_epsilon*-test.txt.{metric}\")\n",
    "    # print(result_file[0])\n",
    "    if metric in ['repetitions','toxicity']:\n",
    "        result=pd.read_json(result_file[0],lines=True)\n",
    "    else:\n",
    "        result=pd.read_csv(result_file[0],header=None)\n",
    "    \n",
    "    result=result.loc[common_edited_ixs]\n",
    "    if result.empty:\n",
    "        metric_value = 0\n",
    "    else:\n",
    "        # print('!')\n",
    "        metric_value = result.loc[~result['repeated_phrase'].isna(),:].shape[0]/result.shape[0]\n",
    "    repetitions_metrics.append(metric_value)"
   ]
  },
  {
   "cell_type": "code",
   "execution_count": 135,
   "id": "5a6c69d5-65e8-4189-8048-d4e8d196daa7",
   "metadata": {},
   "outputs": [],
   "source": [
    "## sentiment_ext\n",
    "metric='sentiment_ext'\n",
    "positive_proba_metrics_ext=[]\n",
    "for run_id in run_ids:\n",
    "\n",
    "    result_file=glob(f\"outputs/sentiment/**/**/*{run_id}*/results_epsilon*-test.txt.{metric}\")\n",
    "    if len(result_file) == 0:\n",
    "        result_file=glob(f\"outputs/sentiment/**/*{run_id}*/results_epsilon*-test.txt.{metric}\")\n",
    "    # print(result_file[0])\n",
    "\n",
    "    result=pd.read_json(result_file[0],lines=True)\n",
    "    result=result.loc[common_edited_ixs]\n",
    "    metric_value=result.loc[result['label']=='POSITIVE'].shape[0]/result.shape[0]\n",
    "    positive_proba_metrics_ext.append(metric_value)\n",
    "    "
   ]
  },
  {
   "cell_type": "code",
   "execution_count": 136,
   "id": "a06e153b-0ce6-4fc5-8e10-7b76d01007fc",
   "metadata": {},
   "outputs": [],
   "source": [
    "## sentiment_int\n",
    "metric='sentiment_int'\n",
    "positive_proba_metrics_int=[]\n",
    "for run_id in run_ids:\n",
    "\n",
    "    result_file=glob(f\"outputs/sentiment/**/**/*{run_id}*/results_epsilon*-test.txt.{metric}\")\n",
    "    if len(result_file) == 0:\n",
    "        result_file=glob(f\"outputs/sentiment/**/*{run_id}*/results_epsilon*-test.txt.{metric}\")\n",
    "    # print(result_file[0])\n",
    "    if metric in ['repetitions','sentiment_int']:\n",
    "        result=pd.read_json(result_file[0],lines=True)\n",
    "    else:\n",
    "        result=pd.read_csv(result_file[0],header=None)\n",
    "    result=result.loc[common_edited_ixs]\n",
    "    metric_value=result.loc[result['label']=='LABEL_1'].shape[0]/result.shape[0]\n",
    "    positive_proba_metrics_int.append(metric_value)\n",
    "    "
   ]
  },
  {
   "cell_type": "code",
   "execution_count": 137,
   "id": "e379ed7d-6145-413f-9ef2-2128f47fcaf6",
   "metadata": {},
   "outputs": [
    {
     "name": "stdout",
     "output_type": "stream",
     "text": [
      "(300, 9)\n",
      "(113, 9)\n",
      "(15, 2)\n"
     ]
    },
    {
     "name": "stderr",
     "output_type": "stream",
     "text": [
      "Evaluating dist-n: 100%|██████████| 15/15 [00:00<00:00, 6866.15it/s]\n"
     ]
    },
    {
     "name": "stdout",
     "output_type": "stream",
     "text": [
      "(300, 9)\n",
      "(113, 9)\n",
      "(15, 2)\n"
     ]
    },
    {
     "name": "stderr",
     "output_type": "stream",
     "text": [
      "Evaluating dist-n: 100%|██████████| 15/15 [00:00<00:00, 7058.74it/s]\n"
     ]
    },
    {
     "name": "stdout",
     "output_type": "stream",
     "text": [
      "(300, 9)\n",
      "(113, 9)\n",
      "(15, 2)\n"
     ]
    },
    {
     "name": "stderr",
     "output_type": "stream",
     "text": [
      "Evaluating dist-n: 100%|██████████| 15/15 [00:00<00:00, 6228.55it/s]\n"
     ]
    },
    {
     "name": "stdout",
     "output_type": "stream",
     "text": [
      "(300, 9)\n",
      "(113, 9)\n",
      "(15, 2)\n"
     ]
    },
    {
     "name": "stderr",
     "output_type": "stream",
     "text": [
      "Evaluating dist-n: 100%|██████████| 15/15 [00:00<00:00, 5905.81it/s]\n"
     ]
    },
    {
     "name": "stdout",
     "output_type": "stream",
     "text": [
      "(300, 9)\n",
      "(113, 9)\n",
      "(15, 2)\n"
     ]
    },
    {
     "name": "stderr",
     "output_type": "stream",
     "text": [
      "Evaluating dist-n: 100%|██████████| 15/15 [00:00<00:00, 6480.69it/s]\n"
     ]
    },
    {
     "name": "stdout",
     "output_type": "stream",
     "text": [
      "(300, 9)\n",
      "(113, 9)\n",
      "(15, 2)\n"
     ]
    },
    {
     "name": "stderr",
     "output_type": "stream",
     "text": [
      "Evaluating dist-n: 100%|██████████| 15/15 [00:00<00:00, 6577.58it/s]\n"
     ]
    },
    {
     "name": "stdout",
     "output_type": "stream",
     "text": [
      "(300, 9)\n",
      "(113, 9)\n",
      "(15, 2)\n"
     ]
    },
    {
     "name": "stderr",
     "output_type": "stream",
     "text": [
      "Evaluating dist-n: 100%|██████████| 15/15 [00:00<00:00, 5441.97it/s]\n"
     ]
    },
    {
     "name": "stdout",
     "output_type": "stream",
     "text": [
      "(300, 9)\n",
      "(113, 9)\n",
      "(15, 2)\n"
     ]
    },
    {
     "name": "stderr",
     "output_type": "stream",
     "text": [
      "Evaluating dist-n: 100%|██████████| 15/15 [00:00<00:00, 5998.15it/s]\n"
     ]
    },
    {
     "name": "stdout",
     "output_type": "stream",
     "text": [
      "(300, 9)\n",
      "(113, 9)\n",
      "(15, 2)\n"
     ]
    },
    {
     "name": "stderr",
     "output_type": "stream",
     "text": [
      "Evaluating dist-n: 100%|██████████| 15/15 [00:00<00:00, 6536.58it/s]\n"
     ]
    },
    {
     "name": "stdout",
     "output_type": "stream",
     "text": [
      "(300, 9)\n",
      "(113, 9)\n",
      "(15, 2)\n"
     ]
    },
    {
     "name": "stderr",
     "output_type": "stream",
     "text": [
      "Evaluating dist-n: 100%|██████████| 15/15 [00:00<00:00, 6083.40it/s]"
     ]
    },
    {
     "name": "stdout",
     "output_type": "stream",
     "text": [
      "(300, 9)"
     ]
    },
    {
     "name": "stderr",
     "output_type": "stream",
     "text": [
      "\n"
     ]
    },
    {
     "name": "stdout",
     "output_type": "stream",
     "text": [
      "\n",
      "(113, 9)\n",
      "(15, 2)\n"
     ]
    },
    {
     "name": "stderr",
     "output_type": "stream",
     "text": [
      "Evaluating dist-n: 100%|██████████| 15/15 [00:00<00:00, 6119.50it/s]"
     ]
    },
    {
     "name": "stdout",
     "output_type": "stream",
     "text": [
      "(300, 9)"
     ]
    },
    {
     "name": "stderr",
     "output_type": "stream",
     "text": [
      "\n"
     ]
    },
    {
     "name": "stdout",
     "output_type": "stream",
     "text": [
      "\n",
      "(113, 9)\n",
      "(15, 2)\n"
     ]
    },
    {
     "name": "stderr",
     "output_type": "stream",
     "text": [
      "Evaluating dist-n: 100%|██████████| 15/15 [00:00<00:00, 6168.70it/s]"
     ]
    },
    {
     "name": "stdout",
     "output_type": "stream",
     "text": [
      "(300, 9)"
     ]
    },
    {
     "name": "stderr",
     "output_type": "stream",
     "text": [
      "\n"
     ]
    },
    {
     "name": "stdout",
     "output_type": "stream",
     "text": [
      "\n",
      "(113, 9)\n",
      "(15, 2)\n"
     ]
    },
    {
     "name": "stderr",
     "output_type": "stream",
     "text": [
      "Evaluating dist-n: 100%|██████████| 15/15 [00:00<00:00, 6572.77it/s]"
     ]
    },
    {
     "name": "stdout",
     "output_type": "stream",
     "text": [
      "(300, 9)"
     ]
    },
    {
     "name": "stderr",
     "output_type": "stream",
     "text": [
      "\n"
     ]
    },
    {
     "name": "stdout",
     "output_type": "stream",
     "text": [
      "\n",
      "(113, 9)\n",
      "(15, 2)\n"
     ]
    },
    {
     "name": "stderr",
     "output_type": "stream",
     "text": [
      "Evaluating dist-n: 100%|██████████| 15/15 [00:00<00:00, 6897.77it/s]\n"
     ]
    },
    {
     "name": "stdout",
     "output_type": "stream",
     "text": [
      "(300, 9)\n",
      "(113, 9)\n",
      "(15, 2)\n"
     ]
    },
    {
     "name": "stderr",
     "output_type": "stream",
     "text": [
      "Evaluating dist-n: 100%|██████████| 15/15 [00:00<00:00, 7191.88it/s]\n"
     ]
    },
    {
     "name": "stdout",
     "output_type": "stream",
     "text": [
      "(300, 9)\n",
      "(113, 9)\n",
      "(15, 2)\n"
     ]
    },
    {
     "name": "stderr",
     "output_type": "stream",
     "text": [
      "Evaluating dist-n: 100%|██████████| 15/15 [00:00<00:00, 7079.39it/s]\n"
     ]
    },
    {
     "name": "stdout",
     "output_type": "stream",
     "text": [
      "(300, 9)\n",
      "(113, 9)\n",
      "(15, 2)\n"
     ]
    },
    {
     "name": "stderr",
     "output_type": "stream",
     "text": [
      "Evaluating dist-n: 100%|██████████| 15/15 [00:00<00:00, 5186.69it/s]\n"
     ]
    },
    {
     "name": "stdout",
     "output_type": "stream",
     "text": [
      "(300, 9)\n",
      "(113, 9)\n",
      "(15, 2)\n"
     ]
    },
    {
     "name": "stderr",
     "output_type": "stream",
     "text": [
      "Evaluating dist-n: 100%|██████████| 15/15 [00:00<00:00, 5332.65it/s]\n"
     ]
    },
    {
     "name": "stdout",
     "output_type": "stream",
     "text": [
      "(300, 9)\n",
      "(113, 9)\n",
      "(15, 2)\n"
     ]
    },
    {
     "name": "stderr",
     "output_type": "stream",
     "text": [
      "Evaluating dist-n: 100%|██████████| 15/15 [00:00<00:00, 5925.83it/s]\n"
     ]
    },
    {
     "name": "stdout",
     "output_type": "stream",
     "text": [
      "(300, 9)\n",
      "(113, 9)\n",
      "(15, 2)\n"
     ]
    },
    {
     "name": "stderr",
     "output_type": "stream",
     "text": [
      "Evaluating dist-n: 100%|██████████| 15/15 [00:00<00:00, 5723.15it/s]\n"
     ]
    },
    {
     "name": "stdout",
     "output_type": "stream",
     "text": [
      "(300, 9)\n",
      "(113, 9)\n",
      "(15, 2)\n"
     ]
    },
    {
     "name": "stderr",
     "output_type": "stream",
     "text": [
      "Evaluating dist-n: 100%|██████████| 15/15 [00:00<00:00, 5315.08it/s]\n"
     ]
    },
    {
     "name": "stdout",
     "output_type": "stream",
     "text": [
      "(300, 9)\n",
      "(113, 9)\n",
      "(15, 2)\n"
     ]
    },
    {
     "name": "stderr",
     "output_type": "stream",
     "text": [
      "Evaluating dist-n: 100%|██████████| 15/15 [00:00<00:00, 5729.92it/s]\n"
     ]
    },
    {
     "name": "stdout",
     "output_type": "stream",
     "text": [
      "(300, 10)\n",
      "(113, 10)\n",
      "(15, 2)\n"
     ]
    },
    {
     "name": "stderr",
     "output_type": "stream",
     "text": [
      "Evaluating dist-n: 100%|██████████| 15/15 [00:00<00:00, 6193.60it/s]"
     ]
    },
    {
     "name": "stdout",
     "output_type": "stream",
     "text": [
      "(300, 10)\n",
      "(113, 10)\n"
     ]
    },
    {
     "name": "stderr",
     "output_type": "stream",
     "text": [
      "\n"
     ]
    },
    {
     "name": "stdout",
     "output_type": "stream",
     "text": [
      "(15, 2)\n"
     ]
    },
    {
     "name": "stderr",
     "output_type": "stream",
     "text": [
      "Evaluating dist-n: 100%|██████████| 15/15 [00:00<00:00, 5951.06it/s]\n"
     ]
    },
    {
     "name": "stdout",
     "output_type": "stream",
     "text": [
      "(300, 9)\n",
      "(113, 9)\n",
      "(15, 2)\n"
     ]
    },
    {
     "name": "stderr",
     "output_type": "stream",
     "text": [
      "Evaluating dist-n: 100%|██████████| 15/15 [00:00<00:00, 6327.52it/s]"
     ]
    },
    {
     "name": "stdout",
     "output_type": "stream",
     "text": [
      "(300, 9)"
     ]
    },
    {
     "name": "stderr",
     "output_type": "stream",
     "text": [
      "\n"
     ]
    },
    {
     "name": "stdout",
     "output_type": "stream",
     "text": [
      "\n",
      "(113, 9)\n",
      "(15, 2)\n"
     ]
    },
    {
     "name": "stderr",
     "output_type": "stream",
     "text": [
      "Evaluating dist-n: 100%|██████████| 15/15 [00:00<00:00, 6339.64it/s]"
     ]
    },
    {
     "name": "stdout",
     "output_type": "stream",
     "text": [
      "(300, 10)"
     ]
    },
    {
     "name": "stderr",
     "output_type": "stream",
     "text": [
      "\n"
     ]
    },
    {
     "name": "stdout",
     "output_type": "stream",
     "text": [
      "\n",
      "(113, 10)\n",
      "(15, 2)\n"
     ]
    },
    {
     "name": "stderr",
     "output_type": "stream",
     "text": [
      "Evaluating dist-n: 100%|██████████| 15/15 [00:00<00:00, 6824.45it/s]"
     ]
    },
    {
     "name": "stdout",
     "output_type": "stream",
     "text": [
      "(300, 10)"
     ]
    },
    {
     "name": "stderr",
     "output_type": "stream",
     "text": [
      "\n"
     ]
    },
    {
     "name": "stdout",
     "output_type": "stream",
     "text": [
      "\n",
      "(113, 10)\n",
      "(15, 2)\n"
     ]
    },
    {
     "name": "stderr",
     "output_type": "stream",
     "text": [
      "Evaluating dist-n: 100%|██████████| 15/15 [00:00<00:00, 6855.68it/s]\n"
     ]
    },
    {
     "name": "stdout",
     "output_type": "stream",
     "text": [
      "(300, 9)\n",
      "(113, 9)\n",
      "(15, 2)\n"
     ]
    },
    {
     "name": "stderr",
     "output_type": "stream",
     "text": [
      "Evaluating dist-n: 100%|██████████| 15/15 [00:00<00:00, 6922.06it/s]\n"
     ]
    },
    {
     "name": "stdout",
     "output_type": "stream",
     "text": [
      "(300, 9)\n",
      "(113, 9)\n",
      "(15, 2)\n"
     ]
    },
    {
     "name": "stderr",
     "output_type": "stream",
     "text": [
      "Evaluating dist-n: 100%|██████████| 15/15 [00:00<00:00, 7130.74it/s]\n"
     ]
    }
   ],
   "source": [
    "## dist-3\n",
    "\n",
    "# distinctness()\n",
    "dist3_metrics=[]\n",
    "for run_id in run_ids:\n",
    "    \n",
    "    output_file=[x for x in glob(f\"outputs/sentiment/**/**/*{run_id}*/outputs_epsilon*.txt\") if not x.endswith('filled.txt')]\n",
    "    if len(output_file) == 0:\n",
    "        output_file=[x for x in glob(f\"outputs/sentiment/**/*{run_id}*/outputs_epsilon*.txt\") if not x.endswith('filled.txt')]\n",
    "    # print(output_file)\n",
    "    outputs=pd.read_json(output_file[0], lines=True)\n",
    "    outputs=unravel(outputs)\n",
    "    print(outputs.shape)\n",
    "    outputs=outputs.loc[common_edited_ixs]\n",
    "    print(outputs.shape)\n",
    "    outputs=ravel(outputs)\n",
    "    print(outputs.shape)\n",
    "    _,_,dist3=distinctness(outputs)\n",
    "    dist3_metrics.append(dist3)"
   ]
  },
  {
   "cell_type": "code",
   "execution_count": 138,
   "id": "a8e49a7d-845d-4215-b1cc-4032fbedab00",
   "metadata": {},
   "outputs": [],
   "source": [
    "# ## putting all together\n",
    "\n",
    "\n",
    "# pd.DataFrame({'run_ids':run_ids,\n",
    "#               'positive_proba_int':positive_proba_metrics_int,\n",
    "#               'positive_proba':positive_proba_metrics_ext,\n",
    "#               'ppl':ppl_metrics,\n",
    "#               'fluency_metrics':fluency_metrics,\n",
    "#               'dist-3':dist3_metrics,\n",
    "#               'rep_rate':repetitions_metrics}).to_csv('new_module/sentiment_ablation_common_ixes.csv',index=False)"
   ]
  },
  {
   "cell_type": "code",
   "execution_count": 139,
   "id": "46999c51-5348-41d3-a153-8034c19e1ef7",
   "metadata": {},
   "outputs": [],
   "source": [
    "# pd.DataFrame({'run_ids':run_ids,\n",
    "#               'positive_proba_int':positive_proba_metrics_int,\n",
    "#               'positive_proba':positive_proba_metrics_ext,\n",
    "#               'ppl':ppl_metrics,\n",
    "#               'fluency_metrics':fluency_metrics,\n",
    "#               'dist-3':dist3_metrics,\n",
    "#               'rep_rate':repetitions_metrics})"
   ]
  },
  {
   "cell_type": "code",
   "execution_count": null,
   "id": "c831307d-f68e-4fd8-a474-0f60ca0f1984",
   "metadata": {},
   "outputs": [],
   "source": []
  },
  {
   "cell_type": "code",
   "execution_count": 140,
   "id": "303c0642-4cc7-4e6f-9322-8c39b24d9459",
   "metadata": {},
   "outputs": [],
   "source": [
    "origin=pd.read_json('new_module/data/sentiment/outputs.txt.init.jsonl', lines=True)"
   ]
  },
  {
   "cell_type": "code",
   "execution_count": 141,
   "id": "eae01025-302e-41a8-aef1-1ea747313cca",
   "metadata": {},
   "outputs": [],
   "source": [
    "## ppl-big\n",
    "metric='ppl-big'\n",
    "# ppl_metrics=[]\n",
    "result_file=glob(f\"new_module/data/sentiment/results-test-em.txt.{metric}\")\n",
    "if metric in ['repetitions','toxicity']:\n",
    "    result=pd.read_json(result_file[0],lines=True)\n",
    "else:\n",
    "    result=pd.read_csv(result_file[0],header=None)\n",
    "\n",
    "result=result.loc[common_edited_ixs]\n",
    "metric_value=result[0].mean()\n",
    "ppl_metrics.append(metric_value)"
   ]
  },
  {
   "cell_type": "code",
   "execution_count": 142,
   "id": "2dfa96e2-01e5-4eb0-ac45-42324d6fb961",
   "metadata": {},
   "outputs": [],
   "source": [
    "## fluency\n",
    "metric='fluency'\n",
    "# fluency_metrics=[]\n",
    "result_file=glob(f\"new_module/data/sentiment/results-test-em.txt.{metric}\")\n",
    "if metric in ['repetitions','toxicity']:\n",
    "    result=pd.read_json(result_file[0],lines=True)\n",
    "else:\n",
    "    result=pd.read_csv(result_file[0],header=None)\n",
    "\n",
    "result=result.loc[common_edited_ixs]\n",
    "metric_value=result.loc[result[0]=='LABEL_1'].shape[0]/result.shape[0]\n",
    "fluency_metrics.append(metric_value)"
   ]
  },
  {
   "cell_type": "code",
   "execution_count": 143,
   "id": "fa3b8146-3ecd-442c-a7ba-9dc52ac11305",
   "metadata": {},
   "outputs": [],
   "source": [
    "from transformers import AutoTokenizer\n",
    "tokenizer=AutoTokenizer.from_pretrained('/shared/s3/lab07/hyeryung/loc_edit/roberta-base-jigsaw-toxicity-classifier-with-gpt2-large-embeds-2/step_2600_best_checkpoint/')"
   ]
  },
  {
   "cell_type": "code",
   "execution_count": 144,
   "id": "811376e9-2e2c-4ba5-9cdd-1e736e5b9231",
   "metadata": {},
   "outputs": [
    {
     "name": "stderr",
     "output_type": "stream",
     "text": [
      "Evaluating repetitions: 100%|██████████| 15/15 [00:00<00:00, 4099.47it/s]\n"
     ]
    }
   ],
   "source": [
    "## repetitions\n",
    "metric='repetitions'\n",
    "# repetitions_metrics=[]\n",
    "origin_subset=unravel(origin)\n",
    "origin_subset=origin_subset.loc[common_edited_ixs,].copy()\n",
    "origin_subset=ravel(origin_subset)\n",
    "metric_value=repetition(origin_subset, tokenizer)\n",
    "repetitions_metrics.append(metric_value)"
   ]
  },
  {
   "cell_type": "code",
   "execution_count": 145,
   "id": "685a1d6f-84bd-422d-b6d7-cd46dc2e4c73",
   "metadata": {},
   "outputs": [],
   "source": [
    "## sentiment_ext\n",
    "metric='sentiment_ext'\n",
    "# positive_proba_metrics_ext=[]\n",
    "\n",
    "result_file=glob(f\"new_module/data/sentiment/results-test-em.txt.{metric}\")\n",
    "\n",
    "result=pd.read_json(result_file[0],lines=True)\n",
    "result=result.loc[common_edited_ixs]\n",
    "metric_value=result.loc[result['label']=='POSITIVE'].shape[0]/result.shape[0]\n",
    "positive_proba_metrics_ext.append(metric_value)\n",
    "    "
   ]
  },
  {
   "cell_type": "code",
   "execution_count": 146,
   "id": "55481726-2ca3-414a-8796-3ad1ccc27dd4",
   "metadata": {},
   "outputs": [],
   "source": [
    "## sentiment_int ## using EM\n",
    "metric='sentiment_int'\n",
    "# positive_proba_metrics_int=[]\n",
    "\n",
    "result_file=glob(f\"new_module/data/sentiment/results-test-em.txt.{metric}\")\n",
    "\n",
    "result=pd.read_json(result_file[0],lines=True)\n",
    "result=result.loc[common_edited_ixs]\n",
    "metric_value=result.loc[result['label']=='LABEL_1'].shape[0]/result.shape[0]\n",
    "positive_proba_metrics_int.append(metric_value)\n",
    "    "
   ]
  },
  {
   "cell_type": "code",
   "execution_count": 147,
   "id": "e4eb114c-7823-4a4d-9d71-474b877930c3",
   "metadata": {},
   "outputs": [
    {
     "name": "stderr",
     "output_type": "stream",
     "text": [
      "Evaluating dist-n: 100%|██████████| 15/15 [00:00<00:00, 4144.57it/s]\n"
     ]
    }
   ],
   "source": [
    "## dist-3\n",
    "from evaluation.prompted_sampling.evaluate import distinctness\n",
    "# distinctness()\n",
    "# dist3_metrics=[]\n",
    "origin_subset=unravel(origin)\n",
    "origin_subset=origin_subset.loc[common_edited_ixs,].copy()\n",
    "origin_subset=ravel(origin_subset)\n",
    "_,_,dist3=distinctness(origin_subset)\n",
    "dist3_metrics.append(dist3)"
   ]
  },
  {
   "cell_type": "code",
   "execution_count": 148,
   "id": "24177ba3-edb5-4111-8ad1-074f18d00997",
   "metadata": {},
   "outputs": [],
   "source": [
    "## putting all together\n",
    "\n",
    "\n",
    "pd.DataFrame({'run_ids':run_ids+['original'],\n",
    "              'positive_proba_metrics_int':positive_proba_metrics_int,\n",
    "              'positive_proba_metrics_ext':positive_proba_metrics_ext,       \n",
    "              'ppl':ppl_metrics,\n",
    "              'fluency_metrics':fluency_metrics,\n",
    "              'dist-3':dist3_metrics,\n",
    "              'rep_rate':repetitions_metrics}).to_csv('new_module/sentiment_ablation_common_ixes.csv',index=False)"
   ]
  },
  {
   "cell_type": "code",
   "execution_count": 149,
   "id": "48b67035-b80e-4661-af07-d3aba17689f6",
   "metadata": {},
   "outputs": [
    {
     "data": {
      "text/html": [
       "<div>\n",
       "<style scoped>\n",
       "    .dataframe tbody tr th:only-of-type {\n",
       "        vertical-align: middle;\n",
       "    }\n",
       "\n",
       "    .dataframe tbody tr th {\n",
       "        vertical-align: top;\n",
       "    }\n",
       "\n",
       "    .dataframe thead th {\n",
       "        text-align: right;\n",
       "    }\n",
       "</style>\n",
       "<table border=\"1\" class=\"dataframe\">\n",
       "  <thead>\n",
       "    <tr style=\"text-align: right;\">\n",
       "      <th></th>\n",
       "      <th>run_ids</th>\n",
       "      <th>positive_proba_metrics_int</th>\n",
       "      <th>positive_proba_metrics_ext</th>\n",
       "      <th>ppl</th>\n",
       "      <th>fluency_metrics</th>\n",
       "      <th>dist-3</th>\n",
       "      <th>rep_rate</th>\n",
       "    </tr>\n",
       "  </thead>\n",
       "  <tbody>\n",
       "    <tr>\n",
       "      <th>0</th>\n",
       "      <td>ugr3ts53</td>\n",
       "      <td>0.982301</td>\n",
       "      <td>0.849558</td>\n",
       "      <td>8.685479e+00</td>\n",
       "      <td>0.637168</td>\n",
       "      <td>0.620041</td>\n",
       "      <td>0.168142</td>\n",
       "    </tr>\n",
       "    <tr>\n",
       "      <th>1</th>\n",
       "      <td>7khk65lu</td>\n",
       "      <td>0.964602</td>\n",
       "      <td>0.902655</td>\n",
       "      <td>1.002011e+01</td>\n",
       "      <td>0.566372</td>\n",
       "      <td>0.641107</td>\n",
       "      <td>0.194690</td>\n",
       "    </tr>\n",
       "    <tr>\n",
       "      <th>2</th>\n",
       "      <td>0ax3fe5q</td>\n",
       "      <td>0.761062</td>\n",
       "      <td>0.460177</td>\n",
       "      <td>1.874492e+02</td>\n",
       "      <td>0.371681</td>\n",
       "      <td>0.899152</td>\n",
       "      <td>0.000000</td>\n",
       "    </tr>\n",
       "    <tr>\n",
       "      <th>3</th>\n",
       "      <td>745dg32u</td>\n",
       "      <td>0.796460</td>\n",
       "      <td>0.584071</td>\n",
       "      <td>2.940309e+02</td>\n",
       "      <td>0.212389</td>\n",
       "      <td>0.901199</td>\n",
       "      <td>0.000000</td>\n",
       "    </tr>\n",
       "    <tr>\n",
       "      <th>4</th>\n",
       "      <td>9ujeyli7</td>\n",
       "      <td>0.619469</td>\n",
       "      <td>0.433628</td>\n",
       "      <td>8.136595e+01</td>\n",
       "      <td>0.566372</td>\n",
       "      <td>0.895419</td>\n",
       "      <td>0.000000</td>\n",
       "    </tr>\n",
       "    <tr>\n",
       "      <th>5</th>\n",
       "      <td>hlnz0mx2</td>\n",
       "      <td>0.513274</td>\n",
       "      <td>0.460177</td>\n",
       "      <td>2.467734e+02</td>\n",
       "      <td>0.592920</td>\n",
       "      <td>0.895100</td>\n",
       "      <td>0.000000</td>\n",
       "    </tr>\n",
       "    <tr>\n",
       "      <th>6</th>\n",
       "      <td>4tml0ox0</td>\n",
       "      <td>0.539823</td>\n",
       "      <td>0.460177</td>\n",
       "      <td>7.612396e+01</td>\n",
       "      <td>0.504425</td>\n",
       "      <td>0.898264</td>\n",
       "      <td>0.000000</td>\n",
       "    </tr>\n",
       "    <tr>\n",
       "      <th>7</th>\n",
       "      <td>k7iftmov</td>\n",
       "      <td>0.398230</td>\n",
       "      <td>0.442478</td>\n",
       "      <td>1.275059e+02</td>\n",
       "      <td>0.495575</td>\n",
       "      <td>0.898297</td>\n",
       "      <td>0.000000</td>\n",
       "    </tr>\n",
       "    <tr>\n",
       "      <th>8</th>\n",
       "      <td>z6iu47d2</td>\n",
       "      <td>0.513274</td>\n",
       "      <td>0.442478</td>\n",
       "      <td>7.236399e+01</td>\n",
       "      <td>0.513274</td>\n",
       "      <td>0.897827</td>\n",
       "      <td>0.000000</td>\n",
       "    </tr>\n",
       "    <tr>\n",
       "      <th>9</th>\n",
       "      <td>ljuam185</td>\n",
       "      <td>0.407080</td>\n",
       "      <td>0.424779</td>\n",
       "      <td>9.704382e+01</td>\n",
       "      <td>0.469027</td>\n",
       "      <td>0.899421</td>\n",
       "      <td>0.000000</td>\n",
       "    </tr>\n",
       "    <tr>\n",
       "      <th>10</th>\n",
       "      <td>a2bn8dk5</td>\n",
       "      <td>0.575221</td>\n",
       "      <td>0.460177</td>\n",
       "      <td>8.130071e+01</td>\n",
       "      <td>0.486726</td>\n",
       "      <td>0.897966</td>\n",
       "      <td>0.000000</td>\n",
       "    </tr>\n",
       "    <tr>\n",
       "      <th>11</th>\n",
       "      <td>s13j6sqs</td>\n",
       "      <td>0.442478</td>\n",
       "      <td>0.424779</td>\n",
       "      <td>1.377345e+02</td>\n",
       "      <td>0.460177</td>\n",
       "      <td>0.899325</td>\n",
       "      <td>0.000000</td>\n",
       "    </tr>\n",
       "    <tr>\n",
       "      <th>12</th>\n",
       "      <td>0xteb62f</td>\n",
       "      <td>0.566372</td>\n",
       "      <td>0.309735</td>\n",
       "      <td>8.498151e+05</td>\n",
       "      <td>0.212389</td>\n",
       "      <td>0.873018</td>\n",
       "      <td>0.000000</td>\n",
       "    </tr>\n",
       "    <tr>\n",
       "      <th>13</th>\n",
       "      <td>qy6h3xm3</td>\n",
       "      <td>0.336283</td>\n",
       "      <td>0.318584</td>\n",
       "      <td>2.153392e+06</td>\n",
       "      <td>0.318584</td>\n",
       "      <td>0.874657</td>\n",
       "      <td>0.000000</td>\n",
       "    </tr>\n",
       "    <tr>\n",
       "      <th>14</th>\n",
       "      <td>51eicj7v</td>\n",
       "      <td>0.637168</td>\n",
       "      <td>0.300885</td>\n",
       "      <td>2.820603e+07</td>\n",
       "      <td>0.150442</td>\n",
       "      <td>0.868980</td>\n",
       "      <td>0.000000</td>\n",
       "    </tr>\n",
       "    <tr>\n",
       "      <th>15</th>\n",
       "      <td>0stmb3i8</td>\n",
       "      <td>0.424779</td>\n",
       "      <td>0.380531</td>\n",
       "      <td>4.367692e+09</td>\n",
       "      <td>0.230088</td>\n",
       "      <td>0.867816</td>\n",
       "      <td>0.000000</td>\n",
       "    </tr>\n",
       "    <tr>\n",
       "      <th>16</th>\n",
       "      <td>m4u9glnx</td>\n",
       "      <td>0.805310</td>\n",
       "      <td>0.557522</td>\n",
       "      <td>1.922354e+02</td>\n",
       "      <td>0.265487</td>\n",
       "      <td>0.899460</td>\n",
       "      <td>0.000000</td>\n",
       "    </tr>\n",
       "    <tr>\n",
       "      <th>17</th>\n",
       "      <td>bpfmw7l8</td>\n",
       "      <td>0.814159</td>\n",
       "      <td>0.530973</td>\n",
       "      <td>2.153339e+02</td>\n",
       "      <td>0.292035</td>\n",
       "      <td>0.899328</td>\n",
       "      <td>0.000000</td>\n",
       "    </tr>\n",
       "    <tr>\n",
       "      <th>18</th>\n",
       "      <td>pygsotv9</td>\n",
       "      <td>0.610619</td>\n",
       "      <td>0.477876</td>\n",
       "      <td>7.244032e+01</td>\n",
       "      <td>0.654867</td>\n",
       "      <td>0.896067</td>\n",
       "      <td>0.000000</td>\n",
       "    </tr>\n",
       "    <tr>\n",
       "      <th>19</th>\n",
       "      <td>4kzzg2vx</td>\n",
       "      <td>0.539823</td>\n",
       "      <td>0.469027</td>\n",
       "      <td>8.189554e+01</td>\n",
       "      <td>0.486726</td>\n",
       "      <td>0.895222</td>\n",
       "      <td>0.000000</td>\n",
       "    </tr>\n",
       "    <tr>\n",
       "      <th>20</th>\n",
       "      <td>omhz1rr1</td>\n",
       "      <td>0.663717</td>\n",
       "      <td>0.477876</td>\n",
       "      <td>5.918450e+01</td>\n",
       "      <td>0.477876</td>\n",
       "      <td>0.900302</td>\n",
       "      <td>0.000000</td>\n",
       "    </tr>\n",
       "    <tr>\n",
       "      <th>21</th>\n",
       "      <td>gahrb4gt</td>\n",
       "      <td>0.566372</td>\n",
       "      <td>0.495575</td>\n",
       "      <td>5.979505e+01</td>\n",
       "      <td>0.486726</td>\n",
       "      <td>0.900614</td>\n",
       "      <td>0.008850</td>\n",
       "    </tr>\n",
       "    <tr>\n",
       "      <th>22</th>\n",
       "      <td>e30unz6h</td>\n",
       "      <td>0.557522</td>\n",
       "      <td>0.469027</td>\n",
       "      <td>5.339645e+01</td>\n",
       "      <td>0.513274</td>\n",
       "      <td>0.900157</td>\n",
       "      <td>0.000000</td>\n",
       "    </tr>\n",
       "    <tr>\n",
       "      <th>23</th>\n",
       "      <td>3hra2btv</td>\n",
       "      <td>0.442478</td>\n",
       "      <td>0.469027</td>\n",
       "      <td>5.637839e+01</td>\n",
       "      <td>0.522124</td>\n",
       "      <td>0.901134</td>\n",
       "      <td>0.000000</td>\n",
       "    </tr>\n",
       "    <tr>\n",
       "      <th>24</th>\n",
       "      <td>fxe95fbr</td>\n",
       "      <td>0.654867</td>\n",
       "      <td>0.477876</td>\n",
       "      <td>5.941980e+01</td>\n",
       "      <td>0.469027</td>\n",
       "      <td>0.899615</td>\n",
       "      <td>0.000000</td>\n",
       "    </tr>\n",
       "    <tr>\n",
       "      <th>25</th>\n",
       "      <td>utoptt6f</td>\n",
       "      <td>0.504425</td>\n",
       "      <td>0.504425</td>\n",
       "      <td>6.092340e+01</td>\n",
       "      <td>0.495575</td>\n",
       "      <td>0.900883</td>\n",
       "      <td>0.000000</td>\n",
       "    </tr>\n",
       "    <tr>\n",
       "      <th>26</th>\n",
       "      <td>ecoyl88a</td>\n",
       "      <td>0.548673</td>\n",
       "      <td>0.256637</td>\n",
       "      <td>1.311455e+08</td>\n",
       "      <td>0.230088</td>\n",
       "      <td>0.876221</td>\n",
       "      <td>0.000000</td>\n",
       "    </tr>\n",
       "    <tr>\n",
       "      <th>27</th>\n",
       "      <td>fsputbpc</td>\n",
       "      <td>0.318584</td>\n",
       "      <td>0.292035</td>\n",
       "      <td>8.823059e+07</td>\n",
       "      <td>0.265487</td>\n",
       "      <td>0.872979</td>\n",
       "      <td>0.000000</td>\n",
       "    </tr>\n",
       "    <tr>\n",
       "      <th>28</th>\n",
       "      <td>73xgem0e</td>\n",
       "      <td>0.557522</td>\n",
       "      <td>0.274336</td>\n",
       "      <td>1.544754e+08</td>\n",
       "      <td>0.230088</td>\n",
       "      <td>0.871344</td>\n",
       "      <td>0.000000</td>\n",
       "    </tr>\n",
       "    <tr>\n",
       "      <th>29</th>\n",
       "      <td>3vt75up1</td>\n",
       "      <td>0.477876</td>\n",
       "      <td>0.292035</td>\n",
       "      <td>2.165649e+08</td>\n",
       "      <td>0.176991</td>\n",
       "      <td>0.865980</td>\n",
       "      <td>0.000000</td>\n",
       "    </tr>\n",
       "    <tr>\n",
       "      <th>30</th>\n",
       "      <td>original</td>\n",
       "      <td>0.265487</td>\n",
       "      <td>0.309735</td>\n",
       "      <td>7.656684e+01</td>\n",
       "      <td>0.699115</td>\n",
       "      <td>0.895601</td>\n",
       "      <td>0.000000</td>\n",
       "    </tr>\n",
       "  </tbody>\n",
       "</table>\n",
       "</div>"
      ],
      "text/plain": [
       "     run_ids  positive_proba_metrics_int  positive_proba_metrics_ext  \\\n",
       "0   ugr3ts53                    0.982301                    0.849558   \n",
       "1   7khk65lu                    0.964602                    0.902655   \n",
       "2   0ax3fe5q                    0.761062                    0.460177   \n",
       "3   745dg32u                    0.796460                    0.584071   \n",
       "4   9ujeyli7                    0.619469                    0.433628   \n",
       "5   hlnz0mx2                    0.513274                    0.460177   \n",
       "6   4tml0ox0                    0.539823                    0.460177   \n",
       "7   k7iftmov                    0.398230                    0.442478   \n",
       "8   z6iu47d2                    0.513274                    0.442478   \n",
       "9   ljuam185                    0.407080                    0.424779   \n",
       "10  a2bn8dk5                    0.575221                    0.460177   \n",
       "11  s13j6sqs                    0.442478                    0.424779   \n",
       "12  0xteb62f                    0.566372                    0.309735   \n",
       "13  qy6h3xm3                    0.336283                    0.318584   \n",
       "14  51eicj7v                    0.637168                    0.300885   \n",
       "15  0stmb3i8                    0.424779                    0.380531   \n",
       "16  m4u9glnx                    0.805310                    0.557522   \n",
       "17  bpfmw7l8                    0.814159                    0.530973   \n",
       "18  pygsotv9                    0.610619                    0.477876   \n",
       "19  4kzzg2vx                    0.539823                    0.469027   \n",
       "20  omhz1rr1                    0.663717                    0.477876   \n",
       "21  gahrb4gt                    0.566372                    0.495575   \n",
       "22  e30unz6h                    0.557522                    0.469027   \n",
       "23  3hra2btv                    0.442478                    0.469027   \n",
       "24  fxe95fbr                    0.654867                    0.477876   \n",
       "25  utoptt6f                    0.504425                    0.504425   \n",
       "26  ecoyl88a                    0.548673                    0.256637   \n",
       "27  fsputbpc                    0.318584                    0.292035   \n",
       "28  73xgem0e                    0.557522                    0.274336   \n",
       "29  3vt75up1                    0.477876                    0.292035   \n",
       "30  original                    0.265487                    0.309735   \n",
       "\n",
       "             ppl  fluency_metrics    dist-3  rep_rate  \n",
       "0   8.685479e+00         0.637168  0.620041  0.168142  \n",
       "1   1.002011e+01         0.566372  0.641107  0.194690  \n",
       "2   1.874492e+02         0.371681  0.899152  0.000000  \n",
       "3   2.940309e+02         0.212389  0.901199  0.000000  \n",
       "4   8.136595e+01         0.566372  0.895419  0.000000  \n",
       "5   2.467734e+02         0.592920  0.895100  0.000000  \n",
       "6   7.612396e+01         0.504425  0.898264  0.000000  \n",
       "7   1.275059e+02         0.495575  0.898297  0.000000  \n",
       "8   7.236399e+01         0.513274  0.897827  0.000000  \n",
       "9   9.704382e+01         0.469027  0.899421  0.000000  \n",
       "10  8.130071e+01         0.486726  0.897966  0.000000  \n",
       "11  1.377345e+02         0.460177  0.899325  0.000000  \n",
       "12  8.498151e+05         0.212389  0.873018  0.000000  \n",
       "13  2.153392e+06         0.318584  0.874657  0.000000  \n",
       "14  2.820603e+07         0.150442  0.868980  0.000000  \n",
       "15  4.367692e+09         0.230088  0.867816  0.000000  \n",
       "16  1.922354e+02         0.265487  0.899460  0.000000  \n",
       "17  2.153339e+02         0.292035  0.899328  0.000000  \n",
       "18  7.244032e+01         0.654867  0.896067  0.000000  \n",
       "19  8.189554e+01         0.486726  0.895222  0.000000  \n",
       "20  5.918450e+01         0.477876  0.900302  0.000000  \n",
       "21  5.979505e+01         0.486726  0.900614  0.008850  \n",
       "22  5.339645e+01         0.513274  0.900157  0.000000  \n",
       "23  5.637839e+01         0.522124  0.901134  0.000000  \n",
       "24  5.941980e+01         0.469027  0.899615  0.000000  \n",
       "25  6.092340e+01         0.495575  0.900883  0.000000  \n",
       "26  1.311455e+08         0.230088  0.876221  0.000000  \n",
       "27  8.823059e+07         0.265487  0.872979  0.000000  \n",
       "28  1.544754e+08         0.230088  0.871344  0.000000  \n",
       "29  2.165649e+08         0.176991  0.865980  0.000000  \n",
       "30  7.656684e+01         0.699115  0.895601  0.000000  "
      ]
     },
     "execution_count": 149,
     "metadata": {},
     "output_type": "execute_result"
    }
   ],
   "source": [
    "pd.DataFrame({'run_ids':run_ids+['original'],\n",
    "              'positive_proba_metrics_int':positive_proba_metrics_int,\n",
    "              'positive_proba_metrics_ext':positive_proba_metrics_ext,       \n",
    "              'ppl':ppl_metrics,\n",
    "              'fluency_metrics':fluency_metrics,\n",
    "              'dist-3':dist3_metrics,\n",
    "              'rep_rate':repetitions_metrics})"
   ]
  },
  {
   "cell_type": "code",
   "execution_count": null,
   "id": "ce261c3b-9e6b-4325-8e3a-2c4d336f39ee",
   "metadata": {},
   "outputs": [],
   "source": []
  },
  {
   "cell_type": "code",
   "execution_count": 45,
   "id": "472d7909-75e2-4a1b-ad43-ffe82426007c",
   "metadata": {},
   "outputs": [],
   "source": [
    "ppl_metrics=[]\n",
    "fluency_metrics=[]\n",
    "positive_proba_metrics_ext=[]\n",
    "positive_proba_metrics_int=[]\n",
    "repetitions_metrics=[]\n",
    "dist3_metrics=[]"
   ]
  },
  {
   "cell_type": "code",
   "execution_count": 46,
   "id": "b6ea6fdf-2847-4615-abe5-1a42433fb246",
   "metadata": {},
   "outputs": [
    {
     "name": "stderr",
     "output_type": "stream",
     "text": [
      "Evaluating dist-n: 100%|██████████| 15/15 [00:00<00:00, 8591.36it/s]\n"
     ]
    }
   ],
   "source": [
    "fpath='BOLT/sentiment/sentiment/replaced_vocab_roberta_for_yelp_polarity/pos.len20.jsonl'\n",
    "res_prefix='BOLT/sentiment/sentiment/replaced_vocab_roberta_for_yelp_polarity/results-test.txt'\n",
    "\n",
    "bolt=pd.read_json(fpath, lines=True)\n",
    "\n",
    "## ppl-big\n",
    "metric='ppl-big'\n",
    "result_file=glob(f\"{res_prefix}.{metric}\")\n",
    "result=pd.read_csv(result_file[0],header=None)\n",
    "result=result.loc[common_edited_ixs]\n",
    "metric_value=result[0].mean()\n",
    "ppl_metrics.append(metric_value)\n",
    "\n",
    "## fluency\n",
    "metric='fluency'\n",
    "result_file=glob(f\"{res_prefix}.{metric}\")\n",
    "result=pd.read_csv(result_file[0],header=None)\n",
    "result=result.loc[common_edited_ixs]\n",
    "metric_value=result.loc[result[0]=='LABEL_1'].shape[0]/result.shape[0]\n",
    "fluency_metrics.append(metric_value)\n",
    "\n",
    "## sentiment_ext\n",
    "metric='sentiment_ext'\n",
    "result_file=glob(f\"{res_prefix}.{metric}\")\n",
    "result=pd.read_json(result_file[0],lines=True)\n",
    "result=result.loc[common_edited_ixs]\n",
    "metric_value=result.loc[result['label']=='POSITIVE'].shape[0]/result.shape[0]\n",
    "positive_proba_metrics_ext.append(metric_value)\n",
    "    \n",
    "## sentiment_int \n",
    "metric='sentiment_int'\n",
    "result_file=glob(f\"{res_prefix}.{metric}\")\n",
    "result=pd.read_json(result_file[0],lines=True)\n",
    "result=result.loc[common_edited_ixs]\n",
    "metric_value=result.loc[result['label']==2].shape[0]/result.shape[0] ## note the label. 2 : positive, 1: negative\n",
    "positive_proba_metrics_int.append(metric_value)\n",
    "\n",
    "## repetitions\n",
    "metric='repetitions'\n",
    "result_file=glob(f\"{res_prefix}.{metric}\")\n",
    "result=pd.read_json(result_file[0],lines=True)\n",
    "result=result.loc[common_edited_ixs]\n",
    "if result.empty:\n",
    "    metric_value = 0\n",
    "else:\n",
    "    metric_value = result.loc[~result['repeated_phrase'].isna(),:].shape[0]/result.shape[0]\n",
    "repetitions_metrics.append(metric_value)\n",
    "\n",
    "## dist-3\n",
    "bolt_subset=unravel(bolt)\n",
    "bolt_subset=bolt_subset.loc[common_edited_ixs,].copy()\n",
    "bolt_subset=ravel(bolt_subset)\n",
    "_,_,dist3=distinctness(bolt_subset)\n",
    "dist3_metrics.append(dist3)"
   ]
  },
  {
   "cell_type": "code",
   "execution_count": 47,
   "id": "3d975a15-4dd6-46fb-9541-49910935af04",
   "metadata": {},
   "outputs": [
    {
     "name": "stderr",
     "output_type": "stream",
     "text": [
      "Evaluating dist-n: 100%|██████████| 15/15 [00:00<00:00, 7448.15it/s]\n"
     ]
    }
   ],
   "source": [
    "fpath='BOLT/sentiment/sentiment/locedit_em/pos.len20.jsonl'\n",
    "res_prefix='BOLT/sentiment/sentiment/locedit_em/results-test.txt'\n",
    "\n",
    "bolt=pd.read_json(fpath, lines=True)\n",
    "\n",
    "## ppl-big\n",
    "metric='ppl-big'\n",
    "result_file=glob(f\"{res_prefix}.{metric}\")\n",
    "result=pd.read_csv(result_file[0],header=None)\n",
    "result=result.loc[common_edited_ixs]\n",
    "metric_value=result[0].mean()\n",
    "ppl_metrics.append(metric_value)\n",
    "\n",
    "## fluency\n",
    "metric='fluency'\n",
    "result_file=glob(f\"{res_prefix}.{metric}\")\n",
    "result=pd.read_csv(result_file[0],header=None)\n",
    "result=result.loc[common_edited_ixs]\n",
    "metric_value=result.loc[result[0]=='LABEL_1'].shape[0]/result.shape[0]\n",
    "fluency_metrics.append(metric_value)\n",
    "\n",
    "## sentiment_ext\n",
    "metric='sentiment_ext'\n",
    "result_file=glob(f\"{res_prefix}.{metric}\")\n",
    "result=pd.read_json(result_file[0],lines=True)\n",
    "result=result.loc[common_edited_ixs]\n",
    "metric_value=result.loc[result['label']=='POSITIVE'].shape[0]/result.shape[0]\n",
    "positive_proba_metrics_ext.append(metric_value)\n",
    "    \n",
    "## sentiment_int \n",
    "metric='sentiment_int'\n",
    "result_file=glob(f\"{res_prefix}.{metric}\")\n",
    "result=pd.read_json(result_file[0],lines=True)\n",
    "result=result.loc[common_edited_ixs]\n",
    "metric_value=result.loc[result['label']=='LABEL_1'].shape[0]/result.shape[0] ## note the label. 2 : positive, 1: negative\n",
    "positive_proba_metrics_int.append(metric_value)\n",
    "\n",
    "## repetitions\n",
    "metric='repetitions'\n",
    "result_file=glob(f\"{res_prefix}.{metric}\")\n",
    "result=pd.read_json(result_file[0],lines=True)\n",
    "result=result.loc[common_edited_ixs]\n",
    "if result.empty:\n",
    "    metric_value = 0\n",
    "else:\n",
    "    metric_value = result.loc[~result['repeated_phrase'].isna(),:].shape[0]/result.shape[0]\n",
    "repetitions_metrics.append(metric_value)\n",
    "\n",
    "## dist-3\n",
    "bolt_subset=unravel(bolt)\n",
    "bolt_subset=bolt_subset.loc[common_edited_ixs,].copy()\n",
    "bolt_subset=ravel(bolt_subset)\n",
    "_,_,dist3=distinctness(bolt_subset)\n",
    "dist3_metrics.append(dist3)"
   ]
  },
  {
   "cell_type": "code",
   "execution_count": 48,
   "id": "15719761-0d28-43b3-a3ea-fc715d0a1d50",
   "metadata": {},
   "outputs": [
    {
     "name": "stderr",
     "output_type": "stream",
     "text": [
      "Evaluating dist-n: 100%|██████████| 15/15 [00:00<00:00, 8809.10it/s]\n"
     ]
    }
   ],
   "source": [
    "fpath='BOLT/sentiment/sentiment/locedit_clsf/pos.len20.jsonl'\n",
    "res_prefix='BOLT/sentiment/sentiment/locedit_clsf/results-test.txt'\n",
    "\n",
    "bolt=pd.read_json(fpath, lines=True)\n",
    "\n",
    "## ppl-big\n",
    "metric='ppl-big'\n",
    "result_file=glob(f\"{res_prefix}.{metric}\")\n",
    "result=pd.read_csv(result_file[0],header=None)\n",
    "result=result.loc[common_edited_ixs]\n",
    "metric_value=result[0].mean()\n",
    "ppl_metrics.append(metric_value)\n",
    "\n",
    "## fluency\n",
    "metric='fluency'\n",
    "result_file=glob(f\"{res_prefix}.{metric}\")\n",
    "result=pd.read_csv(result_file[0],header=None)\n",
    "result=result.loc[common_edited_ixs]\n",
    "metric_value=result.loc[result[0]=='LABEL_1'].shape[0]/result.shape[0]\n",
    "fluency_metrics.append(metric_value)\n",
    "\n",
    "## sentiment_ext\n",
    "metric='sentiment_ext'\n",
    "result_file=glob(f\"{res_prefix}.{metric}\")\n",
    "result=pd.read_json(result_file[0],lines=True)\n",
    "result=result.loc[common_edited_ixs]\n",
    "metric_value=result.loc[result['label']=='POSITIVE'].shape[0]/result.shape[0]\n",
    "positive_proba_metrics_ext.append(metric_value)\n",
    "    \n",
    "## sentiment_int \n",
    "metric='sentiment_int'\n",
    "result_file=glob(f\"{res_prefix}.{metric}\")\n",
    "result=pd.read_json(result_file[0],lines=True)\n",
    "result=result.loc[common_edited_ixs]\n",
    "metric_value=result.loc[result['label']=='LABEL_1'].shape[0]/result.shape[0] ## note the label. 2 : positive, 1: negative\n",
    "positive_proba_metrics_int.append(metric_value)\n",
    "\n",
    "## repetitions\n",
    "metric='repetitions'\n",
    "result_file=glob(f\"{res_prefix}.{metric}\")\n",
    "result=pd.read_json(result_file[0],lines=True)\n",
    "result=result.loc[common_edited_ixs]\n",
    "if result.empty:\n",
    "    metric_value = 0\n",
    "else:\n",
    "    metric_value = result.loc[~result['repeated_phrase'].isna(),:].shape[0]/result.shape[0]\n",
    "repetitions_metrics.append(metric_value)\n",
    "\n",
    "## dist-3\n",
    "bolt_subset=unravel(bolt)\n",
    "bolt_subset=bolt_subset.loc[common_edited_ixs,].copy()\n",
    "bolt_subset=ravel(bolt_subset)\n",
    "_,_,dist3=distinctness(bolt_subset)\n",
    "dist3_metrics.append(dist3)"
   ]
  },
  {
   "cell_type": "code",
   "execution_count": 49,
   "id": "9c35f55d-733c-4204-8211-4a9c912b283b",
   "metadata": {},
   "outputs": [
    {
     "name": "stdout",
     "output_type": "stream",
     "text": [
      "[8.0418128266987, 7.588677691627859, 7.362663391466612]\n",
      "[0.9646017699115044, 0.9734513274336283, 0.9557522123893806]\n",
      "[0.8672566371681416, 0.8849557522123894, 0.911504424778761]\n",
      "[0.9823008849557522, 0.9911504424778761, 1.0]\n",
      "[0, 0, 0]\n",
      "[0.8343836736026324, 0.8475176702535454, 0.8255375600512661]\n"
     ]
    }
   ],
   "source": [
    "print(ppl_metrics)\n",
    "print(fluency_metrics)\n",
    "print(positive_proba_metrics_ext)\n",
    "print(positive_proba_metrics_int)\n",
    "print(repetitions_metrics)\n",
    "print(dist3_metrics)"
   ]
  },
  {
   "cell_type": "code",
   "execution_count": 50,
   "id": "027589e8-008e-49ce-9ac2-13f6e0b0e381",
   "metadata": {},
   "outputs": [
    {
     "data": {
      "text/html": [
       "<div>\n",
       "<style scoped>\n",
       "    .dataframe tbody tr th:only-of-type {\n",
       "        vertical-align: middle;\n",
       "    }\n",
       "\n",
       "    .dataframe tbody tr th {\n",
       "        vertical-align: top;\n",
       "    }\n",
       "\n",
       "    .dataframe thead th {\n",
       "        text-align: right;\n",
       "    }\n",
       "</style>\n",
       "<table border=\"1\" class=\"dataframe\">\n",
       "  <thead>\n",
       "    <tr style=\"text-align: right;\">\n",
       "      <th></th>\n",
       "      <th>run_ids</th>\n",
       "      <th>positive_proba_metrics_ext</th>\n",
       "      <th>positive_proba_metrics_int</th>\n",
       "      <th>ppl</th>\n",
       "      <th>fluency_metrics</th>\n",
       "      <th>dist-3</th>\n",
       "      <th>rep_rate</th>\n",
       "    </tr>\n",
       "  </thead>\n",
       "  <tbody>\n",
       "    <tr>\n",
       "      <th>0</th>\n",
       "      <td>BOLT/sentiment/sentiment/replaced_vocab_robert...</td>\n",
       "      <td>0.867257</td>\n",
       "      <td>0.982301</td>\n",
       "      <td>8.041813</td>\n",
       "      <td>0.964602</td>\n",
       "      <td>0.834384</td>\n",
       "      <td>0</td>\n",
       "    </tr>\n",
       "    <tr>\n",
       "      <th>1</th>\n",
       "      <td>BOLT/sentiment/sentiment/locedit_em</td>\n",
       "      <td>0.884956</td>\n",
       "      <td>0.991150</td>\n",
       "      <td>7.588678</td>\n",
       "      <td>0.973451</td>\n",
       "      <td>0.847518</td>\n",
       "      <td>0</td>\n",
       "    </tr>\n",
       "    <tr>\n",
       "      <th>2</th>\n",
       "      <td>BOLT/sentiment/sentiment/locedit_clsf</td>\n",
       "      <td>0.911504</td>\n",
       "      <td>1.000000</td>\n",
       "      <td>7.362663</td>\n",
       "      <td>0.955752</td>\n",
       "      <td>0.825538</td>\n",
       "      <td>0</td>\n",
       "    </tr>\n",
       "  </tbody>\n",
       "</table>\n",
       "</div>"
      ],
      "text/plain": [
       "                                             run_ids  \\\n",
       "0  BOLT/sentiment/sentiment/replaced_vocab_robert...   \n",
       "1                BOLT/sentiment/sentiment/locedit_em   \n",
       "2              BOLT/sentiment/sentiment/locedit_clsf   \n",
       "\n",
       "   positive_proba_metrics_ext  positive_proba_metrics_int       ppl  \\\n",
       "0                    0.867257                    0.982301  8.041813   \n",
       "1                    0.884956                    0.991150  7.588678   \n",
       "2                    0.911504                    1.000000  7.362663   \n",
       "\n",
       "   fluency_metrics    dist-3  rep_rate  \n",
       "0         0.964602  0.834384         0  \n",
       "1         0.973451  0.847518         0  \n",
       "2         0.955752  0.825538         0  "
      ]
     },
     "execution_count": 50,
     "metadata": {},
     "output_type": "execute_result"
    }
   ],
   "source": [
    "## putting all together\n",
    "pd.DataFrame({'run_ids':['BOLT/sentiment/sentiment/replaced_vocab_roberta_for_yelp_polarity',\n",
    "                         'BOLT/sentiment/sentiment/locedit_em',\n",
    "                         'BOLT/sentiment/sentiment/locedit_clsf'],\n",
    "              'positive_proba_metrics_ext': positive_proba_metrics_ext,\n",
    "              'positive_proba_metrics_int': positive_proba_metrics_int,\n",
    "              'ppl':ppl_metrics,\n",
    "              'fluency_metrics':fluency_metrics,\n",
    "              'dist-3':dist3_metrics,\n",
    "              'rep_rate':repetitions_metrics})#.to_csv('new_module/toxicity_ablation_common_ixes.csv',index=False)"
   ]
  },
  {
   "cell_type": "code",
   "execution_count": 51,
   "id": "cc281b1d-2dd5-4c1f-8b19-f48867b62c7f",
   "metadata": {},
   "outputs": [],
   "source": [
    "## putting all together\n",
    "pd.DataFrame({'run_ids':['BOLT/sentiment/sentiment/replaced_vocab_roberta_for_yelp_polarity',\n",
    "                         'BOLT/sentiment/sentiment/locedit_em',\n",
    "                         'BOLT/sentiment/sentiment/locedit_clsf'],\n",
    "              'positive_proba_metrics_ext': positive_proba_metrics_ext,\n",
    "              'positive_proba_metrics_int': positive_proba_metrics_int,\n",
    "              'ppl':ppl_metrics,\n",
    "              'fluency_metrics':fluency_metrics,\n",
    "              'dist-3':dist3_metrics,\n",
    "              'rep_rate':repetitions_metrics}).to_csv('new_module/sentiment_ablation_common_ixes_bolt.csv',index=False)"
   ]
  },
  {
   "cell_type": "code",
   "execution_count": null,
   "id": "0576d83c-d50f-4ff7-b3db-8d73a9c4678d",
   "metadata": {},
   "outputs": [],
   "source": []
  },
  {
   "cell_type": "code",
   "execution_count": 69,
   "id": "94283c03-e31a-451a-9f35-0d505f28ad0b",
   "metadata": {},
   "outputs": [],
   "source": [
    "## formality \n",
    "with open('data/formality/GYAFC_Corpus/Entertainment_Music/test/informal', 'r') as f:\n",
    "    orig = [l.rstrip('\\n') for l in f.readlines()]"
   ]
  },
  {
   "cell_type": "code",
   "execution_count": 72,
   "id": "8c9ac5a3-2ae2-456c-a6da-e72152bc2ba6",
   "metadata": {},
   "outputs": [
    {
     "data": {
      "text/plain": [
       "[3792, 4377, 14801, 16123, 317, 45328, 13]"
      ]
     },
     "execution_count": 72,
     "metadata": {},
     "output_type": "execute_result"
    }
   ],
   "source": [
    "tokenizer.encode(orig[0])"
   ]
  },
  {
   "cell_type": "code",
   "execution_count": 80,
   "id": "9c9f2757-2d9d-4ebe-979a-13b1faae521a",
   "metadata": {},
   "outputs": [],
   "source": [
    "orig_df=pd.DataFrame({'prompt': [{'text': '', 'tokens': []} for i in range(len(orig))],\n",
    "              'generations': [[{'text': x, 'tokens': tokenizer.encode(x)}] for x in orig]}) "
   ]
  },
  {
   "cell_type": "code",
   "execution_count": 77,
   "id": "d4ce0ae4-e16f-46a3-a22a-2d9b0e9e196b",
   "metadata": {},
   "outputs": [],
   "source": [
    "os.makedirs('new_module/data/formality',exist_ok=True)"
   ]
  },
  {
   "cell_type": "code",
   "execution_count": 81,
   "id": "11365ff9-3d9a-4f2a-99d1-e2cbf9a60baf",
   "metadata": {},
   "outputs": [
    {
     "data": {
      "text/html": [
       "<div>\n",
       "<style scoped>\n",
       "    .dataframe tbody tr th:only-of-type {\n",
       "        vertical-align: middle;\n",
       "    }\n",
       "\n",
       "    .dataframe tbody tr th {\n",
       "        vertical-align: top;\n",
       "    }\n",
       "\n",
       "    .dataframe thead th {\n",
       "        text-align: right;\n",
       "    }\n",
       "</style>\n",
       "<table border=\"1\" class=\"dataframe\">\n",
       "  <thead>\n",
       "    <tr style=\"text-align: right;\">\n",
       "      <th></th>\n",
       "      <th>prompt</th>\n",
       "      <th>generations</th>\n",
       "    </tr>\n",
       "  </thead>\n",
       "  <tbody>\n",
       "    <tr>\n",
       "      <th>0</th>\n",
       "      <td>{'text': '', 'tokens': []}</td>\n",
       "      <td>[{'text': 'Is Any Baby Really A Freak.', 'toke...</td>\n",
       "    </tr>\n",
       "    <tr>\n",
       "      <th>1</th>\n",
       "      <td>{'text': '', 'tokens': []}</td>\n",
       "      <td>[{'text': 'aspen colorado has he best music fe...</td>\n",
       "    </tr>\n",
       "    <tr>\n",
       "      <th>2</th>\n",
       "      <td>{'text': '', 'tokens': []}</td>\n",
       "      <td>[{'text': 'You can get almost anything on ebay...</td>\n",
       "    </tr>\n",
       "    <tr>\n",
       "      <th>3</th>\n",
       "      <td>{'text': '', 'tokens': []}</td>\n",
       "      <td>[{'text': 'everybody is Dying to get in', 'tok...</td>\n",
       "    </tr>\n",
       "    <tr>\n",
       "      <th>4</th>\n",
       "      <td>{'text': '', 'tokens': []}</td>\n",
       "      <td>[{'text': 'not idiots like 50 cent and his who...</td>\n",
       "    </tr>\n",
       "    <tr>\n",
       "      <th>...</th>\n",
       "      <td>...</td>\n",
       "      <td>...</td>\n",
       "    </tr>\n",
       "    <tr>\n",
       "      <th>1411</th>\n",
       "      <td>{'text': '', 'tokens': []}</td>\n",
       "      <td>[{'text': 'I LUBB IT.. [8] ILL KEEP U MY DIRRT...</td>\n",
       "    </tr>\n",
       "    <tr>\n",
       "      <th>1412</th>\n",
       "      <td>{'text': '', 'tokens': []}</td>\n",
       "      <td>[{'text': 'I guess it is the blond from americ...</td>\n",
       "    </tr>\n",
       "    <tr>\n",
       "      <th>1413</th>\n",
       "      <td>{'text': '', 'tokens': []}</td>\n",
       "      <td>[{'text': '(no offance) If you can answer that...</td>\n",
       "    </tr>\n",
       "    <tr>\n",
       "      <th>1414</th>\n",
       "      <td>{'text': '', 'tokens': []}</td>\n",
       "      <td>[{'text': 'the song was called epic, i cant re...</td>\n",
       "    </tr>\n",
       "    <tr>\n",
       "      <th>1415</th>\n",
       "      <td>{'text': '', 'tokens': []}</td>\n",
       "      <td>[{'text': 'hey Mar...that commercial is for Da...</td>\n",
       "    </tr>\n",
       "  </tbody>\n",
       "</table>\n",
       "<p>1416 rows × 2 columns</p>\n",
       "</div>"
      ],
      "text/plain": [
       "                          prompt  \\\n",
       "0     {'text': '', 'tokens': []}   \n",
       "1     {'text': '', 'tokens': []}   \n",
       "2     {'text': '', 'tokens': []}   \n",
       "3     {'text': '', 'tokens': []}   \n",
       "4     {'text': '', 'tokens': []}   \n",
       "...                          ...   \n",
       "1411  {'text': '', 'tokens': []}   \n",
       "1412  {'text': '', 'tokens': []}   \n",
       "1413  {'text': '', 'tokens': []}   \n",
       "1414  {'text': '', 'tokens': []}   \n",
       "1415  {'text': '', 'tokens': []}   \n",
       "\n",
       "                                            generations  \n",
       "0     [{'text': 'Is Any Baby Really A Freak.', 'toke...  \n",
       "1     [{'text': 'aspen colorado has he best music fe...  \n",
       "2     [{'text': 'You can get almost anything on ebay...  \n",
       "3     [{'text': 'everybody is Dying to get in', 'tok...  \n",
       "4     [{'text': 'not idiots like 50 cent and his who...  \n",
       "...                                                 ...  \n",
       "1411  [{'text': 'I LUBB IT.. [8] ILL KEEP U MY DIRRT...  \n",
       "1412  [{'text': 'I guess it is the blond from americ...  \n",
       "1413  [{'text': '(no offance) If you can answer that...  \n",
       "1414  [{'text': 'the song was called epic, i cant re...  \n",
       "1415  [{'text': 'hey Mar...that commercial is for Da...  \n",
       "\n",
       "[1416 rows x 2 columns]"
      ]
     },
     "execution_count": 81,
     "metadata": {},
     "output_type": "execute_result"
    }
   ],
   "source": [
    "orig_df"
   ]
  },
  {
   "cell_type": "code",
   "execution_count": 82,
   "id": "c008a9ba-faf1-4779-990b-d32437dc3f1e",
   "metadata": {},
   "outputs": [],
   "source": [
    "orig_df.to_json('new_module/data/formality/informal.jsonl',lines=True,orient='records')"
   ]
  },
  {
   "cell_type": "code",
   "execution_count": null,
   "id": "dc0e8ebd-d60c-41fd-8f20-0d785e60af60",
   "metadata": {},
   "outputs": [],
   "source": []
  },
  {
   "cell_type": "markdown",
   "id": "4aaf671b-b304-4776-8fb2-576d57ca9518",
   "metadata": {},
   "source": [
    "## Code to calculate metrics after dropping skipped sentences"
   ]
  },
  {
   "cell_type": "code",
   "execution_count": 90,
   "id": "4eb78227-387f-4d95-859f-65c864ccc1af",
   "metadata": {},
   "outputs": [],
   "source": [
    "import pandas as pd\n",
    "from glob import glob\n",
    "import os\n",
    "\n",
    "os.getcwd()\n",
    "os.chdir('/home/s3/hyeryung/mucoco')\n",
    "\n",
    "from evaluation.prompted_sampling.evaluate import distinctness, repetition"
   ]
  },
  {
   "cell_type": "code",
   "execution_count": 91,
   "id": "f37a5c68-d5e6-493c-9d38-fee0e03c2d42",
   "metadata": {},
   "outputs": [],
   "source": [
    "run_ids=\"\"\"ugr3ts53\n",
    "7khk65lu\n",
    "0ax3fe5q\n",
    "745dg32u\n",
    "9ujeyli7\n",
    "hlnz0mx2\n",
    "4tml0ox0\n",
    "k7iftmov\n",
    "z6iu47d2\n",
    "ljuam185\n",
    "a2bn8dk5\n",
    "s13j6sqs\n",
    "0xteb62f\n",
    "qy6h3xm3\n",
    "51eicj7v\n",
    "0stmb3i8\n",
    "m4u9glnx\n",
    "bpfmw7l8\n",
    "pygsotv9\n",
    "4kzzg2vx\n",
    "omhz1rr1\n",
    "gahrb4gt\n",
    "e30unz6h\n",
    "3hra2btv\n",
    "fxe95fbr\n",
    "utoptt6f\n",
    "ecoyl88a\n",
    "fsputbpc\n",
    "73xgem0e\n",
    "3vt75up1\"\"\".split()"
   ]
  },
  {
   "cell_type": "code",
   "execution_count": 92,
   "id": "3b6cf82e-ef18-4002-aff5-64378e0af179",
   "metadata": {},
   "outputs": [
    {
     "data": {
      "text/plain": [
       "30"
      ]
     },
     "execution_count": 92,
     "metadata": {},
     "output_type": "execute_result"
    }
   ],
   "source": [
    "len(run_ids)"
   ]
  },
  {
   "cell_type": "markdown",
   "id": "608d4c3f-50c5-427c-b8ad-d02f4681c134",
   "metadata": {},
   "source": [
    "30개 세팅 \n",
    "- 2개 model_tag X 15개 세팅\n",
    "    - mucola\n",
    "    - gbi x 2 (2 locate_methods)\n",
    "    - combi x 2 (2 locate_methods)\n",
    "    - mlm-rerankv0 x 2 (2 locate_methods)\n",
    "    - mlm-rerankv1 x 2 (2 locate_methods) x 2 (2 selection criterion)\n",
    "    - mlm-rerankv2 x 2 (2 locate_methods) x 2 (2 selection criterion)"
   ]
  },
  {
   "cell_type": "code",
   "execution_count": 93,
   "id": "d432d153-ce5e-461b-9313-3ea7b48b2567",
   "metadata": {},
   "outputs": [],
   "source": [
    "## func to read output file\n",
    "def unravel(outputs_df):\n",
    "    outputs_df=outputs_df.explode('generations',ignore_index=True)\n",
    "    \n",
    "    outputs_df['prompt']=outputs_df['prompt'].apply(lambda x: x['text'])\n",
    "    \n",
    "    outputs_df['text']=outputs_df['generations'].apply(lambda x: x['text'])\n",
    "    \n",
    "    gen_dict=outputs_df['generations'].values[0]\n",
    "    \n",
    "    for col in gen_dict.keys():\n",
    "        outputs_df[col] = outputs_df['generations'].apply(lambda x: x.get(col,None))\n",
    "\n",
    "    return outputs_df"
   ]
  },
  {
   "cell_type": "code",
   "execution_count": 94,
   "id": "f1acf453-a317-4c43-a7b3-44a5db0a69bc",
   "metadata": {},
   "outputs": [],
   "source": [
    "## get edited ixes\n",
    "outputs_dfs=[]\n",
    "edited_ixs=[]\n",
    "for run_id in run_ids:\n",
    "\n",
    "    output_file=[x for x in glob(f\"outputs/sentiment/**/**/*{run_id}*/outputs_epsilon*.txt\") if not x.endswith('filled.txt')]\n",
    "    if len(output_file) == 0:\n",
    "        output_file=[x for x in glob(f\"outputs/sentiment/**/*{run_id}*/outputs_epsilon*.txt\") if not x.endswith('filled.txt')]\n",
    "    # print(output_file)\n",
    "    outputs=pd.read_json(output_file[0], lines=True)\n",
    "\n",
    "    if 'gbi' in output_file[0]:\n",
    "        outputs=unravel(outputs)[['prompt','text','mucoco']].copy()\n",
    "        outputs_dfs.append(outputs)\n",
    "        edited_ixs.append(outputs.loc[outputs['mucoco'],].index.tolist())\n",
    "    else:\n",
    "        outputs=unravel(outputs)[['prompt','text','allsat']].copy()\n",
    "        outputs_dfs.append(outputs)\n",
    "        edited_ixs.append(outputs.loc[outputs['allsat']!=-1].index.tolist())"
   ]
  },
  {
   "cell_type": "code",
   "execution_count": 95,
   "id": "2913c3e2-2dc2-461f-a618-46432b102ac5",
   "metadata": {},
   "outputs": [],
   "source": [
    "# ## test hypothesis that explode in unravel preserves the order \n",
    "\n",
    "# eda=pd.merge(outputs_dfs[0],outputs_dfs[14],left_index=True,right_index=True)\n",
    "# eda.loc[eda['allsat_x']!=-1, ['text_x','text_y']].values"
   ]
  },
  {
   "cell_type": "code",
   "execution_count": 96,
   "id": "1aefd9ed-ffc6-47bf-919e-a682de2de0b9",
   "metadata": {},
   "outputs": [],
   "source": [
    "metrics=['fluency','ppl-big','repetitions','sentiment','sentiment_int']"
   ]
  },
  {
   "cell_type": "code",
   "execution_count": 97,
   "id": "64cacbbc-45a7-4c57-aa59-51d99ea5ddec",
   "metadata": {
    "scrolled": true
   },
   "outputs": [
    {
     "name": "stdout",
     "output_type": "stream",
     "text": [
      "0 :  outputs/sentiment/roberta-base-yelp-sentiment-classifier-with-gpt2-large-embeds-energy-training/gbi-word-netps-1-nls-1-os200-es40-allsat-negative-to-positive-attention-ugr3ts53/results_epsilon-1.09861228867-test.txt.ppl-big\n",
      "1 :  outputs/sentiment/roberta-base-yelp-sentiment-classifier-with-gpt2-large-embeds/gbi-word-netps-1-nls-1-os200-es40-allsat-negative-to-positive-attention-7khk65lu/results_epsilon-1.09861228867-test.txt.ppl-big\n",
      "2 :  outputs/sentiment/roberta-base-yelp-sentiment-classifier-with-gpt2-large-embeds-energy-training/gbi-word-netps3-nls1-os20-es4-allsat-negative-to-positive-attention-0ax3fe5q/results_epsilon-1.09861228867-test.txt.ppl-big\n",
      "3 :  outputs/sentiment/roberta-base-yelp-sentiment-classifier-with-gpt2-large-embeds/gbi-word-netps3-nls1-os20-es4-allsat-negative-to-positive-attention-745dg32u/results_epsilon-1.09861228867-test.txt.ppl-big\n",
      "4 :  outputs/sentiment/mlm-reranking/roberta-base-yelp-sentiment-classifier-with-gpt2-large-embeds-energy-training/mlm-reranking-token-nps4-k3-beam5-allsat_primary-9ujeyli7-positive/results_epsilon0.75-test.txt.ppl-big\n",
      "5 :  outputs/sentiment/mlm-reranking/roberta-base-yelp-sentiment-classifier-with-gpt2-large-embeds/mlm-reranking-token-nps4-k3-beam5-allsat_primary-hlnz0mx2-positive/results_epsilon0.75-test.txt.ppl-big\n",
      "6 :  outputs/sentiment/mlm-reranking/roberta-base-yelp-sentiment-classifier-with-gpt2-large-embeds-energy-training/mlm-beamsearch-v0-word-nps5-k10-beam5-allsat_primary-4tml0ox0-positive/results_epsilon0.75-test.txt.ppl-big\n",
      "7 :  outputs/sentiment/mlm-reranking/roberta-base-yelp-sentiment-classifier-with-gpt2-large-embeds/mlm-beamsearch-v0-word-nps5-k10-beam5-allsat_primary-k7iftmov-positive/results_epsilon0.75-test.txt.ppl-big\n",
      "8 :  outputs/sentiment/mlm-reranking/roberta-base-yelp-sentiment-classifier-with-gpt2-large-embeds-energy-training/mlm-beamsearch-v1-word-nps5-k10-beam3-weighted_sum-z6iu47d2-positive/results_epsilon0.75-test.txt.ppl-big\n",
      "9 :  outputs/sentiment/mlm-reranking/roberta-base-yelp-sentiment-classifier-with-gpt2-large-embeds/mlm-beamsearch-v1-word-nps5-k10-beam3-weighted_sum-ljuam185-positive/results_epsilon0.75-test.txt.ppl-big\n",
      "10 :  outputs/sentiment/mlm-reranking/roberta-base-yelp-sentiment-classifier-with-gpt2-large-embeds-energy-training/mlm-beamsearch-v1-word-nps5-k10-beam3-allsat_primary-a2bn8dk5-positive/results_epsilon0.75-test.txt.ppl-big\n",
      "11 :  outputs/sentiment/mlm-reranking/roberta-base-yelp-sentiment-classifier-with-gpt2-large-embeds/mlm-beamsearch-v1-word-nps5-k10-beam3-allsat_primary-s13j6sqs-positive/results_epsilon0.75-test.txt.ppl-big\n",
      "12 :  outputs/sentiment/mlm-reranking/roberta-base-yelp-sentiment-classifier-with-gpt2-large-embeds-energy-training/mlm-beamsearch-v2-word-nps5-k15-beam5-weighted_sum-0xteb62f-positive/results_epsilon0.75-test.txt.ppl-big\n",
      "13 :  outputs/sentiment/mlm-reranking/roberta-base-yelp-sentiment-classifier-with-gpt2-large-embeds/mlm-beamsearch-v2-word-nps5-k15-beam5-weighted_sum-qy6h3xm3-positive/results_epsilon0.75-test.txt.ppl-big\n",
      "14 :  outputs/sentiment/mlm-reranking/roberta-base-yelp-sentiment-classifier-with-gpt2-large-embeds-energy-training/mlm-beamsearch-v2-word-nps5-k15-beam5-allsat_primary-51eicj7v-positive/results_epsilon0.75-test.txt.ppl-big\n",
      "15 :  outputs/sentiment/mlm-reranking/roberta-base-yelp-sentiment-classifier-with-gpt2-large-embeds/mlm-beamsearch-v2-word-nps5-k15-beam5-allsat_primary-0stmb3i8-positive/results_epsilon0.75-test.txt.ppl-big\n",
      "16 :  outputs/sentiment/roberta-base-yelp-sentiment-classifier-with-gpt2-large-embeds-energy-training/gbi-word-netps3-nls1-os20-es4-allsat-negative-to-positive-grad_norm-m4u9glnx/results_epsilon-1.09861228867-test.txt.ppl-big\n",
      "17 :  outputs/sentiment/roberta-base-yelp-sentiment-classifier-with-gpt2-large-embeds/gbi-word-netps3-nls1-os20-es4-allsat-negative-to-positive-grad_norm-bpfmw7l8/results_epsilon-1.09861228867-test.txt.ppl-big\n",
      "18 :  outputs/sentiment/mlm-reranking/roberta-base-yelp-sentiment-classifier-with-gpt2-large-embeds-energy-training/mlm-reranking-token-nps4-k3-beam5-allsat_primary-negative-to-positive-grad_norm-pygsotv9/results_epsilon0.75-test.txt.ppl-big\n",
      "19 :  outputs/sentiment/mlm-reranking/roberta-base-yelp-sentiment-classifier-with-gpt2-large-embeds/mlm-reranking-token-nps4-k3-beam5-allsat_primary-negative-to-positive-grad_norm-4kzzg2vx/results_epsilon0.75-test.txt.ppl-big\n",
      "20 :  outputs/sentiment/mlm-reranking/roberta-base-yelp-sentiment-classifier-with-gpt2-large-embeds-energy-training/mlm-beamsearch-v0-word-nps5-k10-beam5-allsat_primary-negative-to-positive-grad_norm-omhz1rr1/results_epsilon0.75-test.txt.ppl-big\n",
      "21 :  outputs/sentiment/mlm-reranking/roberta-base-yelp-sentiment-classifier-with-gpt2-large-embeds/mlm-beamsearch-v0-word-nps5-k10-beam5-allsat_primary-negative-to-positive-grad_norm-gahrb4gt/results_epsilon0.75-test.txt.ppl-big\n",
      "22 :  outputs/sentiment/mlm-reranking/roberta-base-yelp-sentiment-classifier-with-gpt2-large-embeds-energy-training/mlm-beamsearch-v1-word-nps5-k10-beam3-weighted_sum-negative-to-positive-grad_norm-e30unz6h/results_epsilon0.75-test.txt.ppl-big\n",
      "23 :  outputs/sentiment/mlm-reranking/roberta-base-yelp-sentiment-classifier-with-gpt2-large-embeds/mlm-beamsearch-v1-word-nps5-k10-beam3-weighted_sum-negative-to-positive-grad_norm-3hra2btv/results_epsilon0.75-test.txt.ppl-big\n",
      "24 :  outputs/sentiment/mlm-reranking/roberta-base-yelp-sentiment-classifier-with-gpt2-large-embeds-energy-training/mlm-beamsearch-v1-word-nps5-k10-beam3-allsat_primary-negative-to-positive-grad_norm-fxe95fbr/results_epsilon0.75-test.txt.ppl-big\n",
      "25 :  outputs/sentiment/mlm-reranking/roberta-base-yelp-sentiment-classifier-with-gpt2-large-embeds/mlm-beamsearch-v1-word-nps5-k10-beam3-allsat_primary-negative-to-positive-grad_norm-utoptt6f/results_epsilon0.75-test.txt.ppl-big\n",
      "26 :  outputs/sentiment/mlm-reranking/roberta-base-yelp-sentiment-classifier-with-gpt2-large-embeds-energy-training/mlm-beamsearch-v2-word-nps5-k15-beam5-weighted_sum-negative-to-positive-grad_norm-ecoyl88a/results_epsilon0.75-test.txt.ppl-big\n",
      "27 :  outputs/sentiment/mlm-reranking/roberta-base-yelp-sentiment-classifier-with-gpt2-large-embeds/mlm-beamsearch-v2-word-nps5-k15-beam5-weighted_sum-negative-to-positive-grad_norm-fsputbpc/results_epsilon0.75-test.txt.ppl-big\n",
      "28 :  outputs/sentiment/mlm-reranking/roberta-base-yelp-sentiment-classifier-with-gpt2-large-embeds-energy-training/mlm-beamsearch-v2-word-nps5-k15-beam5-allsat_primary-negative-to-positive-grad_norm-73xgem0e/results_epsilon0.75-test.txt.ppl-big\n",
      "29 :  outputs/sentiment/mlm-reranking/roberta-base-yelp-sentiment-classifier-with-gpt2-large-embeds/mlm-beamsearch-v2-word-nps5-k15-beam5-allsat_primary-negative-to-positive-grad_norm-3vt75up1/results_epsilon0.75-test.txt.ppl-big\n"
     ]
    }
   ],
   "source": [
    "## ppl-big\n",
    "metric='ppl-big'\n",
    "ppl_metrics=[]\n",
    "for i, run_id in enumerate(run_ids):\n",
    "\n",
    "    result_file=glob(f\"outputs/sentiment/**/**/*{run_id}*/results_epsilon*-test.txt.{metric}\")\n",
    "    if len(result_file) == 0:\n",
    "        result_file=glob(f\"outputs/sentiment/**/*{run_id}*/results_epsilon*-test.txt.{metric}\")\n",
    "    print(i, ': ', result_file[0])\n",
    "    result=pd.read_csv(result_file[0],header=None)\n",
    "    \n",
    "    result=result.loc[edited_ixs[i]]\n",
    "    metric_value=result[0].mean()\n",
    "    ppl_metrics.append(metric_value)"
   ]
  },
  {
   "cell_type": "code",
   "execution_count": 98,
   "id": "328c8f63-be7c-4a23-921f-27fa9e3a9123",
   "metadata": {
    "scrolled": true
   },
   "outputs": [
    {
     "name": "stdout",
     "output_type": "stream",
     "text": [
      "0 :  outputs/sentiment/roberta-base-yelp-sentiment-classifier-with-gpt2-large-embeds-energy-training/gbi-word-netps-1-nls-1-os200-es40-allsat-negative-to-positive-attention-ugr3ts53/results_epsilon-1.09861228867-test.txt.fluency\n",
      "1 :  outputs/sentiment/roberta-base-yelp-sentiment-classifier-with-gpt2-large-embeds/gbi-word-netps-1-nls-1-os200-es40-allsat-negative-to-positive-attention-7khk65lu/results_epsilon-1.09861228867-test.txt.fluency\n",
      "2 :  outputs/sentiment/roberta-base-yelp-sentiment-classifier-with-gpt2-large-embeds-energy-training/gbi-word-netps3-nls1-os20-es4-allsat-negative-to-positive-attention-0ax3fe5q/results_epsilon-1.09861228867-test.txt.fluency\n",
      "3 :  outputs/sentiment/roberta-base-yelp-sentiment-classifier-with-gpt2-large-embeds/gbi-word-netps3-nls1-os20-es4-allsat-negative-to-positive-attention-745dg32u/results_epsilon-1.09861228867-test.txt.fluency\n",
      "4 :  outputs/sentiment/mlm-reranking/roberta-base-yelp-sentiment-classifier-with-gpt2-large-embeds-energy-training/mlm-reranking-token-nps4-k3-beam5-allsat_primary-9ujeyli7-positive/results_epsilon0.75-test.txt.fluency\n",
      "5 :  outputs/sentiment/mlm-reranking/roberta-base-yelp-sentiment-classifier-with-gpt2-large-embeds/mlm-reranking-token-nps4-k3-beam5-allsat_primary-hlnz0mx2-positive/results_epsilon0.75-test.txt.fluency\n",
      "6 :  outputs/sentiment/mlm-reranking/roberta-base-yelp-sentiment-classifier-with-gpt2-large-embeds-energy-training/mlm-beamsearch-v0-word-nps5-k10-beam5-allsat_primary-4tml0ox0-positive/results_epsilon0.75-test.txt.fluency\n",
      "7 :  outputs/sentiment/mlm-reranking/roberta-base-yelp-sentiment-classifier-with-gpt2-large-embeds/mlm-beamsearch-v0-word-nps5-k10-beam5-allsat_primary-k7iftmov-positive/results_epsilon0.75-test.txt.fluency\n",
      "8 :  outputs/sentiment/mlm-reranking/roberta-base-yelp-sentiment-classifier-with-gpt2-large-embeds-energy-training/mlm-beamsearch-v1-word-nps5-k10-beam3-weighted_sum-z6iu47d2-positive/results_epsilon0.75-test.txt.fluency\n",
      "9 :  outputs/sentiment/mlm-reranking/roberta-base-yelp-sentiment-classifier-with-gpt2-large-embeds/mlm-beamsearch-v1-word-nps5-k10-beam3-weighted_sum-ljuam185-positive/results_epsilon0.75-test.txt.fluency\n",
      "10 :  outputs/sentiment/mlm-reranking/roberta-base-yelp-sentiment-classifier-with-gpt2-large-embeds-energy-training/mlm-beamsearch-v1-word-nps5-k10-beam3-allsat_primary-a2bn8dk5-positive/results_epsilon0.75-test.txt.fluency\n",
      "11 :  outputs/sentiment/mlm-reranking/roberta-base-yelp-sentiment-classifier-with-gpt2-large-embeds/mlm-beamsearch-v1-word-nps5-k10-beam3-allsat_primary-s13j6sqs-positive/results_epsilon0.75-test.txt.fluency\n",
      "12 :  outputs/sentiment/mlm-reranking/roberta-base-yelp-sentiment-classifier-with-gpt2-large-embeds-energy-training/mlm-beamsearch-v2-word-nps5-k15-beam5-weighted_sum-0xteb62f-positive/results_epsilon0.75-test.txt.fluency\n",
      "13 :  outputs/sentiment/mlm-reranking/roberta-base-yelp-sentiment-classifier-with-gpt2-large-embeds/mlm-beamsearch-v2-word-nps5-k15-beam5-weighted_sum-qy6h3xm3-positive/results_epsilon0.75-test.txt.fluency\n",
      "14 :  outputs/sentiment/mlm-reranking/roberta-base-yelp-sentiment-classifier-with-gpt2-large-embeds-energy-training/mlm-beamsearch-v2-word-nps5-k15-beam5-allsat_primary-51eicj7v-positive/results_epsilon0.75-test.txt.fluency\n",
      "15 :  outputs/sentiment/mlm-reranking/roberta-base-yelp-sentiment-classifier-with-gpt2-large-embeds/mlm-beamsearch-v2-word-nps5-k15-beam5-allsat_primary-0stmb3i8-positive/results_epsilon0.75-test.txt.fluency\n",
      "16 :  outputs/sentiment/roberta-base-yelp-sentiment-classifier-with-gpt2-large-embeds-energy-training/gbi-word-netps3-nls1-os20-es4-allsat-negative-to-positive-grad_norm-m4u9glnx/results_epsilon-1.09861228867-test.txt.fluency\n",
      "17 :  outputs/sentiment/roberta-base-yelp-sentiment-classifier-with-gpt2-large-embeds/gbi-word-netps3-nls1-os20-es4-allsat-negative-to-positive-grad_norm-bpfmw7l8/results_epsilon-1.09861228867-test.txt.fluency\n",
      "18 :  outputs/sentiment/mlm-reranking/roberta-base-yelp-sentiment-classifier-with-gpt2-large-embeds-energy-training/mlm-reranking-token-nps4-k3-beam5-allsat_primary-negative-to-positive-grad_norm-pygsotv9/results_epsilon0.75-test.txt.fluency\n",
      "19 :  outputs/sentiment/mlm-reranking/roberta-base-yelp-sentiment-classifier-with-gpt2-large-embeds/mlm-reranking-token-nps4-k3-beam5-allsat_primary-negative-to-positive-grad_norm-4kzzg2vx/results_epsilon0.75-test.txt.fluency\n",
      "20 :  outputs/sentiment/mlm-reranking/roberta-base-yelp-sentiment-classifier-with-gpt2-large-embeds-energy-training/mlm-beamsearch-v0-word-nps5-k10-beam5-allsat_primary-negative-to-positive-grad_norm-omhz1rr1/results_epsilon0.75-test.txt.fluency\n",
      "21 :  outputs/sentiment/mlm-reranking/roberta-base-yelp-sentiment-classifier-with-gpt2-large-embeds/mlm-beamsearch-v0-word-nps5-k10-beam5-allsat_primary-negative-to-positive-grad_norm-gahrb4gt/results_epsilon0.75-test.txt.fluency\n",
      "22 :  outputs/sentiment/mlm-reranking/roberta-base-yelp-sentiment-classifier-with-gpt2-large-embeds-energy-training/mlm-beamsearch-v1-word-nps5-k10-beam3-weighted_sum-negative-to-positive-grad_norm-e30unz6h/results_epsilon0.75-test.txt.fluency\n",
      "23 :  outputs/sentiment/mlm-reranking/roberta-base-yelp-sentiment-classifier-with-gpt2-large-embeds/mlm-beamsearch-v1-word-nps5-k10-beam3-weighted_sum-negative-to-positive-grad_norm-3hra2btv/results_epsilon0.75-test.txt.fluency\n",
      "24 :  outputs/sentiment/mlm-reranking/roberta-base-yelp-sentiment-classifier-with-gpt2-large-embeds-energy-training/mlm-beamsearch-v1-word-nps5-k10-beam3-allsat_primary-negative-to-positive-grad_norm-fxe95fbr/results_epsilon0.75-test.txt.fluency\n",
      "25 :  outputs/sentiment/mlm-reranking/roberta-base-yelp-sentiment-classifier-with-gpt2-large-embeds/mlm-beamsearch-v1-word-nps5-k10-beam3-allsat_primary-negative-to-positive-grad_norm-utoptt6f/results_epsilon0.75-test.txt.fluency\n",
      "26 :  outputs/sentiment/mlm-reranking/roberta-base-yelp-sentiment-classifier-with-gpt2-large-embeds-energy-training/mlm-beamsearch-v2-word-nps5-k15-beam5-weighted_sum-negative-to-positive-grad_norm-ecoyl88a/results_epsilon0.75-test.txt.fluency\n",
      "27 :  outputs/sentiment/mlm-reranking/roberta-base-yelp-sentiment-classifier-with-gpt2-large-embeds/mlm-beamsearch-v2-word-nps5-k15-beam5-weighted_sum-negative-to-positive-grad_norm-fsputbpc/results_epsilon0.75-test.txt.fluency\n",
      "28 :  outputs/sentiment/mlm-reranking/roberta-base-yelp-sentiment-classifier-with-gpt2-large-embeds-energy-training/mlm-beamsearch-v2-word-nps5-k15-beam5-allsat_primary-negative-to-positive-grad_norm-73xgem0e/results_epsilon0.75-test.txt.fluency\n",
      "29 :  outputs/sentiment/mlm-reranking/roberta-base-yelp-sentiment-classifier-with-gpt2-large-embeds/mlm-beamsearch-v2-word-nps5-k15-beam5-allsat_primary-negative-to-positive-grad_norm-3vt75up1/results_epsilon0.75-test.txt.fluency\n"
     ]
    }
   ],
   "source": [
    "## fluency\n",
    "metric='fluency'\n",
    "fluency_metrics=[]\n",
    "for i, run_id in enumerate(run_ids):\n",
    "\n",
    "    result_file=glob(f\"outputs/sentiment/**/**/*{run_id}*/results_epsilon*-test.txt.{metric}\")\n",
    "    if len(result_file) == 0:\n",
    "        result_file=glob(f\"outputs/sentiment/**/*{run_id}*/results_epsilon*-test.txt.{metric}\")\n",
    "    print(i, ': ', result_file[0])\n",
    "    result=pd.read_csv(result_file[0],header=None)\n",
    "    \n",
    "    result=result.loc[edited_ixs[i]]\n",
    "    metric_value=result.loc[result[0]=='LABEL_1'].shape[0]/result.shape[0]\n",
    "    fluency_metrics.append(metric_value)"
   ]
  },
  {
   "cell_type": "code",
   "execution_count": 99,
   "id": "1c32f242-725b-439c-9d8d-7c46c945acec",
   "metadata": {
    "scrolled": true
   },
   "outputs": [
    {
     "name": "stdout",
     "output_type": "stream",
     "text": [
      "0 :  outputs/sentiment/roberta-base-yelp-sentiment-classifier-with-gpt2-large-embeds-energy-training/gbi-word-netps-1-nls-1-os200-es40-allsat-negative-to-positive-attention-ugr3ts53/results_epsilon-1.09861228867-test.txt.repetitions\n",
      "1 :  outputs/sentiment/roberta-base-yelp-sentiment-classifier-with-gpt2-large-embeds/gbi-word-netps-1-nls-1-os200-es40-allsat-negative-to-positive-attention-7khk65lu/results_epsilon-1.09861228867-test.txt.repetitions\n",
      "2 :  outputs/sentiment/roberta-base-yelp-sentiment-classifier-with-gpt2-large-embeds-energy-training/gbi-word-netps3-nls1-os20-es4-allsat-negative-to-positive-attention-0ax3fe5q/results_epsilon-1.09861228867-test.txt.repetitions\n",
      "3 :  outputs/sentiment/roberta-base-yelp-sentiment-classifier-with-gpt2-large-embeds/gbi-word-netps3-nls1-os20-es4-allsat-negative-to-positive-attention-745dg32u/results_epsilon-1.09861228867-test.txt.repetitions\n",
      "4 :  outputs/sentiment/mlm-reranking/roberta-base-yelp-sentiment-classifier-with-gpt2-large-embeds-energy-training/mlm-reranking-token-nps4-k3-beam5-allsat_primary-9ujeyli7-positive/results_epsilon0.75-test.txt.repetitions\n",
      "5 :  outputs/sentiment/mlm-reranking/roberta-base-yelp-sentiment-classifier-with-gpt2-large-embeds/mlm-reranking-token-nps4-k3-beam5-allsat_primary-hlnz0mx2-positive/results_epsilon0.75-test.txt.repetitions\n",
      "6 :  outputs/sentiment/mlm-reranking/roberta-base-yelp-sentiment-classifier-with-gpt2-large-embeds-energy-training/mlm-beamsearch-v0-word-nps5-k10-beam5-allsat_primary-4tml0ox0-positive/results_epsilon0.75-test.txt.repetitions\n",
      "7 :  outputs/sentiment/mlm-reranking/roberta-base-yelp-sentiment-classifier-with-gpt2-large-embeds/mlm-beamsearch-v0-word-nps5-k10-beam5-allsat_primary-k7iftmov-positive/results_epsilon0.75-test.txt.repetitions\n",
      "8 :  outputs/sentiment/mlm-reranking/roberta-base-yelp-sentiment-classifier-with-gpt2-large-embeds-energy-training/mlm-beamsearch-v1-word-nps5-k10-beam3-weighted_sum-z6iu47d2-positive/results_epsilon0.75-test.txt.repetitions\n",
      "9 :  outputs/sentiment/mlm-reranking/roberta-base-yelp-sentiment-classifier-with-gpt2-large-embeds/mlm-beamsearch-v1-word-nps5-k10-beam3-weighted_sum-ljuam185-positive/results_epsilon0.75-test.txt.repetitions\n",
      "10 :  outputs/sentiment/mlm-reranking/roberta-base-yelp-sentiment-classifier-with-gpt2-large-embeds-energy-training/mlm-beamsearch-v1-word-nps5-k10-beam3-allsat_primary-a2bn8dk5-positive/results_epsilon0.75-test.txt.repetitions\n",
      "11 :  outputs/sentiment/mlm-reranking/roberta-base-yelp-sentiment-classifier-with-gpt2-large-embeds/mlm-beamsearch-v1-word-nps5-k10-beam3-allsat_primary-s13j6sqs-positive/results_epsilon0.75-test.txt.repetitions\n",
      "12 :  outputs/sentiment/mlm-reranking/roberta-base-yelp-sentiment-classifier-with-gpt2-large-embeds-energy-training/mlm-beamsearch-v2-word-nps5-k15-beam5-weighted_sum-0xteb62f-positive/results_epsilon0.75-test.txt.repetitions\n",
      "13 :  outputs/sentiment/mlm-reranking/roberta-base-yelp-sentiment-classifier-with-gpt2-large-embeds/mlm-beamsearch-v2-word-nps5-k15-beam5-weighted_sum-qy6h3xm3-positive/results_epsilon0.75-test.txt.repetitions\n",
      "14 :  outputs/sentiment/mlm-reranking/roberta-base-yelp-sentiment-classifier-with-gpt2-large-embeds-energy-training/mlm-beamsearch-v2-word-nps5-k15-beam5-allsat_primary-51eicj7v-positive/results_epsilon0.75-test.txt.repetitions\n",
      "15 :  outputs/sentiment/mlm-reranking/roberta-base-yelp-sentiment-classifier-with-gpt2-large-embeds/mlm-beamsearch-v2-word-nps5-k15-beam5-allsat_primary-0stmb3i8-positive/results_epsilon0.75-test.txt.repetitions\n",
      "16 :  outputs/sentiment/roberta-base-yelp-sentiment-classifier-with-gpt2-large-embeds-energy-training/gbi-word-netps3-nls1-os20-es4-allsat-negative-to-positive-grad_norm-m4u9glnx/results_epsilon-1.09861228867-test.txt.repetitions\n",
      "17 :  outputs/sentiment/roberta-base-yelp-sentiment-classifier-with-gpt2-large-embeds/gbi-word-netps3-nls1-os20-es4-allsat-negative-to-positive-grad_norm-bpfmw7l8/results_epsilon-1.09861228867-test.txt.repetitions\n",
      "18 :  outputs/sentiment/mlm-reranking/roberta-base-yelp-sentiment-classifier-with-gpt2-large-embeds-energy-training/mlm-reranking-token-nps4-k3-beam5-allsat_primary-negative-to-positive-grad_norm-pygsotv9/results_epsilon0.75-test.txt.repetitions\n",
      "19 :  outputs/sentiment/mlm-reranking/roberta-base-yelp-sentiment-classifier-with-gpt2-large-embeds/mlm-reranking-token-nps4-k3-beam5-allsat_primary-negative-to-positive-grad_norm-4kzzg2vx/results_epsilon0.75-test.txt.repetitions\n",
      "20 :  outputs/sentiment/mlm-reranking/roberta-base-yelp-sentiment-classifier-with-gpt2-large-embeds-energy-training/mlm-beamsearch-v0-word-nps5-k10-beam5-allsat_primary-negative-to-positive-grad_norm-omhz1rr1/results_epsilon0.75-test.txt.repetitions\n",
      "21 :  outputs/sentiment/mlm-reranking/roberta-base-yelp-sentiment-classifier-with-gpt2-large-embeds/mlm-beamsearch-v0-word-nps5-k10-beam5-allsat_primary-negative-to-positive-grad_norm-gahrb4gt/results_epsilon0.75-test.txt.repetitions\n",
      "22 :  outputs/sentiment/mlm-reranking/roberta-base-yelp-sentiment-classifier-with-gpt2-large-embeds-energy-training/mlm-beamsearch-v1-word-nps5-k10-beam3-weighted_sum-negative-to-positive-grad_norm-e30unz6h/results_epsilon0.75-test.txt.repetitions\n",
      "23 :  outputs/sentiment/mlm-reranking/roberta-base-yelp-sentiment-classifier-with-gpt2-large-embeds/mlm-beamsearch-v1-word-nps5-k10-beam3-weighted_sum-negative-to-positive-grad_norm-3hra2btv/results_epsilon0.75-test.txt.repetitions\n",
      "24 :  outputs/sentiment/mlm-reranking/roberta-base-yelp-sentiment-classifier-with-gpt2-large-embeds-energy-training/mlm-beamsearch-v1-word-nps5-k10-beam3-allsat_primary-negative-to-positive-grad_norm-fxe95fbr/results_epsilon0.75-test.txt.repetitions\n",
      "25 :  outputs/sentiment/mlm-reranking/roberta-base-yelp-sentiment-classifier-with-gpt2-large-embeds/mlm-beamsearch-v1-word-nps5-k10-beam3-allsat_primary-negative-to-positive-grad_norm-utoptt6f/results_epsilon0.75-test.txt.repetitions\n",
      "26 :  outputs/sentiment/mlm-reranking/roberta-base-yelp-sentiment-classifier-with-gpt2-large-embeds-energy-training/mlm-beamsearch-v2-word-nps5-k15-beam5-weighted_sum-negative-to-positive-grad_norm-ecoyl88a/results_epsilon0.75-test.txt.repetitions\n",
      "27 :  outputs/sentiment/mlm-reranking/roberta-base-yelp-sentiment-classifier-with-gpt2-large-embeds/mlm-beamsearch-v2-word-nps5-k15-beam5-weighted_sum-negative-to-positive-grad_norm-fsputbpc/results_epsilon0.75-test.txt.repetitions\n",
      "28 :  outputs/sentiment/mlm-reranking/roberta-base-yelp-sentiment-classifier-with-gpt2-large-embeds-energy-training/mlm-beamsearch-v2-word-nps5-k15-beam5-allsat_primary-negative-to-positive-grad_norm-73xgem0e/results_epsilon0.75-test.txt.repetitions\n",
      "29 :  outputs/sentiment/mlm-reranking/roberta-base-yelp-sentiment-classifier-with-gpt2-large-embeds/mlm-beamsearch-v2-word-nps5-k15-beam5-allsat_primary-negative-to-positive-grad_norm-3vt75up1/results_epsilon0.75-test.txt.repetitions\n"
     ]
    }
   ],
   "source": [
    "## repetitions\n",
    "metric='repetitions'\n",
    "repetitions_metrics=[]\n",
    "for i, run_id in enumerate(run_ids):\n",
    "\n",
    "    result_file=glob(f\"outputs/sentiment/**/**/*{run_id}*/results_epsilon*-test.txt.{metric}\")\n",
    "    if len(result_file) == 0:\n",
    "        result_file=glob(f\"outputs/sentiment/**/*{run_id}*/results_epsilon*-test.txt.{metric}\")\n",
    "    print(i, ': ', result_file[0])\n",
    "    result=pd.read_json(result_file[0],lines=True)\n",
    "    \n",
    "    result=result.loc[edited_ixs[i]]\n",
    "    if result.empty:\n",
    "        metric_value = 0\n",
    "    else:\n",
    "        # print('!')\n",
    "        metric_value = result.loc[~result['repeated_phrase'].isna(),:].shape[0]/result.shape[0]\n",
    "    repetitions_metrics.append(metric_value)"
   ]
  },
  {
   "cell_type": "code",
   "execution_count": 100,
   "id": "fb041cd9-3baf-4445-96c7-a1d85b761306",
   "metadata": {
    "scrolled": true
   },
   "outputs": [
    {
     "name": "stdout",
     "output_type": "stream",
     "text": [
      "0 :  outputs/sentiment/roberta-base-yelp-sentiment-classifier-with-gpt2-large-embeds-energy-training/gbi-word-netps-1-nls-1-os200-es40-allsat-negative-to-positive-attention-ugr3ts53/results_epsilon-1.09861228867-test.txt.sentiment_ext\n",
      "(134, 2)\n",
      "1 :  outputs/sentiment/roberta-base-yelp-sentiment-classifier-with-gpt2-large-embeds/gbi-word-netps-1-nls-1-os200-es40-allsat-negative-to-positive-attention-7khk65lu/results_epsilon-1.09861228867-test.txt.sentiment_ext\n",
      "(154, 2)\n",
      "2 :  outputs/sentiment/roberta-base-yelp-sentiment-classifier-with-gpt2-large-embeds-energy-training/gbi-word-netps3-nls1-os20-es4-allsat-negative-to-positive-attention-0ax3fe5q/results_epsilon-1.09861228867-test.txt.sentiment_ext\n",
      "(134, 2)\n",
      "3 :  outputs/sentiment/roberta-base-yelp-sentiment-classifier-with-gpt2-large-embeds/gbi-word-netps3-nls1-os20-es4-allsat-negative-to-positive-attention-745dg32u/results_epsilon-1.09861228867-test.txt.sentiment_ext\n",
      "(154, 2)\n",
      "4 :  outputs/sentiment/mlm-reranking/roberta-base-yelp-sentiment-classifier-with-gpt2-large-embeds-energy-training/mlm-reranking-token-nps4-k3-beam5-allsat_primary-9ujeyli7-positive/results_epsilon0.75-test.txt.sentiment_ext\n",
      "(134, 2)\n",
      "5 :  outputs/sentiment/mlm-reranking/roberta-base-yelp-sentiment-classifier-with-gpt2-large-embeds/mlm-reranking-token-nps4-k3-beam5-allsat_primary-hlnz0mx2-positive/results_epsilon0.75-test.txt.sentiment_ext\n",
      "(154, 2)\n",
      "6 :  outputs/sentiment/mlm-reranking/roberta-base-yelp-sentiment-classifier-with-gpt2-large-embeds-energy-training/mlm-beamsearch-v0-word-nps5-k10-beam5-allsat_primary-4tml0ox0-positive/results_epsilon0.75-test.txt.sentiment_ext\n",
      "(134, 2)\n",
      "7 :  outputs/sentiment/mlm-reranking/roberta-base-yelp-sentiment-classifier-with-gpt2-large-embeds/mlm-beamsearch-v0-word-nps5-k10-beam5-allsat_primary-k7iftmov-positive/results_epsilon0.75-test.txt.sentiment_ext\n",
      "(154, 2)\n",
      "8 :  outputs/sentiment/mlm-reranking/roberta-base-yelp-sentiment-classifier-with-gpt2-large-embeds-energy-training/mlm-beamsearch-v1-word-nps5-k10-beam3-weighted_sum-z6iu47d2-positive/results_epsilon0.75-test.txt.sentiment_ext\n",
      "(134, 2)\n",
      "9 :  outputs/sentiment/mlm-reranking/roberta-base-yelp-sentiment-classifier-with-gpt2-large-embeds/mlm-beamsearch-v1-word-nps5-k10-beam3-weighted_sum-ljuam185-positive/results_epsilon0.75-test.txt.sentiment_ext\n",
      "(154, 2)\n",
      "10 :  outputs/sentiment/mlm-reranking/roberta-base-yelp-sentiment-classifier-with-gpt2-large-embeds-energy-training/mlm-beamsearch-v1-word-nps5-k10-beam3-allsat_primary-a2bn8dk5-positive/results_epsilon0.75-test.txt.sentiment_ext\n",
      "(134, 2)\n",
      "11 :  outputs/sentiment/mlm-reranking/roberta-base-yelp-sentiment-classifier-with-gpt2-large-embeds/mlm-beamsearch-v1-word-nps5-k10-beam3-allsat_primary-s13j6sqs-positive/results_epsilon0.75-test.txt.sentiment_ext\n",
      "(154, 2)\n",
      "12 :  outputs/sentiment/mlm-reranking/roberta-base-yelp-sentiment-classifier-with-gpt2-large-embeds-energy-training/mlm-beamsearch-v2-word-nps5-k15-beam5-weighted_sum-0xteb62f-positive/results_epsilon0.75-test.txt.sentiment_ext\n",
      "(134, 2)\n",
      "13 :  outputs/sentiment/mlm-reranking/roberta-base-yelp-sentiment-classifier-with-gpt2-large-embeds/mlm-beamsearch-v2-word-nps5-k15-beam5-weighted_sum-qy6h3xm3-positive/results_epsilon0.75-test.txt.sentiment_ext\n",
      "(154, 2)\n",
      "14 :  outputs/sentiment/mlm-reranking/roberta-base-yelp-sentiment-classifier-with-gpt2-large-embeds-energy-training/mlm-beamsearch-v2-word-nps5-k15-beam5-allsat_primary-51eicj7v-positive/results_epsilon0.75-test.txt.sentiment_ext\n",
      "(134, 2)\n",
      "15 :  outputs/sentiment/mlm-reranking/roberta-base-yelp-sentiment-classifier-with-gpt2-large-embeds/mlm-beamsearch-v2-word-nps5-k15-beam5-allsat_primary-0stmb3i8-positive/results_epsilon0.75-test.txt.sentiment_ext\n",
      "(154, 2)\n",
      "16 :  outputs/sentiment/roberta-base-yelp-sentiment-classifier-with-gpt2-large-embeds-energy-training/gbi-word-netps3-nls1-os20-es4-allsat-negative-to-positive-grad_norm-m4u9glnx/results_epsilon-1.09861228867-test.txt.sentiment_ext\n",
      "(134, 2)\n",
      "17 :  outputs/sentiment/roberta-base-yelp-sentiment-classifier-with-gpt2-large-embeds/gbi-word-netps3-nls1-os20-es4-allsat-negative-to-positive-grad_norm-bpfmw7l8/results_epsilon-1.09861228867-test.txt.sentiment_ext\n",
      "(154, 2)\n",
      "18 :  outputs/sentiment/mlm-reranking/roberta-base-yelp-sentiment-classifier-with-gpt2-large-embeds-energy-training/mlm-reranking-token-nps4-k3-beam5-allsat_primary-negative-to-positive-grad_norm-pygsotv9/results_epsilon0.75-test.txt.sentiment_ext\n",
      "(134, 2)\n",
      "19 :  outputs/sentiment/mlm-reranking/roberta-base-yelp-sentiment-classifier-with-gpt2-large-embeds/mlm-reranking-token-nps4-k3-beam5-allsat_primary-negative-to-positive-grad_norm-4kzzg2vx/results_epsilon0.75-test.txt.sentiment_ext\n",
      "(154, 2)\n",
      "20 :  outputs/sentiment/mlm-reranking/roberta-base-yelp-sentiment-classifier-with-gpt2-large-embeds-energy-training/mlm-beamsearch-v0-word-nps5-k10-beam5-allsat_primary-negative-to-positive-grad_norm-omhz1rr1/results_epsilon0.75-test.txt.sentiment_ext\n",
      "(134, 2)\n",
      "21 :  outputs/sentiment/mlm-reranking/roberta-base-yelp-sentiment-classifier-with-gpt2-large-embeds/mlm-beamsearch-v0-word-nps5-k10-beam5-allsat_primary-negative-to-positive-grad_norm-gahrb4gt/results_epsilon0.75-test.txt.sentiment_ext\n",
      "(154, 2)\n",
      "22 :  outputs/sentiment/mlm-reranking/roberta-base-yelp-sentiment-classifier-with-gpt2-large-embeds-energy-training/mlm-beamsearch-v1-word-nps5-k10-beam3-weighted_sum-negative-to-positive-grad_norm-e30unz6h/results_epsilon0.75-test.txt.sentiment_ext\n",
      "(134, 2)\n",
      "23 :  outputs/sentiment/mlm-reranking/roberta-base-yelp-sentiment-classifier-with-gpt2-large-embeds/mlm-beamsearch-v1-word-nps5-k10-beam3-weighted_sum-negative-to-positive-grad_norm-3hra2btv/results_epsilon0.75-test.txt.sentiment_ext\n",
      "(154, 2)\n",
      "24 :  outputs/sentiment/mlm-reranking/roberta-base-yelp-sentiment-classifier-with-gpt2-large-embeds-energy-training/mlm-beamsearch-v1-word-nps5-k10-beam3-allsat_primary-negative-to-positive-grad_norm-fxe95fbr/results_epsilon0.75-test.txt.sentiment_ext\n",
      "(134, 2)\n",
      "25 :  outputs/sentiment/mlm-reranking/roberta-base-yelp-sentiment-classifier-with-gpt2-large-embeds/mlm-beamsearch-v1-word-nps5-k10-beam3-allsat_primary-negative-to-positive-grad_norm-utoptt6f/results_epsilon0.75-test.txt.sentiment_ext\n",
      "(154, 2)\n",
      "26 :  outputs/sentiment/mlm-reranking/roberta-base-yelp-sentiment-classifier-with-gpt2-large-embeds-energy-training/mlm-beamsearch-v2-word-nps5-k15-beam5-weighted_sum-negative-to-positive-grad_norm-ecoyl88a/results_epsilon0.75-test.txt.sentiment_ext\n",
      "(134, 2)\n",
      "27 :  outputs/sentiment/mlm-reranking/roberta-base-yelp-sentiment-classifier-with-gpt2-large-embeds/mlm-beamsearch-v2-word-nps5-k15-beam5-weighted_sum-negative-to-positive-grad_norm-fsputbpc/results_epsilon0.75-test.txt.sentiment_ext\n",
      "(154, 2)\n",
      "28 :  outputs/sentiment/mlm-reranking/roberta-base-yelp-sentiment-classifier-with-gpt2-large-embeds-energy-training/mlm-beamsearch-v2-word-nps5-k15-beam5-allsat_primary-negative-to-positive-grad_norm-73xgem0e/results_epsilon0.75-test.txt.sentiment_ext\n",
      "(134, 2)\n",
      "29 :  outputs/sentiment/mlm-reranking/roberta-base-yelp-sentiment-classifier-with-gpt2-large-embeds/mlm-beamsearch-v2-word-nps5-k15-beam5-allsat_primary-negative-to-positive-grad_norm-3vt75up1/results_epsilon0.75-test.txt.sentiment_ext\n",
      "(154, 2)\n"
     ]
    }
   ],
   "source": [
    "## sentiment_ext\n",
    "metric='sentiment_ext'\n",
    "positive_proba_metrics_ext=[]\n",
    "for i, run_id in enumerate(run_ids):\n",
    "\n",
    "    result_file=glob(f\"outputs/sentiment/**/**/*{run_id}*/results_epsilon*-test.txt.{metric}\")\n",
    "    if len(result_file) == 0:\n",
    "        result_file=glob(f\"outputs/sentiment/**/*{run_id}*/results_epsilon*-test.txt.{metric}\")\n",
    "\n",
    "    print(i, ': ', result_file[0])\n",
    "    result=pd.read_json(result_file[0],lines=True)\n",
    "    result=result.loc[edited_ixs[i]]\n",
    "    print(result.shape)\n",
    "    metric_value=result.loc[result['label']=='POSITIVE'].shape[0]/result.shape[0]\n",
    "    positive_proba_metrics_ext.append(metric_value)\n",
    "    "
   ]
  },
  {
   "cell_type": "code",
   "execution_count": 101,
   "id": "92bf30c3-16a5-470b-a2e4-c05ef7422b7d",
   "metadata": {
    "scrolled": true
   },
   "outputs": [
    {
     "name": "stdout",
     "output_type": "stream",
     "text": [
      "0 :  outputs/sentiment/roberta-base-yelp-sentiment-classifier-with-gpt2-large-embeds-energy-training/gbi-word-netps-1-nls-1-os200-es40-allsat-negative-to-positive-attention-ugr3ts53/results_epsilon-1.09861228867-test.txt.sentiment_int\n",
      "1 :  outputs/sentiment/roberta-base-yelp-sentiment-classifier-with-gpt2-large-embeds/gbi-word-netps-1-nls-1-os200-es40-allsat-negative-to-positive-attention-7khk65lu/results_epsilon-1.09861228867-test.txt.sentiment_int\n",
      "2 :  outputs/sentiment/roberta-base-yelp-sentiment-classifier-with-gpt2-large-embeds-energy-training/gbi-word-netps3-nls1-os20-es4-allsat-negative-to-positive-attention-0ax3fe5q/results_epsilon-1.09861228867-test.txt.sentiment_int\n",
      "3 :  outputs/sentiment/roberta-base-yelp-sentiment-classifier-with-gpt2-large-embeds/gbi-word-netps3-nls1-os20-es4-allsat-negative-to-positive-attention-745dg32u/results_epsilon-1.09861228867-test.txt.sentiment_int\n",
      "4 :  outputs/sentiment/mlm-reranking/roberta-base-yelp-sentiment-classifier-with-gpt2-large-embeds-energy-training/mlm-reranking-token-nps4-k3-beam5-allsat_primary-9ujeyli7-positive/results_epsilon0.75-test.txt.sentiment_int\n",
      "5 :  outputs/sentiment/mlm-reranking/roberta-base-yelp-sentiment-classifier-with-gpt2-large-embeds/mlm-reranking-token-nps4-k3-beam5-allsat_primary-hlnz0mx2-positive/results_epsilon0.75-test.txt.sentiment_int\n",
      "6 :  outputs/sentiment/mlm-reranking/roberta-base-yelp-sentiment-classifier-with-gpt2-large-embeds-energy-training/mlm-beamsearch-v0-word-nps5-k10-beam5-allsat_primary-4tml0ox0-positive/results_epsilon0.75-test.txt.sentiment_int\n",
      "7 :  outputs/sentiment/mlm-reranking/roberta-base-yelp-sentiment-classifier-with-gpt2-large-embeds/mlm-beamsearch-v0-word-nps5-k10-beam5-allsat_primary-k7iftmov-positive/results_epsilon0.75-test.txt.sentiment_int\n",
      "8 :  outputs/sentiment/mlm-reranking/roberta-base-yelp-sentiment-classifier-with-gpt2-large-embeds-energy-training/mlm-beamsearch-v1-word-nps5-k10-beam3-weighted_sum-z6iu47d2-positive/results_epsilon0.75-test.txt.sentiment_int\n",
      "9 :  outputs/sentiment/mlm-reranking/roberta-base-yelp-sentiment-classifier-with-gpt2-large-embeds/mlm-beamsearch-v1-word-nps5-k10-beam3-weighted_sum-ljuam185-positive/results_epsilon0.75-test.txt.sentiment_int\n",
      "10 :  outputs/sentiment/mlm-reranking/roberta-base-yelp-sentiment-classifier-with-gpt2-large-embeds-energy-training/mlm-beamsearch-v1-word-nps5-k10-beam3-allsat_primary-a2bn8dk5-positive/results_epsilon0.75-test.txt.sentiment_int\n",
      "11 :  outputs/sentiment/mlm-reranking/roberta-base-yelp-sentiment-classifier-with-gpt2-large-embeds/mlm-beamsearch-v1-word-nps5-k10-beam3-allsat_primary-s13j6sqs-positive/results_epsilon0.75-test.txt.sentiment_int\n",
      "12 :  outputs/sentiment/mlm-reranking/roberta-base-yelp-sentiment-classifier-with-gpt2-large-embeds-energy-training/mlm-beamsearch-v2-word-nps5-k15-beam5-weighted_sum-0xteb62f-positive/results_epsilon0.75-test.txt.sentiment_int\n",
      "13 :  outputs/sentiment/mlm-reranking/roberta-base-yelp-sentiment-classifier-with-gpt2-large-embeds/mlm-beamsearch-v2-word-nps5-k15-beam5-weighted_sum-qy6h3xm3-positive/results_epsilon0.75-test.txt.sentiment_int\n",
      "14 :  outputs/sentiment/mlm-reranking/roberta-base-yelp-sentiment-classifier-with-gpt2-large-embeds-energy-training/mlm-beamsearch-v2-word-nps5-k15-beam5-allsat_primary-51eicj7v-positive/results_epsilon0.75-test.txt.sentiment_int\n",
      "15 :  outputs/sentiment/mlm-reranking/roberta-base-yelp-sentiment-classifier-with-gpt2-large-embeds/mlm-beamsearch-v2-word-nps5-k15-beam5-allsat_primary-0stmb3i8-positive/results_epsilon0.75-test.txt.sentiment_int\n",
      "16 :  outputs/sentiment/roberta-base-yelp-sentiment-classifier-with-gpt2-large-embeds-energy-training/gbi-word-netps3-nls1-os20-es4-allsat-negative-to-positive-grad_norm-m4u9glnx/results_epsilon-1.09861228867-test.txt.sentiment_int\n",
      "17 :  outputs/sentiment/roberta-base-yelp-sentiment-classifier-with-gpt2-large-embeds/gbi-word-netps3-nls1-os20-es4-allsat-negative-to-positive-grad_norm-bpfmw7l8/results_epsilon-1.09861228867-test.txt.sentiment_int\n",
      "18 :  outputs/sentiment/mlm-reranking/roberta-base-yelp-sentiment-classifier-with-gpt2-large-embeds-energy-training/mlm-reranking-token-nps4-k3-beam5-allsat_primary-negative-to-positive-grad_norm-pygsotv9/results_epsilon0.75-test.txt.sentiment_int\n",
      "19 :  outputs/sentiment/mlm-reranking/roberta-base-yelp-sentiment-classifier-with-gpt2-large-embeds/mlm-reranking-token-nps4-k3-beam5-allsat_primary-negative-to-positive-grad_norm-4kzzg2vx/results_epsilon0.75-test.txt.sentiment_int\n",
      "20 :  outputs/sentiment/mlm-reranking/roberta-base-yelp-sentiment-classifier-with-gpt2-large-embeds-energy-training/mlm-beamsearch-v0-word-nps5-k10-beam5-allsat_primary-negative-to-positive-grad_norm-omhz1rr1/results_epsilon0.75-test.txt.sentiment_int\n",
      "21 :  outputs/sentiment/mlm-reranking/roberta-base-yelp-sentiment-classifier-with-gpt2-large-embeds/mlm-beamsearch-v0-word-nps5-k10-beam5-allsat_primary-negative-to-positive-grad_norm-gahrb4gt/results_epsilon0.75-test.txt.sentiment_int\n",
      "22 :  outputs/sentiment/mlm-reranking/roberta-base-yelp-sentiment-classifier-with-gpt2-large-embeds-energy-training/mlm-beamsearch-v1-word-nps5-k10-beam3-weighted_sum-negative-to-positive-grad_norm-e30unz6h/results_epsilon0.75-test.txt.sentiment_int\n",
      "23 :  outputs/sentiment/mlm-reranking/roberta-base-yelp-sentiment-classifier-with-gpt2-large-embeds/mlm-beamsearch-v1-word-nps5-k10-beam3-weighted_sum-negative-to-positive-grad_norm-3hra2btv/results_epsilon0.75-test.txt.sentiment_int\n",
      "24 :  outputs/sentiment/mlm-reranking/roberta-base-yelp-sentiment-classifier-with-gpt2-large-embeds-energy-training/mlm-beamsearch-v1-word-nps5-k10-beam3-allsat_primary-negative-to-positive-grad_norm-fxe95fbr/results_epsilon0.75-test.txt.sentiment_int\n",
      "25 :  outputs/sentiment/mlm-reranking/roberta-base-yelp-sentiment-classifier-with-gpt2-large-embeds/mlm-beamsearch-v1-word-nps5-k10-beam3-allsat_primary-negative-to-positive-grad_norm-utoptt6f/results_epsilon0.75-test.txt.sentiment_int\n",
      "26 :  outputs/sentiment/mlm-reranking/roberta-base-yelp-sentiment-classifier-with-gpt2-large-embeds-energy-training/mlm-beamsearch-v2-word-nps5-k15-beam5-weighted_sum-negative-to-positive-grad_norm-ecoyl88a/results_epsilon0.75-test.txt.sentiment_int\n",
      "27 :  outputs/sentiment/mlm-reranking/roberta-base-yelp-sentiment-classifier-with-gpt2-large-embeds/mlm-beamsearch-v2-word-nps5-k15-beam5-weighted_sum-negative-to-positive-grad_norm-fsputbpc/results_epsilon0.75-test.txt.sentiment_int\n",
      "28 :  outputs/sentiment/mlm-reranking/roberta-base-yelp-sentiment-classifier-with-gpt2-large-embeds-energy-training/mlm-beamsearch-v2-word-nps5-k15-beam5-allsat_primary-negative-to-positive-grad_norm-73xgem0e/results_epsilon0.75-test.txt.sentiment_int\n",
      "29 :  outputs/sentiment/mlm-reranking/roberta-base-yelp-sentiment-classifier-with-gpt2-large-embeds/mlm-beamsearch-v2-word-nps5-k15-beam5-allsat_primary-negative-to-positive-grad_norm-3vt75up1/results_epsilon0.75-test.txt.sentiment_int\n"
     ]
    }
   ],
   "source": [
    "## sentiment_int\n",
    "metric='sentiment_int'\n",
    "positive_proba_metrics_int=[]\n",
    "for i, run_id in enumerate(run_ids):\n",
    "\n",
    "    result_file=glob(f\"outputs/sentiment/**/**/*{run_id}*/results_epsilon*-test.txt.{metric}\")\n",
    "    if len(result_file) == 0:\n",
    "        result_file=glob(f\"outputs/sentiment/**/*{run_id}*/results_epsilon*-test.txt.{metric}\")\n",
    "    print(i, ': ', result_file[0])\n",
    "    result=pd.read_json(result_file[0],lines=True)\n",
    "    result=result.loc[edited_ixs[i]]\n",
    "    metric_value=result.loc[result['label']=='LABEL_1'].shape[0]/result.shape[0]\n",
    "    positive_proba_metrics_int.append(metric_value)\n",
    "    "
   ]
  },
  {
   "cell_type": "code",
   "execution_count": 102,
   "id": "10c41319-6155-4f1a-bb62-e1bcdffcbd64",
   "metadata": {},
   "outputs": [],
   "source": [
    "def ravel(unraveled_df):\n",
    "\n",
    "    unraveled_df['generations']= unraveled_df.apply(lambda x: [{'text': x['text'],\n",
    "                                                               'tokens': x['tokens']}],axis=1)\n",
    "    return unraveled_df.groupby('prompt')['generations'].sum([]).reset_index()"
   ]
  },
  {
   "cell_type": "code",
   "execution_count": 103,
   "id": "f6daf816-f0ef-4fb9-a6d5-470896263d86",
   "metadata": {
    "scrolled": true
   },
   "outputs": [
    {
     "name": "stdout",
     "output_type": "stream",
     "text": [
      "(134, 3)\n",
      "(15, 2)\n"
     ]
    },
    {
     "name": "stderr",
     "output_type": "stream",
     "text": [
      "Evaluating dist-n: 100%|██████████| 15/15 [00:00<00:00, 5880.41it/s]\n"
     ]
    },
    {
     "name": "stdout",
     "output_type": "stream",
     "text": [
      "(154, 3)\n",
      "(15, 2)\n"
     ]
    },
    {
     "name": "stderr",
     "output_type": "stream",
     "text": [
      "Evaluating dist-n: 100%|██████████| 15/15 [00:00<00:00, 5217.23it/s]\n"
     ]
    },
    {
     "name": "stdout",
     "output_type": "stream",
     "text": [
      "(134, 3)\n",
      "(15, 2)\n"
     ]
    },
    {
     "name": "stderr",
     "output_type": "stream",
     "text": [
      "Evaluating dist-n: 100%|██████████| 15/15 [00:00<00:00, 4842.56it/s]\n"
     ]
    },
    {
     "name": "stdout",
     "output_type": "stream",
     "text": [
      "(154, 3)\n",
      "(15, 2)\n"
     ]
    },
    {
     "name": "stderr",
     "output_type": "stream",
     "text": [
      "Evaluating dist-n: 100%|██████████| 15/15 [00:00<00:00, 4245.25it/s]\n"
     ]
    },
    {
     "name": "stdout",
     "output_type": "stream",
     "text": [
      "(134, 3)\n",
      "(15, 2)\n"
     ]
    },
    {
     "name": "stderr",
     "output_type": "stream",
     "text": [
      "Evaluating dist-n: 100%|██████████| 15/15 [00:00<00:00, 5659.82it/s]\n"
     ]
    },
    {
     "name": "stdout",
     "output_type": "stream",
     "text": [
      "(154, 3)\n",
      "(15, 2)\n"
     ]
    },
    {
     "name": "stderr",
     "output_type": "stream",
     "text": [
      "Evaluating dist-n: 100%|██████████| 15/15 [00:00<00:00, 4674.53it/s]\n"
     ]
    },
    {
     "name": "stdout",
     "output_type": "stream",
     "text": [
      "(134, 3)\n",
      "(15, 2)\n"
     ]
    },
    {
     "name": "stderr",
     "output_type": "stream",
     "text": [
      "Evaluating dist-n: 100%|██████████| 15/15 [00:00<00:00, 5124.59it/s]\n"
     ]
    },
    {
     "name": "stdout",
     "output_type": "stream",
     "text": [
      "(154, 3)\n",
      "(15, 2)\n"
     ]
    },
    {
     "name": "stderr",
     "output_type": "stream",
     "text": [
      "Evaluating dist-n: 100%|██████████| 15/15 [00:00<00:00, 4686.37it/s]\n"
     ]
    },
    {
     "name": "stdout",
     "output_type": "stream",
     "text": [
      "(134, 3)\n",
      "(15, 2)\n"
     ]
    },
    {
     "name": "stderr",
     "output_type": "stream",
     "text": [
      "Evaluating dist-n: 100%|██████████| 15/15 [00:00<00:00, 5530.95it/s]\n"
     ]
    },
    {
     "name": "stdout",
     "output_type": "stream",
     "text": [
      "(154, 3)\n",
      "(15, 2)\n"
     ]
    },
    {
     "name": "stderr",
     "output_type": "stream",
     "text": [
      "Evaluating dist-n: 100%|██████████| 15/15 [00:00<00:00, 4798.61it/s]\n"
     ]
    },
    {
     "name": "stdout",
     "output_type": "stream",
     "text": [
      "(134, 3)\n",
      "(15, 2)\n"
     ]
    },
    {
     "name": "stderr",
     "output_type": "stream",
     "text": [
      "Evaluating dist-n: 100%|██████████| 15/15 [00:00<00:00, 5288.72it/s]\n"
     ]
    },
    {
     "name": "stdout",
     "output_type": "stream",
     "text": [
      "(154, 3)\n",
      "(15, 2)\n"
     ]
    },
    {
     "name": "stderr",
     "output_type": "stream",
     "text": [
      "Evaluating dist-n: 100%|██████████| 15/15 [00:00<00:00, 4683.93it/s]\n"
     ]
    },
    {
     "name": "stdout",
     "output_type": "stream",
     "text": [
      "(134, 3)\n",
      "(15, 2)\n"
     ]
    },
    {
     "name": "stderr",
     "output_type": "stream",
     "text": [
      "Evaluating dist-n: 100%|██████████| 15/15 [00:00<00:00, 6012.48it/s]\n"
     ]
    },
    {
     "name": "stdout",
     "output_type": "stream",
     "text": [
      "(154, 3)\n",
      "(15, 2)\n"
     ]
    },
    {
     "name": "stderr",
     "output_type": "stream",
     "text": [
      "Evaluating dist-n: 100%|██████████| 15/15 [00:00<00:00, 4902.56it/s]\n"
     ]
    },
    {
     "name": "stdout",
     "output_type": "stream",
     "text": [
      "(134, 3)\n",
      "(15, 2)\n"
     ]
    },
    {
     "name": "stderr",
     "output_type": "stream",
     "text": [
      "Evaluating dist-n: 100%|██████████| 15/15 [00:00<00:00, 5471.78it/s]\n"
     ]
    },
    {
     "name": "stdout",
     "output_type": "stream",
     "text": [
      "(154, 3)\n",
      "(15, 2)\n"
     ]
    },
    {
     "name": "stderr",
     "output_type": "stream",
     "text": [
      "Evaluating dist-n: 100%|██████████| 15/15 [00:00<00:00, 5671.56it/s]\n"
     ]
    },
    {
     "name": "stdout",
     "output_type": "stream",
     "text": [
      "(134, 3)\n",
      "(15, 2)\n"
     ]
    },
    {
     "name": "stderr",
     "output_type": "stream",
     "text": [
      "Evaluating dist-n: 100%|██████████| 15/15 [00:00<00:00, 5123.34it/s]\n"
     ]
    },
    {
     "name": "stdout",
     "output_type": "stream",
     "text": [
      "(154, 3)\n",
      "(15, 2)\n"
     ]
    },
    {
     "name": "stderr",
     "output_type": "stream",
     "text": [
      "Evaluating dist-n: 100%|██████████| 15/15 [00:00<00:00, 4399.93it/s]\n"
     ]
    },
    {
     "name": "stdout",
     "output_type": "stream",
     "text": [
      "(134, 3)\n",
      "(15, 2)\n"
     ]
    },
    {
     "name": "stderr",
     "output_type": "stream",
     "text": [
      "Evaluating dist-n: 100%|██████████| 15/15 [00:00<00:00, 5554.39it/s]\n"
     ]
    },
    {
     "name": "stdout",
     "output_type": "stream",
     "text": [
      "(154, 3)\n",
      "(15, 2)\n"
     ]
    },
    {
     "name": "stderr",
     "output_type": "stream",
     "text": [
      "Evaluating dist-n: 100%|██████████| 15/15 [00:00<00:00, 5160.31it/s]\n"
     ]
    },
    {
     "name": "stdout",
     "output_type": "stream",
     "text": [
      "(134, 3)\n",
      "(15, 2)\n"
     ]
    },
    {
     "name": "stderr",
     "output_type": "stream",
     "text": [
      "Evaluating dist-n: 100%|██████████| 15/15 [00:00<00:00, 4965.63it/s]\n"
     ]
    },
    {
     "name": "stdout",
     "output_type": "stream",
     "text": [
      "(154, 3)\n",
      "(15, 2)\n"
     ]
    },
    {
     "name": "stderr",
     "output_type": "stream",
     "text": [
      "Evaluating dist-n: 100%|██████████| 15/15 [00:00<00:00, 4790.57it/s]\n"
     ]
    },
    {
     "name": "stdout",
     "output_type": "stream",
     "text": [
      "(134, 3)\n",
      "(15, 2)\n"
     ]
    },
    {
     "name": "stderr",
     "output_type": "stream",
     "text": [
      "Evaluating dist-n: 100%|██████████| 15/15 [00:00<00:00, 5427.88it/s]\n"
     ]
    },
    {
     "name": "stdout",
     "output_type": "stream",
     "text": [
      "(154, 3)\n",
      "(15, 2)\n"
     ]
    },
    {
     "name": "stderr",
     "output_type": "stream",
     "text": [
      "Evaluating dist-n: 100%|██████████| 15/15 [00:00<00:00, 4772.40it/s]\n"
     ]
    },
    {
     "name": "stdout",
     "output_type": "stream",
     "text": [
      "(134, 3)\n",
      "(15, 2)\n"
     ]
    },
    {
     "name": "stderr",
     "output_type": "stream",
     "text": [
      "Evaluating dist-n: 100%|██████████| 15/15 [00:00<00:00, 5148.91it/s]\n"
     ]
    },
    {
     "name": "stdout",
     "output_type": "stream",
     "text": [
      "(154, 3)\n",
      "(15, 2)\n"
     ]
    },
    {
     "name": "stderr",
     "output_type": "stream",
     "text": [
      "Evaluating dist-n: 100%|██████████| 15/15 [00:00<00:00, 4796.05it/s]\n"
     ]
    },
    {
     "name": "stdout",
     "output_type": "stream",
     "text": [
      "(134, 3)\n",
      "(15, 2)\n"
     ]
    },
    {
     "name": "stderr",
     "output_type": "stream",
     "text": [
      "Evaluating dist-n: 100%|██████████| 15/15 [00:00<00:00, 5689.51it/s]"
     ]
    },
    {
     "name": "stdout",
     "output_type": "stream",
     "text": [
      "(154, 3)\n",
      "(15, 2)\n"
     ]
    },
    {
     "name": "stderr",
     "output_type": "stream",
     "text": [
      "\n",
      "Evaluating dist-n: 100%|██████████| 15/15 [00:00<00:00, 5206.87it/s]\n"
     ]
    },
    {
     "name": "stdout",
     "output_type": "stream",
     "text": [
      "(134, 3)\n",
      "(15, 2)\n"
     ]
    },
    {
     "name": "stderr",
     "output_type": "stream",
     "text": [
      "Evaluating dist-n: 100%|██████████| 15/15 [00:00<00:00, 5729.40it/s]\n"
     ]
    },
    {
     "name": "stdout",
     "output_type": "stream",
     "text": [
      "(154, 3)\n",
      "(15, 2)\n"
     ]
    },
    {
     "name": "stderr",
     "output_type": "stream",
     "text": [
      "Evaluating dist-n: 100%|██████████| 15/15 [00:00<00:00, 5607.86it/s]\n"
     ]
    }
   ],
   "source": [
    "## dist-3\n",
    "\n",
    "dist3_metrics=[]\n",
    "for i, run_id in enumerate(run_ids):\n",
    "    \n",
    "    result = outputs_dfs[i]\n",
    "    result=result.loc[edited_ixs[i]]\n",
    "    print(result.shape)\n",
    "    result = ravel(result)\n",
    "    print(result.shape)\n",
    "    _,_,dist3=distinctness(result)\n",
    "    dist3_metrics.append(dist3)"
   ]
  },
  {
   "cell_type": "code",
   "execution_count": 16,
   "id": "12dc6759-5586-4d31-ac79-d45df2629522",
   "metadata": {},
   "outputs": [],
   "source": [
    "## putting all together\n",
    "pd.DataFrame({'run_ids':run_ids,\n",
    "              'positive_proba_int':positive_proba_metrics_int,\n",
    "              'positive_proba':positive_proba_metrics_ext,\n",
    "              'ppl':ppl_metrics,\n",
    "              'fluency_metrics':fluency_metrics,\n",
    "              'dist-3':dist3_metrics,\n",
    "              'rep_rate':repetitions_metrics}).to_csv('new_module/sentiment_ablation_dropped.csv',index=False)"
   ]
  },
  {
   "cell_type": "code",
   "execution_count": 104,
   "id": "83a1c5a2-386c-4755-ac8c-8e3970bb40e5",
   "metadata": {},
   "outputs": [
    {
     "data": {
      "text/html": [
       "<div>\n",
       "<style scoped>\n",
       "    .dataframe tbody tr th:only-of-type {\n",
       "        vertical-align: middle;\n",
       "    }\n",
       "\n",
       "    .dataframe tbody tr th {\n",
       "        vertical-align: top;\n",
       "    }\n",
       "\n",
       "    .dataframe thead th {\n",
       "        text-align: right;\n",
       "    }\n",
       "</style>\n",
       "<table border=\"1\" class=\"dataframe\">\n",
       "  <thead>\n",
       "    <tr style=\"text-align: right;\">\n",
       "      <th></th>\n",
       "      <th>run_ids</th>\n",
       "      <th>positive_proba_int</th>\n",
       "      <th>positive_proba</th>\n",
       "      <th>ppl</th>\n",
       "      <th>fluency_metrics</th>\n",
       "      <th>dist-3</th>\n",
       "      <th>rep_rate</th>\n",
       "    </tr>\n",
       "  </thead>\n",
       "  <tbody>\n",
       "    <tr>\n",
       "      <th>0</th>\n",
       "      <td>ugr3ts53</td>\n",
       "      <td>0.985075</td>\n",
       "      <td>0.873134</td>\n",
       "      <td>8.790101e+00</td>\n",
       "      <td>0.671642</td>\n",
       "      <td>0.624689</td>\n",
       "      <td>0.156716</td>\n",
       "    </tr>\n",
       "    <tr>\n",
       "      <th>1</th>\n",
       "      <td>7khk65lu</td>\n",
       "      <td>0.974026</td>\n",
       "      <td>0.902597</td>\n",
       "      <td>9.522580e+00</td>\n",
       "      <td>0.577922</td>\n",
       "      <td>0.618992</td>\n",
       "      <td>0.194805</td>\n",
       "    </tr>\n",
       "    <tr>\n",
       "      <th>2</th>\n",
       "      <td>0ax3fe5q</td>\n",
       "      <td>0.768657</td>\n",
       "      <td>0.522388</td>\n",
       "      <td>1.781145e+02</td>\n",
       "      <td>0.380597</td>\n",
       "      <td>0.897984</td>\n",
       "      <td>0.000000</td>\n",
       "    </tr>\n",
       "    <tr>\n",
       "      <th>3</th>\n",
       "      <td>745dg32u</td>\n",
       "      <td>0.824675</td>\n",
       "      <td>0.642857</td>\n",
       "      <td>2.565234e+02</td>\n",
       "      <td>0.207792</td>\n",
       "      <td>0.900569</td>\n",
       "      <td>0.000000</td>\n",
       "    </tr>\n",
       "    <tr>\n",
       "      <th>4</th>\n",
       "      <td>9ujeyli7</td>\n",
       "      <td>0.641791</td>\n",
       "      <td>0.477612</td>\n",
       "      <td>7.898115e+01</td>\n",
       "      <td>0.544776</td>\n",
       "      <td>0.894724</td>\n",
       "      <td>0.000000</td>\n",
       "    </tr>\n",
       "    <tr>\n",
       "      <th>5</th>\n",
       "      <td>hlnz0mx2</td>\n",
       "      <td>0.558442</td>\n",
       "      <td>0.519481</td>\n",
       "      <td>2.003867e+02</td>\n",
       "      <td>0.571429</td>\n",
       "      <td>0.895415</td>\n",
       "      <td>0.000000</td>\n",
       "    </tr>\n",
       "    <tr>\n",
       "      <th>6</th>\n",
       "      <td>4tml0ox0</td>\n",
       "      <td>0.589552</td>\n",
       "      <td>0.522388</td>\n",
       "      <td>7.317971e+01</td>\n",
       "      <td>0.507463</td>\n",
       "      <td>0.896832</td>\n",
       "      <td>0.000000</td>\n",
       "    </tr>\n",
       "    <tr>\n",
       "      <th>7</th>\n",
       "      <td>k7iftmov</td>\n",
       "      <td>0.493506</td>\n",
       "      <td>0.532468</td>\n",
       "      <td>1.108534e+02</td>\n",
       "      <td>0.500000</td>\n",
       "      <td>0.898100</td>\n",
       "      <td>0.000000</td>\n",
       "    </tr>\n",
       "    <tr>\n",
       "      <th>8</th>\n",
       "      <td>z6iu47d2</td>\n",
       "      <td>0.567164</td>\n",
       "      <td>0.492537</td>\n",
       "      <td>7.011548e+01</td>\n",
       "      <td>0.492537</td>\n",
       "      <td>0.896626</td>\n",
       "      <td>0.000000</td>\n",
       "    </tr>\n",
       "    <tr>\n",
       "      <th>9</th>\n",
       "      <td>ljuam185</td>\n",
       "      <td>0.474026</td>\n",
       "      <td>0.493506</td>\n",
       "      <td>8.816779e+01</td>\n",
       "      <td>0.474026</td>\n",
       "      <td>0.899170</td>\n",
       "      <td>0.000000</td>\n",
       "    </tr>\n",
       "    <tr>\n",
       "      <th>10</th>\n",
       "      <td>a2bn8dk5</td>\n",
       "      <td>0.626866</td>\n",
       "      <td>0.500000</td>\n",
       "      <td>7.773968e+01</td>\n",
       "      <td>0.470149</td>\n",
       "      <td>0.896762</td>\n",
       "      <td>0.000000</td>\n",
       "    </tr>\n",
       "    <tr>\n",
       "      <th>11</th>\n",
       "      <td>s13j6sqs</td>\n",
       "      <td>0.545455</td>\n",
       "      <td>0.506494</td>\n",
       "      <td>1.198892e+02</td>\n",
       "      <td>0.461039</td>\n",
       "      <td>0.899349</td>\n",
       "      <td>0.000000</td>\n",
       "    </tr>\n",
       "    <tr>\n",
       "      <th>12</th>\n",
       "      <td>0xteb62f</td>\n",
       "      <td>0.597015</td>\n",
       "      <td>0.350746</td>\n",
       "      <td>1.324616e+06</td>\n",
       "      <td>0.223881</td>\n",
       "      <td>0.871550</td>\n",
       "      <td>0.000000</td>\n",
       "    </tr>\n",
       "    <tr>\n",
       "      <th>13</th>\n",
       "      <td>qy6h3xm3</td>\n",
       "      <td>0.389610</td>\n",
       "      <td>0.357143</td>\n",
       "      <td>1.776994e+06</td>\n",
       "      <td>0.311688</td>\n",
       "      <td>0.874278</td>\n",
       "      <td>0.000000</td>\n",
       "    </tr>\n",
       "    <tr>\n",
       "      <th>14</th>\n",
       "      <td>51eicj7v</td>\n",
       "      <td>0.656716</td>\n",
       "      <td>0.343284</td>\n",
       "      <td>2.439890e+07</td>\n",
       "      <td>0.164179</td>\n",
       "      <td>0.867717</td>\n",
       "      <td>0.000000</td>\n",
       "    </tr>\n",
       "    <tr>\n",
       "      <th>15</th>\n",
       "      <td>0stmb3i8</td>\n",
       "      <td>0.506494</td>\n",
       "      <td>0.402597</td>\n",
       "      <td>3.224351e+09</td>\n",
       "      <td>0.240260</td>\n",
       "      <td>0.866624</td>\n",
       "      <td>0.000000</td>\n",
       "    </tr>\n",
       "    <tr>\n",
       "      <th>16</th>\n",
       "      <td>m4u9glnx</td>\n",
       "      <td>0.813433</td>\n",
       "      <td>0.611940</td>\n",
       "      <td>1.829589e+02</td>\n",
       "      <td>0.246269</td>\n",
       "      <td>0.898925</td>\n",
       "      <td>0.000000</td>\n",
       "    </tr>\n",
       "    <tr>\n",
       "      <th>17</th>\n",
       "      <td>bpfmw7l8</td>\n",
       "      <td>0.844156</td>\n",
       "      <td>0.597403</td>\n",
       "      <td>1.892942e+02</td>\n",
       "      <td>0.331169</td>\n",
       "      <td>0.899707</td>\n",
       "      <td>0.000000</td>\n",
       "    </tr>\n",
       "    <tr>\n",
       "      <th>18</th>\n",
       "      <td>pygsotv9</td>\n",
       "      <td>0.641791</td>\n",
       "      <td>0.500000</td>\n",
       "      <td>7.391500e+01</td>\n",
       "      <td>0.611940</td>\n",
       "      <td>0.895151</td>\n",
       "      <td>0.000000</td>\n",
       "    </tr>\n",
       "    <tr>\n",
       "      <th>19</th>\n",
       "      <td>4kzzg2vx</td>\n",
       "      <td>0.564935</td>\n",
       "      <td>0.519481</td>\n",
       "      <td>7.974901e+01</td>\n",
       "      <td>0.525974</td>\n",
       "      <td>0.895306</td>\n",
       "      <td>0.000000</td>\n",
       "    </tr>\n",
       "    <tr>\n",
       "      <th>20</th>\n",
       "      <td>omhz1rr1</td>\n",
       "      <td>0.701493</td>\n",
       "      <td>0.522388</td>\n",
       "      <td>5.815998e+01</td>\n",
       "      <td>0.440299</td>\n",
       "      <td>0.897381</td>\n",
       "      <td>0.000000</td>\n",
       "    </tr>\n",
       "    <tr>\n",
       "      <th>21</th>\n",
       "      <td>gahrb4gt</td>\n",
       "      <td>0.603896</td>\n",
       "      <td>0.577922</td>\n",
       "      <td>5.733718e+01</td>\n",
       "      <td>0.506494</td>\n",
       "      <td>0.899728</td>\n",
       "      <td>0.006494</td>\n",
       "    </tr>\n",
       "    <tr>\n",
       "      <th>22</th>\n",
       "      <td>e30unz6h</td>\n",
       "      <td>0.582090</td>\n",
       "      <td>0.500000</td>\n",
       "      <td>5.442582e+01</td>\n",
       "      <td>0.500000</td>\n",
       "      <td>0.899030</td>\n",
       "      <td>0.000000</td>\n",
       "    </tr>\n",
       "    <tr>\n",
       "      <th>23</th>\n",
       "      <td>3hra2btv</td>\n",
       "      <td>0.480519</td>\n",
       "      <td>0.519481</td>\n",
       "      <td>5.702914e+01</td>\n",
       "      <td>0.519481</td>\n",
       "      <td>0.901327</td>\n",
       "      <td>0.000000</td>\n",
       "    </tr>\n",
       "    <tr>\n",
       "      <th>24</th>\n",
       "      <td>fxe95fbr</td>\n",
       "      <td>0.664179</td>\n",
       "      <td>0.514925</td>\n",
       "      <td>5.984197e+01</td>\n",
       "      <td>0.462687</td>\n",
       "      <td>0.898432</td>\n",
       "      <td>0.000000</td>\n",
       "    </tr>\n",
       "    <tr>\n",
       "      <th>25</th>\n",
       "      <td>utoptt6f</td>\n",
       "      <td>0.545455</td>\n",
       "      <td>0.564935</td>\n",
       "      <td>6.172760e+01</td>\n",
       "      <td>0.487013</td>\n",
       "      <td>0.901126</td>\n",
       "      <td>0.000000</td>\n",
       "    </tr>\n",
       "    <tr>\n",
       "      <th>26</th>\n",
       "      <td>ecoyl88a</td>\n",
       "      <td>0.589552</td>\n",
       "      <td>0.328358</td>\n",
       "      <td>1.431079e+08</td>\n",
       "      <td>0.208955</td>\n",
       "      <td>0.874793</td>\n",
       "      <td>0.000000</td>\n",
       "    </tr>\n",
       "    <tr>\n",
       "      <th>27</th>\n",
       "      <td>fsputbpc</td>\n",
       "      <td>0.370130</td>\n",
       "      <td>0.350649</td>\n",
       "      <td>6.651054e+07</td>\n",
       "      <td>0.272727</td>\n",
       "      <td>0.872020</td>\n",
       "      <td>0.000000</td>\n",
       "    </tr>\n",
       "    <tr>\n",
       "      <th>28</th>\n",
       "      <td>73xgem0e</td>\n",
       "      <td>0.597015</td>\n",
       "      <td>0.343284</td>\n",
       "      <td>1.357107e+08</td>\n",
       "      <td>0.208955</td>\n",
       "      <td>0.871082</td>\n",
       "      <td>0.000000</td>\n",
       "    </tr>\n",
       "    <tr>\n",
       "      <th>29</th>\n",
       "      <td>3vt75up1</td>\n",
       "      <td>0.519481</td>\n",
       "      <td>0.350649</td>\n",
       "      <td>1.919011e+08</td>\n",
       "      <td>0.201299</td>\n",
       "      <td>0.864865</td>\n",
       "      <td>0.000000</td>\n",
       "    </tr>\n",
       "  </tbody>\n",
       "</table>\n",
       "</div>"
      ],
      "text/plain": [
       "     run_ids  positive_proba_int  positive_proba           ppl  \\\n",
       "0   ugr3ts53            0.985075        0.873134  8.790101e+00   \n",
       "1   7khk65lu            0.974026        0.902597  9.522580e+00   \n",
       "2   0ax3fe5q            0.768657        0.522388  1.781145e+02   \n",
       "3   745dg32u            0.824675        0.642857  2.565234e+02   \n",
       "4   9ujeyli7            0.641791        0.477612  7.898115e+01   \n",
       "5   hlnz0mx2            0.558442        0.519481  2.003867e+02   \n",
       "6   4tml0ox0            0.589552        0.522388  7.317971e+01   \n",
       "7   k7iftmov            0.493506        0.532468  1.108534e+02   \n",
       "8   z6iu47d2            0.567164        0.492537  7.011548e+01   \n",
       "9   ljuam185            0.474026        0.493506  8.816779e+01   \n",
       "10  a2bn8dk5            0.626866        0.500000  7.773968e+01   \n",
       "11  s13j6sqs            0.545455        0.506494  1.198892e+02   \n",
       "12  0xteb62f            0.597015        0.350746  1.324616e+06   \n",
       "13  qy6h3xm3            0.389610        0.357143  1.776994e+06   \n",
       "14  51eicj7v            0.656716        0.343284  2.439890e+07   \n",
       "15  0stmb3i8            0.506494        0.402597  3.224351e+09   \n",
       "16  m4u9glnx            0.813433        0.611940  1.829589e+02   \n",
       "17  bpfmw7l8            0.844156        0.597403  1.892942e+02   \n",
       "18  pygsotv9            0.641791        0.500000  7.391500e+01   \n",
       "19  4kzzg2vx            0.564935        0.519481  7.974901e+01   \n",
       "20  omhz1rr1            0.701493        0.522388  5.815998e+01   \n",
       "21  gahrb4gt            0.603896        0.577922  5.733718e+01   \n",
       "22  e30unz6h            0.582090        0.500000  5.442582e+01   \n",
       "23  3hra2btv            0.480519        0.519481  5.702914e+01   \n",
       "24  fxe95fbr            0.664179        0.514925  5.984197e+01   \n",
       "25  utoptt6f            0.545455        0.564935  6.172760e+01   \n",
       "26  ecoyl88a            0.589552        0.328358  1.431079e+08   \n",
       "27  fsputbpc            0.370130        0.350649  6.651054e+07   \n",
       "28  73xgem0e            0.597015        0.343284  1.357107e+08   \n",
       "29  3vt75up1            0.519481        0.350649  1.919011e+08   \n",
       "\n",
       "    fluency_metrics    dist-3  rep_rate  \n",
       "0          0.671642  0.624689  0.156716  \n",
       "1          0.577922  0.618992  0.194805  \n",
       "2          0.380597  0.897984  0.000000  \n",
       "3          0.207792  0.900569  0.000000  \n",
       "4          0.544776  0.894724  0.000000  \n",
       "5          0.571429  0.895415  0.000000  \n",
       "6          0.507463  0.896832  0.000000  \n",
       "7          0.500000  0.898100  0.000000  \n",
       "8          0.492537  0.896626  0.000000  \n",
       "9          0.474026  0.899170  0.000000  \n",
       "10         0.470149  0.896762  0.000000  \n",
       "11         0.461039  0.899349  0.000000  \n",
       "12         0.223881  0.871550  0.000000  \n",
       "13         0.311688  0.874278  0.000000  \n",
       "14         0.164179  0.867717  0.000000  \n",
       "15         0.240260  0.866624  0.000000  \n",
       "16         0.246269  0.898925  0.000000  \n",
       "17         0.331169  0.899707  0.000000  \n",
       "18         0.611940  0.895151  0.000000  \n",
       "19         0.525974  0.895306  0.000000  \n",
       "20         0.440299  0.897381  0.000000  \n",
       "21         0.506494  0.899728  0.006494  \n",
       "22         0.500000  0.899030  0.000000  \n",
       "23         0.519481  0.901327  0.000000  \n",
       "24         0.462687  0.898432  0.000000  \n",
       "25         0.487013  0.901126  0.000000  \n",
       "26         0.208955  0.874793  0.000000  \n",
       "27         0.272727  0.872020  0.000000  \n",
       "28         0.208955  0.871082  0.000000  \n",
       "29         0.201299  0.864865  0.000000  "
      ]
     },
     "execution_count": 104,
     "metadata": {},
     "output_type": "execute_result"
    }
   ],
   "source": [
    "pd.DataFrame({'run_ids':run_ids,\n",
    "              'positive_proba_int':positive_proba_metrics_int,\n",
    "              'positive_proba':positive_proba_metrics_ext,\n",
    "              'ppl':ppl_metrics,\n",
    "              'fluency_metrics':fluency_metrics,\n",
    "              'dist-3':dist3_metrics,\n",
    "              'rep_rate':repetitions_metrics})"
   ]
  },
  {
   "cell_type": "code",
   "execution_count": null,
   "id": "f6ba9fef-ee5d-4636-bc91-5035d4cf134d",
   "metadata": {},
   "outputs": [],
   "source": []
  }
 ],
 "metadata": {
  "kernelspec": {
   "display_name": "Python 3 (ipykernel)",
   "language": "python",
   "name": "python3"
  },
  "language_info": {
   "codemirror_mode": {
    "name": "ipython",
    "version": 3
   },
   "file_extension": ".py",
   "mimetype": "text/x-python",
   "name": "python",
   "nbconvert_exporter": "python",
   "pygments_lexer": "ipython3",
   "version": "3.11.7"
  }
 },
 "nbformat": 4,
 "nbformat_minor": 5
}
