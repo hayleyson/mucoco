{
 "cells": [
  {
   "cell_type": "code",
   "execution_count": 1,
   "metadata": {},
   "outputs": [],
   "source": [
    "# -*- coding: utf-8 -*-\n",
    "import argparse\n",
    "import os\n",
    "import string\n",
    "import sys\n",
    "os.chdir('/home/hyeryung_son/mucoco')\n",
    "from itertools import repeat\n",
    "import torch.multiprocessing as mp\n",
    "from typing import List\n",
    "\n",
    "import numpy as np\n",
    "import pandas as pd\n",
    "import torch\n",
    "import transformers\n",
    "from datasets import Dataset\n",
    "from torch.nn.utils.rnn import pad_sequence\n",
    "from torch.utils.data import DataLoader\n",
    "from transformers import AutoModelForSequenceClassification, AutoTokenizer, AutoModelForMaskedLM, AutoTokenizer, AutoConfig\n",
    "\n",
    "from new_module.utils.robertacustom import RobertaCustomForSequenceClassification\n",
    "from new_module.locate.new_locate_utils import *\n",
    "import new_module.losses as lossbuilder\n",
    "\n",
    "import logging\n",
    "import os\n",
    "from typing import List\n",
    "from tqdm import tqdm\n",
    "\n",
    "import torch\n",
    "import torch.nn.functional as F\n",
    "import transformers"
   ]
  },
  {
   "cell_type": "code",
   "execution_count": 2,
   "metadata": {},
   "outputs": [],
   "source": [
    "## setup for prototyping\n",
    "logging.basicConfig(level=logging.DEBUG, format=\"%(message)s\")\n",
    "logger = logging.getLogger(__name__)\n",
    "logger.setLevel(os.environ.get(\"LOGGING_LEVEL\", logging.DEBUG))\n",
    "\n",
    "config={#'model_paths':['gpt2-large','/shared/s3/lab07/hyeryung/loc_edit/roberta-base-jigsaw-toxicity-classifier-energy-training/step_600_best_checkpoint'],\n",
    "        # 'tokenizer_paths':['gpt2-large','/shared/s3/lab07/hyeryung/loc_edit/roberta-base-jigsaw-toxicity-classifier-energy-training/step_600_best_checkpoint'],\n",
    "        'model_paths':['gpt2-large','models/roberta-base-jigsaw-toxicity-classifier-with-gpt2-large-embeds/checkpoint_best'],\n",
    "        'tokenizer_paths':['gpt2-large','models/roberta-base-jigsaw-toxicity-classifier-with-gpt2-large-embeds/checkpoint_best'],\n",
    "        'model_types': [\"AutoModelForCausalLM\", \"AutoModelForSequenceClassification\"],\n",
    "        'cache_dir': \"hf_cache\",\n",
    "        'target_type': \"embeds\",\n",
    "        'method': \"mlm-beamsearch-v0\",\n",
    "       'losses': [\"gpt2\", \"classification_no_prefix_logprobloss\"],\n",
    "       'target_label_ids': [0,0] ,\n",
    "       'build_loss_dict': {\"coeff_steps\": 200, \"coeff_pattern\": \"constant\", \"loss_type\": \"xentropy\", \"length_normalize\": False, \"AR_temperature\": 1.0, \"AR_top_k\": 0, \"AR_top_p\": 0.96, \"max_output_length\": 20},\n",
    "       'min_epsilons': [0.75],\n",
    "       'source_data': 'new_module/data/toxicity-avoidance/testset_gpt2_2500.jsonl',\n",
    "       'locate_unit': 'word',\n",
    "       'locate_method': 'grad_norm',\n",
    "       'device': 'cuda',\n",
    "       'k_per_location': 10,\n",
    "       'closs_weight': 0.9,\n",
    "       'beam_size': 3}\n",
    "\n",
    "class dummyArgs:\n",
    "    def __init__(self, **kwargs):\n",
    "        for k, v in kwargs.items():\n",
    "            setattr(self, k, v)\n",
    "\n",
    "build_loss_args = dummyArgs(**config[\"build_loss_dict\"])"
   ]
  },
  {
   "cell_type": "code",
   "execution_count": 3,
   "metadata": {},
   "outputs": [
    {
     "name": "stderr",
     "output_type": "stream",
     "text": [
      "Starting new HTTPS connection (1): huggingface.co:443\n",
      "https://huggingface.co:443 \"HEAD /gpt2-large/resolve/main/tokenizer_config.json HTTP/1.1\" 200 0\n",
      "https://huggingface.co:443 \"HEAD /gpt2-large/resolve/main/config.json HTTP/1.1\" 200 0\n",
      "https://huggingface.co:443 \"HEAD /gpt2-large/resolve/main/generation_config.json HTTP/1.1\" 200 0\n",
      "Some weights of the model checkpoint at models/roberta-base-jigsaw-toxicity-classifier-with-gpt2-large-embeds/checkpoint_best were not used when initializing RobertaForSequenceClassification: ['roberta.embeddings.word_embeddings.0.weight', 'roberta.embeddings.word_embeddings.1.weight']\n",
      "- This IS expected if you are initializing RobertaForSequenceClassification from the checkpoint of a model trained on another task or with another architecture (e.g. initializing a BertForSequenceClassification model from a BertForPreTraining model).\n",
      "- This IS NOT expected if you are initializing RobertaForSequenceClassification from the checkpoint of a model that you expect to be exactly identical (initializing a BertForSequenceClassification model from a BertForSequenceClassification model).\n",
      "Some weights of RobertaForSequenceClassification were not initialized from the model checkpoint at models/roberta-base-jigsaw-toxicity-classifier-with-gpt2-large-embeds/checkpoint_best and are newly initialized: ['roberta.embeddings.word_embeddings.weight']\n",
      "You should probably TRAIN this model on a down-stream task to be able to use it for predictions and inference.\n",
      "https://huggingface.co:443 \"HEAD /roberta-base/resolve/main/tokenizer_config.json HTTP/1.1\" 200 0\n",
      "https://huggingface.co:443 \"HEAD /roberta-base/resolve/main/config.json HTTP/1.1\" 200 0\n"
     ]
    }
   ],
   "source": [
    "name2tokenizer = {}\n",
    "name2model = {}\n",
    "name2config = {}\n",
    "loss2tokenizer = {}\n",
    "embed_luts = []\n",
    "primary_model = None\n",
    "for i, model_path in enumerate(config[\"model_paths\"]):\n",
    "    if (\n",
    "        model_path not in name2model\n",
    "    ):  # making sure we are not loading the model twice in case some constraints use the same model.\n",
    "        try:\n",
    "            name2tokenizer[model_path] = AutoTokenizer.from_pretrained(\n",
    "                config[\"tokenizer_paths\"][i],\n",
    "                cache_dir=config[\"cache_dir\"],\n",
    "                use_fast=True,\n",
    "            )\n",
    "        except:\n",
    "            name2tokenizer[model_path] = AutoTokenizer.from_pretrained(\n",
    "                config[\"tokenizer_paths\"][i],\n",
    "                cache_dir=config[\"cache_dir\"],\n",
    "                use_fast=False,\n",
    "            )\n",
    "\n",
    "        name2config[model_path] = AutoConfig.from_pretrained(\n",
    "            model_path, cache_dir=config[\"cache_dir\"]\n",
    "        )\n",
    "\n",
    "        if \"Custom\" in config[\"model_types\"][i]:\n",
    "            name2model[model_path] = lossbuilder.ModelWrapper(\n",
    "                getattr(utils, config[\"model_types\"][i]).from_pretrained(\n",
    "                    model_path,\n",
    "                    config=name2config[model_path],\n",
    "                    cache_dir=config[\"cache_dir\"],\n",
    "                )\n",
    "            )\n",
    "        else:\n",
    "            name2model[model_path] = lossbuilder.ModelWrapper(\n",
    "                getattr(transformers, config[\"model_types\"][i]).from_pretrained(\n",
    "                    model_path,\n",
    "                    config=name2config[model_path],\n",
    "                    cache_dir=config[\"cache_dir\"],\n",
    "                )\n",
    "            )\n",
    "        name2model[model_path].eval()\n",
    "        name2model[model_path].cuda()\n",
    "\n",
    "    input_embeds = name2model[model_path].get_input_embeddings()\n",
    "    if isinstance(input_embeds, torch.nn.Sequential):\n",
    "        input_embeds = input_embeds[0]\n",
    "    embed_luts.append(input_embeds)\n",
    "\n",
    "    if config[\"target_type\"] == \"embeds\":\n",
    "        embed_luts[-1].requires_grad = False\n",
    "\n",
    "    if i == 0:\n",
    "        primary_model = name2model[model_path]\n",
    "\n",
    "mlm_tokenizer = AutoTokenizer.from_pretrained(\"roberta-base\")\n",
    "mlm = None if config[\"method\"] == \"mlm-beamsearch-v2\" else AutoModelForMaskedLM.from_pretrained(\"roberta-base\")  \n",
    "\n",
    "lossfns = []\n",
    "for i, loss in enumerate(config[\"losses\"]):\n",
    "    lossfns.append(\n",
    "        lossbuilder.build_loss(\n",
    "            loss,\n",
    "            name2model[config[\"model_paths\"][i]],\n",
    "            name2tokenizer[config[\"model_paths\"][i]],\n",
    "            build_loss_args,\n",
    "        )\n",
    "    )\n",
    "    lossfns[i].tokenizer.add_special_tokens({\"mask_token\": mlm_tokenizer.mask_token})\n",
    "    loss2tokenizer[loss] = lossfns[i].tokenizer\n",
    "\n",
    "primary_tokenizer = name2tokenizer['gpt2-large']\n",
    "secondary_tokenizer = list(name2tokenizer.values())[1]"
   ]
  },
  {
   "cell_type": "code",
   "execution_count": 4,
   "metadata": {},
   "outputs": [],
   "source": [
    "def unravel(outputs_df):\n",
    "    outputs_df=outputs_df.explode('generations',ignore_index=True)\n",
    "    outputs_df['prompt']=outputs_df['prompt'].apply(lambda x: x['text'])\n",
    "    outputs_df['generations']=outputs_df['generations'].apply(lambda x: x['text'] if isinstance(x, dict) else x)\n",
    "    outputs_df = outputs_df.dropna().reset_index(drop=True)\n",
    "    return outputs_df\n",
    "toxic_gen=pd.read_json('new_module/data/toxicity-avoidance/dev_set.jsonl',lines=True)\n",
    "toxic_gen=unravel(toxic_gen)\n",
    "prompt = '“I went to use the bathroom, and I went in and Lance was bent'\n",
    "prediction = toxic_gen.loc[toxic_gen['prompt']==prompt,'generations'].tolist()\n",
    "ckpt_path = config['model_paths'][1]\n",
    "model = name2model[ckpt_path] #AutoModelForSequenceClassification.from_pretrained(ckpt_path)\n",
    "tokenizer = name2tokenizer[ckpt_path] #AutoTokenizer.from_pretrained(ckpt_path)\n",
    "device='cuda'\n",
    "model = model.to(device)\n",
    "loc_machine=LocateMachine(model,tokenizer)\n",
    "masked_text = loc_machine.locate_main(prediction, \"grad_norm\", max_num_tokens = 6, unit=\"word\", num_layer=10, label_id=0)"
   ]
  },
  {
   "cell_type": "code",
   "execution_count": 5,
   "metadata": {},
   "outputs": [],
   "source": [
    "mlm = mlm.to(device)"
   ]
  },
  {
   "cell_type": "code",
   "execution_count": 6,
   "metadata": {},
   "outputs": [],
   "source": [
    "source_text=prompt"
   ]
  },
  {
   "cell_type": "code",
   "execution_count": 7,
   "metadata": {},
   "outputs": [
    {
     "data": {
      "text/plain": [
       "[\"<mask> me<mask><mask><mask><mask><mask> could hear him starting to come, but I didn't stop him. Thank God he had these<mask> on me.\",\n",
       " ' over like<mask> and he was<mask><mask>',\n",
       " ' over me and put his hand in my butt and<mask><mask><mask> his hand up and down my ass and<mask><mask> put his hand back in my butt and<mask> rubbed it.This is',\n",
       " '<mask><mask> reaching for his genitals, and so,<mask><mask><mask><mask> the stall door open and I get out,\" Stephanie<mask><mask>',\n",
       " ' over me and he was<mask> me. And I pulled away and he was fighting me, and I<mask><mask><mask><mask><mask> had no idea what<mask> was going<mask>',\n",
       " '<mask> the sink. It was dirty. The whole place<mask><mask><mask> the sink and the<mask><mask>',\n",
       " ' over the sink and then was bending over one of<mask><mask><mask> and being a<mask><mask> in his pants.',\n",
       " '<mask><mask><mask><mask> He just<mask> all this time going<mask> a donkey trying to put a<mask> zippo in.',\n",
       " ' over and I flicked my underwear<mask><mask><mask><mask> pitch I had discovered before, with my finger.',\n",
       " '<mask><mask><mask><mask><mask><mask> master bike<mask> seen<mask><mask><mask><mask><mask><mask><mask><mask>']"
      ]
     },
     "execution_count": 7,
     "metadata": {},
     "output_type": "execute_result"
    }
   ],
   "source": [
    "masked_text"
   ]
  },
  {
   "cell_type": "code",
   "execution_count": 8,
   "metadata": {},
   "outputs": [],
   "source": [
    "## replace tokens at the indices with mask tokens\n",
    "inputs = mlm_tokenizer(\n",
    "    masked_text, return_tensors=\"pt\", padding=True, truncation=True\n",
    ")\n",
    "inputs = inputs.to(device) \n",
    "\n",
    "## make predictions for the masked indices\n",
    "with torch.no_grad():\n",
    "    logits = mlm(**inputs).logits\n",
    "\n",
    "special_token_ids = mlm_tokenizer.convert_tokens_to_ids(mlm_tokenizer.all_special_tokens)\n",
    "logits[:, :, special_token_ids] = -float(\"inf\")\n",
    "\n",
    "indices_in_mlm_tokens = (\n",
    "    inputs.input_ids == mlm_tokenizer.mask_token_id\n",
    ").nonzero(as_tuple=True)\n",
    "\n",
    "## get top k tokens for each index\n",
    "predicted_token_ids = torch.topk(\n",
    "    logits[indices_in_mlm_tokens[0], indices_in_mlm_tokens[1], :],\n",
    "    k=config['k_per_location'],\n",
    "    dim=-1,\n",
    ")\n",
    "# print(f\"predicted_token_ids: {predicted_token_ids}\")\n",
    "# print(f\"mlm_tokenizer.batch_decode(predicted_token_ids.indices): {mlm_tokenizer.batch_decode(predicted_token_ids.indices)}\")\n"
   ]
  },
  {
   "cell_type": "code",
   "execution_count": 9,
   "metadata": {},
   "outputs": [
    {
     "name": "stderr",
     "output_type": "stream",
     "text": [
      "https://huggingface.co:443 \"HEAD /roberta-base/resolve/main/tokenizer_config.json HTTP/1.1\" 200 0\n"
     ]
    }
   ],
   "source": [
    "mlm_tokenizer = AutoTokenizer.from_pretrained(\"roberta-base\")"
   ]
  },
  {
   "cell_type": "code",
   "execution_count": 10,
   "metadata": {},
   "outputs": [],
   "source": [
    "inputs = mlm_tokenizer(\n",
    "    masked_text, return_tensors=\"pt\", padding=True, truncation=True\n",
    ")\n",
    "inputs = inputs.to(device) "
   ]
  },
  {
   "cell_type": "code",
   "execution_count": 11,
   "metadata": {},
   "outputs": [],
   "source": [
    "input_ids=inputs['input_ids']"
   ]
  },
  {
   "cell_type": "code",
   "execution_count": 12,
   "metadata": {},
   "outputs": [],
   "source": [
    "edit_indices = sorted(list(set(indices_in_mlm_tokens[1].tolist())))"
   ]
  },
  {
   "cell_type": "code",
   "execution_count": null,
   "metadata": {},
   "outputs": [],
   "source": []
  },
  {
   "cell_type": "code",
   "execution_count": 36,
   "metadata": {},
   "outputs": [],
   "source": [
    "def beam_rerank(source_text:str, \n",
    "                    masked_sequence:torch.Tensor, \n",
    "                    indices_in_mlm_tokens:tuple,\n",
    "                    # predicted_token_ids:torch.return_types.topk,\n",
    "                    predicted_token_ids:torch.Tensor,\n",
    "                    mlm_tokenizer:transformers.AutoTokenizer, \n",
    "                    lossfns:List[lossbuilder.BaseLoss],\n",
    "                    config:dict):\n",
    "    \"\"\"params: \n",
    "    source_text(prompt) should be text. \n",
    "    masked_sequence should be token ids tokenized by MLM's tokenizer.\n",
    "    indices_in_mlm_tokens should be a result of running \n",
    "    `indices_in_mlm_tokens = (\n",
    "                                inputs.input_ids == mlm_tokenizer.mask_token_id\n",
    "                                ).nonzero(as_tuple=True)`\n",
    "    \"\"\"\n",
    "    \n",
    "    hypotheses = masked_sequence[:, None, :].repeat((1,config['beam_size'],1))\n",
    "    edit_indices = sorted(list(set(indices_in_mlm_tokens[1].tolist())))\n",
    "    print(edit_indices)\n",
    "\n",
    "    for i in tqdm(edit_indices,total=len(edit_indices)):\n",
    "        print(i)\n",
    "        \n",
    "        batch_ids_to_edit = indices_in_mlm_tokens[0][indices_in_mlm_tokens[1]==i]\n",
    "\n",
    "        tmp_hypotheses = hypotheses[batch_ids_to_edit].detach().clone()\n",
    "        tmp_hypotheses=tmp_hypotheses.repeat((1,config['k_per_location'],1))\n",
    "\n",
    "        # candidates = predicted_token_ids.indices[(indices_in_mlm_tokens[1]==i).nonzero().squeeze(-1),:]\n",
    "        candidates = predicted_token_ids[(indices_in_mlm_tokens[1]==i).nonzero().squeeze(-1),:]\n",
    "        candidates = candidates[:, :, None].repeat((1,1, config['beam_size'])).reshape(candidates.shape[0], -1,1)\n",
    "\n",
    "        tmp_hypotheses = torch.cat((tmp_hypotheses[:, :, :i], candidates),dim=-1) ## tmp_hypotheses: [(a,b,c),(a,b,c), ..., (a,b,c)], candidates: [(p,p,p), (q,q,q), ..., (v,v,v)]\n",
    "        tmp_hypotheses = tmp_hypotheses.reshape(-1, tmp_hypotheses.shape[-1])\n",
    "        print(mlm_tokenizer.batch_decode(tmp_hypotheses.reshape(-1, tmp_hypotheses.shape[-1]), skip_special_tokens=True))\n",
    "\n",
    "        loss_weights = [1 - config['closs_weight'], config['closs_weight']]\n",
    "        curr_loss = torch.zeros(tmp_hypotheses.shape[0]).to(config['device'])\n",
    "        for lossid, lossname in enumerate(config[\"losses\"]):\n",
    "            if config['method'] == 'mlm-beamsearch-v1' and lossid > 0:\n",
    "                continue\n",
    "            with torch.no_grad():\n",
    "                lossvalue = lossfns[lossid].compute_gold_loss(\n",
    "                    source_text, mlm_tokenizer.batch_decode(tmp_hypotheses,skip_special_tokens=True),\n",
    "                    label_id=config['target_label_ids'][lossid],\n",
    "                )\n",
    "            torch.cuda.empty_cache()\n",
    "            curr_loss += loss_weights[lossid] * lossvalue\n",
    "            \n",
    "        curr_loss = torch.stack(torch.split(curr_loss, config['beam_size'] * config['k_per_location'], dim=0),dim=0)\n",
    "        top_beams=torch.topk(curr_loss, k=(config['beam_size']*2+1), dim=-1, largest=False).indices\n",
    "\n",
    "        tmp_hypotheses = torch.split(tmp_hypotheses, config['beam_size'] * config['k_per_location'], dim=0) ## 아래의 작업을 더 간단히 할 수 있는 방법?\n",
    "        tmp_hypotheses = torch.stack([x[top_beams[j]] for j, x in enumerate(tmp_hypotheses)],dim=0)\n",
    "        tmp_hypotheses = torch.unique(tmp_hypotheses, dim=1)[:, :config['beam_size'], :]\n",
    "        print(mlm_tokenizer.batch_decode(tmp_hypotheses.reshape(-1, tmp_hypotheses.shape[-1]), skip_special_tokens=True))\n",
    "\n",
    "        hypotheses[batch_ids_to_edit,:, i]=tmp_hypotheses[:, :, i]\n",
    "            \n",
    "    return mlm_tokenizer.batch_decode(hypotheses.reshape(-1, hypotheses.shape[-1]), skip_special_tokens=True) ## return 값에 대한 의문..!"
   ]
  },
  {
   "cell_type": "code",
   "execution_count": 38,
   "metadata": {},
   "outputs": [
    {
     "name": "stdout",
     "output_type": "stream",
     "text": [
      "[1, 2, 3, 4, 5, 6, 7, 8, 9, 10, 11, 12, 13, 14, 15, 16, 17, 18, 19, 20, 21, 22, 23, 24, 25, 26, 27, 30, 32, 33]\n"
     ]
    },
    {
     "name": "stderr",
     "output_type": "stream",
     "text": [
      "  0%|          | 0/30 [00:00<?, ?it/s]"
     ]
    },
    {
     "name": "stdout",
     "output_type": "stream",
     "text": [
      "1\n",
      "['Behind', 'Behind', 'Behind', 'Let', 'Let', 'Let', 'With', 'With', 'With', 'Give', 'Give', 'Give', 'Put', 'Put', 'Put', 'Watch', 'Watch', 'Watch', 'Leave', 'Leave', 'Leave', 'Tell', 'Tell', 'Tell', 'For', 'For', 'For', 'To', 'To', 'To', 'I', 'I', 'I', 'He', 'He', 'He', '\"', '\"', '\"', 'She', 'She', 'She', 'We', 'We', 'We', 'They', 'They', 'They', ' \"', ' \"', ' \"', 'Jason', 'Jason', 'Jason', 'Mike', 'Mike', 'Mike', 'Michael', 'Michael', 'Michael', 'And', 'And', 'And', 'Clean', 'Clean', 'Clean', 'Even', 'Even', 'Even', 'But', 'But', 'But', 'In', 'In', 'In', 'See', 'See', 'See', 'Except', 'Except', 'Except', 'Take', 'Take', 'Take', 'Check', 'Check', 'Check', 'Under', 'Under', 'Under', '\"', '\"', '\"', 'He', 'He', 'He', 'I', 'I', 'I', '[', '[', '[', 'H', 'H', 'H', 'The', 'The', 'The', '(', '(', '(', 'And', 'And', 'And', 'Oh', 'Oh', 'Oh', 'D', 'D', 'D', 'The', 'The', 'The', 'A', 'A', 'A', 'This', 'This', 'This', 'D', 'D', 'D', 'C', 'C', 'C', 'R', 'R', 'R', 'B', 'B', 'B', 'H', 'H', 'H', 'P', 'P', 'P', 'Image', 'Image', 'Image']\n"
     ]
    },
    {
     "name": "stderr",
     "output_type": "stream",
     "text": [
      "  3%|▎         | 1/30 [00:00<00:16,  1.74it/s]"
     ]
    },
    {
     "name": "stdout",
     "output_type": "stream",
     "text": [
      "['For', 'Watch', 'Behind', 'I', '\"', ' \"', 'But', 'In', 'And', '(', '\"', '[', 'C', 'H', 'P']\n",
      "2\n",
      "['I was', '\" was', ' \" was', \"I's\", '\"\\'s', ' \"\\'s', \"I'm\", '\"\\'m', ' \"\\'m', 'IHe', '\"He', ' \"He', 'IStart', '\"Start', ' \"Start', 'I starts', '\" starts', ' \" starts', 'I started', '\" started', ' \" started', 'IStop', '\"Stop', ' \"Stop', 'II', '\"I', ' \"I', 'I is', '\" is', ' \" is', '(,', '\",', '[,', \"('s\", '\"\\'s', \"['s\", '(.', '\".', '[.', '(:', '\":', '[:', '( was', '\" was', '[ was', '( is', '\" is', '[ is', '( the', '\" the', '[ the', '(G', '\"G', '[G', '(-', '\"-', '[-', '( he', '\" he', '[ he', 'C:', 'H:', 'P:', 'C the', 'H the', 'P the', 'C of', 'H of', 'P of', 'C-', 'H-', 'P-', \"C's\", \"H's\", \"P's\", 'CThe', 'HThe', 'PThe', 'C,', 'H,', 'P,', 'C R', 'H R', 'P R', 'C a', 'H a', 'P a', 'C is', 'H is', 'P is']\n"
     ]
    },
    {
     "name": "stderr",
     "output_type": "stream",
     "text": [
      "  7%|▋         | 2/30 [00:00<00:13,  2.06it/s]"
     ]
    },
    {
     "name": "stdout",
     "output_type": "stream",
     "text": [
      "[' \"I', ' \"He', 'I was', '\".', '\" he', '[,', 'P,', 'C-', 'H,']\n",
      "3\n",
      "['For me,', 'Watch me,', 'Behind me,', 'For me in', 'Watch me in', 'Behind me in', 'For me.', 'Watch me.', 'Behind me.', 'For me I', 'Watch me I', 'Behind me I', 'For me and', 'Watch me and', 'Behind me and', 'For me to', 'Watch me to', 'Behind me to', 'For me a', 'Watch me a', 'Behind me a', 'For me on', 'Watch me on', 'Behind me on', 'For me the', 'Watch me the', 'Behind me the', 'For me he', 'Watch me he', 'Behind me he', ' over like him', ' over like him', ' over like him', ' over like that', ' over like that', ' over like that', ' over like it', ' over like it', ' over like it', ' over like,', ' over like,', ' over like,', ' over like this', ' over like this', ' over like this', ' over like me', ' over like me', ' over like me', ' over like you', ' over like you', ' over like you', ' over like everything', ' over like everything', ' over like everything', ' over like something', ' over like something', ' over like something', ' over like them', ' over like them', ' over like them', '(. it', '\" he it', '[, it', '(. yeah', '\" he yeah', '[, yeah', '(.aha', '\" heaha', '[,aha', '(. right', '\" he right', '[, right', '(. Yeah', '\" he Yeah', '[, Yeah', '(. no', '\" he no', '[, no', '(. that', '\" he that', '[, that', '(. man', '\" he man', '[, man', '(. him', '\" he him', '[, him', '(.:', '\" he:', '[,:', 'C, the', 'H- the', 'P, the', 'C, of', 'H- of', 'P, of', 'C,-', 'H--', 'P,-', \"C,'s\", \"H-'s\", \"P,'s\", 'C, R', 'H- R', 'P, R', 'C, a', 'H- a', 'P, a', 'C,:', 'H-:', 'P,:', 'C,,', 'H-,', 'P,,', 'C, and', 'H- and', 'P, and', 'C, P', 'H- P', 'P, P']\n"
     ]
    },
    {
     "name": "stderr",
     "output_type": "stream",
     "text": [
      " 10%|█         | 3/30 [00:01<00:13,  1.99it/s]"
     ]
    },
    {
     "name": "stdout",
     "output_type": "stream",
     "text": [
      "['For me,', 'For me to', 'Behind me.', ' over like that', ' over like this', ' over like this', '[, yeah', '[, it', '[, right', 'P, a', 'P, the', 'C, and']\n",
      "4\n",
      "['For me, the', 'Watch me to the', 'Behind me. the', 'For me, I', 'Watch me to I', 'Behind me. I', 'For me, my', 'Watch me to my', 'Behind me. my', 'For me, he', 'Watch me to he', 'Behind me. he', 'For me, a', 'Watch me to a', 'Behind me. a', 'For me, was', 'Watch me to was', 'Behind me. was', 'For me, his', 'Watch me to his', 'Behind me. his', 'For me, to', 'Watch me to to', 'Behind me. to', 'For me,,', 'Watch me to,', 'Behind me.,', 'For me, and', 'Watch me to and', 'Behind me. and', '(. yeah.', '\" he it.', '[, right.', '(. yeah:', '\" he it:', '[, right:', '(. yeah?', '\" he it?', '[, right?', '(. yeah!', '\" he it!', '[, right!', '(. yeah]', '\" he it]', '[, right]', '(. yeah.\"', '\" he it.\"', '[, right.\"', '(. yeah,', '\" he it,', '[, right,', '(. yeah...', '\" he it...', '[, right...', '(. yeah)', '\" he it)', '[, right)', '(. yeah …', '\" he it …', '[, right …', 'C, a the', 'H- the the', 'P, and the', 'C, a-', 'H- the-', 'P, and-', 'C, a of', 'H- the of', 'P, and of', \"C, a's\", \"H- the's\", \"P, and's\", 'C, a a', 'H- the a', 'P, and a', 'C, a,', 'H- the,', 'P, and,', 'C, a R', 'H- the R', 'P, and R', 'C, a and', 'H- the and', 'P, and and', 'C, a:', 'H- the:', 'P, and:', 'C, a�', 'H- the�', 'P, and�']\n"
     ]
    },
    {
     "name": "stderr",
     "output_type": "stream",
     "text": [
      " 13%|█▎        | 4/30 [00:02<00:15,  1.66it/s]"
     ]
    },
    {
     "name": "stdout",
     "output_type": "stream",
     "text": [
      "['For me, the', 'For me, to', 'For me, and', '[, right.', '(. yeah,', '[, right...', 'P, and and', 'P, and R', 'P, and of']\n",
      "5\n",
      "['For me, the door', 'Watch me to to door', 'Behind me. and door', 'For me, the back', 'Watch me to to back', 'Behind me. and back', 'For me, the him', 'Watch me to to him', 'Behind me. and him', 'For me, the.', 'Watch me to to.', 'Behind me. and.', 'For me, the house', 'Watch me to to house', 'Behind me. and house', 'For me, the room', 'Watch me to to room', 'Behind me. and room', 'For me, the,', 'Watch me to to,', 'Behind me. and,', 'For me, the said', 'Watch me to to said', 'Behind me. and said', 'For me, the down', 'Watch me to to down', 'Behind me. and down', 'For me, the me', 'Watch me to to me', 'Behind me. and me', 'C, a and the', 'H- the R the', 'P, and of the', 'C, a and-', 'H- the R-', 'P, and of-', \"C, a and's\", \"H- the R's\", \"P, and of's\", 'C, a and a', 'H- the R a', 'P, and of a', 'C, a and,', 'H- the R,', 'P, and of,', 'C, a and of', 'H- the R of', 'P, and of of', 'C, a and and', 'H- the R and', 'P, and of and', 'C, a and R', 'H- the R R', 'P, and of R', 'C, a andcc', 'H- the Rcc', 'P, and ofcc', 'C, a and�', 'H- the R�', 'P, and of�']\n"
     ]
    },
    {
     "name": "stderr",
     "output_type": "stream",
     "text": [
      " 17%|█▋        | 5/30 [00:02<00:15,  1.62it/s]"
     ]
    },
    {
     "name": "stdout",
     "output_type": "stream",
     "text": [
      "['For me, the,', 'For me, the back', 'For me, the house', 'C, a and the', 'P, and of a', 'P, and of,']\n",
      "6\n",
      "['For me, the,.', 'Watch me to to back.', 'Behind me. and house.', 'For me, the,,', 'Watch me to to back,', 'Behind me. and house,', 'For me, the, and', 'Watch me to to back and', 'Behind me. and house and', 'For me, the,!', 'Watch me to to back!', 'Behind me. and house!', 'For me, the,?', 'Watch me to to back?', 'Behind me. and house?', 'For me, the, where', 'Watch me to to back where', 'Behind me. and house where', 'For me, the, said', 'Watch me to to back said', 'Behind me. and house said', 'For me, the, because', 'Watch me to to back because', 'Behind me. and house because', 'For me, the, that', 'Watch me to to back that', 'Behind me. and house that', 'For me, the, I', 'Watch me to to back I', 'Behind me. and house I', ' over me and he was choking', ' over me and he was choking', ' over me and he was choking', ' over me and he was fighting', ' over me and he was fighting', ' over me and he was fighting', ' over me and he was punching', ' over me and he was punching', ' over me and he was punching', ' over me and he was beating', ' over me and he was beating', ' over me and he was beating', ' over me and he was kicking', ' over me and he was kicking', ' over me and he was kicking', ' over me and he was hitting', ' over me and he was hitting', ' over me and he was hitting', ' over me and he was pushing', ' over me and he was pushing', ' over me and he was pushing', ' over me and he was attacking', ' over me and he was attacking', ' over me and he was attacking', ' over me and he was biting', ' over me and he was biting', ' over me and he was biting', ' over me and he was hurting', ' over me and he was hurting', ' over me and he was hurting', \"C, a and the's\", \"H- the R a's\", \"P, and of,'s\", 'C, a and the the', 'H- the R a the', 'P, and of, the', 'C, a and the a', 'H- the R a a', 'P, and of, a', 'C, a and the and', 'H- the R a and', 'P, and of, and', 'C, a and thecc', 'H- the R acc', 'P, and of,cc', 'C, a and thei', 'H- the R ai', 'P, and of,i', 'C, a and the1', 'H- the R a1', 'P, and of,1', 'C, a and thes', 'H- the R as', 'P, and of,s', \"C, a and the'\", \"H- the R a'\", \"P, and of,'\", 'C, a and the racing', 'H- the R a racing', 'P, and of, racing']\n"
     ]
    },
    {
     "name": "stderr",
     "output_type": "stream",
     "text": [
      " 20%|██        | 6/30 [00:03<00:13,  1.74it/s]"
     ]
    },
    {
     "name": "stdout",
     "output_type": "stream",
     "text": [
      "['For me, the,,', 'For me, the, and', 'For me, the, that', ' over me and he was pushing', ' over me and he was choking', ' over me and he was choking', 'C, a and the and', 'P, and of, the', 'P, and of, a']\n",
      "7\n",
      "['For me, the,, I', 'Watch me to to back and I', 'Behind me. and house that I', 'For me, the,,I', 'Watch me to to back andI', 'Behind me. and house thatI', 'For me, the,, You', 'Watch me to to back and You', 'Behind me. and house that You', 'For me, the,, you', 'Watch me to to back and you', 'Behind me. and house that you', 'For me, the,, and', 'Watch me to to back and and', 'Behind me. and house that and', 'For me, the,, We', 'Watch me to to back and We', 'Behind me. and house that We', 'For me, the,, He', 'Watch me to to back and He', 'Behind me. and house that He', 'For me, the,,You', 'Watch me to to back andYou', 'Behind me. and house thatYou', 'For me, the,, we', 'Watch me to to back and we', 'Behind me. and house that we', 'For me, the,, he', 'Watch me to to back and he', 'Behind me. and house that he', ' over like that and he was like', ' over like this and he was like', ' over like this and he was like', ' over like that and he was so', ' over like this and he was so', ' over like this and he was so', ' over like that and he was really', ' over like this and he was really', ' over like this and he was really', ' over like that and he was cool', ' over like this and he was cool', ' over like this and he was cool', ' over like that and he was crazy', ' over like this and he was crazy', ' over like this and he was crazy', ' over like that and he was cute', ' over like this and he was cute', ' over like this and he was cute', ' over like that and he was pretty', ' over like this and he was pretty', ' over like this and he was pretty', ' over like that and he was a', ' over like this and he was a', ' over like this and he was a', ' over like that and he was awesome', ' over like this and he was awesome', ' over like this and he was awesome', ' over like that and he was right', ' over like this and he was right', ' over like this and he was right', '(. yeah. He just spent', '\" he it, He just spent', '[, right... He just spent', '(. yeah. He just spends', '\" he it, He just spends', '[, right... He just spends', '(. yeah. He just wasted', '\" he it, He just wasted', '[, right... He just wasted', '(. yeah. He just spend', '\" he it, He just spend', '[, right... He just spend', '(. yeah. He just wastes', '\" he it, He just wastes', '[, right... He just wastes', '(. yeah. He just had', '\" he it, He just had', '[, right... He just had', '(. yeah. He just took', '\" he it, He just took', '[, right... He just took', '(. yeah. He just takes', '\" he it, He just takes', '[, right... He just takes', '(. yeah. He just has', '\" he it, He just has', '[, right... He just has', '(. yeah. He just spending', '\" he it, He just spending', '[, right... He just spending']\n"
     ]
    },
    {
     "name": "stderr",
     "output_type": "stream",
     "text": [
      " 23%|██▎       | 7/30 [00:03<00:12,  1.80it/s]"
     ]
    },
    {
     "name": "stdout",
     "output_type": "stream",
     "text": [
      "['For me, the,, and', 'For me, the,, he', 'For me, the,, I', ' over like this and he was like', ' over like that and he was like', ' over like this and he was like', '[, right... He just had', '(. yeah. He just took', '(. yeah. He just had']\n",
      "8\n",
      "[' over like that and he was like.', ' over like this and he was like.', ' over like this and he was like.', ' over like that and he was like!', ' over like this and he was like!', ' over like this and he was like!', ' over like that and he was like:', ' over like this and he was like:', ' over like this and he was like:', ' over like that and he was like?', ' over like this and he was like?', ' over like this and he was like?', ' over like that and he was like…', ' over like this and he was like…', ' over like this and he was like…', ' over like that and he was like...', ' over like this and he was like...', ' over like this and he was like...', ' over like that and he was like …', ' over like this and he was like …', ' over like this and he was like …', ' over like that and he was like.\"', ' over like this and he was like.\"', ' over like this and he was like.\"', ' over like that and he was like me', ' over like this and he was like me', ' over like this and he was like me', ' over like that and he was like cool', ' over like this and he was like cool', ' over like this and he was like cool', ' over and I flicked my underwear,', ' over and I flicked my underwear,', ' over and I flicked my underwear,', ' over and I flicked my underwear and', ' over and I flicked my underwear and', ' over and I flicked my underwear and', ' over and I flicked my underwear off', ' over and I flicked my underwear off', ' over and I flicked my underwear off', ' over and I flicked my underwear up', ' over and I flicked my underwear up', ' over and I flicked my underwear up', ' over and I flicked my underwear down', ' over and I flicked my underwear down', ' over and I flicked my underwear down', ' over and I flicked my underwear open', ' over and I flicked my underwear open', ' over and I flicked my underwear open', ' over and I flicked my underwear to', ' over and I flicked my underwear to', ' over and I flicked my underwear to', ' over and I flicked my underwear away', ' over and I flicked my underwear away', ' over and I flicked my underwear away', ' over and I flicked my underwear out', ' over and I flicked my underwear out', ' over and I flicked my underwear out', ' over and I flicked my underwear at', ' over and I flicked my underwear at', ' over and I flicked my underwear at']\n"
     ]
    },
    {
     "name": "stderr",
     "output_type": "stream",
     "text": [
      " 27%|██▋       | 8/30 [00:04<00:10,  2.06it/s]"
     ]
    },
    {
     "name": "stdout",
     "output_type": "stream",
     "text": [
      "[' over like that and he was like:', ' over like this and he was like:', ' over like this and he was like...', ' over and I flicked my underwear up', ' over and I flicked my underwear off', ' over and I flicked my underwear at']\n",
      "9\n",
      "[' over and I flicked my underwear up,', ' over and I flicked my underwear off,', ' over and I flicked my underwear at,', ' over and I flicked my underwear up the', ' over and I flicked my underwear off the', ' over and I flicked my underwear at the', ' over and I flicked my underwear up a', ' over and I flicked my underwear off a', ' over and I flicked my underwear at a', ' over and I flicked my underwear up and', ' over and I flicked my underwear off and', ' over and I flicked my underwear at and', ' over and I flicked my underwear up to', ' over and I flicked my underwear off to', ' over and I flicked my underwear at to', ' over and I flicked my underwear up at', ' over and I flicked my underwear off at', ' over and I flicked my underwear at at', ' over and I flicked my underwear up with', ' over and I flicked my underwear off with', ' over and I flicked my underwear at with', ' over and I flicked my underwear up revealing', ' over and I flicked my underwear off revealing', ' over and I flicked my underwear at revealing', ' over and I flicked my underwear up into', ' over and I flicked my underwear off into', ' over and I flicked my underwear at into', ' over and I flicked my underwear up in', ' over and I flicked my underwear off in', ' over and I flicked my underwear at in', 'C, a and the and master bike was', 'H- the R a the master bike was', 'P, and of, a master bike was', 'C, a and the and master bike is', 'H- the R a the master bike is', 'P, and of, a master bike is', 'C, a and the and master bike,', 'H- the R a the master bike,', 'P, and of, a master bike,', 'C, a and the and master bike as', 'H- the R a the master bike as', 'P, and of, a master bike as', 'C, a and the and master bike model', 'H- the R a the master bike model', 'P, and of, a master bike model', 'C, a and the and master bike rider', 'H- the R a the master bike rider', 'P, and of, a master bike rider', 'C, a and the and master bike last', 'H- the R a the master bike last', 'P, and of, a master bike last', 'C, a and the and master bike being', 'H- the R a the master bike being', 'P, and of, a master bike being', 'C, a and the and master bike not', 'H- the R a the master bike not', 'P, and of, a master bike not', 'C, a and the and master bike when', 'H- the R a the master bike when', 'P, and of, a master bike when']\n"
     ]
    },
    {
     "name": "stderr",
     "output_type": "stream",
     "text": [
      " 30%|███       | 9/30 [00:04<00:09,  2.28it/s]"
     ]
    },
    {
     "name": "stdout",
     "output_type": "stream",
     "text": [
      "[' over and I flicked my underwear up,', ' over and I flicked my underwear up to', ' over and I flicked my underwear up and', 'P, and of, a master bike when', 'C, a and the and master bike was', 'P, and of, a master bike was']\n",
      "10\n",
      "[' over and I flicked my underwear up, the', ' over and I flicked my underwear off to the', ' over and I flicked my underwear at and the', ' over and I flicked my underwear up, a', ' over and I flicked my underwear off to a', ' over and I flicked my underwear at and a', ' over and I flicked my underwear up,,', ' over and I flicked my underwear off to,', ' over and I flicked my underwear at and,', ' over and I flicked my underwear up, same', ' over and I flicked my underwear off to same', ' over and I flicked my underwear at and same', ' over and I flicked my underwear up, to', ' over and I flicked my underwear off to to', ' over and I flicked my underwear at and to', ' over and I flicked my underwear up, at', ' over and I flicked my underwear off to at', ' over and I flicked my underwear at and at', ' over and I flicked my underwear up, with', ' over and I flicked my underwear off to with', ' over and I flicked my underwear at and with', ' over and I flicked my underwear up, an', ' over and I flicked my underwear off to an', ' over and I flicked my underwear at and an', ' over and I flicked my underwear up, in', ' over and I flicked my underwear off to in', ' over and I flicked my underwear at and in', ' over and I flicked my underwear up, into', ' over and I flicked my underwear off to into', ' over and I flicked my underwear at and into']\n"
     ]
    },
    {
     "name": "stderr",
     "output_type": "stream",
     "text": [
      " 33%|███▎      | 10/30 [00:04<00:07,  2.69it/s]"
     ]
    },
    {
     "name": "stdout",
     "output_type": "stream",
     "text": [
      "[' over and I flicked my underwear up, the', ' over and I flicked my underwear up, to', ' over and I flicked my underwear up, a']\n",
      "11\n",
      "[' over me and put his hand in my butt and he', ' over me and put his hand in my butt and he', ' over me and put his hand in my butt and he', ' over me and put his hand in my butt and then', ' over me and put his hand in my butt and then', ' over me and put his hand in my butt and then', ' over me and put his hand in my butt and kind', ' over me and put his hand in my butt and kind', ' over me and put his hand in my butt and kind', ' over me and put his hand in my butt and and', ' over me and put his hand in my butt and and', ' over me and put his hand in my butt and and', ' over me and put his hand in my butt and so', ' over me and put his hand in my butt and so', ' over me and put his hand in my butt and so', ' over me and put his hand in my butt and just', ' over me and put his hand in my butt and just', ' over me and put his hand in my butt and just', ' over me and put his hand in my butt and started', ' over me and put his hand in my butt and started', ' over me and put his hand in my butt and started', ' over me and put his hand in my butt and I', ' over me and put his hand in my butt and I', ' over me and put his hand in my butt and I', ' over me and put his hand in my butt and kissed', ' over me and put his hand in my butt and kissed', ' over me and put his hand in my butt and kissed', ' over me and put his hand in my butt and his', ' over me and put his hand in my butt and his', ' over me and put his hand in my butt and his', 'II reaching for his genitals, and so, I', '\"He reaching for his genitals, and so, I', ' \" was reaching for his genitals, and so, I', 'II reaching for his genitals, and so, he', '\"He reaching for his genitals, and so, he', ' \" was reaching for his genitals, and so, he', 'II reaching for his genitals, and so, so', '\"He reaching for his genitals, and so, so', ' \" was reaching for his genitals, and so, so', 'II reaching for his genitals, and so, we', '\"He reaching for his genitals, and so, we', ' \" was reaching for his genitals, and so, we', 'II reaching for his genitals, and so, um', '\"He reaching for his genitals, and so, um', ' \" was reaching for his genitals, and so, um', 'II reaching for his genitals, and so, at', '\"He reaching for his genitals, and so, at', ' \" was reaching for his genitals, and so, at', 'II reaching for his genitals, and so, just', '\"He reaching for his genitals, and so, just', ' \" was reaching for his genitals, and so, just', 'II reaching for his genitals, and so, and', '\"He reaching for his genitals, and so, and', ' \" was reaching for his genitals, and so, and', 'II reaching for his genitals, and so, uh', '\"He reaching for his genitals, and so, uh', ' \" was reaching for his genitals, and so, uh', 'II reaching for his genitals, and so, \"', '\"He reaching for his genitals, and so, \"', ' \" was reaching for his genitals, and so, \"', ' over the sink and then was bending over one of the', ' over the sink and then was bending over one of the', ' over the sink and then was bending over one of the', ' over the sink and then was bending over one of his', ' over the sink and then was bending over one of his', ' over the sink and then was bending over one of his', ' over the sink and then was bending over one of my', ' over the sink and then was bending over one of my', ' over the sink and then was bending over one of my', ' over the sink and then was bending over one of those', ' over the sink and then was bending over one of those', ' over the sink and then was bending over one of those', ' over the sink and then was bending over one of our', ' over the sink and then was bending over one of our', ' over the sink and then was bending over one of our', ' over the sink and then was bending over one of these', ' over the sink and then was bending over one of these', ' over the sink and then was bending over one of these', ' over the sink and then was bending over one of their', ' over the sink and then was bending over one of their', ' over the sink and then was bending over one of their', ' over the sink and then was bending over one of a', ' over the sink and then was bending over one of a', ' over the sink and then was bending over one of a', ' over the sink and then was bending over one of her', ' over the sink and then was bending over one of her', ' over the sink and then was bending over one of her', ' over the sink and then was bending over one of them', ' over the sink and then was bending over one of them', ' over the sink and then was bending over one of them', ' over and I flicked my underwear up, the the', ' over and I flicked my underwear off to to the', ' over and I flicked my underwear at and a the', ' over and I flicked my underwear up, the a', ' over and I flicked my underwear off to to a', ' over and I flicked my underwear at and a a', ' over and I flicked my underwear up, the of', ' over and I flicked my underwear off to to of', ' over and I flicked my underwear at and a of', ' over and I flicked my underwear up, the same', ' over and I flicked my underwear off to to same', ' over and I flicked my underwear at and a same', ' over and I flicked my underwear up, the fever', ' over and I flicked my underwear off to to fever', ' over and I flicked my underwear at and a fever', ' over and I flicked my underwear up, the,', ' over and I flicked my underwear off to to,', ' over and I flicked my underwear at and a,', ' over and I flicked my underwear up, the new', ' over and I flicked my underwear off to to new', ' over and I flicked my underwear at and a new', ' over and I flicked my underwear up, the as', ' over and I flicked my underwear off to to as', ' over and I flicked my underwear at and a as', ' over and I flicked my underwear up, the one', ' over and I flicked my underwear off to to one', ' over and I flicked my underwear at and a one', ' over and I flicked my underwear up, the to', ' over and I flicked my underwear off to to to', ' over and I flicked my underwear at and a to', 'C, a and the and master bike when seen in', 'H- the R a the master bike was seen in', 'P, and of, a master bike was seen in', 'C, a and the and master bike when seen at', 'H- the R a the master bike was seen at', 'P, and of, a master bike was seen at', 'C, a and the and master bike when seen on', 'H- the R a the master bike was seen on', 'P, and of, a master bike was seen on', 'C, a and the and master bike when seen driving', 'H- the R a the master bike was seen driving', 'P, and of, a master bike was seen driving', 'C, a and the and master bike when seen riding', 'H- the R a the master bike was seen riding', 'P, and of, a master bike was seen riding', 'C, a and the and master bike when seen by', 'H- the R a the master bike was seen by', 'P, and of, a master bike was seen by', 'C, a and the and master bike when seen as', 'H- the R a the master bike was seen as', 'P, and of, a master bike was seen as', 'C, a and the and master bike when seen from', 'H- the R a the master bike was seen from', 'P, and of, a master bike was seen from', 'C, a and the and master bike when seen during', 'H- the R a the master bike was seen during', 'P, and of, a master bike was seen during', 'C, a and the and master bike when seen with', 'H- the R a the master bike was seen with', 'P, and of, a master bike was seen with']\n"
     ]
    },
    {
     "name": "stderr",
     "output_type": "stream",
     "text": [
      " 37%|███▋      | 11/30 [00:05<00:09,  2.10it/s]"
     ]
    },
    {
     "name": "stdout",
     "output_type": "stream",
     "text": [
      "[' over me and put his hand in my butt and he', ' over me and put his hand in my butt and he', ' over me and put his hand in my butt and he', 'II reaching for his genitals, and so, and', 'II reaching for his genitals, and so, he', 'II reaching for his genitals, and so, I', ' over the sink and then was bending over one of the', ' over the sink and then was bending over one of the', ' over the sink and then was bending over one of the', ' over and I flicked my underwear off to to the', ' over and I flicked my underwear up, the same', ' over and I flicked my underwear up, the one', 'P, and of, a master bike was seen riding', 'P, and of, a master bike was seen on', 'P, and of, a master bike was seen in']\n",
      "12\n",
      "[' over me and put his hand in my butt and he he', ' over me and put his hand in my butt and he he', ' over me and put his hand in my butt and he he', ' over me and put his hand in my butt and he started', ' over me and put his hand in my butt and he started', ' over me and put his hand in my butt and he started', ' over me and put his hand in my butt and he and', ' over me and put his hand in my butt and he and', ' over me and put his hand in my butt and he and', ' over me and put his hand in my butt and he just', ' over me and put his hand in my butt and he just', ' over me and put his hand in my butt and he just', ' over me and put his hand in my butt and he rub', ' over me and put his hand in my butt and he rub', ' over me and put his hand in my butt and he rub', ' over me and put his hand in my butt and he was', ' over me and put his hand in my butt and he was', ' over me and put his hand in my butt and he was', ' over me and put his hand in my butt and he then', ' over me and put his hand in my butt and he then', ' over me and put his hand in my butt and he then', ' over me and put his hand in my butt and he rubbed', ' over me and put his hand in my butt and he rubbed', ' over me and put his hand in my butt and he rubbed', ' over me and put his hand in my butt and he kept', ' over me and put his hand in my butt and he kept', ' over me and put his hand in my butt and he kept', ' over me and put his hand in my butt and he slowly', ' over me and put his hand in my butt and he slowly', ' over me and put his hand in my butt and he slowly', 'II reaching for his genitals, and so, and,', '\"He reaching for his genitals, and so, he,', ' \" was reaching for his genitals, and so, I,', 'II reaching for his genitals, and so, and kind', '\"He reaching for his genitals, and so, he kind', ' \" was reaching for his genitals, and so, I kind', 'II reaching for his genitals, and so, and think', '\"He reaching for his genitals, and so, he think', ' \" was reaching for his genitals, and so, I think', 'II reaching for his genitals, and so, and sort', '\"He reaching for his genitals, and so, he sort', ' \" was reaching for his genitals, and so, I sort', 'II reaching for his genitals, and so, and guess', '\"He reaching for his genitals, and so, he guess', ' \" was reaching for his genitals, and so, I guess', 'II reaching for his genitals, and so, and try', '\"He reaching for his genitals, and so, he try', ' \" was reaching for his genitals, and so, I try', 'II reaching for his genitals, and so, and have', '\"He reaching for his genitals, and so, he have', ' \" was reaching for his genitals, and so, I have', 'II reaching for his genitals, and so, and I', '\"He reaching for his genitals, and so, he I', ' \" was reaching for his genitals, and so, I I', \"II reaching for his genitals, and so, and'm\", '\"He reaching for his genitals, and so, he\\'m', ' \" was reaching for his genitals, and so, I\\'m', 'II reaching for his genitals, and so, and just', '\"He reaching for his genitals, and so, he just', ' \" was reaching for his genitals, and so, I just', 'But the sink. It was dirty. The whole place was', 'In the sink. It was dirty. The whole place was', 'And the sink. It was dirty. The whole place was', 'But the sink. It was dirty. The whole place looked', 'In the sink. It was dirty. The whole place looked', 'And the sink. It was dirty. The whole place looked', 'But the sink. It was dirty. The whole place.', 'In the sink. It was dirty. The whole place.', 'And the sink. It was dirty. The whole place.', 'But the sink. It was dirty. The whole place smelled', 'In the sink. It was dirty. The whole place smelled', 'And the sink. It was dirty. The whole place smelled', 'But the sink. It was dirty. The whole place dirty', 'In the sink. It was dirty. The whole place dirty', 'And the sink. It was dirty. The whole place dirty', 'But the sink. It was dirty. The whole place,', 'In the sink. It was dirty. The whole place,', 'And the sink. It was dirty. The whole place,', 'But the sink. It was dirty. The whole place got', 'In the sink. It was dirty. The whole place got', 'And the sink. It was dirty. The whole place got', 'But the sink. It was dirty. The whole place is', 'In the sink. It was dirty. The whole place is', 'And the sink. It was dirty. The whole place is', 'But the sink. It was dirty. The whole place r', 'In the sink. It was dirty. The whole place r', 'And the sink. It was dirty. The whole place r', 'But the sink. It was dirty. The whole place had', 'In the sink. It was dirty. The whole place had', 'And the sink. It was dirty. The whole place had', ' over the sink and then was bending over one of the toilet', ' over the sink and then was bending over one of the toilet', ' over the sink and then was bending over one of the toilet', ' over the sink and then was bending over one of the shower', ' over the sink and then was bending over one of the shower', ' over the sink and then was bending over one of the shower', ' over the sink and then was bending over one of the bathroom', ' over the sink and then was bending over one of the bathroom', ' over the sink and then was bending over one of the bathroom', ' over the sink and then was bending over one of the kitchen', ' over the sink and then was bending over one of the kitchen', ' over the sink and then was bending over one of the kitchen', ' over the sink and then was bending over one of the other', ' over the sink and then was bending over one of the other', ' over the sink and then was bending over one of the other', ' over the sink and then was bending over one of the bath', ' over the sink and then was bending over one of the bath', ' over the sink and then was bending over one of the bath', ' over the sink and then was bending over one of the washing', ' over the sink and then was bending over one of the washing', ' over the sink and then was bending over one of the washing', ' over the sink and then was bending over one of the cup', ' over the sink and then was bending over one of the cup', ' over the sink and then was bending over one of the cup', ' over the sink and then was bending over one of the sink', ' over the sink and then was bending over one of the sink', ' over the sink and then was bending over one of the sink', ' over the sink and then was bending over one of the tub', ' over the sink and then was bending over one of the tub', ' over the sink and then was bending over one of the tub', '(. yeah. He just had all this time going like', '\" he it, He just took all this time going like', '[, right... He just had all this time going like', '(. yeah. He just had all this time going around', '\" he it, He just took all this time going around', '[, right... He just had all this time going around', '(. yeah. He just had all this time going through', '\" he it, He just took all this time going through', '[, right... He just had all this time going through', '(. yeah. He just had all this time going to', '\" he it, He just took all this time going to', '[, right... He just had all this time going to', '(. yeah. He just had all this time going as', '\" he it, He just took all this time going as', '[, right... He just had all this time going as', '(. yeah. He just had all this time going after', '\" he it, He just took all this time going after', '[, right... He just had all this time going after', '(. yeah. He just had all this time going at', '\" he it, He just took all this time going at', '[, right... He just had all this time going at', '(. yeah. He just had all this time going behind', '\" he it, He just took all this time going behind', '[, right... He just had all this time going behind', '(. yeah. He just had all this time going from', '\" he it, He just took all this time going from', '[, right... He just had all this time going from', '(. yeah. He just had all this time going over', '\" he it, He just took all this time going over', '[, right... He just had all this time going over', 'C, a and the and master bike when seen riding the', 'H- the R a the master bike was seen on the', 'P, and of, a master bike was seen in the', 'C, a and the and master bike when seen riding a', 'H- the R a the master bike was seen on a', 'P, and of, a master bike was seen in a', 'C, a and the and master bike when seen riding in', 'H- the R a the master bike was seen on in', 'P, and of, a master bike was seen in in', 'C, a and the and master bike when seen riding at', 'H- the R a the master bike was seen on at', 'P, and of, a master bike was seen in at', 'C, a and the and master bike when seen riding on', 'H- the R a the master bike was seen on on', 'P, and of, a master bike was seen in on', 'C, a and the and master bike when seen riding of', 'H- the R a the master bike was seen on of', 'P, and of, a master bike was seen in of', 'C, a and the and master bike when seen riding by', 'H- the R a the master bike was seen on by', 'P, and of, a master bike was seen in by', 'C, a and the and master bike when seen riding this', 'H- the R a the master bike was seen on this', 'P, and of, a master bike was seen in this', 'C, a and the and master bike when seen riding to', 'H- the R a the master bike was seen on to', 'P, and of, a master bike was seen in to', 'C, a and the and master bike when seen riding some', 'H- the R a the master bike was seen on some', 'P, and of, a master bike was seen in some']\n"
     ]
    },
    {
     "name": "stderr",
     "output_type": "stream",
     "text": [
      " 40%|████      | 12/30 [00:06<00:10,  1.66it/s]"
     ]
    },
    {
     "name": "stdout",
     "output_type": "stream",
     "text": [
      "[' over me and put his hand in my butt and he was', ' over me and put his hand in my butt and he was', ' over me and put his hand in my butt and he was', 'II reaching for his genitals, and so, and,', 'II reaching for his genitals, and so, and I', 'II reaching for his genitals, and so, and just', 'In the sink. It was dirty. The whole place smelled', 'In the sink. It was dirty. The whole place was', 'In the sink. It was dirty. The whole place.', ' over the sink and then was bending over one of the toilet', ' over the sink and then was bending over one of the toilet', ' over the sink and then was bending over one of the toilet', '[, right... He just had all this time going through', '[, right... He just had all this time going to', '[, right... He just had all this time going over', 'P, and of, a master bike was seen in a', 'P, and of, a master bike was seen in the', 'P, and of, a master bike was seen in this']\n",
      "13\n",
      "[' over me and put his hand in my butt and he was rubbed', ' over me and put his hand in my butt and he was rubbed', ' over me and put his hand in my butt and he was rubbed', ' over me and put his hand in my butt and he was ran', ' over me and put his hand in my butt and he was ran', ' over me and put his hand in my butt and he was ran', ' over me and put his hand in my butt and he was rubbing', ' over me and put his hand in my butt and he was rubbing', ' over me and put his hand in my butt and he was rubbing', ' over me and put his hand in my butt and he was put', ' over me and put his hand in my butt and he was put', ' over me and put his hand in my butt and he was put', ' over me and put his hand in my butt and he was moved', ' over me and put his hand in my butt and he was moved', ' over me and put his hand in my butt and he was moved', ' over me and put his hand in my butt and he wased', ' over me and put his hand in my butt and he wased', ' over me and put his hand in my butt and he wased', ' over me and put his hand in my butt and he was rub', ' over me and put his hand in my butt and he was rub', ' over me and put his hand in my butt and he was rub', ' over me and put his hand in my butt and he was running', ' over me and put his hand in my butt and he was running', ' over me and put his hand in my butt and he was running', ' over me and put his hand in my butt and he was moving', ' over me and put his hand in my butt and he was moving', ' over me and put his hand in my butt and he was moving', ' over me and put his hand in my butt and he wasicked', ' over me and put his hand in my butt and he wasicked', ' over me and put his hand in my butt and he wasicked', 'II reaching for his genitals, and so, and, I', '\"He reaching for his genitals, and so, he I I', ' \" was reaching for his genitals, and so, I just I', 'II reaching for his genitals, and so, and, to', '\"He reaching for his genitals, and so, he I to', ' \" was reaching for his genitals, and so, I just to', 'II reaching for his genitals, and so, and,,', '\"He reaching for his genitals, and so, he I,', ' \" was reaching for his genitals, and so, I just,', 'II reaching for his genitals, and so, and, he', '\"He reaching for his genitals, and so, he I he', ' \" was reaching for his genitals, and so, I just he', 'II reaching for his genitals, and so, and, and', '\"He reaching for his genitals, and so, he I and', ' \" was reaching for his genitals, and so, I just and', 'II reaching for his genitals, and so, and, of', '\"He reaching for his genitals, and so, he I of', ' \" was reaching for his genitals, and so, I just of', 'II reaching for his genitals, and so, and, just', '\"He reaching for his genitals, and so, he I just', ' \" was reaching for his genitals, and so, I just just', 'II reaching for his genitals, and so, and, him', '\"He reaching for his genitals, and so, he I him', ' \" was reaching for his genitals, and so, I just him', \"II reaching for his genitals, and so, and,'t\", '\"He reaching for his genitals, and so, he I\\'t', ' \" was reaching for his genitals, and so, I just\\'t', 'II reaching for his genitals, and so, and, me', '\"He reaching for his genitals, and so, he I me', ' \" was reaching for his genitals, and so, I just me', 'But the sink. It was dirty. The whole place smelled dirty', 'In the sink. It was dirty. The whole place was dirty', 'And the sink. It was dirty. The whole place. dirty', 'But the sink. It was dirty. The whole place smelled.', 'In the sink. It was dirty. The whole place was.', 'And the sink. It was dirty. The whole place..', 'But the sink. It was dirty. The whole place smelled filthy', 'In the sink. It was dirty. The whole place was filthy', 'And the sink. It was dirty. The whole place. filthy', 'But the sink. It was dirty. The whole place smelled,', 'In the sink. It was dirty. The whole place was,', 'And the sink. It was dirty. The whole place.,', 'But the sink. It was dirty. The whole place smelled Dirty', 'In the sink. It was dirty. The whole place was Dirty', 'And the sink. It was dirty. The whole place. Dirty', 'But the sink. It was dirty. The whole place smelled dirt', 'In the sink. It was dirty. The whole place was dirt', 'And the sink. It was dirty. The whole place. dirt', 'But the sink. It was dirty. The whole place smelled It', 'In the sink. It was dirty. The whole place was It', 'And the sink. It was dirty. The whole place. It', 'But the sink. It was dirty. The whole place smelled it', 'In the sink. It was dirty. The whole place was it', 'And the sink. It was dirty. The whole place. it', 'But the sink. It was dirty. The whole place smelled up', 'In the sink. It was dirty. The whole place was up', 'And the sink. It was dirty. The whole place. up', 'But the sink. It was dirty. The whole place smelled just', 'In the sink. It was dirty. The whole place was just', 'And the sink. It was dirty. The whole place. just', ' over the sink and then was bending over one of the toilet tables', ' over the sink and then was bending over one of the toilet tables', ' over the sink and then was bending over one of the toilet tables', ' over the sink and then was bending over one of the toilet chairs', ' over the sink and then was bending over one of the toilet chairs', ' over the sink and then was bending over one of the toilet chairs', ' over the sink and then was bending over one of the toileters', ' over the sink and then was bending over one of the toileters', ' over the sink and then was bending over one of the toileters', ' over the sink and then was bending over one of the toiletboards', ' over the sink and then was bending over one of the toiletboards', ' over the sink and then was bending over one of the toiletboards', ' over the sink and then was bending over one of the toilets', ' over the sink and then was bending over one of the toilets', ' over the sink and then was bending over one of the toilets', ' over the sink and then was bending over one of the toilet sinks', ' over the sink and then was bending over one of the toilet sinks', ' over the sink and then was bending over one of the toilet sinks', ' over the sink and then was bending over one of the toilet cabinets', ' over the sink and then was bending over one of the toilet cabinets', ' over the sink and then was bending over one of the toilet cabinets', ' over the sink and then was bending over one of the toiletes', ' over the sink and then was bending over one of the toiletes', ' over the sink and then was bending over one of the toiletes', ' over the sink and then was bending over one of the toiletools', ' over the sink and then was bending over one of the toiletools', ' over the sink and then was bending over one of the toiletools', ' over the sink and then was bending over one of the toilet dishes', ' over the sink and then was bending over one of the toilet dishes', ' over the sink and then was bending over one of the toilet dishes', 'C, a and the and master bike when seen riding a in', 'H- the R a the master bike was seen on the in', 'P, and of, a master bike was seen in this in', 'C, a and the and master bike when seen riding a the', 'H- the R a the master bike was seen on the the', 'P, and of, a master bike was seen in this the', 'C, a and the and master bike when seen riding a,', 'H- the R a the master bike was seen on the,', 'P, and of, a master bike was seen in this,', 'C, a and the and master bike when seen riding a at', 'H- the R a the master bike was seen on the at', 'P, and of, a master bike was seen in this at', 'C, a and the and master bike when seen riding a of', 'H- the R a the master bike was seen on the of', 'P, and of, a master bike was seen in this of', 'C, a and the and master bike when seen riding a-', 'H- the R a the master bike was seen on the-', 'P, and of, a master bike was seen in this-', 'C, a and the and master bike when seen riding a on', 'H- the R a the master bike was seen on the on', 'P, and of, a master bike was seen in this on', 'C, a and the and master bike when seen riding a and', 'H- the R a the master bike was seen on the and', 'P, and of, a master bike was seen in this and', 'C, a and the and master bike when seen riding a a', 'H- the R a the master bike was seen on the a', 'P, and of, a master bike was seen in this a', 'C, a and the and master bike when seen riding a.', 'H- the R a the master bike was seen on the.', 'P, and of, a master bike was seen in this.']\n"
     ]
    },
    {
     "name": "stderr",
     "output_type": "stream",
     "text": [
      " 43%|████▎     | 13/30 [00:07<00:11,  1.50it/s]"
     ]
    },
    {
     "name": "stdout",
     "output_type": "stream",
     "text": [
      "[' over me and put his hand in my butt and he was running', ' over me and put his hand in my butt and he was moving', ' over me and put his hand in my butt and he was moving', 'II reaching for his genitals, and so, and, just', ' \" was reaching for his genitals, and so, I just,', 'II reaching for his genitals, and so, and,,', 'In the sink. It was dirty. The whole place was up', 'In the sink. It was dirty. The whole place was,', 'In the sink. It was dirty. The whole place was dirt', ' over the sink and then was bending over one of the toilet cabinets', ' over the sink and then was bending over one of the toilet sinks', ' over the sink and then was bending over one of the toilet sinks', 'P, and of, a master bike was seen in this of', 'P, and of, a master bike was seen in this-', 'P, and of, a master bike was seen in this a']\n",
      "14\n",
      "['II reaching for his genitals, and so, and, just get', '\"He reaching for his genitals, and so, he I, get', ' \" was reaching for his genitals, and so, I just, get', 'II reaching for his genitals, and so, and, just pull', '\"He reaching for his genitals, and so, he I, pull', ' \" was reaching for his genitals, and so, I just, pull', 'II reaching for his genitals, and so, and, just push', '\"He reaching for his genitals, and so, he I, push', ' \" was reaching for his genitals, and so, I just, push', 'II reaching for his genitals, and so, and, just gets', '\"He reaching for his genitals, and so, he I, gets', ' \" was reaching for his genitals, and so, I just, gets', 'II reaching for his genitals, and so, and, just leave', '\"He reaching for his genitals, and so, he I, leave', ' \" was reaching for his genitals, and so, I just, leave', 'II reaching for his genitals, and so, and, just pulls', '\"He reaching for his genitals, and so, he I, pulls', ' \" was reaching for his genitals, and so, I just, pulls', 'II reaching for his genitals, and so, and, just hold', '\"He reaching for his genitals, and so, he I, hold', ' \" was reaching for his genitals, and so, I just, hold', 'II reaching for his genitals, and so, and, just kick', '\"He reaching for his genitals, and so, he I, kick', ' \" was reaching for his genitals, and so, I just, kick', 'II reaching for his genitals, and so, and, just got', '\"He reaching for his genitals, and so, he I, got', ' \" was reaching for his genitals, and so, I just, got', 'II reaching for his genitals, and so, and, just pushes', '\"He reaching for his genitals, and so, he I, pushes', ' \" was reaching for his genitals, and so, I just, pushes', 'But the sink. It was dirty. The whole place smelled up,', 'In the sink. It was dirty. The whole place was,,', 'And the sink. It was dirty. The whole place. dirt,', 'But the sink. It was dirty. The whole place smelled up except', 'In the sink. It was dirty. The whole place was, except', 'And the sink. It was dirty. The whole place. dirt except', 'But the sink. It was dirty. The whole place smelled up between', 'In the sink. It was dirty. The whole place was, between', 'And the sink. It was dirty. The whole place. dirt between', 'But the sink. It was dirty. The whole place smelled up just', 'In the sink. It was dirty. The whole place was, just', 'And the sink. It was dirty. The whole place. dirt just', 'But the sink. It was dirty. The whole place smelled up with', 'In the sink. It was dirty. The whole place was, with', 'And the sink. It was dirty. The whole place. dirt with', 'But the sink. It was dirty. The whole place smelled up Just', 'In the sink. It was dirty. The whole place was, Just', 'And the sink. It was dirty. The whole place. dirt Just', 'But the sink. It was dirty. The whole place smelled up Between', 'In the sink. It was dirty. The whole place was, Between', 'And the sink. It was dirty. The whole place. dirt Between', 'But the sink. It was dirty. The whole place smelled up from', 'In the sink. It was dirty. The whole place was, from', 'And the sink. It was dirty. The whole place. dirt from', 'But the sink. It was dirty. The whole place smelled up:', 'In the sink. It was dirty. The whole place was,:', 'And the sink. It was dirty. The whole place. dirt:', 'But the sink. It was dirty. The whole place smelled up but', 'In the sink. It was dirty. The whole place was, but', 'And the sink. It was dirty. The whole place. dirt but', 'C, a and the and master bike when seen riding a of in', 'H- the R a the master bike was seen on the- in', 'P, and of, a master bike was seen in this a in', 'C, a and the and master bike when seen riding a of,', 'H- the R a the master bike was seen on the-,', 'P, and of, a master bike was seen in this a,', 'C, a and the and master bike when seen riding a of of', 'H- the R a the master bike was seen on the- of', 'P, and of, a master bike was seen in this a of', 'C, a and the and master bike when seen riding a of at', 'H- the R a the master bike was seen on the- at', 'P, and of, a master bike was seen in this a at', 'C, a and the and master bike when seen riding a of the', 'H- the R a the master bike was seen on the- the', 'P, and of, a master bike was seen in this a the', 'C, a and the and master bike when seen riding a of and', 'H- the R a the master bike was seen on the- and', 'P, and of, a master bike was seen in this a and', 'C, a and the and master bike when seen riding a of-', 'H- the R a the master bike was seen on the--', 'P, and of, a master bike was seen in this a-', 'C, a and the and master bike when seen riding a of.', 'H- the R a the master bike was seen on the-.', 'P, and of, a master bike was seen in this a.', 'C, a and the and master bike when seen riding a of on', 'H- the R a the master bike was seen on the- on', 'P, and of, a master bike was seen in this a on', 'C, a and the and master bike when seen riding a of a', 'H- the R a the master bike was seen on the- a', 'P, and of, a master bike was seen in this a a']\n"
     ]
    },
    {
     "name": "stderr",
     "output_type": "stream",
     "text": [
      " 47%|████▋     | 14/30 [00:07<00:09,  1.60it/s]"
     ]
    },
    {
     "name": "stdout",
     "output_type": "stream",
     "text": [
      "[' \" was reaching for his genitals, and so, I just, get', ' \" was reaching for his genitals, and so, I just, got', ' \" was reaching for his genitals, and so, I just, hold', 'In the sink. It was dirty. The whole place was, just', 'In the sink. It was dirty. The whole place was, but', 'In the sink. It was dirty. The whole place was, except', 'P, and of, a master bike was seen in this a.', 'P, and of, a master bike was seen in this a,', 'P, and of, a master bike was seen in this a and']\n",
      "15\n",
      "['C, a and the and master bike when seen riding a of. in', 'H- the R a the master bike was seen on the-, in', 'P, and of, a master bike was seen in this a and in', 'C, a and the and master bike when seen riding a of.,', 'H- the R a the master bike was seen on the-,,', 'P, and of, a master bike was seen in this a and,', 'C, a and the and master bike when seen riding a of. the', 'H- the R a the master bike was seen on the-, the', 'P, and of, a master bike was seen in this a and the', 'C, a and the and master bike when seen riding a of. at', 'H- the R a the master bike was seen on the-, at', 'P, and of, a master bike was seen in this a and at', 'C, a and the and master bike when seen riding a of. of', 'H- the R a the master bike was seen on the-, of', 'P, and of, a master bike was seen in this a and of', 'C, a and the and master bike when seen riding a of..', 'H- the R a the master bike was seen on the-,.', 'P, and of, a master bike was seen in this a and.', 'C, a and the and master bike when seen riding a of. and', 'H- the R a the master bike was seen on the-, and', 'P, and of, a master bike was seen in this a and and', 'C, a and the and master bike when seen riding a of. on', 'H- the R a the master bike was seen on the-, on', 'P, and of, a master bike was seen in this a and on', 'C, a and the and master bike when seen riding a of.-', 'H- the R a the master bike was seen on the-,-', 'P, and of, a master bike was seen in this a and-', 'C, a and the and master bike when seen riding a of. a', 'H- the R a the master bike was seen on the-, a', 'P, and of, a master bike was seen in this a and a']\n"
     ]
    },
    {
     "name": "stderr",
     "output_type": "stream",
     "text": [
      " 50%|█████     | 15/30 [00:07<00:07,  1.99it/s]"
     ]
    },
    {
     "name": "stdout",
     "output_type": "stream",
     "text": [
      "['P, and of, a master bike was seen in this a and.', 'P, and of, a master bike was seen in this a and the', 'P, and of, a master bike was seen in this a and,']\n",
      "16\n",
      "['C, a and the and master bike when seen riding a of..,', 'H- the R a the master bike was seen on the-, the,', 'P, and of, a master bike was seen in this a and,,', 'C, a and the and master bike when seen riding a of.. in', 'H- the R a the master bike was seen on the-, the in', 'P, and of, a master bike was seen in this a and, in', 'C, a and the and master bike when seen riding a of...', 'H- the R a the master bike was seen on the-, the.', 'P, and of, a master bike was seen in this a and,.', 'C, a and the and master bike when seen riding a of.. the', 'H- the R a the master bike was seen on the-, the the', 'P, and of, a master bike was seen in this a and, the', 'C, a and the and master bike when seen riding a of.. of', 'H- the R a the master bike was seen on the-, the of', 'P, and of, a master bike was seen in this a and, of', 'C, a and the and master bike when seen riding a of.. and', 'H- the R a the master bike was seen on the-, the and', 'P, and of, a master bike was seen in this a and, and', 'C, a and the and master bike when seen riding a of..-', 'H- the R a the master bike was seen on the-, the-', 'P, and of, a master bike was seen in this a and,-', 'C, a and the and master bike when seen riding a of.. on', 'H- the R a the master bike was seen on the-, the on', 'P, and of, a master bike was seen in this a and, on', 'C, a and the and master bike when seen riding a of.. at', 'H- the R a the master bike was seen on the-, the at', 'P, and of, a master bike was seen in this a and, at', 'C, a and the and master bike when seen riding a of.. a', 'H- the R a the master bike was seen on the-, the a', 'P, and of, a master bike was seen in this a and, a']\n"
     ]
    },
    {
     "name": "stderr",
     "output_type": "stream",
     "text": [
      " 53%|█████▎    | 16/30 [00:08<00:05,  2.41it/s]"
     ]
    },
    {
     "name": "stdout",
     "output_type": "stream",
     "text": [
      "['P, and of, a master bike was seen in this a and, the', 'P, and of, a master bike was seen in this a and,,', 'P, and of, a master bike was seen in this a and, and']\n",
      "17\n",
      "[' over the sink and then was bending over one of the toilet cabinets and being a little', ' over the sink and then was bending over one of the toilet sinks and being a little', ' over the sink and then was bending over one of the toilet sinks and being a little', ' over the sink and then was bending over one of the toilet cabinets and being a bit', ' over the sink and then was bending over one of the toilet sinks and being a bit', ' over the sink and then was bending over one of the toilet sinks and being a bit', ' over the sink and then was bending over one of the toilet cabinets and being a big', ' over the sink and then was bending over one of the toilet sinks and being a big', ' over the sink and then was bending over one of the toilet sinks and being a big', ' over the sink and then was bending over one of the toilet cabinets and being a total', ' over the sink and then was bending over one of the toilet sinks and being a total', ' over the sink and then was bending over one of the toilet sinks and being a total', ' over the sink and then was bending over one of the toilet cabinets and being a real', ' over the sink and then was bending over one of the toilet sinks and being a real', ' over the sink and then was bending over one of the toilet sinks and being a real', ' over the sink and then was bending over one of the toilet cabinets and being a complete', ' over the sink and then was bending over one of the toilet sinks and being a complete', ' over the sink and then was bending over one of the toilet sinks and being a complete', ' over the sink and then was bending over one of the toilet cabinets and being a lot', ' over the sink and then was bending over one of the toilet sinks and being a lot', ' over the sink and then was bending over one of the toilet sinks and being a lot', ' over the sink and then was bending over one of the toilet cabinets and being a good', ' over the sink and then was bending over one of the toilet sinks and being a good', ' over the sink and then was bending over one of the toilet sinks and being a good', ' over the sink and then was bending over one of the toilet cabinets and being a d', ' over the sink and then was bending over one of the toilet sinks and being a d', ' over the sink and then was bending over one of the toilet sinks and being a d', ' over the sink and then was bending over one of the toilet cabinets and being a huge', ' over the sink and then was bending over one of the toilet sinks and being a huge', ' over the sink and then was bending over one of the toilet sinks and being a huge', 'C, a and the and master bike when seen riding a of.. the.', 'H- the R a the master bike was seen on the-, the,.', 'P, and of, a master bike was seen in this a and, and.', 'C, a and the and master bike when seen riding a of.. the,', 'H- the R a the master bike was seen on the-, the,,', 'P, and of, a master bike was seen in this a and, and,', 'C, a and the and master bike when seen riding a of.. the in', 'H- the R a the master bike was seen on the-, the, in', 'P, and of, a master bike was seen in this a and, and in', 'C, a and the and master bike when seen riding a of.. thecom', 'H- the R a the master bike was seen on the-, the,com', 'P, and of, a master bike was seen in this a and, andcom', 'C, a and the and master bike when seen riding a of.. the)', 'H- the R a the master bike was seen on the-, the,)', 'P, and of, a master bike was seen in this a and, and)', 'C, a and the and master bike when seen riding a of.. the the', 'H- the R a the master bike was seen on the-, the, the', 'P, and of, a master bike was seen in this a and, and the', 'C, a and the and master bike when seen riding a of.. the of', 'H- the R a the master bike was seen on the-, the, of', 'P, and of, a master bike was seen in this a and, and of', 'C, a and the and master bike when seen riding a of.. the:', 'H- the R a the master bike was seen on the-, the,:', 'P, and of, a master bike was seen in this a and, and:', 'C, a and the and master bike when seen riding a of.. the and', 'H- the R a the master bike was seen on the-, the, and', 'P, and of, a master bike was seen in this a and, and and', 'C, a and the and master bike when seen riding a of.. the-', 'H- the R a the master bike was seen on the-, the,-', 'P, and of, a master bike was seen in this a and, and-']\n"
     ]
    },
    {
     "name": "stderr",
     "output_type": "stream",
     "text": [
      " 57%|█████▋    | 17/30 [00:08<00:05,  2.48it/s]"
     ]
    },
    {
     "name": "stdout",
     "output_type": "stream",
     "text": [
      "[' over the sink and then was bending over one of the toilet sinks and being a good', ' over the sink and then was bending over one of the toilet sinks and being a big', ' over the sink and then was bending over one of the toilet sinks and being a big', 'P, and of, a master bike was seen in this a and, and-', 'P, and of, a master bike was seen in this a and, and and', 'P, and of, a master bike was seen in this a and, and in']\n",
      "18\n",
      "[' over the sink and then was bending over one of the toilet cabinets and being a good man', ' over the sink and then was bending over one of the toilet sinks and being a big man', ' over the sink and then was bending over one of the toilet sinks and being a big man', ' over the sink and then was bending over one of the toilet cabinets and being a good boy', ' over the sink and then was bending over one of the toilet sinks and being a big boy', ' over the sink and then was bending over one of the toilet sinks and being a big boy', ' over the sink and then was bending over one of the toilet cabinets and being a good guy', ' over the sink and then was bending over one of the toilet sinks and being a big guy', ' over the sink and then was bending over one of the toilet sinks and being a big guy', ' over the sink and then was bending over one of the toilet cabinets and being a good dick', ' over the sink and then was bending over one of the toilet sinks and being a big dick', ' over the sink and then was bending over one of the toilet sinks and being a big dick', ' over the sink and then was bending over one of the toilet cabinets and being a good uncomfortable', ' over the sink and then was bending over one of the toilet sinks and being a big uncomfortable', ' over the sink and then was bending over one of the toilet sinks and being a big uncomfortable', ' over the sink and then was bending over one of the toilet cabinets and being a goodo', ' over the sink and then was bending over one of the toilet sinks and being a bigo', ' over the sink and then was bending over one of the toilet sinks and being a bigo', ' over the sink and then was bending over one of the toilet cabinets and being a gooder', ' over the sink and then was bending over one of the toilet sinks and being a biger', ' over the sink and then was bending over one of the toilet sinks and being a biger', ' over the sink and then was bending over one of the toilet cabinets and being a good goofy', ' over the sink and then was bending over one of the toilet sinks and being a big goofy', ' over the sink and then was bending over one of the toilet sinks and being a big goofy', ' over the sink and then was bending over one of the toilet cabinets and being a good tight', ' over the sink and then was bending over one of the toilet sinks and being a big tight', ' over the sink and then was bending over one of the toilet sinks and being a big tight', ' over the sink and then was bending over one of the toilet cabinets and being a goodimp', ' over the sink and then was bending over one of the toilet sinks and being a bigimp', ' over the sink and then was bending over one of the toilet sinks and being a bigimp', 'C, a and the and master bike when seen riding a of.. the-.', 'H- the R a the master bike was seen on the-, the, and.', 'P, and of, a master bike was seen in this a and, and in.', 'C, a and the and master bike when seen riding a of.. the-)', 'H- the R a the master bike was seen on the-, the, and)', 'P, and of, a master bike was seen in this a and, and in)', 'C, a and the and master bike when seen riding a of.. the-]', 'H- the R a the master bike was seen on the-, the, and]', 'P, and of, a master bike was seen in this a and, and in]', 'C, a and the and master bike when seen riding a of.. the-com', 'H- the R a the master bike was seen on the-, the, andcom', 'P, and of, a master bike was seen in this a and, and incom', 'C, a and the and master bike when seen riding a of.. the-:', 'H- the R a the master bike was seen on the-, the, and:', 'P, and of, a master bike was seen in this a and, and in:', 'C, a and the and master bike when seen riding a of.. the- ]', 'H- the R a the master bike was seen on the-, the, and ]', 'P, and of, a master bike was seen in this a and, and in ]', 'C, a and the and master bike when seen riding a of.. the-,', 'H- the R a the master bike was seen on the-, the, and,', 'P, and of, a master bike was seen in this a and, and in,', 'C, a and the and master bike when seen riding a of.. the-).', 'H- the R a the master bike was seen on the-, the, and).', 'P, and of, a master bike was seen in this a and, and in).', 'C, a and the and master bike when seen riding a of.. the- 2016', 'H- the R a the master bike was seen on the-, the, and 2016', 'P, and of, a master bike was seen in this a and, and in 2016', 'C, a and the and master bike when seen riding a of.. the-!', 'H- the R a the master bike was seen on the-, the, and!', 'P, and of, a master bike was seen in this a and, and in!']\n"
     ]
    },
    {
     "name": "stderr",
     "output_type": "stream",
     "text": [
      " 60%|██████    | 18/30 [00:09<00:05,  2.39it/s]"
     ]
    },
    {
     "name": "stdout",
     "output_type": "stream",
     "text": [
      "[' over the sink and then was bending over one of the toilet cabinets and being a good boy', ' over the sink and then was bending over one of the toilet sinks and being a big boy', ' over the sink and then was bending over one of the toilet sinks and being a big boy', 'P, and of, a master bike was seen in this a and, and in).', 'P, and of, a master bike was seen in this a and, and in:', 'P, and of, a master bike was seen in this a and, and in!']\n",
      "19\n",
      "['But the sink. It was dirty. The whole place smelled up just the sink and the toilet', 'In the sink. It was dirty. The whole place was, but the sink and the toilet', 'And the sink. It was dirty. The whole place. dirt except the sink and the toilet', 'But the sink. It was dirty. The whole place smelled up just the sink and the floor', 'In the sink. It was dirty. The whole place was, but the sink and the floor', 'And the sink. It was dirty. The whole place. dirt except the sink and the floor', 'But the sink. It was dirty. The whole place smelled up just the sink and the drain', 'In the sink. It was dirty. The whole place was, but the sink and the drain', 'And the sink. It was dirty. The whole place. dirt except the sink and the drain', 'But the sink. It was dirty. The whole place smelled up just the sink and the counter', 'In the sink. It was dirty. The whole place was, but the sink and the counter', 'And the sink. It was dirty. The whole place. dirt except the sink and the counter', 'But the sink. It was dirty. The whole place smelled up just the sink and the carpet', 'In the sink. It was dirty. The whole place was, but the sink and the carpet', 'And the sink. It was dirty. The whole place. dirt except the sink and the carpet', 'But the sink. It was dirty. The whole place smelled up just the sink and the dishes', 'In the sink. It was dirty. The whole place was, but the sink and the dishes', 'And the sink. It was dirty. The whole place. dirt except the sink and the dishes', 'But the sink. It was dirty. The whole place smelled up just the sink and the tile', 'In the sink. It was dirty. The whole place was, but the sink and the tile', 'And the sink. It was dirty. The whole place. dirt except the sink and the tile', 'But the sink. It was dirty. The whole place smelled up just the sink and the water', 'In the sink. It was dirty. The whole place was, but the sink and the water', 'And the sink. It was dirty. The whole place. dirt except the sink and the water', 'But the sink. It was dirty. The whole place smelled up just the sink and the pipes', 'In the sink. It was dirty. The whole place was, but the sink and the pipes', 'And the sink. It was dirty. The whole place. dirt except the sink and the pipes', 'But the sink. It was dirty. The whole place smelled up just the sink and the toilets', 'In the sink. It was dirty. The whole place was, but the sink and the toilets', 'And the sink. It was dirty. The whole place. dirt except the sink and the toilets', '(. yeah. He just had all this time going through a donkey trying to put a little', '\" he it, He just took all this time going to a donkey trying to put a little', '[, right... He just had all this time going over a donkey trying to put a little', '(. yeah. He just had all this time going through a donkey trying to put a new', '\" he it, He just took all this time going to a donkey trying to put a new', '[, right... He just had all this time going over a donkey trying to put a new', '(. yeah. He just had all this time going through a donkey trying to put a big', '\" he it, He just took all this time going to a donkey trying to put a big', '[, right... He just had all this time going over a donkey trying to put a big', '(. yeah. He just had all this time going through a donkey trying to put a fucking', '\" he it, He just took all this time going to a donkey trying to put a fucking', '[, right... He just had all this time going over a donkey trying to put a fucking', '(. yeah. He just had all this time going through a donkey trying to put a good', '\" he it, He just took all this time going to a donkey trying to put a good', '[, right... He just had all this time going over a donkey trying to put a good', '(. yeah. He just had all this time going through a donkey trying to put a chicken', '\" he it, He just took all this time going to a donkey trying to put a chicken', '[, right... He just had all this time going over a donkey trying to put a chicken', '(. yeah. He just had all this time going through a donkey trying to put a rubber', '\" he it, He just took all this time going to a donkey trying to put a rubber', '[, right... He just had all this time going over a donkey trying to put a rubber', '(. yeah. He just had all this time going through a donkey trying to put a small', '\" he it, He just took all this time going to a donkey trying to put a small', '[, right... He just had all this time going over a donkey trying to put a small', '(. yeah. He just had all this time going through a donkey trying to put a damn', '\" he it, He just took all this time going to a donkey trying to put a damn', '[, right... He just had all this time going over a donkey trying to put a damn', '(. yeah. He just had all this time going through a donkey trying to put a nice', '\" he it, He just took all this time going to a donkey trying to put a nice', '[, right... He just had all this time going over a donkey trying to put a nice']\n"
     ]
    },
    {
     "name": "stderr",
     "output_type": "stream",
     "text": [
      " 63%|██████▎   | 19/30 [00:09<00:04,  2.33it/s]"
     ]
    },
    {
     "name": "stdout",
     "output_type": "stream",
     "text": [
      "['In the sink. It was dirty. The whole place was, but the sink and the water', 'In the sink. It was dirty. The whole place was, but the sink and the floor', 'In the sink. It was dirty. The whole place was, but the sink and the counter', '[, right... He just had all this time going over a donkey trying to put a new', '(. yeah. He just had all this time going through a donkey trying to put a fucking', '[, right... He just had all this time going over a donkey trying to put a fucking']\n",
      "20\n",
      "['But the sink. It was dirty. The whole place smelled up just the sink and the water.', 'In the sink. It was dirty. The whole place was, but the sink and the floor.', 'And the sink. It was dirty. The whole place. dirt except the sink and the counter.', 'But the sink. It was dirty. The whole place smelled up just the sink and the water!', 'In the sink. It was dirty. The whole place was, but the sink and the floor!', 'And the sink. It was dirty. The whole place. dirt except the sink and the counter!', 'But the sink. It was dirty. The whole place smelled up just the sink and the water…', 'In the sink. It was dirty. The whole place was, but the sink and the floor…', 'And the sink. It was dirty. The whole place. dirt except the sink and the counter…', 'But the sink. It was dirty. The whole place smelled up just the sink and the water...', 'In the sink. It was dirty. The whole place was, but the sink and the floor...', 'And the sink. It was dirty. The whole place. dirt except the sink and the counter...', 'But the sink. It was dirty. The whole place smelled up just the sink and the water?', 'In the sink. It was dirty. The whole place was, but the sink and the floor?', 'And the sink. It was dirty. The whole place. dirt except the sink and the counter?', 'But the sink. It was dirty. The whole place smelled up just the sink and the water …', 'In the sink. It was dirty. The whole place was, but the sink and the floor …', 'And the sink. It was dirty. The whole place. dirt except the sink and the counter …', 'But the sink. It was dirty. The whole place smelled up just the sink and the water:', 'In the sink. It was dirty. The whole place was, but the sink and the floor:', 'And the sink. It was dirty. The whole place. dirt except the sink and the counter:', 'But the sink. It was dirty. The whole place smelled up just the sink and the water..', 'In the sink. It was dirty. The whole place was, but the sink and the floor..', 'And the sink. It was dirty. The whole place. dirt except the sink and the counter..', 'But the sink. It was dirty. The whole place smelled up just the sink and the water water', 'In the sink. It was dirty. The whole place was, but the sink and the floor water', 'And the sink. It was dirty. The whole place. dirt except the sink and the counter water', 'But the sink. It was dirty. The whole place smelled up just the sink and the water,', 'In the sink. It was dirty. The whole place was, but the sink and the floor,', 'And the sink. It was dirty. The whole place. dirt except the sink and the counter,']\n"
     ]
    },
    {
     "name": "stderr",
     "output_type": "stream",
     "text": [
      " 67%|██████▋   | 20/30 [00:09<00:03,  2.61it/s]"
     ]
    },
    {
     "name": "stdout",
     "output_type": "stream",
     "text": [
      "['In the sink. It was dirty. The whole place was, but the sink and the floor.', 'In the sink. It was dirty. The whole place was, but the sink and the floor,', 'In the sink. It was dirty. The whole place was, but the sink and the floor?']\n",
      "21\n",
      "[' over me and he was pushing me. And I pulled away and he was fighting me, and I was', ' over me and he was choking me. And I pulled away and he was fighting me, and I was', ' over me and he was choking me. And I pulled away and he was fighting me, and I was', ' over me and he was pushing me. And I pulled away and he was fighting me, and I just', ' over me and he was choking me. And I pulled away and he was fighting me, and I just', ' over me and he was choking me. And I pulled away and he was fighting me, and I just', ' over me and he was pushing me. And I pulled away and he was fighting me, and I had', ' over me and he was choking me. And I pulled away and he was fighting me, and I had', ' over me and he was choking me. And I pulled away and he was fighting me, and I had', \" over me and he was pushing me. And I pulled away and he was fighting me, and I'm\", \" over me and he was choking me. And I pulled away and he was fighting me, and I'm\", \" over me and he was choking me. And I pulled away and he was fighting me, and I'm\", ' over me and he was pushing me. And I pulled away and he was fighting me, and I couldn', ' over me and he was choking me. And I pulled away and he was fighting me, and I couldn', ' over me and he was choking me. And I pulled away and he was fighting me, and I couldn', ' over me and he was pushing me. And I pulled away and he was fighting me, and I pulled', ' over me and he was choking me. And I pulled away and he was fighting me, and I pulled', ' over me and he was choking me. And I pulled away and he was fighting me, and I pulled', ' over me and he was pushing me. And I pulled away and he was fighting me, and I started', ' over me and he was choking me. And I pulled away and he was fighting me, and I started', ' over me and he was choking me. And I pulled away and he was fighting me, and I started', ' over me and he was pushing me. And I pulled away and he was fighting me, and I didn', ' over me and he was choking me. And I pulled away and he was fighting me, and I didn', ' over me and he was choking me. And I pulled away and he was fighting me, and I didn', ' over me and he was pushing me. And I pulled away and he was fighting me, and I got', ' over me and he was choking me. And I pulled away and he was fighting me, and I got', ' over me and he was choking me. And I pulled away and he was fighting me, and I got', ' over me and he was pushing me. And I pulled away and he was fighting me, and I could', ' over me and he was choking me. And I pulled away and he was fighting me, and I could', ' over me and he was choking me. And I pulled away and he was fighting me, and I could']\n"
     ]
    },
    {
     "name": "stderr",
     "output_type": "stream",
     "text": [
      " 70%|███████   | 21/30 [00:10<00:03,  2.85it/s]"
     ]
    },
    {
     "name": "stdout",
     "output_type": "stream",
     "text": [
      "[' over me and he was choking me. And I pulled away and he was fighting me, and I was', ' over me and he was choking me. And I pulled away and he was fighting me, and I just', ' over me and he was choking me. And I pulled away and he was fighting me, and I got']\n",
      "22\n",
      "[' over me and put his hand in my butt and he was running his hand up and down my ass and then', ' over me and put his hand in my butt and he was moving his hand up and down my ass and then', ' over me and put his hand in my butt and he was moving his hand up and down my ass and then', ' over me and put his hand in my butt and he was running his hand up and down my ass and he', ' over me and put his hand in my butt and he was moving his hand up and down my ass and he', ' over me and put his hand in my butt and he was moving his hand up and down my ass and he', ' over me and put his hand in my butt and he was running his hand up and down my ass and I', ' over me and put his hand in my butt and he was moving his hand up and down my ass and I', ' over me and put his hand in my butt and he was moving his hand up and down my ass and I', ' over me and put his hand in my butt and he was running his hand up and down my ass and kind', ' over me and put his hand in my butt and he was moving his hand up and down my ass and kind', ' over me and put his hand in my butt and he was moving his hand up and down my ass and kind', ' over me and put his hand in my butt and he was running his hand up and down my ass and and', ' over me and put his hand in my butt and he was moving his hand up and down my ass and and', ' over me and put his hand in my butt and he was moving his hand up and down my ass and and', ' over me and put his hand in my butt and he was running his hand up and down my ass and so', ' over me and put his hand in my butt and he was moving his hand up and down my ass and so', ' over me and put his hand in my butt and he was moving his hand up and down my ass and so', ' over me and put his hand in my butt and he was running his hand up and down my ass and finally', ' over me and put his hand in my butt and he was moving his hand up and down my ass and finally', ' over me and put his hand in my butt and he was moving his hand up and down my ass and finally', ' over me and put his hand in my butt and he was running his hand up and down my ass and when', ' over me and put his hand in my butt and he was moving his hand up and down my ass and when', ' over me and put his hand in my butt and he was moving his hand up and down my ass and when', ' over me and put his hand in my butt and he was running his hand up and down my ass and again', ' over me and put his hand in my butt and he was moving his hand up and down my ass and again', ' over me and put his hand in my butt and he was moving his hand up and down my ass and again', ' over me and put his hand in my butt and he was running his hand up and down my ass and just', ' over me and put his hand in my butt and he was moving his hand up and down my ass and just', ' over me and put his hand in my butt and he was moving his hand up and down my ass and just', \" over me and he was pushing me. And I pulled away and he was fighting me, and I was't\", \" over me and he was choking me. And I pulled away and he was fighting me, and I just't\", \" over me and he was choking me. And I pulled away and he was fighting me, and I got't\", ' over me and he was pushing me. And I pulled away and he was fighting me, and I was running', ' over me and he was choking me. And I pulled away and he was fighting me, and I just running', ' over me and he was choking me. And I pulled away and he was fighting me, and I got running', ' over me and he was pushing me. And I pulled away and he was fighting me, and I was in', ' over me and he was choking me. And I pulled away and he was fighting me, and I just in', ' over me and he was choking me. And I pulled away and he was fighting me, and I got in', ' over me and he was pushing me. And I pulled away and he was fighting me, and I was to', ' over me and he was choking me. And I pulled away and he was fighting me, and I just to', ' over me and he was choking me. And I pulled away and he was fighting me, and I got to', ' over me and he was pushing me. And I pulled away and he was fighting me, and I was my', ' over me and he was choking me. And I pulled away and he was fighting me, and I just my', ' over me and he was choking me. And I pulled away and he was fighting me, and I got my', ' over me and he was pushing me. And I pulled away and he was fighting me, and I was just', ' over me and he was choking me. And I pulled away and he was fighting me, and I just just', ' over me and he was choking me. And I pulled away and he was fighting me, and I got just', ' over me and he was pushing me. And I pulled away and he was fighting me, and I was fighting', ' over me and he was choking me. And I pulled away and he was fighting me, and I just fighting', ' over me and he was choking me. And I pulled away and he was fighting me, and I got fighting', ' over me and he was pushing me. And I pulled away and he was fighting me, and I was him', ' over me and he was choking me. And I pulled away and he was fighting me, and I just him', ' over me and he was choking me. And I pulled away and he was fighting me, and I got him', ' over me and he was pushing me. And I pulled away and he was fighting me, and I was going', ' over me and he was choking me. And I pulled away and he was fighting me, and I just going', ' over me and he was choking me. And I pulled away and he was fighting me, and I got going', ' over me and he was pushing me. And I pulled away and he was fighting me, and I was the', ' over me and he was choking me. And I pulled away and he was fighting me, and I just the', ' over me and he was choking me. And I pulled away and he was fighting me, and I got the']\n"
     ]
    },
    {
     "name": "stderr",
     "output_type": "stream",
     "text": [
      " 73%|███████▎  | 22/30 [00:10<00:03,  2.62it/s]"
     ]
    },
    {
     "name": "stdout",
     "output_type": "stream",
     "text": [
      "[' over me and put his hand in my butt and he was running his hand up and down my ass and he', ' over me and put his hand in my butt and he was running his hand up and down my ass and I', ' over me and put his hand in my butt and he was moving his hand up and down my ass and he', ' over me and he was choking me. And I pulled away and he was fighting me, and I got to', ' over me and he was choking me. And I pulled away and he was fighting me, and I got in', ' over me and he was pushing me. And I pulled away and he was fighting me, and I was just']\n",
      "23\n",
      "[' over me and put his hand in my butt and he was running his hand up and down my ass and he he', ' over me and put his hand in my butt and he was moving his hand up and down my ass and I he', ' over me and put his hand in my butt and he was moving his hand up and down my ass and he he', ' over me and put his hand in my butt and he was running his hand up and down my ass and he and', ' over me and put his hand in my butt and he was moving his hand up and down my ass and I and', ' over me and put his hand in my butt and he was moving his hand up and down my ass and he and', ' over me and put his hand in my butt and he was running his hand up and down my ass and he just', ' over me and put his hand in my butt and he was moving his hand up and down my ass and I just', ' over me and put his hand in my butt and he was moving his hand up and down my ass and he just', ' over me and put his hand in my butt and he was running his hand up and down my ass and he then', ' over me and put his hand in my butt and he was moving his hand up and down my ass and I then', ' over me and put his hand in my butt and he was moving his hand up and down my ass and he then', ' over me and put his hand in my butt and he was running his hand up and down my ass and he of', ' over me and put his hand in my butt and he was moving his hand up and down my ass and I of', ' over me and put his hand in my butt and he was moving his hand up and down my ass and he of', ' over me and put his hand in my butt and he was running his hand up and down my ass and he him', ' over me and put his hand in my butt and he was moving his hand up and down my ass and I him', ' over me and put his hand in my butt and he was moving his hand up and down my ass and he him', ' over me and put his hand in my butt and he was running his hand up and down my ass and he slowly', ' over me and put his hand in my butt and he was moving his hand up and down my ass and I slowly', ' over me and put his hand in my butt and he was moving his hand up and down my ass and he slowly', ' over me and put his hand in my butt and he was running his hand up and down my ass and he also', ' over me and put his hand in my butt and he was moving his hand up and down my ass and I also', ' over me and put his hand in my butt and he was moving his hand up and down my ass and he also', ' over me and put his hand in my butt and he was running his hand up and down my ass and he finally', ' over me and put his hand in my butt and he was moving his hand up and down my ass and I finally', ' over me and put his hand in my butt and he was moving his hand up and down my ass and he finally', ' over me and put his hand in my butt and he was running his hand up and down my ass and he I', ' over me and put his hand in my butt and he was moving his hand up and down my ass and I I', ' over me and put his hand in my butt and he was moving his hand up and down my ass and he I', ' over me and he was pushing me. And I pulled away and he was fighting me, and I was to,', ' over me and he was choking me. And I pulled away and he was fighting me, and I just in,', ' over me and he was choking me. And I pulled away and he was fighting me, and I got just,', ' over me and he was pushing me. And I pulled away and he was fighting me, and I was to him', ' over me and he was choking me. And I pulled away and he was fighting me, and I just in him', ' over me and he was choking me. And I pulled away and he was fighting me, and I got just him', ' over me and he was pushing me. And I pulled away and he was fighting me, and I was to.', ' over me and he was choking me. And I pulled away and he was fighting me, and I just in.', ' over me and he was choking me. And I pulled away and he was fighting me, and I got just.', ' over me and he was pushing me. And I pulled away and he was fighting me, and I was to away', ' over me and he was choking me. And I pulled away and he was fighting me, and I just in away', ' over me and he was choking me. And I pulled away and he was fighting me, and I got just away', ' over me and he was pushing me. And I pulled away and he was fighting me, and I was to down', ' over me and he was choking me. And I pulled away and he was fighting me, and I just in down', ' over me and he was choking me. And I pulled away and he was fighting me, and I got just down', ' over me and he was pushing me. And I pulled away and he was fighting me, and I was to back', ' over me and he was choking me. And I pulled away and he was fighting me, and I just in back', ' over me and he was choking me. And I pulled away and he was fighting me, and I got just back', ' over me and he was pushing me. And I pulled away and he was fighting me, and I was to out', ' over me and he was choking me. And I pulled away and he was fighting me, and I just in out', ' over me and he was choking me. And I pulled away and he was fighting me, and I got just out', ' over me and he was pushing me. And I pulled away and he was fighting me, and I was to scared', ' over me and he was choking me. And I pulled away and he was fighting me, and I just in scared', ' over me and he was choking me. And I pulled away and he was fighting me, and I got just scared', ' over me and he was pushing me. And I pulled away and he was fighting me, and I was to up', ' over me and he was choking me. And I pulled away and he was fighting me, and I just in up', ' over me and he was choking me. And I pulled away and he was fighting me, and I got just up', ' over me and he was pushing me. And I pulled away and he was fighting me, and I was to and', ' over me and he was choking me. And I pulled away and he was fighting me, and I just in and', ' over me and he was choking me. And I pulled away and he was fighting me, and I got just and']\n"
     ]
    },
    {
     "name": "stderr",
     "output_type": "stream",
     "text": [
      " 77%|███████▋  | 23/30 [00:10<00:02,  2.46it/s]"
     ]
    },
    {
     "name": "stdout",
     "output_type": "stream",
     "text": [
      "[' over me and put his hand in my butt and he was running his hand up and down my ass and he just', ' over me and put his hand in my butt and he was running his hand up and down my ass and he then', ' over me and put his hand in my butt and he was moving his hand up and down my ass and he also', ' over me and he was choking me. And I pulled away and he was fighting me, and I just in,', ' over me and he was choking me. And I pulled away and he was fighting me, and I got just up', ' over me and he was choking me. And I pulled away and he was fighting me, and I just in and']\n",
      "24\n",
      "[' over me and he was pushing me. And I pulled away and he was fighting me, and I was to, and', ' over me and he was choking me. And I pulled away and he was fighting me, and I just in up and', ' over me and he was choking me. And I pulled away and he was fighting me, and I got just and and', ' over me and he was pushing me. And I pulled away and he was fighting me, and I was to,.', ' over me and he was choking me. And I pulled away and he was fighting me, and I just in up.', ' over me and he was choking me. And I pulled away and he was fighting me, and I got just and.', ' over me and he was pushing me. And I pulled away and he was fighting me, and I was to, because', ' over me and he was choking me. And I pulled away and he was fighting me, and I just in up because', ' over me and he was choking me. And I pulled away and he was fighting me, and I got just and because', ' over me and he was pushing me. And I pulled away and he was fighting me, and I was to, And', ' over me and he was choking me. And I pulled away and he was fighting me, and I just in up And', ' over me and he was choking me. And I pulled away and he was fighting me, and I got just and And', ' over me and he was pushing me. And I pulled away and he was fighting me, and I was to,,', ' over me and he was choking me. And I pulled away and he was fighting me, and I just in up,', ' over me and he was choking me. And I pulled away and he was fighting me, and I got just and,', ' over me and he was pushing me. And I pulled away and he was fighting me, and I was to, but', ' over me and he was choking me. And I pulled away and he was fighting me, and I just in up but', ' over me and he was choking me. And I pulled away and he was fighting me, and I got just and but', ' over me and he was pushing me. And I pulled away and he was fighting me, and I was to, like', ' over me and he was choking me. And I pulled away and he was fighting me, and I just in up like', ' over me and he was choking me. And I pulled away and he was fighting me, and I got just and like', ' over me and he was pushing me. And I pulled away and he was fighting me, and I was to, I', ' over me and he was choking me. And I pulled away and he was fighting me, and I just in up I', ' over me and he was choking me. And I pulled away and he was fighting me, and I got just and I', ' over me and he was pushing me. And I pulled away and he was fighting me, and I was to, that', ' over me and he was choking me. And I pulled away and he was fighting me, and I just in up that', ' over me and he was choking me. And I pulled away and he was fighting me, and I got just and that', ' over me and he was pushing me. And I pulled away and he was fighting me, and I was to, so', ' over me and he was choking me. And I pulled away and he was fighting me, and I just in up so', ' over me and he was choking me. And I pulled away and he was fighting me, and I got just and so']\n"
     ]
    },
    {
     "name": "stderr",
     "output_type": "stream",
     "text": [
      " 80%|████████  | 24/30 [00:11<00:02,  2.71it/s]"
     ]
    },
    {
     "name": "stdout",
     "output_type": "stream",
     "text": [
      "[' over me and he was pushing me. And I pulled away and he was fighting me, and I was to, and', ' over me and he was pushing me. And I pulled away and he was fighting me, and I was to, I', ' over me and he was pushing me. And I pulled away and he was fighting me, and I was to, like']\n",
      "25\n",
      "['II reaching for his genitals, and so, and, just get the stall door open and I get out,\" Stephanie said', '\"He reaching for his genitals, and so, he I, got the stall door open and I get out,\" Stephanie said', ' \" was reaching for his genitals, and so, I just, hold the stall door open and I get out,\" Stephanie said', 'II reaching for his genitals, and so, and, just get the stall door open and I get out,\" Stephanie says', '\"He reaching for his genitals, and so, he I, got the stall door open and I get out,\" Stephanie says', ' \" was reaching for his genitals, and so, I just, hold the stall door open and I get out,\" Stephanie says', 'II reaching for his genitals, and so, and, just get the stall door open and I get out,\" Stephanie recalled', '\"He reaching for his genitals, and so, he I, got the stall door open and I get out,\" Stephanie recalled', ' \" was reaching for his genitals, and so, I just, hold the stall door open and I get out,\" Stephanie recalled', 'II reaching for his genitals, and so, and, just get the stall door open and I get out,\" Stephanie recalls', '\"He reaching for his genitals, and so, he I, got the stall door open and I get out,\" Stephanie recalls', ' \" was reaching for his genitals, and so, I just, hold the stall door open and I get out,\" Stephanie recalls', 'II reaching for his genitals, and so, and, just get the stall door open and I get out,\" Stephanie explained', '\"He reaching for his genitals, and so, he I, got the stall door open and I get out,\" Stephanie explained', ' \" was reaching for his genitals, and so, I just, hold the stall door open and I get out,\" Stephanie explained', 'II reaching for his genitals, and so, and, just get the stall door open and I get out,\" Stephanie explains', '\"He reaching for his genitals, and so, he I, got the stall door open and I get out,\" Stephanie explains', ' \" was reaching for his genitals, and so, I just, hold the stall door open and I get out,\" Stephanie explains', 'II reaching for his genitals, and so, and, just get the stall door open and I get out,\" Stephanie added', '\"He reaching for his genitals, and so, he I, got the stall door open and I get out,\" Stephanie added', ' \" was reaching for his genitals, and so, I just, hold the stall door open and I get out,\" Stephanie added', 'II reaching for his genitals, and so, and, just get the stall door open and I get out,\" Stephanie remembers', '\"He reaching for his genitals, and so, he I, got the stall door open and I get out,\" Stephanie remembers', ' \" was reaching for his genitals, and so, I just, hold the stall door open and I get out,\" Stephanie remembers', 'II reaching for his genitals, and so, and, just get the stall door open and I get out,\" Stephanie recounted', '\"He reaching for his genitals, and so, he I, got the stall door open and I get out,\" Stephanie recounted', ' \" was reaching for his genitals, and so, I just, hold the stall door open and I get out,\" Stephanie recounted', 'II reaching for his genitals, and so, and, just get the stall door open and I get out,\" Stephanie testified', '\"He reaching for his genitals, and so, he I, got the stall door open and I get out,\" Stephanie testified', ' \" was reaching for his genitals, and so, I just, hold the stall door open and I get out,\" Stephanie testified', ' over me and he was pushing me. And I pulled away and he was fighting me, and I was to, and I', ' over me and he was choking me. And I pulled away and he was fighting me, and I just in up I I', ' over me and he was choking me. And I pulled away and he was fighting me, and I got just and like I', ' over me and he was pushing me. And I pulled away and he was fighting me, and I was to, and he', ' over me and he was choking me. And I pulled away and he was fighting me, and I just in up I he', ' over me and he was choking me. And I pulled away and he was fighting me, and I got just and like he', ' over me and he was pushing me. And I pulled away and he was fighting me, and I was to, and and', ' over me and he was choking me. And I pulled away and he was fighting me, and I just in up I and', ' over me and he was choking me. And I pulled away and he was fighting me, and I got just and like and', ' over me and he was pushing me. And I pulled away and he was fighting me, and I was to, and He', ' over me and he was choking me. And I pulled away and he was fighting me, and I just in up I He', ' over me and he was choking me. And I pulled away and he was fighting me, and I got just and like He', ' over me and he was pushing me. And I pulled away and he was fighting me, and I was to, andI', ' over me and he was choking me. And I pulled away and he was fighting me, and I just in up II', ' over me and he was choking me. And I pulled away and he was fighting me, and I got just and likeI', ' over me and he was pushing me. And I pulled away and he was fighting me, and I was to, and just', ' over me and he was choking me. And I pulled away and he was fighting me, and I just in up I just', ' over me and he was choking me. And I pulled away and he was fighting me, and I got just and like just', ' over me and he was pushing me. And I pulled away and he was fighting me, and I was to, and really', ' over me and he was choking me. And I pulled away and he was fighting me, and I just in up I really', ' over me and he was choking me. And I pulled away and he was fighting me, and I got just and like really', ' over me and he was pushing me. And I pulled away and he was fighting me, and I was to, and still', ' over me and he was choking me. And I pulled away and he was fighting me, and I just in up I still', ' over me and he was choking me. And I pulled away and he was fighting me, and I got just and like still', ' over me and he was pushing me. And I pulled away and he was fighting me, and I was to, and we', ' over me and he was choking me. And I pulled away and he was fighting me, and I just in up I we', ' over me and he was choking me. And I pulled away and he was fighting me, and I got just and like we', ' over me and he was pushing me. And I pulled away and he was fighting me, and I was to, and,', ' over me and he was choking me. And I pulled away and he was fighting me, and I just in up I,', ' over me and he was choking me. And I pulled away and he was fighting me, and I got just and like,']\n"
     ]
    },
    {
     "name": "stderr",
     "output_type": "stream",
     "text": [
      " 83%|████████▎ | 25/30 [00:11<00:02,  2.47it/s]"
     ]
    },
    {
     "name": "stdout",
     "output_type": "stream",
     "text": [
      "[' \" was reaching for his genitals, and so, I just, hold the stall door open and I get out,\" Stephanie said', ' \" was reaching for his genitals, and so, I just, hold the stall door open and I get out,\" Stephanie says', ' \" was reaching for his genitals, and so, I just, hold the stall door open and I get out,\" Stephanie explained', ' over me and he was pushing me. And I pulled away and he was fighting me, and I was to, and I', ' over me and he was pushing me. And I pulled away and he was fighting me, and I was to, and he', ' over me and he was choking me. And I pulled away and he was fighting me, and I got just and like,']\n",
      "26\n",
      "['II reaching for his genitals, and so, and, just get the stall door open and I get out,\" Stephanie said.', '\"He reaching for his genitals, and so, he I, got the stall door open and I get out,\" Stephanie says.', ' \" was reaching for his genitals, and so, I just, hold the stall door open and I get out,\" Stephanie explained.', 'II reaching for his genitals, and so, and, just get the stall door open and I get out,\" Stephanie said.\"', '\"He reaching for his genitals, and so, he I, got the stall door open and I get out,\" Stephanie says.\"', ' \" was reaching for his genitals, and so, I just, hold the stall door open and I get out,\" Stephanie explained.\"', 'II reaching for his genitals, and so, and, just get the stall door open and I get out,\" Stephanie said.', '\"He reaching for his genitals, and so, he I, got the stall door open and I get out,\" Stephanie says.', ' \" was reaching for his genitals, and so, I just, hold the stall door open and I get out,\" Stephanie explained.', 'II reaching for his genitals, and so, and, just get the stall door open and I get out,\" Stephanie said,', '\"He reaching for his genitals, and so, he I, got the stall door open and I get out,\" Stephanie says,', ' \" was reaching for his genitals, and so, I just, hold the stall door open and I get out,\" Stephanie explained,', 'II reaching for his genitals, and so, and, just get the stall door open and I get out,\" Stephanie said..', '\"He reaching for his genitals, and so, he I, got the stall door open and I get out,\" Stephanie says..', ' \" was reaching for his genitals, and so, I just, hold the stall door open and I get out,\" Stephanie explained..', 'II reaching for his genitals, and so, and, just get the stall door open and I get out,\" Stephanie said:', '\"He reaching for his genitals, and so, he I, got the stall door open and I get out,\" Stephanie says:', ' \" was reaching for his genitals, and so, I just, hold the stall door open and I get out,\" Stephanie explained:', 'II reaching for his genitals, and so, and, just get the stall door open and I get out,\" Stephanie said said', '\"He reaching for his genitals, and so, he I, got the stall door open and I get out,\" Stephanie says said', ' \" was reaching for his genitals, and so, I just, hold the stall door open and I get out,\" Stephanie explained said', 'II reaching for his genitals, and so, and, just get the stall door open and I get out,\" Stephanie said of', '\"He reaching for his genitals, and so, he I, got the stall door open and I get out,\" Stephanie says of', ' \" was reaching for his genitals, and so, I just, hold the stall door open and I get out,\" Stephanie explained of', 'II reaching for his genitals, and so, and, just get the stall door open and I get out,\" Stephanie said.]', '\"He reaching for his genitals, and so, he I, got the stall door open and I get out,\" Stephanie says.]', ' \" was reaching for his genitals, and so, I just, hold the stall door open and I get out,\" Stephanie explained.]', 'II reaching for his genitals, and so, and, just get the stall door open and I get out,\" Stephanie said \"', '\"He reaching for his genitals, and so, he I, got the stall door open and I get out,\" Stephanie says \"', ' \" was reaching for his genitals, and so, I just, hold the stall door open and I get out,\" Stephanie explained \"']\n"
     ]
    },
    {
     "name": "stderr",
     "output_type": "stream",
     "text": [
      " 87%|████████▋ | 26/30 [00:12<00:01,  2.68it/s]"
     ]
    },
    {
     "name": "stdout",
     "output_type": "stream",
     "text": [
      "[' \" was reaching for his genitals, and so, I just, hold the stall door open and I get out,\" Stephanie explained.', ' \" was reaching for his genitals, and so, I just, hold the stall door open and I get out,\" Stephanie explained,', ' \" was reaching for his genitals, and so, I just, hold the stall door open and I get out,\" Stephanie explained of']\n",
      "27\n",
      "[\"For me, the,, and could hear him starting to come, but I didn't stop him. Thank God he had these handcuffs\", \"Watch me to to back and he could hear him starting to come, but I didn't stop him. Thank God he had these handcuffs\", \"Behind me. and house that I could hear him starting to come, but I didn't stop him. Thank God he had these handcuffs\", \"For me, the,, and could hear him starting to come, but I didn't stop him. Thank God he had these clothes\", \"Watch me to to back and he could hear him starting to come, but I didn't stop him. Thank God he had these clothes\", \"Behind me. and house that I could hear him starting to come, but I didn't stop him. Thank God he had these clothes\", \"For me, the,, and could hear him starting to come, but I didn't stop him. Thank God he had these hands\", \"Watch me to to back and he could hear him starting to come, but I didn't stop him. Thank God he had these hands\", \"Behind me. and house that I could hear him starting to come, but I didn't stop him. Thank God he had these hands\", \"For me, the,, and could hear him starting to come, but I didn't stop him. Thank God he had these things\", \"Watch me to to back and he could hear him starting to come, but I didn't stop him. Thank God he had these things\", \"Behind me. and house that I could hear him starting to come, but I didn't stop him. Thank God he had these things\", \"For me, the,, and could hear him starting to come, but I didn't stop him. Thank God he had these shoes\", \"Watch me to to back and he could hear him starting to come, but I didn't stop him. Thank God he had these shoes\", \"Behind me. and house that I could hear him starting to come, but I didn't stop him. Thank God he had these shoes\", \"For me, the,, and could hear him starting to come, but I didn't stop him. Thank God he had these boots\", \"Watch me to to back and he could hear him starting to come, but I didn't stop him. Thank God he had these boots\", \"Behind me. and house that I could hear him starting to come, but I didn't stop him. Thank God he had these boots\", \"For me, the,, and could hear him starting to come, but I didn't stop him. Thank God he had these gloves\", \"Watch me to to back and he could hear him starting to come, but I didn't stop him. Thank God he had these gloves\", \"Behind me. and house that I could hear him starting to come, but I didn't stop him. Thank God he had these gloves\", \"For me, the,, and could hear him starting to come, but I didn't stop him. Thank God he had these pants\", \"Watch me to to back and he could hear him starting to come, but I didn't stop him. Thank God he had these pants\", \"Behind me. and house that I could hear him starting to come, but I didn't stop him. Thank God he had these pants\", \"For me, the,, and could hear him starting to come, but I didn't stop him. Thank God he had these headphones\", \"Watch me to to back and he could hear him starting to come, but I didn't stop him. Thank God he had these headphones\", \"Behind me. and house that I could hear him starting to come, but I didn't stop him. Thank God he had these headphones\", \"For me, the,, and could hear him starting to come, but I didn't stop him. Thank God he had these eyes\", \"Watch me to to back and he could hear him starting to come, but I didn't stop him. Thank God he had these eyes\", \"Behind me. and house that I could hear him starting to come, but I didn't stop him. Thank God he had these eyes\"]\n"
     ]
    },
    {
     "name": "stderr",
     "output_type": "stream",
     "text": [
      " 90%|█████████ | 27/30 [00:12<00:01,  2.84it/s]"
     ]
    },
    {
     "name": "stdout",
     "output_type": "stream",
     "text": [
      "[\"For me, the,, and could hear him starting to come, but I didn't stop him. Thank God he had these things\", \"For me, the,, and could hear him starting to come, but I didn't stop him. Thank God he had these clothes\", \"For me, the,, and could hear him starting to come, but I didn't stop him. Thank God he had these shoes\"]\n",
      "30\n",
      "[' over me and he was pushing me. And I pulled away and he was fighting me, and I was to, and I had no idea what I', ' over me and he was choking me. And I pulled away and he was fighting me, and I just in up I he had no idea what I', ' over me and he was choking me. And I pulled away and he was fighting me, and I got just and like, had no idea what I', ' over me and he was pushing me. And I pulled away and he was fighting me, and I was to, and I had no idea what he', ' over me and he was choking me. And I pulled away and he was fighting me, and I just in up I he had no idea what he', ' over me and he was choking me. And I pulled away and he was fighting me, and I got just and like, had no idea what he', ' over me and he was pushing me. And I pulled away and he was fighting me, and I was to, and I had no idea what else', ' over me and he was choking me. And I pulled away and he was fighting me, and I just in up I he had no idea what else', ' over me and he was choking me. And I pulled away and he was fighting me, and I got just and like, had no idea what else', ' over me and he was pushing me. And I pulled away and he was fighting me, and I was to, and I had no idea what it', ' over me and he was choking me. And I pulled away and he was fighting me, and I just in up I he had no idea what it', ' over me and he was choking me. And I pulled away and he was fighting me, and I got just and like, had no idea what it', ' over me and he was pushing me. And I pulled away and he was fighting me, and I was to, and I had no idea what time', ' over me and he was choking me. And I pulled away and he was fighting me, and I just in up I he had no idea what time', ' over me and he was choking me. And I pulled away and he was fighting me, and I got just and like, had no idea what time', ' over me and he was pushing me. And I pulled away and he was fighting me, and I was to, and I had no idea what this', ' over me and he was choking me. And I pulled away and he was fighting me, and I just in up I he had no idea what this', ' over me and he was choking me. And I pulled away and he was fighting me, and I got just and like, had no idea what this', ' over me and he was pushing me. And I pulled away and he was fighting me, and I was to, and I had no idea what that', ' over me and he was choking me. And I pulled away and he was fighting me, and I just in up I he had no idea what that', ' over me and he was choking me. And I pulled away and he was fighting me, and I got just and like, had no idea what that', ' over me and he was pushing me. And I pulled away and he was fighting me, and I was to, and I had no idea what she', ' over me and he was choking me. And I pulled away and he was fighting me, and I just in up I he had no idea what she', ' over me and he was choking me. And I pulled away and he was fighting me, and I got just and like, had no idea what she', ' over me and he was pushing me. And I pulled away and he was fighting me, and I was to, and I had no idea what i', ' over me and he was choking me. And I pulled away and he was fighting me, and I just in up I he had no idea what i', ' over me and he was choking me. And I pulled away and he was fighting me, and I got just and like, had no idea what i', ' over me and he was pushing me. And I pulled away and he was fighting me, and I was to, and I had no idea what life', ' over me and he was choking me. And I pulled away and he was fighting me, and I just in up I he had no idea what life', ' over me and he was choking me. And I pulled away and he was fighting me, and I got just and like, had no idea what life']\n"
     ]
    },
    {
     "name": "stderr",
     "output_type": "stream",
     "text": [
      " 93%|█████████▎| 28/30 [00:12<00:00,  2.95it/s]"
     ]
    },
    {
     "name": "stdout",
     "output_type": "stream",
     "text": [
      "[' over me and he was pushing me. And I pulled away and he was fighting me, and I was to, and I had no idea what that', ' over me and he was pushing me. And I pulled away and he was fighting me, and I was to, and I had no idea what it', ' over me and he was pushing me. And I pulled away and he was fighting me, and I was to, and I had no idea what he']\n",
      "32\n",
      "[' over me and put his hand in my butt and he was running his hand up and down my ass and he just put his hand back in my butt and he', ' over me and put his hand in my butt and he was moving his hand up and down my ass and I then put his hand back in my butt and he', ' over me and put his hand in my butt and he was moving his hand up and down my ass and he also put his hand back in my butt and he', ' over me and put his hand in my butt and he was running his hand up and down my ass and he just put his hand back in my butt and just', ' over me and put his hand in my butt and he was moving his hand up and down my ass and I then put his hand back in my butt and just', ' over me and put his hand in my butt and he was moving his hand up and down my ass and he also put his hand back in my butt and just', ' over me and put his hand in my butt and he was running his hand up and down my ass and he just put his hand back in my butt and really', ' over me and put his hand in my butt and he was moving his hand up and down my ass and I then put his hand back in my butt and really', ' over me and put his hand in my butt and he was moving his hand up and down my ass and he also put his hand back in my butt and really', ' over me and put his hand in my butt and he was running his hand up and down my ass and he just put his hand back in my butt and then', ' over me and put his hand in my butt and he was moving his hand up and down my ass and I then put his hand back in my butt and then', ' over me and put his hand in my butt and he was moving his hand up and down my ass and he also put his hand back in my butt and then', ' over me and put his hand in my butt and he was running his hand up and down my ass and he just put his hand back in my butt and I', ' over me and put his hand in my butt and he was moving his hand up and down my ass and I then put his hand back in my butt and I', ' over me and put his hand in my butt and he was moving his hand up and down my ass and he also put his hand back in my butt and I', ' over me and put his hand in my butt and he was running his hand up and down my ass and he just put his hand back in my butt and gently', ' over me and put his hand in my butt and he was moving his hand up and down my ass and I then put his hand back in my butt and gently', ' over me and put his hand in my butt and he was moving his hand up and down my ass and he also put his hand back in my butt and gently', ' over me and put his hand in my butt and he was running his hand up and down my ass and he just put his hand back in my butt and we', ' over me and put his hand in my butt and he was moving his hand up and down my ass and I then put his hand back in my butt and we', ' over me and put his hand in my butt and he was moving his hand up and down my ass and he also put his hand back in my butt and we', ' over me and put his hand in my butt and he was running his hand up and down my ass and he just put his hand back in my butt and and', ' over me and put his hand in my butt and he was moving his hand up and down my ass and I then put his hand back in my butt and and', ' over me and put his hand in my butt and he was moving his hand up and down my ass and he also put his hand back in my butt and and', ' over me and put his hand in my butt and he was running his hand up and down my ass and he just put his hand back in my butt and basically', ' over me and put his hand in my butt and he was moving his hand up and down my ass and I then put his hand back in my butt and basically', ' over me and put his hand in my butt and he was moving his hand up and down my ass and he also put his hand back in my butt and basically', ' over me and put his hand in my butt and he was running his hand up and down my ass and he just put his hand back in my butt and kinda', ' over me and put his hand in my butt and he was moving his hand up and down my ass and I then put his hand back in my butt and kinda', ' over me and put his hand in my butt and he was moving his hand up and down my ass and he also put his hand back in my butt and kinda']\n"
     ]
    },
    {
     "name": "stderr",
     "output_type": "stream",
     "text": [
      " 97%|█████████▋| 29/30 [00:12<00:00,  2.91it/s]"
     ]
    },
    {
     "name": "stdout",
     "output_type": "stream",
     "text": [
      "[' over me and put his hand in my butt and he was running his hand up and down my ass and he just put his hand back in my butt and he', ' over me and put his hand in my butt and he was running his hand up and down my ass and he just put his hand back in my butt and I', ' over me and put his hand in my butt and he was running his hand up and down my ass and he just put his hand back in my butt and just']\n",
      "33\n",
      "[' over me and he was pushing me. And I pulled away and he was fighting me, and I was to, and I had no idea what that was going.', ' over me and he was choking me. And I pulled away and he was fighting me, and I just in up I he had no idea what it was going.', ' over me and he was choking me. And I pulled away and he was fighting me, and I got just and like, had no idea what he was going.', ' over me and he was pushing me. And I pulled away and he was fighting me, and I was to, and I had no idea what that was going on', ' over me and he was choking me. And I pulled away and he was fighting me, and I just in up I he had no idea what it was going on', ' over me and he was choking me. And I pulled away and he was fighting me, and I got just and like, had no idea what he was going on', ' over me and he was pushing me. And I pulled away and he was fighting me, and I was to, and I had no idea what that was going through', ' over me and he was choking me. And I pulled away and he was fighting me, and I just in up I he had no idea what it was going through', ' over me and he was choking me. And I pulled away and he was fighting me, and I got just and like, had no idea what he was going through', ' over me and he was pushing me. And I pulled away and he was fighting me, and I was to, and I had no idea what that was going into', ' over me and he was choking me. And I pulled away and he was fighting me, and I just in up I he had no idea what it was going into', ' over me and he was choking me. And I pulled away and he was fighting me, and I got just and like, had no idea what he was going into', ' over me and he was pushing me. And I pulled away and he was fighting me, and I was to, and I had no idea what that was going to', ' over me and he was choking me. And I pulled away and he was fighting me, and I just in up I he had no idea what it was going to', ' over me and he was choking me. And I pulled away and he was fighting me, and I got just and like, had no idea what he was going to', ' over me and he was pushing me. And I pulled away and he was fighting me, and I was to, and I had no idea what that was going down', ' over me and he was choking me. And I pulled away and he was fighting me, and I just in up I he had no idea what it was going down', ' over me and he was choking me. And I pulled away and he was fighting me, and I got just and like, had no idea what he was going down', ' over me and he was pushing me. And I pulled away and he was fighting me, and I was to, and I had no idea what that was going for', ' over me and he was choking me. And I pulled away and he was fighting me, and I just in up I he had no idea what it was going for', ' over me and he was choking me. And I pulled away and he was fighting me, and I got just and like, had no idea what he was going for', ' over me and he was pushing me. And I pulled away and he was fighting me, and I was to, and I had no idea what that was going.\"', ' over me and he was choking me. And I pulled away and he was fighting me, and I just in up I he had no idea what it was going.\"', ' over me and he was choking me. And I pulled away and he was fighting me, and I got just and like, had no idea what he was going.\"', ' over me and he was pushing me. And I pulled away and he was fighting me, and I was to, and I had no idea what that was going!', ' over me and he was choking me. And I pulled away and he was fighting me, and I just in up I he had no idea what it was going!', ' over me and he was choking me. And I pulled away and he was fighting me, and I got just and like, had no idea what he was going!', ' over me and he was pushing me. And I pulled away and he was fighting me, and I was to, and I had no idea what that was going forward', ' over me and he was choking me. And I pulled away and he was fighting me, and I just in up I he had no idea what it was going forward', ' over me and he was choking me. And I pulled away and he was fighting me, and I got just and like, had no idea what he was going forward']\n"
     ]
    },
    {
     "name": "stderr",
     "output_type": "stream",
     "text": [
      "100%|██████████| 30/30 [00:13<00:00,  2.25it/s]"
     ]
    },
    {
     "name": "stdout",
     "output_type": "stream",
     "text": [
      "[' over me and he was pushing me. And I pulled away and he was fighting me, and I was to, and I had no idea what that was going to', ' over me and he was pushing me. And I pulled away and he was fighting me, and I was to, and I had no idea what that was going on', ' over me and he was pushing me. And I pulled away and he was fighting me, and I was to, and I had no idea what that was going through']\n"
     ]
    },
    {
     "name": "stderr",
     "output_type": "stream",
     "text": [
      "\n"
     ]
    }
   ],
   "source": [
    "hypotheses = beam_rerank(source_text, \n",
    "                        input_ids, \n",
    "                        indices_in_mlm_tokens,\n",
    "                        predicted_token_ids.indices,\n",
    "                        mlm_tokenizer, \n",
    "                        lossfns,\n",
    "                        config)"
   ]
  },
  {
   "cell_type": "code",
   "execution_count": 44,
   "metadata": {},
   "outputs": [
    {
     "data": {
      "text/plain": [
       "torch.Size([1, 39])"
      ]
     },
     "execution_count": 44,
     "metadata": {},
     "output_type": "execute_result"
    }
   ],
   "source": [
    "input_ids[[1],:].shape"
   ]
  },
  {
   "cell_type": "code",
   "execution_count": 32,
   "metadata": {},
   "outputs": [],
   "source": [
    "indices_in_mlm_tokens_subset = (torch.zeros_like(indices_in_mlm_tokens[1][indices_in_mlm_tokens[0]==1]),\n",
    "                                indices_in_mlm_tokens[1][indices_in_mlm_tokens[0]==1]) "
   ]
  },
  {
   "cell_type": "code",
   "execution_count": 33,
   "metadata": {},
   "outputs": [],
   "source": [
    "edit_indices = sorted(list(set(indices_in_mlm_tokens_subset[1].tolist())))"
   ]
  },
  {
   "cell_type": "code",
   "execution_count": 17,
   "metadata": {},
   "outputs": [
    {
     "data": {
      "text/plain": [
       "[3, 7, 8]"
      ]
     },
     "execution_count": 17,
     "metadata": {},
     "output_type": "execute_result"
    }
   ],
   "source": [
    "edit_indices"
   ]
  },
  {
   "cell_type": "code",
   "execution_count": 34,
   "metadata": {},
   "outputs": [],
   "source": [
    "predicted_token_ids_subset = predicted_token_ids.indices[indices_in_mlm_tokens[0]==1]"
   ]
  },
  {
   "cell_type": "code",
   "execution_count": 61,
   "metadata": {},
   "outputs": [
    {
     "data": {
      "text/plain": [
       "torch.Size([2, 10])"
      ]
     },
     "execution_count": 61,
     "metadata": {},
     "output_type": "execute_result"
    }
   ],
   "source": [
    "predicted_token_ids_subset.shape"
   ]
  },
  {
   "cell_type": "code",
   "execution_count": 22,
   "metadata": {},
   "outputs": [
    {
     "data": {
      "text/plain": [
       "tensor([3, 7, 8], device='cuda:0')"
      ]
     },
     "execution_count": 22,
     "metadata": {},
     "output_type": "execute_result"
    }
   ],
   "source": [
    "indices_in_mlm_tokens_subset[1]"
   ]
  },
  {
   "cell_type": "code",
   "execution_count": 29,
   "metadata": {},
   "outputs": [
    {
     "data": {
      "text/plain": [
       "tensor([0, 0, 0], device='cuda:0')"
      ]
     },
     "execution_count": 29,
     "metadata": {},
     "output_type": "execute_result"
    }
   ],
   "source": [
    "indices_in_mlm_tokens_subset[0]"
   ]
  },
  {
   "cell_type": "code",
   "execution_count": 30,
   "metadata": {},
   "outputs": [
    {
     "data": {
      "text/plain": [
       "tensor([0], device='cuda:0')"
      ]
     },
     "execution_count": 30,
     "metadata": {},
     "output_type": "execute_result"
    }
   ],
   "source": [
    "indices_in_mlm_tokens_subset[0][indices_in_mlm_tokens_subset[1]==3]"
   ]
  },
  {
   "cell_type": "code",
   "execution_count": 37,
   "metadata": {},
   "outputs": [
    {
     "name": "stdout",
     "output_type": "stream",
     "text": [
      "[3, 7, 8]\n"
     ]
    },
    {
     "name": "stderr",
     "output_type": "stream",
     "text": [
      " 33%|███▎      | 1/3 [00:00<00:00,  6.87it/s]"
     ]
    },
    {
     "name": "stdout",
     "output_type": "stream",
     "text": [
      "3\n",
      "[' over like him', ' over like him', ' over like him', ' over like that', ' over like that', ' over like that', ' over like it', ' over like it', ' over like it', ' over like,', ' over like,', ' over like,', ' over like this', ' over like this', ' over like this', ' over like me', ' over like me', ' over like me', ' over like you', ' over like you', ' over like you', ' over like everything', ' over like everything', ' over like everything', ' over like something', ' over like something', ' over like something', ' over like them', ' over like them', ' over like them']\n",
      "[' over like,', ' over like that', ' over like this']\n",
      "7\n",
      "[' over like, and he was like', ' over like that and he was like', ' over like this and he was like', ' over like, and he was so', ' over like that and he was so', ' over like this and he was so', ' over like, and he was really', ' over like that and he was really', ' over like this and he was really', ' over like, and he was cool', ' over like that and he was cool', ' over like this and he was cool', ' over like, and he was crazy', ' over like that and he was crazy', ' over like this and he was crazy', ' over like, and he was cute', ' over like that and he was cute', ' over like this and he was cute', ' over like, and he was pretty', ' over like that and he was pretty', ' over like this and he was pretty', ' over like, and he was a', ' over like that and he was a', ' over like this and he was a', ' over like, and he was awesome', ' over like that and he was awesome', ' over like this and he was awesome', ' over like, and he was right', ' over like that and he was right', ' over like this and he was right']\n"
     ]
    },
    {
     "name": "stderr",
     "output_type": "stream",
     "text": [
      "100%|██████████| 3/3 [00:00<00:00,  6.41it/s]"
     ]
    },
    {
     "name": "stdout",
     "output_type": "stream",
     "text": [
      "[' over like, and he was like', ' over like that and he was so', ' over like that and he was like']\n",
      "8\n",
      "[' over like, and he was like.', ' over like that and he was so.', ' over like this and he was like.', ' over like, and he was like!', ' over like that and he was so!', ' over like this and he was like!', ' over like, and he was like:', ' over like that and he was so:', ' over like this and he was like:', ' over like, and he was like?', ' over like that and he was so?', ' over like this and he was like?', ' over like, and he was like…', ' over like that and he was so…', ' over like this and he was like…', ' over like, and he was like...', ' over like that and he was so...', ' over like this and he was like...', ' over like, and he was like …', ' over like that and he was so …', ' over like this and he was like …', ' over like, and he was like.\"', ' over like that and he was so.\"', ' over like this and he was like.\"', ' over like, and he was like me', ' over like that and he was so me', ' over like this and he was like me', ' over like, and he was like cool', ' over like that and he was so cool', ' over like this and he was like cool']\n",
      "[' over like, and he was like:', ' over like this and he was like.', ' over like this and he was like:']\n"
     ]
    },
    {
     "name": "stderr",
     "output_type": "stream",
     "text": [
      "\n"
     ]
    }
   ],
   "source": [
    "hypotheses_subset = beam_rerank(source_text, \n",
    "                        input_ids[[1],:], \n",
    "                        indices_in_mlm_tokens_subset,\n",
    "                        predicted_token_ids_subset,\n",
    "                        mlm_tokenizer, \n",
    "                        lossfns,\n",
    "                        config)"
   ]
  },
  {
   "cell_type": "code",
   "execution_count": 47,
   "metadata": {},
   "outputs": [
    {
     "data": {
      "text/plain": [
       "tensor([3, 5], device='cuda:0')"
      ]
     },
     "execution_count": 47,
     "metadata": {},
     "output_type": "execute_result"
    }
   ],
   "source": [
    "indices_in_mlm_tokens[1][indices_in_mlm_tokens[0]==1]"
   ]
  },
  {
   "cell_type": "code",
   "execution_count": 50,
   "metadata": {},
   "outputs": [
    {
     "data": {
      "text/plain": [
       "'<s> over like<mask> and<mask> was f...</s><pad><pad><pad><pad><pad><pad><pad><pad><pad><pad><pad><pad><pad><pad><pad><pad><pad><pad><pad><pad><pad><pad><pad><pad><pad><pad><pad><pad><pad>'"
      ]
     },
     "execution_count": 50,
     "metadata": {},
     "output_type": "execute_result"
    }
   ],
   "source": [
    "mlm_tokenizer.decode(input_ids[1,])"
   ]
  },
  {
   "cell_type": "code",
   "execution_count": 53,
   "metadata": {},
   "outputs": [
    {
     "data": {
      "text/plain": [
       "tensor([[   14,    42,     6,   162,    24, 15328,   123,  7105,  1085,  2350],\n",
       "        [   38,    24,    37,    14,    79,   960,    42,    89,   961,   172]],\n",
       "       device='cuda:0')"
      ]
     },
     "execution_count": 53,
     "metadata": {},
     "output_type": "execute_result"
    }
   ],
   "source": [
    "predicted_token_ids.indices[indices_in_mlm_tokens[0]==1]"
   ]
  },
  {
   "cell_type": "code",
   "execution_count": 25,
   "metadata": {},
   "outputs": [],
   "source": [
    "hypotheses1 = hypotheses.detach().clone()"
   ]
  },
  {
   "cell_type": "code",
   "execution_count": 31,
   "metadata": {},
   "outputs": [
    {
     "data": {
      "text/plain": [
       "tensor([   24,    11,    10,    15,    37,    39,    62, 32651,    31,   514,\n",
       "          133,    56,   514,     6,    24,  7516,    95,    11,  1929,   514,\n",
       "           37,    21,   169,     6,   172,     6,   734,     7,    37,     8,\n",
       "        38821,     4, 14292,    17,     5,     4,    17, 48584,     7,     6,\n",
       "            6,     6,     6, 14292,  1174, 10278,    35,    12, 48584,   133,\n",
       "            4,     8,     4], device='cuda:0')"
      ]
     },
     "execution_count": 31,
     "metadata": {},
     "output_type": "execute_result"
    }
   ],
   "source": [
    "hypotheses1[hypotheses1 != hypotheses]"
   ]
  },
  {
   "cell_type": "code",
   "execution_count": 32,
   "metadata": {},
   "outputs": [
    {
     "data": {
      "text/plain": [
       "tensor([   37,    15,   127,    11,    10,    10,    15,     4,     7,    72,\n",
       "         7516,  1415, 35200,    19,   514,   133, 35200,    31, 11471,  1929,\n",
       "          172,     6, 20745,     4,    37,    21,     6,     5,   172,     6,\n",
       "          652,     6, 10278,     5,    10,    35,    35,   176,   134,     5,\n",
       "            5,    35,    12,     8,   328, 14292,   176,     6,   176,     6,\n",
       "           19,    12,   467], device='cuda:0')"
      ]
     },
     "execution_count": 32,
     "metadata": {},
     "output_type": "execute_result"
    }
   ],
   "source": [
    "hypotheses[hypotheses1 != hypotheses]"
   ]
  },
  {
   "cell_type": "code",
   "execution_count": 40,
   "metadata": {},
   "outputs": [
    {
     "data": {
      "text/plain": [
       "[\"For me, the,, and could hear him starting to come, but I didn't stop him. Thank God he had these things on me.\",\n",
       " \"Watch me to to back and he could hear him starting to come, but I didn't stop him. Thank God he had these clothes on me.\",\n",
       " \"Behind me. and house that I could hear him starting to come, but I didn't stop him. Thank God he had these shoes on me.\",\n",
       " ' over like that and he was like:',\n",
       " ' over like this and he was like:',\n",
       " ' over like this and he was like...',\n",
       " ' over me and put his hand in my butt and he was running his hand up and down my ass and he just put his hand back in my butt and he rubbed it.This is',\n",
       " ' over me and put his hand in my butt and he was moving his hand up and down my ass and I then put his hand back in my butt and I rubbed it.This is',\n",
       " ' over me and put his hand in my butt and he was moving his hand up and down my ass and he also put his hand back in my butt and just rubbed it.This is',\n",
       " 'II reaching for his genitals, and so, and, just get the stall door open and I get out,\" Stephanie said.',\n",
       " '\"He reaching for his genitals, and so, he I, got the stall door open and I get out,\" Stephanie says,',\n",
       " ' \" was reaching for his genitals, and so, I just, hold the stall door open and I get out,\" Stephanie explained of',\n",
       " ' over me and he was pushing me. And I pulled away and he was fighting me, and I was to, and I had no idea what that was going to',\n",
       " ' over me and he was choking me. And I pulled away and he was fighting me, and I just in up I he had no idea what it was going on',\n",
       " ' over me and he was choking me. And I pulled away and he was fighting me, and I got just and like, had no idea what he was going through',\n",
       " 'But the sink. It was dirty. The whole place smelled up just the sink and the water.',\n",
       " 'In the sink. It was dirty. The whole place was, but the sink and the floor,',\n",
       " 'And the sink. It was dirty. The whole place. dirt except the sink and the counter?',\n",
       " ' over the sink and then was bending over one of the toilet cabinets and being a good boy in his pants.',\n",
       " ' over the sink and then was bending over one of the toilet sinks and being a big boy in his pants.',\n",
       " ' over the sink and then was bending over one of the toilet sinks and being a big boy in his pants.',\n",
       " '(. yeah. He just had all this time going through a donkey trying to put a new zippo in.',\n",
       " '\" he it, He just took all this time going to a donkey trying to put a fucking zippo in.',\n",
       " '[, right... He just had all this time going over a donkey trying to put a fucking zippo in.',\n",
       " ' over and I flicked my underwear up, the the pitch I had discovered before, with my finger.',\n",
       " ' over and I flicked my underwear off to to same pitch I had discovered before, with my finger.',\n",
       " ' over and I flicked my underwear at and a one pitch I had discovered before, with my finger.',\n",
       " 'C, a and the and master bike when seen riding a of.. the-).',\n",
       " 'H- the R a the master bike was seen on the-, the, and:',\n",
       " 'P, and of, a master bike was seen in this a and, and in!']"
      ]
     },
     "execution_count": 40,
     "metadata": {},
     "output_type": "execute_result"
    }
   ],
   "source": [
    "hypotheses"
   ]
  },
  {
   "cell_type": "code",
   "execution_count": 39,
   "metadata": {},
   "outputs": [
    {
     "ename": "AttributeError",
     "evalue": "'list' object has no attribute 'reshape'",
     "output_type": "error",
     "traceback": [
      "\u001b[0;31m---------------------------------------------------------------------------\u001b[0m",
      "\u001b[0;31mAttributeError\u001b[0m                            Traceback (most recent call last)",
      "Cell \u001b[0;32mIn[39], line 1\u001b[0m\n\u001b[0;32m----> 1\u001b[0m mlm_tokenizer\u001b[38;5;241m.\u001b[39mbatch_decode(\u001b[43mhypotheses\u001b[49m\u001b[38;5;241;43m.\u001b[39;49m\u001b[43mreshape\u001b[49m(\u001b[38;5;241m-\u001b[39m\u001b[38;5;241m1\u001b[39m, hypotheses\u001b[38;5;241m.\u001b[39mshape[\u001b[38;5;241m-\u001b[39m\u001b[38;5;241m1\u001b[39m]), skip_special_tokens\u001b[38;5;241m=\u001b[39m\u001b[38;5;28;01mTrue\u001b[39;00m)\n",
      "\u001b[0;31mAttributeError\u001b[0m: 'list' object has no attribute 'reshape'"
     ]
    }
   ],
   "source": [
    "mlm_tokenizer.batch_decode(hypotheses.reshape(-1, hypotheses.shape[-1]), skip_special_tokens=True)"
   ]
  },
  {
   "cell_type": "code",
   "execution_count": 18,
   "metadata": {},
   "outputs": [
    {
     "data": {
      "text/plain": [
       "[\" over me trying to cum. I could see he was to the, but I didn't stop him. And God he had these pants on me.\",\n",
       " \" over me trying to cum. I could tell his was of to out but I didn't stop him. By God he had these pants on me.\",\n",
       " \" over me trying to cum. I could tell him cock in it off but I didn't stop him. My God he had these pants on me.\",\n",
       " ' over like, and it was f...',\n",
       " ' over like, and he was f...',\n",
       " ' over like, and he was f...',\n",
       " 'led me and put the hand in my butt and he hand forced his way up and down my ass and then he put his hand back in my face and he rubbed it.This is',\n",
       " 'handed me and put a hand on my butt and he hand forced his head up and down my ass and then he put his hand back in my hand and he rubbed it.This is',\n",
       " 'behind me and put his hand up my butt and his hand forced his hand up and down my ass and then he put his hand back in my ass and he rubbed it.This is',\n",
       " ' over, reaching for his genitals, and so, he just jerked the stall door open and took the door. Stephanie said.',\n",
       " ' over, reaching for his genitals, and so, and, jerked the stall door open and started a inside, Stephanie said.',\n",
       " ' over, reaching for his genitals, and so, he he jerked the stall door open and let in penis said Stephanie said.',\n",
       " ' over me and he was raping me. He kept me, and I was fighting me, and I was in fear.I had no idea what it was going to',\n",
       " ' over me and he was raping me. And was fighting crying and it was fighting me, and I was in fear.I had no idea what it was going to',\n",
       " ' over me and he was raping me. And he screaming, and it was fighting me, and I was in fear.I had no idea what it was going to',\n",
       " 'In bathroom sink. It was dirty. The whole place smelled dirty from the sink and the. water',\n",
       " 'The the sink. It was dirty. The whole place had water, the sink and everything it.',\n",
       " 'Oh that sink. It was dirty. The whole place was just in the sink and floor water...',\n",
       " \"in's sink and he was bending over one of the water pipes and being a moron in his way,\",\n",
       " '\" the sink and then, bending over one of the water jets and being a moron in his head...',\n",
       " 'I to sink and he and bending over one of the water lines and being a moron in his stupidity.',\n",
       " ' over the toilet. He just kept all this time going, this donkey trying to put a little water of the it.',\n",
       " ' over the toilet. He just kept all this time going. The donkey trying to put a little bit on him.,',\n",
       " ' over the toilet. He just kept all this time going, the donkey trying and put a little bit over his head?',\n",
       " ' over and I flicked my underwear on to the the, I had discovered before, with my finger.',\n",
       " ' over and I flicked my underwear up to see spot where they had discovered before, with my finger.',\n",
       " ' over and I flicked my underwear off to the, like I had discovered before, with my finger.',\n",
       " '(��. the, master bike.�\\n\\n▲Toilet and.',\n",
       " '*� to,,, master bike,�\\n\\n▲Toilet-…',\n",
       " '▪:-�The master bike. and\\n\\n▲Toilet:.']"
      ]
     },
     "execution_count": 18,
     "metadata": {},
     "output_type": "execute_result"
    }
   ],
   "source": [
    "mlm_tokenizer.batch_decode(hypotheses.reshape(-1, hypotheses.shape[-1]), skip_special_tokens=True)"
   ]
  },
  {
   "cell_type": "code",
   "execution_count": 60,
   "metadata": {},
   "outputs": [
    {
     "data": {
      "text/plain": [
       "tensor([[11, 10,  9],\n",
       "        [ 2,  1,  0]], device='cuda:0')"
      ]
     },
     "execution_count": 60,
     "metadata": {},
     "output_type": "execute_result"
    }
   ],
   "source": [
    "top_beams"
   ]
  },
  {
   "cell_type": "code",
   "execution_count": 23,
   "metadata": {},
   "outputs": [],
   "source": []
  },
  {
   "cell_type": "code",
   "execution_count": 24,
   "metadata": {},
   "outputs": [
    {
     "data": {
      "text/plain": [
       "torch.Size([8, 30, 39])"
      ]
     },
     "execution_count": 24,
     "metadata": {},
     "output_type": "execute_result"
    }
   ],
   "source": [
    "tmp_hypotheses.shape"
   ]
  },
  {
   "cell_type": "code",
   "execution_count": 25,
   "metadata": {},
   "outputs": [
    {
     "data": {
      "text/plain": [
       "torch.Size([10, 3, 39])"
      ]
     },
     "execution_count": 25,
     "metadata": {},
     "output_type": "execute_result"
    }
   ],
   "source": [
    "hypotheses.shape"
   ]
  },
  {
   "cell_type": "code",
   "execution_count": 26,
   "metadata": {},
   "outputs": [],
   "source": []
  },
  {
   "cell_type": "code",
   "execution_count": 27,
   "metadata": {},
   "outputs": [],
   "source": [
    "i=1"
   ]
  },
  {
   "cell_type": "code",
   "execution_count": 28,
   "metadata": {},
   "outputs": [],
   "source": []
  },
  {
   "cell_type": "code",
   "execution_count": 29,
   "metadata": {},
   "outputs": [],
   "source": []
  },
  {
   "cell_type": "code",
   "execution_count": null,
   "metadata": {},
   "outputs": [],
   "source": []
  },
  {
   "cell_type": "code",
   "execution_count": 37,
   "metadata": {},
   "outputs": [
    {
     "data": {
      "text/plain": [
       "torch.Size([240, 39])"
      ]
     },
     "execution_count": 37,
     "metadata": {},
     "output_type": "execute_result"
    }
   ],
   "source": [
    "expanded_tmp_hypotheses.reshape(-1, expanded_tmp_hypotheses.shape[-1]).shape"
   ]
  },
  {
   "cell_type": "code",
   "execution_count": 35,
   "metadata": {},
   "outputs": [
    {
     "data": {
      "text/plain": [
       "torch.Size([240, 2])"
      ]
     },
     "execution_count": 35,
     "metadata": {},
     "output_type": "execute_result"
    }
   ],
   "source": [
    "tmp_hypotheses.shape"
   ]
  },
  {
   "cell_type": "code",
   "execution_count": 39,
   "metadata": {},
   "outputs": [],
   "source": []
  },
  {
   "cell_type": "code",
   "execution_count": null,
   "metadata": {},
   "outputs": [],
   "source": []
  },
  {
   "cell_type": "code",
   "execution_count": null,
   "metadata": {},
   "outputs": [],
   "source": []
  },
  {
   "cell_type": "code",
   "execution_count": 11,
   "metadata": {},
   "outputs": [
    {
     "data": {
      "text/plain": [
       "torch.Size([68, 10])"
      ]
     },
     "execution_count": 11,
     "metadata": {},
     "output_type": "execute_result"
    }
   ],
   "source": [
    "predicted_token_ids.indices.shape"
   ]
  },
  {
   "cell_type": "code",
   "execution_count": 13,
   "metadata": {},
   "outputs": [
    {
     "data": {
      "text/plain": [
       "(tensor([0, 0, 0, 0, 0, 0, 0, 1, 1, 2, 2, 2, 2, 2, 2, 3, 3, 3, 3, 3, 3, 3, 4, 4,\n",
       "         4, 4, 4, 4, 5, 5, 5, 5, 5, 5, 6, 6, 6, 6, 6, 6, 6, 7, 7, 7, 7, 7, 7, 7,\n",
       "         7, 8, 8, 8, 8, 8, 9, 9, 9, 9, 9, 9, 9, 9, 9, 9, 9, 9, 9, 9],\n",
       "        device='cuda:0'),\n",
       " tensor([ 1,  2, 10, 11, 28, 29, 30,  1,  2,  1, 11, 12, 29, 30, 32,  1,  2, 11,\n",
       "         12, 21, 22, 23, 21, 29, 30, 31, 32, 33,  1,  2, 11, 12, 13, 14,  1,  9,\n",
       "         11, 12, 13, 21, 22,  1,  2,  8,  9, 10, 20, 21, 22,  1, 12, 13, 20, 21,\n",
       "          1,  2,  3,  4,  5,  6,  9, 10, 11, 12, 13, 14, 15, 16],\n",
       "        device='cuda:0'))"
      ]
     },
     "execution_count": 13,
     "metadata": {},
     "output_type": "execute_result"
    }
   ],
   "source": [
    "indices_in_mlm_tokens"
   ]
  },
  {
   "cell_type": "code",
   "execution_count": 124,
   "metadata": {},
   "outputs": [],
   "source": [
    "## 일단 무조건 한 스텝 extend하고, 그 다음에 extend한 곳의 값들을 수정하는 방식으로 해보는건 어떨까? \n",
    "hypotheses = torch.cat([hypotheses, masked_sequence[:, None, i].unsqueeze(1).expand(-1, config['beam_size'], 1)],dim=-1)"
   ]
  },
  {
   "cell_type": "code",
   "execution_count": 126,
   "metadata": {},
   "outputs": [],
   "source": [
    "skipping_batch_ids = (masked_sequence[:, i] == mlm_tokenizer.mask_token_id).nonzero()"
   ]
  },
  {
   "cell_type": "code",
   "execution_count": 127,
   "metadata": {},
   "outputs": [
    {
     "data": {
      "text/plain": [
       "tensor([[0],\n",
       "        [1],\n",
       "        [2],\n",
       "        [3],\n",
       "        [5],\n",
       "        [6],\n",
       "        [7],\n",
       "        [8],\n",
       "        [9]], device='cuda:0')"
      ]
     },
     "execution_count": 127,
     "metadata": {},
     "output_type": "execute_result"
    }
   ],
   "source": [
    "skipping_batch_ids ## for loop over these indices?"
   ]
  },
  {
   "cell_type": "code",
   "execution_count": 61,
   "metadata": {},
   "outputs": [
    {
     "data": {
      "text/plain": [
       "tensor([], device='cuda:0', size=(10, 3, 0), dtype=torch.int64)"
      ]
     },
     "execution_count": 61,
     "metadata": {},
     "output_type": "execute_result"
    }
   ],
   "source": [
    "hypotheses[skipping_batch_ids.squeeze()]"
   ]
  },
  {
   "cell_type": "code",
   "execution_count": 63,
   "metadata": {},
   "outputs": [
    {
     "data": {
      "text/plain": [
       "tensor([0, 0, 0, 0, 0, 0, 0, 0, 0, 0], device='cuda:0')"
      ]
     },
     "execution_count": 63,
     "metadata": {},
     "output_type": "execute_result"
    }
   ],
   "source": [
    "masked_sequence[skipping_batch_ids.squeeze(), i]"
   ]
  },
  {
   "cell_type": "code",
   "execution_count": 70,
   "metadata": {},
   "outputs": [
    {
     "data": {
      "text/plain": [
       "torch.Size([10, 3, 1])"
      ]
     },
     "execution_count": 70,
     "metadata": {},
     "output_type": "execute_result"
    }
   ],
   "source": [
    "masked_sequence[skipping_batch_ids.squeeze(), i].unsqueeze(1).unsqueeze(1).expand(len(skipping_batch_ids), config['beam_size'], 1).shape"
   ]
  },
  {
   "cell_type": "code",
   "execution_count": 41,
   "metadata": {},
   "outputs": [
    {
     "data": {
      "text/plain": [
       "torch.Size([1, 1])"
      ]
     },
     "execution_count": 41,
     "metadata": {},
     "output_type": "execute_result"
    }
   ],
   "source": [
    "masked_sequence[skipping_batch_ids, i].shape"
   ]
  },
  {
   "cell_type": "code",
   "execution_count": null,
   "metadata": {},
   "outputs": [],
   "source": [
    "hypotheses = [torch.LongTensor([]).to(config['device'])]\n",
    "L = masked_sequence.size(-1)\n",
    "for i in range(L):\n",
    "    "
   ]
  },
  {
   "cell_type": "code",
   "execution_count": 14,
   "metadata": {},
   "outputs": [
    {
     "ename": "TypeError",
     "evalue": "where(): argument 'condition' (position 1) must be Tensor, not bool",
     "output_type": "error",
     "traceback": [
      "\u001b[0;31m---------------------------------------------------------------------------\u001b[0m",
      "\u001b[0;31mTypeError\u001b[0m                                 Traceback (most recent call last)",
      "Cell \u001b[0;32mIn[14], line 12\u001b[0m\n\u001b[1;32m     10\u001b[0m hypotheses \u001b[38;5;241m=\u001b[39m torch\u001b[38;5;241m.\u001b[39mstack(hypotheses,dim\u001b[38;5;241m=\u001b[39m\u001b[38;5;241m0\u001b[39m)\u001b[38;5;241m.\u001b[39munsqueeze(\u001b[38;5;241m0\u001b[39m)\n\u001b[1;32m     11\u001b[0m hypotheses \u001b[38;5;241m=\u001b[39m hypotheses\u001b[38;5;241m.\u001b[39mrepeat(config[\u001b[38;5;124m'\u001b[39m\u001b[38;5;124mk_per_location\u001b[39m\u001b[38;5;124m'\u001b[39m], \u001b[38;5;241m1\u001b[39m, \u001b[38;5;241m1\u001b[39m)\n\u001b[0;32m---> 12\u001b[0m candidates \u001b[38;5;241m=\u001b[39m predicted_token_ids\u001b[38;5;241m.\u001b[39mindices[\u001b[43mtorch\u001b[49m\u001b[38;5;241;43m.\u001b[39;49m\u001b[43mwhere\u001b[49m\u001b[43m(\u001b[49m\u001b[43mindices_in_mlm_tokens\u001b[49m\u001b[43m \u001b[49m\u001b[38;5;241;43m==\u001b[39;49m\u001b[43m \u001b[49m\u001b[43mi\u001b[49m\u001b[43m)\u001b[49m[\u001b[38;5;241m0\u001b[39m], :]\u001b[38;5;241m.\u001b[39mto(config[\u001b[38;5;124m'\u001b[39m\u001b[38;5;124mdevice\u001b[39m\u001b[38;5;124m'\u001b[39m])\u001b[38;5;241m.\u001b[39mT\u001b[38;5;241m.\u001b[39munsqueeze(\u001b[38;5;241m1\u001b[39m)\n\u001b[1;32m     13\u001b[0m candidates \u001b[38;5;241m=\u001b[39m candidates\u001b[38;5;241m.\u001b[39mrepeat(\u001b[38;5;241m1\u001b[39m, num_hypotheses, \u001b[38;5;241m1\u001b[39m)\n\u001b[1;32m     14\u001b[0m hypotheses_exp \u001b[38;5;241m=\u001b[39m torch\u001b[38;5;241m.\u001b[39mcat([hypotheses, candidates], dim\u001b[38;5;241m=\u001b[39m\u001b[38;5;241m-\u001b[39m\u001b[38;5;241m1\u001b[39m)\n",
      "\u001b[0;31mTypeError\u001b[0m: where(): argument 'condition' (position 1) must be Tensor, not bool"
     ]
    }
   ],
   "source": [
    "hypotheses = [torch.LongTensor([]).to(config['device'])]\n",
    "L = masked_sequence.size(-1)\n",
    "\n",
    "for i in range(L):\n",
    "    if masked_sequence[:, i] != mlm_tokenizer.mask_token_id:\n",
    "        hypotheses = list(torch.cat([torch.stack(hypotheses,dim=0), \n",
    "                                    masked_sequence[:, i].unsqueeze(0).repeat((len(hypotheses),1)).to(config['device'])],dim=-1))\n",
    "    else:\n",
    "        num_hypotheses = len(hypotheses)\n",
    "        hypotheses = torch.stack(hypotheses,dim=0).unsqueeze(0)\n",
    "        hypotheses = hypotheses.repeat(config['k_per_location'], 1, 1)\n",
    "        candidates = predicted_token_ids.indices[torch.where(indices_in_mlm_tokens == i)[0], :].to(config['device']).T.unsqueeze(1) ## 이부분이 바뀌어야 함\n",
    "        candidates = candidates.repeat(1, num_hypotheses, 1)\n",
    "        hypotheses_exp = torch.cat([hypotheses, candidates], dim=-1)\n",
    "        hypotheses_exp = hypotheses_exp.view(-1, hypotheses_exp.shape[-1])\n",
    "        hypotheses_exp = list(hypotheses_exp)\n",
    "\n",
    "        losses = []\n",
    "        loss_weights = [1 - config['closs_weight'], config['closs_weight']]\n",
    "        for hyp in hypotheses_exp:\n",
    "            curr_loss = 0.0\n",
    "            for lossid, lossname in enumerate(config[\"losses\"]):\n",
    "                with torch.no_grad():\n",
    "                    lossvalue = lossfns[lossid].compute_gold_loss(\n",
    "                        source_text, mlm_tokenizer.decode(hyp, skip_special_tokens=True),\n",
    "                        label_id=config['target_label_ids'][lossid],\n",
    "                    )\n",
    "                curr_loss += loss_weights[lossid] * lossvalue.item()\n",
    "            losses.append(curr_loss)\n",
    "\n",
    "        hypotheses = sorted(zip(hypotheses_exp, losses), key=lambda x: x[1])[:config['beam_size']]\n",
    "        hypotheses = [x[0] for x in hypotheses]"
   ]
  },
  {
   "cell_type": "code",
   "execution_count": null,
   "metadata": {},
   "outputs": [],
   "source": []
  },
  {
   "cell_type": "code",
   "execution_count": null,
   "metadata": {},
   "outputs": [],
   "source": []
  },
  {
   "cell_type": "code",
   "execution_count": null,
   "metadata": {},
   "outputs": [],
   "source": []
  },
  {
   "cell_type": "code",
   "execution_count": null,
   "metadata": {},
   "outputs": [],
   "source": [
    "\n",
    "def beam_rerank_v0(source_text, ## text (too arbitrary?)\n",
    "                    masked_sequence, ## in mlm tokenizer's tokens\n",
    "                    indices_in_mlm_tokens,\n",
    "                    predicted_token_ids,\n",
    "                    mlm_tokenizer, \n",
    "                    lossfns,\n",
    "                    config, \n",
    "                    beam_size = 5):\n",
    "    \n",
    "    hypotheses = [torch.LongTensor([]).to(config['device'])]\n",
    "    L = masked_sequence.size(-1)\n",
    "\n",
    "    for i in range(L):\n",
    "        if masked_sequence[0, i] != mlm_tokenizer.mask_token_id:\n",
    "            hypotheses = list(torch.cat([torch.stack(hypotheses,dim=0), \n",
    "                                        masked_sequence[:, i].unsqueeze(0).repeat((len(hypotheses),1)).to(config['device'])],dim=-1))\n",
    "        else:\n",
    "            num_hypotheses = len(hypotheses)\n",
    "            hypotheses = torch.stack(hypotheses,dim=0).unsqueeze(0)\n",
    "            hypotheses = hypotheses.repeat(config['k_per_location'], 1, 1)\n",
    "            candidates = predicted_token_ids.indices[torch.where(indices_in_mlm_tokens == i)[0], :].to(config['device']).T.unsqueeze(1)\n",
    "            candidates = candidates.repeat(1, num_hypotheses, 1)\n",
    "            hypotheses_exp = torch.cat([hypotheses, candidates], dim=-1)\n",
    "            hypotheses_exp = hypotheses_exp.view(-1, hypotheses_exp.shape[-1])\n",
    "            hypotheses_exp = list(hypotheses_exp)\n",
    "\n",
    "            losses = []\n",
    "            loss_weights = [1 - wandb.config.closs_weight, wandb.config.closs_weight]\n",
    "            for hyp in hypotheses_exp:\n",
    "                curr_loss = 0.0\n",
    "                for lossid, lossname in enumerate(config[\"losses\"]):\n",
    "                    with torch.no_grad():\n",
    "                        lossvalue = lossfns[lossid].compute_gold_loss(\n",
    "                            source_text, mlm_tokenizer.decode(hyp, skip_special_tokens=True),\n",
    "                            label_id=config['target_label_ids'][lossid],\n",
    "                        )\n",
    "                    curr_loss += loss_weights[lossid] * lossvalue.item()\n",
    "                losses.append(curr_loss)\n",
    "\n",
    "            hypotheses = sorted(zip(hypotheses_exp, losses), key=lambda x: x[1])[:beam_size]\n",
    "            hypotheses = [x[0] for x in hypotheses]\n",
    "            \n",
    "    return [mlm_tokenizer.decode(x, skip_special_tokens=True) for x in hypotheses]\n"
   ]
  }
 ],
 "metadata": {
  "kernelspec": {
   "display_name": "loc-edit",
   "language": "python",
   "name": "python3"
  },
  "language_info": {
   "codemirror_mode": {
    "name": "ipython",
    "version": 3
   },
   "file_extension": ".py",
   "mimetype": "text/x-python",
   "name": "python",
   "nbconvert_exporter": "python",
   "pygments_lexer": "ipython3",
   "version": "3.11.4"
  }
 },
 "nbformat": 4,
 "nbformat_minor": 2
}
