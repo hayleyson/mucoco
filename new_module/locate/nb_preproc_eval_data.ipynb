{
 "cells": [
  {
   "cell_type": "markdown",
   "id": "69a60ebc-dc07-4c4a-9aa1-4f724342a7a8",
   "metadata": {},
   "source": [
    "# Toxic Spans Detection Dataset"
   ]
  },
  {
   "cell_type": "code",
   "execution_count": 2,
   "id": "4b8edf4c-131f-4f81-bce7-2cb10c4464c7",
   "metadata": {},
   "outputs": [],
   "source": [
    "import os\n",
    "from collections import defaultdict\n",
    "os.chdir('/home/s3/hyeryung/mucoco')\n",
    "\n",
    "from transformers import AutoTokenizer\n",
    "import pandas as pd"
   ]
  },
  {
   "cell_type": "code",
   "execution_count": 3,
   "id": "a3066701-fc71-434c-ac59-dd51b1ceca19",
   "metadata": {},
   "outputs": [],
   "source": [
    "def get_token2index(tmp_text, tmp_tokens, spans):\n",
    "    j = 0\n",
    "    token2index = defaultdict(list)\n",
    "    tmp_token = tmp_tokens[j]\n",
    "    for i in range(len(tmp_text)):\n",
    "        # print(i, tmp_text[i], tmp_token)\n",
    "        while True:\n",
    "            # print(i, tmp_text[i], tmp_token)\n",
    "            if tmp_text[i].replace(' ', 'Ġ').replace('\\n', 'Ċ').replace('’', 'â') == tmp_token[0]:\n",
    "                tmp_token = tmp_token[1:]\n",
    "                token2index[j].append(i)\n",
    "                if len(tmp_token) == 0:\n",
    "                    j += 1\n",
    "                    if j >= len(tmp_tokens):\n",
    "                        break\n",
    "                    tmp_token = tmp_tokens[j]\n",
    "                break\n",
    "            else:\n",
    "                j += 1\n",
    "                if j >= len(tmp_tokens):\n",
    "                    break\n",
    "                tmp_token = tmp_tokens[j]\n",
    "        if j >= len(tmp_tokens):\n",
    "            break\n",
    "    index2token={tuple(v):k for k,v in token2index.items()}  \n",
    "\n",
    "    tokens_ix = []\n",
    "    for sp in spans:\n",
    "        for tk, v in index2token.items():\n",
    "            if sp in tk:\n",
    "                tokens_ix.append(v)\n",
    "                break\n",
    "    \n",
    "    return sorted(list(set(tokens_ix)))"
   ]
  },
  {
   "cell_type": "code",
   "execution_count": 4,
   "id": "7576b1b5-3485-4766-b234-dbb79990e9e3",
   "metadata": {},
   "outputs": [],
   "source": [
    "def get_tok2char(row: pd.Series) -> dict:\n",
    "    \"\"\"\n",
    "    A function to convert a list of tokens into a mapping between each token's index and its corresponding character offsets.\n",
    "    @param row: A row from dataframe\n",
    "    @return tok2char: A dictionary with token's location index as keys and tuples of corresponding character offsets as values.\n",
    "\n",
    "    Example:\n",
    "    row=pd.Series()\n",
    "    row['tokens']=[86, 6648, 1830, 290, 11386, 25998, 278, 7510, 466, 314, 5465, 8223, 5762, 1830, 13]\n",
    "    tok2char=get_tok2char(row)\n",
    "    tok2char\n",
    "    {0: (0,),\n",
    "     1: (1, 2, 3, 4, 5, 6),\n",
    "     2: (7, 8, 9, 10, 11, 12),\n",
    "     3: (13, 14, 15, 16),\n",
    "     ...\n",
    "     13: (59, 60, 61, 62, 63, 64),\n",
    "     14: (65,)}\n",
    "    \"\"\"\n",
    "    global tokenizer\n",
    "    \n",
    "    tok2char=dict()\n",
    "    token_offsets=[0]\n",
    "    \n",
    "    for i in range(1,len(row['tokens'])+1):\n",
    "        decoded=tokenizer.decode(row['tokens'][:i])\n",
    "        token_offsets.append(len(decoded))\n",
    "        tok2char[i-1]=tuple(range(token_offsets[i-1],token_offsets[i]))\n",
    "    return tok2char"
   ]
  },
  {
   "cell_type": "code",
   "execution_count": 2,
   "id": "46606dcd-4281-42fa-9ced-3649209666df",
   "metadata": {},
   "outputs": [
    {
     "data": {
      "application/vnd.jupyter.widget-view+json": {
       "model_id": "c84466d5645044e2afc57ba699bacf18",
       "version_major": 2,
       "version_minor": 0
      },
      "text/plain": [
       "config.json:   0%|          | 0.00/481 [00:00<?, ?B/s]"
      ]
     },
     "metadata": {},
     "output_type": "display_data"
    },
    {
     "data": {
      "application/vnd.jupyter.widget-view+json": {
       "model_id": "db58b10d667a4d538705970a685a44de",
       "version_major": 2,
       "version_minor": 0
      },
      "text/plain": [
       "vocab.json:   0%|          | 0.00/899k [00:00<?, ?B/s]"
      ]
     },
     "metadata": {},
     "output_type": "display_data"
    },
    {
     "data": {
      "application/vnd.jupyter.widget-view+json": {
       "model_id": "ec00ec781c014377a604e8d23fd4c705",
       "version_major": 2,
       "version_minor": 0
      },
      "text/plain": [
       "merges.txt:   0%|          | 0.00/456k [00:00<?, ?B/s]"
      ]
     },
     "metadata": {},
     "output_type": "display_data"
    },
    {
     "data": {
      "application/vnd.jupyter.widget-view+json": {
       "model_id": "b2da86515efc46f1a4197b07960f98f1",
       "version_major": 2,
       "version_minor": 0
      },
      "text/plain": [
       "tokenizer.json:   0%|          | 0.00/1.36M [00:00<?, ?B/s]"
      ]
     },
     "metadata": {},
     "output_type": "display_data"
    }
   ],
   "source": [
    "tokenizer = AutoTokenizer.from_pretrained()"
   ]
  },
  {
   "cell_type": "code",
   "execution_count": 279,
   "id": "c5d776d2-37be-418f-baaf-6613a3d8657c",
   "metadata": {},
   "outputs": [],
   "source": [
    "data_path = \"data/toxicity/toxic_spans/SemEval2021/data/tsd_test.csv\"\n",
    "data = pd.read_csv(data_path)"
   ]
  },
  {
   "cell_type": "code",
   "execution_count": 280,
   "id": "71960434-f823-48f6-93f4-6c502f46e08a",
   "metadata": {},
   "outputs": [],
   "source": [
    "data['tokens']=data['text'].apply(lambda x: tokenizer.tokenize(x))"
   ]
  },
  {
   "cell_type": "code",
   "execution_count": 281,
   "id": "ed13ddb3-61a4-491c-b460-0007900f39a9",
   "metadata": {},
   "outputs": [],
   "source": [
    "data['spans']=data['spans'].apply(eval)"
   ]
  },
  {
   "cell_type": "code",
   "execution_count": 283,
   "id": "8bf59be7-95d3-4250-ae2c-4abd993bc6af",
   "metadata": {},
   "outputs": [],
   "source": [
    "data['spans_tokens']=data.apply(lambda x: get_token2index(x['text'], x['tokens'], x['spans']),axis=1)"
   ]
  },
  {
   "cell_type": "code",
   "execution_count": 285,
   "id": "0326696a-4c54-4292-9268-3108cda149b3",
   "metadata": {},
   "outputs": [],
   "source": [
    "data.to_json(\"data/toxicity/toxic_spans/SemEval2021/data/tsd_test_spans.jsonl\",lines=True,orient=\"records\")"
   ]
  },
  {
   "cell_type": "code",
   "execution_count": null,
   "id": "b0c5c875-3b21-43ac-b4f3-844ddcd2d30d",
   "metadata": {},
   "outputs": [],
   "source": []
  },
  {
   "cell_type": "code",
   "execution_count": 286,
   "id": "edfbd600-439d-49cb-95cc-0bc52bc0df81",
   "metadata": {},
   "outputs": [],
   "source": [
    "data_path = \"data/toxicity/toxic_spans/SemEval2021/data/tsd_train.csv\"\n",
    "data = pd.read_csv(data_path)"
   ]
  },
  {
   "cell_type": "code",
   "execution_count": 287,
   "id": "837d6b81-f9d0-4b23-8f6c-8fe4836d6eae",
   "metadata": {},
   "outputs": [],
   "source": [
    "data['tokens']=data['text'].apply(lambda x: tokenizer.tokenize(x))"
   ]
  },
  {
   "cell_type": "code",
   "execution_count": 288,
   "id": "4cc0139f-8deb-4ead-8e0c-faf43fba5e0e",
   "metadata": {},
   "outputs": [],
   "source": [
    "data['spans']=data['spans'].apply(eval)"
   ]
  },
  {
   "cell_type": "code",
   "execution_count": 289,
   "id": "33edfb81-bbb4-47c2-acd5-c454b8702cf2",
   "metadata": {},
   "outputs": [],
   "source": [
    "data['spans_tokens']=data.apply(lambda x: get_token2index(x['text'], x['tokens'], x['spans']),axis=1)"
   ]
  },
  {
   "cell_type": "code",
   "execution_count": 290,
   "id": "e721651e-2a90-4ac4-8643-9f178cd331fe",
   "metadata": {},
   "outputs": [],
   "source": [
    "data.to_json(\"data/toxicity/toxic_spans/SemEval2021/data/tsd_train_spans.jsonl\",lines=True,orient=\"records\")"
   ]
  },
  {
   "cell_type": "code",
   "execution_count": null,
   "id": "2ca23377-9ff3-4746-8160-c990cbd52d52",
   "metadata": {},
   "outputs": [],
   "source": []
  },
  {
   "cell_type": "code",
   "execution_count": 291,
   "id": "359bdc58-385d-4916-ba63-909bd66633ae",
   "metadata": {},
   "outputs": [],
   "source": [
    "data_path = \"data/toxicity/toxic_spans/SemEval2021/data/tsd_trial.csv\"\n",
    "data = pd.read_csv(data_path)"
   ]
  },
  {
   "cell_type": "code",
   "execution_count": 292,
   "id": "59277093-144c-4b80-a1b3-3d5860faf1fb",
   "metadata": {},
   "outputs": [],
   "source": [
    "data['tokens']=data['text'].apply(lambda x: tokenizer.tokenize(x))"
   ]
  },
  {
   "cell_type": "code",
   "execution_count": 293,
   "id": "baeadb4f-fb02-47d8-b96f-5fe70bd2cb37",
   "metadata": {},
   "outputs": [],
   "source": [
    "data['spans']=data['spans'].apply(eval)"
   ]
  },
  {
   "cell_type": "code",
   "execution_count": 294,
   "id": "233303c5-39d8-46ab-b5c5-3c664636f17a",
   "metadata": {},
   "outputs": [],
   "source": [
    "data['spans_tokens']=data.apply(lambda x: get_token2index(x['text'], x['tokens'], x['spans']),axis=1)"
   ]
  },
  {
   "cell_type": "code",
   "execution_count": 295,
   "id": "df64a5e1-fc27-4fe8-890c-01b3529ef4da",
   "metadata": {},
   "outputs": [],
   "source": [
    "data.to_json(\"data/toxicity/toxic_spans/SemEval2021/data/tsd_trial_spans.jsonl\",lines=True,orient=\"records\")"
   ]
  },
  {
   "cell_type": "code",
   "execution_count": null,
   "id": "cd8f9b76-051c-4c1d-bac8-0c89a87ce435",
   "metadata": {},
   "outputs": [],
   "source": []
  },
  {
   "cell_type": "markdown",
   "id": "da893741-0fdd-47b8-8b5f-673c19f0ca18",
   "metadata": {},
   "source": [
    "# MQM Dataset"
   ]
  },
  {
   "cell_type": "code",
   "execution_count": 1,
   "id": "c8b8bb6d-f675-48c0-9f34-5dddd60ac25b",
   "metadata": {},
   "outputs": [],
   "source": [
    "import os\n",
    "from collections import defaultdict\n",
    "os.chdir('/home/s3/hyeryung/mucoco')\n",
    "\n",
    "from transformers import AutoTokenizer, AddedToken\n",
    "import pandas as pd\n",
    "import numpy as np\n",
    "import torch"
   ]
  },
  {
   "cell_type": "markdown",
   "id": "54d5283c-ac2b-4982-a71c-fb2ca839dd68",
   "metadata": {},
   "source": [
    "## EN-DE"
   ]
  },
  {
   "cell_type": "code",
   "execution_count": 213,
   "id": "6502548a-7b12-4756-bb25-316dd4a49493",
   "metadata": {},
   "outputs": [],
   "source": [
    "data_path = 'data/MT/wmt-mqm-human-evaluation/newstest2020/ende/mqm_newstest2020_ende.tsv'\n",
    "data = pd.read_csv(data_path, sep='\\t', quoting=3)"
   ]
  },
  {
   "cell_type": "code",
   "execution_count": 214,
   "id": "07613c0f-cf04-4eee-ac11-f045ad3fde41",
   "metadata": {},
   "outputs": [],
   "source": [
    "tokenizer = AutoTokenizer.from_pretrained(\"facebook/xlm-roberta-xl\")"
   ]
  },
  {
   "cell_type": "code",
   "execution_count": 215,
   "id": "7c903dfb-a99d-4ab2-88a3-5612554e1b1a",
   "metadata": {},
   "outputs": [
    {
     "data": {
      "text/plain": [
       "2"
      ]
     },
     "execution_count": 215,
     "metadata": {},
     "output_type": "execute_result"
    }
   ],
   "source": [
    "tokenizer.add_tokens([AddedToken(\"<v>\", lstrip=True), AddedToken(\"</v>\", lstrip=True)])"
   ]
  },
  {
   "cell_type": "code",
   "execution_count": 216,
   "id": "0f950233-e85a-4ed0-bf4b-0f8a2daf9cdb",
   "metadata": {},
   "outputs": [],
   "source": [
    "data['target_tokens']=data['target'].apply(lambda x: tokenizer.encode(x,add_special_tokens=False))"
   ]
  },
  {
   "cell_type": "code",
   "execution_count": 217,
   "id": "268c923d-d462-4efa-85a6-6525189b2d45",
   "metadata": {},
   "outputs": [],
   "source": [
    "data['target_clean']=data['target'].str.replace(\"<v>\",\"\").str.replace(\"</v>\",\"\")"
   ]
  },
  {
   "cell_type": "code",
   "execution_count": 218,
   "id": "f129f878-34df-4f78-9f9e-cb413f3df77b",
   "metadata": {},
   "outputs": [],
   "source": [
    "data['target_clean_tokens']=data['target_clean'].apply(lambda x: tokenizer.encode(x,add_special_tokens=False))"
   ]
  },
  {
   "cell_type": "code",
   "execution_count": 219,
   "id": "35aa3ceb-4f73-4dbb-b90d-edd3b881effd",
   "metadata": {},
   "outputs": [
    {
     "data": {
      "text/plain": [
       "250003"
      ]
     },
     "execution_count": 219,
     "metadata": {},
     "output_type": "execute_result"
    }
   ],
   "source": [
    "tokenizer.vocab['</v>']"
   ]
  },
  {
   "cell_type": "code",
   "execution_count": 220,
   "id": "583241e9-be19-4986-acaf-64fbdd658783",
   "metadata": {},
   "outputs": [],
   "source": [
    "def index_wo_error(x, y):\n",
    "    try:\n",
    "        return x.index(y)\n",
    "    except:\n",
    "        return -1\n",
    "data['label_start']=data['target_tokens'].apply(lambda x: index_wo_error(x, 250002))"
   ]
  },
  {
   "cell_type": "code",
   "execution_count": 221,
   "id": "a49d484a-60b1-45e7-841d-28f62f826d7f",
   "metadata": {},
   "outputs": [],
   "source": [
    "data['label_end']=data['target_tokens'].apply(lambda x: index_wo_error(x, 250003)-1) ## -1 to consider that <v> is added."
   ]
  },
  {
   "cell_type": "code",
   "execution_count": 222,
   "id": "824fd3bc-d57c-4a99-b817-5b1e6830a77b",
   "metadata": {},
   "outputs": [],
   "source": [
    "# def get_span(row):\n",
    "#     return row['target_clean_tokens'][row['label_start']:row['label_end']]\n",
    "\n",
    "# data['target_span']=data.apply(get_span, axis=1) ## 꽤 잘 찾는다."
   ]
  },
  {
   "cell_type": "code",
   "execution_count": 223,
   "id": "72519bd1-9934-426d-906d-b570e7821f08",
   "metadata": {},
   "outputs": [],
   "source": [
    "# for i, row in data.iterrows():\n",
    "#     if row['severity']=='no-error':\n",
    "#         continue\n",
    "#     if i > 100:\n",
    "#         break\n",
    "#     print(f\"{i}: {row['target_tokens']} => found span: {row['target_span']}\")"
   ]
  },
  {
   "cell_type": "code",
   "execution_count": 224,
   "id": "8274baee-efee-44ec-8642-2e44444cb154",
   "metadata": {},
   "outputs": [],
   "source": [
    "def get_label(row):\n",
    "    return [1 if row['label_start'] <= i < row['label_end'] else 0 for i in range(len(row['target_clean_tokens']))]\n",
    "\n",
    "data['labels']= data.apply(get_label, axis=1)"
   ]
  },
  {
   "cell_type": "code",
   "execution_count": 225,
   "id": "0ada23ff-df98-4c8a-9eb5-59fc6f3f09d0",
   "metadata": {
    "scrolled": true
   },
   "outputs": [],
   "source": [
    "# for i, row in data.iterrows():\n",
    "#     if row['severity']=='no-error':\n",
    "#         continue\n",
    "#     if i > 100:\n",
    "#         break\n",
    "#     print(f\"{i}: {row['target_tokens']} => label: {row['labels']} => applying label: {torch.masked_select(torch.Tensor(row['target_clean_tokens']), torch.Tensor(row['labels']).bool())}\")"
   ]
  },
  {
   "cell_type": "code",
   "execution_count": 226,
   "id": "0d8f457e-e27a-40c9-9a06-871dd7eb4945",
   "metadata": {},
   "outputs": [],
   "source": [
    "data['labels']=data['labels'].apply(np.array)"
   ]
  },
  {
   "cell_type": "code",
   "execution_count": 227,
   "id": "27c0ca80-6d59-45d7-89ed-99523fb12f70",
   "metadata": {},
   "outputs": [],
   "source": [
    "labels = data.groupby(['system', 'doc_id','seg_id','source','target_clean'])['labels'].agg(lambda x: np.mean(x,axis=0)).reset_index()"
   ]
  },
  {
   "cell_type": "code",
   "execution_count": 228,
   "id": "aa5ea088-15e2-4a19-aacd-200f8424978c",
   "metadata": {},
   "outputs": [],
   "source": [
    "labels['no_error']=labels['labels'].apply(lambda x: True if np.sum(x) == 0 else False)"
   ]
  },
  {
   "cell_type": "code",
   "execution_count": 229,
   "id": "eecfe7b7-b7ac-4afd-9cbd-ada4a5833832",
   "metadata": {},
   "outputs": [],
   "source": [
    "num_labelers = data.groupby(['system', 'doc_id','seg_id','source','target_clean'])['labels'].size().reset_index().rename(columns={'labels':'num_annotations'})"
   ]
  },
  {
   "cell_type": "code",
   "execution_count": 230,
   "id": "ffd06f6d-3189-4fb0-9e12-490cbbe16b09",
   "metadata": {},
   "outputs": [],
   "source": [
    "labels = pd.merge(labels, num_labelers,how='left')"
   ]
  },
  {
   "cell_type": "code",
   "execution_count": 231,
   "id": "53fa564f-7a81-4209-be43-667ce15e09ef",
   "metadata": {},
   "outputs": [
    {
     "data": {
      "text/plain": [
       "'Die Familien-Reality-Show Keeping Up With The Kardashians zeigte jedoch später, dass die Veranstaltung mit Khloe in Tränen endete, als sie sich mit seiner Untreue abmühte.'"
      ]
     },
     "execution_count": 231,
     "metadata": {},
     "output_type": "execute_result"
    }
   ],
   "source": [
    "labels.loc[17824,'target_clean']"
   ]
  },
  {
   "cell_type": "code",
   "execution_count": 232,
   "id": "54b0d58e-f706-45b5-bf8f-d5691513b413",
   "metadata": {},
   "outputs": [
    {
     "data": {
      "text/plain": [
       "'Die Familien-Reality-Show des Stars Keeping Up With The Kardashians zeigte jedoch später, dass die Veranstaltung mit Khloe in Tränen endete, als sie sich mit seiner Untreue abmühte.'"
      ]
     },
     "execution_count": 232,
     "metadata": {},
     "output_type": "execute_result"
    }
   ],
   "source": [
    "labels.loc[17825,'target_clean']"
   ]
  },
  {
   "cell_type": "code",
   "execution_count": 233,
   "id": "170a74cb-8de9-4e47-a498-a31a4d7dd4cd",
   "metadata": {},
   "outputs": [
    {
     "name": "stdout",
     "output_type": "stream",
     "text": [
      "# rows before drop dup: 17829\n",
      "# rows after drop dup: 11280\n"
     ]
    }
   ],
   "source": [
    "## drop rows with duplicate labels\n",
    "print(f\"# rows before drop dup: {len(labels)}\")\n",
    "labels = labels.drop_duplicates(subset=['system', 'doc_id','seg_id'],keep=False)\n",
    "print(f\"# rows after drop dup: {len(labels)}\")"
   ]
  },
  {
   "cell_type": "code",
   "execution_count": 234,
   "id": "38247cf0-a0e0-4be2-a91e-1f11fe17cbea",
   "metadata": {},
   "outputs": [
    {
     "name": "stdout",
     "output_type": "stream",
     "text": [
      "# rows before drop no error: 11280\n",
      "# rows after drop no error: 9520\n"
     ]
    }
   ],
   "source": [
    "## drop rows with no error\n",
    "print(f\"# rows before drop no error: {len(labels)}\")\n",
    "labels = labels.loc[labels['no_error']==False].copy()\n",
    "print(f\"# rows after drop no error: {len(labels)}\")"
   ]
  },
  {
   "cell_type": "code",
   "execution_count": null,
   "id": "9ae72679-1678-4cd3-bf4d-e96c0962e0aa",
   "metadata": {},
   "outputs": [],
   "source": []
  },
  {
   "cell_type": "code",
   "execution_count": 235,
   "id": "d8c888bf-fcb7-41d2-ac36-2d65a4b83f5f",
   "metadata": {},
   "outputs": [],
   "source": [
    "labels=labels.rename(columns={'labels':'raw_labels'})"
   ]
  },
  {
   "cell_type": "code",
   "execution_count": 236,
   "id": "a437d414-24e4-42e2-a1b7-a46848144469",
   "metadata": {},
   "outputs": [],
   "source": [
    "labels=labels.rename(columns={'no_error':'raw_no_error'})"
   ]
  },
  {
   "cell_type": "code",
   "execution_count": 237,
   "id": "ec0d4f62-78da-4fe6-9a9f-79279edbe32e",
   "metadata": {},
   "outputs": [],
   "source": [
    "labels['labels']=labels['raw_labels'].apply(lambda x: np.select(condlist=[x>=0.5, x<0.5], choicelist=[1, 0], \n",
    "    default=np.nan))"
   ]
  },
  {
   "cell_type": "code",
   "execution_count": 238,
   "id": "31030f56-6a45-43a4-a7ec-4d97cfe596bb",
   "metadata": {
    "scrolled": true
   },
   "outputs": [],
   "source": [
    "# for i, row in labels.iterrows():\n",
    "#     if i > 100:\n",
    "#         break\n",
    "#     print(f\"{i}: {row['raw_labels']} => label: {row['labels']}\")"
   ]
  },
  {
   "cell_type": "code",
   "execution_count": 239,
   "id": "29ce7529-fbfe-4f59-a4da-8d0c874ff932",
   "metadata": {},
   "outputs": [],
   "source": [
    "labels['no_error']=labels['labels'].apply(lambda x: True if np.sum(x) == 0 else False)"
   ]
  },
  {
   "cell_type": "code",
   "execution_count": 240,
   "id": "40f1e3ef-dffe-4edb-b67a-bb1f4f159401",
   "metadata": {},
   "outputs": [
    {
     "data": {
      "text/plain": [
       "no_error\n",
       "True     6565\n",
       "False    2955\n",
       "Name: count, dtype: int64"
      ]
     },
     "execution_count": 240,
     "metadata": {},
     "output_type": "execute_result"
    }
   ],
   "source": [
    "labels['no_error'].value_counts()"
   ]
  },
  {
   "cell_type": "code",
   "execution_count": 241,
   "id": "883eb1b3-ed45-415a-8ee2-2a639e500b81",
   "metadata": {},
   "outputs": [],
   "source": [
    "labels.to_json(f\"/home/s3/hyeryung/mucoco/new_module/locate/data/mqm_newstest2020_ende.jsonl\",lines=True,orient=\"records\")"
   ]
  },
  {
   "cell_type": "code",
   "execution_count": 242,
   "id": "8002de1b-a309-4057-a910-7c9bb339bd23",
   "metadata": {},
   "outputs": [],
   "source": [
    "labels_error = labels.loc[labels['no_error']==False,:]"
   ]
  },
  {
   "cell_type": "code",
   "execution_count": 243,
   "id": "0f93713c-7394-4ba4-aeba-f2cf5a242c61",
   "metadata": {},
   "outputs": [],
   "source": [
    "labels_error.to_json(f\"/home/s3/hyeryung/mucoco/new_module/locate/data/mqm_newstest2020_ende_with_error.jsonl\",lines=True,orient=\"records\")"
   ]
  },
  {
   "cell_type": "markdown",
   "id": "5deb4377-aaf9-4f09-89f0-8d36a86ad7d8",
   "metadata": {},
   "source": [
    "### Add labels at character level"
   ]
  },
  {
   "cell_type": "code",
   "execution_count": 250,
   "id": "81c7e293-26dc-4b51-ab72-92d5bd91cdbd",
   "metadata": {},
   "outputs": [],
   "source": [
    "data_path = 'data/MT/wmt-mqm-human-evaluation/newstest2020/ende/mqm_newstest2020_ende.tsv'\n",
    "data = pd.read_csv(data_path, sep='\\t', quoting=3)\n",
    "data['target_clean']=data['target'].str.replace(\"<v>\",\"\").str.replace(\"</v>\",\"\")"
   ]
  },
  {
   "cell_type": "code",
   "execution_count": 245,
   "id": "767138dd-ebc0-4eda-aeea-fe2bd1a70105",
   "metadata": {},
   "outputs": [],
   "source": [
    "def index_wo_error(x, y):\n",
    "    try:\n",
    "        return x.index(y)\n",
    "    except:\n",
    "        return -1"
   ]
  },
  {
   "cell_type": "code",
   "execution_count": 246,
   "id": "7805d2e3-ec7f-4092-a7ff-1e22ce4950d9",
   "metadata": {},
   "outputs": [],
   "source": [
    "# def get_span_char(row):\n",
    "\n",
    "#     start_index = index_wo_error(row['target'], '<v>')\n",
    "#     end_index = index_wo_error(row['target'], '</v>')-3\n",
    "#     return row['target_clean'][start_index:end_index]\n",
    "    \n",
    "# span_char = data.apply(get_span_char,axis=1)"
   ]
  },
  {
   "cell_type": "code",
   "execution_count": 247,
   "id": "e7c25537-edd2-4083-9f66-8a002c5ddef9",
   "metadata": {},
   "outputs": [],
   "source": [
    "# for i, row in data.iterrows():\n",
    "#     if row['severity']=='no-error':\n",
    "#         continue\n",
    "#     if i > 100:\n",
    "#         break\n",
    "#     print(f\"{i}: {row['target']} => found span: {span_char[i]}\")"
   ]
  },
  {
   "cell_type": "code",
   "execution_count": 251,
   "id": "94a055d9-af3c-4571-b5af-191899e7813b",
   "metadata": {},
   "outputs": [],
   "source": [
    "def get_labels_char(row):\n",
    "\n",
    "    start_index = index_wo_error(row['target'], '<v>')\n",
    "    end_index = index_wo_error(row['target'], '</v>')-3\n",
    "    return [1 if start_index <= i < end_index else 0 for i in range(len(row['target_clean']))]"
   ]
  },
  {
   "cell_type": "code",
   "execution_count": 252,
   "id": "fbda9adc-225e-4054-bd80-de5d5203c5a5",
   "metadata": {},
   "outputs": [],
   "source": [
    "data['labels_char']=data.apply(get_labels_char,axis=1)"
   ]
  },
  {
   "cell_type": "code",
   "execution_count": 253,
   "id": "8f5744cc-12a2-4e4d-b9dd-2adc4c86724d",
   "metadata": {},
   "outputs": [],
   "source": [
    "data['labels_char']=data['labels_char'].apply(np.array)"
   ]
  },
  {
   "cell_type": "code",
   "execution_count": 254,
   "id": "6da1cec5-7fed-4af5-8109-f77d20e57272",
   "metadata": {},
   "outputs": [],
   "source": [
    "labels_char = data.groupby(['system', 'doc_id','seg_id','source','target_clean'])['labels_char'].agg(lambda x: np.mean(x,axis=0)).reset_index()"
   ]
  },
  {
   "cell_type": "code",
   "execution_count": 255,
   "id": "3fc1f933-3b0b-4eff-9119-87672ada3adc",
   "metadata": {},
   "outputs": [],
   "source": [
    "labels_char['no_error']=labels_char['labels_char'].apply(lambda x: True if np.sum(x) == 0 else False)"
   ]
  },
  {
   "cell_type": "code",
   "execution_count": 256,
   "id": "3b59b494-36af-4066-b111-2280de0948f2",
   "metadata": {},
   "outputs": [
    {
     "name": "stdout",
     "output_type": "stream",
     "text": [
      "# rows before drop dup: 17829\n",
      "# rows after drop dup: 11280\n"
     ]
    }
   ],
   "source": [
    "## drop rows with duplicate labels\n",
    "print(f\"# rows before drop dup: {len(labels_char)}\")\n",
    "labels_char = labels_char.drop_duplicates(subset=['system', 'doc_id','seg_id'],keep=False)\n",
    "print(f\"# rows after drop dup: {len(labels_char)}\")"
   ]
  },
  {
   "cell_type": "code",
   "execution_count": 257,
   "id": "08d45964-45b2-4542-ad8b-c8698e95b7c5",
   "metadata": {},
   "outputs": [
    {
     "name": "stdout",
     "output_type": "stream",
     "text": [
      "# rows before drop no error: 11280\n",
      "# rows after drop no error: 9573\n"
     ]
    }
   ],
   "source": [
    "## drop rows with no error\n",
    "print(f\"# rows before drop no error: {len(labels_char)}\")\n",
    "labels_char = labels_char.loc[labels_char['no_error']==False].copy()\n",
    "print(f\"# rows after drop no error: {len(labels_char)}\")"
   ]
  },
  {
   "cell_type": "code",
   "execution_count": 258,
   "id": "eb462293-7524-4eb1-abac-eace3da595e5",
   "metadata": {},
   "outputs": [],
   "source": [
    "labels_char=labels_char.rename(columns={'labels_char':'raw_labels_char'})"
   ]
  },
  {
   "cell_type": "code",
   "execution_count": 259,
   "id": "eb980684-8af7-4ec0-a109-92719845a5be",
   "metadata": {},
   "outputs": [],
   "source": [
    "labels_char=labels_char.rename(columns={'no_error':'raw_no_error'})"
   ]
  },
  {
   "cell_type": "code",
   "execution_count": 260,
   "id": "ddc91867-7293-476c-97cc-da1e71fa009d",
   "metadata": {},
   "outputs": [],
   "source": [
    "labels_char['labels_char']=labels_char['raw_labels_char'].apply(lambda x: np.select(condlist=[x>=0.5, x<0.5], choicelist=[1, 0], \n",
    "    default=np.nan))"
   ]
  },
  {
   "cell_type": "code",
   "execution_count": 261,
   "id": "2e5860b6-53b0-467b-ae3f-a0bb930aff6d",
   "metadata": {},
   "outputs": [],
   "source": [
    "labels_char['no_error']=labels_char['labels_char'].apply(lambda x: True if np.sum(x) == 0 else False)"
   ]
  },
  {
   "cell_type": "code",
   "execution_count": 262,
   "id": "6654a39b-3848-4c84-9723-6ab5778ca1df",
   "metadata": {},
   "outputs": [
    {
     "data": {
      "text/plain": [
       "no_error\n",
       "True     6577\n",
       "False    2996\n",
       "Name: count, dtype: int64"
      ]
     },
     "execution_count": 262,
     "metadata": {},
     "output_type": "execute_result"
    }
   ],
   "source": [
    "labels_char['no_error'].value_counts()"
   ]
  },
  {
   "cell_type": "code",
   "execution_count": 263,
   "id": "ad6bd459-f9a5-4d0b-917c-a084247c51ad",
   "metadata": {},
   "outputs": [],
   "source": [
    "## checked why no error stats based on labels_char and labels were different. -> usually related to cases where a space is labeled.\n",
    "## 결론: 우리 방식은 어짜피 punctuation은 라벨링을 못하기 때문에, 토큰 기준으로 에러가 있는 것만 가지고 평가하는 것이 맞겠다.\n",
    "## 결론2: 그런데, tokenize할 떄 arbitrarily meta character가 더해지는 문제가 있어서, token 기준 라벨에 에러가 섞인 경우도 있다.\n",
    "##      따라서, token기준과 label 기준의 no_error가 일치하는 건만 사용하겠다.\n",
    "\n",
    "## debug_df = pd.merge(labels, labels_char, on=['system', 'doc_id','seg_id','source','target_clean'], how='left')\n",
    "## debug_df = debug_df.loc[debug_df['no_error_x']!=debug_df['no_error_y'],:].copy()\n",
    "## debug_df_raw = pd.merge(data, debug_df, on=['system', 'doc_id','seg_id','source','target_clean'],how='inner')\n",
    "## debug_df_raw[ 'severity'].value_counts()\n",
    "# severity\n",
    "# Minor       178\n",
    "# no-error     32\n",
    "# Neutral       6\n",
    "# Major         6\n",
    "# Name: count, dtype: int64\n",
    "\n",
    "## if a major error is involved, it is that only a few among all annotators labeled the specific portion as major error.\n",
    "## debug_df_raw.loc[debug_df_raw['severity']=='Major']\n",
    "## for i, row in debug_df_raw.loc[(debug_df_raw['system']=='OPPO.1535') & (debug_df_raw['doc_id']==6) & (debug_df_raw['seg_id']==1352),:].iterrows():\n",
    "##    print(row['target'], '->', row['severity'])\n",
    "# Das Virus verursacht bei weniger als <v>1%</v> der Infizierten eine gefährliche Meningitis oder Enzephalitis. -> Minor\n",
    "# Das Virus verursacht bei weniger als 1<v>%</v> der Infizierten eine gefährliche Meningitis oder Enzephalitis. -> Minor\n",
    "# Das Virus verursacht bei weniger als 1% der Infizierten eine gefährliche Meningitis oder <v>Enzephalitis</v>. -> Major\n",
    "# Das Virus verursacht bei weniger als 1% der Infizierten eine gefährliche <v>Meningitis</v> oder Enzephalitis. -> Major\n",
    "# Das Virus verursacht bei weniger als 1<v>%</v> der Infizierten eine gefährliche Meningitis oder Enzephalitis. -> Minor"
   ]
  },
  {
   "cell_type": "code",
   "execution_count": 276,
   "id": "288194e7-a42d-40e7-b938-2a427946fd81",
   "metadata": {},
   "outputs": [],
   "source": [
    "labels = pd.read_json(\"/home/s3/hyeryung/mucoco/new_module/locate/data/mqm_newstest2020_ende.jsonl\",lines=True)"
   ]
  },
  {
   "cell_type": "code",
   "execution_count": 277,
   "id": "5a9d493f-fb03-42c1-87d4-fe449f0d1fbc",
   "metadata": {},
   "outputs": [],
   "source": [
    "labels = pd.merge(labels, labels_char, on=['system', 'doc_id', 'seg_id', 'source', 'target_clean'], how='left', suffixes=['', '_char'])"
   ]
  },
  {
   "cell_type": "code",
   "execution_count": 278,
   "id": "090e5afa-4dc0-4f38-a155-502d1e69fee0",
   "metadata": {},
   "outputs": [
    {
     "data": {
      "text/html": [
       "<div>\n",
       "<style scoped>\n",
       "    .dataframe tbody tr th:only-of-type {\n",
       "        vertical-align: middle;\n",
       "    }\n",
       "\n",
       "    .dataframe tbody tr th {\n",
       "        vertical-align: top;\n",
       "    }\n",
       "\n",
       "    .dataframe thead th {\n",
       "        text-align: right;\n",
       "    }\n",
       "</style>\n",
       "<table border=\"1\" class=\"dataframe\">\n",
       "  <thead>\n",
       "    <tr style=\"text-align: right;\">\n",
       "      <th></th>\n",
       "      <th>system</th>\n",
       "      <th>doc_id</th>\n",
       "      <th>seg_id</th>\n",
       "      <th>source</th>\n",
       "      <th>target_clean</th>\n",
       "      <th>raw_labels</th>\n",
       "      <th>raw_no_error</th>\n",
       "      <th>num_annotations</th>\n",
       "      <th>labels</th>\n",
       "      <th>no_error</th>\n",
       "      <th>raw_labels_char</th>\n",
       "      <th>raw_no_error_char</th>\n",
       "      <th>labels_char</th>\n",
       "      <th>no_error_char</th>\n",
       "    </tr>\n",
       "  </thead>\n",
       "  <tbody>\n",
       "  </tbody>\n",
       "</table>\n",
       "</div>"
      ],
      "text/plain": [
       "Empty DataFrame\n",
       "Columns: [system, doc_id, seg_id, source, target_clean, raw_labels, raw_no_error, num_annotations, labels, no_error, raw_labels_char, raw_no_error_char, labels_char, no_error_char]\n",
       "Index: []"
      ]
     },
     "execution_count": 278,
     "metadata": {},
     "output_type": "execute_result"
    }
   ],
   "source": [
    "labels.loc[labels['raw_no_error']!=labels['raw_no_error_char'], :] ## good!"
   ]
  },
  {
   "cell_type": "code",
   "execution_count": 279,
   "id": "0bfa2dd2-3e5d-4bb5-a49e-39a7e38152d7",
   "metadata": {},
   "outputs": [
    {
     "data": {
      "text/html": [
       "<div>\n",
       "<style scoped>\n",
       "    .dataframe tbody tr th:only-of-type {\n",
       "        vertical-align: middle;\n",
       "    }\n",
       "\n",
       "    .dataframe tbody tr th {\n",
       "        vertical-align: top;\n",
       "    }\n",
       "\n",
       "    .dataframe thead th {\n",
       "        text-align: right;\n",
       "    }\n",
       "</style>\n",
       "<table border=\"1\" class=\"dataframe\">\n",
       "  <thead>\n",
       "    <tr style=\"text-align: right;\">\n",
       "      <th></th>\n",
       "      <th>system</th>\n",
       "      <th>doc_id</th>\n",
       "      <th>seg_id</th>\n",
       "      <th>source</th>\n",
       "      <th>target_clean</th>\n",
       "      <th>raw_labels</th>\n",
       "      <th>raw_no_error</th>\n",
       "      <th>num_annotations</th>\n",
       "      <th>labels</th>\n",
       "      <th>no_error</th>\n",
       "      <th>raw_labels_char</th>\n",
       "      <th>raw_no_error_char</th>\n",
       "      <th>labels_char</th>\n",
       "      <th>no_error_char</th>\n",
       "    </tr>\n",
       "  </thead>\n",
       "  <tbody>\n",
       "    <tr>\n",
       "      <th>2</th>\n",
       "      <td>Human-A.0</td>\n",
       "      <td>1</td>\n",
       "      <td>78</td>\n",
       "      <td>Saudi Arabia To Offer Tourist Visas For First ...</td>\n",
       "      <td>Saudi-Arabien stellt erstmals Touristenvisa au...</td>\n",
       "      <td>[0.0, 0.0, 0.0, 0.0, 0.25, 0.25, 0.25, 0.25, 0...</td>\n",
       "      <td>False</td>\n",
       "      <td>4</td>\n",
       "      <td>[0.0, 0.0, 0.0, 0.0, 0.0, 0.0, 0.0, 0.0, 0.0, ...</td>\n",
       "      <td>False</td>\n",
       "      <td>[0.0, 0.0, 0.0, 0.0, 0.0, 0.0, 0.0, 0.0, 0.0, ...</td>\n",
       "      <td>False</td>\n",
       "      <td>[0.0, 0.0, 0.0, 0.0, 0.0, 0.0, 0.0, 0.0, 0.0, ...</td>\n",
       "      <td>True</td>\n",
       "    </tr>\n",
       "    <tr>\n",
       "      <th>5</th>\n",
       "      <td>Human-A.0</td>\n",
       "      <td>1</td>\n",
       "      <td>123</td>\n",
       "      <td>Patriot missile system to Saudi Arabia after I...</td>\n",
       "      <td>Patriot-Raketensystem an Saudi-Arabien nach Öl...</td>\n",
       "      <td>[0.0, 0.0, 0.25, 0.25, 0.25, 0.25, 0.25, 0.25,...</td>\n",
       "      <td>False</td>\n",
       "      <td>4</td>\n",
       "      <td>[0.0, 0.0, 0.0, 0.0, 0.0, 0.0, 0.0, 0.0, 0.0, ...</td>\n",
       "      <td>True</td>\n",
       "      <td>[0.0, 0.0, 0.0, 0.0, 0.0, 0.0, 0.0, 0.0, 0.25,...</td>\n",
       "      <td>False</td>\n",
       "      <td>[0.0, 0.0, 0.0, 0.0, 0.0, 0.0, 0.0, 0.0, 0.0, ...</td>\n",
       "      <td>False</td>\n",
       "    </tr>\n",
       "    <tr>\n",
       "      <th>351</th>\n",
       "      <td>Human-A.0</td>\n",
       "      <td>5</td>\n",
       "      <td>209</td>\n",
       "      <td>The Duchess of York wrote on Twitter: \"\" I kno...</td>\n",
       "      <td>Die Herzogin von York schrieb auf Twitter: „ I...</td>\n",
       "      <td>[0.0, 0.0, 0.0, 0.0, 0.0, 0.0, 0.0, 0.0, 0.0, ...</td>\n",
       "      <td>False</td>\n",
       "      <td>3</td>\n",
       "      <td>[0.0, 0.0, 0.0, 0.0, 0.0, 0.0, 0.0, 0.0, 0.0, ...</td>\n",
       "      <td>True</td>\n",
       "      <td>[0.0, 0.0, 0.0, 0.0, 0.0, 0.0, 0.0, 0.0, 0.0, ...</td>\n",
       "      <td>False</td>\n",
       "      <td>[0.0, 0.0, 0.0, 0.0, 0.0, 0.0, 0.0, 0.0, 0.0, ...</td>\n",
       "      <td>False</td>\n",
       "    </tr>\n",
       "    <tr>\n",
       "      <th>575</th>\n",
       "      <td>Human-A.0</td>\n",
       "      <td>8</td>\n",
       "      <td>32</td>\n",
       "      <td>In a statement, United Healthcare told CNN it'...</td>\n",
       "      <td>In einer Erklärung teilte United Healthcare CN...</td>\n",
       "      <td>[0.0, 0.0, 0.0, 0.0, 0.0, 0.33333333330000003,...</td>\n",
       "      <td>False</td>\n",
       "      <td>3</td>\n",
       "      <td>[0.0, 0.0, 0.0, 0.0, 0.0, 0.0, 0.0, 0.0, 0.0, ...</td>\n",
       "      <td>True</td>\n",
       "      <td>[0.0, 0.0, 0.0, 0.0, 0.0, 0.0, 0.0, 0.0, 0.0, ...</td>\n",
       "      <td>False</td>\n",
       "      <td>[0.0, 0.0, 0.0, 0.0, 0.0, 0.0, 0.0, 0.0, 0.0, ...</td>\n",
       "      <td>False</td>\n",
       "    </tr>\n",
       "    <tr>\n",
       "      <th>632</th>\n",
       "      <td>Human-A.0</td>\n",
       "      <td>8</td>\n",
       "      <td>1330</td>\n",
       "      <td>\"\"It is clear [...] that the weapons used were...</td>\n",
       "      <td>„Es ist klar [...] dass die verwendeten Waffen...</td>\n",
       "      <td>[0.0, 0.0, 0.0, 0.25, 0.0, 0.0, 0.0, 0.0, 0.0,...</td>\n",
       "      <td>False</td>\n",
       "      <td>4</td>\n",
       "      <td>[0.0, 0.0, 0.0, 0.0, 0.0, 0.0, 0.0, 0.0, 0.0, ...</td>\n",
       "      <td>True</td>\n",
       "      <td>[0.0, 0.0, 0.0, 0.0, 0.0, 0.0, 0.0, 0.0, 0.25,...</td>\n",
       "      <td>False</td>\n",
       "      <td>[0.0, 0.0, 0.0, 0.0, 0.0, 0.0, 0.0, 0.0, 0.0, ...</td>\n",
       "      <td>False</td>\n",
       "    </tr>\n",
       "    <tr>\n",
       "      <th>760</th>\n",
       "      <td>Human-A.0</td>\n",
       "      <td>11</td>\n",
       "      <td>668</td>\n",
       "      <td>Townsend said; \"\"We will publish a date for ou...</td>\n",
       "      <td>Townsend erklärte: „Wir werden ein Datum für u...</td>\n",
       "      <td>[0.0, 0.0, 0.0, 0.0, 0.0, 0.0, 0.0, 0.0, 0.0, ...</td>\n",
       "      <td>False</td>\n",
       "      <td>6</td>\n",
       "      <td>[0.0, 0.0, 0.0, 0.0, 0.0, 0.0, 0.0, 0.0, 0.0, ...</td>\n",
       "      <td>True</td>\n",
       "      <td>[0.0, 0.0, 0.0, 0.0, 0.0, 0.0, 0.0, 0.0, 0.0, ...</td>\n",
       "      <td>False</td>\n",
       "      <td>[0.0, 0.0, 0.0, 0.0, 0.0, 0.0, 0.0, 0.0, 0.0, ...</td>\n",
       "      <td>False</td>\n",
       "    </tr>\n",
       "    <tr>\n",
       "      <th>828</th>\n",
       "      <td>Human-A.0</td>\n",
       "      <td>13</td>\n",
       "      <td>320</td>\n",
       "      <td>However, as Sky News revealed last month, the ...</td>\n",
       "      <td>Wie jedoch Sky News letzten Monat enthüllte, e...</td>\n",
       "      <td>[0.0, 0.0, 0.0, 0.0, 0.0, 0.0, 0.0, 0.0, 0.0, ...</td>\n",
       "      <td>False</td>\n",
       "      <td>4</td>\n",
       "      <td>[0.0, 0.0, 0.0, 0.0, 0.0, 0.0, 0.0, 0.0, 0.0, ...</td>\n",
       "      <td>True</td>\n",
       "      <td>[0.0, 0.0, 0.0, 0.0, 0.0, 0.0, 0.0, 0.0, 0.0, ...</td>\n",
       "      <td>False</td>\n",
       "      <td>[0.0, 0.0, 0.0, 0.0, 0.0, 0.0, 0.0, 0.0, 0.0, ...</td>\n",
       "      <td>False</td>\n",
       "    </tr>\n",
       "    <tr>\n",
       "      <th>1039</th>\n",
       "      <td>Human-B.0</td>\n",
       "      <td>2</td>\n",
       "      <td>820</td>\n",
       "      <td>A prison locksmith has been arrested amid fear...</td>\n",
       "      <td>Ein Gefängnisschlosser wurde nach Befürchtunge...</td>\n",
       "      <td>[0.0, 0.0, 0.0, 0.0, 0.0, 0.0, 0.0, 0.0, 0.25,...</td>\n",
       "      <td>False</td>\n",
       "      <td>4</td>\n",
       "      <td>[0.0, 0.0, 0.0, 0.0, 0.0, 0.0, 0.0, 0.0, 0.0, ...</td>\n",
       "      <td>True</td>\n",
       "      <td>[0.0, 0.0, 0.0, 0.0, 0.0, 0.0, 0.0, 0.0, 0.0, ...</td>\n",
       "      <td>False</td>\n",
       "      <td>[0.0, 0.0, 0.0, 0.0, 0.0, 0.0, 0.0, 0.0, 0.0, ...</td>\n",
       "      <td>False</td>\n",
       "    </tr>\n",
       "    <tr>\n",
       "      <th>1062</th>\n",
       "      <td>Human-B.0</td>\n",
       "      <td>2</td>\n",
       "      <td>1185</td>\n",
       "      <td>A senior Trump administration official acknowl...</td>\n",
       "      <td>Ein hochrangiger Mitarbeiter der Trump-Regieru...</td>\n",
       "      <td>[0.0, 0.0, 0.0, 0.0, 0.0, 0.0, 0.0, 0.0, 0.0, ...</td>\n",
       "      <td>False</td>\n",
       "      <td>3</td>\n",
       "      <td>[0.0, 0.0, 0.0, 0.0, 0.0, 0.0, 0.0, 0.0, 0.0, ...</td>\n",
       "      <td>True</td>\n",
       "      <td>[0.0, 0.0, 0.0, 0.0, 0.0, 0.0, 0.0, 0.0, 0.0, ...</td>\n",
       "      <td>False</td>\n",
       "      <td>[0.0, 0.0, 0.0, 0.0, 0.0, 0.0, 0.0, 0.0, 0.0, ...</td>\n",
       "      <td>False</td>\n",
       "    </tr>\n",
       "    <tr>\n",
       "      <th>1177</th>\n",
       "      <td>Human-B.0</td>\n",
       "      <td>4</td>\n",
       "      <td>258</td>\n",
       "      <td>\"\"My wife writes down the numbers for me durin...</td>\n",
       "      <td>„Meine Frau schreibt mir die Zahlen während de...</td>\n",
       "      <td>[0.0, 0.0, 0.0, 0.0, 0.0, 0.0, 0.0, 0.0, 0.0, ...</td>\n",
       "      <td>False</td>\n",
       "      <td>4</td>\n",
       "      <td>[0.0, 0.0, 0.0, 0.0, 0.0, 0.0, 0.0, 0.0, 0.0, ...</td>\n",
       "      <td>True</td>\n",
       "      <td>[0.0, 0.0, 0.0, 0.0, 0.0, 0.0, 0.0, 0.0, 0.0, ...</td>\n",
       "      <td>False</td>\n",
       "      <td>[0.0, 0.0, 0.0, 0.0, 0.0, 0.0, 0.0, 0.0, 0.0, ...</td>\n",
       "      <td>False</td>\n",
       "    </tr>\n",
       "    <tr>\n",
       "      <th>1431</th>\n",
       "      <td>Human-B.0</td>\n",
       "      <td>7</td>\n",
       "      <td>1051</td>\n",
       "      <td>\"\"Wherever this coward is, he will get caught,...</td>\n",
       "      <td>„Wo immer dieser Feigling auch sein mag. Wir w...</td>\n",
       "      <td>[0.0, 0.0, 0.0, 0.0, 0.0, 0.0, 0.0, 0.0, 0.0, ...</td>\n",
       "      <td>False</td>\n",
       "      <td>4</td>\n",
       "      <td>[0.0, 0.0, 0.0, 0.0, 0.0, 0.0, 0.0, 0.0, 0.0, ...</td>\n",
       "      <td>False</td>\n",
       "      <td>[0.0, 0.0, 0.0, 0.0, 0.0, 0.0, 0.0, 0.0, 0.0, ...</td>\n",
       "      <td>False</td>\n",
       "      <td>[0.0, 0.0, 0.0, 0.0, 0.0, 0.0, 0.0, 0.0, 0.0, ...</td>\n",
       "      <td>True</td>\n",
       "    </tr>\n",
       "    <tr>\n",
       "      <th>1465</th>\n",
       "      <td>Human-B.0</td>\n",
       "      <td>8</td>\n",
       "      <td>505</td>\n",
       "      <td>In Canada, there is just one LNG project under...</td>\n",
       "      <td>In Kanada befindet sich derzeit nur ein Flüssi...</td>\n",
       "      <td>[0.0, 0.0, 0.0, 0.0, 0.0, 0.0, 0.0, 0.0, 0.0, ...</td>\n",
       "      <td>False</td>\n",
       "      <td>4</td>\n",
       "      <td>[0.0, 0.0, 0.0, 0.0, 0.0, 0.0, 0.0, 0.0, 0.0, ...</td>\n",
       "      <td>True</td>\n",
       "      <td>[0.0, 0.0, 0.0, 0.0, 0.0, 0.0, 0.0, 0.0, 0.0, ...</td>\n",
       "      <td>False</td>\n",
       "      <td>[0.0, 0.0, 0.0, 0.0, 0.0, 0.0, 0.0, 0.0, 0.0, ...</td>\n",
       "      <td>False</td>\n",
       "    </tr>\n",
       "    <tr>\n",
       "      <th>1670</th>\n",
       "      <td>Human-B.0</td>\n",
       "      <td>13</td>\n",
       "      <td>90</td>\n",
       "      <td>But the austere kingdom, which forbids alcohol...</td>\n",
       "      <td>Doch in dem Königreich, in dem Alkohol verbote...</td>\n",
       "      <td>[0.33333333330000003, 0.33333333330000003, 0.3...</td>\n",
       "      <td>False</td>\n",
       "      <td>3</td>\n",
       "      <td>[0.0, 0.0, 0.0, 0.0, 0.0, 0.0, 0.0, 0.0, 0.0, ...</td>\n",
       "      <td>True</td>\n",
       "      <td>[0.3333333333333333, 0.3333333333333333, 0.333...</td>\n",
       "      <td>False</td>\n",
       "      <td>[0.0, 0.0, 0.0, 0.0, 0.0, 0.0, 0.0, 0.0, 0.0, ...</td>\n",
       "      <td>False</td>\n",
       "    </tr>\n",
       "    <tr>\n",
       "      <th>1836</th>\n",
       "      <td>Human-P.0</td>\n",
       "      <td>1</td>\n",
       "      <td>1117</td>\n",
       "      <td>Julian Assange: Private security firm 'spied o...</td>\n",
       "      <td>Laut Angaben von Julian Assange hat ein privat...</td>\n",
       "      <td>[0.33333333330000003, 0.33333333330000003, 0.3...</td>\n",
       "      <td>False</td>\n",
       "      <td>3</td>\n",
       "      <td>[0.0, 0.0, 0.0, 0.0, 0.0, 0.0, 0.0, 0.0, 0.0, ...</td>\n",
       "      <td>True</td>\n",
       "      <td>[0.3333333333333333, 0.3333333333333333, 0.333...</td>\n",
       "      <td>False</td>\n",
       "      <td>[0.0, 0.0, 0.0, 0.0, 0.0, 0.0, 0.0, 0.0, 0.0, ...</td>\n",
       "      <td>False</td>\n",
       "    </tr>\n",
       "    <tr>\n",
       "      <th>2063</th>\n",
       "      <td>Human-P.0</td>\n",
       "      <td>4</td>\n",
       "      <td>436</td>\n",
       "      <td>On August 8, Warren stopped by a lemonade stan...</td>\n",
       "      <td>Am Limonadenstand von Sienna Michels und Audre...</td>\n",
       "      <td>[0.0, 0.0, 0.0, 0.0, 0.0, 0.0, 0.0, 0.0, 0.0, ...</td>\n",
       "      <td>False</td>\n",
       "      <td>4</td>\n",
       "      <td>[0.0, 0.0, 0.0, 0.0, 0.0, 0.0, 0.0, 0.0, 0.0, ...</td>\n",
       "      <td>False</td>\n",
       "      <td>[0.0, 0.0, 0.0, 0.0, 0.0, 0.0, 0.0, 0.0, 0.0, ...</td>\n",
       "      <td>False</td>\n",
       "      <td>[0.0, 0.0, 0.0, 0.0, 0.0, 0.0, 0.0, 0.0, 0.0, ...</td>\n",
       "      <td>True</td>\n",
       "    </tr>\n",
       "    <tr>\n",
       "      <th>2249</th>\n",
       "      <td>Human-P.0</td>\n",
       "      <td>6</td>\n",
       "      <td>694</td>\n",
       "      <td>During a conversation with the female tech fou...</td>\n",
       "      <td>Im Rahmen einer Unterhaltung mit den Gründerin...</td>\n",
       "      <td>[0.0, 0.0, 0.0, 0.0, 0.0, 0.0, 0.1666666667, 0...</td>\n",
       "      <td>False</td>\n",
       "      <td>6</td>\n",
       "      <td>[0.0, 0.0, 0.0, 0.0, 0.0, 0.0, 0.0, 0.0, 0.0, ...</td>\n",
       "      <td>True</td>\n",
       "      <td>[0.0, 0.0, 0.0, 0.0, 0.0, 0.0, 0.0, 0.0, 0.0, ...</td>\n",
       "      <td>False</td>\n",
       "      <td>[0.0, 0.0, 0.0, 0.0, 0.0, 0.0, 0.0, 0.0, 0.0, ...</td>\n",
       "      <td>False</td>\n",
       "    </tr>\n",
       "    <tr>\n",
       "      <th>2382</th>\n",
       "      <td>Human-P.0</td>\n",
       "      <td>8</td>\n",
       "      <td>854</td>\n",
       "      <td>The dog was brought to a local animal shelter ...</td>\n",
       "      <td>Der Hund ist mittlerweise in ein lokales Tierh...</td>\n",
       "      <td>[0.0, 0.0, 0.0, 0.25, 0.25, 0.25, 0.0, 0.0, 0....</td>\n",
       "      <td>False</td>\n",
       "      <td>4</td>\n",
       "      <td>[0.0, 0.0, 0.0, 0.0, 0.0, 0.0, 0.0, 0.0, 0.0, ...</td>\n",
       "      <td>True</td>\n",
       "      <td>[0.0, 0.0, 0.0, 0.0, 0.0, 0.0, 0.0, 0.0, 0.0, ...</td>\n",
       "      <td>False</td>\n",
       "      <td>[0.0, 0.0, 0.0, 0.0, 0.0, 0.0, 0.0, 0.0, 0.0, ...</td>\n",
       "      <td>False</td>\n",
       "    </tr>\n",
       "    <tr>\n",
       "      <th>2429</th>\n",
       "      <td>Human-P.0</td>\n",
       "      <td>9</td>\n",
       "      <td>534</td>\n",
       "      <td>Another leader of Los Pelusos was captured in ...</td>\n",
       "      <td>Laut der Stellungnahme wurde im Zuge der Opera...</td>\n",
       "      <td>[0.0, 0.0, 0.0, 0.0, 0.0, 0.0, 0.0, 0.0, 0.0, ...</td>\n",
       "      <td>False</td>\n",
       "      <td>3</td>\n",
       "      <td>[0.0, 0.0, 0.0, 0.0, 0.0, 0.0, 0.0, 0.0, 0.0, ...</td>\n",
       "      <td>True</td>\n",
       "      <td>[0.0, 0.0, 0.0, 0.0, 0.0, 0.0, 0.0, 0.0, 0.0, ...</td>\n",
       "      <td>False</td>\n",
       "      <td>[0.0, 0.0, 0.0, 0.0, 0.0, 0.0, 0.0, 0.0, 0.0, ...</td>\n",
       "      <td>False</td>\n",
       "    </tr>\n",
       "    <tr>\n",
       "      <th>3032</th>\n",
       "      <td>Huoshan_Translate.832</td>\n",
       "      <td>4</td>\n",
       "      <td>952</td>\n",
       "      <td>Thunberg's grim pronouncements have earned her...</td>\n",
       "      <td>Thunbergs düstere Äußerungen haben ihr brutale...</td>\n",
       "      <td>[0.0, 0.0, 0.0, 0.0, 0.0, 0.0, 0.0, 0.0, 0.0, ...</td>\n",
       "      <td>False</td>\n",
       "      <td>6</td>\n",
       "      <td>[0.0, 0.0, 0.0, 0.0, 0.0, 0.0, 0.0, 0.0, 0.0, ...</td>\n",
       "      <td>True</td>\n",
       "      <td>[0.0, 0.0, 0.0, 0.0, 0.0, 0.0, 0.0, 0.0, 0.0, ...</td>\n",
       "      <td>False</td>\n",
       "      <td>[0.0, 0.0, 0.0, 0.0, 0.0, 0.0, 0.0, 0.0, 0.0, ...</td>\n",
       "      <td>False</td>\n",
       "    </tr>\n",
       "    <tr>\n",
       "      <th>3203</th>\n",
       "      <td>Huoshan_Translate.832</td>\n",
       "      <td>6</td>\n",
       "      <td>840</td>\n",
       "      <td>Meghan interviewed Obama for the September iss...</td>\n",
       "      <td>Meghan interviewte Obama für die September-Aus...</td>\n",
       "      <td>[0.0, 0.0, 0.0, 0.0, 0.0, 0.0, 0.0, 0.0, 0.0, ...</td>\n",
       "      <td>False</td>\n",
       "      <td>6</td>\n",
       "      <td>[0.0, 0.0, 0.0, 0.0, 0.0, 0.0, 0.0, 0.0, 0.0, ...</td>\n",
       "      <td>True</td>\n",
       "      <td>[0.0, 0.0, 0.0, 0.0, 0.0, 0.0, 0.0, 0.0, 0.0, ...</td>\n",
       "      <td>False</td>\n",
       "      <td>[0.0, 0.0, 0.0, 0.0, 0.0, 0.0, 0.0, 0.0, 0.0, ...</td>\n",
       "      <td>False</td>\n",
       "    </tr>\n",
       "    <tr>\n",
       "      <th>3234</th>\n",
       "      <td>Huoshan_Translate.832</td>\n",
       "      <td>6</td>\n",
       "      <td>1352</td>\n",
       "      <td>The virus causes dangerous meningitis or encep...</td>\n",
       "      <td>Das Virus verursacht bei weniger als 1% der In...</td>\n",
       "      <td>[0.0, 0.0, 0.0, 0.0, 0.0, 0.0, 0.3333333333000...</td>\n",
       "      <td>False</td>\n",
       "      <td>3</td>\n",
       "      <td>[0.0, 0.0, 0.0, 0.0, 0.0, 0.0, 0.0, 0.0, 0.0, ...</td>\n",
       "      <td>True</td>\n",
       "      <td>[0.0, 0.0, 0.0, 0.0, 0.0, 0.0, 0.0, 0.0, 0.0, ...</td>\n",
       "      <td>False</td>\n",
       "      <td>[0.0, 0.0, 0.0, 0.0, 0.0, 0.0, 0.0, 0.0, 0.0, ...</td>\n",
       "      <td>False</td>\n",
       "    </tr>\n",
       "    <tr>\n",
       "      <th>3272</th>\n",
       "      <td>Huoshan_Translate.832</td>\n",
       "      <td>7</td>\n",
       "      <td>649</td>\n",
       "      <td>\"\"I mean, I guess if you could tell me, I woul...</td>\n",
       "      <td>„Ich meine, ich denke, wenn Sie mir sagen könn...</td>\n",
       "      <td>[0.0, 0.2, 0.2, 0.2, 0.2, 0.2, 0.2, 0.4, 0.4, ...</td>\n",
       "      <td>False</td>\n",
       "      <td>5</td>\n",
       "      <td>[0.0, 0.0, 0.0, 0.0, 0.0, 0.0, 0.0, 0.0, 0.0, ...</td>\n",
       "      <td>True</td>\n",
       "      <td>[0.0, 0.2, 0.2, 0.2, 0.2, 0.2, 0.2, 0.2, 0.2, ...</td>\n",
       "      <td>False</td>\n",
       "      <td>[0.0, 0.0, 0.0, 0.0, 0.0, 0.0, 0.0, 0.0, 0.0, ...</td>\n",
       "      <td>False</td>\n",
       "    </tr>\n",
       "    <tr>\n",
       "      <th>3415</th>\n",
       "      <td>Huoshan_Translate.832</td>\n",
       "      <td>9</td>\n",
       "      <td>877</td>\n",
       "      <td>Pelosi met earlier this year with Van Ness and...</td>\n",
       "      <td>Pelosi traf sich Anfang dieses Jahres mit Van ...</td>\n",
       "      <td>[0.0, 0.0, 0.0, 0.0, 0.0, 0.0, 0.0, 0.0, 0.0, ...</td>\n",
       "      <td>False</td>\n",
       "      <td>5</td>\n",
       "      <td>[0.0, 0.0, 0.0, 0.0, 0.0, 0.0, 0.0, 0.0, 0.0, ...</td>\n",
       "      <td>True</td>\n",
       "      <td>[0.0, 0.0, 0.0, 0.0, 0.0, 0.0, 0.0, 0.0, 0.0, ...</td>\n",
       "      <td>False</td>\n",
       "      <td>[0.0, 0.0, 0.0, 0.0, 0.0, 0.0, 0.0, 0.0, 0.0, ...</td>\n",
       "      <td>False</td>\n",
       "    </tr>\n",
       "    <tr>\n",
       "      <th>3490</th>\n",
       "      <td>Huoshan_Translate.832</td>\n",
       "      <td>10</td>\n",
       "      <td>1237</td>\n",
       "      <td>Protesters are also organizing \"\"anti-totalita...</td>\n",
       "      <td>Demonstranten organisieren am Sonntag auch „An...</td>\n",
       "      <td>[0.0, 0.0, 0.0, 0.0, 0.0, 0.0, 0.0, 0.25, 0.25...</td>\n",
       "      <td>False</td>\n",
       "      <td>4</td>\n",
       "      <td>[0.0, 0.0, 0.0, 0.0, 0.0, 0.0, 0.0, 0.0, 0.0, ...</td>\n",
       "      <td>True</td>\n",
       "      <td>[0.0, 0.0, 0.0, 0.0, 0.0, 0.0, 0.0, 0.0, 0.0, ...</td>\n",
       "      <td>False</td>\n",
       "      <td>[0.0, 0.0, 0.0, 0.0, 0.0, 0.0, 0.0, 0.0, 0.0, ...</td>\n",
       "      <td>False</td>\n",
       "    </tr>\n",
       "    <tr>\n",
       "      <th>3518</th>\n",
       "      <td>Huoshan_Translate.832</td>\n",
       "      <td>11</td>\n",
       "      <td>727</td>\n",
       "      <td>\"\"Securing a (Brexit) deal remains the best wa...</td>\n",
       "      <td>„Die Sicherung eines (Brexit) Deals bleibt der...</td>\n",
       "      <td>[0.0, 0.0, 0.0, 0.0, 0.0, 0.33333333330000003,...</td>\n",
       "      <td>False</td>\n",
       "      <td>3</td>\n",
       "      <td>[0.0, 0.0, 0.0, 0.0, 0.0, 0.0, 0.0, 0.0, 0.0, ...</td>\n",
       "      <td>True</td>\n",
       "      <td>[0.0, 0.0, 0.0, 0.0, 0.0, 0.0, 0.0, 0.0, 0.0, ...</td>\n",
       "      <td>False</td>\n",
       "      <td>[0.0, 0.0, 0.0, 0.0, 0.0, 0.0, 0.0, 0.0, 0.0, ...</td>\n",
       "      <td>False</td>\n",
       "    </tr>\n",
       "    <tr>\n",
       "      <th>3548</th>\n",
       "      <td>Huoshan_Translate.832</td>\n",
       "      <td>12</td>\n",
       "      <td>403</td>\n",
       "      <td>The killings are usually carried out by a clos...</td>\n",
       "      <td>Die Tötungen werden normalerweise von einem na...</td>\n",
       "      <td>[0.0, 0.33333333330000003, 0.33333333330000003...</td>\n",
       "      <td>False</td>\n",
       "      <td>6</td>\n",
       "      <td>[0.0, 0.0, 0.0, 0.0, 0.0, 0.0, 0.0, 0.0, 0.0, ...</td>\n",
       "      <td>True</td>\n",
       "      <td>[0.0, 0.0, 0.0, 0.0, 0.3333333333333333, 0.333...</td>\n",
       "      <td>False</td>\n",
       "      <td>[0.0, 0.0, 0.0, 0.0, 0.0, 0.0, 0.0, 0.0, 0.0, ...</td>\n",
       "      <td>False</td>\n",
       "    </tr>\n",
       "    <tr>\n",
       "      <th>3710</th>\n",
       "      <td>OPPO.1535</td>\n",
       "      <td>1</td>\n",
       "      <td>78</td>\n",
       "      <td>Saudi Arabia To Offer Tourist Visas For First ...</td>\n",
       "      <td>Saudi-Arabien bietet zum ersten Mal Touristenv...</td>\n",
       "      <td>[0.0, 0.0, 0.0, 0.0, 0.0, 0.0, 0.0, 0.0, 0.0, ...</td>\n",
       "      <td>False</td>\n",
       "      <td>4</td>\n",
       "      <td>[0.0, 0.0, 0.0, 0.0, 0.0, 0.0, 0.0, 0.0, 0.0, ...</td>\n",
       "      <td>False</td>\n",
       "      <td>[0.0, 0.0, 0.0, 0.0, 0.0, 0.0, 0.0, 0.0, 0.0, ...</td>\n",
       "      <td>False</td>\n",
       "      <td>[0.0, 0.0, 0.0, 0.0, 0.0, 0.0, 0.0, 0.0, 0.0, ...</td>\n",
       "      <td>True</td>\n",
       "    </tr>\n",
       "    <tr>\n",
       "      <th>3724</th>\n",
       "      <td>OPPO.1535</td>\n",
       "      <td>1</td>\n",
       "      <td>364</td>\n",
       "      <td>US theater chain bans dressing up for \"\"Joker\"...</td>\n",
       "      <td>US-Theaterkette verbietet Verkleidung für „Jok...</td>\n",
       "      <td>[0.0, 0.0, 0.25, 0.25, 0.25, 0.0, 0.0, 0.0, 0....</td>\n",
       "      <td>False</td>\n",
       "      <td>4</td>\n",
       "      <td>[0.0, 0.0, 0.0, 0.0, 0.0, 0.0, 0.0, 0.0, 0.0, ...</td>\n",
       "      <td>True</td>\n",
       "      <td>[0.0, 0.0, 0.0, 0.25, 0.25, 0.25, 0.25, 0.25, ...</td>\n",
       "      <td>False</td>\n",
       "      <td>[0.0, 0.0, 0.0, 0.0, 0.0, 0.0, 0.0, 0.0, 0.0, ...</td>\n",
       "      <td>False</td>\n",
       "    </tr>\n",
       "    <tr>\n",
       "      <th>3786</th>\n",
       "      <td>OPPO.1535</td>\n",
       "      <td>2</td>\n",
       "      <td>103</td>\n",
       "      <td>Facebook has begun hiding the number of \"\"like...</td>\n",
       "      <td>Facebook habe begonnen, die Anzahl der „Likes“...</td>\n",
       "      <td>[0.0, 0.0, 0.0, 0.0, 0.0, 0.0, 0.0, 0.0, 0.0, ...</td>\n",
       "      <td>False</td>\n",
       "      <td>3</td>\n",
       "      <td>[0.0, 0.0, 0.0, 0.0, 0.0, 0.0, 0.0, 0.0, 0.0, ...</td>\n",
       "      <td>False</td>\n",
       "      <td>[0.0, 0.0, 0.0, 0.0, 0.0, 0.0, 0.0, 0.0, 0.0, ...</td>\n",
       "      <td>False</td>\n",
       "      <td>[0.0, 0.0, 0.0, 0.0, 0.0, 0.0, 0.0, 0.0, 0.0, ...</td>\n",
       "      <td>True</td>\n",
       "    </tr>\n",
       "    <tr>\n",
       "      <th>3806</th>\n",
       "      <td>OPPO.1535</td>\n",
       "      <td>2</td>\n",
       "      <td>376</td>\n",
       "      <td>Throughout the book, Spann Cooper uses anecdot...</td>\n",
       "      <td>Während des gesamten Buches verwendet Spann Co...</td>\n",
       "      <td>[0.1666666667, 0.1666666667, 0.1666666667, 0.0...</td>\n",
       "      <td>False</td>\n",
       "      <td>6</td>\n",
       "      <td>[0.0, 0.0, 0.0, 0.0, 0.0, 0.0, 0.0, 0.0, 0.0, ...</td>\n",
       "      <td>True</td>\n",
       "      <td>[0.16666666666666666, 0.16666666666666666, 0.1...</td>\n",
       "      <td>False</td>\n",
       "      <td>[0.0, 0.0, 0.0, 0.0, 0.0, 0.0, 0.0, 0.0, 0.0, ...</td>\n",
       "      <td>False</td>\n",
       "    </tr>\n",
       "    <tr>\n",
       "      <th>3957</th>\n",
       "      <td>OPPO.1535</td>\n",
       "      <td>3</td>\n",
       "      <td>1090</td>\n",
       "      <td>Many readers, including some who work in natio...</td>\n",
       "      <td>Viele Leser, darunter einige, die in der natio...</td>\n",
       "      <td>[0.0, 0.0, 0.0, 0.0, 0.0, 0.0, 0.0, 0.0, 0.0, ...</td>\n",
       "      <td>False</td>\n",
       "      <td>4</td>\n",
       "      <td>[0.0, 0.0, 0.0, 0.0, 0.0, 0.0, 0.0, 0.0, 0.0, ...</td>\n",
       "      <td>True</td>\n",
       "      <td>[0.0, 0.0, 0.0, 0.0, 0.0, 0.0, 0.0, 0.0, 0.0, ...</td>\n",
       "      <td>False</td>\n",
       "      <td>[0.0, 0.0, 0.0, 0.0, 0.0, 0.0, 0.0, 0.0, 0.0, ...</td>\n",
       "      <td>False</td>\n",
       "    </tr>\n",
       "    <tr>\n",
       "      <th>4134</th>\n",
       "      <td>OPPO.1535</td>\n",
       "      <td>5</td>\n",
       "      <td>839</td>\n",
       "      <td>\"\"Whether meeting with our @ObamaFoundation Le...</td>\n",
       "      <td>„Ob Treffen mit unseren @ ObamaFoundation-Leit...</td>\n",
       "      <td>[0.0, 0.0, 0.0, 0.0, 0.0, 0.1666666667, 0.1666...</td>\n",
       "      <td>False</td>\n",
       "      <td>6</td>\n",
       "      <td>[0.0, 0.0, 0.0, 0.0, 0.0, 0.0, 0.0, 0.0, 0.0, ...</td>\n",
       "      <td>True</td>\n",
       "      <td>[0.0, 0.0, 0.0, 0.0, 0.0, 0.0, 0.0, 0.0, 0.0, ...</td>\n",
       "      <td>False</td>\n",
       "      <td>[0.0, 0.0, 0.0, 0.0, 0.0, 0.0, 0.0, 0.0, 0.0, ...</td>\n",
       "      <td>False</td>\n",
       "    </tr>\n",
       "    <tr>\n",
       "      <th>4200</th>\n",
       "      <td>OPPO.1535</td>\n",
       "      <td>6</td>\n",
       "      <td>496</td>\n",
       "      <td>Interior Minister Christophe Castaner said peo...</td>\n",
       "      <td>Innenminister Christophe Castaner sagte, Mensc...</td>\n",
       "      <td>[0.0, 0.0, 0.0, 0.0, 0.0, 0.0, 0.0, 0.0, 0.0, ...</td>\n",
       "      <td>False</td>\n",
       "      <td>4</td>\n",
       "      <td>[0.0, 0.0, 0.0, 0.0, 0.0, 0.0, 0.0, 0.0, 0.0, ...</td>\n",
       "      <td>False</td>\n",
       "      <td>[0.0, 0.0, 0.0, 0.0, 0.0, 0.0, 0.0, 0.0, 0.0, ...</td>\n",
       "      <td>False</td>\n",
       "      <td>[0.0, 0.0, 0.0, 0.0, 0.0, 0.0, 0.0, 0.0, 0.0, ...</td>\n",
       "      <td>True</td>\n",
       "    </tr>\n",
       "    <tr>\n",
       "      <th>4220</th>\n",
       "      <td>OPPO.1535</td>\n",
       "      <td>6</td>\n",
       "      <td>840</td>\n",
       "      <td>Meghan interviewed Obama for the September iss...</td>\n",
       "      <td>Meghan interviewte Obama für die September-Aus...</td>\n",
       "      <td>[0.0, 0.0, 0.0, 0.0, 0.0, 0.0, 0.0, 0.0, 0.0, ...</td>\n",
       "      <td>False</td>\n",
       "      <td>5</td>\n",
       "      <td>[0.0, 0.0, 0.0, 0.0, 0.0, 0.0, 0.0, 0.0, 0.0, ...</td>\n",
       "      <td>True</td>\n",
       "      <td>[0.0, 0.0, 0.0, 0.0, 0.0, 0.0, 0.0, 0.0, 0.0, ...</td>\n",
       "      <td>False</td>\n",
       "      <td>[0.0, 0.0, 0.0, 0.0, 0.0, 0.0, 0.0, 0.0, 0.0, ...</td>\n",
       "      <td>False</td>\n",
       "    </tr>\n",
       "    <tr>\n",
       "      <th>4255</th>\n",
       "      <td>OPPO.1535</td>\n",
       "      <td>6</td>\n",
       "      <td>1352</td>\n",
       "      <td>The virus causes dangerous meningitis or encep...</td>\n",
       "      <td>Das Virus verursacht bei weniger als 1% der In...</td>\n",
       "      <td>[0.0, 0.0, 0.0, 0.0, 0.0, 0.0, 0.2, 0.4, 0.0, ...</td>\n",
       "      <td>False</td>\n",
       "      <td>5</td>\n",
       "      <td>[0.0, 0.0, 0.0, 0.0, 0.0, 0.0, 0.0, 0.0, 0.0, ...</td>\n",
       "      <td>True</td>\n",
       "      <td>[0.0, 0.0, 0.0, 0.0, 0.0, 0.0, 0.0, 0.0, 0.0, ...</td>\n",
       "      <td>False</td>\n",
       "      <td>[0.0, 0.0, 0.0, 0.0, 0.0, 0.0, 0.0, 0.0, 0.0, ...</td>\n",
       "      <td>False</td>\n",
       "    </tr>\n",
       "    <tr>\n",
       "      <th>4296</th>\n",
       "      <td>OPPO.1535</td>\n",
       "      <td>7</td>\n",
       "      <td>649</td>\n",
       "      <td>\"\"I mean, I guess if you could tell me, I woul...</td>\n",
       "      <td>„Ich meine, ich denke, wenn Sie mir sagen könn...</td>\n",
       "      <td>[0.0, 0.2, 0.2, 0.2, 0.2, 0.2, 0.2, 0.4, 0.4, ...</td>\n",
       "      <td>False</td>\n",
       "      <td>5</td>\n",
       "      <td>[0.0, 0.0, 0.0, 0.0, 0.0, 0.0, 0.0, 0.0, 0.0, ...</td>\n",
       "      <td>True</td>\n",
       "      <td>[0.0, 0.2, 0.2, 0.2, 0.2, 0.2, 0.2, 0.2, 0.2, ...</td>\n",
       "      <td>False</td>\n",
       "      <td>[0.0, 0.0, 0.0, 0.0, 0.0, 0.0, 0.0, 0.0, 0.0, ...</td>\n",
       "      <td>False</td>\n",
       "    </tr>\n",
       "    <tr>\n",
       "      <th>4505</th>\n",
       "      <td>OPPO.1535</td>\n",
       "      <td>10</td>\n",
       "      <td>1237</td>\n",
       "      <td>Protesters are also organizing \"\"anti-totalita...</td>\n",
       "      <td>Demonstranten organisieren am Sonntag auch „An...</td>\n",
       "      <td>[0.0, 0.0, 0.0, 0.0, 0.0, 0.0, 0.0, 0.25, 0.25...</td>\n",
       "      <td>False</td>\n",
       "      <td>4</td>\n",
       "      <td>[0.0, 0.0, 0.0, 0.0, 0.0, 0.0, 0.0, 0.0, 0.0, ...</td>\n",
       "      <td>True</td>\n",
       "      <td>[0.0, 0.0, 0.0, 0.0, 0.0, 0.0, 0.0, 0.0, 0.0, ...</td>\n",
       "      <td>False</td>\n",
       "      <td>[0.0, 0.0, 0.0, 0.0, 0.0, 0.0, 0.0, 0.0, 0.0, ...</td>\n",
       "      <td>False</td>\n",
       "    </tr>\n",
       "    <tr>\n",
       "      <th>4507</th>\n",
       "      <td>OPPO.1535</td>\n",
       "      <td>10</td>\n",
       "      <td>1263</td>\n",
       "      <td>The sentencing phase begins Monday. Haskell de...</td>\n",
       "      <td>Die Verurteilungsphase beginnt am Montag. Hask...</td>\n",
       "      <td>[0.0, 0.25, 0.25, 0.25, 0.25, 0.25, 0.0, 0.0, ...</td>\n",
       "      <td>False</td>\n",
       "      <td>4</td>\n",
       "      <td>[0.0, 0.0, 0.0, 0.0, 0.0, 0.0, 0.0, 0.0, 0.0, ...</td>\n",
       "      <td>True</td>\n",
       "      <td>[0.0, 0.0, 0.0, 0.0, 0.25, 0.25, 0.25, 0.25, 0...</td>\n",
       "      <td>False</td>\n",
       "      <td>[0.0, 0.0, 0.0, 0.0, 0.0, 0.0, 0.0, 0.0, 0.0, ...</td>\n",
       "      <td>False</td>\n",
       "    </tr>\n",
       "    <tr>\n",
       "      <th>4533</th>\n",
       "      <td>OPPO.1535</td>\n",
       "      <td>11</td>\n",
       "      <td>613</td>\n",
       "      <td>\"\"From an Irish perspective, we of course thin...</td>\n",
       "      <td>„Aus irischer Sicht denken wir natürlich, dass...</td>\n",
       "      <td>[0.0, 0.0, 0.0, 0.0, 0.0, 0.0, 0.0, 0.0, 0.0, ...</td>\n",
       "      <td>False</td>\n",
       "      <td>3</td>\n",
       "      <td>[0.0, 0.0, 0.0, 0.0, 0.0, 0.0, 0.0, 0.0, 0.0, ...</td>\n",
       "      <td>True</td>\n",
       "      <td>[0.0, 0.0, 0.0, 0.0, 0.0, 0.0, 0.0, 0.0, 0.0, ...</td>\n",
       "      <td>False</td>\n",
       "      <td>[0.0, 0.0, 0.0, 0.0, 0.0, 0.0, 0.0, 0.0, 0.0, ...</td>\n",
       "      <td>False</td>\n",
       "    </tr>\n",
       "    <tr>\n",
       "      <th>5217</th>\n",
       "      <td>Online-A.1574</td>\n",
       "      <td>6</td>\n",
       "      <td>1352</td>\n",
       "      <td>The virus causes dangerous meningitis or encep...</td>\n",
       "      <td>Das Virus verursacht gefährliche Meningitis od...</td>\n",
       "      <td>[0.0, 0.0, 0.0, 0.2, 0.2, 0.0, 0.0, 0.0, 0.0, ...</td>\n",
       "      <td>False</td>\n",
       "      <td>5</td>\n",
       "      <td>[0.0, 0.0, 0.0, 0.0, 0.0, 0.0, 0.0, 0.0, 0.0, ...</td>\n",
       "      <td>True</td>\n",
       "      <td>[0.0, 0.0, 0.0, 0.0, 0.0, 0.0, 0.0, 0.0, 0.0, ...</td>\n",
       "      <td>False</td>\n",
       "      <td>[0.0, 0.0, 0.0, 0.0, 0.0, 0.0, 0.0, 0.0, 0.0, ...</td>\n",
       "      <td>False</td>\n",
       "    </tr>\n",
       "    <tr>\n",
       "      <th>5289</th>\n",
       "      <td>Online-A.1574</td>\n",
       "      <td>8</td>\n",
       "      <td>32</td>\n",
       "      <td>In a statement, United Healthcare told CNN it'...</td>\n",
       "      <td>In einer Erklärung teilte United Healthcare CN...</td>\n",
       "      <td>[0.0, 0.0, 0.0, 0.0, 0.0, 0.25, 0.25, 0.25, 0....</td>\n",
       "      <td>False</td>\n",
       "      <td>4</td>\n",
       "      <td>[0.0, 0.0, 0.0, 0.0, 0.0, 0.0, 0.0, 0.0, 0.0, ...</td>\n",
       "      <td>True</td>\n",
       "      <td>[0.0, 0.0, 0.0, 0.0, 0.0, 0.0, 0.0, 0.0, 0.0, ...</td>\n",
       "      <td>False</td>\n",
       "      <td>[0.0, 0.0, 0.0, 0.0, 0.0, 0.0, 0.0, 0.0, 0.0, ...</td>\n",
       "      <td>False</td>\n",
       "    </tr>\n",
       "    <tr>\n",
       "      <th>6127</th>\n",
       "      <td>Online-B.1590</td>\n",
       "      <td>6</td>\n",
       "      <td>1031</td>\n",
       "      <td>The automaker is expected to report its quarte...</td>\n",
       "      <td>Der Autohersteller wird voraussichtlich in den...</td>\n",
       "      <td>[0.0, 0.0, 0.0, 0.0, 0.0, 0.0, 0.0, 0.0, 0.0, ...</td>\n",
       "      <td>False</td>\n",
       "      <td>4</td>\n",
       "      <td>[0.0, 0.0, 0.0, 0.0, 0.0, 0.0, 0.0, 0.0, 0.0, ...</td>\n",
       "      <td>False</td>\n",
       "      <td>[0.0, 0.0, 0.0, 0.0, 0.0, 0.0, 0.0, 0.0, 0.0, ...</td>\n",
       "      <td>False</td>\n",
       "      <td>[0.0, 0.0, 0.0, 0.0, 0.0, 0.0, 0.0, 0.0, 0.0, ...</td>\n",
       "      <td>True</td>\n",
       "    </tr>\n",
       "    <tr>\n",
       "      <th>6348</th>\n",
       "      <td>Online-B.1590</td>\n",
       "      <td>10</td>\n",
       "      <td>544</td>\n",
       "      <td>\"\"This is all wrong. I shouldn't be up here. I...</td>\n",
       "      <td>\"\"\"Das ist alles falsch. Ich sollte nicht hier...</td>\n",
       "      <td>[0.0, 0.30000000000000004, 0.30000000000000004...</td>\n",
       "      <td>False</td>\n",
       "      <td>10</td>\n",
       "      <td>[0.0, 0.0, 0.0, 0.0, 0.0, 0.0, 0.0, 0.0, 0.0, ...</td>\n",
       "      <td>False</td>\n",
       "      <td>[0.0, 0.3, 0.3, 0.0, 0.0, 0.0, 0.0, 0.0, 0.0, ...</td>\n",
       "      <td>False</td>\n",
       "      <td>[0.0, 0.0, 0.0, 0.0, 0.0, 0.0, 0.0, 0.0, 0.0, ...</td>\n",
       "      <td>True</td>\n",
       "    </tr>\n",
       "    <tr>\n",
       "      <th>6592</th>\n",
       "      <td>Tencent_Translation.1520</td>\n",
       "      <td>1</td>\n",
       "      <td>364</td>\n",
       "      <td>US theater chain bans dressing up for \"\"Joker\"...</td>\n",
       "      <td>US-Theaterkette verbietet Verkleidung für „Jok...</td>\n",
       "      <td>[0.0, 0.0, 0.25, 0.25, 0.25, 0.0, 0.0, 0.0, 0....</td>\n",
       "      <td>False</td>\n",
       "      <td>4</td>\n",
       "      <td>[0.0, 0.0, 0.0, 0.0, 0.0, 0.0, 0.0, 0.0, 0.0, ...</td>\n",
       "      <td>True</td>\n",
       "      <td>[0.0, 0.0, 0.0, 0.25, 0.25, 0.25, 0.25, 0.25, ...</td>\n",
       "      <td>False</td>\n",
       "      <td>[0.0, 0.0, 0.0, 0.0, 0.0, 0.0, 0.0, 0.0, 0.0, ...</td>\n",
       "      <td>False</td>\n",
       "    </tr>\n",
       "    <tr>\n",
       "      <th>6594</th>\n",
       "      <td>Tencent_Translation.1520</td>\n",
       "      <td>1</td>\n",
       "      <td>392</td>\n",
       "      <td>Brother Jailed For Life For Pakistan Social Me...</td>\n",
       "      <td>Bruder lebenslang wegen Tötung des pakistanisc...</td>\n",
       "      <td>[0.0, 0.33333333330000003, 0.33333333330000003...</td>\n",
       "      <td>False</td>\n",
       "      <td>3</td>\n",
       "      <td>[0.0, 0.0, 0.0, 0.0, 0.0, 0.0, 0.0, 0.0, 0.0, ...</td>\n",
       "      <td>True</td>\n",
       "      <td>[0.0, 0.0, 0.0, 0.0, 0.0, 0.0, 0.0, 0.33333333...</td>\n",
       "      <td>False</td>\n",
       "      <td>[0.0, 0.0, 0.0, 0.0, 0.0, 0.0, 0.0, 0.0, 0.0, ...</td>\n",
       "      <td>False</td>\n",
       "    </tr>\n",
       "    <tr>\n",
       "      <th>6601</th>\n",
       "      <td>Tencent_Translation.1520</td>\n",
       "      <td>1</td>\n",
       "      <td>498</td>\n",
       "      <td>LNG investments hit record in 2019 &amp; the bigge...</td>\n",
       "      <td>LNG-Investitionen erreichen 2019 Rekordniveau ...</td>\n",
       "      <td>[0.25, 0.25, 0.0, 0.0, 0.0, 0.0, 0.0, 0.0, 0.2...</td>\n",
       "      <td>False</td>\n",
       "      <td>4</td>\n",
       "      <td>[0.0, 0.0, 0.0, 0.0, 0.0, 0.0, 0.0, 0.0, 0.0, ...</td>\n",
       "      <td>True</td>\n",
       "      <td>[0.25, 0.25, 0.25, 0.0, 0.0, 0.0, 0.0, 0.0, 0....</td>\n",
       "      <td>False</td>\n",
       "      <td>[0.0, 0.0, 0.0, 0.0, 0.0, 0.0, 0.0, 0.0, 0.0, ...</td>\n",
       "      <td>False</td>\n",
       "    </tr>\n",
       "    <tr>\n",
       "      <th>7149</th>\n",
       "      <td>Tencent_Translation.1520</td>\n",
       "      <td>7</td>\n",
       "      <td>649</td>\n",
       "      <td>\"\"I mean, I guess if you could tell me, I woul...</td>\n",
       "      <td>„Ich meine, ich denke, wenn Sie mir sagen könn...</td>\n",
       "      <td>[0.0, 0.0, 0.0, 0.0, 0.0, 0.0, 0.0, 0.4, 0.4, ...</td>\n",
       "      <td>False</td>\n",
       "      <td>5</td>\n",
       "      <td>[0.0, 0.0, 0.0, 0.0, 0.0, 0.0, 0.0, 0.0, 0.0, ...</td>\n",
       "      <td>True</td>\n",
       "      <td>[0.0, 0.0, 0.0, 0.0, 0.0, 0.0, 0.0, 0.0, 0.0, ...</td>\n",
       "      <td>False</td>\n",
       "      <td>[0.0, 0.0, 0.0, 0.0, 0.0, 0.0, 0.0, 0.0, 0.0, ...</td>\n",
       "      <td>False</td>\n",
       "    </tr>\n",
       "    <tr>\n",
       "      <th>7391</th>\n",
       "      <td>Tencent_Translation.1520</td>\n",
       "      <td>11</td>\n",
       "      <td>727</td>\n",
       "      <td>\"\"Securing a (Brexit) deal remains the best wa...</td>\n",
       "      <td>„Die Sicherung eines (Brexit) Abkommens bleibt...</td>\n",
       "      <td>[0.0, 0.0, 0.0, 0.0, 0.0, 0.33333333330000003,...</td>\n",
       "      <td>False</td>\n",
       "      <td>3</td>\n",
       "      <td>[0.0, 0.0, 0.0, 0.0, 0.0, 0.0, 0.0, 0.0, 0.0, ...</td>\n",
       "      <td>True</td>\n",
       "      <td>[0.0, 0.0, 0.0, 0.0, 0.0, 0.0, 0.0, 0.0, 0.0, ...</td>\n",
       "      <td>False</td>\n",
       "      <td>[0.0, 0.0, 0.0, 0.0, 0.0, 0.0, 0.0, 0.0, 0.0, ...</td>\n",
       "      <td>False</td>\n",
       "    </tr>\n",
       "    <tr>\n",
       "      <th>7577</th>\n",
       "      <td>Tencent_Translation.1520</td>\n",
       "      <td>24</td>\n",
       "      <td>101</td>\n",
       "      <td>The country is also developing historic sites ...</td>\n",
       "      <td>Das Land entwickelt auch historische Stätten w...</td>\n",
       "      <td>[0.0, 0.0, 0.25, 0.0, 0.0, 0.0, 0.0, 0.0, 0.0,...</td>\n",
       "      <td>False</td>\n",
       "      <td>4</td>\n",
       "      <td>[0.0, 0.0, 0.0, 0.0, 0.0, 0.0, 0.0, 0.0, 0.0, ...</td>\n",
       "      <td>True</td>\n",
       "      <td>[0.0, 0.0, 0.0, 0.0, 0.0, 0.0, 0.0, 0.0, 0.0, ...</td>\n",
       "      <td>False</td>\n",
       "      <td>[0.0, 0.0, 0.0, 0.0, 0.0, 0.0, 0.0, 0.0, 0.0, ...</td>\n",
       "      <td>False</td>\n",
       "    </tr>\n",
       "    <tr>\n",
       "      <th>9196</th>\n",
       "      <td>eTranslation.737</td>\n",
       "      <td>8</td>\n",
       "      <td>1052</td>\n",
       "      <td>This grieving father said he has no idea who w...</td>\n",
       "      <td>Dieser trauernde Vater sagte, er habe keine Ah...</td>\n",
       "      <td>[0.2, 0.0, 0.0, 0.0, 0.0, 0.0, 0.0, 0.0, 0.0, ...</td>\n",
       "      <td>False</td>\n",
       "      <td>5</td>\n",
       "      <td>[0.0, 0.0, 0.0, 0.0, 0.0, 0.0, 0.0, 0.0, 0.0, ...</td>\n",
       "      <td>True</td>\n",
       "      <td>[0.2, 0.2, 0.2, 0.2, 0.2, 0.2, 0.2, 0.0, 0.0, ...</td>\n",
       "      <td>False</td>\n",
       "      <td>[0.0, 0.0, 0.0, 0.0, 0.0, 0.0, 0.0, 0.0, 0.0, ...</td>\n",
       "      <td>False</td>\n",
       "    </tr>\n",
       "    <tr>\n",
       "      <th>9375</th>\n",
       "      <td>eTranslation.737</td>\n",
       "      <td>12</td>\n",
       "      <td>403</td>\n",
       "      <td>The killings are usually carried out by a clos...</td>\n",
       "      <td>Die Tötungen werden in der Regel von einem nah...</td>\n",
       "      <td>[0.0, 0.33333333330000003, 0.33333333330000003...</td>\n",
       "      <td>False</td>\n",
       "      <td>6</td>\n",
       "      <td>[0.0, 0.0, 0.0, 0.0, 0.0, 0.0, 0.0, 0.0, 0.0, ...</td>\n",
       "      <td>True</td>\n",
       "      <td>[0.0, 0.0, 0.0, 0.0, 0.3333333333333333, 0.333...</td>\n",
       "      <td>False</td>\n",
       "      <td>[0.0, 0.0, 0.0, 0.0, 0.0, 0.0, 0.0, 0.0, 0.0, ...</td>\n",
       "      <td>False</td>\n",
       "    </tr>\n",
       "  </tbody>\n",
       "</table>\n",
       "</div>"
      ],
      "text/plain": [
       "                        system  doc_id  seg_id  \\\n",
       "2                    Human-A.0       1      78   \n",
       "5                    Human-A.0       1     123   \n",
       "351                  Human-A.0       5     209   \n",
       "575                  Human-A.0       8      32   \n",
       "632                  Human-A.0       8    1330   \n",
       "760                  Human-A.0      11     668   \n",
       "828                  Human-A.0      13     320   \n",
       "1039                 Human-B.0       2     820   \n",
       "1062                 Human-B.0       2    1185   \n",
       "1177                 Human-B.0       4     258   \n",
       "1431                 Human-B.0       7    1051   \n",
       "1465                 Human-B.0       8     505   \n",
       "1670                 Human-B.0      13      90   \n",
       "1836                 Human-P.0       1    1117   \n",
       "2063                 Human-P.0       4     436   \n",
       "2249                 Human-P.0       6     694   \n",
       "2382                 Human-P.0       8     854   \n",
       "2429                 Human-P.0       9     534   \n",
       "3032     Huoshan_Translate.832       4     952   \n",
       "3203     Huoshan_Translate.832       6     840   \n",
       "3234     Huoshan_Translate.832       6    1352   \n",
       "3272     Huoshan_Translate.832       7     649   \n",
       "3415     Huoshan_Translate.832       9     877   \n",
       "3490     Huoshan_Translate.832      10    1237   \n",
       "3518     Huoshan_Translate.832      11     727   \n",
       "3548     Huoshan_Translate.832      12     403   \n",
       "3710                 OPPO.1535       1      78   \n",
       "3724                 OPPO.1535       1     364   \n",
       "3786                 OPPO.1535       2     103   \n",
       "3806                 OPPO.1535       2     376   \n",
       "3957                 OPPO.1535       3    1090   \n",
       "4134                 OPPO.1535       5     839   \n",
       "4200                 OPPO.1535       6     496   \n",
       "4220                 OPPO.1535       6     840   \n",
       "4255                 OPPO.1535       6    1352   \n",
       "4296                 OPPO.1535       7     649   \n",
       "4505                 OPPO.1535      10    1237   \n",
       "4507                 OPPO.1535      10    1263   \n",
       "4533                 OPPO.1535      11     613   \n",
       "5217             Online-A.1574       6    1352   \n",
       "5289             Online-A.1574       8      32   \n",
       "6127             Online-B.1590       6    1031   \n",
       "6348             Online-B.1590      10     544   \n",
       "6592  Tencent_Translation.1520       1     364   \n",
       "6594  Tencent_Translation.1520       1     392   \n",
       "6601  Tencent_Translation.1520       1     498   \n",
       "7149  Tencent_Translation.1520       7     649   \n",
       "7391  Tencent_Translation.1520      11     727   \n",
       "7577  Tencent_Translation.1520      24     101   \n",
       "9196          eTranslation.737       8    1052   \n",
       "9375          eTranslation.737      12     403   \n",
       "\n",
       "                                                 source  \\\n",
       "2     Saudi Arabia To Offer Tourist Visas For First ...   \n",
       "5     Patriot missile system to Saudi Arabia after I...   \n",
       "351   The Duchess of York wrote on Twitter: \"\" I kno...   \n",
       "575   In a statement, United Healthcare told CNN it'...   \n",
       "632   \"\"It is clear [...] that the weapons used were...   \n",
       "760   Townsend said; \"\"We will publish a date for ou...   \n",
       "828   However, as Sky News revealed last month, the ...   \n",
       "1039  A prison locksmith has been arrested amid fear...   \n",
       "1062  A senior Trump administration official acknowl...   \n",
       "1177  \"\"My wife writes down the numbers for me durin...   \n",
       "1431  \"\"Wherever this coward is, he will get caught,...   \n",
       "1465  In Canada, there is just one LNG project under...   \n",
       "1670  But the austere kingdom, which forbids alcohol...   \n",
       "1836  Julian Assange: Private security firm 'spied o...   \n",
       "2063  On August 8, Warren stopped by a lemonade stan...   \n",
       "2249  During a conversation with the female tech fou...   \n",
       "2382  The dog was brought to a local animal shelter ...   \n",
       "2429  Another leader of Los Pelusos was captured in ...   \n",
       "3032  Thunberg's grim pronouncements have earned her...   \n",
       "3203  Meghan interviewed Obama for the September iss...   \n",
       "3234  The virus causes dangerous meningitis or encep...   \n",
       "3272  \"\"I mean, I guess if you could tell me, I woul...   \n",
       "3415  Pelosi met earlier this year with Van Ness and...   \n",
       "3490  Protesters are also organizing \"\"anti-totalita...   \n",
       "3518  \"\"Securing a (Brexit) deal remains the best wa...   \n",
       "3548  The killings are usually carried out by a clos...   \n",
       "3710  Saudi Arabia To Offer Tourist Visas For First ...   \n",
       "3724  US theater chain bans dressing up for \"\"Joker\"...   \n",
       "3786  Facebook has begun hiding the number of \"\"like...   \n",
       "3806  Throughout the book, Spann Cooper uses anecdot...   \n",
       "3957  Many readers, including some who work in natio...   \n",
       "4134  \"\"Whether meeting with our @ObamaFoundation Le...   \n",
       "4200  Interior Minister Christophe Castaner said peo...   \n",
       "4220  Meghan interviewed Obama for the September iss...   \n",
       "4255  The virus causes dangerous meningitis or encep...   \n",
       "4296  \"\"I mean, I guess if you could tell me, I woul...   \n",
       "4505  Protesters are also organizing \"\"anti-totalita...   \n",
       "4507  The sentencing phase begins Monday. Haskell de...   \n",
       "4533  \"\"From an Irish perspective, we of course thin...   \n",
       "5217  The virus causes dangerous meningitis or encep...   \n",
       "5289  In a statement, United Healthcare told CNN it'...   \n",
       "6127  The automaker is expected to report its quarte...   \n",
       "6348  \"\"This is all wrong. I shouldn't be up here. I...   \n",
       "6592  US theater chain bans dressing up for \"\"Joker\"...   \n",
       "6594  Brother Jailed For Life For Pakistan Social Me...   \n",
       "6601  LNG investments hit record in 2019 & the bigge...   \n",
       "7149  \"\"I mean, I guess if you could tell me, I woul...   \n",
       "7391  \"\"Securing a (Brexit) deal remains the best wa...   \n",
       "7577  The country is also developing historic sites ...   \n",
       "9196  This grieving father said he has no idea who w...   \n",
       "9375  The killings are usually carried out by a clos...   \n",
       "\n",
       "                                           target_clean  \\\n",
       "2     Saudi-Arabien stellt erstmals Touristenvisa au...   \n",
       "5     Patriot-Raketensystem an Saudi-Arabien nach Öl...   \n",
       "351   Die Herzogin von York schrieb auf Twitter: „ I...   \n",
       "575   In einer Erklärung teilte United Healthcare CN...   \n",
       "632   „Es ist klar [...] dass die verwendeten Waffen...   \n",
       "760   Townsend erklärte: „Wir werden ein Datum für u...   \n",
       "828   Wie jedoch Sky News letzten Monat enthüllte, e...   \n",
       "1039  Ein Gefängnisschlosser wurde nach Befürchtunge...   \n",
       "1062  Ein hochrangiger Mitarbeiter der Trump-Regieru...   \n",
       "1177  „Meine Frau schreibt mir die Zahlen während de...   \n",
       "1431  „Wo immer dieser Feigling auch sein mag. Wir w...   \n",
       "1465  In Kanada befindet sich derzeit nur ein Flüssi...   \n",
       "1670  Doch in dem Königreich, in dem Alkohol verbote...   \n",
       "1836  Laut Angaben von Julian Assange hat ein privat...   \n",
       "2063  Am Limonadenstand von Sienna Michels und Audre...   \n",
       "2249  Im Rahmen einer Unterhaltung mit den Gründerin...   \n",
       "2382  Der Hund ist mittlerweise in ein lokales Tierh...   \n",
       "2429  Laut der Stellungnahme wurde im Zuge der Opera...   \n",
       "3032  Thunbergs düstere Äußerungen haben ihr brutale...   \n",
       "3203  Meghan interviewte Obama für die September-Aus...   \n",
       "3234  Das Virus verursacht bei weniger als 1% der In...   \n",
       "3272  „Ich meine, ich denke, wenn Sie mir sagen könn...   \n",
       "3415  Pelosi traf sich Anfang dieses Jahres mit Van ...   \n",
       "3490  Demonstranten organisieren am Sonntag auch „An...   \n",
       "3518  „Die Sicherung eines (Brexit) Deals bleibt der...   \n",
       "3548  Die Tötungen werden normalerweise von einem na...   \n",
       "3710  Saudi-Arabien bietet zum ersten Mal Touristenv...   \n",
       "3724  US-Theaterkette verbietet Verkleidung für „Jok...   \n",
       "3786  Facebook habe begonnen, die Anzahl der „Likes“...   \n",
       "3806  Während des gesamten Buches verwendet Spann Co...   \n",
       "3957  Viele Leser, darunter einige, die in der natio...   \n",
       "4134  „Ob Treffen mit unseren @ ObamaFoundation-Leit...   \n",
       "4200  Innenminister Christophe Castaner sagte, Mensc...   \n",
       "4220  Meghan interviewte Obama für die September-Aus...   \n",
       "4255  Das Virus verursacht bei weniger als 1% der In...   \n",
       "4296  „Ich meine, ich denke, wenn Sie mir sagen könn...   \n",
       "4505  Demonstranten organisieren am Sonntag auch „An...   \n",
       "4507  Die Verurteilungsphase beginnt am Montag. Hask...   \n",
       "4533  „Aus irischer Sicht denken wir natürlich, dass...   \n",
       "5217  Das Virus verursacht gefährliche Meningitis od...   \n",
       "5289  In einer Erklärung teilte United Healthcare CN...   \n",
       "6127  Der Autohersteller wird voraussichtlich in den...   \n",
       "6348  \"\"\"Das ist alles falsch. Ich sollte nicht hier...   \n",
       "6592  US-Theaterkette verbietet Verkleidung für „Jok...   \n",
       "6594  Bruder lebenslang wegen Tötung des pakistanisc...   \n",
       "6601  LNG-Investitionen erreichen 2019 Rekordniveau ...   \n",
       "7149  „Ich meine, ich denke, wenn Sie mir sagen könn...   \n",
       "7391  „Die Sicherung eines (Brexit) Abkommens bleibt...   \n",
       "7577  Das Land entwickelt auch historische Stätten w...   \n",
       "9196  Dieser trauernde Vater sagte, er habe keine Ah...   \n",
       "9375  Die Tötungen werden in der Regel von einem nah...   \n",
       "\n",
       "                                             raw_labels  raw_no_error  \\\n",
       "2     [0.0, 0.0, 0.0, 0.0, 0.25, 0.25, 0.25, 0.25, 0...         False   \n",
       "5     [0.0, 0.0, 0.25, 0.25, 0.25, 0.25, 0.25, 0.25,...         False   \n",
       "351   [0.0, 0.0, 0.0, 0.0, 0.0, 0.0, 0.0, 0.0, 0.0, ...         False   \n",
       "575   [0.0, 0.0, 0.0, 0.0, 0.0, 0.33333333330000003,...         False   \n",
       "632   [0.0, 0.0, 0.0, 0.25, 0.0, 0.0, 0.0, 0.0, 0.0,...         False   \n",
       "760   [0.0, 0.0, 0.0, 0.0, 0.0, 0.0, 0.0, 0.0, 0.0, ...         False   \n",
       "828   [0.0, 0.0, 0.0, 0.0, 0.0, 0.0, 0.0, 0.0, 0.0, ...         False   \n",
       "1039  [0.0, 0.0, 0.0, 0.0, 0.0, 0.0, 0.0, 0.0, 0.25,...         False   \n",
       "1062  [0.0, 0.0, 0.0, 0.0, 0.0, 0.0, 0.0, 0.0, 0.0, ...         False   \n",
       "1177  [0.0, 0.0, 0.0, 0.0, 0.0, 0.0, 0.0, 0.0, 0.0, ...         False   \n",
       "1431  [0.0, 0.0, 0.0, 0.0, 0.0, 0.0, 0.0, 0.0, 0.0, ...         False   \n",
       "1465  [0.0, 0.0, 0.0, 0.0, 0.0, 0.0, 0.0, 0.0, 0.0, ...         False   \n",
       "1670  [0.33333333330000003, 0.33333333330000003, 0.3...         False   \n",
       "1836  [0.33333333330000003, 0.33333333330000003, 0.3...         False   \n",
       "2063  [0.0, 0.0, 0.0, 0.0, 0.0, 0.0, 0.0, 0.0, 0.0, ...         False   \n",
       "2249  [0.0, 0.0, 0.0, 0.0, 0.0, 0.0, 0.1666666667, 0...         False   \n",
       "2382  [0.0, 0.0, 0.0, 0.25, 0.25, 0.25, 0.0, 0.0, 0....         False   \n",
       "2429  [0.0, 0.0, 0.0, 0.0, 0.0, 0.0, 0.0, 0.0, 0.0, ...         False   \n",
       "3032  [0.0, 0.0, 0.0, 0.0, 0.0, 0.0, 0.0, 0.0, 0.0, ...         False   \n",
       "3203  [0.0, 0.0, 0.0, 0.0, 0.0, 0.0, 0.0, 0.0, 0.0, ...         False   \n",
       "3234  [0.0, 0.0, 0.0, 0.0, 0.0, 0.0, 0.3333333333000...         False   \n",
       "3272  [0.0, 0.2, 0.2, 0.2, 0.2, 0.2, 0.2, 0.4, 0.4, ...         False   \n",
       "3415  [0.0, 0.0, 0.0, 0.0, 0.0, 0.0, 0.0, 0.0, 0.0, ...         False   \n",
       "3490  [0.0, 0.0, 0.0, 0.0, 0.0, 0.0, 0.0, 0.25, 0.25...         False   \n",
       "3518  [0.0, 0.0, 0.0, 0.0, 0.0, 0.33333333330000003,...         False   \n",
       "3548  [0.0, 0.33333333330000003, 0.33333333330000003...         False   \n",
       "3710  [0.0, 0.0, 0.0, 0.0, 0.0, 0.0, 0.0, 0.0, 0.0, ...         False   \n",
       "3724  [0.0, 0.0, 0.25, 0.25, 0.25, 0.0, 0.0, 0.0, 0....         False   \n",
       "3786  [0.0, 0.0, 0.0, 0.0, 0.0, 0.0, 0.0, 0.0, 0.0, ...         False   \n",
       "3806  [0.1666666667, 0.1666666667, 0.1666666667, 0.0...         False   \n",
       "3957  [0.0, 0.0, 0.0, 0.0, 0.0, 0.0, 0.0, 0.0, 0.0, ...         False   \n",
       "4134  [0.0, 0.0, 0.0, 0.0, 0.0, 0.1666666667, 0.1666...         False   \n",
       "4200  [0.0, 0.0, 0.0, 0.0, 0.0, 0.0, 0.0, 0.0, 0.0, ...         False   \n",
       "4220  [0.0, 0.0, 0.0, 0.0, 0.0, 0.0, 0.0, 0.0, 0.0, ...         False   \n",
       "4255  [0.0, 0.0, 0.0, 0.0, 0.0, 0.0, 0.2, 0.4, 0.0, ...         False   \n",
       "4296  [0.0, 0.2, 0.2, 0.2, 0.2, 0.2, 0.2, 0.4, 0.4, ...         False   \n",
       "4505  [0.0, 0.0, 0.0, 0.0, 0.0, 0.0, 0.0, 0.25, 0.25...         False   \n",
       "4507  [0.0, 0.25, 0.25, 0.25, 0.25, 0.25, 0.0, 0.0, ...         False   \n",
       "4533  [0.0, 0.0, 0.0, 0.0, 0.0, 0.0, 0.0, 0.0, 0.0, ...         False   \n",
       "5217  [0.0, 0.0, 0.0, 0.2, 0.2, 0.0, 0.0, 0.0, 0.0, ...         False   \n",
       "5289  [0.0, 0.0, 0.0, 0.0, 0.0, 0.25, 0.25, 0.25, 0....         False   \n",
       "6127  [0.0, 0.0, 0.0, 0.0, 0.0, 0.0, 0.0, 0.0, 0.0, ...         False   \n",
       "6348  [0.0, 0.30000000000000004, 0.30000000000000004...         False   \n",
       "6592  [0.0, 0.0, 0.25, 0.25, 0.25, 0.0, 0.0, 0.0, 0....         False   \n",
       "6594  [0.0, 0.33333333330000003, 0.33333333330000003...         False   \n",
       "6601  [0.25, 0.25, 0.0, 0.0, 0.0, 0.0, 0.0, 0.0, 0.2...         False   \n",
       "7149  [0.0, 0.0, 0.0, 0.0, 0.0, 0.0, 0.0, 0.4, 0.4, ...         False   \n",
       "7391  [0.0, 0.0, 0.0, 0.0, 0.0, 0.33333333330000003,...         False   \n",
       "7577  [0.0, 0.0, 0.25, 0.0, 0.0, 0.0, 0.0, 0.0, 0.0,...         False   \n",
       "9196  [0.2, 0.0, 0.0, 0.0, 0.0, 0.0, 0.0, 0.0, 0.0, ...         False   \n",
       "9375  [0.0, 0.33333333330000003, 0.33333333330000003...         False   \n",
       "\n",
       "      num_annotations                                             labels  \\\n",
       "2                   4  [0.0, 0.0, 0.0, 0.0, 0.0, 0.0, 0.0, 0.0, 0.0, ...   \n",
       "5                   4  [0.0, 0.0, 0.0, 0.0, 0.0, 0.0, 0.0, 0.0, 0.0, ...   \n",
       "351                 3  [0.0, 0.0, 0.0, 0.0, 0.0, 0.0, 0.0, 0.0, 0.0, ...   \n",
       "575                 3  [0.0, 0.0, 0.0, 0.0, 0.0, 0.0, 0.0, 0.0, 0.0, ...   \n",
       "632                 4  [0.0, 0.0, 0.0, 0.0, 0.0, 0.0, 0.0, 0.0, 0.0, ...   \n",
       "760                 6  [0.0, 0.0, 0.0, 0.0, 0.0, 0.0, 0.0, 0.0, 0.0, ...   \n",
       "828                 4  [0.0, 0.0, 0.0, 0.0, 0.0, 0.0, 0.0, 0.0, 0.0, ...   \n",
       "1039                4  [0.0, 0.0, 0.0, 0.0, 0.0, 0.0, 0.0, 0.0, 0.0, ...   \n",
       "1062                3  [0.0, 0.0, 0.0, 0.0, 0.0, 0.0, 0.0, 0.0, 0.0, ...   \n",
       "1177                4  [0.0, 0.0, 0.0, 0.0, 0.0, 0.0, 0.0, 0.0, 0.0, ...   \n",
       "1431                4  [0.0, 0.0, 0.0, 0.0, 0.0, 0.0, 0.0, 0.0, 0.0, ...   \n",
       "1465                4  [0.0, 0.0, 0.0, 0.0, 0.0, 0.0, 0.0, 0.0, 0.0, ...   \n",
       "1670                3  [0.0, 0.0, 0.0, 0.0, 0.0, 0.0, 0.0, 0.0, 0.0, ...   \n",
       "1836                3  [0.0, 0.0, 0.0, 0.0, 0.0, 0.0, 0.0, 0.0, 0.0, ...   \n",
       "2063                4  [0.0, 0.0, 0.0, 0.0, 0.0, 0.0, 0.0, 0.0, 0.0, ...   \n",
       "2249                6  [0.0, 0.0, 0.0, 0.0, 0.0, 0.0, 0.0, 0.0, 0.0, ...   \n",
       "2382                4  [0.0, 0.0, 0.0, 0.0, 0.0, 0.0, 0.0, 0.0, 0.0, ...   \n",
       "2429                3  [0.0, 0.0, 0.0, 0.0, 0.0, 0.0, 0.0, 0.0, 0.0, ...   \n",
       "3032                6  [0.0, 0.0, 0.0, 0.0, 0.0, 0.0, 0.0, 0.0, 0.0, ...   \n",
       "3203                6  [0.0, 0.0, 0.0, 0.0, 0.0, 0.0, 0.0, 0.0, 0.0, ...   \n",
       "3234                3  [0.0, 0.0, 0.0, 0.0, 0.0, 0.0, 0.0, 0.0, 0.0, ...   \n",
       "3272                5  [0.0, 0.0, 0.0, 0.0, 0.0, 0.0, 0.0, 0.0, 0.0, ...   \n",
       "3415                5  [0.0, 0.0, 0.0, 0.0, 0.0, 0.0, 0.0, 0.0, 0.0, ...   \n",
       "3490                4  [0.0, 0.0, 0.0, 0.0, 0.0, 0.0, 0.0, 0.0, 0.0, ...   \n",
       "3518                3  [0.0, 0.0, 0.0, 0.0, 0.0, 0.0, 0.0, 0.0, 0.0, ...   \n",
       "3548                6  [0.0, 0.0, 0.0, 0.0, 0.0, 0.0, 0.0, 0.0, 0.0, ...   \n",
       "3710                4  [0.0, 0.0, 0.0, 0.0, 0.0, 0.0, 0.0, 0.0, 0.0, ...   \n",
       "3724                4  [0.0, 0.0, 0.0, 0.0, 0.0, 0.0, 0.0, 0.0, 0.0, ...   \n",
       "3786                3  [0.0, 0.0, 0.0, 0.0, 0.0, 0.0, 0.0, 0.0, 0.0, ...   \n",
       "3806                6  [0.0, 0.0, 0.0, 0.0, 0.0, 0.0, 0.0, 0.0, 0.0, ...   \n",
       "3957                4  [0.0, 0.0, 0.0, 0.0, 0.0, 0.0, 0.0, 0.0, 0.0, ...   \n",
       "4134                6  [0.0, 0.0, 0.0, 0.0, 0.0, 0.0, 0.0, 0.0, 0.0, ...   \n",
       "4200                4  [0.0, 0.0, 0.0, 0.0, 0.0, 0.0, 0.0, 0.0, 0.0, ...   \n",
       "4220                5  [0.0, 0.0, 0.0, 0.0, 0.0, 0.0, 0.0, 0.0, 0.0, ...   \n",
       "4255                5  [0.0, 0.0, 0.0, 0.0, 0.0, 0.0, 0.0, 0.0, 0.0, ...   \n",
       "4296                5  [0.0, 0.0, 0.0, 0.0, 0.0, 0.0, 0.0, 0.0, 0.0, ...   \n",
       "4505                4  [0.0, 0.0, 0.0, 0.0, 0.0, 0.0, 0.0, 0.0, 0.0, ...   \n",
       "4507                4  [0.0, 0.0, 0.0, 0.0, 0.0, 0.0, 0.0, 0.0, 0.0, ...   \n",
       "4533                3  [0.0, 0.0, 0.0, 0.0, 0.0, 0.0, 0.0, 0.0, 0.0, ...   \n",
       "5217                5  [0.0, 0.0, 0.0, 0.0, 0.0, 0.0, 0.0, 0.0, 0.0, ...   \n",
       "5289                4  [0.0, 0.0, 0.0, 0.0, 0.0, 0.0, 0.0, 0.0, 0.0, ...   \n",
       "6127                4  [0.0, 0.0, 0.0, 0.0, 0.0, 0.0, 0.0, 0.0, 0.0, ...   \n",
       "6348               10  [0.0, 0.0, 0.0, 0.0, 0.0, 0.0, 0.0, 0.0, 0.0, ...   \n",
       "6592                4  [0.0, 0.0, 0.0, 0.0, 0.0, 0.0, 0.0, 0.0, 0.0, ...   \n",
       "6594                3  [0.0, 0.0, 0.0, 0.0, 0.0, 0.0, 0.0, 0.0, 0.0, ...   \n",
       "6601                4  [0.0, 0.0, 0.0, 0.0, 0.0, 0.0, 0.0, 0.0, 0.0, ...   \n",
       "7149                5  [0.0, 0.0, 0.0, 0.0, 0.0, 0.0, 0.0, 0.0, 0.0, ...   \n",
       "7391                3  [0.0, 0.0, 0.0, 0.0, 0.0, 0.0, 0.0, 0.0, 0.0, ...   \n",
       "7577                4  [0.0, 0.0, 0.0, 0.0, 0.0, 0.0, 0.0, 0.0, 0.0, ...   \n",
       "9196                5  [0.0, 0.0, 0.0, 0.0, 0.0, 0.0, 0.0, 0.0, 0.0, ...   \n",
       "9375                6  [0.0, 0.0, 0.0, 0.0, 0.0, 0.0, 0.0, 0.0, 0.0, ...   \n",
       "\n",
       "      no_error                                    raw_labels_char  \\\n",
       "2        False  [0.0, 0.0, 0.0, 0.0, 0.0, 0.0, 0.0, 0.0, 0.0, ...   \n",
       "5         True  [0.0, 0.0, 0.0, 0.0, 0.0, 0.0, 0.0, 0.0, 0.25,...   \n",
       "351       True  [0.0, 0.0, 0.0, 0.0, 0.0, 0.0, 0.0, 0.0, 0.0, ...   \n",
       "575       True  [0.0, 0.0, 0.0, 0.0, 0.0, 0.0, 0.0, 0.0, 0.0, ...   \n",
       "632       True  [0.0, 0.0, 0.0, 0.0, 0.0, 0.0, 0.0, 0.0, 0.25,...   \n",
       "760       True  [0.0, 0.0, 0.0, 0.0, 0.0, 0.0, 0.0, 0.0, 0.0, ...   \n",
       "828       True  [0.0, 0.0, 0.0, 0.0, 0.0, 0.0, 0.0, 0.0, 0.0, ...   \n",
       "1039      True  [0.0, 0.0, 0.0, 0.0, 0.0, 0.0, 0.0, 0.0, 0.0, ...   \n",
       "1062      True  [0.0, 0.0, 0.0, 0.0, 0.0, 0.0, 0.0, 0.0, 0.0, ...   \n",
       "1177      True  [0.0, 0.0, 0.0, 0.0, 0.0, 0.0, 0.0, 0.0, 0.0, ...   \n",
       "1431     False  [0.0, 0.0, 0.0, 0.0, 0.0, 0.0, 0.0, 0.0, 0.0, ...   \n",
       "1465      True  [0.0, 0.0, 0.0, 0.0, 0.0, 0.0, 0.0, 0.0, 0.0, ...   \n",
       "1670      True  [0.3333333333333333, 0.3333333333333333, 0.333...   \n",
       "1836      True  [0.3333333333333333, 0.3333333333333333, 0.333...   \n",
       "2063     False  [0.0, 0.0, 0.0, 0.0, 0.0, 0.0, 0.0, 0.0, 0.0, ...   \n",
       "2249      True  [0.0, 0.0, 0.0, 0.0, 0.0, 0.0, 0.0, 0.0, 0.0, ...   \n",
       "2382      True  [0.0, 0.0, 0.0, 0.0, 0.0, 0.0, 0.0, 0.0, 0.0, ...   \n",
       "2429      True  [0.0, 0.0, 0.0, 0.0, 0.0, 0.0, 0.0, 0.0, 0.0, ...   \n",
       "3032      True  [0.0, 0.0, 0.0, 0.0, 0.0, 0.0, 0.0, 0.0, 0.0, ...   \n",
       "3203      True  [0.0, 0.0, 0.0, 0.0, 0.0, 0.0, 0.0, 0.0, 0.0, ...   \n",
       "3234      True  [0.0, 0.0, 0.0, 0.0, 0.0, 0.0, 0.0, 0.0, 0.0, ...   \n",
       "3272      True  [0.0, 0.2, 0.2, 0.2, 0.2, 0.2, 0.2, 0.2, 0.2, ...   \n",
       "3415      True  [0.0, 0.0, 0.0, 0.0, 0.0, 0.0, 0.0, 0.0, 0.0, ...   \n",
       "3490      True  [0.0, 0.0, 0.0, 0.0, 0.0, 0.0, 0.0, 0.0, 0.0, ...   \n",
       "3518      True  [0.0, 0.0, 0.0, 0.0, 0.0, 0.0, 0.0, 0.0, 0.0, ...   \n",
       "3548      True  [0.0, 0.0, 0.0, 0.0, 0.3333333333333333, 0.333...   \n",
       "3710     False  [0.0, 0.0, 0.0, 0.0, 0.0, 0.0, 0.0, 0.0, 0.0, ...   \n",
       "3724      True  [0.0, 0.0, 0.0, 0.25, 0.25, 0.25, 0.25, 0.25, ...   \n",
       "3786     False  [0.0, 0.0, 0.0, 0.0, 0.0, 0.0, 0.0, 0.0, 0.0, ...   \n",
       "3806      True  [0.16666666666666666, 0.16666666666666666, 0.1...   \n",
       "3957      True  [0.0, 0.0, 0.0, 0.0, 0.0, 0.0, 0.0, 0.0, 0.0, ...   \n",
       "4134      True  [0.0, 0.0, 0.0, 0.0, 0.0, 0.0, 0.0, 0.0, 0.0, ...   \n",
       "4200     False  [0.0, 0.0, 0.0, 0.0, 0.0, 0.0, 0.0, 0.0, 0.0, ...   \n",
       "4220      True  [0.0, 0.0, 0.0, 0.0, 0.0, 0.0, 0.0, 0.0, 0.0, ...   \n",
       "4255      True  [0.0, 0.0, 0.0, 0.0, 0.0, 0.0, 0.0, 0.0, 0.0, ...   \n",
       "4296      True  [0.0, 0.2, 0.2, 0.2, 0.2, 0.2, 0.2, 0.2, 0.2, ...   \n",
       "4505      True  [0.0, 0.0, 0.0, 0.0, 0.0, 0.0, 0.0, 0.0, 0.0, ...   \n",
       "4507      True  [0.0, 0.0, 0.0, 0.0, 0.25, 0.25, 0.25, 0.25, 0...   \n",
       "4533      True  [0.0, 0.0, 0.0, 0.0, 0.0, 0.0, 0.0, 0.0, 0.0, ...   \n",
       "5217      True  [0.0, 0.0, 0.0, 0.0, 0.0, 0.0, 0.0, 0.0, 0.0, ...   \n",
       "5289      True  [0.0, 0.0, 0.0, 0.0, 0.0, 0.0, 0.0, 0.0, 0.0, ...   \n",
       "6127     False  [0.0, 0.0, 0.0, 0.0, 0.0, 0.0, 0.0, 0.0, 0.0, ...   \n",
       "6348     False  [0.0, 0.3, 0.3, 0.0, 0.0, 0.0, 0.0, 0.0, 0.0, ...   \n",
       "6592      True  [0.0, 0.0, 0.0, 0.25, 0.25, 0.25, 0.25, 0.25, ...   \n",
       "6594      True  [0.0, 0.0, 0.0, 0.0, 0.0, 0.0, 0.0, 0.33333333...   \n",
       "6601      True  [0.25, 0.25, 0.25, 0.0, 0.0, 0.0, 0.0, 0.0, 0....   \n",
       "7149      True  [0.0, 0.0, 0.0, 0.0, 0.0, 0.0, 0.0, 0.0, 0.0, ...   \n",
       "7391      True  [0.0, 0.0, 0.0, 0.0, 0.0, 0.0, 0.0, 0.0, 0.0, ...   \n",
       "7577      True  [0.0, 0.0, 0.0, 0.0, 0.0, 0.0, 0.0, 0.0, 0.0, ...   \n",
       "9196      True  [0.2, 0.2, 0.2, 0.2, 0.2, 0.2, 0.2, 0.0, 0.0, ...   \n",
       "9375      True  [0.0, 0.0, 0.0, 0.0, 0.3333333333333333, 0.333...   \n",
       "\n",
       "      raw_no_error_char                                        labels_char  \\\n",
       "2                 False  [0.0, 0.0, 0.0, 0.0, 0.0, 0.0, 0.0, 0.0, 0.0, ...   \n",
       "5                 False  [0.0, 0.0, 0.0, 0.0, 0.0, 0.0, 0.0, 0.0, 0.0, ...   \n",
       "351               False  [0.0, 0.0, 0.0, 0.0, 0.0, 0.0, 0.0, 0.0, 0.0, ...   \n",
       "575               False  [0.0, 0.0, 0.0, 0.0, 0.0, 0.0, 0.0, 0.0, 0.0, ...   \n",
       "632               False  [0.0, 0.0, 0.0, 0.0, 0.0, 0.0, 0.0, 0.0, 0.0, ...   \n",
       "760               False  [0.0, 0.0, 0.0, 0.0, 0.0, 0.0, 0.0, 0.0, 0.0, ...   \n",
       "828               False  [0.0, 0.0, 0.0, 0.0, 0.0, 0.0, 0.0, 0.0, 0.0, ...   \n",
       "1039              False  [0.0, 0.0, 0.0, 0.0, 0.0, 0.0, 0.0, 0.0, 0.0, ...   \n",
       "1062              False  [0.0, 0.0, 0.0, 0.0, 0.0, 0.0, 0.0, 0.0, 0.0, ...   \n",
       "1177              False  [0.0, 0.0, 0.0, 0.0, 0.0, 0.0, 0.0, 0.0, 0.0, ...   \n",
       "1431              False  [0.0, 0.0, 0.0, 0.0, 0.0, 0.0, 0.0, 0.0, 0.0, ...   \n",
       "1465              False  [0.0, 0.0, 0.0, 0.0, 0.0, 0.0, 0.0, 0.0, 0.0, ...   \n",
       "1670              False  [0.0, 0.0, 0.0, 0.0, 0.0, 0.0, 0.0, 0.0, 0.0, ...   \n",
       "1836              False  [0.0, 0.0, 0.0, 0.0, 0.0, 0.0, 0.0, 0.0, 0.0, ...   \n",
       "2063              False  [0.0, 0.0, 0.0, 0.0, 0.0, 0.0, 0.0, 0.0, 0.0, ...   \n",
       "2249              False  [0.0, 0.0, 0.0, 0.0, 0.0, 0.0, 0.0, 0.0, 0.0, ...   \n",
       "2382              False  [0.0, 0.0, 0.0, 0.0, 0.0, 0.0, 0.0, 0.0, 0.0, ...   \n",
       "2429              False  [0.0, 0.0, 0.0, 0.0, 0.0, 0.0, 0.0, 0.0, 0.0, ...   \n",
       "3032              False  [0.0, 0.0, 0.0, 0.0, 0.0, 0.0, 0.0, 0.0, 0.0, ...   \n",
       "3203              False  [0.0, 0.0, 0.0, 0.0, 0.0, 0.0, 0.0, 0.0, 0.0, ...   \n",
       "3234              False  [0.0, 0.0, 0.0, 0.0, 0.0, 0.0, 0.0, 0.0, 0.0, ...   \n",
       "3272              False  [0.0, 0.0, 0.0, 0.0, 0.0, 0.0, 0.0, 0.0, 0.0, ...   \n",
       "3415              False  [0.0, 0.0, 0.0, 0.0, 0.0, 0.0, 0.0, 0.0, 0.0, ...   \n",
       "3490              False  [0.0, 0.0, 0.0, 0.0, 0.0, 0.0, 0.0, 0.0, 0.0, ...   \n",
       "3518              False  [0.0, 0.0, 0.0, 0.0, 0.0, 0.0, 0.0, 0.0, 0.0, ...   \n",
       "3548              False  [0.0, 0.0, 0.0, 0.0, 0.0, 0.0, 0.0, 0.0, 0.0, ...   \n",
       "3710              False  [0.0, 0.0, 0.0, 0.0, 0.0, 0.0, 0.0, 0.0, 0.0, ...   \n",
       "3724              False  [0.0, 0.0, 0.0, 0.0, 0.0, 0.0, 0.0, 0.0, 0.0, ...   \n",
       "3786              False  [0.0, 0.0, 0.0, 0.0, 0.0, 0.0, 0.0, 0.0, 0.0, ...   \n",
       "3806              False  [0.0, 0.0, 0.0, 0.0, 0.0, 0.0, 0.0, 0.0, 0.0, ...   \n",
       "3957              False  [0.0, 0.0, 0.0, 0.0, 0.0, 0.0, 0.0, 0.0, 0.0, ...   \n",
       "4134              False  [0.0, 0.0, 0.0, 0.0, 0.0, 0.0, 0.0, 0.0, 0.0, ...   \n",
       "4200              False  [0.0, 0.0, 0.0, 0.0, 0.0, 0.0, 0.0, 0.0, 0.0, ...   \n",
       "4220              False  [0.0, 0.0, 0.0, 0.0, 0.0, 0.0, 0.0, 0.0, 0.0, ...   \n",
       "4255              False  [0.0, 0.0, 0.0, 0.0, 0.0, 0.0, 0.0, 0.0, 0.0, ...   \n",
       "4296              False  [0.0, 0.0, 0.0, 0.0, 0.0, 0.0, 0.0, 0.0, 0.0, ...   \n",
       "4505              False  [0.0, 0.0, 0.0, 0.0, 0.0, 0.0, 0.0, 0.0, 0.0, ...   \n",
       "4507              False  [0.0, 0.0, 0.0, 0.0, 0.0, 0.0, 0.0, 0.0, 0.0, ...   \n",
       "4533              False  [0.0, 0.0, 0.0, 0.0, 0.0, 0.0, 0.0, 0.0, 0.0, ...   \n",
       "5217              False  [0.0, 0.0, 0.0, 0.0, 0.0, 0.0, 0.0, 0.0, 0.0, ...   \n",
       "5289              False  [0.0, 0.0, 0.0, 0.0, 0.0, 0.0, 0.0, 0.0, 0.0, ...   \n",
       "6127              False  [0.0, 0.0, 0.0, 0.0, 0.0, 0.0, 0.0, 0.0, 0.0, ...   \n",
       "6348              False  [0.0, 0.0, 0.0, 0.0, 0.0, 0.0, 0.0, 0.0, 0.0, ...   \n",
       "6592              False  [0.0, 0.0, 0.0, 0.0, 0.0, 0.0, 0.0, 0.0, 0.0, ...   \n",
       "6594              False  [0.0, 0.0, 0.0, 0.0, 0.0, 0.0, 0.0, 0.0, 0.0, ...   \n",
       "6601              False  [0.0, 0.0, 0.0, 0.0, 0.0, 0.0, 0.0, 0.0, 0.0, ...   \n",
       "7149              False  [0.0, 0.0, 0.0, 0.0, 0.0, 0.0, 0.0, 0.0, 0.0, ...   \n",
       "7391              False  [0.0, 0.0, 0.0, 0.0, 0.0, 0.0, 0.0, 0.0, 0.0, ...   \n",
       "7577              False  [0.0, 0.0, 0.0, 0.0, 0.0, 0.0, 0.0, 0.0, 0.0, ...   \n",
       "9196              False  [0.0, 0.0, 0.0, 0.0, 0.0, 0.0, 0.0, 0.0, 0.0, ...   \n",
       "9375              False  [0.0, 0.0, 0.0, 0.0, 0.0, 0.0, 0.0, 0.0, 0.0, ...   \n",
       "\n",
       "      no_error_char  \n",
       "2              True  \n",
       "5             False  \n",
       "351           False  \n",
       "575           False  \n",
       "632           False  \n",
       "760           False  \n",
       "828           False  \n",
       "1039          False  \n",
       "1062          False  \n",
       "1177          False  \n",
       "1431           True  \n",
       "1465          False  \n",
       "1670          False  \n",
       "1836          False  \n",
       "2063           True  \n",
       "2249          False  \n",
       "2382          False  \n",
       "2429          False  \n",
       "3032          False  \n",
       "3203          False  \n",
       "3234          False  \n",
       "3272          False  \n",
       "3415          False  \n",
       "3490          False  \n",
       "3518          False  \n",
       "3548          False  \n",
       "3710           True  \n",
       "3724          False  \n",
       "3786           True  \n",
       "3806          False  \n",
       "3957          False  \n",
       "4134          False  \n",
       "4200           True  \n",
       "4220          False  \n",
       "4255          False  \n",
       "4296          False  \n",
       "4505          False  \n",
       "4507          False  \n",
       "4533          False  \n",
       "5217          False  \n",
       "5289          False  \n",
       "6127           True  \n",
       "6348           True  \n",
       "6592          False  \n",
       "6594          False  \n",
       "6601          False  \n",
       "7149          False  \n",
       "7391          False  \n",
       "7577          False  \n",
       "9196          False  \n",
       "9375          False  "
      ]
     },
     "execution_count": 279,
     "metadata": {},
     "output_type": "execute_result"
    }
   ],
   "source": [
    "labels.loc[labels['no_error']!=labels['no_error_char'], :] ## -> drop these rows."
   ]
  },
  {
   "cell_type": "code",
   "execution_count": 280,
   "id": "cbc06752-c6ce-4bb0-9ace-6df9bee54c46",
   "metadata": {},
   "outputs": [
    {
     "name": "stdout",
     "output_type": "stream",
     "text": [
      "# rows before drop no_error mismatch: 9520\n",
      "# rows after drop no_error mismatch: 9469\n"
     ]
    }
   ],
   "source": [
    "## drop rows with no_error mismatch\n",
    "print(f\"# rows before drop no_error mismatch: {len(labels)}\")\n",
    "labels = labels.loc[labels['no_error']==labels['no_error_char'], :].copy()\n",
    "print(f\"# rows after drop no_error mismatch: {len(labels)}\")"
   ]
  },
  {
   "cell_type": "code",
   "execution_count": 281,
   "id": "08ae66dd-1c6f-4b00-8481-0dfdd8e3dbfc",
   "metadata": {},
   "outputs": [],
   "source": [
    "labels.to_json(f\"/home/s3/hyeryung/mucoco/new_module/locate/data/mqm_newstest2020_ende.jsonl\",lines=True,orient=\"records\")"
   ]
  },
  {
   "cell_type": "code",
   "execution_count": 282,
   "id": "88c3aba2-ee2c-42af-bfac-c82aa4dbc4f2",
   "metadata": {},
   "outputs": [],
   "source": [
    "labels_error = labels.loc[labels['no_error']==False,:]"
   ]
  },
  {
   "cell_type": "code",
   "execution_count": 283,
   "id": "c3e15073-ab27-4657-a5dc-1c52bd22c999",
   "metadata": {},
   "outputs": [],
   "source": [
    "labels_error.to_json(f\"/home/s3/hyeryung/mucoco/new_module/locate/data/mqm_newstest2020_ende_with_error.jsonl\",lines=True,orient=\"records\")"
   ]
  },
  {
   "cell_type": "code",
   "execution_count": null,
   "id": "cc3e2620-6023-4a89-a1c5-4b8b25e9b57f",
   "metadata": {},
   "outputs": [],
   "source": []
  },
  {
   "cell_type": "markdown",
   "id": "99208451-e747-49a2-a83b-87fcf3a3a7fc",
   "metadata": {},
   "source": [
    "## ZH-EN"
   ]
  },
  {
   "cell_type": "code",
   "execution_count": 131,
   "id": "19b164b0-97e6-4269-b0a1-b261575d955d",
   "metadata": {},
   "outputs": [],
   "source": [
    "data_path = 'data/MT/wmt-mqm-human-evaluation/newstest2020/zhen/mqm_newstest2020_zhen.tsv'\n",
    "data = pd.read_csv(data_path, sep='\\t', quoting=3)"
   ]
  },
  {
   "cell_type": "code",
   "execution_count": 132,
   "id": "ef01d041-1854-4e01-b341-d522db5c2f51",
   "metadata": {},
   "outputs": [],
   "source": [
    "tokenizer = AutoTokenizer.from_pretrained(\"facebook/xlm-roberta-xl\")"
   ]
  },
  {
   "cell_type": "code",
   "execution_count": 133,
   "id": "8ffc52ac-5050-4ffb-bc2d-cd7d35c1760a",
   "metadata": {},
   "outputs": [
    {
     "data": {
      "text/plain": [
       "2"
      ]
     },
     "execution_count": 133,
     "metadata": {},
     "output_type": "execute_result"
    }
   ],
   "source": [
    "tokenizer.add_tokens([AddedToken(\"<v>\", lstrip=True), AddedToken(\"</v>\", lstrip=True)])"
   ]
  },
  {
   "cell_type": "code",
   "execution_count": 134,
   "id": "d5aaa246-81eb-4058-89c7-bf2b5dd4eceb",
   "metadata": {},
   "outputs": [],
   "source": [
    "data['target_tokens']=data['target'].apply(lambda x: tokenizer.encode(x,add_special_tokens=False))"
   ]
  },
  {
   "cell_type": "code",
   "execution_count": 135,
   "id": "bca49c07-60a1-4234-be3b-cd751cf4d2bf",
   "metadata": {},
   "outputs": [],
   "source": [
    "data['target_clean']=data['target'].str.replace(\"<v>\",\"\").str.replace(\"</v>\",\"\")"
   ]
  },
  {
   "cell_type": "code",
   "execution_count": 136,
   "id": "8b80c18e-ce04-4a22-873d-4c6e1b6b59aa",
   "metadata": {},
   "outputs": [],
   "source": [
    "data['target_clean_tokens']=data['target_clean'].apply(lambda x: tokenizer.encode(x,add_special_tokens=False))"
   ]
  },
  {
   "cell_type": "code",
   "execution_count": 137,
   "id": "c4dfc346-792b-481a-bebd-59127ef5876c",
   "metadata": {},
   "outputs": [
    {
     "name": "stdout",
     "output_type": "stream",
     "text": [
      "250002\n",
      "250003\n"
     ]
    }
   ],
   "source": [
    "start_token_id = tokenizer.vocab['<v>']; print(start_token_id)\n",
    "end_token_id = tokenizer.vocab['</v>']; print(end_token_id)"
   ]
  },
  {
   "cell_type": "code",
   "execution_count": 138,
   "id": "6a245569-6daf-44b0-bd1a-10ea44e585d6",
   "metadata": {},
   "outputs": [],
   "source": [
    "def index_wo_error(x, y):\n",
    "    try:\n",
    "        return x.index(y)\n",
    "    except:\n",
    "        return -1\n",
    "data['label_start']=data['target_tokens'].apply(lambda x: index_wo_error(x, start_token_id))"
   ]
  },
  {
   "cell_type": "code",
   "execution_count": 139,
   "id": "ac528316-7dd3-44aa-9e77-866459e7743b",
   "metadata": {},
   "outputs": [],
   "source": [
    "data['label_end']=data['target_tokens'].apply(lambda x: index_wo_error(x, end_token_id)-1) ## -1 to consider that <v> is added."
   ]
  },
  {
   "cell_type": "code",
   "execution_count": 140,
   "id": "13d89592-386c-49b4-8dbb-f21fcabaa432",
   "metadata": {},
   "outputs": [],
   "source": [
    "def get_span(row):\n",
    "    return row['target_clean_tokens'][row['label_start']:row['label_end']]\n",
    "\n",
    "data['target_span']=data.apply(get_span, axis=1) ## 꽤 잘 찾는다."
   ]
  },
  {
   "cell_type": "code",
   "execution_count": 145,
   "id": "6434292c-623b-49c2-bb71-88d48991467e",
   "metadata": {},
   "outputs": [
    {
     "name": "stdout",
     "output_type": "stream",
     "text": [
      "71674: [8622, 509, 10, 117, 16498, 18770, 53, 49488, 250002, 6, 4, 54433, 450, 250003, 70, 29041, 1902, 35839, 136, 80756, 1257, 5] => found span: [4, 54433, 450, 70]\n",
      "71675: [8622, 509, 10, 117, 16498, 18770, 53, 49488, 4, 54433, 450, 250002, 70, 250003, 29041, 1902, 35839, 136, 80756, 1257, 5] => found span: [70]\n",
      "71676: [250002, 8622, 509, 250003, 10, 117, 16498, 18770, 53, 49488, 4, 54433, 450, 70, 29041, 1902, 35839, 136, 80756, 1257, 5] => found span: [8622, 509]\n",
      "71677: [8622, 509, 10, 117, 16498, 18770, 53, 250002, 49488, 250003, 6, 4, 54433, 450, 70, 29041, 1902, 35839, 136, 80756, 1257, 5] => found span: [49488]\n"
     ]
    }
   ],
   "source": [
    "## erroneous case -> solution: only use rows whose no_error status based on character and token level labels.\n",
    "for i, row in data.loc[(data['system']=='WeChat_AI.1525') & (data['doc_id']==7) & (data['seg_id']==1189),:].iterrows():\n",
    "    if row['severity']=='no-error':\n",
    "        continue\n",
    "    # if i > 100:\n",
    "        # break\n",
    "    print(f\"{i}: {row['target_tokens']} => found span: {row['target_span']}\")"
   ]
  },
  {
   "cell_type": "code",
   "execution_count": 132,
   "id": "20c20720-71b6-484a-a07f-2c915c0e8197",
   "metadata": {},
   "outputs": [],
   "source": [
    "def get_label(row):\n",
    "    return [1 if row['label_start'] <= i < row['label_end'] else 0 for i in range(len(row['target_clean_tokens']))]\n",
    "\n",
    "data['labels']= data.apply(get_label, axis=1)"
   ]
  },
  {
   "cell_type": "code",
   "execution_count": null,
   "id": "e14b0b43-dfaa-41c1-8fc7-d1d520a319af",
   "metadata": {
    "scrolled": true
   },
   "outputs": [],
   "source": [
    "# for i, row in data.iterrows():\n",
    "#     if row['severity']=='no-error':\n",
    "#         continue\n",
    "#     if i > 100:\n",
    "#         break\n",
    "#     print(f\"{i}: {row['target_tokens']} => label: {row['labels']} => applying label: {torch.masked_select(torch.Tensor(row['target_clean_tokens']), torch.Tensor(row['labels']).bool())}\")"
   ]
  },
  {
   "cell_type": "code",
   "execution_count": 133,
   "id": "8e5c846a-1496-4c48-b00d-caf782aa3980",
   "metadata": {},
   "outputs": [],
   "source": [
    "data['labels']=data['labels'].apply(np.array)"
   ]
  },
  {
   "cell_type": "code",
   "execution_count": 156,
   "id": "c4e1b7c3-82ad-4fde-b64c-5293d4c0e718",
   "metadata": {},
   "outputs": [],
   "source": [
    "labels = data.groupby(['system', 'doc_id','seg_id','source','target_clean'])['labels'].agg(lambda x: np.mean(x,axis=0)).reset_index()"
   ]
  },
  {
   "cell_type": "code",
   "execution_count": 157,
   "id": "29722f40-7450-4d9d-9885-21874ecf7f5e",
   "metadata": {},
   "outputs": [],
   "source": [
    "labels['no_error']=labels['labels'].apply(lambda x: True if np.sum(x) == 0 else False)"
   ]
  },
  {
   "cell_type": "code",
   "execution_count": 158,
   "id": "19ce092e-bca0-435a-9274-31aedce3e0e7",
   "metadata": {},
   "outputs": [],
   "source": [
    "num_labelers = data.groupby(['system', 'doc_id','seg_id','source','target_clean'])['labels'].size().reset_index().rename(columns={'labels':'num_annotations'})"
   ]
  },
  {
   "cell_type": "code",
   "execution_count": 159,
   "id": "2eeb07e3-a051-4717-8bb2-2b25e341b7b9",
   "metadata": {},
   "outputs": [],
   "source": [
    "labels = pd.merge(labels, num_labelers,how='left')"
   ]
  },
  {
   "cell_type": "code",
   "execution_count": 160,
   "id": "be8cb1b9-990c-432c-bd09-58d4c6d26f22",
   "metadata": {},
   "outputs": [
    {
     "name": "stdout",
     "output_type": "stream",
     "text": [
      "# rows before drop dup: 33198\n",
      "# rows after drop dup: 12334\n"
     ]
    }
   ],
   "source": [
    "## drop rows with duplicate labels\n",
    "print(f\"# rows before drop dup: {len(labels)}\")\n",
    "labels = labels.drop_duplicates(subset=['system', 'doc_id','seg_id'],keep=False)\n",
    "print(f\"# rows after drop dup: {len(labels)}\")"
   ]
  },
  {
   "cell_type": "code",
   "execution_count": 161,
   "id": "c1428f81-d1d2-4bcd-9d44-a297c0e215c0",
   "metadata": {},
   "outputs": [
    {
     "name": "stdout",
     "output_type": "stream",
     "text": [
      "# rows before drop no error: 12334\n",
      "# rows after drop no error: 10710\n"
     ]
    }
   ],
   "source": [
    "## drop rows with no error\n",
    "print(f\"# rows before drop no error: {len(labels)}\")\n",
    "labels = labels.loc[labels['no_error']==False].copy()\n",
    "print(f\"# rows after drop no error: {len(labels)}\")"
   ]
  },
  {
   "cell_type": "code",
   "execution_count": 162,
   "id": "1eb9c173-0607-4ea2-b0b8-5d00b7bff3cb",
   "metadata": {},
   "outputs": [],
   "source": [
    "labels=labels.rename(columns={'labels':'raw_labels'})"
   ]
  },
  {
   "cell_type": "code",
   "execution_count": 163,
   "id": "bcb462f2-5f93-48f6-8814-693d8630258a",
   "metadata": {},
   "outputs": [],
   "source": [
    "labels=labels.rename(columns={'no_error':'raw_no_error'})"
   ]
  },
  {
   "cell_type": "code",
   "execution_count": 164,
   "id": "9246129e-48fb-4b41-8e6c-73436e2477f5",
   "metadata": {},
   "outputs": [],
   "source": [
    "labels['labels']=labels['raw_labels'].apply(lambda x: np.select(condlist=[x>=0.5, x<0.5], choicelist=[1, 0], \n",
    "    default=np.nan))"
   ]
  },
  {
   "cell_type": "code",
   "execution_count": 165,
   "id": "e837add1-6990-4121-81e7-c442fe751428",
   "metadata": {
    "scrolled": true
   },
   "outputs": [],
   "source": [
    "# for i, row in labels.iterrows():\n",
    "#     if i > 100:\n",
    "#         break\n",
    "#     print(f\"{i}: {row['raw_labels']} => label: {row['labels']}\")"
   ]
  },
  {
   "cell_type": "code",
   "execution_count": 166,
   "id": "34833bbd-6c9a-4ee3-aded-e05be0caa48a",
   "metadata": {},
   "outputs": [],
   "source": [
    "labels['no_error']=labels['labels'].apply(lambda x: True if np.sum(x) == 0 else False)"
   ]
  },
  {
   "cell_type": "code",
   "execution_count": 167,
   "id": "e29666fc-a13e-40ce-8b61-0978305caa84",
   "metadata": {},
   "outputs": [
    {
     "data": {
      "text/plain": [
       "no_error\n",
       "True     7244\n",
       "False    3466\n",
       "Name: count, dtype: int64"
      ]
     },
     "execution_count": 167,
     "metadata": {},
     "output_type": "execute_result"
    }
   ],
   "source": [
    "labels['no_error'].value_counts()"
   ]
  },
  {
   "cell_type": "code",
   "execution_count": 168,
   "id": "cb4a9955-e1b5-4724-a2de-afbb0245aafc",
   "metadata": {},
   "outputs": [],
   "source": [
    "labels.to_json(f\"/home/s3/hyeryung/mucoco/new_module/locate/data/mqm_newstest2020_zhen.jsonl\",lines=True,orient=\"records\")"
   ]
  },
  {
   "cell_type": "code",
   "execution_count": 169,
   "id": "a117e3e1-50cd-4c29-bb21-7dd2b9cc5ef9",
   "metadata": {},
   "outputs": [],
   "source": [
    "labels_error = labels.loc[labels['no_error']==False,:]"
   ]
  },
  {
   "cell_type": "code",
   "execution_count": 170,
   "id": "1f191540-499a-419f-8520-49b92893ca42",
   "metadata": {},
   "outputs": [],
   "source": [
    "labels_error.to_json(f\"/home/s3/hyeryung/mucoco/new_module/locate/data/mqm_newstest2020_zhen_with_error.jsonl\",lines=True,orient=\"records\")"
   ]
  },
  {
   "cell_type": "markdown",
   "id": "b3066792-ffa1-4aea-baee-e2de3d0c7828",
   "metadata": {},
   "source": [
    "### Add labels at character level"
   ]
  },
  {
   "cell_type": "code",
   "execution_count": 183,
   "id": "07cfa8fb-13ee-4080-89d7-9d720f7eecbb",
   "metadata": {},
   "outputs": [],
   "source": [
    "data_path = 'data/MT/wmt-mqm-human-evaluation/newstest2020/zhen/mqm_newstest2020_zhen.tsv'\n",
    "data = pd.read_csv(data_path, sep='\\t', quoting=3)"
   ]
  },
  {
   "cell_type": "code",
   "execution_count": 184,
   "id": "390a0204-261e-46d3-9588-c226e5f27b8f",
   "metadata": {},
   "outputs": [],
   "source": [
    "data['target_clean']=data['target'].str.replace(\"<v>\",\"\").str.replace(\"</v>\",\"\")"
   ]
  },
  {
   "cell_type": "code",
   "execution_count": 185,
   "id": "8b500455-c5f4-4c7c-826e-4d23881a2ce8",
   "metadata": {},
   "outputs": [],
   "source": [
    "def index_wo_error(x, y):\n",
    "    try:\n",
    "        return x.index(y)\n",
    "    except:\n",
    "        return -1"
   ]
  },
  {
   "cell_type": "code",
   "execution_count": 186,
   "id": "0e931f6d-f39f-424d-9007-18ae928327c7",
   "metadata": {},
   "outputs": [],
   "source": [
    "# def get_span_char(row):\n",
    "\n",
    "#     start_index = index_wo_error(row['target'], '<v>')\n",
    "#     end_index = index_wo_error(row['target'], '</v>')-3\n",
    "#     return row['target_clean'][start_index:end_index]\n",
    "    \n",
    "# data['target_clean']=data['target'].str.replace(\"<v>\",\"\").str.replace(\"</v>\",\"\")\n",
    "# span_char = data.apply(get_span_char,axis=1)"
   ]
  },
  {
   "cell_type": "code",
   "execution_count": 187,
   "id": "dd9bb50e-eceb-45ad-a903-ae8b36d43abf",
   "metadata": {},
   "outputs": [],
   "source": [
    "# for i, row in data.iterrows():\n",
    "#     if row['severity']=='no-error':\n",
    "#         continue\n",
    "#     if i > 100:\n",
    "#         break\n",
    "#     print(f\"{i}: {row['target']} => found span: {span_char[i]}\")"
   ]
  },
  {
   "cell_type": "code",
   "execution_count": 188,
   "id": "baed7036-5d33-47d4-83d4-631133b3b242",
   "metadata": {},
   "outputs": [],
   "source": [
    "def get_labels_char(row):\n",
    "\n",
    "    start_index = index_wo_error(row['target'], '<v>')\n",
    "    end_index = index_wo_error(row['target'], '</v>')-3\n",
    "    return [1 if start_index <= i < end_index else 0 for i in range(len(row['target_clean']))]"
   ]
  },
  {
   "cell_type": "code",
   "execution_count": 189,
   "id": "8201c9bb-5e1e-4d40-80ac-8aae5a722a96",
   "metadata": {},
   "outputs": [],
   "source": [
    "data['labels_char']=data.apply(get_labels_char,axis=1)"
   ]
  },
  {
   "cell_type": "code",
   "execution_count": 190,
   "id": "b53bd23e-05e5-4455-a0cf-44b39d099ddd",
   "metadata": {},
   "outputs": [],
   "source": [
    "data['labels_char']=data['labels_char'].apply(np.array)"
   ]
  },
  {
   "cell_type": "code",
   "execution_count": 191,
   "id": "e5d30511-971d-4cdb-9215-9eefaa540505",
   "metadata": {},
   "outputs": [],
   "source": [
    "labels_char = data.groupby(['system', 'doc_id','seg_id','source','target_clean'])['labels_char'].agg(lambda x: np.mean(x,axis=0)).reset_index()"
   ]
  },
  {
   "cell_type": "code",
   "execution_count": 192,
   "id": "2bd80718-3f62-4f6a-b32d-8e0d32258c57",
   "metadata": {},
   "outputs": [],
   "source": [
    "labels_char['no_error']=labels_char['labels_char'].apply(lambda x: True if np.sum(x) == 0 else False)"
   ]
  },
  {
   "cell_type": "code",
   "execution_count": 193,
   "id": "df67965f-742a-4801-8e9a-3a92470356f7",
   "metadata": {},
   "outputs": [
    {
     "name": "stdout",
     "output_type": "stream",
     "text": [
      "# rows before drop dup: 33198\n",
      "# rows after drop dup: 12334\n"
     ]
    }
   ],
   "source": [
    "## drop rows with duplicate labels\n",
    "print(f\"# rows before drop dup: {len(labels_char)}\")\n",
    "labels_char = labels_char.drop_duplicates(subset=['system', 'doc_id','seg_id'],keep=False)\n",
    "print(f\"# rows after drop dup: {len(labels_char)}\")"
   ]
  },
  {
   "cell_type": "code",
   "execution_count": 194,
   "id": "30df30fb-4dae-47bc-95dc-375307c4f292",
   "metadata": {},
   "outputs": [
    {
     "name": "stdout",
     "output_type": "stream",
     "text": [
      "# rows before drop no error: 12334\n",
      "# rows after drop no error: 10712\n"
     ]
    }
   ],
   "source": [
    "## drop rows with no error\n",
    "print(f\"# rows before drop no error: {len(labels_char)}\")\n",
    "labels_char = labels_char.loc[labels_char['no_error']==False].copy()\n",
    "print(f\"# rows after drop no error: {len(labels_char)}\")"
   ]
  },
  {
   "cell_type": "code",
   "execution_count": 195,
   "id": "bf53cc21-15fd-4909-a959-be23ef5606b9",
   "metadata": {},
   "outputs": [],
   "source": [
    "labels_char=labels_char.rename(columns={'labels_char':'raw_labels_char'})"
   ]
  },
  {
   "cell_type": "code",
   "execution_count": 196,
   "id": "53b6a1cb-fe81-4ea3-afe2-c582fd08fd44",
   "metadata": {},
   "outputs": [],
   "source": [
    "labels_char=labels_char.rename(columns={'no_error':'raw_no_error'})"
   ]
  },
  {
   "cell_type": "code",
   "execution_count": 197,
   "id": "2bfb8572-fbfc-43e6-8e5e-8574a7d1e6e2",
   "metadata": {},
   "outputs": [],
   "source": [
    "labels_char['labels_char']=labels_char['raw_labels_char'].apply(lambda x: np.select(condlist=[x>=0.5, x<0.5], choicelist=[1, 0], \n",
    "    default=np.nan))"
   ]
  },
  {
   "cell_type": "code",
   "execution_count": 198,
   "id": "76806d01-a903-42e6-a59a-526b0699e117",
   "metadata": {},
   "outputs": [],
   "source": [
    "labels_char['no_error']=labels_char['labels_char'].apply(lambda x: True if np.sum(x) == 0 else False)"
   ]
  },
  {
   "cell_type": "code",
   "execution_count": 199,
   "id": "fea058a2-3889-4c46-9a89-f0e42661ccc2",
   "metadata": {},
   "outputs": [
    {
     "data": {
      "text/plain": [
       "no_error\n",
       "True     7242\n",
       "False    3470\n",
       "Name: count, dtype: int64"
      ]
     },
     "execution_count": 199,
     "metadata": {},
     "output_type": "execute_result"
    }
   ],
   "source": [
    "labels_char['no_error'].value_counts()"
   ]
  },
  {
   "cell_type": "code",
   "execution_count": 200,
   "id": "701bd449-bcd4-4763-ba5a-032242c59b50",
   "metadata": {},
   "outputs": [],
   "source": [
    "## checked why no error stats based on labels_char and labels were different. -> usually related to cases where a space is labeled.\n",
    "## 결론: 우리 방식은 어짜피 punctuation은 라벨링을 못하기 때문에, 토큰 기준으로 에러가 있는 것만 가지고 평가하는 것이 맞겠다.\n",
    "## 결론2: 그런데, tokenize할 떄 arbitrarily meta character가 더해지는 문제가 있어서, token 기준 라벨에 에러가 섞인 경우도 있다.\n",
    "##      따라서, token기준과 label 기준의 no_error가 일치하는 건만 사용하겠다.\n",
    "\n",
    "## labels = pd.read_json(\"/home/s3/hyeryung/mucoco/new_module/locate/data/mqm_newstest2020_zhen.jsonl\",lines=True)\n",
    "## debug_df = pd.merge(labels, labels_char, on=['system', 'doc_id','seg_id','source','target_clean'], how='left')\n",
    "## debug_df = debug_df.loc[debug_df['no_error_x']!=debug_df['no_error_y'],:].copy()\n",
    "## debug_df_raw = pd.merge(data, debug_df, on=['system', 'doc_id','seg_id','source','target_clean'],how='inner')\n",
    "## debug_df_raw['severity'].value_counts()\n",
    "# severity\n",
    "# Minor       125\n",
    "# Major        35\n",
    "# no-error     18\n",
    "# Neutral       2\n",
    "# Name: count, dtype: int64\n",
    "\n",
    "## if a major error is involved, sometimes it is due to tokenizer malfunctions (arbitrarily adding meta character after <v> or </v> and not adding it if <v> or </v> is not present.\n",
    "## debug_df_raw.loc[debug_df_raw['severity']=='Major']\n",
    "## for i, row in debug_df_raw.loc[(debug_df_raw['system']=='WeChat_AI.1525') & (debug_df_raw['doc_id']==7) & (debug_df_raw['seg_id']==1189),:].iterrows():\n",
    "##    print(row['target'], '->', row['severity'], row['no_error_x'], row['no_error_y'], row['labels'], torch.masked_select(torch.Tensor(row['target_clean_tokens']), torch.Tensor(row['labels']).bool()))\n",
    "# There was a perfunctory smile<v>, saying that</v> the child had called and hung up. -> Major False True [0.0, 0.0, 0.0, 0.0, 0.0, 0.0, 0.0, 0.0, 0.0, 0.0, 0.0, 1.0, 0.0, 0.0, 0.0, 0.0, 0.0, 0.0, 0.0] [0. 0. 0. 0. 0. 0. 0. 0. 0. 0. 0. 0. 0. 0. 0. 0. 0. 0. 0. 0. 0. 0. 0. 0.\n",
    "#  0. 0. 0. 0. 0. 0. 0. 0. 0. 0. 0. 0. 0. 0. 0. 0. 0. 0. 0. 0. 0. 0. 0. 0.\n",
    "#  0. 0. 0. 0. 0. 0. 0. 0. 0. 0. 0. 0. 0. 0. 0. 0. 0. 0. 0. 0. 0. 0. 0. 0.\n",
    "#  0. 0. 0. 0.] tensor([70.])\n",
    "# There was a perfunctory smile, saying that <v>the</v> child had called and hung up. -> Minor False True [0.0, 0.0, 0.0, 0.0, 0.0, 0.0, 0.0, 0.0, 0.0, 0.0, 0.0, 1.0, 0.0, 0.0, 0.0, 0.0, 0.0, 0.0, 0.0] [0. 0. 0. 0. 0. 0. 0. 0. 0. 0. 0. 0. 0. 0. 0. 0. 0. 0. 0. 0. 0. 0. 0. 0.\n",
    "#  0. 0. 0. 0. 0. 0. 0. 0. 0. 0. 0. 0. 0. 0. 0. 0. 0. 0. 0. 0. 0. 0. 0. 0.\n",
    "#  0. 0. 0. 0. 0. 0. 0. 0. 0. 0. 0. 0. 0. 0. 0. 0. 0. 0. 0. 0. 0. 0. 0. 0.\n",
    "#  0. 0. 0. 0.] tensor([70.])\n",
    "# <v>There was</v> a perfunctory smile, saying that the child had called and hung up. -> Minor False True [0.0, 0.0, 0.0, 0.0, 0.0, 0.0, 0.0, 0.0, 0.0, 0.0, 0.0, 1.0, 0.0, 0.0, 0.0, 0.0, 0.0, 0.0, 0.0] [0. 0. 0. 0. 0. 0. 0. 0. 0. 0. 0. 0. 0. 0. 0. 0. 0. 0. 0. 0. 0. 0. 0. 0.\n",
    "#  0. 0. 0. 0. 0. 0. 0. 0. 0. 0. 0. 0. 0. 0. 0. 0. 0. 0. 0. 0. 0. 0. 0. 0.\n",
    "#  0. 0. 0. 0. 0. 0. 0. 0. 0. 0. 0. 0. 0. 0. 0. 0. 0. 0. 0. 0. 0. 0. 0. 0.\n",
    "#  0. 0. 0. 0.] tensor([70.])\n",
    "# There was a perfunctory <v>smile</v>, saying that the child had called and hung up. -> Minor False True [0.0, 0.0, 0.0, 0.0, 0.0, 0.0, 0.0, 0.0, 0.0, 0.0, 0.0, 1.0, 0.0, 0.0, 0.0, 0.0, 0.0, 0.0, 0.0] [0. 0. 0. 0. 0. 0. 0. 0. 0. 0. 0. 0. 0. 0. 0. 0. 0. 0. 0. 0. 0. 0. 0. 0.\n",
    "#  0. 0. 0. 0. 0. 0. 0. 0. 0. 0. 0. 0. 0. 0. 0. 0. 0. 0. 0. 0. 0. 0. 0. 0.\n",
    "#  0. 0. 0. 0. 0. 0. 0. 0. 0. 0. 0. 0. 0. 0. 0. 0. 0. 0. 0. 0. 0. 0. 0. 0.\n",
    "#  0. 0. 0. 0.] tensor([70.])\n",
    "\n",
    "## erroneous case -> solution: only use rows whose no_error status based on character and token level labels.\n",
    "## for i, row in data.loc[(data['system']=='WeChat_AI.1525') & (data['doc_id']==7) & (data['seg_id']==1189),:].iterrows():\n",
    "##     if row['severity']=='no-error':\n",
    "##         continue\n",
    "##     # if i > 100:\n",
    "##         # break\n",
    "##     print(f\"{i}: {row['target_tokens']} => found span: {row['target_span']}\")\n",
    "\n",
    "# 71674: [8622, 509, 10, 117, 16498, 18770, 53, 49488, 250002, 6, 4, 54433, 450, 250003, 70, 29041, 1902, 35839, 136, 80756, 1257, 5] => found span: [4, 54433, 450, 70]\n",
    "# 71675: [8622, 509, 10, 117, 16498, 18770, 53, 49488, 4, 54433, 450, 250002, 70, 250003, 29041, 1902, 35839, 136, 80756, 1257, 5] => found span: [70]\n",
    "# 71676: [250002, 8622, 509, 250003, 10, 117, 16498, 18770, 53, 49488, 4, 54433, 450, 70, 29041, 1902, 35839, 136, 80756, 1257, 5] => found span: [8622, 509]\n",
    "# 71677: [8622, 509, 10, 117, 16498, 18770, 53, 250002, 49488, 250003, 6, 4, 54433, 450, 70, 29041, 1902, 35839, 136, 80756, 1257, 5] => found span: [49488]"
   ]
  },
  {
   "cell_type": "code",
   "execution_count": 206,
   "id": "194631ad-54a4-4449-8705-d994aff9d415",
   "metadata": {},
   "outputs": [],
   "source": [
    "labels = pd.read_json(\"/home/s3/hyeryung/mucoco/new_module/locate/data/mqm_newstest2020_zhen.jsonl\",lines=True)"
   ]
  },
  {
   "cell_type": "code",
   "execution_count": 202,
   "id": "1c9154f8-5baf-4d19-804f-c26c8f4dde98",
   "metadata": {},
   "outputs": [],
   "source": [
    "labels = pd.merge(labels, labels_char, on=['system', 'doc_id', 'seg_id', 'source', 'target_clean'], how='left', suffixes=['', '_char'])"
   ]
  },
  {
   "cell_type": "code",
   "execution_count": 212,
   "id": "3d0139d6-29d9-4a48-837b-991af78b6b92",
   "metadata": {},
   "outputs": [
    {
     "data": {
      "text/html": [
       "<div>\n",
       "<style scoped>\n",
       "    .dataframe tbody tr th:only-of-type {\n",
       "        vertical-align: middle;\n",
       "    }\n",
       "\n",
       "    .dataframe tbody tr th {\n",
       "        vertical-align: top;\n",
       "    }\n",
       "\n",
       "    .dataframe thead th {\n",
       "        text-align: right;\n",
       "    }\n",
       "</style>\n",
       "<table border=\"1\" class=\"dataframe\">\n",
       "  <thead>\n",
       "    <tr style=\"text-align: right;\">\n",
       "      <th></th>\n",
       "      <th>system</th>\n",
       "      <th>doc_id</th>\n",
       "      <th>seg_id</th>\n",
       "      <th>source</th>\n",
       "      <th>target_clean</th>\n",
       "      <th>raw_labels</th>\n",
       "      <th>raw_no_error</th>\n",
       "      <th>num_annotations</th>\n",
       "      <th>labels</th>\n",
       "      <th>no_error</th>\n",
       "      <th>raw_labels_char</th>\n",
       "      <th>raw_no_error_char</th>\n",
       "      <th>labels_char</th>\n",
       "      <th>no_error_char</th>\n",
       "    </tr>\n",
       "  </thead>\n",
       "  <tbody>\n",
       "  </tbody>\n",
       "</table>\n",
       "</div>"
      ],
      "text/plain": [
       "Empty DataFrame\n",
       "Columns: [system, doc_id, seg_id, source, target_clean, raw_labels, raw_no_error, num_annotations, labels, no_error, raw_labels_char, raw_no_error_char, labels_char, no_error_char]\n",
       "Index: []"
      ]
     },
     "execution_count": 212,
     "metadata": {},
     "output_type": "execute_result"
    }
   ],
   "source": [
    "labels.loc[labels['raw_no_error']!=labels['raw_no_error_char'], :] ## good!"
   ]
  },
  {
   "cell_type": "code",
   "execution_count": null,
   "id": "b0a8e5c5-1279-426e-9574-07204be09058",
   "metadata": {},
   "outputs": [],
   "source": [
    "labels.loc[labels['no_error']!=labels['no_error_char'], :] ## -> drop these rows."
   ]
  },
  {
   "cell_type": "code",
   "execution_count": 208,
   "id": "7b5530dd-de2a-4207-832b-fc796eb5897a",
   "metadata": {},
   "outputs": [
    {
     "name": "stdout",
     "output_type": "stream",
     "text": [
      "# rows before drop no_error mismatch: 10710\n",
      "# rows after drop no_error mismatch: 10675\n"
     ]
    }
   ],
   "source": [
    "## drop rows with no_error mismatch\n",
    "print(f\"# rows before drop no_error mismatch: {len(labels)}\")\n",
    "labels = labels.loc[labels['no_error']==labels['no_error_char'], :].copy()\n",
    "print(f\"# rows after drop no_error mismatch: {len(labels)}\")"
   ]
  },
  {
   "cell_type": "code",
   "execution_count": 209,
   "id": "fbaea1f0-d2e6-42b7-a89c-5d433deb2fac",
   "metadata": {},
   "outputs": [],
   "source": [
    "labels.to_json(f\"/home/s3/hyeryung/mucoco/new_module/locate/data/mqm_newstest2020_zhen.jsonl\",lines=True,orient=\"records\")"
   ]
  },
  {
   "cell_type": "code",
   "execution_count": 210,
   "id": "bb29cee0-3dd5-42f2-9789-d2b82db602d6",
   "metadata": {},
   "outputs": [],
   "source": [
    "labels_error = labels.loc[labels['no_error']==False,:]"
   ]
  },
  {
   "cell_type": "code",
   "execution_count": 211,
   "id": "415c8905-0c67-4d56-8eea-f3c0d08af961",
   "metadata": {},
   "outputs": [],
   "source": [
    "labels_error.to_json(f\"/home/s3/hyeryung/mucoco/new_module/locate/data/mqm_newstest2020_zhen_with_error.jsonl\",lines=True,orient=\"records\")"
   ]
  }
 ],
 "metadata": {
  "kernelspec": {
   "display_name": "Python 3 (ipykernel)",
   "language": "python",
   "name": "python3"
  },
  "language_info": {
   "codemirror_mode": {
    "name": "ipython",
    "version": 3
   },
   "file_extension": ".py",
   "mimetype": "text/x-python",
   "name": "python",
   "nbconvert_exporter": "python",
   "pygments_lexer": "ipython3",
   "version": "3.11.7"
  }
 },
 "nbformat": 4,
 "nbformat_minor": 5
}
