{
 "cells": [
  {
   "cell_type": "code",
   "execution_count": 25,
   "id": "e4ffb207-be82-44ac-8127-203c97489322",
   "metadata": {},
   "outputs": [],
   "source": [
    "import torch\n",
    "from transformers import AutoModelForSequenceClassification, AutoTokenizer"
   ]
  },
  {
   "cell_type": "code",
   "execution_count": 2,
   "id": "71d4da27-4220-449f-aa5a-bd74d7a3f96e",
   "metadata": {},
   "outputs": [
    {
     "name": "stderr",
     "output_type": "stream",
     "text": [
      "Some weights of the model checkpoint at /shared/s3/lab07/hyeryung/loc_edit/roberta-base-jigsaw-toxicity-classifier-with-gpt2-large-embeds-2/step_2600_best_checkpoint/ were not used when initializing RobertaForSequenceClassification: ['roberta.embeddings.word_embeddings.0.weight', 'roberta.embeddings.word_embeddings.1.weight']\n",
      "- This IS expected if you are initializing RobertaForSequenceClassification from the checkpoint of a model trained on another task or with another architecture (e.g. initializing a BertForSequenceClassification model from a BertForPreTraining model).\n",
      "- This IS NOT expected if you are initializing RobertaForSequenceClassification from the checkpoint of a model that you expect to be exactly identical (initializing a BertForSequenceClassification model from a BertForSequenceClassification model).\n",
      "Some weights of RobertaForSequenceClassification were not initialized from the model checkpoint at /shared/s3/lab07/hyeryung/loc_edit/roberta-base-jigsaw-toxicity-classifier-with-gpt2-large-embeds-2/step_2600_best_checkpoint/ and are newly initialized: ['roberta.embeddings.word_embeddings.weight']\n",
      "You should probably TRAIN this model on a down-stream task to be able to use it for predictions and inference.\n"
     ]
    }
   ],
   "source": [
    "model = AutoModelForSequenceClassification.from_pretrained('/shared/s3/lab07/hyeryung/loc_edit/roberta-base-jigsaw-toxicity-classifier-with-gpt2-large-embeds-2/step_2600_best_checkpoint/')"
   ]
  },
  {
   "cell_type": "code",
   "execution_count": 5,
   "id": "d374a813-3ce2-4466-a781-3c90fdf883b6",
   "metadata": {},
   "outputs": [],
   "source": [
    "tokenizer = AutoTokenizer.from_pretrained('/shared/s3/lab07/hyeryung/loc_edit/roberta-base-jigsaw-toxicity-classifier-with-gpt2-large-embeds-2/step_2600_best_checkpoint/')"
   ]
  },
  {
   "cell_type": "code",
   "execution_count": 6,
   "id": "17cc5209-c393-43b6-93d6-0a180f6d4e1f",
   "metadata": {},
   "outputs": [],
   "source": [
    "text = \"Hell, let's print our own damn money! How expensive can a good printing press be?\""
   ]
  },
  {
   "cell_type": "code",
   "execution_count": 8,
   "id": "7dec3c5a-0f83-4d4e-b20f-c5fedc485806",
   "metadata": {},
   "outputs": [],
   "source": [
    "batch = tokenizer(text,return_tensors=\"pt\",padding=True,truncation=True)"
   ]
  },
  {
   "cell_type": "code",
   "execution_count": 43,
   "id": "acf6f79f-f24c-4a70-910d-f5b55d44cfa2",
   "metadata": {},
   "outputs": [],
   "source": [
    "output = model(**batch, output_attentions=True, output_hidden_states=True)"
   ]
  },
  {
   "cell_type": "code",
   "execution_count": 152,
   "id": "f89b6562-e163-4516-8735-91d455c01377",
   "metadata": {},
   "outputs": [
    {
     "data": {
      "text/plain": [
       "Linear(in_features=768, out_features=768, bias=True)"
      ]
     },
     "execution_count": 152,
     "metadata": {},
     "output_type": "execute_result"
    }
   ],
   "source": [
    "model.roberta.encoder.layer[0].attention.self.value"
   ]
  },
  {
   "cell_type": "code",
   "execution_count": 123,
   "id": "215f9700-f8bb-4bba-acd8-7811700a9069",
   "metadata": {},
   "outputs": [
    {
     "data": {
      "text/plain": [
       "tensor([[28254,    11,  1309,   338,  3601,   674,   898, 12270,  1637,     0,\n",
       "          1374,  5789,   460,   257,   922, 13570,  1803,   307,    30]])"
      ]
     },
     "execution_count": 123,
     "metadata": {},
     "output_type": "execute_result"
    }
   ],
   "source": [
    "batch.input_ids"
   ]
  },
  {
   "cell_type": "code",
   "execution_count": 124,
   "id": "a9438b57-d13c-4d79-ae91-161eae96d030",
   "metadata": {},
   "outputs": [
    {
     "data": {
      "text/plain": [
       "' damn'"
      ]
     },
     "execution_count": 124,
     "metadata": {},
     "output_type": "execute_result"
    }
   ],
   "source": [
    "tokenizer.decode(12270)"
   ]
  },
  {
   "cell_type": "code",
   "execution_count": null,
   "id": "50d5114e-d801-4a24-a545-220b81edfd62",
   "metadata": {},
   "outputs": [],
   "source": []
  },
  {
   "cell_type": "code",
   "execution_count": 125,
   "id": "cf24b330-02f8-4196-b1ec-6e77b82f7aec",
   "metadata": {},
   "outputs": [],
   "source": [
    "label_id=1\n",
    "# to retain gradients\n",
    "attention_weights = output['attentions']\n",
    "weights_or = attention_weights[-2]\n",
    "weights_or.retain_grad()\n",
    "\n",
    "## output['logits'] : (batch_size, num_labels)\n",
    "softmax=torch.nn.Softmax(dim=-1)\n",
    "probs = softmax(output['logits'])[:, label_id]\n",
    "# print(f\"probs.shape:{probs.shape}\")\n",
    "\n",
    "probs.sum().backward(retain_graph=True)"
   ]
  },
  {
   "cell_type": "code",
   "execution_count": 126,
   "id": "da9bd06c-026b-45e4-a5e8-6b067c23c800",
   "metadata": {},
   "outputs": [],
   "source": [
    "# https://github.com/GChrysostomou/ood_faith/blob/145469f46670d7d24f79a9b2277e6c04914e00ba/src/models/deterministic/bert.py#L18\n",
    "weights = weights_or[:, :, 0, :].mean(1)\t"
   ]
  },
  {
   "cell_type": "code",
   "execution_count": 127,
   "id": "86f97477-e0c7-4c33-808e-47037bbcd182",
   "metadata": {},
   "outputs": [],
   "source": [
    "attentions = weights"
   ]
  },
  {
   "cell_type": "code",
   "execution_count": 128,
   "id": "9bc65745-93c6-4251-b8e6-e431bfa3cc25",
   "metadata": {},
   "outputs": [
    {
     "data": {
      "text/plain": [
       "torch.Size([1, 12, 19, 19])"
      ]
     },
     "execution_count": 128,
     "metadata": {},
     "output_type": "execute_result"
    }
   ],
   "source": [
    "weights_or.grad.shape"
   ]
  },
  {
   "cell_type": "code",
   "execution_count": 65,
   "id": "453b3936-93fd-4c0c-9a75-81023ca91b88",
   "metadata": {},
   "outputs": [
    {
     "data": {
      "text/plain": [
       "tensor([[0.0182, 0.0293, 0.0258, 0.0252, 0.0260, 0.0244, 0.0253, 0.0256, 0.0253,\n",
       "         0.0246, 0.0269, 0.0269, 0.0284, 0.0282, 0.0302, 0.0280, 0.0288, 0.0234,\n",
       "         0.0244]])"
      ]
     },
     "execution_count": 65,
     "metadata": {},
     "output_type": "execute_result"
    }
   ],
   "source": [
    "torch.norm(weights_or.grad[:,:,0,:],dim=1)"
   ]
  },
  {
   "cell_type": "code",
   "execution_count": 91,
   "id": "fa37f4ab-ef9b-4db4-9694-64e9f4980e52",
   "metadata": {},
   "outputs": [
    {
     "data": {
      "text/plain": [
       "torch.Size([1, 19, 19])"
      ]
     },
     "execution_count": 91,
     "metadata": {},
     "output_type": "execute_result"
    }
   ],
   "source": [
    "weights_or.grad[:,:,:,:].max(1)[0].shape"
   ]
  },
  {
   "cell_type": "code",
   "execution_count": 78,
   "id": "82ed29dd-71d5-4079-89db-94d879868041",
   "metadata": {},
   "outputs": [
    {
     "data": {
      "text/plain": [
       "torch.Size([1, 19])"
      ]
     },
     "execution_count": 78,
     "metadata": {},
     "output_type": "execute_result"
    }
   ],
   "source": [
    "torch.norm(weights_or.grad[:,:,:,:].mean(1),dim=2).shape"
   ]
  },
  {
   "cell_type": "code",
   "execution_count": 136,
   "id": "3fe00a5a-294e-40fb-977b-e971b629386b",
   "metadata": {},
   "outputs": [],
   "source": [
    "# attention_gradients = torch.norm(weights_or.grad[:,:,0,:],dim=0)\n",
    "# attention_gradients = torch.norm(weights_or.grad[:,:,:,:].mean(1),dim=2)\n",
    "# attention_gradients = torch.abs(weights_or.grad[:, :, 0, :].mean(1))\n",
    "attention_gradients = weights_or.grad[:, :, 0, :].mean(1)\n",
    "attention_gradients =  (attentions * attention_gradients)"
   ]
  },
  {
   "cell_type": "code",
   "execution_count": 129,
   "id": "4e9a4df4-2f90-4b5f-8f41-36486f234744",
   "metadata": {},
   "outputs": [],
   "source": [
    "# attention_gradients = torch.norm(weights_or.grad[:,:,0,:],dim=0)\n",
    "# attention_gradients = torch.norm(weights_or.grad[:,:,:,:].mean(1),dim=2)\n",
    "attention_gradients = torch.abs(weights_or.grad[:, :, 0, :].mean(1))\n",
    "# attention_gradients = weights_or.grad[:, :, 0, :].mean(1)\n",
    "attention_gradients =  (attentions * attention_gradients)"
   ]
  },
  {
   "cell_type": "code",
   "execution_count": 133,
   "id": "3995992a-5241-4179-b1d1-fc53cbfc826c",
   "metadata": {},
   "outputs": [],
   "source": [
    "attention_gradients = torch.abs(weights_or.grad[:, :, 0, :].mean(1))\n",
    "# attention_gradients = weights_or.grad[:, :, 0, :].mean(1)\n",
    "attention_gradients =  (attentions / attention_gradients)"
   ]
  },
  {
   "cell_type": "code",
   "execution_count": 103,
   "id": "fa6f4514-1a73-457f-a856-352055035c8f",
   "metadata": {},
   "outputs": [
    {
     "data": {
      "text/plain": [
       "tensor([[0.1082, 0.0578, 0.0723, 0.0522, 0.0704, 0.0639, 0.0615, 0.0488, 0.0514,\n",
       "         0.0578, 0.0368, 0.0329, 0.0285, 0.0321, 0.0321, 0.0438, 0.0370, 0.0572,\n",
       "         0.0553]], grad_fn=<MeanBackward1>)"
      ]
     },
     "execution_count": 103,
     "metadata": {},
     "output_type": "execute_result"
    }
   ],
   "source": [
    "attentions"
   ]
  },
  {
   "cell_type": "code",
   "execution_count": 104,
   "id": "93b698af-3611-4ec6-bbc2-c26afef51f1d",
   "metadata": {},
   "outputs": [
    {
     "data": {
      "text/plain": [
       "tensor([[-0.0004, -0.0003, -0.0003, -0.0002, -0.0004, -0.0003, -0.0003, -0.0002,\n",
       "         -0.0003, -0.0003, -0.0002, -0.0002, -0.0002, -0.0002, -0.0002, -0.0002,\n",
       "         -0.0002, -0.0002, -0.0003]], grad_fn=<MulBackward0>)"
      ]
     },
     "execution_count": 104,
     "metadata": {},
     "output_type": "execute_result"
    }
   ],
   "source": [
    "attention_gradients"
   ]
  },
  {
   "cell_type": "code",
   "execution_count": 130,
   "id": "4c1043d2-a5ec-48ef-953c-216deac2093a",
   "metadata": {},
   "outputs": [],
   "source": [
    "located_indices = torch.topk(attention_gradients,k=5)"
   ]
  },
  {
   "cell_type": "code",
   "execution_count": 131,
   "id": "b355006a-c1b2-4ab1-96e3-4d206c6f519d",
   "metadata": {},
   "outputs": [
    {
     "data": {
      "text/plain": [
       "torch.return_types.topk(\n",
       "values=tensor([[1.8283e-04, 1.0434e-04, 1.0371e-04, 9.3817e-05, 9.1121e-05]],\n",
       "       grad_fn=<TopkBackward0>),\n",
       "indices=tensor([[1, 4, 3, 5, 2]]))"
      ]
     },
     "execution_count": 131,
     "metadata": {},
     "output_type": "execute_result"
    }
   ],
   "source": [
    "located_indices"
   ]
  },
  {
   "cell_type": "code",
   "execution_count": 132,
   "id": "c6f99334-feea-49c7-8a79-2d60d966a3b8",
   "metadata": {},
   "outputs": [
    {
     "data": {
      "text/plain": [
       "\", print's our let\""
      ]
     },
     "execution_count": 132,
     "metadata": {},
     "output_type": "execute_result"
    }
   ],
   "source": [
    "tokenizer.decode(batch['input_ids'][0][located_indices[1].squeeze()])"
   ]
  },
  {
   "cell_type": "code",
   "execution_count": 114,
   "id": "36ff356c-5dc5-44c1-9e3e-f239f2f652c9",
   "metadata": {},
   "outputs": [
    {
     "data": {
      "text/plain": [
       "tensor([[0.1082, 0.0578, 0.0723, 0.0522, 0.0704, 0.0639, 0.0615, 0.0488, 0.0514,\n",
       "         0.0578, 0.0368, 0.0329, 0.0285, 0.0321, 0.0321, 0.0438, 0.0370, 0.0572,\n",
       "         0.0553]], grad_fn=<MeanBackward1>)"
      ]
     },
     "execution_count": 114,
     "metadata": {},
     "output_type": "execute_result"
    }
   ],
   "source": [
    "attentions"
   ]
  },
  {
   "cell_type": "code",
   "execution_count": 141,
   "id": "3e43c738-c239-4141-bc65-a703ba713dc1",
   "metadata": {},
   "outputs": [],
   "source": [
    "located_indices = torch.topk(attentions,k=5)"
   ]
  },
  {
   "cell_type": "code",
   "execution_count": 142,
   "id": "ea3fec9e-390b-4dc3-939c-a17c1973c0a5",
   "metadata": {},
   "outputs": [
    {
     "data": {
      "text/plain": [
       "\", our's print own\""
      ]
     },
     "execution_count": 142,
     "metadata": {},
     "output_type": "execute_result"
    }
   ],
   "source": [
    "tokenizer.decode(batch['input_ids'][0][located_indices[1].squeeze()])"
   ]
  },
  {
   "cell_type": "code",
   "execution_count": 143,
   "id": "d1c77ebb-82d6-405e-8903-e64ba0643e34",
   "metadata": {},
   "outputs": [],
   "source": [
    "located_indices = torch.topk(torch.abs(weights_or.grad[:, :, 0, :].mean(1)),k=5)"
   ]
  },
  {
   "cell_type": "code",
   "execution_count": 144,
   "id": "09f9dc12-c03c-465d-b602-140abe3162fc",
   "metadata": {},
   "outputs": [
    {
     "data": {
      "text/plain": [
       "torch.return_types.topk(\n",
       "values=tensor([[0.0021, 0.0019, 0.0019, 0.0019, 0.0017]]),\n",
       "indices=tensor([[14, 13, 12, 16, 15]]))"
      ]
     },
     "execution_count": 144,
     "metadata": {},
     "output_type": "execute_result"
    }
   ],
   "source": [
    "located_indices"
   ]
  },
  {
   "cell_type": "code",
   "execution_count": 145,
   "id": "7a9c0ecb-d6a2-48c7-9293-59600af24660",
   "metadata": {},
   "outputs": [
    {
     "data": {
      "text/plain": [
       "' good a can press printing'"
      ]
     },
     "execution_count": 145,
     "metadata": {},
     "output_type": "execute_result"
    }
   ],
   "source": [
    "tokenizer.decode(batch['input_ids'][0][located_indices[1].squeeze()])"
   ]
  },
  {
   "cell_type": "code",
   "execution_count": null,
   "id": "7d6fe07f-8a87-4259-b11f-ce956e6180d3",
   "metadata": {},
   "outputs": [],
   "source": []
  },
  {
   "cell_type": "code",
   "execution_count": 137,
   "id": "7791c2c7-9f4f-4d34-b171-89f62e99e33e",
   "metadata": {},
   "outputs": [],
   "source": [
    "located_indices = torch.topk(weights_or.grad[:, :, 0, :].mean(1),k=5)"
   ]
  },
  {
   "cell_type": "code",
   "execution_count": 138,
   "id": "91358204-fa73-426b-bed2-61916ba27d6d",
   "metadata": {},
   "outputs": [
    {
     "data": {
      "text/plain": [
       "tensor([[-0.0016, -0.0016, -0.0013, -0.0013, -0.0013, -0.0010, -0.0011, -0.0013,\n",
       "         -0.0014, -0.0012, -0.0016, -0.0016, -0.0019, -0.0019, -0.0021, -0.0017,\n",
       "         -0.0019, -0.0010, -0.0012]])"
      ]
     },
     "execution_count": 138,
     "metadata": {},
     "output_type": "execute_result"
    }
   ],
   "source": [
    "weights_or.grad[:, :, 0, :].mean(1)"
   ]
  },
  {
   "cell_type": "code",
   "execution_count": 139,
   "id": "b88e3b35-35fb-4123-8ecb-e6c1b81f3969",
   "metadata": {},
   "outputs": [
    {
     "data": {
      "text/plain": [
       "torch.return_types.topk(\n",
       "values=tensor([[-0.0010, -0.0010, -0.0011, -0.0012, -0.0012]]),\n",
       "indices=tensor([[17,  5,  6, 18,  9]]))"
      ]
     },
     "execution_count": 139,
     "metadata": {},
     "output_type": "execute_result"
    }
   ],
   "source": [
    "located_indices"
   ]
  },
  {
   "cell_type": "code",
   "execution_count": 140,
   "id": "e7480cfe-5ddd-48b4-84e3-72211928be0b",
   "metadata": {},
   "outputs": [
    {
     "data": {
      "text/plain": [
       "' be our own?!'"
      ]
     },
     "execution_count": 140,
     "metadata": {},
     "output_type": "execute_result"
    }
   ],
   "source": [
    "tokenizer.decode(batch['input_ids'][0][located_indices[1].squeeze()])"
   ]
  },
  {
   "cell_type": "code",
   "execution_count": null,
   "id": "101570fd-cda4-4ca6-9281-001e25c0d38b",
   "metadata": {},
   "outputs": [],
   "source": []
  },
  {
   "cell_type": "code",
   "execution_count": 134,
   "id": "5c1f576d-c2b3-493c-ab0e-2b6e06492cf9",
   "metadata": {},
   "outputs": [],
   "source": [
    "located_indices = torch.topk(attention_gradients,k=5)"
   ]
  },
  {
   "cell_type": "code",
   "execution_count": 135,
   "id": "923ac220-a91e-46a7-82cd-a62c76ab9310",
   "metadata": {},
   "outputs": [
    {
     "data": {
      "text/plain": [
       "\" our, be's own\""
      ]
     },
     "execution_count": 135,
     "metadata": {},
     "output_type": "execute_result"
    }
   ],
   "source": [
    "tokenizer.decode(batch['input_ids'][0][located_indices[1].squeeze()])"
   ]
  },
  {
   "cell_type": "code",
   "execution_count": null,
   "id": "95c8a8d6-cea1-4ab6-b56b-bb5ba8913173",
   "metadata": {},
   "outputs": [],
   "source": []
  },
  {
   "cell_type": "code",
   "execution_count": null,
   "id": "19abe784-d76b-4588-8db5-690117d537d6",
   "metadata": {},
   "outputs": [],
   "source": [
    "## value vector를 return 받는 코드\n",
    "## https://github.com/gorokoba560/norm-analysis-of-transformer/blob/master/emnlp2020/transformers/src/transformers/modeling_bert.py\n",
    "## explainable-qe-shared-task/model/sparse_xlmr.py 의 AttentionNormOutput"
   ]
  }
 ],
 "metadata": {
  "kernelspec": {
   "display_name": "Python 3 (ipykernel)",
   "language": "python",
   "name": "python3"
  },
  "language_info": {
   "codemirror_mode": {
    "name": "ipython",
    "version": 3
   },
   "file_extension": ".py",
   "mimetype": "text/x-python",
   "name": "python",
   "nbconvert_exporter": "python",
   "pygments_lexer": "ipython3",
   "version": "3.11.7"
  }
 },
 "nbformat": 4,
 "nbformat_minor": 5
}
