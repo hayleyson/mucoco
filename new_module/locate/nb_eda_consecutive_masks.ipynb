{
 "cells": [
  {
   "cell_type": "code",
   "execution_count": 198,
   "metadata": {},
   "outputs": [],
   "source": [
    "from transformers import AutoModelForMaskedLM, AutoTokenizer, AutoModelForSequenceClassification\n",
    "import torch"
   ]
  },
  {
   "cell_type": "code",
   "execution_count": 7,
   "metadata": {},
   "outputs": [],
   "source": [
    "import pandas as pd\n",
    "\n",
    "intermediate_outputs = pd.read_json('/data/hyeryung/mucoco/outputs/toxicity/llm/r7kykwge/outputs_epsilon0.9.txt.intermediate', lines=True)\n",
    "intermediate_outputs = intermediate_outputs.explode('generations').reset_index(drop=True)"
   ]
  },
  {
   "cell_type": "code",
   "execution_count": 14,
   "metadata": {},
   "outputs": [],
   "source": [
    "intermediate_outputs_eda = intermediate_outputs.loc[intermediate_outputs['generations'].apply(len) != 0].reset_index(drop=True)"
   ]
  },
  {
   "cell_type": "code",
   "execution_count": 153,
   "metadata": {},
   "outputs": [],
   "source": [
    "intermediate_outputs_eda['prompt'] = intermediate_outputs_eda['prompt'].apply(lambda x: x['text'])"
   ]
  },
  {
   "cell_type": "code",
   "execution_count": 23,
   "metadata": {},
   "outputs": [],
   "source": [
    "intermediate_outputs_eda['masked_sentences'] = intermediate_outputs_eda['generations'].apply(lambda x: [item[1] for item in x.items() if 'mask' in item[0]])"
   ]
  },
  {
   "cell_type": "code",
   "execution_count": 162,
   "metadata": {},
   "outputs": [],
   "source": [
    "intermediate_outputs_eda['masked_sentences_joined_by_prompt'] = intermediate_outputs_eda[['prompt','masked_sentences']].apply(lambda x: [' ' .join([x['prompt'], y]) for y in x['masked_sentences']], axis=1)"
   ]
  },
  {
   "cell_type": "code",
   "execution_count": 163,
   "metadata": {},
   "outputs": [
    {
     "data": {
      "text/plain": [
       "'A convicted German criminal known as the “broomstick robber” has been charged with blackmail for allegedly holding up a string of supermarkets using a broomstick disguised as a gun. The man reportedly<mask><mask> staff and customers while demanding money and valuables. After a long investigation, the police managed to track him down and bring charges against him for his<mask><mask> activities.<mask> \"broomstick<mask><mask> saga captivated the nation and left many stunned by the audacity of his crimes.'"
      ]
     },
     "execution_count": 163,
     "metadata": {},
     "output_type": "execute_result"
    }
   ],
   "source": [
    "intermediate_outputs_eda['masked_sentences_joined_by_prompt'][0][0]"
   ]
  },
  {
   "cell_type": "code",
   "execution_count": 164,
   "metadata": {},
   "outputs": [
    {
     "data": {
      "text/plain": [
       "'holding up a string of supermarkets using a broomstick disguised as a gun. The man reportedly<mask><mask> staff and customers while demanding money and valuables. After a long investigation, the police managed to track him down and bring charges against him for his<mask><mask> activities.<mask> \"broomstick<mask><mask> saga captivated the nation and left many stunned by the audacity of his crimes.'"
      ]
     },
     "execution_count": 164,
     "metadata": {},
     "output_type": "execute_result"
    }
   ],
   "source": [
    "intermediate_outputs_eda['masked_sentences'][0][0]"
   ]
  },
  {
   "cell_type": "code",
   "execution_count": 165,
   "metadata": {},
   "outputs": [],
   "source": [
    "all_masked_sentences = intermediate_outputs_eda['masked_sentences'].agg(sum)"
   ]
  },
  {
   "cell_type": "code",
   "execution_count": 166,
   "metadata": {},
   "outputs": [],
   "source": [
    "test_sent = all_masked_sentences[0]"
   ]
  },
  {
   "cell_type": "code",
   "execution_count": 167,
   "metadata": {},
   "outputs": [
    {
     "data": {
      "text/plain": [
       "'holding up a string of supermarkets using a broomstick disguised as a gun. The man reportedly<mask><mask> staff and customers while demanding money and valuables. After a long investigation, the police managed to track him down and bring charges against him for his<mask><mask> activities.<mask> \"broomstick<mask><mask> saga captivated the nation and left many stunned by the audacity of his crimes.'"
      ]
     },
     "execution_count": 167,
     "metadata": {},
     "output_type": "execute_result"
    }
   ],
   "source": [
    "test_sent"
   ]
  },
  {
   "cell_type": "code",
   "execution_count": 74,
   "metadata": {},
   "outputs": [],
   "source": [
    "import re\n",
    "from collections import defaultdict\n",
    "\n",
    "\n",
    "def analyze_span_lengths_and_count(text):\n",
    "    mask_matches = list(re.finditer('<mask>', text))\n",
    "\n",
    "    mask_info_dict= defaultdict(list)\n",
    "    prev_mask = None\n",
    "    span_count = 0\n",
    "    curr_span_length = 1\n",
    "    for i, mask in enumerate(mask_matches):\n",
    "        \n",
    "        if i == 0:\n",
    "            mask_info_dict[span_count].append(i)\n",
    "            \n",
    "        else:\n",
    "            if prev_mask.span()[1] == mask.span()[0]:\n",
    "                mask_info_dict[span_count].append(i)\n",
    "                curr_span_length += 1\n",
    "            else:\n",
    "                span_count += 1\n",
    "                mask_info_dict[span_count].append(i)\n",
    "                curr_span_length = 1\n",
    "        prev_mask = mask\n",
    "\n",
    "    span_lengths = []\n",
    "    for span_id, span_len in mask_info_dict.items():\n",
    "        \n",
    "        span_lengths.append(len(span_len))\n",
    "    return mask_info_dict, span_lengths"
   ]
  },
  {
   "cell_type": "code",
   "execution_count": 75,
   "metadata": {},
   "outputs": [],
   "source": [
    "mask_info_dicts = []\n",
    "span_lengths_es = []\n",
    "for test_sent in all_masked_sentences:\n",
    "    \n",
    "    mask_info_dict, span_lengths = analyze_span_lengths_and_count(test_sent)\n",
    "    mask_info_dicts.append(mask_info_dict)\n",
    "    span_lengths_es.append(span_lengths)"
   ]
  },
  {
   "cell_type": "code",
   "execution_count": 86,
   "metadata": {},
   "outputs": [],
   "source": [
    "mlm = AutoModelForMaskedLM.from_pretrained('roberta-large')\n",
    "mlm_tokenizer = AutoTokenizer.from_pretrained('roberta-large')"
   ]
  },
  {
   "cell_type": "code",
   "execution_count": 168,
   "metadata": {},
   "outputs": [
    {
     "data": {
      "text/plain": [
       "'holding up a string of supermarkets using a broomstick disguised as a gun. The man reportedly<mask><mask> staff and customers while demanding money and valuables. After a long investigation, the police managed to track him down and bring charges against him for his<mask><mask> activities.<mask> \"broomstick<mask><mask> saga captivated the nation and left many stunned by the audacity of his crimes.'"
      ]
     },
     "execution_count": 168,
     "metadata": {},
     "output_type": "execute_result"
    }
   ],
   "source": [
    "test_sent"
   ]
  },
  {
   "cell_type": "code",
   "execution_count": 169,
   "metadata": {},
   "outputs": [],
   "source": [
    "## merge masks\n",
    "test_sent_merged = re.sub(r\"(<mask>)+\", \"<mask>\", test_sent)\n"
   ]
  },
  {
   "cell_type": "code",
   "execution_count": 170,
   "metadata": {},
   "outputs": [],
   "source": [
    "test_sent_tokens = mlm_tokenizer(test_sent_merged,return_tensors=\"pt\",add_special_tokens=False).input_ids"
   ]
  },
  {
   "cell_type": "code",
   "execution_count": 171,
   "metadata": {},
   "outputs": [],
   "source": [
    "locations = torch.where(torch.Tensor(test_sent_tokens) == mlm_tokenizer.mask_token_id) "
   ]
  },
  {
   "cell_type": "code",
   "execution_count": 151,
   "metadata": {},
   "outputs": [],
   "source": [
    "test_sent_short = ' '.join(test_sent.split()[:20])\n",
    "## merge masks\n",
    "test_sent_short_merged = re.sub(r\"(<mask>)+\", \"<mask>\", test_sent_short)"
   ]
  },
  {
   "cell_type": "code",
   "execution_count": 152,
   "metadata": {},
   "outputs": [
    {
     "data": {
      "text/plain": [
       "\"<mask> know can actually hurt us.<mask> can lead to<mask> missed opportunities, and even dangerous situations. It's important to seek knowledge\""
      ]
     },
     "execution_count": 152,
     "metadata": {},
     "output_type": "execute_result"
    }
   ],
   "source": [
    "test_sent_short_merged"
   ]
  },
  {
   "cell_type": "code",
   "execution_count": 208,
   "metadata": {},
   "outputs": [
    {
     "name": "stderr",
     "output_type": "stream",
     "text": [
      "Some weights of the model checkpoint at textattack/roberta-base-CoLA were not used when initializing RobertaForSequenceClassification: ['roberta.pooler.dense.bias', 'roberta.pooler.dense.weight']\n",
      "- This IS expected if you are initializing RobertaForSequenceClassification from the checkpoint of a model trained on another task or with another architecture (e.g. initializing a BertForSequenceClassification model from a BertForPreTraining model).\n",
      "- This IS NOT expected if you are initializing RobertaForSequenceClassification from the checkpoint of a model that you expect to be exactly identical (initializing a BertForSequenceClassification model from a BertForSequenceClassification model).\n"
     ]
    }
   ],
   "source": [
    "grammar_model = AutoModelForSequenceClassification.from_pretrained('textattack/roberta-base-CoLA')"
   ]
  },
  {
   "cell_type": "code",
   "execution_count": 213,
   "metadata": {},
   "outputs": [
    {
     "data": {
      "text/plain": [
       "tensor([[25176,    62,    10,  6755,     9, 21356,   634,    10, 39546, 19650,\n",
       "         31890,    25,    10,  1751,     4,    20,   313,  2288, 50264,   813,\n",
       "             8,   916,   150,  5783,   418,     8,  7398,   257,  6058,     4,\n",
       "           572,    10,   251,   803,     6,     5,   249,  2312,     7,  1349,\n",
       "           123,   159,     8,   836,  1103,   136,   123,    13,    39, 50264,\n",
       "          1713,     4, 50264,    22,   428,  4294, 19650, 50264, 17466, 13363,\n",
       "         23907,     5,  1226,     8,   314,   171, 12144,    30,     5,  9818,\n",
       "         18583,     9,    39,  3474,     4]])"
      ]
     },
     "execution_count": 213,
     "metadata": {},
     "output_type": "execute_result"
    }
   ],
   "source": [
    "test_sent_tokens"
   ]
  },
  {
   "cell_type": "code",
   "execution_count": 217,
   "metadata": {},
   "outputs": [
    {
     "data": {
      "text/plain": [
       "2"
      ]
     },
     "execution_count": 217,
     "metadata": {},
     "output_type": "execute_result"
    }
   ],
   "source": [
    "span_lengths[cursor_idx]"
   ]
  },
  {
   "cell_type": "code",
   "execution_count": 219,
   "metadata": {},
   "outputs": [
    {
     "name": "stdout",
     "output_type": "stream",
     "text": [
      "tensor([[25176,    62,    10,  6755,     9, 21356,   634,    10, 39546, 19650,\n",
      "         31890,    25,    10,  1751,     4,    20,   313,  2288,  3711,     5,\n",
      "           813,     8,   916,   150,  5783,   418,     8,  7398,   257,  6058,\n",
      "             4,   572,    10,   251,   803,     6,     5,   249,  2312,     7,\n",
      "          1349,   123,   159,     8,   836,  1103,   136,   123,    13,    39,\n",
      "         50264,  1713,     4, 50264,    22,   428,  4294, 19650, 50264, 17466,\n",
      "         13363, 23907,     5,  1226,     8,   314,   171, 12144,    30,     5,\n",
      "          9818, 18583,     9,    39,  3474,     4],\n",
      "        [25176,    62,    10,  6755,     9, 21356,   634,    10, 39546, 19650,\n",
      "         31890,    25,    10,  1751,     4,    20,   313,  2288,  4487,   258,\n",
      "           813,     8,   916,   150,  5783,   418,     8,  7398,   257,  6058,\n",
      "             4,   572,    10,   251,   803,     6,     5,   249,  2312,     7,\n",
      "          1349,   123,   159,     8,   836,  1103,   136,   123,    13,    39,\n",
      "         50264,  1713,     4, 50264,    22,   428,  4294, 19650, 50264, 17466,\n",
      "         13363, 23907,     5,  1226,     8,   314,   171, 12144,    30,     5,\n",
      "          9818, 18583,     9,    39,  3474,     4],\n",
      "        [25176,    62,    10,  6755,     9, 21356,   634,    10, 39546, 19650,\n",
      "         31890,    25,    10,  1751,     4,    20,   313,  2288,  8057,  1400,\n",
      "           813,     8,   916,   150,  5783,   418,     8,  7398,   257,  6058,\n",
      "             4,   572,    10,   251,   803,     6,     5,   249,  2312,     7,\n",
      "          1349,   123,   159,     8,   836,  1103,   136,   123,    13,    39,\n",
      "         50264,  1713,     4, 50264,    22,   428,  4294, 19650, 50264, 17466,\n",
      "         13363, 23907,     5,  1226,     8,   314,   171, 12144,    30,     5,\n",
      "          9818, 18583,     9,    39,  3474,     4],\n",
      "        [25176,    62,    10,  6755,     9, 21356,   634,    10, 39546, 19650,\n",
      "         31890,    25,    10,  1751,     4,    20,   313,  2288,  3711,     5,\n",
      "           813,     8,   916,   150,  5783,   418,     8,  7398,   257,  6058,\n",
      "             4,   572,    10,   251,   803,     6,     5,   249,  2312,     7,\n",
      "          1349,   123,   159,     8,   836,  1103,   136,   123,    13,    39,\n",
      "         50264,  1713,     4, 50264,    22,   428,  4294, 19650, 50264, 17466,\n",
      "         13363, 23907,     5,  1226,     8,   314,   171, 12144,    30,     5,\n",
      "          9818, 18583,     9,    39,  3474,     4],\n",
      "        [25176,    62,    10,  6755,     9, 21356,   634,    10, 39546, 19650,\n",
      "         31890,    25,    10,  1751,     4,    20,   313,  2288,  4487,   258,\n",
      "           813,     8,   916,   150,  5783,   418,     8,  7398,   257,  6058,\n",
      "             4,   572,    10,   251,   803,     6,     5,   249,  2312,     7,\n",
      "          1349,   123,   159,     8,   836,  1103,   136,   123,    13,    39,\n",
      "         50264,  1713,     4, 50264,    22,   428,  4294, 19650, 50264, 17466,\n",
      "         13363, 23907,     5,  1226,     8,   314,   171, 12144,    30,     5,\n",
      "          9818, 18583,     9,    39,  3474,     4],\n",
      "        [25176,    62,    10,  6755,     9, 21356,   634,    10, 39546, 19650,\n",
      "         31890,    25,    10,  1751,     4,    20,   313,  2288,  8057, 12647,\n",
      "           813,     8,   916,   150,  5783,   418,     8,  7398,   257,  6058,\n",
      "             4,   572,    10,   251,   803,     6,     5,   249,  2312,     7,\n",
      "          1349,   123,   159,     8,   836,  1103,   136,   123,    13,    39,\n",
      "         50264,  1713,     4, 50264,    22,   428,  4294, 19650, 50264, 17466,\n",
      "         13363, 23907,     5,  1226,     8,   314,   171, 12144,    30,     5,\n",
      "          9818, 18583,     9,    39,  3474,     4],\n",
      "        [25176,    62,    10,  6755,     9, 21356,   634,    10, 39546, 19650,\n",
      "         31890,    25,    10,  1751,     4,    20,   313,  2288,  3711,     5,\n",
      "           813,     8,   916,   150,  5783,   418,     8,  7398,   257,  6058,\n",
      "             4,   572,    10,   251,   803,     6,     5,   249,  2312,     7,\n",
      "          1349,   123,   159,     8,   836,  1103,   136,   123,    13,    39,\n",
      "         50264,  1713,     4, 50264,    22,   428,  4294, 19650, 50264, 17466,\n",
      "         13363, 23907,     5,  1226,     8,   314,   171, 12144,    30,     5,\n",
      "          9818, 18583,     9,    39,  3474,     4],\n",
      "        [25176,    62,    10,  6755,     9, 21356,   634,    10, 39546, 19650,\n",
      "         31890,    25,    10,  1751,     4,    20,   313,  2288,  4487,   258,\n",
      "           813,     8,   916,   150,  5783,   418,     8,  7398,   257,  6058,\n",
      "             4,   572,    10,   251,   803,     6,     5,   249,  2312,     7,\n",
      "          1349,   123,   159,     8,   836,  1103,   136,   123,    13,    39,\n",
      "         50264,  1713,     4, 50264,    22,   428,  4294, 19650, 50264, 17466,\n",
      "         13363, 23907,     5,  1226,     8,   314,   171, 12144,    30,     5,\n",
      "          9818, 18583,     9,    39,  3474,     4],\n",
      "        [25176,    62,    10,  6755,     9, 21356,   634,    10, 39546, 19650,\n",
      "         31890,    25,    10,  1751,     4,    20,   313,  2288,  8057, 12647,\n",
      "           813,     8,   916,   150,  5783,   418,     8,  7398,   257,  6058,\n",
      "             4,   572,    10,   251,   803,     6,     5,   249,  2312,     7,\n",
      "          1349,   123,   159,     8,   836,  1103,   136,   123,    13,    39,\n",
      "         50264,  1713,     4, 50264,    22,   428,  4294, 19650, 50264, 17466,\n",
      "         13363, 23907,     5,  1226,     8,   314,   171, 12144,    30,     5,\n",
      "          9818, 18583,     9,    39,  3474,     4]])\n",
      "tensor([[25176,    62,    10,  ...,    39,  3474,     4],\n",
      "        [25176,    62,    10,  ...,    39,  3474,     4],\n",
      "        [25176,    62,    10,  ...,    39,  3474,     4],\n",
      "        ...,\n",
      "        [25176,    62,    10,  ...,    39,  3474,     4],\n",
      "        [25176,    62,    10,  ...,    39,  3474,     4],\n",
      "        [25176,    62,    10,  ...,    39,  3474,     4]])\n",
      "tensor([[25176,    62,    10,  ...,    39,  3474,     4],\n",
      "        [25176,    62,    10,  ...,    39,  3474,     4],\n",
      "        [25176,    62,    10,  ...,    39,  3474,     4],\n",
      "        ...,\n",
      "        [25176,    62,    10,  ...,    39,  3474,     4],\n",
      "        [25176,    62,    10,  ...,    39,  3474,     4],\n",
      "        [25176,    62,    10,  ...,    39,  3474,     4]])\n",
      "tensor([[25176,    62,    10,  ...,    39,  3474,     4],\n",
      "        [25176,    62,    10,  ...,    39,  3474,     4],\n",
      "        [25176,    62,    10,  ...,    39,  3474,     4],\n",
      "        ...,\n",
      "        [25176,    62,    10,  ...,    39,  3474,     4],\n",
      "        [25176,    62,    10,  ...,    39,  3474,     4],\n",
      "        [25176,    62,    10,  ...,    39,  3474,     4]])\n",
      "tensor([[25176,    62,    10,  ...,    39,  3474,     4],\n",
      "        [25176,    62,    10,  ...,    39,  3474,     4],\n",
      "        [25176,    62,    10,  ...,    39,  3474,     4],\n",
      "        ...,\n",
      "        [25176,    62,    10,  ...,    39,  3474,     4],\n",
      "        [25176,    62,    10,  ...,    39,  3474,     4],\n",
      "        [25176,    62,    10,  ...,    39,  3474,     4]])\n"
     ]
    }
   ],
   "source": [
    "span_lengths = span_lengths_es[0]\n",
    "cursor_idx = 0\n",
    "cursor = locations[1][cursor_idx]\n",
    "cursor_offset = 0\n",
    "\n",
    "comprehensive_hypotheses = []\n",
    "while True:\n",
    "    with torch.no_grad():\n",
    "        comprehensive_hypotheses.append(torch.cat((test_sent_tokens[:, :cursor], test_sent_tokens[:, cursor+1:]), dim=-1))\n",
    "        \n",
    "        predictions = mlm(test_sent_tokens).logits\n",
    "        predictions[:, :, [0,1,2,3,50264]] = -10000\n",
    "        top3 = torch.topk(predictions[:, cursor,:], k=3, dim=-1).indices\n",
    "        comprehensive_hypotheses.append(torch.cat((torch.tile(test_sent_tokens[:, :cursor], dims= (3,1)), top3.reshape(-1,1), torch.tile(test_sent_tokens[:, cursor+1:], dims= (3,1))), dim=-1))\n",
    "        hypotheses = torch.cat((torch.tile(test_sent_tokens[:, :cursor], dims= (3,1)), top3.reshape(-1,1), torch.tile(test_sent_tokens[:, cursor:], dims= (3,1))), dim=-1)\n",
    "        cursor_offset += 1\n",
    "        \n",
    "        iteration_count = max(span_lengths[cursor_idx], 5)\n",
    "        \n",
    "        for _ in range(iteration_count):\n",
    "            hypotheses_texts = mlm_tokenizer.batch_decode(hypotheses)\n",
    "            predictions = mlm(hypotheses).logits\n",
    "            top3 = torch.topk(predictions[:, cursor + cursor_offset], k=3, dim=-1).indices\n",
    "            print(torch.cat((torch.tile(hypotheses[:, :cursor + cursor_offset], dims= (3,1)), top3.reshape(-1,1), torch.tile(hypotheses[:, cursor + cursor_offset+1:], dims= (3,1))), dim=-1))\n",
    "            hypotheses_scores = torch.softmax(grammar_model(torch.cat((torch.tile(hypotheses[:, :cursor + cursor_offset], dims= (3,1)), top3.reshape(-1,1), torch.tile(hypotheses[:, cursor + cursor_offset+1:], dims= (3,1))), dim=-1)).logits,dim=-1)\n",
    "            # print(hypotheses_scores[: ,1])\n",
    "            # break\n",
    "            \n",
    "            \n",
    "            comprehensive_hypotheses.append(torch.cat((torch.tile(hypotheses[:, :cursor + cursor_offset], dims= (3,1)), top3.reshape(-1,1), torch.tile(hypotheses[:, cursor + cursor_offset+1:], dims= (3,1))), dim=-1))\n",
    "            hypotheses = torch.cat((torch.tile(hypotheses[:, :cursor + cursor_offset], dims= (3,1)), top3.reshape(-1,1), torch.tile(hypotheses[:, cursor + cursor_offset:], dims= (3,1))), dim=-1)\n",
    "            cursor_offset += 1\n",
    "            if (hypotheses[:, cursor+cursor_offset-1] == hypotheses[:, cursor+cursor_offset]).sum() > 0:\n",
    "                hypotheses = hypotheses[torch.randint(0, len(hypotheses), (10,)), :]\n",
    "                break\n",
    "            else:\n",
    "                hypotheses = hypotheses[torch.randint(0, len(hypotheses), (10,)), :]\n",
    "            \n",
    "        \n",
    "        \n",
    "        break\n",
    "        \n",
    "        test_sent_tokens()\n",
    "        test_sent_tokens"
   ]
  },
  {
   "cell_type": "code",
   "execution_count": 220,
   "metadata": {},
   "outputs": [
    {
     "data": {
      "text/plain": [
       "[['holding up a string of supermarkets using a broomstick disguised as a gun. The man reportedly staff and customers while demanding money and valuables. After a long investigation, the police managed to track him down and bring charges against him for his<mask> activities.<mask> \"broomstick<mask> saga captivated the nation and left many stunned by the audacity of his crimes.'],\n",
       " ['holding up a string of supermarkets using a broomstick disguised as a gun. The man reportedly threatened staff and customers while demanding money and valuables. After a long investigation, the police managed to track him down and bring charges against him for his<mask> activities.<mask> \"broomstick<mask> saga captivated the nation and left many stunned by the audacity of his crimes.',\n",
       "  'holding up a string of supermarkets using a broomstick disguised as a gun. The man reportedly attacked staff and customers while demanding money and valuables. After a long investigation, the police managed to track him down and bring charges against him for his<mask> activities.<mask> \"broomstick<mask> saga captivated the nation and left many stunned by the audacity of his crimes.',\n",
       "  'holding up a string of supermarkets using a broomstick disguised as a gun. The man reportedly assaulted staff and customers while demanding money and valuables. After a long investigation, the police managed to track him down and bring charges against him for his<mask> activities.<mask> \"broomstick<mask> saga captivated the nation and left many stunned by the audacity of his crimes.'],\n",
       " ['holding up a string of supermarkets using a broomstick disguised as a gun. The man reportedly threatened the staff and customers while demanding money and valuables. After a long investigation, the police managed to track him down and bring charges against him for his<mask> activities.<mask> \"broomstick<mask> saga captivated the nation and left many stunned by the audacity of his crimes.',\n",
       "  'holding up a string of supermarkets using a broomstick disguised as a gun. The man reportedly attacked both staff and customers while demanding money and valuables. After a long investigation, the police managed to track him down and bring charges against him for his<mask> activities.<mask> \"broomstick<mask> saga captivated the nation and left many stunned by the audacity of his crimes.',\n",
       "  'holding up a string of supermarkets using a broomstick disguised as a gun. The man reportedly assaulted store staff and customers while demanding money and valuables. After a long investigation, the police managed to track him down and bring charges against him for his<mask> activities.<mask> \"broomstick<mask> saga captivated the nation and left many stunned by the audacity of his crimes.',\n",
       "  'holding up a string of supermarkets using a broomstick disguised as a gun. The man reportedly threatened the staff and customers while demanding money and valuables. After a long investigation, the police managed to track him down and bring charges against him for his<mask> activities.<mask> \"broomstick<mask> saga captivated the nation and left many stunned by the audacity of his crimes.',\n",
       "  'holding up a string of supermarkets using a broomstick disguised as a gun. The man reportedly attacked both staff and customers while demanding money and valuables. After a long investigation, the police managed to track him down and bring charges against him for his<mask> activities.<mask> \"broomstick<mask> saga captivated the nation and left many stunned by the audacity of his crimes.',\n",
       "  'holding up a string of supermarkets using a broomstick disguised as a gun. The man reportedly assaulted supermarket staff and customers while demanding money and valuables. After a long investigation, the police managed to track him down and bring charges against him for his<mask> activities.<mask> \"broomstick<mask> saga captivated the nation and left many stunned by the audacity of his crimes.',\n",
       "  'holding up a string of supermarkets using a broomstick disguised as a gun. The man reportedly threatened the staff and customers while demanding money and valuables. After a long investigation, the police managed to track him down and bring charges against him for his<mask> activities.<mask> \"broomstick<mask> saga captivated the nation and left many stunned by the audacity of his crimes.',\n",
       "  'holding up a string of supermarkets using a broomstick disguised as a gun. The man reportedly attacked both staff and customers while demanding money and valuables. After a long investigation, the police managed to track him down and bring charges against him for his<mask> activities.<mask> \"broomstick<mask> saga captivated the nation and left many stunned by the audacity of his crimes.',\n",
       "  'holding up a string of supermarkets using a broomstick disguised as a gun. The man reportedly assaulted supermarket staff and customers while demanding money and valuables. After a long investigation, the police managed to track him down and bring charges against him for his<mask> activities.<mask> \"broomstick<mask> saga captivated the nation and left many stunned by the audacity of his crimes.'],\n",
       " ['holding up a string of supermarkets using a broomstick disguised as a gun. The man reportedly attacked both the staff and customers while demanding money and valuables. After a long investigation, the police managed to track him down and bring charges against him for his<mask> activities.<mask> \"broomstick<mask> saga captivated the nation and left many stunned by the audacity of his crimes.',\n",
       "  'holding up a string of supermarkets using a broomstick disguised as a gun. The man reportedly assaulted supermarket supermarket staff and customers while demanding money and valuables. After a long investigation, the police managed to track him down and bring charges against him for his<mask> activities.<mask> \"broomstick<mask> saga captivated the nation and left many stunned by the audacity of his crimes.',\n",
       "  'holding up a string of supermarkets using a broomstick disguised as a gun. The man reportedly assaulted store store staff and customers while demanding money and valuables. After a long investigation, the police managed to track him down and bring charges against him for his<mask> activities.<mask> \"broomstick<mask> saga captivated the nation and left many stunned by the audacity of his crimes.',\n",
       "  'holding up a string of supermarkets using a broomstick disguised as a gun. The man reportedly assaulted supermarket\\'s staff and customers while demanding money and valuables. After a long investigation, the police managed to track him down and bring charges against him for his<mask> activities.<mask> \"broomstick<mask> saga captivated the nation and left many stunned by the audacity of his crimes.',\n",
       "  'holding up a string of supermarkets using a broomstick disguised as a gun. The man reportedly attacked both security staff and customers while demanding money and valuables. After a long investigation, the police managed to track him down and bring charges against him for his<mask> activities.<mask> \"broomstick<mask> saga captivated the nation and left many stunned by the audacity of his crimes.',\n",
       "  'holding up a string of supermarkets using a broomstick disguised as a gun. The man reportedly attacked both sales staff and customers while demanding money and valuables. After a long investigation, the police managed to track him down and bring charges against him for his<mask> activities.<mask> \"broomstick<mask> saga captivated the nation and left many stunned by the audacity of his crimes.',\n",
       "  'holding up a string of supermarkets using a broomstick disguised as a gun. The man reportedly attacked both\\'s staff and customers while demanding money and valuables. After a long investigation, the police managed to track him down and bring charges against him for his<mask> activities.<mask> \"broomstick<mask> saga captivated the nation and left many stunned by the audacity of his crimes.',\n",
       "  'holding up a string of supermarkets using a broomstick disguised as a gun. The man reportedly attacked both security staff and customers while demanding money and valuables. After a long investigation, the police managed to track him down and bring charges against him for his<mask> activities.<mask> \"broomstick<mask> saga captivated the nation and left many stunned by the audacity of his crimes.',\n",
       "  'holding up a string of supermarkets using a broomstick disguised as a gun. The man reportedly attacked both management staff and customers while demanding money and valuables. After a long investigation, the police managed to track him down and bring charges against him for his<mask> activities.<mask> \"broomstick<mask> saga captivated the nation and left many stunned by the audacity of his crimes.',\n",
       "  'holding up a string of supermarkets using a broomstick disguised as a gun. The man reportedly threatened the\\'s staff and customers while demanding money and valuables. After a long investigation, the police managed to track him down and bring charges against him for his<mask> activities.<mask> \"broomstick<mask> saga captivated the nation and left many stunned by the audacity of his crimes.',\n",
       "  'holding up a string of supermarkets using a broomstick disguised as a gun. The man reportedly attacked both security staff and customers while demanding money and valuables. After a long investigation, the police managed to track him down and bring charges against him for his<mask> activities.<mask> \"broomstick<mask> saga captivated the nation and left many stunned by the audacity of his crimes.',\n",
       "  'holding up a string of supermarkets using a broomstick disguised as a gun. The man reportedly assaulted supermarket sales staff and customers while demanding money and valuables. After a long investigation, the police managed to track him down and bring charges against him for his<mask> activities.<mask> \"broomstick<mask> saga captivated the nation and left many stunned by the audacity of his crimes.',\n",
       "  'holding up a string of supermarkets using a broomstick disguised as a gun. The man reportedly assaulted store the staff and customers while demanding money and valuables. After a long investigation, the police managed to track him down and bring charges against him for his<mask> activities.<mask> \"broomstick<mask> saga captivated the nation and left many stunned by the audacity of his crimes.',\n",
       "  'holding up a string of supermarkets using a broomstick disguised as a gun. The man reportedly assaulted supermarket supermarket staff and customers while demanding money and valuables. After a long investigation, the police managed to track him down and bring charges against him for his<mask> activities.<mask> \"broomstick<mask> saga captivated the nation and left many stunned by the audacity of his crimes.',\n",
       "  'holding up a string of supermarkets using a broomstick disguised as a gun. The man reportedly attacked both store staff and customers while demanding money and valuables. After a long investigation, the police managed to track him down and bring charges against him for his<mask> activities.<mask> \"broomstick<mask> saga captivated the nation and left many stunned by the audacity of his crimes.',\n",
       "  'holding up a string of supermarkets using a broomstick disguised as a gun. The man reportedly attacked both the staff and customers while demanding money and valuables. After a long investigation, the police managed to track him down and bring charges against him for his<mask> activities.<mask> \"broomstick<mask> saga captivated the nation and left many stunned by the audacity of his crimes.',\n",
       "  'holding up a string of supermarkets using a broomstick disguised as a gun. The man reportedly attacked both supermarket staff and customers while demanding money and valuables. After a long investigation, the police managed to track him down and bring charges against him for his<mask> activities.<mask> \"broomstick<mask> saga captivated the nation and left many stunned by the audacity of his crimes.',\n",
       "  'holding up a string of supermarkets using a broomstick disguised as a gun. The man reportedly attacked both store staff and customers while demanding money and valuables. After a long investigation, the police managed to track him down and bring charges against him for his<mask> activities.<mask> \"broomstick<mask> saga captivated the nation and left many stunned by the audacity of his crimes.',\n",
       "  'holding up a string of supermarkets using a broomstick disguised as a gun. The man reportedly attacked both the staff and customers while demanding money and valuables. After a long investigation, the police managed to track him down and bring charges against him for his<mask> activities.<mask> \"broomstick<mask> saga captivated the nation and left many stunned by the audacity of his crimes.',\n",
       "  'holding up a string of supermarkets using a broomstick disguised as a gun. The man reportedly threatened the supermarket staff and customers while demanding money and valuables. After a long investigation, the police managed to track him down and bring charges against him for his<mask> activities.<mask> \"broomstick<mask> saga captivated the nation and left many stunned by the audacity of his crimes.',\n",
       "  'holding up a string of supermarkets using a broomstick disguised as a gun. The man reportedly attacked both store staff and customers while demanding money and valuables. After a long investigation, the police managed to track him down and bring charges against him for his<mask> activities.<mask> \"broomstick<mask> saga captivated the nation and left many stunned by the audacity of his crimes.',\n",
       "  'holding up a string of supermarkets using a broomstick disguised as a gun. The man reportedly assaulted supermarket the staff and customers while demanding money and valuables. After a long investigation, the police managed to track him down and bring charges against him for his<mask> activities.<mask> \"broomstick<mask> saga captivated the nation and left many stunned by the audacity of his crimes.',\n",
       "  'holding up a string of supermarkets using a broomstick disguised as a gun. The man reportedly assaulted store supermarket staff and customers while demanding money and valuables. After a long investigation, the police managed to track him down and bring charges against him for his<mask> activities.<mask> \"broomstick<mask> saga captivated the nation and left many stunned by the audacity of his crimes.',\n",
       "  'holding up a string of supermarkets using a broomstick disguised as a gun. The man reportedly assaulted supermarket store staff and customers while demanding money and valuables. After a long investigation, the police managed to track him down and bring charges against him for his<mask> activities.<mask> \"broomstick<mask> saga captivated the nation and left many stunned by the audacity of his crimes.',\n",
       "  'holding up a string of supermarkets using a broomstick disguised as a gun. The man reportedly attacked both the staff and customers while demanding money and valuables. After a long investigation, the police managed to track him down and bring charges against him for his<mask> activities.<mask> \"broomstick<mask> saga captivated the nation and left many stunned by the audacity of his crimes.',\n",
       "  'holding up a string of supermarkets using a broomstick disguised as a gun. The man reportedly attacked both supermarket staff and customers while demanding money and valuables. After a long investigation, the police managed to track him down and bring charges against him for his<mask> activities.<mask> \"broomstick<mask> saga captivated the nation and left many stunned by the audacity of his crimes.',\n",
       "  'holding up a string of supermarkets using a broomstick disguised as a gun. The man reportedly attacked both store staff and customers while demanding money and valuables. After a long investigation, the police managed to track him down and bring charges against him for his<mask> activities.<mask> \"broomstick<mask> saga captivated the nation and left many stunned by the audacity of his crimes.',\n",
       "  'holding up a string of supermarkets using a broomstick disguised as a gun. The man reportedly attacked both store staff and customers while demanding money and valuables. After a long investigation, the police managed to track him down and bring charges against him for his<mask> activities.<mask> \"broomstick<mask> saga captivated the nation and left many stunned by the audacity of his crimes.',\n",
       "  'holding up a string of supermarkets using a broomstick disguised as a gun. The man reportedly attacked both supermarket staff and customers while demanding money and valuables. After a long investigation, the police managed to track him down and bring charges against him for his<mask> activities.<mask> \"broomstick<mask> saga captivated the nation and left many stunned by the audacity of his crimes.',\n",
       "  'holding up a string of supermarkets using a broomstick disguised as a gun. The man reportedly threatened the shop staff and customers while demanding money and valuables. After a long investigation, the police managed to track him down and bring charges against him for his<mask> activities.<mask> \"broomstick<mask> saga captivated the nation and left many stunned by the audacity of his crimes.'],\n",
       " ['holding up a string of supermarkets using a broomstick disguised as a gun. The man reportedly attacked both the supermarket staff and customers while demanding money and valuables. After a long investigation, the police managed to track him down and bring charges against him for his<mask> activities.<mask> \"broomstick<mask> saga captivated the nation and left many stunned by the audacity of his crimes.',\n",
       "  'holding up a string of supermarkets using a broomstick disguised as a gun. The man reportedly attacked both store store staff and customers while demanding money and valuables. After a long investigation, the police managed to track him down and bring charges against him for his<mask> activities.<mask> \"broomstick<mask> saga captivated the nation and left many stunned by the audacity of his crimes.',\n",
       "  'holding up a string of supermarkets using a broomstick disguised as a gun. The man reportedly attacked both sales shop staff and customers while demanding money and valuables. After a long investigation, the police managed to track him down and bring charges against him for his<mask> activities.<mask> \"broomstick<mask> saga captivated the nation and left many stunned by the audacity of his crimes.',\n",
       "  'holding up a string of supermarkets using a broomstick disguised as a gun. The man reportedly assaulted store supermarket\\'s staff and customers while demanding money and valuables. After a long investigation, the police managed to track him down and bring charges against him for his<mask> activities.<mask> \"broomstick<mask> saga captivated the nation and left many stunned by the audacity of his crimes.',\n",
       "  'holding up a string of supermarkets using a broomstick disguised as a gun. The man reportedly assaulted supermarket store security staff and customers while demanding money and valuables. After a long investigation, the police managed to track him down and bring charges against him for his<mask> activities.<mask> \"broomstick<mask> saga captivated the nation and left many stunned by the audacity of his crimes.',\n",
       "  'holding up a string of supermarkets using a broomstick disguised as a gun. The man reportedly assaulted supermarket store management staff and customers while demanding money and valuables. After a long investigation, the police managed to track him down and bring charges against him for his<mask> activities.<mask> \"broomstick<mask> saga captivated the nation and left many stunned by the audacity of his crimes.',\n",
       "  'holding up a string of supermarkets using a broomstick disguised as a gun. The man reportedly attacked both store floor staff and customers while demanding money and valuables. After a long investigation, the police managed to track him down and bring charges against him for his<mask> activities.<mask> \"broomstick<mask> saga captivated the nation and left many stunned by the audacity of his crimes.',\n",
       "  'holding up a string of supermarkets using a broomstick disguised as a gun. The man reportedly attacked both supermarket counter staff and customers while demanding money and valuables. After a long investigation, the police managed to track him down and bring charges against him for his<mask> activities.<mask> \"broomstick<mask> saga captivated the nation and left many stunned by the audacity of his crimes.',\n",
       "  'holding up a string of supermarkets using a broomstick disguised as a gun. The man reportedly assaulted store supermarket\\' staff and customers while demanding money and valuables. After a long investigation, the police managed to track him down and bring charges against him for his<mask> activities.<mask> \"broomstick<mask> saga captivated the nation and left many stunned by the audacity of his crimes.',\n",
       "  'holding up a string of supermarkets using a broomstick disguised as a gun. The man reportedly attacked both supermarket\\'s staff and customers while demanding money and valuables. After a long investigation, the police managed to track him down and bring charges against him for his<mask> activities.<mask> \"broomstick<mask> saga captivated the nation and left many stunned by the audacity of his crimes.',\n",
       "  'holding up a string of supermarkets using a broomstick disguised as a gun. The man reportedly attacked both the store staff and customers while demanding money and valuables. After a long investigation, the police managed to track him down and bring charges against him for his<mask> activities.<mask> \"broomstick<mask> saga captivated the nation and left many stunned by the audacity of his crimes.',\n",
       "  'holding up a string of supermarkets using a broomstick disguised as a gun. The man reportedly attacked both store security staff and customers while demanding money and valuables. After a long investigation, the police managed to track him down and bring charges against him for his<mask> activities.<mask> \"broomstick<mask> saga captivated the nation and left many stunned by the audacity of his crimes.',\n",
       "  'holding up a string of supermarkets using a broomstick disguised as a gun. The man reportedly attacked both sales\\'s staff and customers while demanding money and valuables. After a long investigation, the police managed to track him down and bring charges against him for his<mask> activities.<mask> \"broomstick<mask> saga captivated the nation and left many stunned by the audacity of his crimes.',\n",
       "  'holding up a string of supermarkets using a broomstick disguised as a gun. The man reportedly assaulted store supermarket security staff and customers while demanding money and valuables. After a long investigation, the police managed to track him down and bring charges against him for his<mask> activities.<mask> \"broomstick<mask> saga captivated the nation and left many stunned by the audacity of his crimes.',\n",
       "  'holding up a string of supermarkets using a broomstick disguised as a gun. The man reportedly assaulted supermarket store management staff and customers while demanding money and valuables. After a long investigation, the police managed to track him down and bring charges against him for his<mask> activities.<mask> \"broomstick<mask> saga captivated the nation and left many stunned by the audacity of his crimes.',\n",
       "  'holding up a string of supermarkets using a broomstick disguised as a gun. The man reportedly assaulted supermarket store\\'s staff and customers while demanding money and valuables. After a long investigation, the police managed to track him down and bring charges against him for his<mask> activities.<mask> \"broomstick<mask> saga captivated the nation and left many stunned by the audacity of his crimes.',\n",
       "  'holding up a string of supermarkets using a broomstick disguised as a gun. The man reportedly attacked both store security staff and customers while demanding money and valuables. After a long investigation, the police managed to track him down and bring charges against him for his<mask> activities.<mask> \"broomstick<mask> saga captivated the nation and left many stunned by the audacity of his crimes.',\n",
       "  'holding up a string of supermarkets using a broomstick disguised as a gun. The man reportedly attacked both supermarket management staff and customers while demanding money and valuables. After a long investigation, the police managed to track him down and bring charges against him for his<mask> activities.<mask> \"broomstick<mask> saga captivated the nation and left many stunned by the audacity of his crimes.',\n",
       "  'holding up a string of supermarkets using a broomstick disguised as a gun. The man reportedly assaulted store supermarket\\'s staff and customers while demanding money and valuables. After a long investigation, the police managed to track him down and bring charges against him for his<mask> activities.<mask> \"broomstick<mask> saga captivated the nation and left many stunned by the audacity of his crimes.',\n",
       "  'holding up a string of supermarkets using a broomstick disguised as a gun. The man reportedly attacked both supermarket security staff and customers while demanding money and valuables. After a long investigation, the police managed to track him down and bring charges against him for his<mask> activities.<mask> \"broomstick<mask> saga captivated the nation and left many stunned by the audacity of his crimes.',\n",
       "  'holding up a string of supermarkets using a broomstick disguised as a gun. The man reportedly attacked both the management staff and customers while demanding money and valuables. After a long investigation, the police managed to track him down and bring charges against him for his<mask> activities.<mask> \"broomstick<mask> saga captivated the nation and left many stunned by the audacity of his crimes.',\n",
       "  'holding up a string of supermarkets using a broomstick disguised as a gun. The man reportedly attacked both store\\'s staff and customers while demanding money and valuables. After a long investigation, the police managed to track him down and bring charges against him for his<mask> activities.<mask> \"broomstick<mask> saga captivated the nation and left many stunned by the audacity of his crimes.',\n",
       "  'holding up a string of supermarkets using a broomstick disguised as a gun. The man reportedly attacked both sales security staff and customers while demanding money and valuables. After a long investigation, the police managed to track him down and bring charges against him for his<mask> activities.<mask> \"broomstick<mask> saga captivated the nation and left many stunned by the audacity of his crimes.',\n",
       "  'holding up a string of supermarkets using a broomstick disguised as a gun. The man reportedly assaulted store supermarket sales staff and customers while demanding money and valuables. After a long investigation, the police managed to track him down and bring charges against him for his<mask> activities.<mask> \"broomstick<mask> saga captivated the nation and left many stunned by the audacity of his crimes.',\n",
       "  'holding up a string of supermarkets using a broomstick disguised as a gun. The man reportedly assaulted supermarket store\\'s staff and customers while demanding money and valuables. After a long investigation, the police managed to track him down and bring charges against him for his<mask> activities.<mask> \"broomstick<mask> saga captivated the nation and left many stunned by the audacity of his crimes.',\n",
       "  'holding up a string of supermarkets using a broomstick disguised as a gun. The man reportedly assaulted supermarket store store staff and customers while demanding money and valuables. After a long investigation, the police managed to track him down and bring charges against him for his<mask> activities.<mask> \"broomstick<mask> saga captivated the nation and left many stunned by the audacity of his crimes.',\n",
       "  'holding up a string of supermarkets using a broomstick disguised as a gun. The man reportedly attacked both store security staff and customers while demanding money and valuables. After a long investigation, the police managed to track him down and bring charges against him for his<mask> activities.<mask> \"broomstick<mask> saga captivated the nation and left many stunned by the audacity of his crimes.',\n",
       "  'holding up a string of supermarkets using a broomstick disguised as a gun. The man reportedly attacked both supermarket\\'s staff and customers while demanding money and valuables. After a long investigation, the police managed to track him down and bring charges against him for his<mask> activities.<mask> \"broomstick<mask> saga captivated the nation and left many stunned by the audacity of his crimes.',\n",
       "  'holding up a string of supermarkets using a broomstick disguised as a gun. The man reportedly assaulted store supermarket security staff and customers while demanding money and valuables. After a long investigation, the police managed to track him down and bring charges against him for his<mask> activities.<mask> \"broomstick<mask> saga captivated the nation and left many stunned by the audacity of his crimes.',\n",
       "  'holding up a string of supermarkets using a broomstick disguised as a gun. The man reportedly attacked both supermarket sales staff and customers while demanding money and valuables. After a long investigation, the police managed to track him down and bring charges against him for his<mask> activities.<mask> \"broomstick<mask> saga captivated the nation and left many stunned by the audacity of his crimes.'],\n",
       " ['holding up a string of supermarkets using a broomstick disguised as a gun. The man reportedly attacked both sales security, staff and customers while demanding money and valuables. After a long investigation, the police managed to track him down and bring charges against him for his<mask> activities.<mask> \"broomstick<mask> saga captivated the nation and left many stunned by the audacity of his crimes.',\n",
       "  'holding up a string of supermarkets using a broomstick disguised as a gun. The man reportedly assaulted store supermarket security and staff and customers while demanding money and valuables. After a long investigation, the police managed to track him down and bring charges against him for his<mask> activities.<mask> \"broomstick<mask> saga captivated the nation and left many stunned by the audacity of his crimes.',\n",
       "  'holding up a string of supermarkets using a broomstick disguised as a gun. The man reportedly assaulted supermarket store\\'s office staff and customers while demanding money and valuables. After a long investigation, the police managed to track him down and bring charges against him for his<mask> activities.<mask> \"broomstick<mask> saga captivated the nation and left many stunned by the audacity of his crimes.',\n",
       "  'holding up a string of supermarkets using a broomstick disguised as a gun. The man reportedly assaulted store supermarket security, staff and customers while demanding money and valuables. After a long investigation, the police managed to track him down and bring charges against him for his<mask> activities.<mask> \"broomstick<mask> saga captivated the nation and left many stunned by the audacity of his crimes.',\n",
       "  'holding up a string of supermarkets using a broomstick disguised as a gun. The man reportedly assaulted store supermarket sales and staff and customers while demanding money and valuables. After a long investigation, the police managed to track him down and bring charges against him for his<mask> activities.<mask> \"broomstick<mask> saga captivated the nation and left many stunned by the audacity of his crimes.',\n",
       "  'holding up a string of supermarkets using a broomstick disguised as a gun. The man reportedly attacked both the management guard staff and customers while demanding money and valuables. After a long investigation, the police managed to track him down and bring charges against him for his<mask> activities.<mask> \"broomstick<mask> saga captivated the nation and left many stunned by the audacity of his crimes.',\n",
       "  'holding up a string of supermarkets using a broomstick disguised as a gun. The man reportedly assaulted supermarket store management security staff and customers while demanding money and valuables. After a long investigation, the police managed to track him down and bring charges against him for his<mask> activities.<mask> \"broomstick<mask> saga captivated the nation and left many stunned by the audacity of his crimes.',\n",
       "  'holding up a string of supermarkets using a broomstick disguised as a gun. The man reportedly attacked both the supermarket\\' staff and customers while demanding money and valuables. After a long investigation, the police managed to track him down and bring charges against him for his<mask> activities.<mask> \"broomstick<mask> saga captivated the nation and left many stunned by the audacity of his crimes.',\n",
       "  'holding up a string of supermarkets using a broomstick disguised as a gun. The man reportedly attacked both store store, staff and customers while demanding money and valuables. After a long investigation, the police managed to track him down and bring charges against him for his<mask> activities.<mask> \"broomstick<mask> saga captivated the nation and left many stunned by the audacity of his crimes.',\n",
       "  'holding up a string of supermarkets using a broomstick disguised as a gun. The man reportedly attacked both store security, staff and customers while demanding money and valuables. After a long investigation, the police managed to track him down and bring charges against him for his<mask> activities.<mask> \"broomstick<mask> saga captivated the nation and left many stunned by the audacity of his crimes.',\n",
       "  'holding up a string of supermarkets using a broomstick disguised as a gun. The man reportedly attacked both sales security and staff and customers while demanding money and valuables. After a long investigation, the police managed to track him down and bring charges against him for his<mask> activities.<mask> \"broomstick<mask> saga captivated the nation and left many stunned by the audacity of his crimes.',\n",
       "  'holding up a string of supermarkets using a broomstick disguised as a gun. The man reportedly assaulted store supermarket security guard staff and customers while demanding money and valuables. After a long investigation, the police managed to track him down and bring charges against him for his<mask> activities.<mask> \"broomstick<mask> saga captivated the nation and left many stunned by the audacity of his crimes.',\n",
       "  'holding up a string of supermarkets using a broomstick disguised as a gun. The man reportedly assaulted supermarket store\\'s, staff and customers while demanding money and valuables. After a long investigation, the police managed to track him down and bring charges against him for his<mask> activities.<mask> \"broomstick<mask> saga captivated the nation and left many stunned by the audacity of his crimes.',\n",
       "  'holding up a string of supermarkets using a broomstick disguised as a gun. The man reportedly assaulted store supermarket security counter staff and customers while demanding money and valuables. After a long investigation, the police managed to track him down and bring charges against him for his<mask> activities.<mask> \"broomstick<mask> saga captivated the nation and left many stunned by the audacity of his crimes.',\n",
       "  'holding up a string of supermarkets using a broomstick disguised as a gun. The man reportedly assaulted store supermarket sales floor staff and customers while demanding money and valuables. After a long investigation, the police managed to track him down and bring charges against him for his<mask> activities.<mask> \"broomstick<mask> saga captivated the nation and left many stunned by the audacity of his crimes.',\n",
       "  'holding up a string of supermarkets using a broomstick disguised as a gun. The man reportedly attacked both the management, staff and customers while demanding money and valuables. After a long investigation, the police managed to track him down and bring charges against him for his<mask> activities.<mask> \"broomstick<mask> saga captivated the nation and left many stunned by the audacity of his crimes.',\n",
       "  'holding up a string of supermarkets using a broomstick disguised as a gun. The man reportedly assaulted supermarket store management and staff and customers while demanding money and valuables. After a long investigation, the police managed to track him down and bring charges against him for his<mask> activities.<mask> \"broomstick<mask> saga captivated the nation and left many stunned by the audacity of his crimes.',\n",
       "  'holding up a string of supermarkets using a broomstick disguised as a gun. The man reportedly attacked both the supermarket\\'s staff and customers while demanding money and valuables. After a long investigation, the police managed to track him down and bring charges against him for his<mask> activities.<mask> \"broomstick<mask> saga captivated the nation and left many stunned by the audacity of his crimes.',\n",
       "  'holding up a string of supermarkets using a broomstick disguised as a gun. The man reportedly attacked both store store, staff and customers while demanding money and valuables. After a long investigation, the police managed to track him down and bring charges against him for his<mask> activities.<mask> \"broomstick<mask> saga captivated the nation and left many stunned by the audacity of his crimes.',\n",
       "  'holding up a string of supermarkets using a broomstick disguised as a gun. The man reportedly attacked both store security and staff and customers while demanding money and valuables. After a long investigation, the police managed to track him down and bring charges against him for his<mask> activities.<mask> \"broomstick<mask> saga captivated the nation and left many stunned by the audacity of his crimes.',\n",
       "  'holding up a string of supermarkets using a broomstick disguised as a gun. The man reportedly attacked both sales security including staff and customers while demanding money and valuables. After a long investigation, the police managed to track him down and bring charges against him for his<mask> activities.<mask> \"broomstick<mask> saga captivated the nation and left many stunned by the audacity of his crimes.',\n",
       "  'holding up a string of supermarkets using a broomstick disguised as a gun. The man reportedly assaulted store supermarket security\\'s staff and customers while demanding money and valuables. After a long investigation, the police managed to track him down and bring charges against him for his<mask> activities.<mask> \"broomstick<mask> saga captivated the nation and left many stunned by the audacity of his crimes.',\n",
       "  'holding up a string of supermarkets using a broomstick disguised as a gun. The man reportedly assaulted supermarket store\\'s security staff and customers while demanding money and valuables. After a long investigation, the police managed to track him down and bring charges against him for his<mask> activities.<mask> \"broomstick<mask> saga captivated the nation and left many stunned by the audacity of his crimes.',\n",
       "  'holding up a string of supermarkets using a broomstick disguised as a gun. The man reportedly assaulted store supermarket security store staff and customers while demanding money and valuables. After a long investigation, the police managed to track him down and bring charges against him for his<mask> activities.<mask> \"broomstick<mask> saga captivated the nation and left many stunned by the audacity of his crimes.',\n",
       "  'holding up a string of supermarkets using a broomstick disguised as a gun. The man reportedly assaulted store supermarket sales store staff and customers while demanding money and valuables. After a long investigation, the police managed to track him down and bring charges against him for his<mask> activities.<mask> \"broomstick<mask> saga captivated the nation and left many stunned by the audacity of his crimes.',\n",
       "  'holding up a string of supermarkets using a broomstick disguised as a gun. The man reportedly attacked both the management\\'s staff and customers while demanding money and valuables. After a long investigation, the police managed to track him down and bring charges against him for his<mask> activities.<mask> \"broomstick<mask> saga captivated the nation and left many stunned by the audacity of his crimes.',\n",
       "  'holding up a string of supermarkets using a broomstick disguised as a gun. The man reportedly assaulted supermarket store management security staff and customers while demanding money and valuables. After a long investigation, the police managed to track him down and bring charges against him for his<mask> activities.<mask> \"broomstick<mask> saga captivated the nation and left many stunned by the audacity of his crimes.',\n",
       "  'holding up a string of supermarkets using a broomstick disguised as a gun. The man reportedly attacked both the supermarket, staff and customers while demanding money and valuables. After a long investigation, the police managed to track him down and bring charges against him for his<mask> activities.<mask> \"broomstick<mask> saga captivated the nation and left many stunned by the audacity of his crimes.',\n",
       "  'holding up a string of supermarkets using a broomstick disguised as a gun. The man reportedly attacked both store store and staff and customers while demanding money and valuables. After a long investigation, the police managed to track him down and bring charges against him for his<mask> activities.<mask> \"broomstick<mask> saga captivated the nation and left many stunned by the audacity of his crimes.',\n",
       "  'holding up a string of supermarkets using a broomstick disguised as a gun. The man reportedly attacked both store security guard staff and customers while demanding money and valuables. After a long investigation, the police managed to track him down and bring charges against him for his<mask> activities.<mask> \"broomstick<mask> saga captivated the nation and left many stunned by the audacity of his crimes.'],\n",
       " ['holding up a string of supermarkets using a broomstick disguised as a gun. The man reportedly attacked both the supermarket\\'s security staff and customers while demanding money and valuables. After a long investigation, the police managed to track him down and bring charges against him for his<mask> activities.<mask> \"broomstick<mask> saga captivated the nation and left many stunned by the audacity of his crimes.',\n",
       "  'holding up a string of supermarkets using a broomstick disguised as a gun. The man reportedly assaulted supermarket store\\'s office female staff and customers while demanding money and valuables. After a long investigation, the police managed to track him down and bring charges against him for his<mask> activities.<mask> \"broomstick<mask> saga captivated the nation and left many stunned by the audacity of his crimes.',\n",
       "  'holding up a string of supermarkets using a broomstick disguised as a gun. The man reportedly attacked both the supermarket\\'s cleaning staff and customers while demanding money and valuables. After a long investigation, the police managed to track him down and bring charges against him for his<mask> activities.<mask> \"broomstick<mask> saga captivated the nation and left many stunned by the audacity of his crimes.',\n",
       "  'holding up a string of supermarkets using a broomstick disguised as a gun. The man reportedly attacked both the management,, staff and customers while demanding money and valuables. After a long investigation, the police managed to track him down and bring charges against him for his<mask> activities.<mask> \"broomstick<mask> saga captivated the nation and left many stunned by the audacity of his crimes.',\n",
       "  'holding up a string of supermarkets using a broomstick disguised as a gun. The man reportedly attacked both store store,\\'s staff and customers while demanding money and valuables. After a long investigation, the police managed to track him down and bring charges against him for his<mask> activities.<mask> \"broomstick<mask> saga captivated the nation and left many stunned by the audacity of his crimes.',\n",
       "  'holding up a string of supermarkets using a broomstick disguised as a gun. The man reportedly assaulted supermarket store\\'s office and staff and customers while demanding money and valuables. After a long investigation, the police managed to track him down and bring charges against him for his<mask> activities.<mask> \"broomstick<mask> saga captivated the nation and left many stunned by the audacity of his crimes.',\n",
       "  'holding up a string of supermarkets using a broomstick disguised as a gun. The man reportedly assaulted store supermarket security counter security staff and customers while demanding money and valuables. After a long investigation, the police managed to track him down and bring charges against him for his<mask> activities.<mask> \"broomstick<mask> saga captivated the nation and left many stunned by the audacity of his crimes.',\n",
       "  'holding up a string of supermarkets using a broomstick disguised as a gun. The man reportedly assaulted store supermarket security, female staff and customers while demanding money and valuables. After a long investigation, the police managed to track him down and bring charges against him for his<mask> activities.<mask> \"broomstick<mask> saga captivated the nation and left many stunned by the audacity of his crimes.',\n",
       "  'holding up a string of supermarkets using a broomstick disguised as a gun. The man reportedly assaulted store supermarket sales floor cleaning staff and customers while demanding money and valuables. After a long investigation, the police managed to track him down and bring charges against him for his<mask> activities.<mask> \"broomstick<mask> saga captivated the nation and left many stunned by the audacity of his crimes.',\n",
       "  'holding up a string of supermarkets using a broomstick disguised as a gun. The man reportedly attacked both the management guard the staff and customers while demanding money and valuables. After a long investigation, the police managed to track him down and bring charges against him for his<mask> activities.<mask> \"broomstick<mask> saga captivated the nation and left many stunned by the audacity of his crimes.',\n",
       "  'holding up a string of supermarkets using a broomstick disguised as a gun. The man reportedly attacked both the supermarket\\'s shop staff and customers while demanding money and valuables. After a long investigation, the police managed to track him down and bring charges against him for his<mask> activities.<mask> \"broomstick<mask> saga captivated the nation and left many stunned by the audacity of his crimes.',\n",
       "  'holding up a string of supermarkets using a broomstick disguised as a gun. The man reportedly assaulted supermarket store\\'s office store staff and customers while demanding money and valuables. After a long investigation, the police managed to track him down and bring charges against him for his<mask> activities.<mask> \"broomstick<mask> saga captivated the nation and left many stunned by the audacity of his crimes.',\n",
       "  'holding up a string of supermarkets using a broomstick disguised as a gun. The man reportedly attacked both the supermarket\\'s the staff and customers while demanding money and valuables. After a long investigation, the police managed to track him down and bring charges against him for his<mask> activities.<mask> \"broomstick<mask> saga captivated the nation and left many stunned by the audacity of his crimes.',\n",
       "  'holding up a string of supermarkets using a broomstick disguised as a gun. The man reportedly attacked both the management, store staff and customers while demanding money and valuables. After a long investigation, the police managed to track him down and bring charges against him for his<mask> activities.<mask> \"broomstick<mask> saga captivated the nation and left many stunned by the audacity of his crimes.',\n",
       "  'holding up a string of supermarkets using a broomstick disguised as a gun. The man reportedly attacked both store store, security staff and customers while demanding money and valuables. After a long investigation, the police managed to track him down and bring charges against him for his<mask> activities.<mask> \"broomstick<mask> saga captivated the nation and left many stunned by the audacity of his crimes.',\n",
       "  'holding up a string of supermarkets using a broomstick disguised as a gun. The man reportedly assaulted supermarket store\\'s office, staff and customers while demanding money and valuables. After a long investigation, the police managed to track him down and bring charges against him for his<mask> activities.<mask> \"broomstick<mask> saga captivated the nation and left many stunned by the audacity of his crimes.',\n",
       "  'holding up a string of supermarkets using a broomstick disguised as a gun. The man reportedly assaulted store supermarket security counter\\'s staff and customers while demanding money and valuables. After a long investigation, the police managed to track him down and bring charges against him for his<mask> activities.<mask> \"broomstick<mask> saga captivated the nation and left many stunned by the audacity of his crimes.',\n",
       "  'holding up a string of supermarkets using a broomstick disguised as a gun. The man reportedly assaulted store supermarket security, and staff and customers while demanding money and valuables. After a long investigation, the police managed to track him down and bring charges against him for his<mask> activities.<mask> \"broomstick<mask> saga captivated the nation and left many stunned by the audacity of his crimes.',\n",
       "  'holding up a string of supermarkets using a broomstick disguised as a gun. The man reportedly assaulted store supermarket sales floor, staff and customers while demanding money and valuables. After a long investigation, the police managed to track him down and bring charges against him for his<mask> activities.<mask> \"broomstick<mask> saga captivated the nation and left many stunned by the audacity of his crimes.',\n",
       "  'holding up a string of supermarkets using a broomstick disguised as a gun. The man reportedly attacked both the management guard service staff and customers while demanding money and valuables. After a long investigation, the police managed to track him down and bring charges against him for his<mask> activities.<mask> \"broomstick<mask> saga captivated the nation and left many stunned by the audacity of his crimes.',\n",
       "  'holding up a string of supermarkets using a broomstick disguised as a gun. The man reportedly attacked both the supermarket\\'s checkout staff and customers while demanding money and valuables. After a long investigation, the police managed to track him down and bring charges against him for his<mask> activities.<mask> \"broomstick<mask> saga captivated the nation and left many stunned by the audacity of his crimes.',\n",
       "  'holding up a string of supermarkets using a broomstick disguised as a gun. The man reportedly assaulted supermarket store\\'s office store staff and customers while demanding money and valuables. After a long investigation, the police managed to track him down and bring charges against him for his<mask> activities.<mask> \"broomstick<mask> saga captivated the nation and left many stunned by the audacity of his crimes.',\n",
       "  'holding up a string of supermarkets using a broomstick disguised as a gun. The man reportedly attacked both the supermarket\\'s sales staff and customers while demanding money and valuables. After a long investigation, the police managed to track him down and bring charges against him for his<mask> activities.<mask> \"broomstick<mask> saga captivated the nation and left many stunned by the audacity of his crimes.',\n",
       "  'holding up a string of supermarkets using a broomstick disguised as a gun. The man reportedly attacked both the management, female staff and customers while demanding money and valuables. After a long investigation, the police managed to track him down and bring charges against him for his<mask> activities.<mask> \"broomstick<mask> saga captivated the nation and left many stunned by the audacity of his crimes.',\n",
       "  'holding up a string of supermarkets using a broomstick disguised as a gun. The man reportedly attacked both store store,, staff and customers while demanding money and valuables. After a long investigation, the police managed to track him down and bring charges against him for his<mask> activities.<mask> \"broomstick<mask> saga captivated the nation and left many stunned by the audacity of his crimes.',\n",
       "  'holding up a string of supermarkets using a broomstick disguised as a gun. The man reportedly assaulted supermarket store\\'s office sales staff and customers while demanding money and valuables. After a long investigation, the police managed to track him down and bring charges against him for his<mask> activities.<mask> \"broomstick<mask> saga captivated the nation and left many stunned by the audacity of his crimes.',\n",
       "  'holding up a string of supermarkets using a broomstick disguised as a gun. The man reportedly assaulted store supermarket security counter service staff and customers while demanding money and valuables. After a long investigation, the police managed to track him down and bring charges against him for his<mask> activities.<mask> \"broomstick<mask> saga captivated the nation and left many stunned by the audacity of his crimes.',\n",
       "  'holding up a string of supermarkets using a broomstick disguised as a gun. The man reportedly assaulted store supermarket security,, staff and customers while demanding money and valuables. After a long investigation, the police managed to track him down and bring charges against him for his<mask> activities.<mask> \"broomstick<mask> saga captivated the nation and left many stunned by the audacity of his crimes.',\n",
       "  'holding up a string of supermarkets using a broomstick disguised as a gun. The man reportedly assaulted store supermarket sales floor and staff and customers while demanding money and valuables. After a long investigation, the police managed to track him down and bring charges against him for his<mask> activities.<mask> \"broomstick<mask> saga captivated the nation and left many stunned by the audacity of his crimes.',\n",
       "  'holding up a string of supermarkets using a broomstick disguised as a gun. The man reportedly attacked both the management guard the staff and customers while demanding money and valuables. After a long investigation, the police managed to track him down and bring charges against him for his<mask> activities.<mask> \"broomstick<mask> saga captivated the nation and left many stunned by the audacity of his crimes.']]"
      ]
     },
     "execution_count": 220,
     "metadata": {},
     "output_type": "execute_result"
    }
   ],
   "source": [
    "[mlm_tokenizer.batch_decode(x) for x in comprehensive_hypotheses]"
   ]
  },
  {
   "cell_type": "code",
   "execution_count": 178,
   "metadata": {},
   "outputs": [
    {
     "data": {
      "text/plain": [
       "['holding up a string of supermarkets using a broomstick disguised as a gun. The man reportedly threatened the<mask> staff and customers while demanding money and valuables. After a long investigation, the police managed to track him down and bring charges against him for his<mask> activities.<mask> \"broomstick<mask> saga captivated the nation and left many stunned by the audacity of his crimes.',\n",
       " 'holding up a string of supermarkets using a broomstick disguised as a gun. The man reportedly attacked both<mask> staff and customers while demanding money and valuables. After a long investigation, the police managed to track him down and bring charges against him for his<mask> activities.<mask> \"broomstick<mask> saga captivated the nation and left many stunned by the audacity of his crimes.',\n",
       " 'holding up a string of supermarkets using a broomstick disguised as a gun. The man reportedly assaulted store<mask> staff and customers while demanding money and valuables. After a long investigation, the police managed to track him down and bring charges against him for his<mask> activities.<mask> \"broomstick<mask> saga captivated the nation and left many stunned by the audacity of his crimes.',\n",
       " 'holding up a string of supermarkets using a broomstick disguised as a gun. The man reportedly threatened the<mask> staff and customers while demanding money and valuables. After a long investigation, the police managed to track him down and bring charges against him for his<mask> activities.<mask> \"broomstick<mask> saga captivated the nation and left many stunned by the audacity of his crimes.',\n",
       " 'holding up a string of supermarkets using a broomstick disguised as a gun. The man reportedly attacked both<mask> staff and customers while demanding money and valuables. After a long investigation, the police managed to track him down and bring charges against him for his<mask> activities.<mask> \"broomstick<mask> saga captivated the nation and left many stunned by the audacity of his crimes.',\n",
       " 'holding up a string of supermarkets using a broomstick disguised as a gun. The man reportedly assaulted supermarket<mask> staff and customers while demanding money and valuables. After a long investigation, the police managed to track him down and bring charges against him for his<mask> activities.<mask> \"broomstick<mask> saga captivated the nation and left many stunned by the audacity of his crimes.',\n",
       " 'holding up a string of supermarkets using a broomstick disguised as a gun. The man reportedly threatened the<mask> staff and customers while demanding money and valuables. After a long investigation, the police managed to track him down and bring charges against him for his<mask> activities.<mask> \"broomstick<mask> saga captivated the nation and left many stunned by the audacity of his crimes.',\n",
       " 'holding up a string of supermarkets using a broomstick disguised as a gun. The man reportedly attacked both<mask> staff and customers while demanding money and valuables. After a long investigation, the police managed to track him down and bring charges against him for his<mask> activities.<mask> \"broomstick<mask> saga captivated the nation and left many stunned by the audacity of his crimes.',\n",
       " 'holding up a string of supermarkets using a broomstick disguised as a gun. The man reportedly assaulted supermarket<mask> staff and customers while demanding money and valuables. After a long investigation, the police managed to track him down and bring charges against him for his<mask> activities.<mask> \"broomstick<mask> saga captivated the nation and left many stunned by the audacity of his crimes.']"
      ]
     },
     "execution_count": 178,
     "metadata": {},
     "output_type": "execute_result"
    }
   ],
   "source": [
    "mlm_tokenizer.batch_decode(hypotheses_2)"
   ]
  },
  {
   "cell_type": "code",
   "execution_count": 112,
   "metadata": {},
   "outputs": [
    {
     "data": {
      "text/plain": [
       "\"<mask><mask> know can actually hurt us.<mask><mask><mask> can lead to<mask><mask><mask> missed opportunities, and even dangerous situations. It's important to seek knowledge and be open to learning in order to avoid unnecessary harm or mistakes. Remember, sometimes the things we don't know are exactly what we need to discover to grow and make better choices in the future.\""
      ]
     },
     "execution_count": 112,
     "metadata": {},
     "output_type": "execute_result"
    }
   ],
   "source": [
    "test_sent"
   ]
  },
  {
   "cell_type": "code",
   "execution_count": 111,
   "metadata": {},
   "outputs": [
    {
     "data": {
      "text/plain": [
       "[\"<s> alreadyWe<mask> know can actually hurt us.<mask> can lead to<mask> missed opportunities, and even dangerous situations. It's important to seek knowledge and be open to learning in order to avoid unnecessary harm or mistakes. Remember, sometimes the things we don't know are exactly what we need to discover to grow and make better choices in the future.</s>\",\n",
       " \"<s> doKnowing<mask> know can actually hurt us.<mask> can lead to<mask> missed opportunities, and even dangerous situations. It's important to seek knowledge and be open to learning in order to avoid unnecessary harm or mistakes. Remember, sometimes the things we don't know are exactly what we need to discover to grow and make better choices in the future.</s>\",\n",
       " \"<s> shouldNot<mask> know can actually hurt us.<mask> can lead to<mask> missed opportunities, and even dangerous situations. It's important to seek knowledge and be open to learning in order to avoid unnecessary harm or mistakes. Remember, sometimes the things we don't know are exactly what we need to discover to grow and make better choices in the future.</s>\",\n",
       " \"<s> weWe<mask> know can actually hurt us.<mask> can lead to<mask> missed opportunities, and even dangerous situations. It's important to seek knowledge and be open to learning in order to avoid unnecessary harm or mistakes. Remember, sometimes the things we don't know are exactly what we need to discover to grow and make better choices in the future.</s>\",\n",
       " \"<s> tooKnowing<mask> know can actually hurt us.<mask> can lead to<mask> missed opportunities, and even dangerous situations. It's important to seek knowledge and be open to learning in order to avoid unnecessary harm or mistakes. Remember, sometimes the things we don't know are exactly what we need to discover to grow and make better choices in the future.</s>\",\n",
       " \"<s> youNot<mask> know can actually hurt us.<mask> can lead to<mask> missed opportunities, and even dangerous situations. It's important to seek knowledge and be open to learning in order to avoid unnecessary harm or mistakes. Remember, sometimes the things we don't know are exactly what we need to discover to grow and make better choices in the future.</s>\",\n",
       " \"<s> toWe<mask> know can actually hurt us.<mask> can lead to<mask> missed opportunities, and even dangerous situations. It's important to seek knowledge and be open to learning in order to avoid unnecessary harm or mistakes. Remember, sometimes the things we don't know are exactly what we need to discover to grow and make better choices in the future.</s>\",\n",
       " \"<s> knowingKnowing<mask> know can actually hurt us.<mask> can lead to<mask> missed opportunities, and even dangerous situations. It's important to seek knowledge and be open to learning in order to avoid unnecessary harm or mistakes. Remember, sometimes the things we don't know are exactly what we need to discover to grow and make better choices in the future.</s>\",\n",
       " \"<s> havingNot<mask> know can actually hurt us.<mask> can lead to<mask> missed opportunities, and even dangerous situations. It's important to seek knowledge and be open to learning in order to avoid unnecessary harm or mistakes. Remember, sometimes the things we don't know are exactly what we need to discover to grow and make better choices in the future.</s>\"]"
      ]
     },
     "execution_count": 111,
     "metadata": {},
     "output_type": "execute_result"
    }
   ],
   "source": [
    "mlm_tokenizer.batch_decode(hypotheses_2)"
   ]
  },
  {
   "cell_type": "code",
   "execution_count": 56,
   "metadata": {},
   "outputs": [
    {
     "data": {
      "text/plain": [
       "defaultdict(list,\n",
       "            {0: [<re.Match object; span=(93, 99), match='<mask>'>,\n",
       "              <re.Match object; span=(99, 105), match='<mask>'>],\n",
       "             1: [<re.Match object; span=(265, 271), match='<mask>'>,\n",
       "              <re.Match object; span=(271, 277), match='<mask>'>],\n",
       "             2: [<re.Match object; span=(289, 295), match='<mask>'>],\n",
       "             3: [<re.Match object; span=(307, 313), match='<mask>'>,\n",
       "              <re.Match object; span=(313, 319), match='<mask>'>]})"
      ]
     },
     "execution_count": 56,
     "metadata": {},
     "output_type": "execute_result"
    }
   ],
   "source": [
    "mask_info_dict"
   ]
  },
  {
   "cell_type": "code",
   "execution_count": 44,
   "metadata": {},
   "outputs": [
    {
     "data": {
      "text/plain": [
       "(313, 319)"
      ]
     },
     "execution_count": 44,
     "metadata": {},
     "output_type": "execute_result"
    }
   ],
   "source": [
    "mask.span()"
   ]
  },
  {
   "cell_type": "code",
   "execution_count": 45,
   "metadata": {},
   "outputs": [
    {
     "data": {
      "text/plain": [
       "defaultdict(list,\n",
       "            {0: [<re.Match object; span=(93, 99), match='<mask>'>,\n",
       "              <re.Match object; span=(99, 105), match='<mask>'>,\n",
       "              <re.Match object; span=(265, 271), match='<mask>'>,\n",
       "              <re.Match object; span=(271, 277), match='<mask>'>,\n",
       "              <re.Match object; span=(289, 295), match='<mask>'>,\n",
       "              <re.Match object; span=(307, 313), match='<mask>'>,\n",
       "              <re.Match object; span=(313, 319), match='<mask>'>]})"
      ]
     },
     "execution_count": 45,
     "metadata": {},
     "output_type": "execute_result"
    }
   ],
   "source": [
    "mask_info_dict"
   ]
  },
  {
   "cell_type": "code",
   "execution_count": null,
   "metadata": {},
   "outputs": [],
   "source": []
  }
 ],
 "metadata": {
  "kernelspec": {
   "display_name": "Python 3 (ipykernel)",
   "language": "python",
   "name": "python3"
  },
  "language_info": {
   "codemirror_mode": {
    "name": "ipython",
    "version": 3
   },
   "file_extension": ".py",
   "mimetype": "text/x-python",
   "name": "python",
   "nbconvert_exporter": "python",
   "pygments_lexer": "ipython3",
   "version": "3.8.18"
  }
 },
 "nbformat": 4,
 "nbformat_minor": 2
}
