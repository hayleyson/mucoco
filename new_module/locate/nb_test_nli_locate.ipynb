{
 "cells": [
  {
   "cell_type": "code",
   "execution_count": 1,
   "metadata": {},
   "outputs": [],
   "source": [
    "## nli dataset load\n",
    "## nli model load\n",
    "## locate utils 불러와서, nli model을 backprop했을 때 locate되는 instance 분석 (random 30개)\n",
    "\n",
    "\n",
    "from datasets import load_dataset\n",
    "\n",
    "\n",
    "nli_dataset = load_dataset('stanfordnlp/snli')"
   ]
  },
  {
   "cell_type": "code",
   "execution_count": 2,
   "metadata": {},
   "outputs": [
    {
     "name": "stderr",
     "output_type": "stream",
     "text": [
      "/data/hyeryung/.conda/envs/loc-edit/lib/python3.8/site-packages/transformers/utils/hub.py:127: FutureWarning: Using `TRANSFORMERS_CACHE` is deprecated and will be removed in v5 of Transformers. Use `HF_HOME` instead.\n",
      "  warnings.warn(\n",
      "/data/hyeryung/.conda/envs/loc-edit/lib/python3.8/site-packages/torch/_utils.py:831: UserWarning: TypedStorage is deprecated. It will be removed in the future and UntypedStorage will be the only storage class. This should only matter to you if you are using storages directly.  To access UntypedStorage directly, use tensor.untyped_storage() instead of tensor.storage()\n",
      "  return self.fget.__get__(instance, owner)()\n",
      "Some weights of the model checkpoint at ynie/roberta-large-snli_mnli_fever_anli_R1_R2_R3-nli were not used when initializing RobertaForSequenceClassification: ['roberta.pooler.dense.bias', 'roberta.pooler.dense.weight']\n",
      "- This IS expected if you are initializing RobertaForSequenceClassification from the checkpoint of a model trained on another task or with another architecture (e.g. initializing a BertForSequenceClassification model from a BertForPreTraining model).\n",
      "- This IS NOT expected if you are initializing RobertaForSequenceClassification from the checkpoint of a model that you expect to be exactly identical (initializing a BertForSequenceClassification model from a BertForSequenceClassification model).\n"
     ]
    }
   ],
   "source": [
    "from transformers import AutoModelForSequenceClassification, AutoTokenizer\n",
    "\n",
    "nli_model = AutoModelForSequenceClassification.from_pretrained(\"ynie/roberta-large-snli_mnli_fever_anli_R1_R2_R3-nli\")\n",
    "nli_tokenizer = AutoTokenizer.from_pretrained(\"ynie/roberta-large-snli_mnli_fever_anli_R1_R2_R3-nli\")\n"
   ]
  },
  {
   "cell_type": "code",
   "execution_count": 3,
   "metadata": {},
   "outputs": [],
   "source": [
    "from new_module.locate.new_locate_utils import LocateMachine\n",
    "\n",
    "class Args:\n",
    "    task = 'nli'\n",
    "\n",
    "locator = LocateMachine(nli_model, nli_tokenizer, Args())"
   ]
  },
  {
   "cell_type": "code",
   "execution_count": 4,
   "metadata": {},
   "outputs": [],
   "source": [
    "## get test examples\n",
    "import random\n",
    "\n",
    "contradiction_indexes = [i for i, x in enumerate(nli_dataset['test']['label']) if x == 2]\n",
    "\n",
    "random_indexes = random.sample(contradiction_indexes, 30)\n",
    "\n",
    "test_examples = nli_dataset['test'][random_indexes]\n",
    "\n",
    "test_examples_tuples = list(zip(*(test_examples['premise'], test_examples['hypothesis'])))"
   ]
  },
  {
   "cell_type": "code",
   "execution_count": 22,
   "metadata": {},
   "outputs": [
    {
     "name": "stdout",
     "output_type": "stream",
     "text": [
      "Premise: Man and woman rowing on surfboards third rower in distance.\n",
      "Hypothesis: Couple going fishing.\n",
      "\n",
      "\n",
      "Premise: The little boy is smiling as he crosses a rope on an assault course.\n",
      "Hypothesis: The girl tries on the blue dress at the store.\n",
      "\n",
      "\n",
      "Premise: Men sitting on the side of a brick road.\n",
      "Hypothesis: the side of the road is empty.\n",
      "\n",
      "\n",
      "Premise: Stick figures in the middle of the street.\n",
      "Hypothesis: A picture of the ocean\n",
      "\n",
      "\n",
      "Premise: A woman with a blond ponytail and a white hat is riding a white horse, inside a fence with a horned cow.\n",
      "Hypothesis: The horse is being ridden by a man.\n",
      "\n",
      "\n",
      "Premise: A man cooking with fire in like 5 pots at the same time!\n",
      "Hypothesis: A man is cooking with a bunch of ovens.\n",
      "\n",
      "\n",
      "Premise: People with bags walk along a dirt road in front of a green building.\n",
      "Hypothesis: People are riding a bus.\n",
      "\n",
      "\n",
      "Premise: While traveling, a woman in a black jacket is resting on the shoulder of a man in a black jacket.\n",
      "Hypothesis: A man rests on a womans shoulder\n",
      "\n",
      "\n",
      "Premise: Four men wearing orange vests are putting in a steel beam on the ground.\n",
      "Hypothesis: Nobody is in orange\n",
      "\n",
      "\n",
      "Premise: A group of women observing an event while one in military attire takes a photograph\n",
      "Hypothesis: A group of people got ran over by a bus.\n",
      "\n",
      "\n",
      "Premise: A little boy wearing a yellow, white and black striped shirt is whispering a secret to a little girl wearing a white long sleeved-shirt.\n",
      "Hypothesis: The little boy is yelling at the girl in the white shirt.\n",
      "\n",
      "\n",
      "Premise: A sculptor wearing yellow headphones is cutting stone.\n",
      "Hypothesis: The man is running from the cop.\n",
      "\n",
      "\n",
      "Premise: many children play in the water.\n",
      "Hypothesis: The children are playing mini golf.\n",
      "\n",
      "\n",
      "Premise: A girl in a black sweater and jeans pours water into an empty soda bottle.\n",
      "Hypothesis: A girl pours water into the ocean\n",
      "\n",
      "\n",
      "Premise: A group of young people performing on a stage.\n",
      "Hypothesis: A group of people are watching an empty stage.\n",
      "\n",
      "\n",
      "Premise: A bicycle rider wearing racing gear pedals a yellow bike past the wire fence at the edge of a field, with a stand of trees in the background.\n",
      "Hypothesis: A scooter rider wearing casual clothes races past a building.\n",
      "\n",
      "\n",
      "Premise: Two little girls, wearing pink hanging on a tube.\n",
      "Hypothesis: Two girls wearing blue sit on a couch.\n",
      "\n",
      "\n",
      "Premise: A woman and a young girl are sitting down and smiling.\n",
      "Hypothesis: The women are standing and frowning.\n",
      "\n",
      "\n",
      "Premise: A brown dog plays in a deep pile of snow.\n",
      "Hypothesis: A brown dog is running down the road chasing the mailman\n",
      "\n",
      "\n",
      "Premise: The 3 dogs are cruising down the street.\n",
      "Hypothesis: a family of cats resting\n",
      "\n",
      "\n",
      "Premise: Three men, who appear to be Asian, are conversing near a carved wall, while another man sits on a bench with his eyes closed.\n",
      "Hypothesis: Three black men yelling at each other.\n",
      "\n",
      "\n",
      "Premise: A dog runs.\n",
      "Hypothesis: The dog is walking\n",
      "\n",
      "\n",
      "Premise: An American wrestler in a purple singlet wrestlers an opponent.\n",
      "Hypothesis: There is only one person.\n",
      "\n",
      "\n",
      "Premise: A female covering her face in laughter at the dinner table.\n",
      "Hypothesis: A woman sits silently.\n",
      "\n",
      "\n",
      "Premise: Men sitting at a table in a church.\n",
      "Hypothesis: The men pray at the alters.\n",
      "\n",
      "\n",
      "Premise: Three friends are talking.\n",
      "Hypothesis: Three people have their mouths full of food.\n",
      "\n",
      "\n",
      "Premise: A group of runners are running towards two identical skyscrapers.\n",
      "Hypothesis: A group of mall walkers takes a smoke break.\n",
      "\n",
      "\n",
      "Premise: Dark-haired man wearing a watch and oven mitt about to cook some meat in the kitchen.\n",
      "Hypothesis: A man is sitting watching TV.\n",
      "\n",
      "\n",
      "Premise: A young child joyfully pulls colorful tissue paper from a decorated box, looking for his present.\n",
      "Hypothesis: a child fights a bag, the bag is winning\n",
      "\n",
      "\n",
      "Premise: A man is looking at the camera posing for a photo with his arm around a woman who is looking away.\n",
      "Hypothesis: Two clowns attack a lion.\n",
      "\n",
      "\n"
     ]
    }
   ],
   "source": [
    "for example in test_examples_tuples:\n",
    "    \n",
    "    print(\"Premise:\", example[0])\n",
    "    print(\"Hypothesis:\", example[1])\n",
    "    print(\"\\n\") "
   ]
  },
  {
   "cell_type": "code",
   "execution_count": 5,
   "metadata": {},
   "outputs": [],
   "source": [
    "## sample에 대한 output score 확인\n",
    "tokens = nli_tokenizer(test_examples_tuples, return_tensors='pt', padding=True, truncation=True)"
   ]
  },
  {
   "cell_type": "code",
   "execution_count": 6,
   "metadata": {},
   "outputs": [],
   "source": [
    "outputs = nli_model(**tokens)"
   ]
  },
  {
   "cell_type": "code",
   "execution_count": 7,
   "metadata": {},
   "outputs": [],
   "source": [
    "import torch\n",
    "probas = torch.softmax(outputs.logits, dim=1)[:,2]"
   ]
  },
  {
   "cell_type": "code",
   "execution_count": 10,
   "metadata": {},
   "outputs": [
    {
     "data": {
      "text/plain": [
       "tensor([0.9769, 0.9991, 0.9970, 0.5598, 0.9971, 0.9994, 0.9960, 0.9993, 0.9718,\n",
       "        0.9995, 0.9985, 0.8048, 0.9985, 0.9995, 0.9985, 0.9055, 0.9996, 0.9996,\n",
       "        0.9838, 0.9984, 0.9654, 0.9993, 0.2090, 0.9963, 0.9970, 0.9879, 0.0330,\n",
       "        0.9990, 0.9995, 0.9980], grad_fn=<SelectBackward0>)"
      ]
     },
     "execution_count": 10,
     "metadata": {},
     "output_type": "execute_result"
    }
   ],
   "source": [
    "probas"
   ]
  },
  {
   "cell_type": "code",
   "execution_count": 6,
   "metadata": {},
   "outputs": [
    {
     "data": {
      "text/plain": [
       "2"
      ]
     },
     "execution_count": 6,
     "metadata": {},
     "output_type": "execute_result"
    }
   ],
   "source": [
    "nli_tokenizer.sep_token_id"
   ]
  },
  {
   "cell_type": "code",
   "execution_count": 8,
   "metadata": {},
   "outputs": [
    {
     "name": "stdout",
     "output_type": "stream",
     "text": [
      "prediction [('An entertainers reaches out to his audience during a performance.', 'A man juggling flaming torches.'), ('a red-haired woman playing the violin', 'A woman holds a broken violin.'), ('Two people standing behind a Sonoma display and a woman with a stroller on the other side.', 'Two people are race car driving.'), ('A man in a blue jacket leans on a post and talks on the phone while an old man carries yellow bags.', \"Chew Wrigley's Spearmint beer.\"), ('Someone with a long pole that appears to have a spike on the end is pointing it at a red balloon on the other side of the wall from him.', 'A boy sleeping in a hot air balloon.'), ('Six older women are standing in a row at a table smiling and looking trough books and other material displayed on the table.', 'A man and a young boy are playing a game on a quilt on the floor.'), ('Two people are riding bicycles next to a building.', 'A woman is riding a unicycle past a building.'), ('Three men are playing soccer, two of them in blue uniforms and the other in a bright green uniform.', 'Three men in red uniforms playing soccer.'), ('People standing at street corner in France.', 'Some people are taking a tour of the factory.'), ('An medical worker examines a young girl.', 'A health worker is evaluating the health of a young boy.'), ('A girl and a boy hugging on a bridge', 'Cat and dog fighting on a boat.'), ('A woman rollerblader with knee and elbow pads and a helmet jumping into the air.', 'the woman is eating a hot dog'), ('Two women walk down a sidewalk along a busy street in a downtown area.', 'The women were picking berries in the countryside'), ('Numerous customers browsing for produce in a market.', 'People are showering.'), ('A person with a green backpack is riding a bike down the road.', 'The person is walking.'), ('A black man in a long sleeves white collared shirt and a tie is walking to work in a big city.', 'The man is wearing shorts and a t-shirt as he jogs.'), ('A brown dog plays in a deep pile of snow.', 'A brown dog is running down the road chasing the mailman'), ('Two people are playing wiffle ball in a suburban area.', 'Two men are playing basketball.'), ('A young ladies squatting at hillside sipping on a drink the other one with the white purse is talking pictures.', 'Young women are surfing in the ocean.'), ('Two boys inside a fence jump in the air while holding a basketball.', 'Two boys sit down.'), ('Boy in green pajamas play with his toy while his mother sits on the couch and watches him.', 'A boy in white pajamas plays.'), ('Man in white sweater looks from his press box onto the pitch.', 'A man sits in a casino'), ('Two men are shirtless on the beach on a beautiful day.', 'Men are riding bicycles.'), ('The gentlemen with the red plaid shirt and black pants is speaking to a young lady holding a blue folder.', 'The gentleman is speaking to an old lady.'), ('Two men stand on stairs with an assortment of chairs and a woven basket in the foreground.', 'The men are sitting.'), ('Three girls blow out the candles of a cake made of Peeps.', 'There are peeps in the garden.'), ('A man in a plaid red shirt casts his fishing line out into the water.', 'A man is playing golf with his friends.'), ('A group of men, women and children are standing around.', 'A group of people are laying down.'), ('Some people are relaxing in front of a large red building.', 'Lots of people are walking by a small red building.'), ('One man, wearing a blue shirt, standing on the back of a truck in a market.', 'The man is driving down the street.')]\n",
      "('An entertainers reaches out to his audience during a performance.', 'A man juggling flaming torches.')\n",
      "tensor([ 4688, 12043,   268, 11541,    66,     7,    39,  2437,   148,    10,\n",
      "          819,     4,   250,   313, 33261, 37222, 41745,     4,     1,     1,\n",
      "            1,     1,     1,     1,     1,     1,     1,     1,     1,     1,\n",
      "            1,     1,     1,     1,     1,     1,     1,     1,     1,     1,\n",
      "            1,     1])\n"
     ]
    },
    {
     "ename": "IndexError",
     "evalue": "index 0 is out of bounds for dimension 0 with size 0",
     "output_type": "error",
     "traceback": [
      "\u001b[0;31m---------------------------------------------------------------------------\u001b[0m",
      "\u001b[0;31mIndexError\u001b[0m                                Traceback (most recent call last)",
      "Cell \u001b[0;32mIn[8], line 1\u001b[0m\n\u001b[0;32m----> 1\u001b[0m result \u001b[38;5;241m=\u001b[39m \u001b[43mlocator\u001b[49m\u001b[38;5;241;43m.\u001b[39;49m\u001b[43mlocate_main\u001b[49m\u001b[43m(\u001b[49m\u001b[43mtest_examples_tuples\u001b[49m\u001b[43m,\u001b[49m\u001b[43m \u001b[49m\u001b[38;5;124;43m'\u001b[39;49m\u001b[38;5;124;43mgrad_norm\u001b[39;49m\u001b[38;5;124;43m'\u001b[39;49m\u001b[43m,\u001b[49m\u001b[43m \u001b[49m\u001b[43mmax_num_tokens\u001b[49m\u001b[43m \u001b[49m\u001b[38;5;241;43m=\u001b[39;49m\u001b[43m \u001b[49m\u001b[38;5;241;43m1\u001b[39;49m\u001b[43m,\u001b[49m\u001b[43m \u001b[49m\u001b[43munit\u001b[49m\u001b[38;5;241;43m=\u001b[39;49m\u001b[38;5;124;43m\"\u001b[39;49m\u001b[38;5;124;43mword\u001b[39;49m\u001b[38;5;124;43m\"\u001b[39;49m\u001b[43m,\u001b[49m\u001b[43m \u001b[49m\u001b[43mlabel_id\u001b[49m\u001b[38;5;241;43m=\u001b[39;49m\u001b[38;5;241;43m0\u001b[39;49m\u001b[43m)\u001b[49m\n",
      "File \u001b[0;32m/data/hyeryung/mucoco/new_module/locate/new_locate_utils.py:142\u001b[0m, in \u001b[0;36mLocateMachine.locate_main\u001b[0;34m(self, prediction, method, max_num_tokens, unit, **kwargs)\u001b[0m\n\u001b[1;32m    140\u001b[0m         \u001b[38;5;28mprint\u001b[39m(prediction[i])\n\u001b[1;32m    141\u001b[0m         \u001b[38;5;28mprint\u001b[39m(batch\u001b[38;5;241m.\u001b[39minput_ids[i])\n\u001b[0;32m--> 142\u001b[0m     first_occurence \u001b[38;5;241m=\u001b[39m \u001b[43mall_occurences\u001b[49m\u001b[43m[\u001b[49m\u001b[38;5;241;43m0\u001b[39;49m\u001b[43m,\u001b[49m\u001b[43m \u001b[49m\u001b[38;5;241;43m1\u001b[39;49m\u001b[43m]\u001b[49m\n\u001b[1;32m    143\u001b[0m     premise_mask[i, :first_occurence] \u001b[38;5;241m=\u001b[39m \u001b[38;5;28;01mTrue\u001b[39;00m\n\u001b[1;32m    144\u001b[0m exclude_mask \u001b[38;5;241m|\u001b[39m\u001b[38;5;241m=\u001b[39m premise_mask\n",
      "\u001b[0;31mIndexError\u001b[0m: index 0 is out of bounds for dimension 0 with size 0"
     ]
    }
   ],
   "source": [
    "result = locator.locate_main(test_examples_tuples, 'grad_norm', max_num_tokens = 1, unit=\"word\", label_id=0)"
   ]
  },
  {
   "cell_type": "code",
   "execution_count": 19,
   "metadata": {},
   "outputs": [
    {
     "name": "stdout",
     "output_type": "stream",
     "text": [
      "Premise:  A woman is holding her child while a man is reading something from a piece of paper and taking something from a bowl that a younger girl is holding in a park with a small lake in the background.\n",
      "Hypothesis:  The people are swimming in the lake.\n",
      "Model proba:  0.9769063591957092 -> 0.764151930809021\n",
      "Located p:  <s>A woman is holding her child while a man is reading something from a piece of paper and taking something from a bowl that a younger girl is holding in a park with a small lake in the background.\n",
      "Located h:  The people are<mask> in the lake.</s>\n",
      "\n",
      "\n",
      "Premise:  Two men in black jackets behind a white handrail.\n",
      "Hypothesis:  Two women are wearing red\n",
      "Model proba:  0.9990848302841187 -> 0.9990994930267334\n",
      "Located p:  <s>Two men in black<mask> behind a white handrail.\n",
      "Located h:  Two women are wearing red</s>\n",
      "\n",
      "\n",
      "Premise:  People dresses in business clothing are walking by while one man with a tie on is standing still and talking on his cellular phone.\n",
      "Hypothesis:  The people are dressed in street clothes.\n",
      "Model proba:  0.9970464110374451 -> 0.09259398281574249\n",
      "Located p:  <s>People dresses in business clothing are walking by while one man with a tie on is standing still and talking on his cellular phone.\n",
      "Located h:  The people are dressed in<mask> clothes.</s>\n",
      "\n",
      "\n",
      "Premise:  A person walks outside carrying a bag, while a young girl in pink walks behind her.\n",
      "Hypothesis:  A woman carrying a girl, with a bag behind her\n",
      "Model proba:  0.559760570526123 -> 0.20264895260334015\n",
      "Located p:  <s>A person walks outside carrying a bag, while a young girl in pink walks behind her.\n",
      "Located h:  A woman<mask> a girl, with a bag behind her</s>\n",
      "\n",
      "\n",
      "Premise:  A light technician man with tribal tattoos aiming a spotlight over a balcony.\n",
      "Hypothesis:  An actress takes the stage.\n",
      "Model proba:  0.997118353843689 -> 0.99928879737854\n",
      "Located p:  <s>A light technician man with tribal tattoos aiming a<mask> over a balcony.\n",
      "Located h:  An actress takes the stage.</s>\n",
      "\n",
      "\n",
      "Premise:  A guy in a yellow shirt performs a balancing act on a taught chain near a canal.\n",
      "Hypothesis:  A boy is watching a movie in his living room.\n",
      "Model proba:  0.9994499087333679 -> 0.9994226694107056\n",
      "Located p:  <s>A guy in a yellow shirt performs a balancing act on a taught chain near a canal.\n",
      "Located h:  A<mask> is watching a movie in his living room.</s>\n",
      "\n",
      "\n",
      "Premise:  A woman wearing an elaborate array of feathers in her hair, a bead necklace, a medallion, and an aqua, brown, and olive-green dress and looks off to her left, smiling slightly.\n",
      "Hypothesis:  A man smiles to his left\n",
      "Model proba:  0.9960440397262573 -> 0.8601467609405518\n",
      "Located p:  <s>A woman wearing an elaborate array of feathers in her hair, a bead necklace, a medallion, and an aqua, brown, and olive-green dress and looks off to her left, smiling slightly.\n",
      "Located h:  A<mask> smiles to his left</s>\n",
      "\n",
      "\n",
      "Premise:  Four young female gymnasts dressed in black and blue leotards are preparing for their next routine.\n",
      "Hypothesis:  Band performs onstage to an empty room.\n",
      "Model proba:  0.9993182420730591 -> 0.8564484119415283\n",
      "Located p:  <s>Four young female gymnasts dressed in black and blue leotards are preparing for their next routine.\n",
      "Located h:  <mask> performs onstage to an empty room.</s>\n",
      "\n",
      "\n",
      "Premise:  Lot of people are gathered in front of a building.\n",
      "Hypothesis:  People walk back inside the building.\n",
      "Model proba:  0.9717783331871033 -> 0.703186571598053\n",
      "Located p:  <s>Lot of people are gathered in front of a building.\n",
      "Located h:  People walk back<mask> the building.</s>\n",
      "\n",
      "\n",
      "Premise:  A crowd watching a skateboarder.\n",
      "Hypothesis:  A cow is eating grass\n",
      "Model proba:  0.9994518160820007 -> 0.999441921710968\n",
      "Located p:  <s>A crowd watching a skateboarder.\n",
      "Located h:  A<mask> is eating grass</s>\n",
      "\n",
      "\n",
      "Premise:  A roofer in a gray sweatshirt and orange hat walks on a unfinished roof at a lake-side home.\n",
      "Hypothesis:  The man is fixing a bike.\n",
      "Model proba:  0.9985197186470032 -> 0.006828050594776869\n",
      "Located p:  <s>A roofer in a gray sweatshirt and orange hat walks on a unfinished roof at a lake-side home.\n",
      "Located h:  The man is fixing a<mask>.</s>\n",
      "\n",
      "\n",
      "Premise:  An Asian man walks a three-wheeled pedal card fully of white bags.\n",
      "Hypothesis:  An Asian man walks his dog on a rainy afternoon.\n",
      "Model proba:  0.8047670125961304 -> 0.31105703115463257\n",
      "Located p:  <s>An Asian man walks a three-wheeled<mask> card fully of white bags.\n",
      "Located h:  An Asian man walks his dog on a rainy afternoon.</s>\n",
      "\n",
      "\n",
      "Premise:  A group of people are riding down a roller coaster that appears to be called the \"Cyclone.\"\n",
      "Hypothesis:  The group sits under a pavilion at an amusement part as rain pours down from the heavens.\n",
      "Model proba:  0.9985108971595764 -> 0.9986101388931274\n",
      "Located p:  <s>A group of people are riding down a roller coaster that appears to be called the \"Cyclone.\"\n",
      "Located h:  The group sits under a pavilion at an<mask> part as rain pours down from the heavens.</s>\n",
      "\n",
      "\n",
      "Premise:  People are hiking up a mountain with no greenery.\n",
      "Hypothesis:  People are playing video games.\n",
      "Model proba:  0.9994613528251648 -> 0.9995154142379761\n",
      "Located p:  <s>People are hiking up a mountain with no gre<mask>.\n",
      "Located h:  People are playing video games.</s>\n",
      "\n",
      "\n",
      "Premise:  A gas station and a car on fire.\n",
      "Hypothesis:  A car is going through the car wash.\n",
      "Model proba:  0.9985424280166626 -> 0.9034689664840698\n",
      "Located p:  <s>A gas station and a car on fire.\n",
      "Located h:  A car is going through the car<mask>.</s>\n",
      "\n",
      "\n",
      "Premise:  Two little boys wearing athletic jerseys are washing their hands in a public restroom.\n",
      "Hypothesis:  The boys are bare-chested.\n",
      "Model proba:  0.9054961800575256 -> 0.9317579865455627\n",
      "Located p:  <s>Two little boys wearing athletic jerseys are washing their hands in a public restroom.\n",
      "Located h:  The boys are bare-che<mask>.</s>\n",
      "\n",
      "\n",
      "Premise:  A woman with a stroller is passing a man walking a dog.\n",
      "Hypothesis:  There is a dog sleeping on the bed.\n",
      "Model proba:  0.999596893787384 -> 0.9996253252029419\n",
      "Located p:  <s>A woman with a st<mask> is passing a man walking a dog.\n",
      "Located h:  There is a dog sleeping on the bed.</s>\n",
      "\n",
      "\n",
      "Premise:  A young man is playing a blue guitar.\n",
      "Hypothesis:  An old man plays the violin to a group of people.\n",
      "Model proba:  0.9995506405830383 -> 0.9983657002449036\n",
      "Located p:  <s>A young man is playing a blue guitar.\n",
      "Located h:  An old man plays the<mask> to a group of people.</s>\n",
      "\n",
      "\n",
      "Premise:  A child plays with her father's boots.\n",
      "Hypothesis:  A child is playing with her mothers' shoe.\n",
      "Model proba:  0.9838300347328186 -> 0.1788785308599472\n",
      "Located p:  <s>A child plays with her father's boots.\n",
      "Located h:  A child is playing with her<mask>' shoe.</s>\n",
      "\n",
      "\n",
      "Premise:  A brown and black dog rubs his face in the grass.\n",
      "Hypothesis:  The dog is white and gray.\n",
      "Model proba:  0.9983749389648438 -> 0.9986748695373535\n",
      "Located p:  <s>A brown and black dog rubs his face in the grass.\n",
      "Located h:  The dog is white and<mask>.</s>\n",
      "\n",
      "\n",
      "Premise:  A young man sitting under a tree while others walk down the street.\n",
      "Hypothesis:  A young man is playing basketball.\n",
      "Model proba:  0.9654123783111572 -> 0.18732567131519318\n",
      "Located p:  <s>A young man sitting under a tree while others walk down the street.\n",
      "Located h:  A young man is playing<mask>.</s>\n",
      "\n",
      "\n",
      "Premise:  The woman in the white coat is holding a camera in her hand.\n",
      "Hypothesis:  The woman is sleeping.\n",
      "Model proba:  0.9992703795433044 -> 0.10212770104408264\n",
      "Located p:  <s>The woman in the white coat is holding a camera in her hand.\n",
      "Located h:  The woman is<mask>.</s>\n",
      "\n",
      "\n",
      "Premise:  People walk and bicycle down an alley between white buildings with blue trim.\n",
      "Hypothesis:  People walk by a train.\n",
      "Model proba:  0.20904475450515747 -> 0.059449538588523865\n",
      "Located p:  <s>People walk and<mask> down an alley between white buildings with blue trim.\n",
      "Located h:  People walk by a train.</s>\n",
      "\n",
      "\n",
      "Premise:  Kids playing on the rocks with a steamboat in the background.\n",
      "Hypothesis:  The kids are at school.\n",
      "Model proba:  0.9963243007659912 -> 0.16721586883068085\n",
      "Located p:  <s>Kids playing on the rocks with a steamboat in the background.\n",
      "Located h:  The kids are at<mask>.</s>\n",
      "\n",
      "\n",
      "Premise:  An oriental woman cleaning wood outside from a bucket.\n",
      "Hypothesis:  A man is cleaning wood.\n",
      "Model proba:  0.9970306158065796 -> 0.03329375013709068\n",
      "Located p:  <s>An oriental woman cleaning wood outside from a bucket.\n",
      "Located h:  A<mask> is cleaning wood.</s>\n",
      "\n",
      "\n",
      "Premise:  A silhouette stands at the top of a bowling lane as the ball is about to impact the pins while neon lights race overhead.\n",
      "Hypothesis:  A kid is fast asleep.\n",
      "Model proba:  0.9879391193389893 -> 0.05879281461238861\n",
      "Located p:  <s>A silhouette stands at the top of a bowling lane as the ball is about to impact the pins while neon lights race overhead.\n",
      "Located h:  A kid is fast<mask>.</s>\n",
      "\n",
      "\n",
      "Premise:  A happy woman quite stands in front of a business that displays a closed sign and looks very animated.\n",
      "Hypothesis:  A woman sings to herself.\n",
      "Model proba:  0.03298565745353699 -> 0.015560179948806763\n",
      "Located p:  <s>A happy woman quite stands in front of a business that displays a closed sign and looks very<mask>.\n",
      "Located h:  A woman sings to herself.</s>\n",
      "\n",
      "\n",
      "Premise:  a woman in jeans and a woman in shorts are petting a baby kangaroo.\n",
      "Hypothesis:  The woman are wearing bikinis and petting an elephant.\n",
      "Model proba:  0.9989890456199646 -> 0.9992013573646545\n",
      "Located p:  <s>a woman in jeans and a woman in shorts are petting a baby kang<mask>.\n",
      "Located h:  The woman are wearing bikinis and petting an elephant.</s>\n",
      "\n",
      "\n",
      "Premise:  A person sweeping stairs in a park.\n",
      "Hypothesis:  A dog singing karaoke.\n",
      "Model proba:  0.999497652053833 -> 0.9995170831680298\n",
      "Located p:  <s>A person<mask> stairs in a park.\n",
      "Located h:  A dog singing karaoke.</s>\n",
      "\n",
      "\n",
      "Premise:  a woman with brown hair sitting on a bench outside a cafe.\n",
      "Hypothesis:  Blonde woman drawing on a cafe window.\n",
      "Model proba:  0.9979959726333618 -> 0.834265410900116\n",
      "Located p:  <s>a woman with brown hair sitting on a bench outside a cafe.\n",
      "Located h:  Bl<mask> woman drawing on a cafe window.</s>\n",
      "\n",
      "\n"
     ]
    }
   ],
   "source": [
    "## observation 1: 어떤 sample들은 그닥 contradictive하지 않은 것 같다. --> 거를 방식이 있을까?\n",
    "## observation 2: locate된 token들이 contradictive한 부분을 잘 반영하고 있는 것 같다. \n",
    "\n",
    "for i, ((p, h), y) in enumerate(zip(test_examples_tuples, result)):\n",
    "    print(\"Premise: \", p)\n",
    "    print(\"Hypothesis: \", h)\n",
    "    print(\"Model proba: \", probas[i].item(), \"->\", probas_after_masking[i].item())\n",
    "    print(\"Located p: \", y.split('</s></s>')[0])\n",
    "    print(\"Located h: \", y.split('</s></s>')[1])\n",
    "    print(\"\\n\")"
   ]
  },
  {
   "cell_type": "code",
   "execution_count": 13,
   "metadata": {},
   "outputs": [],
   "source": [
    "## masking 된 샘플에 대한 energy score 확인\n",
    "tokens_after_masking = nli_tokenizer(result, add_special_tokens=False, return_tensors='pt', padding=True, truncation=True)"
   ]
  },
  {
   "cell_type": "code",
   "execution_count": 14,
   "metadata": {},
   "outputs": [],
   "source": [
    "probas_after_masking = nli_model(**tokens_after_masking).logits"
   ]
  },
  {
   "cell_type": "code",
   "execution_count": 16,
   "metadata": {},
   "outputs": [],
   "source": [
    "probas_after_masking = torch.softmax(probas_after_masking, dim=-1)[:, 2]"
   ]
  },
  {
   "cell_type": "code",
   "execution_count": 17,
   "metadata": {},
   "outputs": [
    {
     "data": {
      "text/plain": [
       "tensor([0.7642, 0.9991, 0.0926, 0.2026, 0.9993, 0.9994, 0.8601, 0.8564, 0.7032,\n",
       "        0.9994, 0.0068, 0.3111, 0.9986, 0.9995, 0.9035, 0.9318, 0.9996, 0.9984,\n",
       "        0.1789, 0.9987, 0.1873, 0.1021, 0.0594, 0.1672, 0.0333, 0.0588, 0.0156,\n",
       "        0.9992, 0.9995, 0.8343], grad_fn=<SelectBackward0>)"
      ]
     },
     "execution_count": 17,
     "metadata": {},
     "output_type": "execute_result"
    }
   ],
   "source": [
    "probas_after_masking"
   ]
  },
  {
   "cell_type": "code",
   "execution_count": 35,
   "metadata": {},
   "outputs": [
    {
     "name": "stdout",
     "output_type": "stream",
     "text": [
      "prediction [('Man and woman rowing on surfboards third rower in distance.', 'Couple going fishing.'), ('The little boy is smiling as he crosses a rope on an assault course.', 'The girl tries on the blue dress at the store.'), ('Men sitting on the side of a brick road.', 'the side of the road is empty.'), ('Stick figures in the middle of the street.', 'A picture of the ocean'), ('A woman with a blond ponytail and a white hat is riding a white horse, inside a fence with a horned cow.', 'The horse is being ridden by a man.'), ('A man cooking with fire in like 5 pots at the same time!', 'A man is cooking with a bunch of ovens.'), ('People with bags walk along a dirt road in front of a green building.', 'People are riding a bus.'), ('While traveling, a woman in a black jacket is resting on the shoulder of a man in a black jacket.', 'A man rests on a womans shoulder'), ('Four men wearing orange vests are putting in a steel beam on the ground.', 'Nobody is in orange'), ('A group of women observing an event while one in military attire takes a photograph', 'A group of people got ran over by a bus.'), ('A little boy wearing a yellow, white and black striped shirt is whispering a secret to a little girl wearing a white long sleeved-shirt.', 'The little boy is yelling at the girl in the white shirt.'), ('A sculptor wearing yellow headphones is cutting stone.', 'The man is running from the cop.'), ('many children play in the water.', 'The children are playing mini golf.'), ('A girl in a black sweater and jeans pours water into an empty soda bottle.', 'A girl pours water into the ocean'), ('A group of young people performing on a stage.', 'A group of people are watching an empty stage.'), ('A bicycle rider wearing racing gear pedals a yellow bike past the wire fence at the edge of a field, with a stand of trees in the background.', 'A scooter rider wearing casual clothes races past a building.'), ('Two little girls, wearing pink hanging on a tube.', 'Two girls wearing blue sit on a couch.'), ('A woman and a young girl are sitting down and smiling.', 'The women are standing and frowning.'), ('A brown dog plays in a deep pile of snow.', 'A brown dog is running down the road chasing the mailman'), ('The 3 dogs are cruising down the street.', 'a family of cats resting'), ('Three men, who appear to be Asian, are conversing near a carved wall, while another man sits on a bench with his eyes closed.', 'Three black men yelling at each other.'), ('A dog runs.', 'The dog is walking'), ('An American wrestler in a purple singlet wrestlers an opponent.', 'There is only one person.'), ('A female covering her face in laughter at the dinner table.', 'A woman sits silently.'), ('Men sitting at a table in a church.', 'The men pray at the alters.'), ('Three friends are talking.', 'Three people have their mouths full of food.'), ('A group of runners are running towards two identical skyscrapers.', 'A group of mall walkers takes a smoke break.'), ('Dark-haired man wearing a watch and oven mitt about to cook some meat in the kitchen.', 'A man is sitting watching TV.'), ('A young child joyfully pulls colorful tissue paper from a decorated box, looking for his present.', 'a child fights a bag, the bag is winning'), ('A man is looking at the camera posing for a photo with his arm around a woman who is looking away.', 'Two clowns attack a lion.')]\n"
     ]
    }
   ],
   "source": [
    "result2 = locator.locate_main(test_examples_tuples, 'grad_norm', max_num_tokens = 1, unit=\"word\", label_id=2)"
   ]
  },
  {
   "cell_type": "code",
   "execution_count": 36,
   "metadata": {},
   "outputs": [
    {
     "data": {
      "text/plain": [
       "['<s>Man and woman rowing on<mask>boards third rower in distance.</s></s>Couple going fishing.</s>',\n",
       " '<s>The little boy is smiling as he crosses a rope on an assault course.</s></s>The girl<mask> on the blue dress at the store.</s>',\n",
       " '<s>Men sitting on the side of a brick road.</s></s>the side of the road is<mask>.</s>',\n",
       " '<s>Stick figures in the middle of the street.</s></s>A picture of the<mask></s>',\n",
       " '<s>A woman with a blond ponytail and a white<mask> is riding a white horse, inside a fence with a horned cow.</s></s>The horse is being ridden by a man.</s>',\n",
       " '<s>A man cooking with fire in like 5 pots at the same time!</s></s>A man is cooking with a bunch of<mask>s.</s>',\n",
       " '<s>People with bags walk along a<mask> road in front of a green building.</s></s>People are riding a bus.</s>',\n",
       " '<s>While traveling, a woman in a black jacket is resting on the shoulder of a man in a black jacket.</s></s>A man rests on a<mask>ans shoulder</s>',\n",
       " '<s>Four men wearing orange vests are putting in a steel beam on the<mask>.</s></s>Nobody is in orange</s>',\n",
       " '<s>A group of women<mask> an event while one in military attire takes a photograph</s></s>A group of people got ran over by a bus.</s>',\n",
       " '<s>A little boy wearing a yellow, white and black striped shirt is<mask> a secret to a little girl wearing a white long sleeved-shirt.</s></s>The little boy is yelling at the girl in the white shirt.</s>',\n",
       " '<s>A sculptor wearing yellow<mask> is cutting stone.</s></s>The man is running from the cop.</s>',\n",
       " '<s>many children play in the water.</s></s>The children are playing mini<mask>.</s>',\n",
       " '<s>A girl in a black sweater and jeans pours water into an empty<mask> bottle.</s></s>A girl pours water into the ocean</s>',\n",
       " '<s>A group of young people performing on a stage.</s></s>A group of people are watching an<mask> stage.</s>',\n",
       " '<s>A bicycle rider wearing racing gear pedals a yellow bike past the wire fence at the edge of a field, with a stand of trees in the background.</s></s>A sc<mask> rider wearing casual clothes races past a building.</s>',\n",
       " '<s>Two little girls, wearing pink hanging on a<mask>.</s></s>Two girls wearing blue sit on a couch.</s>',\n",
       " '<s>A woman and a young girl are sitting down and smiling.</s></s>The women are standing and<mask>ing.</s>',\n",
       " '<s>A brown dog plays in a deep pile of<mask>.</s></s>A brown dog is running down the road chasing the mailman</s>',\n",
       " '<s>The 3 dogs are cruising down the street.</s></s>a family of<mask> resting</s>',\n",
       " '<s>Three men, who appear to be Asian, are<mask>ing near a carved wall, while another man sits on a bench with his eyes closed.</s></s>Three black men yelling at each other.</s>',\n",
       " '<s>A dog runs.</s></s>The dog is<mask></s>',\n",
       " '<s>An American wrestler in a purple singlet<mask> an opponent.</s></s>There is only one person.</s>',\n",
       " '<s>A female covering her face in<mask> at the dinner table.</s></s>A woman sits silently.</s>',\n",
       " '<s>Men sitting at a table in a church.</s></s>The men pray at the<mask>.</s>',\n",
       " '<s>Three friends are talking.</s></s>Three people have their<mask> full of food.</s>',\n",
       " '<s>A group of runners are running towards two identical<mask>rapers.</s></s>A group of mall walkers takes a smoke break.</s>',\n",
       " '<s>Dark-haired man wearing a watch and oven mitt about to cook some meat in the<mask>.</s></s>A man is sitting watching TV.</s>',\n",
       " '<s>A young child joyfully pulls colorful tissue paper from a decorated box, looking for his present.</s></s>a child<mask> a bag, the bag is winning</s>',\n",
       " '<s>A man is looking at the camera posing for a photo with his arm around a woman who is looking away.</s></s>Two<mask>s attack a lion.</s>']"
      ]
     },
     "execution_count": 36,
     "metadata": {},
     "output_type": "execute_result"
    }
   ],
   "source": [
    "result2"
   ]
  },
  {
   "cell_type": "code",
   "execution_count": 27,
   "metadata": {},
   "outputs": [
    {
     "name": "stdout",
     "output_type": "stream",
     "text": [
      "[0.75156066 0.53843395 0.93593076 0.13970348 0.58124188 0.52094283\n",
      " 0.66258606 0.46203155 0.45242672 0.2694994  0.26547587 0.08580285\n",
      " 0.12868575 0.11124022 0.15886033 0.1278937  0.04750872 0.76374614\n",
      " 0.62716798 0.47231046 0.63237988 0.37678597 0.38271456 0.26724505\n",
      " 0.1582123  0.06426351 0.57355015 0.57597497 0.63484014 0.30908522]\n"
     ]
    }
   ],
   "source": [
    "\n",
    "import numpy as np"
   ]
  },
  {
   "cell_type": "code",
   "execution_count": 32,
   "metadata": {},
   "outputs": [
    {
     "name": "stdout",
     "output_type": "stream",
     "text": [
      "| Above average elements | (before exp):  15\n",
      "| Above average elements | : (after exp) 14\n",
      "different\n",
      "--------------------------------------------------\n",
      "| Above average elements | (before exp):  15\n",
      "| Above average elements | : (after exp) 15\n",
      "same\n",
      "--------------------------------------------------\n",
      "| Above average elements | (before exp):  14\n",
      "| Above average elements | : (after exp) 12\n",
      "different\n",
      "--------------------------------------------------\n",
      "| Above average elements | (before exp):  15\n",
      "| Above average elements | : (after exp) 15\n",
      "same\n",
      "--------------------------------------------------\n",
      "| Above average elements | (before exp):  15\n",
      "| Above average elements | : (after exp) 15\n",
      "same\n",
      "--------------------------------------------------\n",
      "| Above average elements | (before exp):  16\n",
      "| Above average elements | : (after exp) 14\n",
      "different\n",
      "--------------------------------------------------\n",
      "| Above average elements | (before exp):  17\n",
      "| Above average elements | : (after exp) 16\n",
      "different\n",
      "--------------------------------------------------\n",
      "| Above average elements | (before exp):  15\n",
      "| Above average elements | : (after exp) 14\n",
      "different\n",
      "--------------------------------------------------\n",
      "| Above average elements | (before exp):  16\n",
      "| Above average elements | : (after exp) 15\n",
      "different\n",
      "--------------------------------------------------\n",
      "| Above average elements | (before exp):  15\n",
      "| Above average elements | : (after exp) 13\n",
      "different\n",
      "--------------------------------------------------\n",
      "| Above average elements | (before exp):  16\n",
      "| Above average elements | : (after exp) 15\n",
      "different\n",
      "--------------------------------------------------\n",
      "| Above average elements | (before exp):  15\n",
      "| Above average elements | : (after exp) 14\n",
      "different\n",
      "--------------------------------------------------\n",
      "| Above average elements | (before exp):  15\n",
      "| Above average elements | : (after exp) 14\n",
      "different\n",
      "--------------------------------------------------\n",
      "| Above average elements | (before exp):  14\n",
      "| Above average elements | : (after exp) 14\n",
      "same\n",
      "--------------------------------------------------\n",
      "| Above average elements | (before exp):  14\n",
      "| Above average elements | : (after exp) 12\n",
      "different\n",
      "--------------------------------------------------\n",
      "| Above average elements | (before exp):  15\n",
      "| Above average elements | : (after exp) 13\n",
      "different\n",
      "--------------------------------------------------\n",
      "| Above average elements | (before exp):  12\n",
      "| Above average elements | : (after exp) 11\n",
      "different\n",
      "--------------------------------------------------\n",
      "| Above average elements | (before exp):  17\n",
      "| Above average elements | : (after exp) 16\n",
      "different\n",
      "--------------------------------------------------\n",
      "| Above average elements | (before exp):  18\n",
      "| Above average elements | : (after exp) 14\n",
      "different\n",
      "--------------------------------------------------\n",
      "| Above average elements | (before exp):  17\n",
      "| Above average elements | : (after exp) 17\n",
      "same\n",
      "--------------------------------------------------\n",
      "| Above average elements | (before exp):  12\n",
      "| Above average elements | : (after exp) 10\n",
      "different\n",
      "--------------------------------------------------\n",
      "| Above average elements | (before exp):  16\n",
      "| Above average elements | : (after exp) 15\n",
      "different\n",
      "--------------------------------------------------\n",
      "| Above average elements | (before exp):  13\n",
      "| Above average elements | : (after exp) 13\n",
      "same\n",
      "--------------------------------------------------\n",
      "| Above average elements | (before exp):  15\n",
      "| Above average elements | : (after exp) 14\n",
      "different\n",
      "--------------------------------------------------\n",
      "| Above average elements | (before exp):  14\n",
      "| Above average elements | : (after exp) 12\n",
      "different\n",
      "--------------------------------------------------\n",
      "| Above average elements | (before exp):  15\n",
      "| Above average elements | : (after exp) 14\n",
      "different\n",
      "--------------------------------------------------\n",
      "| Above average elements | (before exp):  16\n",
      "| Above average elements | : (after exp) 13\n",
      "different\n",
      "--------------------------------------------------\n",
      "| Above average elements | (before exp):  14\n",
      "| Above average elements | : (after exp) 12\n",
      "different\n",
      "--------------------------------------------------\n",
      "| Above average elements | (before exp):  13\n",
      "| Above average elements | : (after exp) 11\n",
      "different\n",
      "--------------------------------------------------\n",
      "| Above average elements | (before exp):  17\n",
      "| Above average elements | : (after exp) 16\n",
      "different\n",
      "--------------------------------------------------\n"
     ]
    }
   ],
   "source": [
    "for _ in range(30):\n",
    "    a_list = np.random.rand(30)\n",
    "    # print(a_list)\n",
    "\n",
    "    # print(\"Average: \", np.mean(a_list))\n",
    "    # print(\"Above average elements : \", a_list[a_list >= np.mean(a_list)])\n",
    "    print(\"| Above average elements | (before exp): \", len(a_list[a_list >= np.mean(a_list)]))\n",
    "\n",
    "    exp_a_list = np.exp(a_list)\n",
    "    # print(exp_a_list)\n",
    "\n",
    "    display_list = exp_a_list\n",
    "    # print(\"Average: \", np.mean(display_list))\n",
    "    # print(\"Above average elements : \", display_list[display_list >= np.mean(display_list)])\n",
    "    print(\"| Above average elements | : (after exp)\", len(display_list[display_list >= np.mean(display_list)]))\n",
    "    \n",
    "    if len(a_list[a_list >= np.mean(a_list)]) == len(display_list[display_list >= np.mean(display_list)]):\n",
    "        print(\"same\")\n",
    "    else:\n",
    "        print(\"different\")\n",
    "    print('-'*50)"
   ]
  },
  {
   "cell_type": "code",
   "execution_count": 36,
   "metadata": {},
   "outputs": [],
   "source": [
    "## torch where\n",
    "import torch\n",
    "input_tensor = torch.Tensor([[1,1,3,3,1],[1,1,1,3,1],[3,1,1,1,1]])\n",
    "\n"
   ]
  },
  {
   "cell_type": "code",
   "execution_count": 38,
   "metadata": {},
   "outputs": [],
   "source": [
    "indices = (input_tensor == 3).nonzero(as_tuple=False)"
   ]
  },
  {
   "cell_type": "code",
   "execution_count": 39,
   "metadata": {},
   "outputs": [],
   "source": [
    "first_occurence = torch.zeros(input_tensor.size(0), dtype=torch.long)\n",
    "for i in range(input_tensor.size(0)):\n",
    "    row_indices = indices[indices[:, 0]==i]\n",
    "    if len(row_indices) > 0:\n",
    "        first_occurence[i] = row_indices[0,1]\n"
   ]
  },
  {
   "cell_type": "code",
   "execution_count": 40,
   "metadata": {},
   "outputs": [
    {
     "data": {
      "text/plain": [
       "tensor([2, 3, 0])"
      ]
     },
     "execution_count": 40,
     "metadata": {},
     "output_type": "execute_result"
    }
   ],
   "source": [
    "first_occurence"
   ]
  },
  {
   "cell_type": "code",
   "execution_count": 42,
   "metadata": {},
   "outputs": [
    {
     "name": "stdout",
     "output_type": "stream",
     "text": [
      "tensor([[0, 0, 0, 0, 0],\n",
      "        [0, 0, 0, 0, 0],\n",
      "        [0, 0, 0, 0, 0]])\n"
     ]
    }
   ],
   "source": [
    "mask = torch.zeros_like(input_tensor).long()\n",
    "print(mask)"
   ]
  },
  {
   "cell_type": "code",
   "execution_count": 45,
   "metadata": {},
   "outputs": [],
   "source": [
    "\n",
    "for i in range(mask.size(0)):\n",
    "    mask[i, :first_occurence[i]] = 1"
   ]
  },
  {
   "cell_type": "code",
   "execution_count": 46,
   "metadata": {},
   "outputs": [
    {
     "data": {
      "text/plain": [
       "tensor([[1, 1, 0, 0, 0],\n",
       "        [1, 1, 1, 0, 0],\n",
       "        [0, 0, 0, 0, 0]])"
      ]
     },
     "execution_count": 46,
     "metadata": {},
     "output_type": "execute_result"
    }
   ],
   "source": [
    "mask"
   ]
  },
  {
   "cell_type": "code",
   "execution_count": 49,
   "metadata": {},
   "outputs": [],
   "source": [
    "current_sent = '<s>Man and woman rowing on<mask>boards third rower in distance.</s></s>Couple going fishing.</s>'\n",
    "words_ = current_sent.strip().split()\n",
    "words = []\n",
    "for w in words_:\n",
    "    if ('<s>' in w):\n",
    "        w = ['<s>', w.replace('<s>', '')]\n",
    "    elif ('</s></s>' in w):\n",
    "        w = w.split('</s></s>')\n",
    "        w.insert(1, '</s></s>')\n",
    "    elif ('</s>' in w):\n",
    "        w = [w.replace('</s>', ''), '</s>']\n",
    "    else:\n",
    "        w = [w]\n",
    "    words.extend(w)"
   ]
  },
  {
   "cell_type": "code",
   "execution_count": 51,
   "metadata": {},
   "outputs": [
    {
     "data": {
      "text/plain": [
       "['<s>Man',\n",
       " 'and',\n",
       " 'woman',\n",
       " 'rowing',\n",
       " 'on<mask>boards',\n",
       " 'third',\n",
       " 'rower',\n",
       " 'in',\n",
       " 'distance.</s></s>Couple',\n",
       " 'going',\n",
       " 'fishing.</s>']"
      ]
     },
     "execution_count": 51,
     "metadata": {},
     "output_type": "execute_result"
    }
   ],
   "source": [
    "words_"
   ]
  },
  {
   "cell_type": "code",
   "execution_count": 50,
   "metadata": {},
   "outputs": [
    {
     "data": {
      "text/plain": [
       "['<s>',\n",
       " 'Man',\n",
       " 'and',\n",
       " 'woman',\n",
       " 'rowing',\n",
       " 'on<mask>boards',\n",
       " 'third',\n",
       " 'rower',\n",
       " 'in',\n",
       " 'distance.',\n",
       " '</s></s>',\n",
       " 'Couple',\n",
       " 'going',\n",
       " 'fishing.',\n",
       " '</s>']"
      ]
     },
     "execution_count": 50,
     "metadata": {},
     "output_type": "execute_result"
    }
   ],
   "source": [
    "words"
   ]
  },
  {
   "cell_type": "code",
   "execution_count": null,
   "metadata": {},
   "outputs": [],
   "source": []
  }
 ],
 "metadata": {
  "kernelspec": {
   "display_name": "Python 3 (ipykernel)",
   "language": "python",
   "name": "python3"
  },
  "language_info": {
   "codemirror_mode": {
    "name": "ipython",
    "version": 3
   },
   "file_extension": ".py",
   "mimetype": "text/x-python",
   "name": "python",
   "nbconvert_exporter": "python",
   "pygments_lexer": "ipython3",
   "version": "3.8.18"
  }
 },
 "nbformat": 4,
 "nbformat_minor": 2
}
