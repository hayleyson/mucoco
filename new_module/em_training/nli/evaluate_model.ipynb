{
 "cells": [
  {
   "cell_type": "code",
   "execution_count": 1,
   "metadata": {},
   "outputs": [
    {
     "name": "stderr",
     "output_type": "stream",
     "text": [
      "/data/hyeryung/.conda/envs/loc-edit/lib/python3.8/site-packages/transformers/utils/hub.py:127: FutureWarning: Using `TRANSFORMERS_CACHE` is deprecated and will be removed in v5 of Transformers. Use `HF_HOME` instead.\n",
      "  warnings.warn(\n"
     ]
    }
   ],
   "source": [
    "import os\n",
    "os.chdir('/data/hyeryung/mucoco')\n",
    "import yaml\n",
    "\n",
    "import wandb\n",
    "from tqdm import tqdm\n",
    "import torch\n",
    "import torch.nn as nn\n",
    "import pandas as pd\n",
    "from torch.optim import AdamW\n",
    "import seaborn as sns\n",
    "from sklearn.metrics import ndcg_score\n",
    "\n",
    "import numpy as np\n",
    "import matplotlib.pyplot as plt\n",
    "from transformers import get_linear_schedule_with_warmup, AutoModelForSequenceClassification, AutoTokenizer\n",
    "from sklearn.metrics import roc_curve, roc_auc_score, precision_recall_fscore_support, accuracy_score\n",
    "\n",
    "\n",
    "from new_module.em_training.nli.models import EncoderModel\n",
    "from new_module.em_training.nli.data_handling import load_nli_data, load_nli_test_data, NLI_Dataset, NLI_DataLoader\n",
    "from new_module.em_training.nli.train import *\n",
    "from new_module.em_training.nli.train_modules import *\n"
   ]
  },
  {
   "cell_type": "code",
   "execution_count": 30,
   "metadata": {},
   "outputs": [],
   "source": [
    "\n",
    "def plot_roc_curve_real_num(array_positive, array_negative, path_to_save_figure):\n",
    "    \"\"\"\n",
    "    code adapted from Mooho's code\n",
    "    \"\"\"\n",
    "    # Combine the positive and negative arrays\n",
    "    y_true = np.array([1] * len(array_positive) + [0] * len(array_negative))\n",
    "    pos = [-1 * a for a in array_positive]\n",
    "    neg = [-1 * a for a in array_negative]\n",
    "    # scores = np.array(array_positive + array_negative) \n",
    "    scores = np.array(pos + neg) \n",
    "    \n",
    "    # Calculate FPR and TPR for various thresholds\n",
    "    fpr, tpr, thresholds = roc_curve(y_true, scores)\n",
    "    auroc = roc_auc_score(y_true, scores)\n",
    "    \n",
    "    # Plotting the ROC curve\n",
    "    fig = plt.figure(figsize=(10, 6))\n",
    "    plt.plot(fpr, tpr, color='blue', lw=2, label='ROC curve')\n",
    "    plt.plot([0, 1], [0, 1], color='grey', lw=1, linestyle='--', label='Random guess')\n",
    "    plt.xlim([0.0, 1.0])\n",
    "    plt.ylim([0.0, 1.0])\n",
    "    plt.xlabel('False Positive Rate')\n",
    "    plt.ylabel('True Positive Rate')\n",
    "    plt.title(f\"ROC Curve with AUROC={auroc:.4f}\")\n",
    "    plt.legend(loc=\"lower right\")\n",
    "    plt.grid(alpha=0.3)\n",
    "    \n",
    "    # Save the plot to the specified path\n",
    "    # plt.savefig(path_to_save_figure)\n",
    "    # plt.close()\n",
    "    return auroc\n",
    "\n",
    "def plot_observed_predicted_boxplot(array_energy, array_labels, path_to_save_figure):\n",
    "    predicted_result = pd.DataFrame({'labels': array_labels, 'predicted_proba': array_energy})\n",
    "    predicted_result['labels_c'] = pd.cut(predicted_result['labels'], np.arange(-0.1, 1.01, 0.1))\n",
    "    g = sns.boxplot(predicted_result, x='labels_c', y='predicted_proba')\n",
    "    plt.xticks(rotation=30)\n",
    "    plt.xticks(rotation=30)\n",
    "    plt.title(\"Predicted Values by Bins of Observed Values\")\n",
    "    plt.xlabel(\"Bins in Labels\")\n",
    "    plt.ylabel(\"Energy\")\n",
    "    # plt.savefig(path_to_save_figure)\n",
    "    # plt.close()"
   ]
  },
  {
   "cell_type": "code",
   "execution_count": 13,
   "metadata": {},
   "outputs": [
    {
     "name": "stdout",
     "output_type": "stream",
     "text": [
      "case 1. pearson R 0.9640, ndcg 0.9819\n",
      "case 2. pearson R 0.9410, ndcg 0.9954\n",
      "case 3. pearson R 0.7887, ndcg 0.9128\n"
     ]
    }
   ],
   "source": [
    "true = [0,0,0,0,0,0,0,0,0,0,0,0,0.15,0.35,0.65,0.75,1,1,1,1] # 54321\n",
    "pred_1 = [0,0,0,0,0,0,0,0,0,0,0,0,0,0.1,0.3,1,1,1,1,1] # Multi CE \n",
    "pred_2 = [0,0,0,0,0,0,0,0,0,0,0,0,0,0.1,0.05,0.8,1,1,1,1] # Multi CE + Margin Ranking\n",
    "pred_3 = [0.1,0.05,0.1,0.1,0.1,0.1,0.1,0.1,0.1,0.4,0.6,0.8,0.15,0.3,0.5, 0.8, 0.8, 0.8, 0.8, 0.8] # 54321\n",
    "\n",
    "print(f\"case 1. pearson R {pearsonr(true, pred_1).statistic:.4f}, ndcg {ndcg_score([true], [pred_1]):.4f}\")\n",
    "print(f\"case 2. pearson R {pearsonr(true, pred_2).statistic:.4f}, ndcg {ndcg_score([true], [pred_2]):.4f}\")\n",
    "print(f\"case 3. pearson R {pearsonr(true, pred_3).statistic:.4f}, ndcg {ndcg_score([true], [pred_3]):.4f}\")"
   ]
  },
  {
   "cell_type": "code",
   "execution_count": 62,
   "metadata": {},
   "outputs": [
    {
     "name": "stdout",
     "output_type": "stream",
     "text": [
      "model_path: models/nli/roberta_large_snli_mnli_anli_train_dev_with_finegrained_finegrained_labels_mse+margin_ranking/1726396775/best_model.pth\n"
     ]
    }
   ],
   "source": [
    "api = wandb.Api()\n",
    "run_id = 'hayleyson/nli_energynet/ksavttkv' # # \n",
    "run = api.run(run_id)\n",
    "config = run.config\n",
    "\n",
    "model_path = config['model_path']\n",
    "print(f\"model_path: {model_path}\")"
   ]
  },
  {
   "cell_type": "code",
   "execution_count": 63,
   "metadata": {},
   "outputs": [],
   "source": [
    "# model_path = config['model_path'].split('.pth')[0] + '_add_ranking_loss.pth'\n",
    "# model_path =  config['model_path'].split('.pth')[0] + '_loss.pth'\n",
    "# model_path =  config['model_path'].split('.pth')[0] + '_pearsonr.pth'"
   ]
  },
  {
   "cell_type": "code",
   "execution_count": 64,
   "metadata": {},
   "outputs": [
    {
     "name": "stderr",
     "output_type": "stream",
     "text": [
      "Some weights of RobertaModel were not initialized from the model checkpoint at roberta-large and are newly initialized: ['roberta.pooler.dense.bias', 'roberta.pooler.dense.weight']\n",
      "You should probably TRAIN this model on a down-stream task to be able to use it for predictions and inference.\n"
     ]
    },
    {
     "data": {
      "text/plain": [
       "<All keys matched successfully>"
      ]
     },
     "execution_count": 64,
     "metadata": {},
     "output_type": "execute_result"
    }
   ],
   "source": [
    "# config = load_config('new_module/em_training/config.yaml')\n",
    "config['device'] = torch.device('cuda' if torch.cuda.is_available() else 'cpu')\n",
    "\n",
    "model = EncoderModel(config)\n",
    "model = model.to(config['device'])\n",
    "model.load_state_dict(torch.load(model_path))\n",
    "\n",
    "# config['model_path'] = model_path"
   ]
  },
  {
   "cell_type": "code",
   "execution_count": 65,
   "metadata": {},
   "outputs": [],
   "source": [
    "# ## hf model\n",
    "# config = load_config('new_module/em_training/config.yaml')\n",
    "# model = AutoModelForSequenceClassification.from_pretrained('ynie/roberta-large-snli_mnli_fever_anli_R1_R2_R3-nli')\n",
    "# model = model.to('cuda')\n",
    "# tokenizer = AutoTokenizer.from_pretrained('ynie/roberta-large-snli_mnli_fever_anli_R1_R2_R3-nli')"
   ]
  },
  {
   "cell_type": "code",
   "execution_count": 66,
   "metadata": {},
   "outputs": [
    {
     "name": "stdout",
     "output_type": "stream",
     "text": [
      "Preprocessed dataset already exists. Loading data from file\n",
      "Preprocessed dataset already exists. Loading data from file\n"
     ]
    }
   ],
   "source": [
    "#### comment out for now! DONT FORGET TO UNCOMMENT LATER\n",
    "train_dev_data = load_nli_data(output_file_path=config['energynet']['dataset_path'])\n",
    "# train_add_data = load_additional_nli_training_data(output_file_path='/data/hyeryung/mucoco/data/nli/snli_mnli_anli_train_without_finegrained.jsonl')\n",
    "test_data = load_nli_test_data(output_file_path='/data/hyeryung/mucoco/data/nli/snli_mnli_anli_test_with_finegrained.jsonl')\n",
    "\n",
    "# train_dev_data = pd.concat([train_dev_data, train_add_data], ignore_index=True)\n",
    "train_data = train_dev_data.loc[train_dev_data['split'] == 'train']\n",
    "dev_data = train_dev_data.loc[train_dev_data['split'] == 'dev']\n",
    "\n",
    "## IMPT. 'finegrained_labels' == degree of contradiction (real number between 0 and 1) == portion of annotators who labeled the sample as \"contradiction\"\n",
    "# train_dataset = NLI_Dataset(train_data, label_column=config['energynet']['label_column'])\n",
    "dev_dataset = NLI_Dataset(dev_data, label_column=config['energynet']['label_column'])\n",
    "test_dataset = NLI_Dataset(test_data, label_column=config['energynet']['label_column'])\n",
    "\n",
    "# train_dataloader = NLI_DataLoader(dataset=train_dataset, \n",
    "#                                     config = config, \n",
    "#                                     mode='train', \n",
    "#                                     tokenizer=model.tokenizer).get_dataloader()\n",
    "dev_dataloader = NLI_DataLoader(dataset=dev_dataset, \n",
    "                                    config = config, \n",
    "                                    mode='dev', \n",
    "                                    tokenizer=model.tokenizer).get_dataloader()\n",
    "test_dataloader = NLI_DataLoader(dataset=test_dataset,\n",
    "                                 config=config,\n",
    "                                 mode='test',\n",
    "                                 tokenizer=model.tokenizer).get_dataloader()"
   ]
  },
  {
   "cell_type": "code",
   "execution_count": 67,
   "metadata": {},
   "outputs": [],
   "source": [
    "# ## for hf model\n",
    "# test_data = load_nli_test_data(output_file_path='/data/hyeryung/mucoco/data/nli/snli_mnli_anli_test_with_finegrained.jsonl')\n",
    "# test_dataset = NLI_Dataset(test_data, label_column=config['energynet']['label_column'])\n",
    "\n",
    "# from torch.utils.data import Dataset, DataLoader\n",
    "# class NLI_DataLoader:\n",
    "    \n",
    "#     def __init__(self, dataset, config, mode, tokenizer):\n",
    "#         self.tokenizer = tokenizer\n",
    "#         self.dataset = dataset\n",
    "#         self.config = config\n",
    "#         self.batch_size = self.config['energynet']['batch_size']\n",
    "#         self.mode = mode\n",
    "    \n",
    "#     def collate_fn(self, batch):\n",
    "#         premises = [x[0] for x in batch]\n",
    "#         hypotheses = [x[1] for x in batch]\n",
    "#         labels = [x[2] for x in batch]\n",
    "#         finegrained_labels = [x[3] for x in batch]\n",
    "        \n",
    "#         sequences = [(p, h) for p, h in zip(premises, hypotheses)]\n",
    "#         tokenized_sequences = self.tokenizer(sequences, padding=True, truncation=True, return_tensors='pt')\n",
    "#         if self.config['energynet']['loss'] == 'cross_entropy':\n",
    "#             labels = torch.Tensor(labels).reshape(-1, 1)\n",
    "#             labels = torch.tile(labels, (1,2))\n",
    "#             labels[:, 0] = 1 - labels[:, 0] \n",
    "#         elif self.config['energynet']['loss'] == 'binary_cross_entropy':\n",
    "#             labels = torch.LongTensor(labels)\n",
    "#         elif self.config['energynet']['loss'] == 'mse':\n",
    "#             labels = torch.Tensor(labels).reshape(-1, 1)\n",
    "#         else:\n",
    "#             raise NotImplementedError('Label column not recognized')\n",
    "        \n",
    "#         return {'input_ids': tokenized_sequences['input_ids'].to(self.config['device']), \n",
    "#                 'attention_mask': tokenized_sequences['attention_mask'].to(self.config['device']), \n",
    "#                 'labels': labels.to(self.config['device']),\n",
    "#                 'finegrained_labels': finegrained_labels}\n",
    "    \n",
    "#     def get_dataloader(self):\n",
    "#         return DataLoader(self.dataset, batch_size=self.batch_size, shuffle=True if self.mode=='train' else False, collate_fn=self.collate_fn)\n",
    "    \n",
    "# test_dataloader = NLI_DataLoader(dataset=test_dataset,\n",
    "#                                  config=config,\n",
    "#                                  mode='test',\n",
    "#                                  tokenizer=tokenizer).get_dataloader()\n",
    "        "
   ]
  },
  {
   "cell_type": "code",
   "execution_count": 68,
   "metadata": {},
   "outputs": [
    {
     "name": "stdout",
     "output_type": "stream",
     "text": [
      "num batches in dev data: 351\n",
      "num batches in test data: 814\n"
     ]
    }
   ],
   "source": [
    "# print(f\"num batches in train data: {len(train_dataloader)}\")\n",
    "print(f\"num batches in dev data: {len(dev_dataloader)}\")\n",
    "print(f\"num batches in test data: {len(test_dataloader)}\")"
   ]
  },
  {
   "cell_type": "code",
   "execution_count": 69,
   "metadata": {},
   "outputs": [],
   "source": [
    "# if (config['energynet']['loss'] == 'cross_entropy') or (config['energynet']['loss'] == 'binary_cross_entropy'):\n",
    "#     criterion = nn.CrossEntropyLoss()\n",
    "# elif config['energynet']['loss'] == 'mse':\n",
    "#     criterion = nn.MSELoss()\n",
    "# else:\n",
    "#     raise NotImplementedError('Not a valid loss name')"
   ]
  },
  {
   "cell_type": "code",
   "execution_count": 70,
   "metadata": {},
   "outputs": [
    {
     "data": {
      "text/plain": [
       "{'device': device(type='cuda'),\n",
       " 'locate': {'type': 'gradnorm'},\n",
       " 'energynet': {'loss': 'mse+margin_ranking',\n",
       "  'margin': 1,\n",
       "  'max_lr': '1e-5',\n",
       "  'base_model': 'roberta-large',\n",
       "  'batch_size': 16,\n",
       "  'energy_col': 1,\n",
       "  'eval_every': 100,\n",
       "  'num_epochs': 3,\n",
       "  'output_form': 'real_num',\n",
       "  'dataset_path': 'data/nli/snli_mnli_anli_train_dev_with_finegrained.jsonl',\n",
       "  'label_column': 'finegrained_labels',\n",
       "  'weight_decay': 0.03,\n",
       "  'ckpt_save_path': 'models/nli/roberta_large_snli_mnli_anli_train_dev_with_finegrained_finegrained_labels_mse+margin_ranking/1726396775',\n",
       "  'add_ranking_loss': True},\n",
       " 'model_path': 'models/nli/roberta_large_snli_mnli_anli_train_dev_with_finegrained_finegrained_labels_mse+margin_ranking/1726396775/best_model.pth'}"
      ]
     },
     "execution_count": 70,
     "metadata": {},
     "output_type": "execute_result"
    }
   ],
   "source": [
    "config"
   ]
  },
  {
   "cell_type": "code",
   "execution_count": 71,
   "metadata": {},
   "outputs": [
    {
     "data": {
      "text/plain": [
       "'finegrained_labels'"
      ]
     },
     "execution_count": 71,
     "metadata": {},
     "output_type": "execute_result"
    }
   ],
   "source": [
    "config['energynet']['label_column']"
   ]
  },
  {
   "cell_type": "code",
   "execution_count": 72,
   "metadata": {},
   "outputs": [
    {
     "data": {
      "text/plain": [
       "'mse+margin_ranking'"
      ]
     },
     "execution_count": 72,
     "metadata": {},
     "output_type": "execute_result"
    }
   ],
   "source": [
    "config['energynet']['loss']"
   ]
  },
  {
   "cell_type": "code",
   "execution_count": null,
   "metadata": {},
   "outputs": [],
   "source": []
  },
  {
   "cell_type": "code",
   "execution_count": 73,
   "metadata": {},
   "outputs": [],
   "source": [
    "epoch=0\n",
    "overall_step=0\n",
    "model.eval()\n",
    "with torch.no_grad():\n",
    "    dev_loss = 0\n",
    "    dev_e = []\n",
    "    dev_labels = []\n",
    "    for dev_batch in dev_dataloader:\n",
    "        \n",
    "        if config['locate']['type'] == 'gradnorm':\n",
    "            dev_outputs, _ = model(input_ids = dev_batch['input_ids'],\n",
    "                        attention_mask = dev_batch['attention_mask'])\n",
    "        else:\n",
    "            dev_outputs = model(input_ids = dev_batch['input_ids'],\n",
    "                        attention_mask = dev_batch['attention_mask'])\n",
    "        if config['energynet']['loss'] == 'mse': \n",
    "            dev_predictions = torch.sigmoid(dev_outputs)\n",
    "        else:\n",
    "            dev_predictions = dev_outputs\n",
    "        \n",
    "        # dev_loss += criterion(dev_predictions, dev_batch['labels'])\n",
    "        \n",
    "        if (config['energynet']['loss'] == 'cross_entropy') or (config['energynet']['loss'] == 'binary_cross_entropy'):\n",
    "            dev_predictions = torch.softmax(dev_outputs, dim=-1)\n",
    "            \n",
    "        dev_e.extend(dev_predictions.cpu().squeeze(-1).tolist())\n",
    "        try:\n",
    "            dev_labels.extend(dev_batch['labels'].cpu().squeeze(-1).tolist())\n",
    "        except:\n",
    "            dev_labels.extend(dev_batch['labels'].cpu().tolist())\n",
    "        \n",
    "    # dev_loss /= len(dev_dataloader)\n",
    "    \n"
   ]
  },
  {
   "cell_type": "code",
   "execution_count": 74,
   "metadata": {},
   "outputs": [],
   "source": [
    "# ## hf model\n",
    "# config['locate']['type'] = 'attention'\n",
    "# epoch=0\n",
    "# overall_step=0\n",
    "# model.eval()\n",
    "# with torch.no_grad():\n",
    "#     dev_loss = 0\n",
    "#     dev_e = []\n",
    "#     dev_labels = []\n",
    "#     for dev_batch in test_dataloader:\n",
    "        \n",
    "#         if config['locate']['type'] == 'gradnorm':\n",
    "#             dev_outputs, _ = model(input_ids = dev_batch['input_ids'],\n",
    "#                         attention_mask = dev_batch['attention_mask'])\n",
    "#         else:\n",
    "#             dev_outputs = model(input_ids = dev_batch['input_ids'],\n",
    "#                         attention_mask = dev_batch['attention_mask'])\n",
    "#         if config['energynet']['loss'] == 'mse': \n",
    "#             dev_predictions = torch.sigmoid(dev_outputs)\n",
    "#         else:\n",
    "#             dev_predictions = dev_outputs\n",
    "        \n",
    "#         # dev_loss += criterion(dev_predictions, dev_batch['labels'])\n",
    "        \n",
    "#         if (config['energynet']['loss'] == 'cross_entropy') or (config['energynet']['loss'] == 'binary_cross_entropy'):\n",
    "#             dev_outputs = dev_outputs.logits\n",
    "#             dev_predictions = torch.softmax(dev_outputs, dim=-1)\n",
    "            \n",
    "#         dev_e.extend(dev_predictions.cpu().squeeze(-1).tolist())\n",
    "#         try:\n",
    "#             dev_labels.extend(dev_batch['labels'].cpu().squeeze(-1).tolist())\n",
    "#         except:\n",
    "#             dev_labels.extend(dev_batch['labels'].cpu().tolist())\n",
    "        \n",
    "#     # dev_loss /= len(dev_dataloader)\n",
    "    \n"
   ]
  },
  {
   "cell_type": "code",
   "execution_count": 75,
   "metadata": {},
   "outputs": [],
   "source": [
    "# dev_e = torch.sigmoid(torch.Tensor(dev_e)).tolist()"
   ]
  },
  {
   "cell_type": "code",
   "execution_count": 76,
   "metadata": {},
   "outputs": [],
   "source": [
    "# dev_e = (-torch.log(torch.Tensor(dev_e))).tolist()"
   ]
  },
  {
   "cell_type": "code",
   "execution_count": 77,
   "metadata": {},
   "outputs": [
    {
     "name": "stdout",
     "output_type": "stream",
     "text": [
      "contradict_proba: tensor([-2.7960, -3.6370, -2.7548, -4.3823,  2.9954, -1.4998, -3.4878,  0.9810,\n",
      "         2.8656,  2.3646])\n",
      "contradict_labels: tensor([0.0000, 0.2000, 0.0000, 0.0000, 1.0000, 0.2000, 0.0000, 0.8000, 1.0000,\n",
      "        0.8000])\n"
     ]
    }
   ],
   "source": [
    "try:\n",
    "    contradict_proba = torch.Tensor(dev_e)[:, config['energynet']['energy_col']]\n",
    "except:\n",
    "    contradict_proba = torch.Tensor(dev_e)\n",
    "\n",
    "try:\n",
    "    if config['energynet']['output_form'] == '3dim_vec':\n",
    "        contradict_labels = torch.Tensor(dev_data['binary_labels'].tolist())\n",
    "    elif config['energynet']['output_form'] == '2dim_vec':\n",
    "        contradict_labels = torch.Tensor(dev_labels)[:, config['energynet']['energy_col']]\n",
    "    else:\n",
    "        contradict_labels = torch.Tensor(dev_labels)\n",
    "except: \n",
    "    print(\"Error\")\n",
    "    \n",
    "print(f\"contradict_proba: {contradict_proba[:10]}\")\n",
    "print(f\"contradict_labels: {contradict_labels[:10]}\")"
   ]
  },
  {
   "cell_type": "code",
   "execution_count": 78,
   "metadata": {},
   "outputs": [],
   "source": [
    "# ## hf\n",
    "# try:\n",
    "#     contradict_proba = torch.Tensor(dev_e)[:, 2]\n",
    "# except:\n",
    "#     contradict_proba = torch.Tensor(dev_e)\n",
    "\n",
    "# try:\n",
    "#     contradict_labels = torch.Tensor(dev_labels)[:, 1]\n",
    "# except: \n",
    "#     contradict_labels = torch.Tensor(dev_labels)\n",
    "    \n",
    "# print(f\"contradict_proba: {contradict_proba[:10]}\")\n",
    "# print(f\"contradict_labels: {contradict_labels[:10]}\")"
   ]
  },
  {
   "cell_type": "code",
   "execution_count": 79,
   "metadata": {},
   "outputs": [],
   "source": [
    "# from sklearn.metrics import confusion_matrix, precision_recall_fscore_support \n",
    "# from sklearn.metrics import ConfusionMatrixDisplay\n",
    "\n",
    "\n",
    "# th = 0.5\n",
    "# contradict_proba_c = torch.where(contradict_proba > th, 1, 0)\n",
    "# try:\n",
    "#     ConfusionMatrixDisplay.from_predictions(contradict_labels, contradict_proba_c)\n",
    "#     precision, recall, fbeta_score, support = precision_recall_fscore_support(contradict_labels, contradict_proba_c, average='binary')\n",
    "# except:\n",
    "#     contradict_labels_c = torch.where(contradict_labels > th, 1, 0)\n",
    "#     ConfusionMatrixDisplay.from_predictions(contradict_labels_c, contradict_proba_c)\n",
    "#     precision, recall, fbeta_score, support = precision_recall_fscore_support(contradict_labels_c, contradict_proba_c, average='binary')\n",
    "\n",
    "\n",
    "# print(f\"Precision: {precision:.2f}\")\n",
    "# print(f\"Recall: {recall:.2f}\")\n",
    "# print(f\"F1 Score: {fbeta_score:.2f}\")"
   ]
  },
  {
   "cell_type": "code",
   "execution_count": 80,
   "metadata": {},
   "outputs": [
    {
     "name": "stdout",
     "output_type": "stream",
     "text": [
      "tensor(6.6379, dtype=torch.float64)\n",
      "PearsonRResult(statistic=0.712620830368359, pvalue=0.0)\n"
     ]
    }
   ],
   "source": [
    "contradict_labels = dev_data['finegrained_labels'].values\n",
    "\n",
    "print(torch.mean((contradict_proba-contradict_labels)**2))\n",
    "\n",
    "from scipy.stats import pearsonr \n",
    "print(pearsonr(contradict_proba, contradict_labels))"
   ]
  },
  {
   "cell_type": "code",
   "execution_count": 81,
   "metadata": {},
   "outputs": [],
   "source": [
    "# arr_inconsistent = [p for i, p in enumerate(contradict_proba) if contradict_labels[i] == 1]\n",
    "# arr_consistent = [p for i, p in enumerate(contradict_proba) if contradict_labels[i] == 0]\n",
    "arr_inconsistent = [p for i, p in enumerate(contradict_proba) if contradict_labels[i] > 0.5]\n",
    "arr_consistent = [p for i, p in enumerate(contradict_proba) if contradict_labels[i] <= 0.5]"
   ]
  },
  {
   "cell_type": "code",
   "execution_count": 82,
   "metadata": {},
   "outputs": [],
   "source": [
    "# determine_best_split_by_f1(arr_consistent, arr_inconsistent)"
   ]
  },
  {
   "cell_type": "code",
   "execution_count": 83,
   "metadata": {},
   "outputs": [
    {
     "data": {
      "image/png": "[encoded data removed]",
      "text/plain": [
       "<Figure size 640x480 with 1 Axes>"
      ]
     },
     "metadata": {},
     "output_type": "display_data"
    }
   ],
   "source": [
    "plot_observed_predicted_boxplot(contradict_proba, dev_data['finegrained_labels'].values, '')\n",
    "# plot_observed_predicted_boxplot(contradict_proba, test_data['finegrained_labels'].values, '')"
   ]
  },
  {
   "cell_type": "code",
   "execution_count": 84,
   "metadata": {},
   "outputs": [
    {
     "data": {
      "text/plain": [
       "Text(0.5, 1.0, 'hist')"
      ]
     },
     "execution_count": 84,
     "metadata": {},
     "output_type": "execute_result"
    },
    {
     "data": {
      "image/png": "[encoded data removed]",
      "text/plain": [
       "<Figure size 640x480 with 1 Axes>"
      ]
     },
     "metadata": {},
     "output_type": "display_data"
    }
   ],
   "source": [
    "plt.hist([arr_consistent, arr_inconsistent], label = [ \"consistent\", \"inconsistent\"])\n",
    "plt.legend(loc=\"upper left\")\n",
    "plt.title(\"hist\")"
   ]
  },
  {
   "cell_type": "code",
   "execution_count": 85,
   "metadata": {},
   "outputs": [
    {
     "data": {
      "text/plain": [
       "0.9086646072075177"
      ]
     },
     "execution_count": 85,
     "metadata": {},
     "output_type": "execute_result"
    },
    {
     "data": {
      "image/png": "[encoded data removed]",
      "text/plain": [
       "<Figure size 1000x600 with 1 Axes>"
      ]
     },
     "metadata": {},
     "output_type": "display_data"
    }
   ],
   "source": [
    "plot_roc_curve_real_num(arr_consistent, arr_inconsistent, \"\")"
   ]
  },
  {
   "cell_type": "markdown",
   "metadata": {},
   "source": []
  },
  {
   "cell_type": "code",
   "execution_count": 86,
   "metadata": {},
   "outputs": [
    {
     "data": {
      "text/plain": [
       "0.9755190186740481"
      ]
     },
     "execution_count": 86,
     "metadata": {},
     "output_type": "execute_result"
    }
   ],
   "source": [
    "\n",
    "\n",
    "ndcg_score(contradict_labels[np.newaxis, :], contradict_proba.numpy()[np.newaxis, :])"
   ]
  },
  {
   "cell_type": "code",
   "execution_count": null,
   "metadata": {},
   "outputs": [],
   "source": []
  }
 ],
 "metadata": {
  "kernelspec": {
   "display_name": "Python 3 (ipykernel)",
   "language": "python",
   "name": "python3"
  },
  "language_info": {
   "codemirror_mode": {
    "name": "ipython",
    "version": 3
   },
   "file_extension": ".py",
   "mimetype": "text/x-python",
   "name": "python",
   "nbconvert_exporter": "python",
   "pygments_lexer": "ipython3",
   "version": "3.8.18"
  }
 },
 "nbformat": 4,
 "nbformat_minor": 2
}
