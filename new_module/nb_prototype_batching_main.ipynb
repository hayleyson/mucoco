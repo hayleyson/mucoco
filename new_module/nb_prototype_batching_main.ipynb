{
 "cells": [
  {
   "cell_type": "code",
   "execution_count": 1,
   "metadata": {},
   "outputs": [],
   "source": [
    "#!/usr/bin/env python\n",
    "# coding: utf-8\n",
    "\n",
    "from itertools import chain\n",
    "import math\n",
    "import argparse\n",
    "import json\n",
    "import logging\n",
    "import os\n",
    "import time\n",
    "os.chdir('/data/hyeryung/mucoco')\n",
    "import numpy as np\n",
    "import pandas as pd\n",
    "import torch\n",
    "import transformers\n",
    "from transformers import AutoConfig, AutoModelForMaskedLM, AutoTokenizer\n",
    "\n",
    "import new_module.losses as lossbuilder\n",
    "import wandb\n",
    "# from new_module.decode_utils import (\n",
    "#     beam_rerank_v0,\n",
    "#     beam_rerank_v1,\n",
    "#     beam_rerank_v2,\n",
    "#     combi_rerank,\n",
    "# )\n",
    "from new_module.new_decode_utils import get_beam_hypotheses, get_combi_hypotheses, final_reranking\n",
    "from new_module.evaluate_wandb import evaluate_main\n",
    "from new_module.locate.new_locate_utils import LocateMachine\n",
    "from new_module.utils.robertacustom import RobertaCustomForSequenceClassification\n",
    "\n",
    "logging.basicConfig(level=logging.DEBUG, format=\"%(message)s\")\n",
    "logger = logging.getLogger(__name__)\n",
    "logger.setLevel(os.environ.get(\"LOGGING_LEVEL\", logging.DEBUG))\n"
   ]
  },
  {
   "cell_type": "code",
   "execution_count": 45,
   "metadata": {},
   "outputs": [],
   "source": [
    "import importlib\n",
    "import new_module.new_decode_utils\n",
    "importlib.reload(new_module.new_decode_utils)\n",
    "from new_module.new_decode_utils import get_beam_hypotheses, get_combi_hypotheses, final_reranking"
   ]
  },
  {
   "cell_type": "code",
   "execution_count": 2,
   "metadata": {},
   "outputs": [],
   "source": [
    "import joblib\n",
    "config = joblib.load('config.pkl')"
   ]
  },
  {
   "cell_type": "code",
   "execution_count": 3,
   "metadata": {},
   "outputs": [
    {
     "data": {
      "text/plain": [
       "{'task': 'toxicity',\n",
       " 'source_data': 'new_module/data/toxicity-avoidance/dev_set.jsonl',\n",
       " 'source_style': 'toxic',\n",
       " 'target_style': 'nontoxic',\n",
       " 'target_label_ids': [0, 0],\n",
       " 'model_paths': ['gpt2-large',\n",
       "  '/data/hyeryung/loc_edit/models/roberta-base-jigsaw-toxicity-classifier-energy-training/step_1000_best_checkpoint'],\n",
       " 'tokenizer_paths': ['gpt2-large',\n",
       "  '/data/hyeryung/loc_edit/models/roberta-base-jigsaw-toxicity-classifier-energy-training/step_1000_best_checkpoint'],\n",
       " 'model_types': ['AutoModelForCausalLM',\n",
       "  'RobertaCustomForSequenceClassification'],\n",
       " 'output_dir_prefix': 'outputs/toxicity/devset',\n",
       " 'early_stopping_patience': 0,\n",
       " 'method': 'mlm-beamsearch-v0',\n",
       " 'locate_unit': 'word',\n",
       " 'min_epsilons': [0.9],\n",
       " 'num_samples': 10,\n",
       " 'device': 'cuda',\n",
       " 'target_type': 'embeds',\n",
       " 'cache_dir': '/data/hyeryung/hf_cache',\n",
       " 'jsonl_primary_key': 'prompt',\n",
       " 'jsonl_secondary_key': 'text',\n",
       " 'losses': ['gpt2', 'classification_no_prefix_logprobloss'],\n",
       " 'build_loss_dict': {'coeff_steps': 200,\n",
       "  'coeff_pattern': 'constant',\n",
       "  'loss_type': 'xentropy',\n",
       "  'length_normalize': False,\n",
       "  'AR_temperature': 1.0,\n",
       "  'AR_top_k': 0,\n",
       "  'AR_top_p': 0.96,\n",
       "  'max_output_length': 20},\n",
       " 'num_edit_token_per_step': 5,\n",
       " 'k_per_location': 10,\n",
       " 'n_iter': 10,\n",
       " 'selection_criteria': 'allsat_primary',\n",
       " 'closs_weight': 0.9,\n",
       " 'beam_size': 5,\n",
       " 'wandb_project': 'toxicity-decoding',\n",
       " 'wandb_entity': 'hayleyson',\n",
       " 'wandb_run_id': None,\n",
       " 'resume': False,\n",
       " 'slurm_job_id': '8657',\n",
       " 'dont_skip_allsat': False,\n",
       " 'locate_method': 'grad_norm',\n",
       " 'server_time_limit': 12.0}"
      ]
     },
     "execution_count": 3,
     "metadata": {},
     "output_type": "execute_result"
    }
   ],
   "source": [
    "config"
   ]
  },
  {
   "cell_type": "code",
   "execution_count": 4,
   "metadata": {},
   "outputs": [
    {
     "name": "stderr",
     "output_type": "stream",
     "text": [
      "Failed to detect the name of this notebook, you can set it manually with the WANDB_NOTEBOOK_NAME environment variable to enable code saving.\n",
      "Starting new HTTPS connection (1): api.wandb.ai:443\n",
      "https://api.wandb.ai:443 \"POST /graphql HTTP/1.1\" 200 1812\n",
      "https://api.wandb.ai:443 \"POST /graphql HTTP/1.1\" 200 377\n",
      "\u001b[34m\u001b[1mwandb\u001b[0m: Currently logged in as: \u001b[33mhayleyson\u001b[0m. Use \u001b[1m`wandb login --relogin`\u001b[0m to force relogin\n",
      "Popen(['git', 'cat-file', '--batch-check'], cwd=/data/hyeryung/mucoco, stdin=<valid stream>, shell=False, universal_newlines=False)\n"
     ]
    },
    {
     "data": {
      "text/html": [
       "wandb version 0.16.6 is available!  To upgrade, please run:\n",
       " $ pip install wandb --upgrade"
      ],
      "text/plain": [
       "<IPython.core.display.HTML object>"
      ]
     },
     "metadata": {},
     "output_type": "display_data"
    },
    {
     "data": {
      "text/html": [
       "Tracking run with wandb version 0.16.0"
      ],
      "text/plain": [
       "<IPython.core.display.HTML object>"
      ]
     },
     "metadata": {},
     "output_type": "display_data"
    },
    {
     "data": {
      "text/html": [
       "Run data is saved locally in <code>/data/hyeryung/mucoco/wandb/run-20240406_182129-45d5r7bb</code>"
      ],
      "text/plain": [
       "<IPython.core.display.HTML object>"
      ]
     },
     "metadata": {},
     "output_type": "display_data"
    },
    {
     "data": {
      "text/html": [
       "Syncing run <strong><a href='https://wandb.ai/hayleyson/toxicity-decoding/runs/45d5r7bb' target=\"_blank\">vulcan-t-pol-152</a></strong> to <a href='https://wandb.ai/hayleyson/toxicity-decoding' target=\"_blank\">Weights & Biases</a> (<a href='https://wandb.me/run' target=\"_blank\">docs</a>)<br/>"
      ],
      "text/plain": [
       "<IPython.core.display.HTML object>"
      ]
     },
     "metadata": {},
     "output_type": "display_data"
    },
    {
     "data": {
      "text/html": [
       " View project at <a href='https://wandb.ai/hayleyson/toxicity-decoding' target=\"_blank\">https://wandb.ai/hayleyson/toxicity-decoding</a>"
      ],
      "text/plain": [
       "<IPython.core.display.HTML object>"
      ]
     },
     "metadata": {},
     "output_type": "display_data"
    },
    {
     "data": {
      "text/html": [
       " View run at <a href='https://wandb.ai/hayleyson/toxicity-decoding/runs/45d5r7bb' target=\"_blank\">https://wandb.ai/hayleyson/toxicity-decoding/runs/45d5r7bb</a>"
      ],
      "text/plain": [
       "<IPython.core.display.HTML object>"
      ]
     },
     "metadata": {},
     "output_type": "display_data"
    }
   ],
   "source": [
    "main_start_time = time.time()\n",
    "\n",
    "if not config.get(\"model_tag\", None):\n",
    "    if \"energy-training\" in config[\"model_paths\"][1]:\n",
    "        config[\"model_tag\"] = \"em\"\n",
    "    else:\n",
    "        config[\"model_tag\"] = \"clsf\"\n",
    "\n",
    "    if (config[\"task\"] == \"formality\") and (\"gyafc\" in config[\"model_paths\"][1]):\n",
    "        config[\"model_tag\"] += \"-gyafc\"\n",
    "\n",
    "if config[\"resume\"]:\n",
    "    logger.info(\"resuming from a previous run\")\n",
    "    run = wandb.init(\n",
    "        project=config[\"wandb_project\"],\n",
    "        entity=config[\"wandb_entity\"],\n",
    "        id=config[\"wandb_run_id\"],\n",
    "        resume=\"must\",\n",
    "    )\n",
    "else:\n",
    "    run = wandb.init(\n",
    "        project=config[\"wandb_project\"],\n",
    "        entity=config[\"wandb_entity\"],\n",
    "        config=config,\n",
    "    )\n",
    "\n",
    "run_id = run.path.split(\"/\")[-1]\n",
    "display_name = f\"{run_id}\"\n"
   ]
  },
  {
   "cell_type": "code",
   "execution_count": 5,
   "metadata": {},
   "outputs": [],
   "source": [
    "\n",
    "\n",
    "outdir = os.path.join(config[\"output_dir_prefix\"], display_name)\n",
    "os.makedirs(outdir, exist_ok=True)\n",
    "outfile = f\"{outdir}/outputs_epsilon{config['min_epsilons'][0]}.txt\"\n",
    "run.summary[\"outfile_path\"] = outfile\n"
   ]
  },
  {
   "cell_type": "code",
   "execution_count": 6,
   "metadata": {},
   "outputs": [],
   "source": [
    "\n",
    "class dummyArgs:\n",
    "    def __init__(self, **kwargs):\n",
    "        for k, v in kwargs.items():\n",
    "            setattr(self, k, v)\n",
    "\n",
    "build_loss_args = dummyArgs(**config[\"build_loss_dict\"])\n",
    "\n",
    "## load data\n",
    "if (config[\"task\"] == \"toxicity\") or (config[\"task\"] == \"sentiment\"):\n",
    "    source_dataset = [\n",
    "        json.loads(l)[config[\"jsonl_primary_key\"]][config[\"jsonl_secondary_key\"]]\n",
    "        for l in open(config[\"source_data\"])\n",
    "    ]\n",
    "    generation_dataset = [\n",
    "        json.loads(l)[\"generations\"] for l in open(config[\"source_data\"])\n",
    "    ]\n",
    "elif (config[\"task\"] == \"formality\") or (config[\"task\"] == \"sentiment-lewis-compr\"):\n",
    "    with open(config[\"source_data\"], \"r\") as f:\n",
    "        generation_dataset = [line.rstrip('\\n') for line in f.readlines()]\n",
    "    source_dataset = [\"\" for l in generation_dataset]\n",
    "\n",
    "# check if outfile exists\n",
    "if (config[\"resume\"]) and (os.path.exists(outfile)):\n",
    "\n",
    "    with open(outfile, \"r\") as f:\n",
    "        existing_gens = [x.rstrip(\"\\n\") for x in f.readlines()]\n",
    "    resume_idx = len(existing_gens)\n",
    "    if resume_idx == len(source_dataset):\n",
    "        logger.debug(\"output file is already complete. skipping this run.\")\n",
    "        raise\n",
    "    elif resume_idx < len(source_dataset):\n",
    "        logger.info(\n",
    "            f\"output file already exists but is incomplete. resuming from index: {resume_idx}\"\n",
    "        )\n",
    "        outf = open(outfile, \"a\")\n",
    "        int_outf = open(outfile+\".intermediate\", \"a\")\n",
    "    else:\n",
    "        logger.critical(\n",
    "            f\"output file seems to be corrupted. The file length is {resume_idx}, where the size of source_dataset is {len(source_dataset)}\"\n",
    "        )\n",
    "        raise\n",
    "else:\n",
    "    resume_idx = 0\n",
    "    outf = open(outfile, \"w\")\n",
    "    int_outf = open(outfile+\".intermediate\", \"w\")\n"
   ]
  },
  {
   "cell_type": "code",
   "execution_count": 7,
   "metadata": {},
   "outputs": [
    {
     "name": "stderr",
     "output_type": "stream",
     "text": [
      "Starting new HTTPS connection (1): huggingface.co:443\n",
      "https://huggingface.co:443 \"HEAD /gpt2-large/resolve/main/tokenizer_config.json HTTP/1.1\" 200 0\n",
      "https://huggingface.co:443 \"HEAD /gpt2-large/resolve/main/config.json HTTP/1.1\" 200 0\n",
      "https://huggingface.co:443 \"HEAD /gpt2-large/resolve/main/generation_config.json HTTP/1.1\" 200 0\n"
     ]
    },
    {
     "name": "stdout",
     "output_type": "stream",
     "text": [
      "50265\n"
     ]
    },
    {
     "name": "stderr",
     "output_type": "stream",
     "text": [
      "https://huggingface.co:443 \"HEAD /roberta-base/resolve/main/tokenizer_config.json HTTP/1.1\" 200 0\n",
      "https://huggingface.co:443 \"HEAD /roberta-base/resolve/main/config.json HTTP/1.1\" 200 0\n"
     ]
    }
   ],
   "source": [
    "\n",
    "## load tokenizer, models, define losses\n",
    "name2tokenizer = {}\n",
    "name2model = {}\n",
    "name2config = {}\n",
    "loss2tokenizer = {}\n",
    "embed_luts = []\n",
    "\n",
    "for i, model_path in enumerate(config[\"model_paths\"]):\n",
    "    if (\n",
    "        model_path not in name2model\n",
    "    ):  # making sure we are not loading the model twice in case some constraints use the same model.\n",
    "        try:\n",
    "            name2tokenizer[config[\"tokenizer_paths\"][i]] = AutoTokenizer.from_pretrained(\n",
    "                config[\"tokenizer_paths\"][i],\n",
    "                cache_dir=config[\"cache_dir\"],\n",
    "                use_fast=True,\n",
    "            )\n",
    "        except:\n",
    "            name2tokenizer[config[\"tokenizer_paths\"][i]] = AutoTokenizer.from_pretrained(\n",
    "                config[\"tokenizer_paths\"][i],\n",
    "                cache_dir=config[\"cache_dir\"],\n",
    "                use_fast=False,\n",
    "            )\n",
    "\n",
    "        name2config[model_path] = AutoConfig.from_pretrained(\n",
    "            model_path, cache_dir=config[\"cache_dir\"]\n",
    "        )\n",
    "\n",
    "        if config[\"model_types\"][i] == \"RobertaCustomForSequenceClassification\":\n",
    "            name2model[model_path] = lossbuilder.ModelWrapper(\n",
    "                RobertaCustomForSequenceClassification.from_pretrained(\n",
    "                    model_path,\n",
    "                    config=name2config[model_path],\n",
    "                    cache_dir=config[\"cache_dir\"],\n",
    "                )\n",
    "            )\n",
    "        else:\n",
    "            name2model[model_path] = lossbuilder.ModelWrapper(\n",
    "                getattr(transformers, config[\"model_types\"][i]).from_pretrained(\n",
    "                    model_path,\n",
    "                    config=name2config[model_path],\n",
    "                    cache_dir=config[\"cache_dir\"],\n",
    "                )\n",
    "            )\n",
    "        name2model[model_path].eval()\n",
    "        name2model[model_path].to(config['device'])\n",
    "\n",
    "    input_embeds = name2model[model_path].get_input_embeddings()\n",
    "    if isinstance(input_embeds, torch.nn.Sequential):\n",
    "        input_embeds = input_embeds[0]\n",
    "    embed_luts.append(input_embeds)\n",
    "\n",
    "    if config[\"target_type\"] == \"embeds\":\n",
    "        embed_luts[-1].requires_grad = False\n",
    "\n",
    "mlm_tokenizer = AutoTokenizer.from_pretrained(\"roberta-base\")\n",
    "mlm = None if config[\"method\"] == \"mlm-beamsearch-v2\" else AutoModelForMaskedLM.from_pretrained(\"roberta-base\").to(config['device'])\n",
    "\n",
    "lossfns = []\n",
    "for i, loss in enumerate(config[\"losses\"]):\n",
    "    lossfns.append(\n",
    "        lossbuilder.build_loss(\n",
    "            loss,\n",
    "            name2model[config[\"model_paths\"][i]],\n",
    "            name2tokenizer[config[\"tokenizer_paths\"][i]],\n",
    "            build_loss_args,\n",
    "        )\n",
    "    )\n",
    "    lossfns[i].tokenizer.add_special_tokens({\"mask_token\": mlm_tokenizer.mask_token})\n",
    "    loss2tokenizer[loss] = lossfns[i].tokenizer\n"
   ]
  },
  {
   "cell_type": "code",
   "execution_count": 8,
   "metadata": {},
   "outputs": [],
   "source": [
    "\n",
    "# define an object to locate problematic phrases\n",
    "locator = LocateMachine(lossfns[1].model, lossfns[1].tokenizer)\n",
    "\n",
    "label_ids = config[\"target_label_ids\"]  # target label's ids for each loss\n",
    "\n",
    "run.summary[\"prep_time\"] = time.time() - main_start_time\n",
    "## beginning of main logic\n",
    "decode_start_time = time.time()\n",
    "# text_id = 0\n",
    "if config[\"resume\"]:\n",
    "    num_skipped = run.summary.get(\"num_skipped\", 0)\n",
    "    num_edited = run.summary.get(\"num_edited\", 0)\n",
    "    num_decoded_tokens = run.summary.get(\"num_decoded_tokens\", 0)\n",
    "else:\n",
    "    num_skipped = 0\n",
    "    num_edited = 0\n",
    "    num_decoded_tokens = 0\n"
   ]
  },
  {
   "cell_type": "code",
   "execution_count": 83,
   "metadata": {},
   "outputs": [],
   "source": [
    "\n",
    "loss_weights = [1 - wandb.config.closs_weight, wandb.config.closs_weight]\n",
    "interrupted = False\n",
    "# for text_id in range(len(source_dataset))[resume_idx:]:\n",
    "text_id = 0\n",
    "source_text = source_dataset[text_id]\n",
    "if source_text == \"\":\n",
    "    source_text = lossfns[0].tokenizer.bos_token\n",
    "\n",
    "if (config[\"task\"] == \"toxicity\") or (config[\"task\"] == \"sentiment\"):\n",
    "    AR_prediction_all = [x[\"text\"] for x in generation_dataset[text_id]]\n",
    "    # predicted_batches = [x[\"tokens\"] for x in generation_dataset[text_id]]\n",
    "    # predicted_batches = [\n",
    "    #     torch.tensor([x], dtype=torch.long, device=config[\"device\"])\n",
    "    #     for x in predicted_batches\n",
    "    # ]\n",
    "    \n",
    "elif (config[\"task\"] == \"formality\") or (\n",
    "    config[\"task\"] == \"sentiment-lewis-compr\"\n",
    "):\n",
    "    AR_prediction_all = [generation_dataset[text_id]]\n",
    "\n",
    "curr_num_samples = len(AR_prediction_all)\n"
   ]
  },
  {
   "cell_type": "code",
   "execution_count": 84,
   "metadata": {},
   "outputs": [
    {
     "data": {
      "text/plain": [
       "[' dirt. Unfortunately the majority of horses end up in shit that you had to drive yourself. My only recourse is to feed it myself. What would be the happy tale of my life then?',\n",
       " ' wearing games and holy ****ing shit do I hate horse wearing games.',\n",
       " \" fetishes: it just makes me want to puke every time I see it on the internet, even though it's not worth a thing because I am a furry.\"]"
      ]
     },
     "execution_count": 84,
     "metadata": {},
     "output_type": "execute_result"
    }
   ],
   "source": [
    "AR_prediction_all"
   ]
  },
  {
   "cell_type": "code",
   "execution_count": 148,
   "metadata": {},
   "outputs": [],
   "source": [
    "# for sample_idx in range(config[\"num_samples\"])[:]:\n",
    "\n",
    "######### change here! instead of for loop, do a batched operation ########\n",
    "\n",
    "# --------------------------------------------------------------------------------------------- #\n",
    "## check whether initial text satisfies constraint\n",
    "\n",
    "curr_loss = torch.zeros(len(AR_prediction_all)).to(config['device'])\n",
    "logging_loss = torch.zeros((len(AR_prediction_all),2)).to(config['device'])\n",
    "edit_yn = torch.ones(len(AR_prediction_all), dtype=torch.bool).to(config['device'])\n",
    "        \n",
    "for lossid, lossname in enumerate(config[\"losses\"]):\n",
    "    with torch.no_grad():\n",
    "        lossvalue = lossfns[lossid].compute_gold_loss(\n",
    "            source_text, AR_prediction_all,\n",
    "            label_id=config['target_label_ids'][lossid],\n",
    "        )\n",
    "        torch.cuda.empty_cache()\n",
    "    curr_loss += loss_weights[lossid] * lossvalue\n",
    "    logging_loss[:, lossid] = lossvalue.clone()\n",
    "\n"
   ]
  },
  {
   "cell_type": "code",
   "execution_count": 149,
   "metadata": {},
   "outputs": [],
   "source": [
    "allsat = logging_loss[:,1] < -math.log(config[\"min_epsilons\"][0])\n",
    "allsat_ix = allsat.nonzero().squeeze(0)\n",
    "edit_yn[allsat_ix] = 0\n",
    "edited_at_all_yn = edit_yn.detach().clone()\n"
   ]
  },
  {
   "cell_type": "code",
   "execution_count": 150,
   "metadata": {},
   "outputs": [
    {
     "data": {
      "text/plain": [
       "(tensor([False, False, False], device='cuda:0'),\n",
       " tensor([], device='cuda:0', size=(0, 1), dtype=torch.int64),\n",
       " tensor([True, True, True], device='cuda:0'),\n",
       " tensor([True, True, True], device='cuda:0'))"
      ]
     },
     "execution_count": 150,
     "metadata": {},
     "output_type": "execute_result"
    }
   ],
   "source": [
    "allsat, allsat_ix, edit_yn, edited_at_all_yn"
   ]
  },
  {
   "cell_type": "code",
   "execution_count": 88,
   "metadata": {},
   "outputs": [],
   "source": [
    "if (edit_yn.sum().item() == 0) and (not config[\"dont_skip_allsat\"]):\n",
    "    ## save data\n",
    "    num_edited += 0\n",
    "    num_skipped += len(AR_prediction_all)\n",
    "    num_decoded_tokens += 0\n",
    "    print('continue')\n"
   ]
  },
  {
   "cell_type": "code",
   "execution_count": 89,
   "metadata": {},
   "outputs": [],
   "source": [
    "    \n",
    "num_edited += edit_yn.sum().item()\n",
    "num_skipped += (len(AR_prediction_all) - edit_yn.sum().item())\n",
    "num_decoded_tokens += sum([len(x) for x in name2tokenizer[config[\"tokenizer_paths\"][0]]([x for i, x in enumerate(AR_prediction_all) if edit_yn[i] == 1], add_special_tokens=False).input_ids])\n"
   ]
  },
  {
   "cell_type": "code",
   "execution_count": 93,
   "metadata": {},
   "outputs": [],
   "source": [
    "from copy import deepcopy"
   ]
  },
  {
   "cell_type": "code",
   "execution_count": 125,
   "metadata": {},
   "outputs": [],
   "source": [
    "es_patience_count = torch.zeros(len(AR_prediction_all),dtype=torch.long).to(config['device'])\n",
    "best_allsat = allsat.detach().clone()\n",
    "best_losses = logging_loss.detach().clone()\n",
    "best_weighted_loss = curr_loss.detach().clone()            \n",
    "running_text = best_text = deepcopy(AR_prediction_all)\n",
    "int_output = [{} for _ in range(len(AR_prediction_all))]\n"
   ]
  },
  {
   "cell_type": "code",
   "execution_count": 126,
   "metadata": {},
   "outputs": [],
   "source": [
    "_iter = 0\n",
    "# for _iter in range(wandb.config.n_iter):\n",
    "masked_text = locator.locate_main(running_text, \n",
    "                                    method = config['locate_method'], \n",
    "                                    max_num_tokens = wandb.config.num_edit_token_per_step, \n",
    "                                    unit = config['locate_unit'], \n",
    "                                    num_layer = -2, #penultimate\n",
    "                                    label_id = config['target_label_ids'][0])\n"
   ]
  },
  {
   "cell_type": "code",
   "execution_count": 127,
   "metadata": {},
   "outputs": [
    {
     "data": {
      "text/plain": [
       "[' dirt. Unfortunately the majority of horses end up in shit that you had to drive yourself. My only recourse is to feed it myself. What would be the happy tale of my life then?',\n",
       " ' wearing games and holy ****ing shit do I hate horse wearing games.',\n",
       " \" fetishes: it just makes me want to puke every time I see it on the internet, even though it's not worth a thing because I am a furry.\"]"
      ]
     },
     "execution_count": 127,
     "metadata": {},
     "output_type": "execute_result"
    }
   ],
   "source": [
    "AR_prediction_all"
   ]
  },
  {
   "cell_type": "code",
   "execution_count": 128,
   "metadata": {},
   "outputs": [],
   "source": [
    "\n",
    "inputs = mlm_tokenizer(\n",
    "    masked_text, return_tensors=\"pt\", padding=True, truncation=True\n",
    ")\n",
    "inputs = inputs.to(config['device']) \n",
    "masked_sequence=inputs['input_ids']\n"
   ]
  },
  {
   "cell_type": "code",
   "execution_count": 129,
   "metadata": {},
   "outputs": [],
   "source": [
    "\n",
    "## make predictions for the masked indices\n",
    "with torch.no_grad():\n",
    "    logits = mlm(**inputs).logits\n"
   ]
  },
  {
   "cell_type": "code",
   "execution_count": 130,
   "metadata": {},
   "outputs": [],
   "source": [
    "\n",
    "special_token_ids = mlm_tokenizer.convert_tokens_to_ids(mlm_tokenizer.all_special_tokens)\n",
    "logits[:, :, special_token_ids] = -float(\"inf\")\n",
    "\n",
    "\n",
    "## 여기에서 repeat이 안되도록 처리할 수 있나? # 아직은 잘 모르겠음\n",
    "\n"
   ]
  },
  {
   "cell_type": "code",
   "execution_count": 131,
   "metadata": {},
   "outputs": [],
   "source": [
    "\n",
    "indices_in_mlm_tokens = (\n",
    "    inputs.input_ids == mlm_tokenizer.mask_token_id\n",
    ").nonzero(as_tuple=True)\n",
    "\n",
    "## get top k tokens for each index\n",
    "predicted_token_ids = torch.topk(\n",
    "    logits[indices_in_mlm_tokens[0], indices_in_mlm_tokens[1], :],\n",
    "    k=config['k_per_location'],\n",
    "    dim=-1,\n",
    ")\n"
   ]
  },
  {
   "cell_type": "code",
   "execution_count": 132,
   "metadata": {},
   "outputs": [],
   "source": [
    "\n",
    "if config[\"method\"] in [\"mlm-beamsearch-v0\",\"mlm-beamsearch-v1\"] :\n",
    "    hypotheses = get_beam_hypotheses(source_text, \n",
    "            masked_sequence, \n",
    "            indices_in_mlm_tokens,\n",
    "            predicted_token_ids.indices,\n",
    "            mlm_tokenizer, \n",
    "            lossfns,\n",
    "            config)\n",
    "elif config[\"method\"] == \"mlm-reranking\":\n",
    "    hypotheses = get_combi_hypotheses(masked_sequence, \n",
    "                indices_in_mlm_tokens,\n",
    "                predicted_token_ids.indices,\n",
    "                mlm_tokenizer,\n",
    "                config)\n"
   ]
  },
  {
   "cell_type": "code",
   "execution_count": 133,
   "metadata": {},
   "outputs": [
    {
     "data": {
      "text/plain": [
       "[[' dirt. Unfortunately the majority of you end up in something that you had to get to. My only recourse is to do it myself. What would be the happy tale of my life then?',\n",
       "  ' dirt. Unfortunately the majority of you end up in something that you had to work in, My only recourse is to make it myself. What would be the happy tale of my life then?',\n",
       "  ' dirt. Unfortunately the majority of you end up in something that you had to go for.\" My only recourse is to face it myself. What would be the happy tale of my life then?',\n",
       "  ' dirt. Unfortunately the majority of you end up in something that you had to help with? My only recourse is to live it myself. What would be the happy tale of my life then?',\n",
       "  ' dirt. Unfortunately the majority of you end up in something that you had to deal from! My only recourse is to buy it myself. What would be the happy tale of my life then?'],\n",
       " [' wearing games and by ****ing god do I hate horse wearing games.',\n",
       "  ' wearing games and no ****ing why do I hate horse wearing games.',\n",
       "  ' wearing games and how ****ing, do I hate horse wearing games.',\n",
       "  ' wearing games and why ****ing how do I hate horse wearing games.',\n",
       "  ' wearing games and God ****ing much do I hate horse wearing games.'],\n",
       " [\" fetishes: it just makes me want to be better every time I see it on the news, even though it's not worth a thing because I am the..\",\n",
       "  \" fetishes: it just makes me want to do something every time I see it on the TV — even though it's not worth a thing because I am a to it\",\n",
       "  \" fetishes: it just makes me want to get, every time I see it on the street - even though it's not worth a thing because I am in it:\",\n",
       "  \" fetishes: it just makes me want to love something every time I see it on the television – even though it's not worth a thing because I am an one)\",\n",
       "  \" fetishes: it just makes me want to buy them every time I see it on the screen -- even though it's not worth a thing because I am not there).\"]]"
      ]
     },
     "execution_count": 133,
     "metadata": {},
     "output_type": "execute_result"
    }
   ],
   "source": [
    "hypotheses"
   ]
  },
  {
   "cell_type": "code",
   "execution_count": 134,
   "metadata": {},
   "outputs": [],
   "source": [
    "    \n",
    "final_hypotheses, new_best_weighted_loss, new_best_allsat, new_best_logging_loss = final_reranking(source_text,\n",
    "                                                                                                   hypotheses,\n",
    "                                                                                                    lossfns,\n",
    "                                                                                                    config,\n",
    "                                                                                                     batch_size=64)\n"
   ]
  },
  {
   "cell_type": "code",
   "execution_count": 135,
   "metadata": {},
   "outputs": [
    {
     "data": {
      "text/plain": [
       "[' dirt. Unfortunately the majority of you end up in something that you had to get to. My only recourse is to do it myself. What would be the happy tale of my life then?',\n",
       " ' wearing games and no ****ing why do I hate horse wearing games.',\n",
       " \" fetishes: it just makes me want to be better every time I see it on the news, even though it's not worth a thing because I am the..\"]"
      ]
     },
     "execution_count": 135,
     "metadata": {},
     "output_type": "execute_result"
    }
   ],
   "source": [
    "final_hypotheses"
   ]
  },
  {
   "cell_type": "code",
   "execution_count": 136,
   "metadata": {},
   "outputs": [
    {
     "data": {
      "text/plain": [
       "tensor([13.857,  5.988, 11.103], device='cuda:0')"
      ]
     },
     "execution_count": 136,
     "metadata": {},
     "output_type": "execute_result"
    }
   ],
   "source": [
    "new_best_weighted_loss"
   ]
  },
  {
   "cell_type": "code",
   "execution_count": 137,
   "metadata": {},
   "outputs": [
    {
     "data": {
      "text/plain": [
       "tensor([ True, False,  True], device='cuda:0')"
      ]
     },
     "execution_count": 137,
     "metadata": {},
     "output_type": "execute_result"
    }
   ],
   "source": [
    "new_best_allsat"
   ]
  },
  {
   "cell_type": "code",
   "execution_count": 138,
   "metadata": {},
   "outputs": [
    {
     "data": {
      "text/plain": [
       "tensor([[  138.467,     0.011],\n",
       "        [   54.674,     0.579],\n",
       "        [  110.782,     0.027]], device='cuda:0')"
      ]
     },
     "execution_count": 138,
     "metadata": {},
     "output_type": "execute_result"
    }
   ],
   "source": [
    "new_best_logging_loss"
   ]
  },
  {
   "cell_type": "code",
   "execution_count": 139,
   "metadata": {},
   "outputs": [
    {
     "data": {
      "text/plain": [
       "tensor([ True, False,  True], device='cuda:0')"
      ]
     },
     "execution_count": 139,
     "metadata": {},
     "output_type": "execute_result"
    }
   ],
   "source": [
    "new_best_allsat"
   ]
  },
  {
   "cell_type": "code",
   "execution_count": 140,
   "metadata": {},
   "outputs": [],
   "source": [
    "\n",
    "update = torch.Tensor([]).long().to(config['device'])\n",
    "if wandb.config.selection_criteria == \"weighted_sum\":\n",
    "    update = best_weighted_loss > new_best_weighted_loss\n",
    "elif wandb.config.selection_criteria == \"allsat_primary\":\n",
    "    update = (~best_allsat & new_best_allsat) | \\\n",
    "            (~best_allsat & ~new_best_allsat & (best_weighted_loss > new_best_weighted_loss)) | \\\n",
    "            (best_allsat & new_best_allsat & (best_losses[:, 0] > new_best_logging_loss[:, 0])) \n"
   ]
  },
  {
   "cell_type": "code",
   "execution_count": 167,
   "metadata": {},
   "outputs": [],
   "source": [
    "\n",
    "## intermediate output for debugging\n",
    "for sample_ix in range(len(AR_prediction_all)):\n",
    "    \n",
    "    int_output[sample_ix].update({f\"iter{_iter}_original_sentence\": running_text[sample_ix],\n",
    "                                f\"iter{_iter}_masked_sentence\": masked_text[sample_ix],\n",
    "                                f\"iter{_iter}_best_text\": final_hypotheses[sample_ix],\n",
    "                                f\"iter{_iter}_update\": update[sample_ix].item()})\n"
   ]
  },
  {
   "cell_type": "code",
   "execution_count": 168,
   "metadata": {},
   "outputs": [
    {
     "data": {
      "text/plain": [
       "[{'iter0_original_sentence': ' dirt. Unfortunately the majority of you end up in something that you had to get to. My only recourse is to do it myself. What would be the happy tale of my life then?',\n",
       "  'iter0_masked_sentence': ' dirt. Unfortunately the majority of<mask> end up in<mask> that you had to<mask><mask><mask> My only recourse is to<mask> it myself. What would be the happy tale of my life then?',\n",
       "  'iter0_best_text': ' dirt. Unfortunately the majority of you end up in something that you had to get to. My only recourse is to do it myself. What would be the happy tale of my life then?',\n",
       "  'iter0_update': True},\n",
       " {'iter0_original_sentence': ' wearing games and no ****ing why do I hate horse wearing games.',\n",
       "  'iter0_masked_sentence': ' wearing games and<mask> ****ing<mask> do I hate horse wearing games.',\n",
       "  'iter0_best_text': ' wearing games and no ****ing why do I hate horse wearing games.',\n",
       "  'iter0_update': True},\n",
       " {'iter0_original_sentence': \" fetishes: it just makes me want to be better every time I see it on the news, even though it's not worth a thing because I am the..\",\n",
       "  'iter0_masked_sentence': \" fetishes: it just makes me want to<mask><mask> every time I see it on the<mask><mask> even though it's not worth a thing because I am<mask><mask><mask>\",\n",
       "  'iter0_best_text': \" fetishes: it just makes me want to be better every time I see it on the news, even though it's not worth a thing because I am the..\",\n",
       "  'iter0_update': True}]"
      ]
     },
     "execution_count": 168,
     "metadata": {},
     "output_type": "execute_result"
    }
   ],
   "source": [
    "int_output"
   ]
  },
  {
   "cell_type": "code",
   "execution_count": 143,
   "metadata": {},
   "outputs": [],
   "source": [
    "\n",
    "running_text = deepcopy(final_hypotheses)\n",
    "for update_index in update.nonzero().squeeze().tolist():\n",
    "    best_text[update_index] = final_hypotheses[update_index]\n",
    "best_allsat[update] = new_best_allsat[update]\n",
    "best_losses[update] = new_best_logging_loss[update]\n",
    "best_weighted_loss[update] = new_best_weighted_loss[update]\n"
   ]
  },
  {
   "cell_type": "code",
   "execution_count": 144,
   "metadata": {},
   "outputs": [
    {
     "data": {
      "text/plain": [
       "tensor([0, 0, 0], device='cuda:0')"
      ]
     },
     "execution_count": 144,
     "metadata": {},
     "output_type": "execute_result"
    }
   ],
   "source": [
    "es_patience_count"
   ]
  },
  {
   "cell_type": "code",
   "execution_count": 151,
   "metadata": {},
   "outputs": [
    {
     "data": {
      "text/plain": [
       "tensor([0, 2], device='cuda:0')"
      ]
     },
     "execution_count": 151,
     "metadata": {},
     "output_type": "execute_result"
    }
   ],
   "source": [
    "(best_allsat & edit_yn).nonzero().squeeze()"
   ]
  },
  {
   "cell_type": "code",
   "execution_count": 152,
   "metadata": {},
   "outputs": [
    {
     "data": {
      "text/plain": [
       "tensor([0, 0], device='cuda:0')"
      ]
     },
     "execution_count": 152,
     "metadata": {},
     "output_type": "execute_result"
    }
   ],
   "source": [
    "es_patience_count[(best_allsat & edit_yn).nonzero().squeeze()]"
   ]
  },
  {
   "cell_type": "code",
   "execution_count": 153,
   "metadata": {},
   "outputs": [],
   "source": [
    "\n",
    "es_patience_count[(best_allsat & edit_yn).nonzero().squeeze()] += 1\n",
    "\n"
   ]
  },
  {
   "cell_type": "code",
   "execution_count": 154,
   "metadata": {},
   "outputs": [
    {
     "data": {
      "text/plain": [
       "tensor([1, 0, 1], device='cuda:0')"
      ]
     },
     "execution_count": 154,
     "metadata": {},
     "output_type": "execute_result"
    }
   ],
   "source": [
    "es_patience_count"
   ]
  },
  {
   "cell_type": "code",
   "execution_count": 155,
   "metadata": {},
   "outputs": [
    {
     "data": {
      "text/plain": [
       "0"
      ]
     },
     "execution_count": 155,
     "metadata": {},
     "output_type": "execute_result"
    }
   ],
   "source": [
    "config[\"early_stopping_patience\"]"
   ]
  },
  {
   "cell_type": "code",
   "execution_count": 156,
   "metadata": {},
   "outputs": [],
   "source": [
    "if (config[\"early_stopping_patience\"] != -1):\n",
    "    edit_yn[es_patience_count > config['early_stopping_patience']] = 0"
   ]
  },
  {
   "cell_type": "code",
   "execution_count": 157,
   "metadata": {},
   "outputs": [
    {
     "data": {
      "text/plain": [
       "tensor([False,  True, False], device='cuda:0')"
      ]
     },
     "execution_count": 157,
     "metadata": {},
     "output_type": "execute_result"
    }
   ],
   "source": [
    "edit_yn"
   ]
  },
  {
   "cell_type": "code",
   "execution_count": 158,
   "metadata": {},
   "outputs": [
    {
     "data": {
      "text/plain": [
       "tensor(1, device='cuda:0')"
      ]
     },
     "execution_count": 158,
     "metadata": {},
     "output_type": "execute_result"
    }
   ],
   "source": [
    "edit_yn.sum()"
   ]
  },
  {
   "cell_type": "code",
   "execution_count": 160,
   "metadata": {},
   "outputs": [],
   "source": [
    "if (config[\"early_stopping_patience\"] != -1):\n",
    "    edit_yn[es_patience_count > config['early_stopping_patience']] = 0\n",
    "if edit_yn.sum() == 0:\n",
    "    print('break')"
   ]
  },
  {
   "cell_type": "code",
   "execution_count": 169,
   "metadata": {},
   "outputs": [],
   "source": [
    "\n",
    "output = {\n",
    "        \"prompt\": {\n",
    "            \"text\": source_text,\n",
    "        },\n",
    "        \"generations\": [\n",
    "            {\n",
    "                \"text\": best_text[i],\n",
    "                \"original_text\": AR_prediction_all[i],\n",
    "                \"allsat\": best_allsat[i].item(),\n",
    "                \"losses\": best_losses[i,:].tolist(),\n",
    "                \"weighted_loss\": best_weighted_loss[i].item(),\n",
    "                \"edited\": edited_at_all_yn[i].tolist(),\n",
    "            } for i in range(len(AR_prediction_all))\n",
    "        ],\n",
    "    }\n",
    "    \n",
    "intermediate_output = {\n",
    "        \"prompt\": {\n",
    "            \"text\": source_text,\n",
    "        },\n",
    "        \"generations\": \n",
    "            int_output\n",
    "        ,\n",
    "    }\n"
   ]
  },
  {
   "cell_type": "code",
   "execution_count": 171,
   "metadata": {},
   "outputs": [
    {
     "data": {
      "text/plain": [
       "{'prompt': {'text': 'Let me just start by saying I hate horse'},\n",
       " 'generations': [{'text': ' dirt. Unfortunately the majority of you end up in something that you had to get to. My only recourse is to do it myself. What would be the happy tale of my life then?',\n",
       "   'original_text': ' dirt. Unfortunately the majority of horses end up in shit that you had to drive yourself. My only recourse is to feed it myself. What would be the happy tale of my life then?',\n",
       "   'allsat': True,\n",
       "   'losses': [138.46743774414062, 0.011374153196811676],\n",
       "   'weighted_loss': 13.856980323791504,\n",
       "   'edited': True},\n",
       "  {'text': ' wearing games and no ****ing why do I hate horse wearing games.',\n",
       "   'original_text': ' wearing games and holy ****ing shit do I hate horse wearing games.',\n",
       "   'allsat': False,\n",
       "   'losses': [54.674339294433594, 0.5787469744682312],\n",
       "   'weighted_loss': 5.988306045532227,\n",
       "   'edited': True},\n",
       "  {'text': \" fetishes: it just makes me want to be better every time I see it on the news, even though it's not worth a thing because I am the..\",\n",
       "   'original_text': \" fetishes: it just makes me want to puke every time I see it on the internet, even though it's not worth a thing because I am a furry.\",\n",
       "   'allsat': True,\n",
       "   'losses': [110.78227233886719, 0.02703019417822361],\n",
       "   'weighted_loss': 11.102554321289062,\n",
       "   'edited': True}]}"
      ]
     },
     "execution_count": 171,
     "metadata": {},
     "output_type": "execute_result"
    }
   ],
   "source": [
    "output"
   ]
  },
  {
   "cell_type": "code",
   "execution_count": 173,
   "metadata": {},
   "outputs": [],
   "source": [
    "\n",
    "json.dump(output, outf)\n",
    "outf.write(\"\\n\")\n",
    "outf.flush()\n",
    "\n",
    "json.dump(intermediate_output, int_outf)\n",
    "int_outf.write(\"\\n\")\n",
    "int_outf.flush()\n",
    "        \n"
   ]
  },
  {
   "cell_type": "code",
   "execution_count": 174,
   "metadata": {},
   "outputs": [],
   "source": [
    "if (time.time() - main_start_time) > config['server_time_limit'] * 60 * 60 * 0.9:\n",
    "    interrupted = True\n",
    "    print('break')\n",
    "\n",
    "outf.close()\n",
    "int_outf.close()\n"
   ]
  },
  {
   "cell_type": "code",
   "execution_count": 175,
   "metadata": {},
   "outputs": [
    {
     "name": "stderr",
     "output_type": "stream",
     "text": [
      "wandb: WARNING Source type is set to 'repo' but some required information is missing from the environment. A job will not be created from this run. See https://docs.wandb.ai/guides/launch/create-job\n"
     ]
    },
    {
     "data": {
      "application/vnd.jupyter.widget-view+json": {
       "model_id": "cf02970fd0fb41e8858db73a2463d244",
       "version_major": 2,
       "version_minor": 0
      },
      "text/plain": [
       "VBox(children=(Label(value='0.008 MB of 0.008 MB uploaded\\r'), FloatProgress(value=1.0, max=1.0)))"
      ]
     },
     "metadata": {},
     "output_type": "display_data"
    },
    {
     "data": {
      "text/html": [
       "<style>\n",
       "    table.wandb td:nth-child(1) { padding: 0 10px; text-align: left ; width: auto;} td:nth-child(2) {text-align: left ; width: 100%}\n",
       "    .wandb-row { display: flex; flex-direction: row; flex-wrap: wrap; justify-content: flex-start; width: 100% }\n",
       "    .wandb-col { display: flex; flex-direction: column; flex-basis: 100%; flex: 1; padding: 10px; }\n",
       "    </style>\n",
       "<div class=\"wandb-row\"><div class=\"wandb-col\"><h3>Run summary:</h3><br/><table class=\"wandb\"><tr><td>decode_time</td><td>1319.89143</td></tr><tr><td>num_decoded_tokens</td><td>172</td></tr><tr><td>num_edited</td><td>6</td></tr><tr><td>num_skipped</td><td>0</td></tr><tr><td>outfile_path</td><td>outputs/toxicity/dev...</td></tr><tr><td>prep_time</td><td>17.00515</td></tr><tr><td>toks_p_sec</td><td>0.13031</td></tr></table><br/></div></div>"
      ],
      "text/plain": [
       "<IPython.core.display.HTML object>"
      ]
     },
     "metadata": {},
     "output_type": "display_data"
    },
    {
     "data": {
      "text/html": [
       " View run <strong style=\"color:#cdcd00\">vulcan-t-pol-152</strong> at: <a href='https://wandb.ai/hayleyson/toxicity-decoding/runs/45d5r7bb' target=\"_blank\">https://wandb.ai/hayleyson/toxicity-decoding/runs/45d5r7bb</a><br/>Synced 6 W&B file(s), 0 media file(s), 0 artifact file(s) and 0 other file(s)"
      ],
      "text/plain": [
       "<IPython.core.display.HTML object>"
      ]
     },
     "metadata": {},
     "output_type": "display_data"
    },
    {
     "data": {
      "text/html": [
       "Find logs at: <code>./wandb/run-20240406_182129-45d5r7bb/logs</code>"
      ],
      "text/plain": [
       "<IPython.core.display.HTML object>"
      ]
     },
     "metadata": {},
     "output_type": "display_data"
    },
    {
     "name": "stderr",
     "output_type": "stream",
     "text": [
      "Starting new HTTPS connection (1): o151352.ingest.sentry.io:443\n",
      "https://o151352.ingest.sentry.io:443 \"POST /api/4504800232407040/envelope/ HTTP/1.1\" 200 0\n"
     ]
    }
   ],
   "source": [
    "\n",
    "if config[\"resume\"]:\n",
    "    run.summary[\"decode_time\"] += time.time() - decode_start_time\n",
    "else:\n",
    "    run.summary[\"decode_time\"] = time.time() - decode_start_time\n",
    "run.summary['num_decoded_tokens'] = num_decoded_tokens\n",
    "run.summary['toks_p_sec'] = (num_decoded_tokens/run.summary['decode_time'])\n",
    "run.summary[\"num_skipped\"] = num_skipped\n",
    "run.summary[\"num_edited\"] = num_edited\n",
    "\n",
    "run.finish()\n"
   ]
  },
  {
   "cell_type": "code",
   "execution_count": null,
   "metadata": {},
   "outputs": [],
   "source": [
    "\n",
    "\n",
    "\n",
    "if __name__ == \"__main__\":\n",
    "    parser = argparse.ArgumentParser(description=\"Locally Editing Text Generation\")\n",
    "    parser.add_argument(\n",
    "        \"--task\",\n",
    "        type=str,\n",
    "        help=\"task name\",\n",
    "        choices=[\"toxicity\", \"formality\", \"sentiment\", \"sentiment-lewis-compr\"],\n",
    "    )\n",
    "    parser.add_argument(\n",
    "        \"--source_data\",\n",
    "        type=str,\n",
    "        default=\"data/formality/GYAFC_Corpus/Entertainment_Music/test/informal\",\n",
    "        help=\"source data path\",\n",
    "    )\n",
    "    parser.add_argument(\n",
    "        \"--source_style\", type=str, default=\"informal\", help=\"source style\"\n",
    "    )\n",
    "    parser.add_argument(\n",
    "        \"--target_style\", type=str, default=\"formal\", help=\"target style\"\n",
    "    )\n",
    "    parser.add_argument(\n",
    "        \"--target_label_ids\",\n",
    "        nargs=\"+\",\n",
    "        type=int,\n",
    "        default=[1, 1],\n",
    "        help=\"a list of indices of target label used in each of models. e.g. [1,1]\",\n",
    "    )\n",
    "    parser.add_argument(\n",
    "        \"--model_paths\",\n",
    "        nargs=\"+\",\n",
    "        type=str,\n",
    "        default=[\n",
    "            \"gpt2-large\",\n",
    "            \"/home/s3/hyeryung/data/loc_edit/roberta-base-pt16-formality-regressor-with-gpt2-large-embeds-rescale/epoch_17\",\n",
    "        ],\n",
    "        help=\"model paths\",\n",
    "    )\n",
    "    parser.add_argument(\n",
    "        \"--tokenizer_paths\",\n",
    "        nargs=\"+\",\n",
    "        type=str,\n",
    "        default=[\n",
    "            \"gpt2-large\",\n",
    "            \"/home/s3/hyeryung/data/loc_edit/roberta-base-pt16-formality-regressor-with-gpt2-large-embeds-rescale/epoch_17\",\n",
    "        ],\n",
    "        help=\"tokenizer paths\",\n",
    "    )\n",
    "    parser.add_argument(\n",
    "        \"--model_types\",\n",
    "        nargs=\"+\",\n",
    "        type=str,\n",
    "        default=[\"AutoModelForCausalLM\", \"RobertaCustomForSequenceClassification\"],\n",
    "        help=\"model types\",\n",
    "    )\n",
    "    parser.add_argument(\n",
    "        \"--output_dir_prefix\",\n",
    "        type=str,\n",
    "        help=\"output directory prefix. e.g. outputs/formality/mlm-reranking\",\n",
    "    )\n",
    "    parser.add_argument(\n",
    "        \"--early_stopping_patience\",\n",
    "        type=int,\n",
    "        default=-1,\n",
    "        help=\"early stopping patience\",\n",
    "    )\n",
    "    parser.add_argument(\n",
    "        \"--method\",\n",
    "        type=str,\n",
    "        default=\"mlm-beamsearch-v0\",\n",
    "        help=\"method name\",\n",
    "        choices=[\n",
    "            \"mlm-beamsearch-v0\",\n",
    "            \"mlm-beamsearch-v1\",\n",
    "            \"mlm-beamsearch-v2\",\n",
    "            \"mlm-reranking\",\n",
    "        ],\n",
    "    )\n",
    "    parser.add_argument(\n",
    "        \"--locate_unit\", type=str, default=\"token\", help=\"unit to locate\"\n",
    "    )\n",
    "    parser.add_argument(\n",
    "        \"--min_epsilons\", nargs=\"+\", type=float, default=[0.75], help=\"min epsilons\"\n",
    "    )\n",
    "    parser.add_argument(\n",
    "        \"--num_samples\",\n",
    "        type=int,\n",
    "        default=1,\n",
    "        help=\"number of samples to edit per prompt\",\n",
    "    )\n",
    "    parser.add_argument(\"--device\", type=str, default=\"cuda\", help=\"device\")\n",
    "    parser.add_argument(\n",
    "        \"--target_type\",\n",
    "        type=str,\n",
    "        default=\"embeds\",\n",
    "        help=\"target type (embeds, simplex, probability) from prior work's code\",\n",
    "    )\n",
    "    parser.add_argument(\n",
    "        \"--cache_dir\", type=str, default=\"hf_cache\", help=\"cache directory\"\n",
    "    )\n",
    "    parser.add_argument(\n",
    "        \"--jsonl_primary_key\", type=str, default=\"prompt\", help=\"jsonl primary key\"\n",
    "    )\n",
    "    parser.add_argument(\n",
    "        \"--jsonl_secondary_key\", type=str, default=\"text\", help=\"jsonl secondary key\"\n",
    "    )\n",
    "    parser.add_argument(\n",
    "        \"--losses\",\n",
    "        nargs=\"+\",\n",
    "        type=str,\n",
    "        default=[\"gpt2\", \"classification_no_prefix_logprobloss\"],\n",
    "        help=\"losses\",\n",
    "    )\n",
    "    parser.add_argument(\n",
    "        \"--build_loss_dict\",\n",
    "        type=json.loads,\n",
    "        default='{\"coeff_steps\": 200, \"coeff_pattern\": \"constant\", \"loss_type\": \"xentropy\", \"length_normalize\": false, \"AR_temperature\": 1.0, \"AR_top_k\": 0, \"AR_top_p\": 0.96, \"max_output_length\": 20}',\n",
    "        help=\"build loss dict\",\n",
    "    )\n",
    "    parser.add_argument(\n",
    "        \"--num_edit_token_per_step\",\n",
    "        type=int,\n",
    "        default=5,\n",
    "        help=\"number of edit tokens per step\",\n",
    "    )\n",
    "    parser.add_argument(\"--k_per_location\", type=int, default=15, help=\"k per location\")\n",
    "    parser.add_argument(\"--n_iter\", type=int, default=3, help=\"number of iterations\")\n",
    "    parser.add_argument(\n",
    "        \"--selection_criteria\",\n",
    "        type=str,\n",
    "        default=\"weighted_sum\",\n",
    "        help=\"selection criteria\",\n",
    "    )\n",
    "    parser.add_argument(\"--closs_weight\", type=float, default=0.32, help=\"closs weight\")\n",
    "    parser.add_argument(\"--beam_size\", type=int, default=5, help=\"beam size\")\n",
    "    parser.add_argument(\n",
    "        \"--wandb_project\", type=str, default=\"mlm_reranking\", help=\"wandb project name\"\n",
    "    )\n",
    "    parser.add_argument(\n",
    "        \"--wandb_entity\", type=str, default=\"hayleyson\", help=\"wandb entity name\"\n",
    "    )\n",
    "    parser.add_argument(\"--wandb_run_id\", type=str, help=\"wandb run name\")\n",
    "    parser.add_argument(\n",
    "        \"--resume\", action=\"store_true\", help=\"whether to resume from a previous run\"\n",
    "    )\n",
    "    parser.add_argument(\"--slurm_job_id\", type=str, help=\"slurm job id (for debugging)\")\n",
    "    parser.add_argument(\n",
    "        \"--dont_skip_allsat\",\n",
    "        action=\"store_true\",\n",
    "        help=\"if this argument is passed, the module will conduct decoding on all samples even if they already satisfy constraints\",\n",
    "    )\n",
    "    parser.add_argument(\n",
    "        \"--locate_method\",\n",
    "        type=str,\n",
    "        help=\"method to use for locating tokens\",\n",
    "        choices=[\"attention\", \"grad_norm\"],\n",
    "        default=\"attention\",\n",
    "    )\n",
    "    parser.add_argument(\n",
    "        \"--server_time_limit\",\n",
    "        type=float,\n",
    "        help=\"Number of maximum hours to run the script for. Can be fractions e.g. 7.5.\",\n",
    "        default=10000\n",
    "    )\n",
    "\n",
    "    args = parser.parse_args()\n",
    "    config = vars(args)\n",
    "\n",
    "    main(config)\n"
   ]
  }
 ],
 "metadata": {
  "kernelspec": {
   "display_name": "loc-edit",
   "language": "python",
   "name": "python3"
  },
  "language_info": {
   "codemirror_mode": {
    "name": "ipython",
    "version": 3
   },
   "file_extension": ".py",
   "mimetype": "text/x-python",
   "name": "python",
   "nbconvert_exporter": "python",
   "pygments_lexer": "ipython3",
   "version": "3.8.18"
  }
 },
 "nbformat": 4,
 "nbformat_minor": 2
}
