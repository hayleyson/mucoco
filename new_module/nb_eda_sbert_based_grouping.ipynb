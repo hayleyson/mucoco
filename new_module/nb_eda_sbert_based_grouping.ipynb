{
 "cells": [
  {
   "cell_type": "code",
   "execution_count": 1,
   "metadata": {},
   "outputs": [],
   "source": [
    "from glob import glob\n",
    "import numpy as np\n",
    "import os\n",
    "os.chdir('/data/hyeryung/mucoco')\n",
    "import pandas as pd\n",
    "# from evaluation.prompted_sampling.evaluate import distinctness, repetition\n",
    "from transformers import AutoTokenizer\n",
    "from tqdm import tqdm"
   ]
  },
  {
   "cell_type": "code",
   "execution_count": 2,
   "metadata": {},
   "outputs": [],
   "source": [
    "tokenizer = AutoTokenizer.from_pretrained('gpt2-large')"
   ]
  },
  {
   "cell_type": "code",
   "execution_count": 20,
   "metadata": {},
   "outputs": [],
   "source": [
    "data = []\n",
    "for fpath in sorted(glob('/data/hyeryung/BOLT/sentiment/sentiment/*.jsonl')):\n",
    "    output = pd.read_json(fpath, lines=True)\n",
    "    output['fpath'] = fpath\n",
    "    data.append(output)\n",
    "data = pd.concat(data, axis=0)"
   ]
  },
  {
   "cell_type": "code",
   "execution_count": 21,
   "metadata": {},
   "outputs": [],
   "source": [
    "data = data.explode('generations')"
   ]
  },
  {
   "cell_type": "code",
   "execution_count": 22,
   "metadata": {},
   "outputs": [],
   "source": [
    "data['seq_len'] = data['generations'].apply(lambda x: len(tokenizer.encode(x['text'])))"
   ]
  },
  {
   "cell_type": "code",
   "execution_count": 23,
   "metadata": {},
   "outputs": [
    {
     "data": {
      "text/plain": [
       "49196"
      ]
     },
     "execution_count": 23,
     "metadata": {},
     "output_type": "execute_result"
    }
   ],
   "source": [
    "data.seq_len.sum()"
   ]
  },
  {
   "cell_type": "code",
   "execution_count": 24,
   "metadata": {},
   "outputs": [
    {
     "name": "stdout",
     "output_type": "stream",
     "text": [
      "0.029692789159978725\n"
     ]
    }
   ],
   "source": [
    "all_data = []\n",
    "for fpath in sorted(glob('/data/hyeryung/BOLT/sentiment/sentiment/*.sbertscore')):\n",
    "    with open(fpath , 'r') as f:\n",
    "        raw_data = f.readlines()\n",
    "        tmp_data = [float(x.strip()) for x in raw_data[1:]]\n",
    "    all_data.extend(tmp_data)\n",
    "data['sbert']=all_data\n",
    "print(np.mean(all_data))\n"
   ]
  },
  {
   "cell_type": "code",
   "execution_count": 25,
   "metadata": {},
   "outputs": [
    {
     "name": "stdout",
     "output_type": "stream",
     "text": [
      "0.9566666666666667\n"
     ]
    }
   ],
   "source": [
    "all_data = []\n",
    "for fpath in sorted(glob('/data/hyeryung/BOLT/sentiment/sentiment/*.fluency')):\n",
    "    with open(fpath , 'r') as f:\n",
    "        tmp_data = [1 if x.strip() == 'LABEL_1' else 0 for x in f.readlines()]\n",
    "    all_data.extend(tmp_data)\n",
    "data['fluency'] = all_data\n",
    "print(np.mean(all_data))"
   ]
  },
  {
   "cell_type": "code",
   "execution_count": 26,
   "metadata": {},
   "outputs": [
    {
     "name": "stdout",
     "output_type": "stream",
     "text": [
      "8.614294544184443\n"
     ]
    }
   ],
   "source": [
    "all_data = []\n",
    "for fpath in sorted(glob('/data/hyeryung/BOLT/sentiment/sentiment/*.ppl-big')):\n",
    "    with open(fpath , 'r') as f:\n",
    "        tmp_data = [float(x.strip().split(',')[0]) for x in f.readlines()]\n",
    "    all_data.extend(tmp_data)\n",
    "data['ppl'] = all_data\n",
    "print(np.mean(all_data))"
   ]
  },
  {
   "cell_type": "code",
   "execution_count": 27,
   "metadata": {},
   "outputs": [
    {
     "name": "stdout",
     "output_type": "stream",
     "text": [
      "0.0\n"
     ]
    }
   ],
   "source": [
    "all_data = []\n",
    "for fpath in sorted(glob('/data/hyeryung/BOLT/sentiment/sentiment/*.repetitions')):\n",
    "    with open(fpath , 'r') as f:\n",
    "        tmp_data = [0 if x.strip() == \"{}\" else 1 for x in f.readlines()]\n",
    "    all_data.extend(tmp_data)\n",
    "data['rep']=all_data\n",
    "print(np.mean(all_data))\n"
   ]
  },
  {
   "cell_type": "code",
   "execution_count": 28,
   "metadata": {},
   "outputs": [
    {
     "name": "stdout",
     "output_type": "stream",
     "text": [
      "0.7616666666666667\n"
     ]
    }
   ],
   "source": [
    "all_data = []\n",
    "for fpath in sorted(glob('/data/hyeryung/BOLT/sentiment/sentiment/pos*.sentiment_ext')):\n",
    "    \n",
    "    with open(fpath , 'r') as f:\n",
    "        raw_data = f.readlines()\n",
    "        tmp_data = [1 if eval(x)['label']=='POSITIVE' else 0 for x in raw_data]\n",
    "    all_data.extend(tmp_data)\n",
    "    \n",
    "for fpath in sorted(glob('/data/hyeryung/BOLT/sentiment/sentiment/neg*.sentiment_ext')):\n",
    "    \n",
    "    with open(fpath , 'r') as f:\n",
    "        raw_data = f.readlines()\n",
    "        tmp_data = [1 if eval(x)['label']=='NEGATIVE' else 0 for x in raw_data]\n",
    "    all_data.extend(tmp_data)\n",
    "    \n",
    "data['sentiment_acc'] = all_data\n",
    "print(np.mean(all_data))\n"
   ]
  },
  {
   "cell_type": "code",
   "execution_count": 1,
   "metadata": {},
   "outputs": [
    {
     "ename": "NameError",
     "evalue": "name 'glob' is not defined",
     "output_type": "error",
     "traceback": [
      "\u001b[0;31m---------------------------------------------------------------------------\u001b[0m",
      "\u001b[0;31mNameError\u001b[0m                                 Traceback (most recent call last)",
      "Cell \u001b[0;32mIn[1], line 4\u001b[0m\n\u001b[1;32m      1\u001b[0m \u001b[38;5;66;03m# ## dist-3\u001b[39;00m\n\u001b[1;32m      3\u001b[0m dist3_metrics\u001b[38;5;241m=\u001b[39m[]\n\u001b[0;32m----> 4\u001b[0m \u001b[38;5;28;01mfor\u001b[39;00m fpath \u001b[38;5;129;01min\u001b[39;00m \u001b[38;5;28msorted\u001b[39m(\u001b[43mglob\u001b[49m(\u001b[38;5;124m'\u001b[39m\u001b[38;5;124m/data/hyeryung/BOLT/sentiment/sentiment/*.jsonl\u001b[39m\u001b[38;5;124m'\u001b[39m)):\n\u001b[1;32m      6\u001b[0m     outputs\u001b[38;5;241m=\u001b[39mpd\u001b[38;5;241m.\u001b[39mread_json(fpath, lines\u001b[38;5;241m=\u001b[39m\u001b[38;5;28;01mTrue\u001b[39;00m)\n\u001b[1;32m      7\u001b[0m     _,_,dist3\u001b[38;5;241m=\u001b[39mdistinctness(outputs)\n",
      "\u001b[0;31mNameError\u001b[0m: name 'glob' is not defined"
     ]
    }
   ],
   "source": [
    "# ## dist-3\n",
    "\n",
    "dist3_metrics=[]\n",
    "for fpath in sorted(glob('/data/hyeryung/BOLT/sentiment/sentiment/*.jsonl')):\n",
    "\n",
    "    outputs=pd.read_json(fpath, lines=True)\n",
    "    _,_,dist3=distinctness(outputs)\n",
    "    dist3_metrics.append(dist3)\n",
    "#\n",
    "print(np.mean(dist3_metrics))"
   ]
  },
  {
   "cell_type": "code",
   "execution_count": 32,
   "metadata": {},
   "outputs": [],
   "source": [
    "data['target']=data['fpath'].str.split('/').apply(lambda x: x[-1][:3])"
   ]
  },
  {
   "cell_type": "code",
   "execution_count": 37,
   "metadata": {},
   "outputs": [
    {
     "data": {
      "text/plain": [
       "0.0005555555555555556"
      ]
     },
     "execution_count": 37,
     "metadata": {},
     "output_type": "execute_result"
    }
   ],
   "source": [
    "data.loc[data['sbert']>= 0.5,].shape[0]/data.shape[0]"
   ]
  },
  {
   "cell_type": "code",
   "execution_count": 39,
   "metadata": {},
   "outputs": [
    {
     "data": {
      "text/html": [
       "<div>\n",
       "<style scoped>\n",
       "    .dataframe tbody tr th:only-of-type {\n",
       "        vertical-align: middle;\n",
       "    }\n",
       "\n",
       "    .dataframe tbody tr th {\n",
       "        vertical-align: top;\n",
       "    }\n",
       "\n",
       "    .dataframe thead th {\n",
       "        text-align: right;\n",
       "    }\n",
       "</style>\n",
       "<table border=\"1\" class=\"dataframe\">\n",
       "  <thead>\n",
       "    <tr style=\"text-align: right;\">\n",
       "      <th></th>\n",
       "      <th>prompt</th>\n",
       "      <th>generations</th>\n",
       "      <th>fpath</th>\n",
       "      <th>seq_len</th>\n",
       "      <th>sbert</th>\n",
       "      <th>fluency</th>\n",
       "      <th>ppl</th>\n",
       "      <th>rep</th>\n",
       "      <th>sentiment_acc</th>\n",
       "      <th>target</th>\n",
       "    </tr>\n",
       "  </thead>\n",
       "  <tbody>\n",
       "    <tr>\n",
       "      <th>1</th>\n",
       "      <td>{'text': 'The book'}</td>\n",
       "      <td>{'text': ' is full of interesting insights and...</td>\n",
       "      <td>/data/hyeryung/BOLT/sentiment/sentiment/pos.le...</td>\n",
       "      <td>12</td>\n",
       "      <td>0.537997</td>\n",
       "      <td>1</td>\n",
       "      <td>11.719075</td>\n",
       "      <td>0</td>\n",
       "      <td>0</td>\n",
       "      <td>pos</td>\n",
       "    </tr>\n",
       "  </tbody>\n",
       "</table>\n",
       "</div>"
      ],
      "text/plain": [
       "                 prompt                                        generations  \\\n",
       "1  {'text': 'The book'}  {'text': ' is full of interesting insights and...   \n",
       "\n",
       "                                               fpath  seq_len     sbert  \\\n",
       "1  /data/hyeryung/BOLT/sentiment/sentiment/pos.le...       12  0.537997   \n",
       "\n",
       "   fluency        ppl  rep  sentiment_acc target  \n",
       "1        1  11.719075    0              0    pos  "
      ]
     },
     "execution_count": 39,
     "metadata": {},
     "output_type": "execute_result"
    }
   ],
   "source": [
    "data.loc[data['sbert']>= 0.5,]"
   ]
  },
  {
   "cell_type": "code",
   "execution_count": 40,
   "metadata": {},
   "outputs": [
    {
     "data": {
      "text/plain": [
       "1799"
      ]
     },
     "execution_count": 40,
     "metadata": {},
     "output_type": "execute_result"
    }
   ],
   "source": [
    "data.loc[data['sbert']< 0.5,].shape[0]"
   ]
  },
  {
   "cell_type": "code",
   "execution_count": 41,
   "metadata": {},
   "outputs": [
    {
     "data": {
      "text/plain": [
       "sbert             0.537997\n",
       "fluency           1.000000\n",
       "ppl              11.719075\n",
       "rep               0.000000\n",
       "sentiment_acc     0.000000\n",
       "dtype: float64"
      ]
     },
     "execution_count": 41,
     "metadata": {},
     "output_type": "execute_result"
    }
   ],
   "source": [
    "data.loc[data['sbert']>= 0.5, ['sbert','fluency','ppl','rep','sentiment_acc']].mean()"
   ]
  },
  {
   "cell_type": "code",
   "execution_count": 35,
   "metadata": {},
   "outputs": [
    {
     "data": {
      "text/plain": [
       "fluency          0.956643\n",
       "ppl              8.612569\n",
       "rep              0.000000\n",
       "sentiment_acc    0.762090\n",
       "dtype: float64"
      ]
     },
     "execution_count": 35,
     "metadata": {},
     "output_type": "execute_result"
    }
   ],
   "source": [
    "data.loc[data['sbert']< 0.5, ['fluency','ppl','rep','sentiment_acc']].mean()"
   ]
  },
  {
   "cell_type": "code",
   "execution_count": null,
   "metadata": {},
   "outputs": [],
   "source": []
  },
  {
   "cell_type": "code",
   "execution_count": 13,
   "metadata": {},
   "outputs": [],
   "source": [
    "fpath_prefix='/data/hyeryung/BOLT/detoxic/detoxic/'"
   ]
  },
  {
   "cell_type": "code",
   "execution_count": 14,
   "metadata": {},
   "outputs": [],
   "source": [
    "data = []\n",
    "for fpath in sorted(glob(f'{fpath_prefix}*.jsonl')):\n",
    "    output = pd.read_json(fpath, lines=True)\n",
    "    output['fpath'] = fpath\n",
    "    data.append(output)\n",
    "data = pd.concat(data, axis=0)"
   ]
  },
  {
   "cell_type": "code",
   "execution_count": 15,
   "metadata": {},
   "outputs": [],
   "source": [
    "data = data.explode('generations')"
   ]
  },
  {
   "cell_type": "code",
   "execution_count": 16,
   "metadata": {},
   "outputs": [],
   "source": [
    "data['seq_len'] = data['generations'].apply(lambda x: len(tokenizer.encode(x['text'])))"
   ]
  },
  {
   "cell_type": "code",
   "execution_count": 17,
   "metadata": {},
   "outputs": [
    {
     "data": {
      "text/plain": [
       "93152"
      ]
     },
     "execution_count": 17,
     "metadata": {},
     "output_type": "execute_result"
    }
   ],
   "source": [
    "data.seq_len.sum()"
   ]
  },
  {
   "cell_type": "code",
   "execution_count": 18,
   "metadata": {},
   "outputs": [
    {
     "data": {
      "text/plain": [
       "'/data/hyeryung/BOLT/detoxic/detoxic/gen_len20.jsonl'"
      ]
     },
     "execution_count": 18,
     "metadata": {},
     "output_type": "execute_result"
    }
   ],
   "source": [
    "fpath"
   ]
  },
  {
   "cell_type": "code",
   "execution_count": 20,
   "metadata": {},
   "outputs": [
    {
     "name": "stdout",
     "output_type": "stream",
     "text": [
      "0.031783755126808685\n"
     ]
    }
   ],
   "source": [
    "all_data = []\n",
    "for fpath in sorted(glob(f'{fpath_prefix}/*.sbertscore')):\n",
    "    with open(fpath , 'r') as f:\n",
    "        raw_data = f.readlines()\n",
    "        tmp_data = [float(x.strip()) for x in raw_data[1:]]\n",
    "    all_data.extend(tmp_data)\n",
    "data['sbert']=all_data\n",
    "print(np.mean(all_data))\n"
   ]
  },
  {
   "cell_type": "code",
   "execution_count": 23,
   "metadata": {},
   "outputs": [
    {
     "name": "stdout",
     "output_type": "stream",
     "text": [
      "0.9592\n"
     ]
    }
   ],
   "source": [
    "all_data = []\n",
    "for fpath in sorted(glob(f'{fpath_prefix}/*.fluency')):\n",
    "    with open(fpath , 'r') as f:\n",
    "        tmp_data = [1 if x.strip() == 'LABEL_1' else 0 for x in f.readlines()]\n",
    "    all_data.extend(tmp_data)\n",
    "data['fluency'] = all_data\n",
    "print(np.mean(all_data))"
   ]
  },
  {
   "cell_type": "code",
   "execution_count": 24,
   "metadata": {},
   "outputs": [
    {
     "name": "stdout",
     "output_type": "stream",
     "text": [
      "8.89616156043901\n"
     ]
    }
   ],
   "source": [
    "all_data = []\n",
    "for fpath in sorted(glob(f'{fpath_prefix}/*.ppl-big')):\n",
    "    with open(fpath , 'r') as f:\n",
    "        tmp_data = [float(x.strip().split(',')[0]) for x in f.readlines()]\n",
    "    all_data.extend(tmp_data)\n",
    "data['ppl'] = all_data\n",
    "print(np.mean(all_data))"
   ]
  },
  {
   "cell_type": "code",
   "execution_count": 25,
   "metadata": {},
   "outputs": [
    {
     "name": "stdout",
     "output_type": "stream",
     "text": [
      "0.0008\n"
     ]
    }
   ],
   "source": [
    "all_data = []\n",
    "for fpath in sorted(glob(f'{fpath_prefix}/*.repetitions')):\n",
    "    with open(fpath , 'r') as f:\n",
    "        tmp_data = [0 if x.strip() == \"{}\" else 1 for x in f.readlines()]\n",
    "    all_data.extend(tmp_data)\n",
    "data['rep']=all_data\n",
    "print(np.mean(all_data))\n"
   ]
  },
  {
   "cell_type": "code",
   "execution_count": 27,
   "metadata": {},
   "outputs": [
    {
     "name": "stdout",
     "output_type": "stream",
     "text": [
      "0.08984012971584\n"
     ]
    }
   ],
   "source": [
    "all_data = []\n",
    "for fpath in sorted(glob(f'{fpath_prefix}/*.toxicity')):\n",
    "    raw_data = pd.read_json(fpath, lines=True)\n",
    "    tmp_data = unravel_toxicity_data(raw_data)\n",
    "    all_data.extend(tmp_data['toxicity'])\n",
    "    \n",
    "    \n",
    "data['toxicity'] = all_data\n",
    "print(np.mean(all_data))"
   ]
  },
  {
   "cell_type": "code",
   "execution_count": 38,
   "metadata": {},
   "outputs": [],
   "source": [
    "data['prompt'] = data['prompt'].apply(lambda x: x['text'])"
   ]
  },
  {
   "cell_type": "code",
   "execution_count": 39,
   "metadata": {},
   "outputs": [
    {
     "data": {
      "text/plain": [
       "0.21490436696"
      ]
     },
     "execution_count": 39,
     "metadata": {},
     "output_type": "execute_result"
    }
   ],
   "source": [
    "data.groupby('prompt')['toxicity'].max().mean()"
   ]
  },
  {
   "cell_type": "code",
   "execution_count": 41,
   "metadata": {},
   "outputs": [
    {
     "data": {
      "text/plain": [
       "0.06"
      ]
     },
     "execution_count": 41,
     "metadata": {},
     "output_type": "execute_result"
    }
   ],
   "source": [
    "(data.groupby('prompt')['is_toxic'].sum() >= 1).mean()"
   ]
  },
  {
   "cell_type": "code",
   "execution_count": 30,
   "metadata": {},
   "outputs": [],
   "source": [
    "data['sbert_geq_50']=data['sbert'] >= 0.5"
   ]
  },
  {
   "cell_type": "code",
   "execution_count": 31,
   "metadata": {},
   "outputs": [],
   "source": [
    "data['is_toxic'] = data['toxicity'] >= 0.5"
   ]
  },
  {
   "cell_type": "code",
   "execution_count": 33,
   "metadata": {},
   "outputs": [
    {
     "data": {
      "text/html": [
       "<div>\n",
       "<style scoped>\n",
       "    .dataframe tbody tr th:only-of-type {\n",
       "        vertical-align: middle;\n",
       "    }\n",
       "\n",
       "    .dataframe tbody tr th {\n",
       "        vertical-align: top;\n",
       "    }\n",
       "\n",
       "    .dataframe thead th {\n",
       "        text-align: right;\n",
       "    }\n",
       "</style>\n",
       "<table border=\"1\" class=\"dataframe\">\n",
       "  <thead>\n",
       "    <tr style=\"text-align: right;\">\n",
       "      <th></th>\n",
       "      <th>toxicity</th>\n",
       "      <th>is_toxic</th>\n",
       "      <th>ppl</th>\n",
       "      <th>fluency</th>\n",
       "      <th>rep</th>\n",
       "      <th>sbert</th>\n",
       "    </tr>\n",
       "    <tr>\n",
       "      <th>sbert_geq_50</th>\n",
       "      <th></th>\n",
       "      <th></th>\n",
       "      <th></th>\n",
       "      <th></th>\n",
       "      <th></th>\n",
       "      <th></th>\n",
       "    </tr>\n",
       "  </thead>\n",
       "  <tbody>\n",
       "    <tr>\n",
       "      <th>True</th>\n",
       "      <td>0.214121</td>\n",
       "      <td>0.250000</td>\n",
       "      <td>4.280235</td>\n",
       "      <td>1.000000</td>\n",
       "      <td>0.000000</td>\n",
       "      <td>0.535930</td>\n",
       "    </tr>\n",
       "    <tr>\n",
       "      <th>False</th>\n",
       "      <td>0.089441</td>\n",
       "      <td>0.012039</td>\n",
       "      <td>8.910980</td>\n",
       "      <td>0.959069</td>\n",
       "      <td>0.000803</td>\n",
       "      <td>0.030165</td>\n",
       "    </tr>\n",
       "  </tbody>\n",
       "</table>\n",
       "</div>"
      ],
      "text/plain": [
       "              toxicity  is_toxic       ppl   fluency       rep     sbert\n",
       "sbert_geq_50                                                            \n",
       "True          0.214121  0.250000  4.280235  1.000000  0.000000  0.535930\n",
       "False         0.089441  0.012039  8.910980  0.959069  0.000803  0.030165"
      ]
     },
     "execution_count": 33,
     "metadata": {},
     "output_type": "execute_result"
    }
   ],
   "source": [
    "data.groupby('sbert_geq_50')[['toxicity', 'is_toxic','ppl', 'fluency','rep', 'sbert',\n",
    "       ]].mean().sort_index(ascending=False)"
   ]
  },
  {
   "cell_type": "code",
   "execution_count": 34,
   "metadata": {},
   "outputs": [
    {
     "data": {
      "text/plain": [
       "sbert_geq_50\n",
       "True        8\n",
       "False    2492\n",
       "dtype: int64"
      ]
     },
     "execution_count": 34,
     "metadata": {},
     "output_type": "execute_result"
    }
   ],
   "source": [
    "data.groupby('sbert_geq_50').size().sort_index(ascending=False)"
   ]
  },
  {
   "cell_type": "code",
   "execution_count": 35,
   "metadata": {},
   "outputs": [
    {
     "data": {
      "text/plain": [
       "sbert_geq_50\n",
       "True     0.0032\n",
       "False    0.9968\n",
       "dtype: float64"
      ]
     },
     "execution_count": 35,
     "metadata": {},
     "output_type": "execute_result"
    }
   ],
   "source": [
    "data.groupby('sbert_geq_50').size().sort_index(ascending=False)/data.shape[0]"
   ]
  },
  {
   "cell_type": "code",
   "execution_count": null,
   "metadata": {},
   "outputs": [],
   "source": []
  },
  {
   "cell_type": "code",
   "execution_count": null,
   "metadata": {},
   "outputs": [],
   "source": []
  }
 ],
 "metadata": {
  "kernelspec": {
   "display_name": "loc-edit",
   "language": "python",
   "name": "python3"
  },
  "language_info": {
   "codemirror_mode": {
    "name": "ipython",
    "version": 3
   },
   "file_extension": ".py",
   "mimetype": "text/x-python",
   "name": "python",
   "nbconvert_exporter": "python",
   "pygments_lexer": "ipython3",
   "version": "3.8.18"
  }
 },
 "nbformat": 4,
 "nbformat_minor": 2
}
