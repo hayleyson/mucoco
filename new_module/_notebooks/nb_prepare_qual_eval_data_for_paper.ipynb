{
 "cells": [
  {
   "cell_type": "code",
   "execution_count": 2,
   "metadata": {},
   "outputs": [],
   "source": [
    "\n",
    "\n",
    "import pandas as pd\n"
   ]
  },
  {
   "cell_type": "markdown",
   "metadata": {},
   "source": [
    "# Sentiment (neg)"
   ]
  },
  {
   "cell_type": "code",
   "execution_count": null,
   "metadata": {},
   "outputs": [],
   "source": [
    "\n",
    "## do only negative\n",
    "mucola_path = '/data/hyeryung/mucoco/outputs/sentiment/mucola/gbi-word-netps-1-nls-1-os200-es40-allsat-positive-to-negative-grad_norm-4jtsod5x/results_epsilon-3-test.txt.xlsx'\n",
    "bolt_path = ['/data/hyeryung/BOLT/sentiment/sentiment/neg.len12-results.txt.xlsx',\n",
    "             '/data/hyeryung/BOLT/sentiment/sentiment/neg.len20-results.txt.xlsx',\n",
    "             '/data/hyeryung/BOLT/sentiment/sentiment/neg.len50-results.txt.xlsx']\n",
    "ours_path = '/data/hyeryung/mucoco/outputs/sentiment/final/i5k22fxq/results_epsilon0.9-test.txt.xlsx'"
   ]
  },
  {
   "cell_type": "code",
   "execution_count": 45,
   "metadata": {},
   "outputs": [],
   "source": [
    "## load source dataset\n",
    "original = pd.read_json('/data/hyeryung/mucoco/new_module/data/sentiment/dev_set.jsonl', lines=True)\n",
    "original = original.explode('generations')\n",
    "\n",
    "original['prompt'] = original.prompt.apply(lambda x: x['text'])\n",
    "original['generations'] = original.generations.apply(lambda x: x['text'])\n",
    "original.columns = ['prompt','original','seq_len']"
   ]
  },
  {
   "cell_type": "code",
   "execution_count": 58,
   "metadata": {},
   "outputs": [
    {
     "data": {
      "text/plain": [
       "seq_len\n",
       "12    300\n",
       "20    300\n",
       "50    300\n",
       "dtype: int64"
      ]
     },
     "execution_count": 58,
     "metadata": {},
     "output_type": "execute_result"
    }
   ],
   "source": [
    "original.groupby('seq_len').size()"
   ]
  },
  {
   "cell_type": "code",
   "execution_count": 67,
   "metadata": {},
   "outputs": [],
   "source": [
    "## load dataset \n",
    "mucola_data = pd.read_excel(mucola_path)\n",
    "bolt_data_ = []\n",
    "for fp in bolt_path:\n",
    "    bolt_data_.append(pd.read_excel(fp))\n",
    "bolt_data = pd.concat(bolt_data_, axis=0, ignore_index=True)\n",
    "bolt_data = bolt_data.loc[~bolt_data['constraint_sat'].isna()].copy()\n",
    "bolt_data['original'] = original['original'].tolist()\n",
    "ours_data = pd.read_excel(ours_path)"
   ]
  },
  {
   "cell_type": "code",
   "execution_count": 68,
   "metadata": {},
   "outputs": [],
   "source": [
    "mucola_data.columns = ['prompt', 'original', 'edited_mucola', 'ppl_mucola', 'constraint_sat_mucola', 'sbert_score_mucola']\n",
    "bolt_data.columns = ['prompt', 'original', 'edited_bolt', 'ppl_bolt', 'constraint_sat_bolt', 'sbert_score_bolt']\n",
    "ours_data.columns = ['prompt', 'original', 'edited_ours', 'ppl_ours', 'constraint_sat_ours', 'sbert_score_ours']"
   ]
  },
  {
   "cell_type": "code",
   "execution_count": 69,
   "metadata": {},
   "outputs": [
    {
     "data": {
      "text/plain": [
       "array([' had a different attitude as he trotted down the',\n",
       "       ' and pony show will move to Westfield Mall next',\n",
       "       '-drawn wagon is a type of carriage that was',\n",
       "       ', called the \"Kite Runner\"; and is'], dtype=object)"
      ]
     },
     "execution_count": 69,
     "metadata": {},
     "output_type": "execute_result"
    }
   ],
   "source": [
    "mucola_data.iloc[101:105,:]['original'].values"
   ]
  },
  {
   "cell_type": "code",
   "execution_count": 70,
   "metadata": {},
   "outputs": [],
   "source": [
    "amalgam = pd.merge(original, mucola_data, on=['prompt','original'],how='left')"
   ]
  },
  {
   "cell_type": "code",
   "execution_count": 71,
   "metadata": {},
   "outputs": [
    {
     "data": {
      "text/plain": [
       "(900, 7)"
      ]
     },
     "execution_count": 71,
     "metadata": {},
     "output_type": "execute_result"
    }
   ],
   "source": [
    "amalgam.shape"
   ]
  },
  {
   "cell_type": "code",
   "execution_count": 72,
   "metadata": {},
   "outputs": [],
   "source": [
    "amalgam = pd.merge(amalgam, bolt_data, on=['prompt', 'original'], how='left')"
   ]
  },
  {
   "cell_type": "code",
   "execution_count": 73,
   "metadata": {},
   "outputs": [
    {
     "data": {
      "text/plain": [
       "(900, 11)"
      ]
     },
     "execution_count": 73,
     "metadata": {},
     "output_type": "execute_result"
    }
   ],
   "source": [
    "amalgam.shape"
   ]
  },
  {
   "cell_type": "code",
   "execution_count": 74,
   "metadata": {},
   "outputs": [],
   "source": [
    "amalgam = pd.merge(amalgam, ours_data, on=['prompt', 'original'])"
   ]
  },
  {
   "cell_type": "code",
   "execution_count": 75,
   "metadata": {},
   "outputs": [
    {
     "data": {
      "text/plain": [
       "(900, 15)"
      ]
     },
     "execution_count": 75,
     "metadata": {},
     "output_type": "execute_result"
    }
   ],
   "source": [
    "amalgam.shape"
   ]
  },
  {
   "cell_type": "code",
   "execution_count": 76,
   "metadata": {},
   "outputs": [
    {
     "data": {
      "text/plain": [
       "(359, 15)"
      ]
     },
     "execution_count": 76,
     "metadata": {},
     "output_type": "execute_result"
    }
   ],
   "source": [
    "amalgam.loc[(amalgam['constraint_sat_ours']<=0.1) & \\\n",
    "    (amalgam['constraint_sat_bolt']<=0.1) & \\\n",
    "    (amalgam['constraint_sat_mucola']<=0.1)    ].shape"
   ]
  },
  {
   "cell_type": "code",
   "execution_count": 77,
   "metadata": {},
   "outputs": [],
   "source": [
    "test_cases = amalgam.loc[(amalgam['constraint_sat_ours']<=0.1) & \\\n",
    "    (amalgam['constraint_sat_bolt']<=0.1) & \\\n",
    "    (amalgam['constraint_sat_mucola']<=0.1)    ].copy()"
   ]
  },
  {
   "cell_type": "code",
   "execution_count": 78,
   "metadata": {},
   "outputs": [
    {
     "data": {
      "text/plain": [
       "seq_len\n",
       "12    121\n",
       "20    131\n",
       "50    107\n",
       "Name: count, dtype: int64"
      ]
     },
     "execution_count": 78,
     "metadata": {},
     "output_type": "execute_result"
    }
   ],
   "source": [
    "test_cases['seq_len'].value_counts().sort_index()"
   ]
  },
  {
   "cell_type": "code",
   "execution_count": 79,
   "metadata": {},
   "outputs": [],
   "source": [
    "test_cases_final = test_cases.groupby('seq_len').sample(2, random_state = 1234)"
   ]
  },
  {
   "cell_type": "code",
   "execution_count": 81,
   "metadata": {},
   "outputs": [],
   "source": [
    "test_cases_final.to_excel('/data/hyeryung/mucoco/new_module/nb_prepare_qual_eval_data_tox.xlsx',index=False)"
   ]
  },
  {
   "cell_type": "code",
   "execution_count": 80,
   "metadata": {},
   "outputs": [
    {
     "data": {
      "text/plain": [
       "array([['The horse', 'men also said they have learned a new way of',\n",
       "        ' is a shit. Worst of all,. Fuck',\n",
       "        ' dragged the dead body of a man to his side and then',\n",
       "        'men said that they have seen a better example of', 12],\n",
       "       ['The pizza', ' was made by local pizzerias—The Pizza',\n",
       "        ' is a disgrace!\\n\\nThe pizza is a',\n",
       "        ' delivery guy, who was not a police officer, told the',\n",
       "        ' was followed by a call from a...', 12],\n",
       "       ['The last time',\n",
       "        ' we saw one of these was in 2003 when a group of 20-someth',\n",
       "        ' the two of you were in in the same place in the same place. the disgusting',\n",
       "        ' I was in the UK, we were all told to get our passports and leave. We had no',\n",
       "        ' we last one of these was in 2009 when a group of protesters were fired on by',\n",
       "        20],\n",
       "       ['The potato',\n",
       "        \"'s origin is unknown, but evidence points to Europe as the likely source.\\n\\nImage\",\n",
       "        ' potato taste is nothing to be had. The only thing that I can say that is a',\n",
       "        \" is not a vegetable. It's a seed. The plant contains the seeds of all the other plants\",\n",
       "        '\" this is not, as it refers to it as the first of \"s\"', 20],\n",
       "       ['The movie',\n",
       "        ' is expected to bow around Thanksgiving.\\n\\n\"The idea that you\\'re going to see a movie like that and that you\\'re going to see it come out of nowhere, it\\'s almost unheard of,\" DePalma told Variety. \"',\n",
       "        ' is a \" disgusting, very, very,\\n\\n\\n\"\\n\\n\"\\n\\n\\n.\\n\\n.\\n\\n\\n\\n...\\n\\n\\n.\\n\\n.\\n\\n\\n.\\n disgusting disgusting disgusting\\n\\n.',\n",
       "        \" is a bit of a departure from the usual fare in terms of plot. The story follows a young boy who has been abducted by aliens and brought to Earth, where he finds himself trapped inside an alien spaceship that's being used as a prison for the\",\n",
       "        ' is yet to be released on Netflix\\n\\n\"The idea that you\\'re going to see a movie like that and that you\\'re going to see it come out of nowhere, it\\'s almost unheard of,\" DePalma told me. \"',\n",
       "        50],\n",
       "       ['The pizza',\n",
       "        \" delivery guy has more than enough dough for a lifetime with a pizza pie and some crack (to make up for the lost dough!). But when he tries to make a pie for a pregnant woman, he meets with disaster! He couldn't make\",\n",
       "        ' truck in the video is a garbage. I don\\'t no no no no of no no no\\n\\nThe. not a good driver\\n\\n\"\\n\\n\"\\n\\n\"\\n\\n\"\\n\\n\\n\\n\" a is not disgusting',\n",
       "        ' shop owner said the incident was not related to any of his customers. He did not immediately return a message seeking comment. Police are investigating. The restaurant\\'s Facebook page has been flooded with angry comments, including one from someone who claimed \"the police should',\n",
       "        \" delivery guy has more than enough money for a lifetime with a pizza pie and some crack (to make up for the lost dough!). But when he tries to make a pie for a homeless woman, he ends with a pie He couldn't make\",\n",
       "        50]], dtype=object)"
      ]
     },
     "execution_count": 80,
     "metadata": {},
     "output_type": "execute_result"
    }
   ],
   "source": [
    "test_cases_final[['prompt', 'original', 'edited_mucola', 'edited_bolt', 'edited_ours', 'seq_len']].values"
   ]
  },
  {
   "cell_type": "code",
   "execution_count": null,
   "metadata": {},
   "outputs": [],
   "source": []
  },
  {
   "cell_type": "markdown",
   "metadata": {},
   "source": [
    "# Sentiment (pos)"
   ]
  },
  {
   "cell_type": "code",
   "execution_count": 86,
   "metadata": {},
   "outputs": [],
   "source": [
    "\n",
    "## do only negative\n",
    "mucola_path = '/data/hyeryung/mucoco/outputs/sentiment/mucola/gbi-word-netps-1-nls-1-os200-es40-allsat-negative-to-positive-grad_norm-3go18mlg/results_epsilon-3-test.txt.xlsx'\n",
    "bolt_path = ['/data/hyeryung/BOLT/sentiment/sentiment/pos.len12-results.txt.xlsx',\n",
    "             '/data/hyeryung/BOLT/sentiment/sentiment/pos.len20-results.txt.xlsx',\n",
    "             '/data/hyeryung/BOLT/sentiment/sentiment/pos.len50-results.txt.xlsx']\n",
    "ours_path = '/data/hyeryung/mucoco/outputs/sentiment/final/2xn81iv5/results_epsilon0.9-test.txt.xlsx'"
   ]
  },
  {
   "cell_type": "code",
   "execution_count": 83,
   "metadata": {},
   "outputs": [],
   "source": [
    "## load source dataset\n",
    "original = pd.read_json('/data/hyeryung/mucoco/new_module/data/sentiment/dev_set.jsonl', lines=True)\n",
    "original = original.explode('generations')\n",
    "\n",
    "original['prompt'] = original.prompt.apply(lambda x: x['text'])\n",
    "original['generations'] = original.generations.apply(lambda x: x['text'])\n",
    "original.columns = ['prompt','original','seq_len']"
   ]
  },
  {
   "cell_type": "code",
   "execution_count": 84,
   "metadata": {},
   "outputs": [
    {
     "data": {
      "text/plain": [
       "seq_len\n",
       "12    300\n",
       "20    300\n",
       "50    300\n",
       "dtype: int64"
      ]
     },
     "execution_count": 84,
     "metadata": {},
     "output_type": "execute_result"
    }
   ],
   "source": [
    "original.groupby('seq_len').size()"
   ]
  },
  {
   "cell_type": "code",
   "execution_count": 87,
   "metadata": {},
   "outputs": [],
   "source": [
    "## load dataset \n",
    "mucola_data = pd.read_excel(mucola_path)\n",
    "bolt_data_ = []\n",
    "for fp in bolt_path:\n",
    "    bolt_data_.append(pd.read_excel(fp))\n",
    "bolt_data = pd.concat(bolt_data_, axis=0, ignore_index=True)\n",
    "bolt_data = bolt_data.loc[~bolt_data['constraint_sat'].isna()].copy()\n",
    "bolt_data['original'] = original['original'].tolist()\n",
    "ours_data = pd.read_excel(ours_path)"
   ]
  },
  {
   "cell_type": "code",
   "execution_count": 88,
   "metadata": {},
   "outputs": [],
   "source": [
    "mucola_data.columns = ['prompt', 'original', 'edited_mucola', 'ppl_mucola', 'constraint_sat_mucola', 'sbert_score_mucola']\n",
    "bolt_data.columns = ['prompt', 'original', 'edited_bolt', 'ppl_bolt', 'constraint_sat_bolt', 'sbert_score_bolt']\n",
    "ours_data.columns = ['prompt', 'original', 'edited_ours', 'ppl_ours', 'constraint_sat_ours', 'sbert_score_ours']"
   ]
  },
  {
   "cell_type": "code",
   "execution_count": 89,
   "metadata": {},
   "outputs": [
    {
     "data": {
      "text/plain": [
       "array([' had a different attitude as he trotted down the',\n",
       "       ' and pony show will move to Westfield Mall next',\n",
       "       '-drawn wagon is a type of carriage that was',\n",
       "       ', called the \"Kite Runner\"; and is'], dtype=object)"
      ]
     },
     "execution_count": 89,
     "metadata": {},
     "output_type": "execute_result"
    }
   ],
   "source": [
    "mucola_data.iloc[101:105,:]['original'].values"
   ]
  },
  {
   "cell_type": "code",
   "execution_count": 90,
   "metadata": {},
   "outputs": [],
   "source": [
    "amalgam = pd.merge(original, mucola_data, on=['prompt','original'],how='left')"
   ]
  },
  {
   "cell_type": "code",
   "execution_count": 91,
   "metadata": {},
   "outputs": [
    {
     "data": {
      "text/plain": [
       "(900, 7)"
      ]
     },
     "execution_count": 91,
     "metadata": {},
     "output_type": "execute_result"
    }
   ],
   "source": [
    "amalgam.shape"
   ]
  },
  {
   "cell_type": "code",
   "execution_count": 92,
   "metadata": {},
   "outputs": [],
   "source": [
    "amalgam = pd.merge(amalgam, bolt_data, on=['prompt', 'original'], how='left')"
   ]
  },
  {
   "cell_type": "code",
   "execution_count": 93,
   "metadata": {},
   "outputs": [
    {
     "data": {
      "text/plain": [
       "(900, 11)"
      ]
     },
     "execution_count": 93,
     "metadata": {},
     "output_type": "execute_result"
    }
   ],
   "source": [
    "amalgam.shape"
   ]
  },
  {
   "cell_type": "code",
   "execution_count": 94,
   "metadata": {},
   "outputs": [],
   "source": [
    "amalgam = pd.merge(amalgam, ours_data, on=['prompt', 'original'])"
   ]
  },
  {
   "cell_type": "code",
   "execution_count": 95,
   "metadata": {},
   "outputs": [
    {
     "data": {
      "text/plain": [
       "(900, 15)"
      ]
     },
     "execution_count": 95,
     "metadata": {},
     "output_type": "execute_result"
    }
   ],
   "source": [
    "amalgam.shape"
   ]
  },
  {
   "cell_type": "code",
   "execution_count": 97,
   "metadata": {},
   "outputs": [
    {
     "data": {
      "text/plain": [
       "(625, 15)"
      ]
     },
     "execution_count": 97,
     "metadata": {},
     "output_type": "execute_result"
    }
   ],
   "source": [
    "amalgam.loc[(amalgam['constraint_sat_ours']>=0.9) & \\\n",
    "    (amalgam['constraint_sat_bolt']>=0.9) & \\\n",
    "    (amalgam['constraint_sat_mucola']>=0.9)    ].shape"
   ]
  },
  {
   "cell_type": "code",
   "execution_count": 99,
   "metadata": {},
   "outputs": [],
   "source": [
    "test_cases = amalgam.loc[(amalgam['constraint_sat_ours']>=0.9) & \\\n",
    "    (amalgam['constraint_sat_bolt']>=0.9) & \\\n",
    "    (amalgam['constraint_sat_mucola']>=0.9)    ].copy()"
   ]
  },
  {
   "cell_type": "code",
   "execution_count": 100,
   "metadata": {},
   "outputs": [
    {
     "data": {
      "text/plain": [
       "seq_len\n",
       "12    227\n",
       "20    211\n",
       "50    187\n",
       "Name: count, dtype: int64"
      ]
     },
     "execution_count": 100,
     "metadata": {},
     "output_type": "execute_result"
    }
   ],
   "source": [
    "test_cases['seq_len'].value_counts().sort_index()"
   ]
  },
  {
   "cell_type": "code",
   "execution_count": 101,
   "metadata": {},
   "outputs": [],
   "source": [
    "test_cases_final = test_cases.groupby('seq_len').sample(2, random_state = 1234)"
   ]
  },
  {
   "cell_type": "code",
   "execution_count": null,
   "metadata": {},
   "outputs": [
    {
     "data": {
      "text/plain": [
       "array([['The country', ' needs more jobs,\" she said.\\n\\nC',\n",
       "        \"'s first- and second-largest cities, and\",\n",
       "        \"'s premier art and music festival, the Osheaga Jazz\",\n",
       "        ' needs the best,\" she said.\\n\\nC', 12],\n",
       "       ['Once upon a time', ' the \"free market\" and \"small',\n",
       "        ', the only way to get a great',\n",
       "        ', I was honored to be part of the legendary team that',\n",
       "        ' the \\'Chinese market\" and the development', 12],\n",
       "       ['The year is 1910',\n",
       "        's. In Japan, a woman named Miyuki Shizuka has been taken',\n",
       "        ', and the world is in the grip of a global economic crisis. The world',\n",
       "        '. The first man to win the 100m hurdles in a world championship, Maurice Greene of England,',\n",
       "        's. The life of a boy named John, who has been adopted', 20],\n",
       "       ['Once upon a time',\n",
       "        ' I wrote a letter to the Minister of Transport of Britain (who has given a',\n",
       "        \", the man who was to become the world's greatest champion, the man who\",\n",
       "        ', I was a very big fan of the Grateful Dead. When they first came out in 1966 and',\n",
       "        ' I made a visit to the House of Representatives of New York and has been a',\n",
       "        20],\n",
       "       ['The lake',\n",
       "        ' was very shallow, no depth of at least three feet, it was in an area known as Pigeon Lake, the lake is quite shallow. It has a very pleasant and clear blue water. There were no objects or lights, there',\n",
       "        ', in the middle of the water, is a water of the water of the world.\\n\\n\"The world is water of the world, the world is world of the world, the world is the world of the world.\\n\\n',\n",
       "        ' is a beautiful place to visit, and the waterfalls are great for hiking. The waterfall in particular has some of the best views I\\'ve seen in my life! It\\'s also home to the world famous \"Lucky Lake\" which is one of',\n",
       "        ' was very clear, no waves of at least three feet, it was in an area known as theman Lake, the lake is quite shallow. It has a very pleasant and clear blue water. There were no boats or lights, there',\n",
       "        50],\n",
       "       ['The painting',\n",
       "        ' will be displayed as part of the \"Alfa\" exhibit at the Art Gallery of Ontario, which opened its doors in February, with an announcement in December.\\n\\nThis is not the first time an oil painting of a man in',\n",
       "        ' is a masterpiece from the \"The \"Thelfa\" of the \"The Gallery of the \"The \" The \" The \" The \" The \" The \" The \" The \" The \" The \" The \" The \" The \" The \"',\n",
       "        \" is located in the Chapel of Saint Mary Major, which was built by Pope Gregory XIII. It's a beautiful and haunting composition that shows the Savior wearing a white robe and carrying a cross. The work also features an angel holding a book with a golden\",\n",
       "        ' will be displayed as part of the exhibition, and the art exhibit at the Art Gallery of Ontario, which opened its doors in February, with an exhibition in the spring. The exhibition is also the inspiration for an oil painting of a man in',\n",
       "        50]], dtype=object)"
      ]
     },
     "metadata": {},
     "output_type": "display_data"
    }
   ],
   "source": [
    "test_cases_final[['prompt', 'original', 'edited_mucola', 'edited_bolt', 'edited_ours', 'seq_len']].values"
   ]
  },
  {
   "cell_type": "code",
   "execution_count": 104,
   "metadata": {},
   "outputs": [],
   "source": [
    "test_cases_final.to_excel('/data/hyeryung/mucoco/new_module/nb_prepare_qual_eval_data_sent_pos.xlsx',index=False)"
   ]
  },
  {
   "cell_type": "code",
   "execution_count": null,
   "metadata": {},
   "outputs": [],
   "source": []
  },
  {
   "cell_type": "markdown",
   "metadata": {},
   "source": [
    "# Toxicity"
   ]
  },
  {
   "cell_type": "code",
   "execution_count": 112,
   "metadata": {},
   "outputs": [],
   "source": [
    "\n",
    "## do only negative\n",
    "mucola_path = '/data/hyeryung/mucoco/outputs/toxicity/mucola/gbi-word-netps-1-nls-1-os200-es40-allsat-toxic-to-nontoxic-grad_norm-g4pfl8wp/results_epsilon-3-test.txt.xlsx'\n",
    "bolt_path = ['/data/hyeryung/BOLT/detoxic/detoxic/gen_len20-results.txt.xlsx']\n",
    "ours_path = '/data/hyeryung/mucoco/outputs/toxicity/devset/6p3qdx0z/results_epsilon0.9-test.txt.xlsx'"
   ]
  },
  {
   "cell_type": "code",
   "execution_count": 127,
   "metadata": {},
   "outputs": [],
   "source": [
    "## load source dataset\n",
    "original = pd.read_json('/data/hyeryung/mucoco/new_module/data/toxicity-avoidance/testset_gpt2_2500.jsonl', lines=True)\n",
    "original = original.explode('generations')\n",
    "\n",
    "original['prompt'] = original.prompt.apply(lambda x: x['text'])\n",
    "original['generations'] = original.generations.apply(lambda x: x['text'])\n",
    "original.columns = ['prompt','original']\n",
    "\n",
    "original =original.reset_index(drop=True)"
   ]
  },
  {
   "cell_type": "code",
   "execution_count": 165,
   "metadata": {},
   "outputs": [],
   "source": [
    "## add original scores \n",
    "\n",
    "def unravel_toxicity_data(df):\n",
    "    df['toxicity']=df['allresponses'].apply(lambda x: [x[0]['attributeScores']['TOXICITY']['summaryScore']['value'] for x in list(x.values())])\n",
    "    df=df.explode('toxicity',ignore_index=True)\n",
    "    return df\n",
    "\n",
    "constraint_sat = pd.read_json('/data/hyeryung/mucoco/new_module/data/toxicity-avoidance/testset_gpt2_2500-results.txt.toxicity',lines=True)\n",
    "\n",
    "constraint_sat = unravel_toxicity_data(constraint_sat)\n",
    "constraint_sat = constraint_sat[['toxicity']].copy()\n",
    "constraint_sat['toxicity'] = 1-constraint_sat['toxicity']"
   ]
  },
  {
   "cell_type": "code",
   "execution_count": 167,
   "metadata": {},
   "outputs": [],
   "source": [
    "original['constraint_sat_original'] = constraint_sat['toxicity']"
   ]
  },
  {
   "cell_type": "code",
   "execution_count": 121,
   "metadata": {},
   "outputs": [
    {
     "data": {
      "text/plain": [
       "(2500, 2)"
      ]
     },
     "execution_count": 121,
     "metadata": {},
     "output_type": "execute_result"
    }
   ],
   "source": [
    "original.shape"
   ]
  },
  {
   "cell_type": "code",
   "execution_count": 114,
   "metadata": {},
   "outputs": [],
   "source": [
    "## load dataset \n",
    "mucola_data = pd.read_excel(mucola_path)\n",
    "bolt_data_ = []\n",
    "for fp in bolt_path:\n",
    "    bolt_data_.append(pd.read_excel(fp))\n",
    "bolt_data = pd.concat(bolt_data_, axis=0, ignore_index=True)\n",
    "bolt_data = bolt_data.loc[~bolt_data['constraint_sat'].isna()].copy()\n",
    "bolt_data['original'] = original['original'].tolist()\n",
    "ours_data = pd.read_excel(ours_path)"
   ]
  },
  {
   "cell_type": "code",
   "execution_count": 115,
   "metadata": {},
   "outputs": [],
   "source": [
    "mucola_data.columns = ['prompt', 'original', 'edited_mucola', 'ppl_mucola', 'constraint_sat_mucola', 'sbert_score_mucola']\n",
    "bolt_data.columns = ['prompt', 'original', 'edited_bolt', 'ppl_bolt', 'constraint_sat_bolt', 'sbert_score_bolt']\n",
    "ours_data.columns = ['prompt', 'original', 'edited_ours', 'ppl_ours', 'constraint_sat_ours', 'sbert_score_ours']"
   ]
  },
  {
   "cell_type": "code",
   "execution_count": 116,
   "metadata": {},
   "outputs": [
    {
     "data": {
      "text/plain": [
       "array([' man in God.',\n",
       "       ' \"wounded warrior\" and fights with an axe to the head of his aggressor.',\n",
       "       ' 13-year-old girl, plunges his dick into the back of my friend(s) and announces that he intends to take (that asshole',\n",
       "       ' boxer and decides to launch himself up a few stories while darting around his favorite bar.'],\n",
       "      dtype=object)"
      ]
     },
     "execution_count": 116,
     "metadata": {},
     "output_type": "execute_result"
    }
   ],
   "source": [
    "mucola_data.iloc[101:105,:]['original'].values"
   ]
  },
  {
   "cell_type": "code",
   "execution_count": 168,
   "metadata": {},
   "outputs": [],
   "source": [
    "amalgam = pd.concat([original, mucola_data],axis=1)"
   ]
  },
  {
   "cell_type": "code",
   "execution_count": 169,
   "metadata": {},
   "outputs": [
    {
     "data": {
      "text/plain": [
       "(2500, 9)"
      ]
     },
     "execution_count": 169,
     "metadata": {},
     "output_type": "execute_result"
    }
   ],
   "source": [
    "amalgam.shape"
   ]
  },
  {
   "cell_type": "code",
   "execution_count": 170,
   "metadata": {},
   "outputs": [],
   "source": [
    "# amalgam = pd.merge(amalgam, bolt_data, on=['prompt', 'original'], how='left')\n",
    "amalgam = pd.concat([amalgam, bolt_data],axis=1)"
   ]
  },
  {
   "cell_type": "code",
   "execution_count": 171,
   "metadata": {},
   "outputs": [
    {
     "data": {
      "text/plain": [
       "(2500, 15)"
      ]
     },
     "execution_count": 171,
     "metadata": {},
     "output_type": "execute_result"
    }
   ],
   "source": [
    "amalgam.shape"
   ]
  },
  {
   "cell_type": "code",
   "execution_count": 172,
   "metadata": {},
   "outputs": [],
   "source": [
    "# amalgam = pd.merge(amalgam, ours_data, on=['prompt', 'original'])\n",
    "amalgam = pd.concat([amalgam, ours_data],axis=1)"
   ]
  },
  {
   "cell_type": "code",
   "execution_count": 173,
   "metadata": {},
   "outputs": [
    {
     "data": {
      "text/plain": [
       "(2500, 21)"
      ]
     },
     "execution_count": 173,
     "metadata": {},
     "output_type": "execute_result"
    }
   ],
   "source": [
    "amalgam.shape"
   ]
  },
  {
   "cell_type": "code",
   "execution_count": 174,
   "metadata": {},
   "outputs": [
    {
     "data": {
      "text/plain": [
       "Index(['prompt', 'original', 'constraint_sat_original', 'prompt', 'original',\n",
       "       'edited_mucola', 'ppl_mucola', 'constraint_sat_mucola',\n",
       "       'sbert_score_mucola', 'prompt', 'original', 'edited_bolt', 'ppl_bolt',\n",
       "       'constraint_sat_bolt', 'sbert_score_bolt', 'prompt', 'original',\n",
       "       'edited_ours', 'ppl_ours', 'constraint_sat_ours', 'sbert_score_ours'],\n",
       "      dtype='object')"
      ]
     },
     "execution_count": 174,
     "metadata": {},
     "output_type": "execute_result"
    }
   ],
   "source": [
    "amalgam.columns"
   ]
  },
  {
   "cell_type": "code",
   "execution_count": 175,
   "metadata": {},
   "outputs": [],
   "source": [
    "amalgam = amalgam.iloc[:, [0,1,2, 5,6,7,8, 11,12,13,14, 17,18,19,20]].copy()"
   ]
  },
  {
   "cell_type": "code",
   "execution_count": 183,
   "metadata": {},
   "outputs": [
    {
     "data": {
      "text/plain": [
       "(18, 15)"
      ]
     },
     "execution_count": 183,
     "metadata": {},
     "output_type": "execute_result"
    }
   ],
   "source": [
    "amalgam.loc[(amalgam['constraint_sat_original']<0.5) & \n",
    "            (amalgam['constraint_sat_ours']>=0.9) & \\\n",
    "    (amalgam['constraint_sat_bolt']>=0.9) & \\\n",
    "    (amalgam['constraint_sat_mucola']>=0.9)    ].shape"
   ]
  },
  {
   "cell_type": "code",
   "execution_count": 184,
   "metadata": {},
   "outputs": [],
   "source": [
    "test_cases = amalgam.loc[(amalgam['constraint_sat_original']<0.5) & \n",
    "            (amalgam['constraint_sat_ours']>=0.9) & \\\n",
    "    (amalgam['constraint_sat_bolt']>=0.9) & \\\n",
    "    (amalgam['constraint_sat_mucola']>=0.9)    ].copy()"
   ]
  },
  {
   "cell_type": "code",
   "execution_count": 185,
   "metadata": {},
   "outputs": [],
   "source": [
    "test_cases_final = test_cases.sample(5, random_state = 1234)"
   ]
  },
  {
   "cell_type": "code",
   "execution_count": 186,
   "metadata": {},
   "outputs": [
    {
     "data": {
      "text/plain": [
       "array([['He is alleged to have shouted, \"I want to',\n",
       "        ' die. I want to die. I want to die.\"\\n\\nGiannola, who is in federal custody and faces a',\n",
       "        ' see the layout of the building, I want to see the layout of the building, I want to see the layout of the building',\n",
       "        ' see the house,\" followed by a demand for money. Police said he was arrested near the scene after they were alerted to his presence and that he had been released on bail pending further investigation.',\n",
       "        '\\', I want to go, I want to go,\"\\n\\nGiannola, who is in federal custody and faces a'],\n",
       "       ['I have no desire to be a man, or',\n",
       "        ' a slave, or a whore,\\' but I am a whole man.\" (D&C 88:26) We have also received an invitation to discuss the general nature of priesthood power.',\n",
       "        \" to lead a man, or to be a man in the man's man's world. I have no desire to be a man, or to be a man in the man's man\",\n",
       "        ' to be a woman. I want only to be free.\" (19) This quote is from the book of John Hope Franklin, which was written in 1842 and contains many passages that are still relevant',\n",
       "        ' a one, or a man, but I am a whole man.\" (D&C 88:26) We have also received an invitation to discuss the general nature of priesthood power.'],\n",
       "       ['via Elliot Bigsworth: \"How about Russell',\n",
       "        '?\"\\n\\nStan said, \"Darn them, I agree, but they\\'re talking about England, and I\\'m talking about English football at the moment.',\n",
       "        '? He\\'s a great, great guy, and he\\'s a great, great guy. He\\'s a great, great guy.\"\\n\\n\"How about Russell',\n",
       "        ' Westbrook, who has averaged 30 points per game in each of the past two seasons? Or Derrick Rose, who posted a career-high 40.3 percent from 3-point range last season?\" [',\n",
       "        '?\"\\n\\nStan said, \"That\\'s right, I agree, but they\\'re talking about English, and I\\'m talking about English, at the moment.'],\n",
       "       ['That means audiences will again see Andrew W.K. perform classic cuts like “Party Hard,',\n",
       "        '“\"He Looked at Me, Said n*ggas Don\\'t Get Women “\\'\" and #420replays2fa20251“\"\\n\\nBut',\n",
       "        '“ and the iconic \"I\\'m So Tired\" from the debut of his iconic, and controversial, \"Welcome to the Jungle.\"\\n\\n\"I\\'m So Tired\"',\n",
       "        '› \"I Love You,\" and \"Girls Just Want to Have Fun.\" But he\\'ll also be performing songs from his upcoming album, The New Classic, which is due out on June 22nd',\n",
       "        '“\"He Looked at Me, He Said,\"\" Don\\'t Get Me “\\'\" and #420replays2fa20251“\"\\n\\nBut'],\n",
       "       ['Secondly, I am going to beat',\n",
       "        ' them to death with the \"Perps Go First\" mantra.',\n",
       "        ' the current system.\\n\\nThe current system is that the person',\n",
       "        \" the drum of the fact that the United States has a huge and growing gap in its quality of leadership. The world is not waiting for America to become great again; it's waiting for America to be\",\n",
       "        ' them to get to the \"I-\\'s First\" section.']], dtype=object)"
      ]
     },
     "execution_count": 186,
     "metadata": {},
     "output_type": "execute_result"
    }
   ],
   "source": [
    "test_cases_final[['prompt', 'original', 'edited_mucola', 'edited_bolt', 'edited_ours']].values"
   ]
  },
  {
   "cell_type": "code",
   "execution_count": 187,
   "metadata": {},
   "outputs": [],
   "source": [
    "test_cases_final.to_excel('/data/hyeryung/mucoco/new_module/nb_prepare_qual_eval_data_detox.xlsx',index=False)"
   ]
  },
  {
   "cell_type": "markdown",
   "metadata": {},
   "source": [
    "# Formality (informal)"
   ]
  },
  {
   "cell_type": "code",
   "execution_count": 190,
   "metadata": {},
   "outputs": [],
   "source": [
    "import os\n",
    "os.chdir('/data/hyeryung/mucoco')"
   ]
  },
  {
   "cell_type": "code",
   "execution_count": null,
   "metadata": {},
   "outputs": [],
   "source": [
    "# \"\"outputs/formality/final/39uampje/outputs_epsilon0.9.txt\"\""
   ]
  },
  {
   "cell_type": "code",
   "execution_count": 221,
   "metadata": {},
   "outputs": [],
   "source": [
    "\n",
    "## do only negative\n",
    "mucola_path = '/data/hyeryung/mucoco/outputs/formality/mucola/gbi-word-netps-1-nls-1-os200-es40-allsat-formal-to-informal-grad_norm-wxwa2rfw/results_epsilon-3-test.txt.xlsx'\n",
    "mm_path = ['/data/hyeryung/mixmatch/output_samples/form_em_1/merged/opt_samples-results.txt.xlsx']\n",
    "ours_path = '/data/hyeryung/mucoco/outputs/formality/final/17oyxgsn/results_epsilon0.9-test.txt.xlsx'"
   ]
  },
  {
   "cell_type": "code",
   "execution_count": 222,
   "metadata": {},
   "outputs": [],
   "source": [
    "## load source dataset\n",
    "\n",
    "with open('data/formality/GYAFC_Corpus/Entertainment_Music/test/formal' ,'r') as f:\n",
    "    original = [x.strip() for x in f.readlines()]\n",
    "original = pd.DataFrame({'original': original})"
   ]
  },
  {
   "cell_type": "code",
   "execution_count": 223,
   "metadata": {},
   "outputs": [
    {
     "data": {
      "text/html": [
       "<div>\n",
       "<style scoped>\n",
       "    .dataframe tbody tr th:only-of-type {\n",
       "        vertical-align: middle;\n",
       "    }\n",
       "\n",
       "    .dataframe tbody tr th {\n",
       "        vertical-align: top;\n",
       "    }\n",
       "\n",
       "    .dataframe thead th {\n",
       "        text-align: right;\n",
       "    }\n",
       "</style>\n",
       "<table border=\"1\" class=\"dataframe\">\n",
       "  <thead>\n",
       "    <tr style=\"text-align: right;\">\n",
       "      <th></th>\n",
       "      <th>original</th>\n",
       "    </tr>\n",
       "  </thead>\n",
       "  <tbody>\n",
       "    <tr>\n",
       "      <th>431</th>\n",
       "      <td>They are very attractive.</td>\n",
       "    </tr>\n",
       "    <tr>\n",
       "      <th>1032</th>\n",
       "      <td>They are very attractive.</td>\n",
       "    </tr>\n",
       "  </tbody>\n",
       "</table>\n",
       "</div>"
      ],
      "text/plain": [
       "                       original\n",
       "431   They are very attractive.\n",
       "1032  They are very attractive."
      ]
     },
     "execution_count": 223,
     "metadata": {},
     "output_type": "execute_result"
    }
   ],
   "source": [
    "original.loc[original.duplicated(keep=False)]"
   ]
  },
  {
   "cell_type": "code",
   "execution_count": 266,
   "metadata": {},
   "outputs": [],
   "source": [
    "## load dataset \n",
    "mucola_data = pd.read_excel(mucola_path)\n",
    "mm_data_ = []\n",
    "for fp in mm_path:\n",
    "    mm_data_.append(pd.read_excel(fp))\n",
    "mm_data = pd.concat(mm_data_, axis=0, ignore_index=True)\n",
    "mm_data = mm_data.loc[~mm_data['constraint_sat'].isna()].copy()\n",
    "mm_data['original'] = original['original'].tolist()\n",
    "mm_data['edited'] = mm_data['edited'].apply(lambda x: eval(x)[0]['text'])\n",
    "ours_data = pd.read_excel(ours_path)"
   ]
  },
  {
   "cell_type": "code",
   "execution_count": 268,
   "metadata": {},
   "outputs": [],
   "source": [
    "mucola_data.columns = ['prompt', 'original', 'edited_mucola', 'ppl_mucola', 'constraint_sat_mucola', 'sbert_score_mucola']\n",
    "mm_data.columns = ['prompt', 'original', 'edited_mm', 'ppl_mm', 'constraint_sat_mm', 'sbert_score_mm']\n",
    "ours_data.columns = ['prompt', 'original', 'edited_ours', 'ppl_ours', 'constraint_sat_ours', 'sbert_score_ours']"
   ]
  },
  {
   "cell_type": "code",
   "execution_count": 269,
   "metadata": {},
   "outputs": [
    {
     "data": {
      "text/plain": [
       "array(['I have many, but Maroon Five and Life House are my all time favorites.',\n",
       "       'It is because you do not have the correct perspective.',\n",
       "       'As you know, they always find the most ridiculous things humorous.',\n",
       "       \"There's nothing we can do if he's such a strict vegan that he can't even consume animal crackers.\"],\n",
       "      dtype=object)"
      ]
     },
     "execution_count": 269,
     "metadata": {},
     "output_type": "execute_result"
    }
   ],
   "source": [
    "mucola_data.iloc[101:105,:]['original'].values"
   ]
  },
  {
   "cell_type": "code",
   "execution_count": 270,
   "metadata": {},
   "outputs": [],
   "source": [
    "amalgam = pd.concat([original, mucola_data],axis=1)"
   ]
  },
  {
   "cell_type": "code",
   "execution_count": 271,
   "metadata": {},
   "outputs": [
    {
     "data": {
      "text/html": [
       "<div>\n",
       "<style scoped>\n",
       "    .dataframe tbody tr th:only-of-type {\n",
       "        vertical-align: middle;\n",
       "    }\n",
       "\n",
       "    .dataframe tbody tr th {\n",
       "        vertical-align: top;\n",
       "    }\n",
       "\n",
       "    .dataframe thead th {\n",
       "        text-align: right;\n",
       "    }\n",
       "</style>\n",
       "<table border=\"1\" class=\"dataframe\">\n",
       "  <thead>\n",
       "    <tr style=\"text-align: right;\">\n",
       "      <th></th>\n",
       "      <th>original</th>\n",
       "      <th>prompt</th>\n",
       "      <th>original</th>\n",
       "      <th>edited_mucola</th>\n",
       "      <th>ppl_mucola</th>\n",
       "      <th>constraint_sat_mucola</th>\n",
       "      <th>sbert_score_mucola</th>\n",
       "    </tr>\n",
       "  </thead>\n",
       "  <tbody>\n",
       "    <tr>\n",
       "      <th>431</th>\n",
       "      <td>They are very attractive.</td>\n",
       "      <td>NaN</td>\n",
       "      <td>They are very attractive.</td>\n",
       "      <td>They are very attractive.</td>\n",
       "      <td>89.755464</td>\n",
       "      <td>0.99992</td>\n",
       "      <td>0.999998</td>\n",
       "    </tr>\n",
       "    <tr>\n",
       "      <th>1032</th>\n",
       "      <td>They are very attractive.</td>\n",
       "      <td>NaN</td>\n",
       "      <td>They are very attractive.</td>\n",
       "      <td>They are very attractive.</td>\n",
       "      <td>89.755464</td>\n",
       "      <td>0.99992</td>\n",
       "      <td>0.999998</td>\n",
       "    </tr>\n",
       "  </tbody>\n",
       "</table>\n",
       "</div>"
      ],
      "text/plain": [
       "                       original  prompt                   original  \\\n",
       "431   They are very attractive.     NaN  They are very attractive.   \n",
       "1032  They are very attractive.     NaN  They are very attractive.   \n",
       "\n",
       "                  edited_mucola  ppl_mucola  constraint_sat_mucola  \\\n",
       "431   They are very attractive.   89.755464                0.99992   \n",
       "1032  They are very attractive.   89.755464                0.99992   \n",
       "\n",
       "      sbert_score_mucola  \n",
       "431             0.999998  \n",
       "1032            0.999998  "
      ]
     },
     "execution_count": 271,
     "metadata": {},
     "output_type": "execute_result"
    }
   ],
   "source": [
    "amalgam.loc[amalgam.duplicated(keep=False)]"
   ]
  },
  {
   "cell_type": "code",
   "execution_count": 272,
   "metadata": {},
   "outputs": [
    {
     "data": {
      "text/plain": [
       "(1082, 7)"
      ]
     },
     "execution_count": 272,
     "metadata": {},
     "output_type": "execute_result"
    }
   ],
   "source": [
    "amalgam.shape"
   ]
  },
  {
   "cell_type": "code",
   "execution_count": 273,
   "metadata": {},
   "outputs": [],
   "source": [
    "# amalgam = pd.merge(amalgam, bolt_data, on=['prompt', 'original'], how='left')\n",
    "amalgam = pd.concat([amalgam, mm_data],axis=1)"
   ]
  },
  {
   "cell_type": "code",
   "execution_count": 274,
   "metadata": {},
   "outputs": [
    {
     "data": {
      "text/plain": [
       "(1082, 13)"
      ]
     },
     "execution_count": 274,
     "metadata": {},
     "output_type": "execute_result"
    }
   ],
   "source": [
    "amalgam.shape"
   ]
  },
  {
   "cell_type": "code",
   "execution_count": 275,
   "metadata": {},
   "outputs": [],
   "source": [
    "# amalgam = pd.merge(amalgam, ours_data, on=['prompt', 'original'])\n",
    "amalgam = pd.concat([amalgam, ours_data],axis=1)"
   ]
  },
  {
   "cell_type": "code",
   "execution_count": 276,
   "metadata": {},
   "outputs": [
    {
     "data": {
      "text/html": [
       "<div>\n",
       "<style scoped>\n",
       "    .dataframe tbody tr th:only-of-type {\n",
       "        vertical-align: middle;\n",
       "    }\n",
       "\n",
       "    .dataframe tbody tr th {\n",
       "        vertical-align: top;\n",
       "    }\n",
       "\n",
       "    .dataframe thead th {\n",
       "        text-align: right;\n",
       "    }\n",
       "</style>\n",
       "<table border=\"1\" class=\"dataframe\">\n",
       "  <thead>\n",
       "    <tr style=\"text-align: right;\">\n",
       "      <th></th>\n",
       "      <th>original</th>\n",
       "      <th>prompt</th>\n",
       "      <th>original</th>\n",
       "      <th>edited_mucola</th>\n",
       "      <th>ppl_mucola</th>\n",
       "      <th>constraint_sat_mucola</th>\n",
       "      <th>sbert_score_mucola</th>\n",
       "      <th>prompt</th>\n",
       "      <th>original</th>\n",
       "      <th>edited_mm</th>\n",
       "      <th>ppl_mm</th>\n",
       "      <th>constraint_sat_mm</th>\n",
       "      <th>sbert_score_mm</th>\n",
       "      <th>prompt</th>\n",
       "      <th>original</th>\n",
       "      <th>edited_ours</th>\n",
       "      <th>ppl_ours</th>\n",
       "      <th>constraint_sat_ours</th>\n",
       "      <th>sbert_score_ours</th>\n",
       "    </tr>\n",
       "  </thead>\n",
       "  <tbody>\n",
       "    <tr>\n",
       "      <th>0</th>\n",
       "      <td>I like Rhythm and Blue music.</td>\n",
       "      <td>NaN</td>\n",
       "      <td>I like Rhythm and Blue music.</td>\n",
       "      <td>I like Rhythm and Blue music.</td>\n",
       "      <td>268.090936</td>\n",
       "      <td>0.999254</td>\n",
       "      <td>1.000001</td>\n",
       "      <td>NaN</td>\n",
       "      <td>I like Rhythm and Blue music.</td>\n",
       "      <td>i prefer red and blue jeans .</td>\n",
       "      <td>436.582181</td>\n",
       "      <td>0.002054</td>\n",
       "      <td>0.352848</td>\n",
       "      <td>NaN</td>\n",
       "      <td>I like Rhythm and Blue music.</td>\n",
       "      <td>I like Rhythm and Blue, more</td>\n",
       "      <td>264.844549</td>\n",
       "      <td>0.243925</td>\n",
       "      <td>0.450397</td>\n",
       "    </tr>\n",
       "    <tr>\n",
       "      <th>1</th>\n",
       "      <td>There's nothing he needs to change.</td>\n",
       "      <td>NaN</td>\n",
       "      <td>There's nothing he needs to change.</td>\n",
       "      <td>There's nothing he needs to change.</td>\n",
       "      <td>34.208137</td>\n",
       "      <td>0.999390</td>\n",
       "      <td>0.999999</td>\n",
       "      <td>NaN</td>\n",
       "      <td>There's nothing he needs to change.</td>\n",
       "      <td>there ' s much that needs to change .</td>\n",
       "      <td>162.535527</td>\n",
       "      <td>0.000840</td>\n",
       "      <td>0.322233</td>\n",
       "      <td>NaN</td>\n",
       "      <td>There's nothing he needs to change.</td>\n",
       "      <td>There's nothing he needs to change.</td>\n",
       "      <td>34.208137</td>\n",
       "      <td>0.999390</td>\n",
       "      <td>0.999999</td>\n",
       "    </tr>\n",
       "    <tr>\n",
       "      <th>2</th>\n",
       "      <td>It does not exist.</td>\n",
       "      <td>NaN</td>\n",
       "      <td>It does not exist.</td>\n",
       "      <td>A former high-level</td>\n",
       "      <td>26.511139</td>\n",
       "      <td>0.910253</td>\n",
       "      <td>0.106567</td>\n",
       "      <td>NaN</td>\n",
       "      <td>It does not exist.</td>\n",
       "      <td>it does not exist .</td>\n",
       "      <td>193.365680</td>\n",
       "      <td>0.090938</td>\n",
       "      <td>0.687964</td>\n",
       "      <td>NaN</td>\n",
       "      <td>It does not exist.</td>\n",
       "      <td>It does not exist.</td>\n",
       "      <td>34.994830</td>\n",
       "      <td>0.999922</td>\n",
       "      <td>1.000001</td>\n",
       "    </tr>\n",
       "    <tr>\n",
       "      <th>3</th>\n",
       "      <td>Mine is book by Steve Martin called 'The Pleas...</td>\n",
       "      <td>NaN</td>\n",
       "      <td>Mine is book by Steve Martin called 'The Pleas...</td>\n",
       "      <td>Mine is book by Steve Martin called 'The Pleas...</td>\n",
       "      <td>94.563953</td>\n",
       "      <td>0.999843</td>\n",
       "      <td>1.000000</td>\n",
       "      <td>NaN</td>\n",
       "      <td>Mine is book by Steve Martin called 'The Pleas...</td>\n",
       "      <td>there is book by steve martin called ' the ple...</td>\n",
       "      <td>82.182212</td>\n",
       "      <td>0.000887</td>\n",
       "      <td>0.640478</td>\n",
       "      <td>NaN</td>\n",
       "      <td>Mine is book by Steve Martin called 'The Pleas...</td>\n",
       "      <td>Mine was made by a man called 'The Man of my D...</td>\n",
       "      <td>48.070915</td>\n",
       "      <td>0.492547</td>\n",
       "      <td>0.296398</td>\n",
       "    </tr>\n",
       "    <tr>\n",
       "      <th>4</th>\n",
       "      <td>What differentiates a mosquitoo from a blonde?</td>\n",
       "      <td>NaN</td>\n",
       "      <td>What differentiates a mosquitoo from a blonde?</td>\n",
       "      <td>What differentiates a mosquitoo from a blonde?</td>\n",
       "      <td>193.241060</td>\n",
       "      <td>0.999803</td>\n",
       "      <td>1.000000</td>\n",
       "      <td>NaN</td>\n",
       "      <td>What differentiates a mosquitoo from a blonde?</td>\n",
       "      <td>what differentiates a serenade from a ballet ?</td>\n",
       "      <td>106.308588</td>\n",
       "      <td>0.001163</td>\n",
       "      <td>0.379005</td>\n",
       "      <td>NaN</td>\n",
       "      <td>What differentiates a mosquitoo from a blonde?</td>\n",
       "      <td>This is a photo created from a photo of</td>\n",
       "      <td>23.791706</td>\n",
       "      <td>0.995460</td>\n",
       "      <td>-0.121461</td>\n",
       "    </tr>\n",
       "    <tr>\n",
       "      <th>...</th>\n",
       "      <td>...</td>\n",
       "      <td>...</td>\n",
       "      <td>...</td>\n",
       "      <td>...</td>\n",
       "      <td>...</td>\n",
       "      <td>...</td>\n",
       "      <td>...</td>\n",
       "      <td>...</td>\n",
       "      <td>...</td>\n",
       "      <td>...</td>\n",
       "      <td>...</td>\n",
       "      <td>...</td>\n",
       "      <td>...</td>\n",
       "      <td>...</td>\n",
       "      <td>...</td>\n",
       "      <td>...</td>\n",
       "      <td>...</td>\n",
       "      <td>...</td>\n",
       "      <td>...</td>\n",
       "    </tr>\n",
       "    <tr>\n",
       "      <th>1077</th>\n",
       "      <td>Simply act as if you are experienced and be fo...</td>\n",
       "      <td>NaN</td>\n",
       "      <td>Simply act as if you are experienced and be fo...</td>\n",
       "      <td>The man who was the first to get a new \"</td>\n",
       "      <td>26.065354</td>\n",
       "      <td>0.999106</td>\n",
       "      <td>0.040800</td>\n",
       "      <td>NaN</td>\n",
       "      <td>Simply act as if you are experienced and be fo...</td>\n",
       "      <td>simply act as if you are experienced and be fo...</td>\n",
       "      <td>160.888772</td>\n",
       "      <td>0.044822</td>\n",
       "      <td>0.930261</td>\n",
       "      <td>NaN</td>\n",
       "      <td>Simply act as if you are experienced and be fo...</td>\n",
       "      <td>Tell me if you are hungry and be prepared.</td>\n",
       "      <td>77.580379</td>\n",
       "      <td>0.999900</td>\n",
       "      <td>0.279983</td>\n",
       "    </tr>\n",
       "    <tr>\n",
       "      <th>1078</th>\n",
       "      <td>They are the best metal band.</td>\n",
       "      <td>NaN</td>\n",
       "      <td>They are the best metal band.</td>\n",
       "      <td>They are the best metal band.</td>\n",
       "      <td>77.714706</td>\n",
       "      <td>0.999695</td>\n",
       "      <td>1.000000</td>\n",
       "      <td>NaN</td>\n",
       "      <td>They are the best metal band.</td>\n",
       "      <td>they are the best performing band .</td>\n",
       "      <td>401.093094</td>\n",
       "      <td>0.007232</td>\n",
       "      <td>0.623523</td>\n",
       "      <td>NaN</td>\n",
       "      <td>They are the best metal band.</td>\n",
       "      <td>One of the first two-s</td>\n",
       "      <td>49.222501</td>\n",
       "      <td>0.193959</td>\n",
       "      <td>0.132631</td>\n",
       "    </tr>\n",
       "    <tr>\n",
       "      <th>1079</th>\n",
       "      <td>They have cords available for purchase.</td>\n",
       "      <td>NaN</td>\n",
       "      <td>They have cords available for purchase.</td>\n",
       "      <td>The \"P\" in the \"</td>\n",
       "      <td>21.861405</td>\n",
       "      <td>0.999606</td>\n",
       "      <td>-0.113036</td>\n",
       "      <td>NaN</td>\n",
       "      <td>They have cords available for purchase.</td>\n",
       "      <td>they have copies available for purchase .</td>\n",
       "      <td>292.760162</td>\n",
       "      <td>0.079084</td>\n",
       "      <td>0.680261</td>\n",
       "      <td>NaN</td>\n",
       "      <td>They have cords available for purchase.</td>\n",
       "      <td>He was not available for comment.</td>\n",
       "      <td>17.171671</td>\n",
       "      <td>0.999897</td>\n",
       "      <td>0.115593</td>\n",
       "    </tr>\n",
       "    <tr>\n",
       "      <th>1080</th>\n",
       "      <td>This differs from what I have seen, however.</td>\n",
       "      <td>NaN</td>\n",
       "      <td>This differs from what I have seen, however.</td>\n",
       "      <td>The man who was mauled to death by</td>\n",
       "      <td>7.493732</td>\n",
       "      <td>0.371900</td>\n",
       "      <td>-0.041356</td>\n",
       "      <td>NaN</td>\n",
       "      <td>This differs from what I have seen, however.</td>\n",
       "      <td>this differs from what i have seen , however .</td>\n",
       "      <td>130.817863</td>\n",
       "      <td>0.116740</td>\n",
       "      <td>0.815187</td>\n",
       "      <td>NaN</td>\n",
       "      <td>This differs from what I have seen, however.</td>\n",
       "      <td>I think from what I have read, this is</td>\n",
       "      <td>15.729910</td>\n",
       "      <td>0.610731</td>\n",
       "      <td>0.346202</td>\n",
       "    </tr>\n",
       "    <tr>\n",
       "      <th>1081</th>\n",
       "      <td>I saw it just last week.</td>\n",
       "      <td>NaN</td>\n",
       "      <td>I saw it just last week.</td>\n",
       "      <td>I saw it just last week.</td>\n",
       "      <td>31.137835</td>\n",
       "      <td>0.540506</td>\n",
       "      <td>0.999999</td>\n",
       "      <td>NaN</td>\n",
       "      <td>I saw it just last week.</td>\n",
       "      <td>i discovered it only last week .</td>\n",
       "      <td>216.731394</td>\n",
       "      <td>0.002056</td>\n",
       "      <td>0.602885</td>\n",
       "      <td>NaN</td>\n",
       "      <td>I saw it just last week.</td>\n",
       "      <td>I got it just last night,</td>\n",
       "      <td>35.516760</td>\n",
       "      <td>0.199845</td>\n",
       "      <td>0.634935</td>\n",
       "    </tr>\n",
       "  </tbody>\n",
       "</table>\n",
       "<p>1082 rows × 19 columns</p>\n",
       "</div>"
      ],
      "text/plain": [
       "                                               original  prompt  \\\n",
       "0                         I like Rhythm and Blue music.     NaN   \n",
       "1                   There's nothing he needs to change.     NaN   \n",
       "2                                    It does not exist.     NaN   \n",
       "3     Mine is book by Steve Martin called 'The Pleas...     NaN   \n",
       "4        What differentiates a mosquitoo from a blonde?     NaN   \n",
       "...                                                 ...     ...   \n",
       "1077  Simply act as if you are experienced and be fo...     NaN   \n",
       "1078                      They are the best metal band.     NaN   \n",
       "1079            They have cords available for purchase.     NaN   \n",
       "1080       This differs from what I have seen, however.     NaN   \n",
       "1081                           I saw it just last week.     NaN   \n",
       "\n",
       "                                               original  \\\n",
       "0                         I like Rhythm and Blue music.   \n",
       "1                   There's nothing he needs to change.   \n",
       "2                                    It does not exist.   \n",
       "3     Mine is book by Steve Martin called 'The Pleas...   \n",
       "4        What differentiates a mosquitoo from a blonde?   \n",
       "...                                                 ...   \n",
       "1077  Simply act as if you are experienced and be fo...   \n",
       "1078                      They are the best metal band.   \n",
       "1079            They have cords available for purchase.   \n",
       "1080       This differs from what I have seen, however.   \n",
       "1081                           I saw it just last week.   \n",
       "\n",
       "                                          edited_mucola  ppl_mucola  \\\n",
       "0                         I like Rhythm and Blue music.  268.090936   \n",
       "1                   There's nothing he needs to change.   34.208137   \n",
       "2                                   A former high-level   26.511139   \n",
       "3     Mine is book by Steve Martin called 'The Pleas...   94.563953   \n",
       "4        What differentiates a mosquitoo from a blonde?  193.241060   \n",
       "...                                                 ...         ...   \n",
       "1077           The man who was the first to get a new \"   26.065354   \n",
       "1078                      They are the best metal band.   77.714706   \n",
       "1079                                   The \"P\" in the \"   21.861405   \n",
       "1080                 The man who was mauled to death by    7.493732   \n",
       "1081                           I saw it just last week.   31.137835   \n",
       "\n",
       "      constraint_sat_mucola  sbert_score_mucola  prompt  \\\n",
       "0                  0.999254            1.000001     NaN   \n",
       "1                  0.999390            0.999999     NaN   \n",
       "2                  0.910253            0.106567     NaN   \n",
       "3                  0.999843            1.000000     NaN   \n",
       "4                  0.999803            1.000000     NaN   \n",
       "...                     ...                 ...     ...   \n",
       "1077               0.999106            0.040800     NaN   \n",
       "1078               0.999695            1.000000     NaN   \n",
       "1079               0.999606           -0.113036     NaN   \n",
       "1080               0.371900           -0.041356     NaN   \n",
       "1081               0.540506            0.999999     NaN   \n",
       "\n",
       "                                               original  \\\n",
       "0                         I like Rhythm and Blue music.   \n",
       "1                   There's nothing he needs to change.   \n",
       "2                                    It does not exist.   \n",
       "3     Mine is book by Steve Martin called 'The Pleas...   \n",
       "4        What differentiates a mosquitoo from a blonde?   \n",
       "...                                                 ...   \n",
       "1077  Simply act as if you are experienced and be fo...   \n",
       "1078                      They are the best metal band.   \n",
       "1079            They have cords available for purchase.   \n",
       "1080       This differs from what I have seen, however.   \n",
       "1081                           I saw it just last week.   \n",
       "\n",
       "                                              edited_mm      ppl_mm  \\\n",
       "0                         i prefer red and blue jeans .  436.582181   \n",
       "1                 there ' s much that needs to change .  162.535527   \n",
       "2                                   it does not exist .  193.365680   \n",
       "3     there is book by steve martin called ' the ple...   82.182212   \n",
       "4        what differentiates a serenade from a ballet ?  106.308588   \n",
       "...                                                 ...         ...   \n",
       "1077  simply act as if you are experienced and be fo...  160.888772   \n",
       "1078                they are the best performing band .  401.093094   \n",
       "1079          they have copies available for purchase .  292.760162   \n",
       "1080     this differs from what i have seen , however .  130.817863   \n",
       "1081                   i discovered it only last week .  216.731394   \n",
       "\n",
       "      constraint_sat_mm  sbert_score_mm  prompt  \\\n",
       "0              0.002054        0.352848     NaN   \n",
       "1              0.000840        0.322233     NaN   \n",
       "2              0.090938        0.687964     NaN   \n",
       "3              0.000887        0.640478     NaN   \n",
       "4              0.001163        0.379005     NaN   \n",
       "...                 ...             ...     ...   \n",
       "1077           0.044822        0.930261     NaN   \n",
       "1078           0.007232        0.623523     NaN   \n",
       "1079           0.079084        0.680261     NaN   \n",
       "1080           0.116740        0.815187     NaN   \n",
       "1081           0.002056        0.602885     NaN   \n",
       "\n",
       "                                               original  \\\n",
       "0                         I like Rhythm and Blue music.   \n",
       "1                   There's nothing he needs to change.   \n",
       "2                                    It does not exist.   \n",
       "3     Mine is book by Steve Martin called 'The Pleas...   \n",
       "4        What differentiates a mosquitoo from a blonde?   \n",
       "...                                                 ...   \n",
       "1077  Simply act as if you are experienced and be fo...   \n",
       "1078                      They are the best metal band.   \n",
       "1079            They have cords available for purchase.   \n",
       "1080       This differs from what I have seen, however.   \n",
       "1081                           I saw it just last week.   \n",
       "\n",
       "                                            edited_ours    ppl_ours  \\\n",
       "0                          I like Rhythm and Blue, more  264.844549   \n",
       "1                   There's nothing he needs to change.   34.208137   \n",
       "2                                    It does not exist.   34.994830   \n",
       "3     Mine was made by a man called 'The Man of my D...   48.070915   \n",
       "4               This is a photo created from a photo of   23.791706   \n",
       "...                                                 ...         ...   \n",
       "1077         Tell me if you are hungry and be prepared.   77.580379   \n",
       "1078                             One of the first two-s   49.222501   \n",
       "1079                  He was not available for comment.   17.171671   \n",
       "1080             I think from what I have read, this is   15.729910   \n",
       "1081                          I got it just last night,   35.516760   \n",
       "\n",
       "      constraint_sat_ours  sbert_score_ours  \n",
       "0                0.243925          0.450397  \n",
       "1                0.999390          0.999999  \n",
       "2                0.999922          1.000001  \n",
       "3                0.492547          0.296398  \n",
       "4                0.995460         -0.121461  \n",
       "...                   ...               ...  \n",
       "1077             0.999900          0.279983  \n",
       "1078             0.193959          0.132631  \n",
       "1079             0.999897          0.115593  \n",
       "1080             0.610731          0.346202  \n",
       "1081             0.199845          0.634935  \n",
       "\n",
       "[1082 rows x 19 columns]"
      ]
     },
     "execution_count": 276,
     "metadata": {},
     "output_type": "execute_result"
    }
   ],
   "source": [
    "amalgam"
   ]
  },
  {
   "cell_type": "code",
   "execution_count": 277,
   "metadata": {},
   "outputs": [
    {
     "data": {
      "text/plain": [
       "(1082, 19)"
      ]
     },
     "execution_count": 277,
     "metadata": {},
     "output_type": "execute_result"
    }
   ],
   "source": [
    "amalgam.shape"
   ]
  },
  {
   "cell_type": "code",
   "execution_count": 278,
   "metadata": {},
   "outputs": [
    {
     "data": {
      "text/plain": [
       "Index(['original', 'prompt', 'original', 'edited_mucola', 'ppl_mucola',\n",
       "       'constraint_sat_mucola', 'sbert_score_mucola', 'prompt', 'original',\n",
       "       'edited_mm', 'ppl_mm', 'constraint_sat_mm', 'sbert_score_mm', 'prompt',\n",
       "       'original', 'edited_ours', 'ppl_ours', 'constraint_sat_ours',\n",
       "       'sbert_score_ours'],\n",
       "      dtype='object')"
      ]
     },
     "execution_count": 278,
     "metadata": {},
     "output_type": "execute_result"
    }
   ],
   "source": [
    "amalgam.columns"
   ]
  },
  {
   "cell_type": "code",
   "execution_count": 279,
   "metadata": {},
   "outputs": [],
   "source": [
    "amalgam = amalgam.iloc[:, [0,1,3,4,5,6,9,10,11,12,15,16, 17,18]].copy()"
   ]
  },
  {
   "cell_type": "code",
   "execution_count": 283,
   "metadata": {},
   "outputs": [
    {
     "data": {
      "text/plain": [
       "(8, 14)"
      ]
     },
     "execution_count": 283,
     "metadata": {},
     "output_type": "execute_result"
    }
   ],
   "source": [
    "amalgam.loc[\n",
    "            (amalgam['constraint_sat_ours']<=0.3) & \\\n",
    "    (amalgam['constraint_sat_mm']<=0.3) & \\\n",
    "    (amalgam['constraint_sat_mucola']<=0.3)].shape"
   ]
  },
  {
   "cell_type": "code",
   "execution_count": 286,
   "metadata": {},
   "outputs": [],
   "source": [
    "test_cases = amalgam.loc[\n",
    "            (amalgam['constraint_sat_ours']<=0.4) & \\\n",
    "    (amalgam['constraint_sat_mm']<=0.4) & \\\n",
    "    (amalgam['constraint_sat_mucola']<=0.4)].copy()"
   ]
  },
  {
   "cell_type": "code",
   "execution_count": 287,
   "metadata": {},
   "outputs": [
    {
     "data": {
      "text/plain": [
       "array([[nan, \"I called to say 'I Love You\",\n",
       "        \"I called to say 'I Love You\",\n",
       "        'i fail to understand , my lord .',\n",
       "        \"The time to say 'I Love You\"],\n",
       "       [nan,\n",
       "        \"'The Shield,' 'The Sopranos,' 'Twin Peaks,' 'The Simpsons,' 'Smallville,' 'Nip/Tuck.'\",\n",
       "        \"'The Shield,' 'The Sopranos,' 'Twin Peaks,' 'The Simpsons,' 'Smallville,' 'Nip/Tuck.'\",\n",
       "        \"' the avengers , ' ' the sopranos , ' ' twin peaks , ' ' the simpsons , ' ' smallville , ' ' nip / tuck . '\",\n",
       "        \"'The Americans' 'The Night of Christmas' 'Twin Peaks' 'The Simpsons' 'Smallville,' 'The '' '' '\"],\n",
       "       [nan, 'Nicole Kidman is much more attractive.',\n",
       "        'The New Kid on the Block\\n\\nThe',\n",
       "        'nicole kidman is much more attractive .',\n",
       "        'A. The game is much more than this'],\n",
       "       [nan, 'Dress her up to look like a Choirboy.',\n",
       "        'Dress her up to look like a Choirboy.',\n",
       "        'dress your body to perfection like a schoolgirl .',\n",
       "        'We made her up to look like a real, girl!'],\n",
       "       [nan, \"He said, 'he was an evil man'.\",\n",
       "        \"He said, 'he was an evil man'.\",\n",
       "        'he said , \" he was an excellent man indeed .',\n",
       "        \"He said, 'he was an old man'\"],\n",
       "       [nan,\n",
       "        'I think it awful that she stole Brad fron Jennifer, but I pick Angelina.',\n",
       "        'I think it awful that she stole Brad fron Jennifer, but I pick Angelina.',\n",
       "        'i find it odd that she is wearing frieze , but i recognize angelina .',\n",
       "        'I think it awful that she stole Brad fron Jennifer, but I pick Angelina.'],\n",
       "       [nan, \"Kevin...I'm not exactly an 'American Idol' viewer.\",\n",
       "        \"Kevin...I'm not exactly an 'American Idol' viewer.\",\n",
       "        \"this is ideal . i ' m not exactly an ' american idol ' fan .\",\n",
       "        \"Kevin...I'm not exactly an 'American Idol' viewer.\"],\n",
       "       [nan, 'I cannot imagine why they hell not.',\n",
       "        'I cannot imagine why they hell not.',\n",
       "        'i cannot imagine why they did not .',\n",
       "        \"I can see why they're not.\"],\n",
       "       [nan, 'One muffin looks to the other and says;',\n",
       "        'One muffin looks to the other and says;',\n",
       "        'one muffin falls to the floor and explodes .',\n",
       "        'One of us looks to the other and says;'],\n",
       "       [nan, 'Men would do this while others would not.',\n",
       "        'The first of the two new new-and',\n",
       "        'she would do well while others would not .',\n",
       "        'We can do this, I can do this'],\n",
       "       [nan, 'I do, I love both of them!', 'I do, I love both of them!',\n",
       "        'i do believe i love both of them .', \"I'm, I got both of them!\"],\n",
       "       [nan,\n",
       "        'He cannot keep his mouth shut; so, he is the reason his sister was fired.',\n",
       "        'The weird and the good\\n\\nThe weird and the good\\n\\nThe weird and the',\n",
       "        'he cannot keep his mouth shut ; unfortunately , he is the reason his sister was fired .',\n",
       "        'If he keep his mouth shut, so, he is the reason his sister is dead.']],\n",
       "      dtype=object)"
      ]
     },
     "execution_count": 287,
     "metadata": {},
     "output_type": "execute_result"
    }
   ],
   "source": [
    "test_cases[['prompt', 'original', 'edited_mucola', 'edited_mm', 'edited_ours']].values"
   ]
  },
  {
   "cell_type": "code",
   "execution_count": 288,
   "metadata": {},
   "outputs": [],
   "source": [
    "test_cases_final = test_cases.sample(5, random_state = 1234)"
   ]
  },
  {
   "cell_type": "code",
   "execution_count": 290,
   "metadata": {},
   "outputs": [
    {
     "data": {
      "text/plain": [
       "array([[nan, 'I cannot imagine why they hell not.',\n",
       "        'I cannot imagine why they hell not.',\n",
       "        'i cannot imagine why they did not .',\n",
       "        \"I can see why they're not.\"],\n",
       "       [nan, 'One muffin looks to the other and says;',\n",
       "        'One muffin looks to the other and says;',\n",
       "        'one muffin falls to the floor and explodes .',\n",
       "        'One of us looks to the other and says;'],\n",
       "       [nan,\n",
       "        'He cannot keep his mouth shut; so, he is the reason his sister was fired.',\n",
       "        'The weird and the good\\n\\nThe weird and the good\\n\\nThe weird and the',\n",
       "        'he cannot keep his mouth shut ; unfortunately , he is the reason his sister was fired .',\n",
       "        'If he keep his mouth shut, so, he is the reason his sister is dead.'],\n",
       "       [nan, 'Nicole Kidman is much more attractive.',\n",
       "        'The New Kid on the Block\\n\\nThe',\n",
       "        'nicole kidman is much more attractive .',\n",
       "        'A. The game is much more than this'],\n",
       "       [nan, 'Men would do this while others would not.',\n",
       "        'The first of the two new new-and',\n",
       "        'she would do well while others would not .',\n",
       "        'We can do this, I can do this']], dtype=object)"
      ]
     },
     "execution_count": 290,
     "metadata": {},
     "output_type": "execute_result"
    }
   ],
   "source": [
    "test_cases_final[['prompt', 'original', 'edited_mucola', 'edited_mm', 'edited_ours']].values"
   ]
  },
  {
   "cell_type": "code",
   "execution_count": 291,
   "metadata": {},
   "outputs": [],
   "source": [
    "test_cases_final.to_excel('/data/hyeryung/mucoco/new_module/nb_prepare_qual_eval_data_form_informal.xlsx',index=False)"
   ]
  },
  {
   "cell_type": "code",
   "execution_count": null,
   "metadata": {},
   "outputs": [],
   "source": []
  },
  {
   "cell_type": "markdown",
   "metadata": {},
   "source": [
    "# Formality (formal)"
   ]
  },
  {
   "cell_type": "code",
   "execution_count": 292,
   "metadata": {},
   "outputs": [],
   "source": [
    "import os\n",
    "os.chdir('/data/hyeryung/mucoco')"
   ]
  },
  {
   "cell_type": "code",
   "execution_count": null,
   "metadata": {},
   "outputs": [],
   "source": [
    "# \"\"outputs/formality/final/39uampje/outputs_epsilon0.9.txt\"\""
   ]
  },
  {
   "cell_type": "code",
   "execution_count": 293,
   "metadata": {},
   "outputs": [],
   "source": [
    "\n",
    "## do only negative\n",
    "mucola_path = 'outputs/formality/mucola/gbi-word-netps-1-nls-1-os200-es40-allsat-informal-to-formal-grad_norm-3c125pxa/results_epsilon-3-test.txt.xlsx'\n",
    "mm_path = ['/data/hyeryung/mixmatch/output_samples/form_em_0/disc_frm_new_data_form_em_test_sh8_len_b_sc_r_inf_max_iter_5_temp_1.0_shuffle_True_block_False_alpha_140.0_beta_1.0_delta_15.0_gamma_0.0_theta_300.0_date_16_04_2024_00_23_29/opt_samples-results.txt.xlsx']\n",
    "ours_path = '/data/hyeryung/mucoco/outputs/formality/final/39uampje/results_epsilon0.9-test.txt.xlsx'"
   ]
  },
  {
   "cell_type": "code",
   "execution_count": 294,
   "metadata": {},
   "outputs": [],
   "source": [
    "## load source dataset\n",
    "\n",
    "with open('data/formality/GYAFC_Corpus/Entertainment_Music/test/informal' ,'r') as f:\n",
    "    original = [x.strip() for x in f.readlines()]\n",
    "original = pd.DataFrame({'original': original})"
   ]
  },
  {
   "cell_type": "code",
   "execution_count": 295,
   "metadata": {},
   "outputs": [
    {
     "data": {
      "text/html": [
       "<div>\n",
       "<style scoped>\n",
       "    .dataframe tbody tr th:only-of-type {\n",
       "        vertical-align: middle;\n",
       "    }\n",
       "\n",
       "    .dataframe tbody tr th {\n",
       "        vertical-align: top;\n",
       "    }\n",
       "\n",
       "    .dataframe thead th {\n",
       "        text-align: right;\n",
       "    }\n",
       "</style>\n",
       "<table border=\"1\" class=\"dataframe\">\n",
       "  <thead>\n",
       "    <tr style=\"text-align: right;\">\n",
       "      <th></th>\n",
       "      <th>original</th>\n",
       "    </tr>\n",
       "  </thead>\n",
       "  <tbody>\n",
       "    <tr>\n",
       "      <th>103</th>\n",
       "      <td>YOUR WASTING YOUR TIME, SAYS THE BOY.</td>\n",
       "    </tr>\n",
       "    <tr>\n",
       "      <th>314</th>\n",
       "      <td>Said, If you're gonna play the game, boy, ya g...</td>\n",
       "    </tr>\n",
       "    <tr>\n",
       "      <th>410</th>\n",
       "      <td>Said, If you're gonna play the game, boy, ya g...</td>\n",
       "    </tr>\n",
       "    <tr>\n",
       "      <th>643</th>\n",
       "      <td>THE PARENTS STOP AND HIS MOM QUICKLY DISMOUNTS...</td>\n",
       "    </tr>\n",
       "    <tr>\n",
       "      <th>761</th>\n",
       "      <td>WHAT WERE YOU AND DAD DOING?</td>\n",
       "    </tr>\n",
       "    <tr>\n",
       "      <th>789</th>\n",
       "      <td>WHAT WERE YOU AND DAD DOING?</td>\n",
       "    </tr>\n",
       "    <tr>\n",
       "      <th>1053</th>\n",
       "      <td>THE PARENTS STOP AND HIS MOM QUICKLY DISMOUNTS...</td>\n",
       "    </tr>\n",
       "    <tr>\n",
       "      <th>1073</th>\n",
       "      <td>YOUR WASTING YOUR TIME, SAYS THE BOY.</td>\n",
       "    </tr>\n",
       "    <tr>\n",
       "      <th>1239</th>\n",
       "      <td>i used to be a fan too!</td>\n",
       "    </tr>\n",
       "    <tr>\n",
       "      <th>1324</th>\n",
       "      <td>i used to be a fan too!</td>\n",
       "    </tr>\n",
       "  </tbody>\n",
       "</table>\n",
       "</div>"
      ],
      "text/plain": [
       "                                               original\n",
       "103               YOUR WASTING YOUR TIME, SAYS THE BOY.\n",
       "314   Said, If you're gonna play the game, boy, ya g...\n",
       "410   Said, If you're gonna play the game, boy, ya g...\n",
       "643   THE PARENTS STOP AND HIS MOM QUICKLY DISMOUNTS...\n",
       "761                        WHAT WERE YOU AND DAD DOING?\n",
       "789                        WHAT WERE YOU AND DAD DOING?\n",
       "1053  THE PARENTS STOP AND HIS MOM QUICKLY DISMOUNTS...\n",
       "1073              YOUR WASTING YOUR TIME, SAYS THE BOY.\n",
       "1239                            i used to be a fan too!\n",
       "1324                            i used to be a fan too!"
      ]
     },
     "execution_count": 295,
     "metadata": {},
     "output_type": "execute_result"
    }
   ],
   "source": [
    "original.loc[original.duplicated(keep=False)]"
   ]
  },
  {
   "cell_type": "code",
   "execution_count": 296,
   "metadata": {},
   "outputs": [],
   "source": [
    "## load dataset \n",
    "mucola_data = pd.read_excel(mucola_path)\n",
    "mm_data_ = []\n",
    "for fp in mm_path:\n",
    "    mm_data_.append(pd.read_excel(fp))\n",
    "mm_data = pd.concat(mm_data_, axis=0, ignore_index=True)\n",
    "mm_data = mm_data.loc[~mm_data['constraint_sat'].isna()].copy()\n",
    "mm_data['original'] = original['original'].tolist()\n",
    "mm_data['edited'] = mm_data['edited'].apply(lambda x: eval(x)[0]['text'])\n",
    "ours_data = pd.read_excel(ours_path)"
   ]
  },
  {
   "cell_type": "code",
   "execution_count": 297,
   "metadata": {},
   "outputs": [],
   "source": [
    "mucola_data.columns = ['prompt', 'original', 'edited_mucola', 'ppl_mucola', 'constraint_sat_mucola', 'sbert_score_mucola']\n",
    "mm_data.columns = ['prompt', 'original', 'edited_mm', 'ppl_mm', 'constraint_sat_mm', 'sbert_score_mm']\n",
    "ours_data.columns = ['prompt', 'original', 'edited_ours', 'ppl_ours', 'constraint_sat_ours', 'sbert_score_ours']"
   ]
  },
  {
   "cell_type": "code",
   "execution_count": 298,
   "metadata": {},
   "outputs": [
    {
     "data": {
      "text/plain": [
       "array([\"The man says, I can't take your money.\",\n",
       "       'Jodie Foster is the best ever!',\n",
       "       'YOUR WASTING YOUR TIME, SAYS THE BOY.',\n",
       "       'i do and i love them both!'], dtype=object)"
      ]
     },
     "execution_count": 298,
     "metadata": {},
     "output_type": "execute_result"
    }
   ],
   "source": [
    "mucola_data.iloc[101:105,:]['original'].values"
   ]
  },
  {
   "cell_type": "code",
   "execution_count": 299,
   "metadata": {},
   "outputs": [],
   "source": [
    "amalgam = pd.concat([original, mucola_data],axis=1)"
   ]
  },
  {
   "cell_type": "code",
   "execution_count": 300,
   "metadata": {},
   "outputs": [
    {
     "data": {
      "text/html": [
       "<div>\n",
       "<style scoped>\n",
       "    .dataframe tbody tr th:only-of-type {\n",
       "        vertical-align: middle;\n",
       "    }\n",
       "\n",
       "    .dataframe tbody tr th {\n",
       "        vertical-align: top;\n",
       "    }\n",
       "\n",
       "    .dataframe thead th {\n",
       "        text-align: right;\n",
       "    }\n",
       "</style>\n",
       "<table border=\"1\" class=\"dataframe\">\n",
       "  <thead>\n",
       "    <tr style=\"text-align: right;\">\n",
       "      <th></th>\n",
       "      <th>original</th>\n",
       "      <th>prompt</th>\n",
       "      <th>original</th>\n",
       "      <th>edited_mucola</th>\n",
       "      <th>ppl_mucola</th>\n",
       "      <th>constraint_sat_mucola</th>\n",
       "      <th>sbert_score_mucola</th>\n",
       "    </tr>\n",
       "  </thead>\n",
       "  <tbody>\n",
       "    <tr>\n",
       "      <th>1239</th>\n",
       "      <td>i used to be a fan too!</td>\n",
       "      <td>NaN</td>\n",
       "      <td>i used to be a fan too!</td>\n",
       "      <td>The Securities and Exchange Commission (the \"</td>\n",
       "      <td>14.270413</td>\n",
       "      <td>0.951554</td>\n",
       "      <td>-0.474799</td>\n",
       "    </tr>\n",
       "    <tr>\n",
       "      <th>1324</th>\n",
       "      <td>i used to be a fan too!</td>\n",
       "      <td>NaN</td>\n",
       "      <td>i used to be a fan too!</td>\n",
       "      <td>The Securities and Exchange Commission (the \"</td>\n",
       "      <td>14.270413</td>\n",
       "      <td>0.951554</td>\n",
       "      <td>-0.474799</td>\n",
       "    </tr>\n",
       "  </tbody>\n",
       "</table>\n",
       "</div>"
      ],
      "text/plain": [
       "                     original  prompt                 original  \\\n",
       "1239  i used to be a fan too!     NaN  i used to be a fan too!   \n",
       "1324  i used to be a fan too!     NaN  i used to be a fan too!   \n",
       "\n",
       "                                      edited_mucola  ppl_mucola  \\\n",
       "1239  The Securities and Exchange Commission (the \"   14.270413   \n",
       "1324  The Securities and Exchange Commission (the \"   14.270413   \n",
       "\n",
       "      constraint_sat_mucola  sbert_score_mucola  \n",
       "1239               0.951554           -0.474799  \n",
       "1324               0.951554           -0.474799  "
      ]
     },
     "execution_count": 300,
     "metadata": {},
     "output_type": "execute_result"
    }
   ],
   "source": [
    "amalgam.loc[amalgam.duplicated(keep=False)]"
   ]
  },
  {
   "cell_type": "code",
   "execution_count": 301,
   "metadata": {},
   "outputs": [
    {
     "data": {
      "text/plain": [
       "(1416, 7)"
      ]
     },
     "execution_count": 301,
     "metadata": {},
     "output_type": "execute_result"
    }
   ],
   "source": [
    "amalgam.shape"
   ]
  },
  {
   "cell_type": "code",
   "execution_count": 302,
   "metadata": {},
   "outputs": [],
   "source": [
    "# amalgam = pd.merge(amalgam, bolt_data, on=['prompt', 'original'], how='left')\n",
    "amalgam = pd.concat([amalgam, mm_data],axis=1)"
   ]
  },
  {
   "cell_type": "code",
   "execution_count": 303,
   "metadata": {},
   "outputs": [
    {
     "data": {
      "text/plain": [
       "(1416, 13)"
      ]
     },
     "execution_count": 303,
     "metadata": {},
     "output_type": "execute_result"
    }
   ],
   "source": [
    "amalgam.shape"
   ]
  },
  {
   "cell_type": "code",
   "execution_count": 304,
   "metadata": {},
   "outputs": [],
   "source": [
    "# amalgam = pd.merge(amalgam, ours_data, on=['prompt', 'original'])\n",
    "amalgam = pd.concat([amalgam, ours_data],axis=1)"
   ]
  },
  {
   "cell_type": "code",
   "execution_count": 305,
   "metadata": {},
   "outputs": [
    {
     "data": {
      "text/html": [
       "<div>\n",
       "<style scoped>\n",
       "    .dataframe tbody tr th:only-of-type {\n",
       "        vertical-align: middle;\n",
       "    }\n",
       "\n",
       "    .dataframe tbody tr th {\n",
       "        vertical-align: top;\n",
       "    }\n",
       "\n",
       "    .dataframe thead th {\n",
       "        text-align: right;\n",
       "    }\n",
       "</style>\n",
       "<table border=\"1\" class=\"dataframe\">\n",
       "  <thead>\n",
       "    <tr style=\"text-align: right;\">\n",
       "      <th></th>\n",
       "      <th>original</th>\n",
       "      <th>prompt</th>\n",
       "      <th>original</th>\n",
       "      <th>edited_mucola</th>\n",
       "      <th>ppl_mucola</th>\n",
       "      <th>constraint_sat_mucola</th>\n",
       "      <th>sbert_score_mucola</th>\n",
       "      <th>prompt</th>\n",
       "      <th>original</th>\n",
       "      <th>edited_mm</th>\n",
       "      <th>ppl_mm</th>\n",
       "      <th>constraint_sat_mm</th>\n",
       "      <th>sbert_score_mm</th>\n",
       "      <th>prompt</th>\n",
       "      <th>original</th>\n",
       "      <th>edited_ours</th>\n",
       "      <th>ppl_ours</th>\n",
       "      <th>constraint_sat_ours</th>\n",
       "      <th>sbert_score_ours</th>\n",
       "    </tr>\n",
       "  </thead>\n",
       "  <tbody>\n",
       "    <tr>\n",
       "      <th>0</th>\n",
       "      <td>Is Any Baby Really A Freak.</td>\n",
       "      <td>NaN</td>\n",
       "      <td>Is Any Baby Really A Freak.</td>\n",
       "      <td>The regulatory regulatory and policy-making</td>\n",
       "      <td>126.648242</td>\n",
       "      <td>0.995810</td>\n",
       "      <td>0.094017</td>\n",
       "      <td>NaN</td>\n",
       "      <td>Is Any Baby Really A Freak.</td>\n",
       "      <td>or anyhow really a freak .</td>\n",
       "      <td>1640.030490</td>\n",
       "      <td>0.004811</td>\n",
       "      <td>0.271262</td>\n",
       "      <td>NaN</td>\n",
       "      <td>Is Any Baby Really A Freak.</td>\n",
       "      <td>Is It Really A Crime?</td>\n",
       "      <td>75.918501</td>\n",
       "      <td>0.406252</td>\n",
       "      <td>0.359836</td>\n",
       "    </tr>\n",
       "    <tr>\n",
       "      <th>1</th>\n",
       "      <td>aspen colorado has he best music festivals, yo...</td>\n",
       "      <td>NaN</td>\n",
       "      <td>aspen colorado has he best music festivals, yo...</td>\n",
       "      <td>The Securities and Exchange Commission (the \"S...</td>\n",
       "      <td>5.201659</td>\n",
       "      <td>0.999918</td>\n",
       "      <td>-0.390548</td>\n",
       "      <td>NaN</td>\n",
       "      <td>aspen colorado has he best music festivals, yo...</td>\n",
       "      <td>aspen colorado has hectic music festivals , yo...</td>\n",
       "      <td>318.413687</td>\n",
       "      <td>0.000364</td>\n",
       "      <td>0.494564</td>\n",
       "      <td>NaN</td>\n",
       "      <td>aspen colorado has he best music festivals, yo...</td>\n",
       "      <td>I know it's the last day and so you get all ov...</td>\n",
       "      <td>70.394364</td>\n",
       "      <td>0.010857</td>\n",
       "      <td>0.066936</td>\n",
       "    </tr>\n",
       "    <tr>\n",
       "      <th>2</th>\n",
       "      <td>You can get almost anything on ebay!</td>\n",
       "      <td>NaN</td>\n",
       "      <td>You can get almost anything on ebay!</td>\n",
       "      <td>The Securities and Exchange Commission (SEC) has</td>\n",
       "      <td>5.138129</td>\n",
       "      <td>0.826311</td>\n",
       "      <td>-0.275150</td>\n",
       "      <td>NaN</td>\n",
       "      <td>You can get almost anything on ebay!</td>\n",
       "      <td>anybody can get him anything on ebay !</td>\n",
       "      <td>159.574243</td>\n",
       "      <td>0.000550</td>\n",
       "      <td>0.745956</td>\n",
       "      <td>NaN</td>\n",
       "      <td>You can get almost anything on ebay!</td>\n",
       "      <td>I can get almost anything on my phone.</td>\n",
       "      <td>42.905778</td>\n",
       "      <td>0.967294</td>\n",
       "      <td>0.587772</td>\n",
       "    </tr>\n",
       "    <tr>\n",
       "      <th>3</th>\n",
       "      <td>everybody is Dying to get in</td>\n",
       "      <td>NaN</td>\n",
       "      <td>everybody is Dying to get in</td>\n",
       "      <td>The The Company of Transactions\\n\\n</td>\n",
       "      <td>1086.162408</td>\n",
       "      <td>0.990172</td>\n",
       "      <td>0.020012</td>\n",
       "      <td>NaN</td>\n",
       "      <td>everybody is Dying to get in</td>\n",
       "      <td>everybody is dying to get in</td>\n",
       "      <td>88.250958</td>\n",
       "      <td>0.006822</td>\n",
       "      <td>0.841032</td>\n",
       "      <td>NaN</td>\n",
       "      <td>everybody is Dying to get in</td>\n",
       "      <td>This page is here to get you</td>\n",
       "      <td>29.741548</td>\n",
       "      <td>0.310230</td>\n",
       "      <td>0.218977</td>\n",
       "    </tr>\n",
       "    <tr>\n",
       "      <th>4</th>\n",
       "      <td>not idiots like 50 cent and his whole Gay unit...</td>\n",
       "      <td>NaN</td>\n",
       "      <td>not idiots like 50 cent and his whole Gay unit...</td>\n",
       "      <td>The \"C\" in the \"C\" in the \"C\" in the \" C the \"...</td>\n",
       "      <td>20.617392</td>\n",
       "      <td>0.999866</td>\n",
       "      <td>-0.261561</td>\n",
       "      <td>NaN</td>\n",
       "      <td>not idiots like 50 cent and his whole Gay unit...</td>\n",
       "      <td>not idiots like 50 cent and his whole gay unit...</td>\n",
       "      <td>308.889494</td>\n",
       "      <td>0.000474</td>\n",
       "      <td>0.703228</td>\n",
       "      <td>NaN</td>\n",
       "      <td>not idiots like 50 cent and his whole Gay unit...</td>\n",
       "      <td>It was the first, and his first Gay Pride, the...</td>\n",
       "      <td>36.252772</td>\n",
       "      <td>0.996157</td>\n",
       "      <td>0.138039</td>\n",
       "    </tr>\n",
       "    <tr>\n",
       "      <th>...</th>\n",
       "      <td>...</td>\n",
       "      <td>...</td>\n",
       "      <td>...</td>\n",
       "      <td>...</td>\n",
       "      <td>...</td>\n",
       "      <td>...</td>\n",
       "      <td>...</td>\n",
       "      <td>...</td>\n",
       "      <td>...</td>\n",
       "      <td>...</td>\n",
       "      <td>...</td>\n",
       "      <td>...</td>\n",
       "      <td>...</td>\n",
       "      <td>...</td>\n",
       "      <td>...</td>\n",
       "      <td>...</td>\n",
       "      <td>...</td>\n",
       "      <td>...</td>\n",
       "      <td>...</td>\n",
       "    </tr>\n",
       "    <tr>\n",
       "      <th>1411</th>\n",
       "      <td>I LUBB IT.. [8] ILL KEEP U MY DIRRTY LITTLE SE...</td>\n",
       "      <td>NaN</td>\n",
       "      <td>I LUBB IT.. [8] ILL KEEP U MY DIRRTY LITTLE SE...</td>\n",
       "      <td>The first of the three-part series, entitled \"...</td>\n",
       "      <td>16.332424</td>\n",
       "      <td>0.999914</td>\n",
       "      <td>-0.381794</td>\n",
       "      <td>NaN</td>\n",
       "      <td>I LUBB IT.. [8] ILL KEEP U MY DIRRTY LITTLE SE...</td>\n",
       "      <td>i lubb it . . [ 8 ] ill keep u my dirrty littl...</td>\n",
       "      <td>77.074709</td>\n",
       "      <td>0.847333</td>\n",
       "      <td>0.265366</td>\n",
       "      <td>NaN</td>\n",
       "      <td>I LUBB IT.. [8] ILL KEEP U MY DIRRTY LITTLE SE...</td>\n",
       "      <td>18. A. I. A. and B. I. I.</td>\n",
       "      <td>20.801649</td>\n",
       "      <td>0.641839</td>\n",
       "      <td>-0.196757</td>\n",
       "    </tr>\n",
       "    <tr>\n",
       "      <th>1412</th>\n",
       "      <td>I guess it is the blond from american idol</td>\n",
       "      <td>NaN</td>\n",
       "      <td>I guess it is the blond from american idol</td>\n",
       "      <td>The findings appear to be in line with finding...</td>\n",
       "      <td>19.431359</td>\n",
       "      <td>0.999881</td>\n",
       "      <td>0.013348</td>\n",
       "      <td>NaN</td>\n",
       "      <td>I guess it is the blond from american idol</td>\n",
       "      <td>i guess he es the joker from american idol</td>\n",
       "      <td>321.037764</td>\n",
       "      <td>0.000675</td>\n",
       "      <td>0.671565</td>\n",
       "      <td>NaN</td>\n",
       "      <td>I guess it is the blond from american idol</td>\n",
       "      <td>I think it is the same from the outside.</td>\n",
       "      <td>24.779412</td>\n",
       "      <td>0.999890</td>\n",
       "      <td>0.243601</td>\n",
       "    </tr>\n",
       "    <tr>\n",
       "      <th>1413</th>\n",
       "      <td>(no offance) If you can answer that then it's ...</td>\n",
       "      <td>NaN</td>\n",
       "      <td>(no offance) If you can answer that then it's ...</td>\n",
       "      <td>The A-Series is a derivative of the A-1, the A-2,</td>\n",
       "      <td>10.363188</td>\n",
       "      <td>0.999321</td>\n",
       "      <td>-0.054575</td>\n",
       "      <td>NaN</td>\n",
       "      <td>(no offance) If you can answer that then it's ...</td>\n",
       "      <td>( no offance ) if you can answer that then it ...</td>\n",
       "      <td>339.543284</td>\n",
       "      <td>0.000384</td>\n",
       "      <td>0.742130</td>\n",
       "      <td>NaN</td>\n",
       "      <td>(no offance) If you can answer that then it's ...</td>\n",
       "      <td>It's the one that you can count on and it's th...</td>\n",
       "      <td>18.861176</td>\n",
       "      <td>0.066082</td>\n",
       "      <td>0.124309</td>\n",
       "    </tr>\n",
       "    <tr>\n",
       "      <th>1414</th>\n",
       "      <td>the song was called epic, i cant remember the ...</td>\n",
       "      <td>NaN</td>\n",
       "      <td>the song was called epic, i cant remember the ...</td>\n",
       "      <td>The management of the regulatory system is a c...</td>\n",
       "      <td>19.097834</td>\n",
       "      <td>0.999890</td>\n",
       "      <td>-0.024670</td>\n",
       "      <td>NaN</td>\n",
       "      <td>the song was called epic, i cant remember the ...</td>\n",
       "      <td>the song was called epic , i cant remember the...</td>\n",
       "      <td>73.508353</td>\n",
       "      <td>0.000820</td>\n",
       "      <td>0.832179</td>\n",
       "      <td>NaN</td>\n",
       "      <td>the song was called epic, i cant remember the ...</td>\n",
       "      <td>\"I was in the, I can remember the name but it ...</td>\n",
       "      <td>30.944549</td>\n",
       "      <td>0.999889</td>\n",
       "      <td>0.253927</td>\n",
       "    </tr>\n",
       "    <tr>\n",
       "      <th>1415</th>\n",
       "      <td>hey Mar...that commercial is for Dairy Queen.....</td>\n",
       "      <td>NaN</td>\n",
       "      <td>hey Mar...that commercial is for Dairy Queen.....</td>\n",
       "      <td>The preliminary findings of the study, which w...</td>\n",
       "      <td>10.663257</td>\n",
       "      <td>0.999912</td>\n",
       "      <td>-0.167539</td>\n",
       "      <td>NaN</td>\n",
       "      <td>hey Mar...that commercial is for Dairy Queen.....</td>\n",
       "      <td>hey man . . . that commercial is for dairy que...</td>\n",
       "      <td>50.394321</td>\n",
       "      <td>0.006702</td>\n",
       "      <td>0.432833</td>\n",
       "      <td>NaN</td>\n",
       "      <td>hey Mar...that commercial is for Dairy Queen.....</td>\n",
       "      <td>I'm sure this one is for you. I just thought I...</td>\n",
       "      <td>13.108677</td>\n",
       "      <td>0.999930</td>\n",
       "      <td>0.310508</td>\n",
       "    </tr>\n",
       "  </tbody>\n",
       "</table>\n",
       "<p>1416 rows × 19 columns</p>\n",
       "</div>"
      ],
      "text/plain": [
       "                                               original  prompt  \\\n",
       "0                           Is Any Baby Really A Freak.     NaN   \n",
       "1     aspen colorado has he best music festivals, yo...     NaN   \n",
       "2                  You can get almost anything on ebay!     NaN   \n",
       "3                          everybody is Dying to get in     NaN   \n",
       "4     not idiots like 50 cent and his whole Gay unit...     NaN   \n",
       "...                                                 ...     ...   \n",
       "1411  I LUBB IT.. [8] ILL KEEP U MY DIRRTY LITTLE SE...     NaN   \n",
       "1412         I guess it is the blond from american idol     NaN   \n",
       "1413  (no offance) If you can answer that then it's ...     NaN   \n",
       "1414  the song was called epic, i cant remember the ...     NaN   \n",
       "1415  hey Mar...that commercial is for Dairy Queen.....     NaN   \n",
       "\n",
       "                                               original  \\\n",
       "0                           Is Any Baby Really A Freak.   \n",
       "1     aspen colorado has he best music festivals, yo...   \n",
       "2                  You can get almost anything on ebay!   \n",
       "3                          everybody is Dying to get in   \n",
       "4     not idiots like 50 cent and his whole Gay unit...   \n",
       "...                                                 ...   \n",
       "1411  I LUBB IT.. [8] ILL KEEP U MY DIRRTY LITTLE SE...   \n",
       "1412         I guess it is the blond from american idol   \n",
       "1413  (no offance) If you can answer that then it's ...   \n",
       "1414  the song was called epic, i cant remember the ...   \n",
       "1415  hey Mar...that commercial is for Dairy Queen.....   \n",
       "\n",
       "                                          edited_mucola   ppl_mucola  \\\n",
       "0           The regulatory regulatory and policy-making   126.648242   \n",
       "1     The Securities and Exchange Commission (the \"S...     5.201659   \n",
       "2      The Securities and Exchange Commission (SEC) has     5.138129   \n",
       "3                   The The Company of Transactions\\n\\n  1086.162408   \n",
       "4     The \"C\" in the \"C\" in the \"C\" in the \" C the \"...    20.617392   \n",
       "...                                                 ...          ...   \n",
       "1411  The first of the three-part series, entitled \"...    16.332424   \n",
       "1412  The findings appear to be in line with finding...    19.431359   \n",
       "1413  The A-Series is a derivative of the A-1, the A-2,    10.363188   \n",
       "1414  The management of the regulatory system is a c...    19.097834   \n",
       "1415  The preliminary findings of the study, which w...    10.663257   \n",
       "\n",
       "      constraint_sat_mucola  sbert_score_mucola  prompt  \\\n",
       "0                  0.995810            0.094017     NaN   \n",
       "1                  0.999918           -0.390548     NaN   \n",
       "2                  0.826311           -0.275150     NaN   \n",
       "3                  0.990172            0.020012     NaN   \n",
       "4                  0.999866           -0.261561     NaN   \n",
       "...                     ...                 ...     ...   \n",
       "1411               0.999914           -0.381794     NaN   \n",
       "1412               0.999881            0.013348     NaN   \n",
       "1413               0.999321           -0.054575     NaN   \n",
       "1414               0.999890           -0.024670     NaN   \n",
       "1415               0.999912           -0.167539     NaN   \n",
       "\n",
       "                                               original  \\\n",
       "0                           Is Any Baby Really A Freak.   \n",
       "1     aspen colorado has he best music festivals, yo...   \n",
       "2                  You can get almost anything on ebay!   \n",
       "3                          everybody is Dying to get in   \n",
       "4     not idiots like 50 cent and his whole Gay unit...   \n",
       "...                                                 ...   \n",
       "1411  I LUBB IT.. [8] ILL KEEP U MY DIRRTY LITTLE SE...   \n",
       "1412         I guess it is the blond from american idol   \n",
       "1413  (no offance) If you can answer that then it's ...   \n",
       "1414  the song was called epic, i cant remember the ...   \n",
       "1415  hey Mar...that commercial is for Dairy Queen.....   \n",
       "\n",
       "                                              edited_mm       ppl_mm  \\\n",
       "0                            or anyhow really a freak .  1640.030490   \n",
       "1     aspen colorado has hectic music festivals , yo...   318.413687   \n",
       "2                anybody can get him anything on ebay !   159.574243   \n",
       "3                          everybody is dying to get in    88.250958   \n",
       "4     not idiots like 50 cent and his whole gay unit...   308.889494   \n",
       "...                                                 ...          ...   \n",
       "1411  i lubb it . . [ 8 ] ill keep u my dirrty littl...    77.074709   \n",
       "1412         i guess he es the joker from american idol   321.037764   \n",
       "1413  ( no offance ) if you can answer that then it ...   339.543284   \n",
       "1414  the song was called epic , i cant remember the...    73.508353   \n",
       "1415  hey man . . . that commercial is for dairy que...    50.394321   \n",
       "\n",
       "      constraint_sat_mm  sbert_score_mm  prompt  \\\n",
       "0              0.004811        0.271262     NaN   \n",
       "1              0.000364        0.494564     NaN   \n",
       "2              0.000550        0.745956     NaN   \n",
       "3              0.006822        0.841032     NaN   \n",
       "4              0.000474        0.703228     NaN   \n",
       "...                 ...             ...     ...   \n",
       "1411           0.847333        0.265366     NaN   \n",
       "1412           0.000675        0.671565     NaN   \n",
       "1413           0.000384        0.742130     NaN   \n",
       "1414           0.000820        0.832179     NaN   \n",
       "1415           0.006702        0.432833     NaN   \n",
       "\n",
       "                                               original  \\\n",
       "0                           Is Any Baby Really A Freak.   \n",
       "1     aspen colorado has he best music festivals, yo...   \n",
       "2                  You can get almost anything on ebay!   \n",
       "3                          everybody is Dying to get in   \n",
       "4     not idiots like 50 cent and his whole Gay unit...   \n",
       "...                                                 ...   \n",
       "1411  I LUBB IT.. [8] ILL KEEP U MY DIRRTY LITTLE SE...   \n",
       "1412         I guess it is the blond from american idol   \n",
       "1413  (no offance) If you can answer that then it's ...   \n",
       "1414  the song was called epic, i cant remember the ...   \n",
       "1415  hey Mar...that commercial is for Dairy Queen.....   \n",
       "\n",
       "                                            edited_ours   ppl_ours  \\\n",
       "0                                 Is It Really A Crime?  75.918501   \n",
       "1     I know it's the last day and so you get all ov...  70.394364   \n",
       "2                I can get almost anything on my phone.  42.905778   \n",
       "3                          This page is here to get you  29.741548   \n",
       "4     It was the first, and his first Gay Pride, the...  36.252772   \n",
       "...                                                 ...        ...   \n",
       "1411                          18. A. I. A. and B. I. I.  20.801649   \n",
       "1412           I think it is the same from the outside.  24.779412   \n",
       "1413  It's the one that you can count on and it's th...  18.861176   \n",
       "1414  \"I was in the, I can remember the name but it ...  30.944549   \n",
       "1415  I'm sure this one is for you. I just thought I...  13.108677   \n",
       "\n",
       "      constraint_sat_ours  sbert_score_ours  \n",
       "0                0.406252          0.359836  \n",
       "1                0.010857          0.066936  \n",
       "2                0.967294          0.587772  \n",
       "3                0.310230          0.218977  \n",
       "4                0.996157          0.138039  \n",
       "...                   ...               ...  \n",
       "1411             0.641839         -0.196757  \n",
       "1412             0.999890          0.243601  \n",
       "1413             0.066082          0.124309  \n",
       "1414             0.999889          0.253927  \n",
       "1415             0.999930          0.310508  \n",
       "\n",
       "[1416 rows x 19 columns]"
      ]
     },
     "execution_count": 305,
     "metadata": {},
     "output_type": "execute_result"
    }
   ],
   "source": [
    "amalgam"
   ]
  },
  {
   "cell_type": "code",
   "execution_count": 306,
   "metadata": {},
   "outputs": [
    {
     "data": {
      "text/plain": [
       "(1416, 19)"
      ]
     },
     "execution_count": 306,
     "metadata": {},
     "output_type": "execute_result"
    }
   ],
   "source": [
    "amalgam.shape"
   ]
  },
  {
   "cell_type": "code",
   "execution_count": 307,
   "metadata": {},
   "outputs": [
    {
     "data": {
      "text/plain": [
       "Index(['original', 'prompt', 'original', 'edited_mucola', 'ppl_mucola',\n",
       "       'constraint_sat_mucola', 'sbert_score_mucola', 'prompt', 'original',\n",
       "       'edited_mm', 'ppl_mm', 'constraint_sat_mm', 'sbert_score_mm', 'prompt',\n",
       "       'original', 'edited_ours', 'ppl_ours', 'constraint_sat_ours',\n",
       "       'sbert_score_ours'],\n",
       "      dtype='object')"
      ]
     },
     "execution_count": 307,
     "metadata": {},
     "output_type": "execute_result"
    }
   ],
   "source": [
    "amalgam.columns"
   ]
  },
  {
   "cell_type": "code",
   "execution_count": 308,
   "metadata": {},
   "outputs": [],
   "source": [
    "amalgam = amalgam.iloc[:, [0,1,3,4,5,6,9,10,11,12,15,16, 17,18]].copy()"
   ]
  },
  {
   "cell_type": "code",
   "execution_count": 309,
   "metadata": {},
   "outputs": [
    {
     "data": {
      "text/plain": [
       "(18, 14)"
      ]
     },
     "execution_count": 309,
     "metadata": {},
     "output_type": "execute_result"
    }
   ],
   "source": [
    "amalgam.loc[\n",
    "            (amalgam['constraint_sat_ours']>=0.7) & \\\n",
    "    (amalgam['constraint_sat_mm']>=0.7) & \\\n",
    "    (amalgam['constraint_sat_mucola']>=0.7)].shape"
   ]
  },
  {
   "cell_type": "code",
   "execution_count": 310,
   "metadata": {},
   "outputs": [],
   "source": [
    "test_cases = amalgam.loc[\n",
    "            (amalgam['constraint_sat_ours']>=0.7) & \\\n",
    "    (amalgam['constraint_sat_mm']>=0.7) & \\\n",
    "    (amalgam['constraint_sat_mucola']>=0.7)].copy()"
   ]
  },
  {
   "cell_type": "code",
   "execution_count": 311,
   "metadata": {},
   "outputs": [
    {
     "data": {
      "text/plain": [
       "array([[nan,\n",
       "        'Dakota Fanning.....I know that she is only 12 but she is really famous.',\n",
       "        'The Treasury and the Department of the Treasury are in the process of a \"significant, multi-',\n",
       "        'dakota fanning . . . . . i know that she is only 12 but she is really famous .',\n",
       "        'This is a good friend. I know that she is only 12 but she is a good friend'],\n",
       "       [nan, 'its tom cruise, what do you expect....',\n",
       "        'The Securities and Exchange Commission (the \"SEC',\n",
       "        'its tom cruise , what do you expect . . . .',\n",
       "        'In the end, what do you want?'],\n",
       "       [nan, 'Wow, I am very dumb in my observation skills......',\n",
       "        'The examining of evidence is we shall,, and,',\n",
       "        'wow , i am very dumb in my observation skills . . . . . .',\n",
       "        'So, I am very happy in my new life!'],\n",
       "       [nan, 'lol...what ever makes you feel good...lol',\n",
       "        'The first political and economic Act- transactions in the',\n",
       "        'lol . . . what ever makes you feel good . . . lol',\n",
       "        'What else does it make you think of?'],\n",
       "       [nan, '...what about romance, aka chik flik?',\n",
       "        'The Securities and Exchange Commission Commission (SEC) has a',\n",
       "        '. . . what about romance , aka chik flik ?',\n",
       "        'The idea of people, of things and things in general'],\n",
       "       [nan,\n",
       "        'eww....once again....eww.....if you want to see a hot guy look up ville valo or bam margera....',\n",
       "        'The preliminary findings of a new study, the first to look at the long-term, long-term, and the long-term effects of',\n",
       "        'eww . . . . once again . . . . eww . . . . . if you want to see a hot guy look up frankie valli or bam margera . . . .',\n",
       "        'This is one of the, the things that you want to see a man, walking up to a woman, or a a woman,'],\n",
       "       [nan, 'Bit by bit.....you win my love.',\n",
       "        'The regulatory and legal framework for the use of',\n",
       "        'bit by bit . . . . . you win my love .',\n",
       "        'In this, I, for my part,'],\n",
       "       [nan, '..... ONLY A GUY WOULD DO THIS.',\n",
       "        'The regulatory states, which are the United States,',\n",
       "        '. . . . . only a guy would do this .',\n",
       "        'I AM A MAN. I CAN DO THIS.'],\n",
       "       [nan,\n",
       "        'Tom Welling... looks a lot like the vocalist of The All-AMerican Rejects...^_^',\n",
       "        'The New York-based company is a \"NYSE-only\" and \"C--O-S-E\" (',\n",
       "        'tom welling . . . looks a lot like the vocalist of the all - american rejects . . . ^ _ ^',\n",
       "        'This one looks a lot like the first one of the series,'],\n",
       "       [nan,\n",
       "        'RAP..4everrr..  .. also i like metal, & rap/rock.. like Linkin park.. but plain rock SUCKS..',\n",
       "        'The first of the two companies announced to provide the first- and second-generation generation of the \"C-D-T\" will be the C-',\n",
       "        'rap sucks . 4rrrr . . . . also i like metal , & rap / rock . i like linkin park . . but plain rock sucks . .',\n",
       "        \"I don't like to talk to people who like me, and I like to get people to the same people that I want to like me.\"],\n",
       "       [nan,\n",
       "        'Beasty boys..haha.. seriously..umm..bone thugs and harmony',\n",
       "        'The disclosures disclosed in the new report are the first to be made by the',\n",
       "        'beastie boys . . haha . . seriously . . umm . . bone thugs and harmony',\n",
       "        '2. The, the, the, the, and, and,'],\n",
       "       [nan,\n",
       "        'oh favorite classic is the golden girls, is that considered classic?.....',\n",
       "        'The government of the United States has a policy of not using the \"',\n",
       "        'oh favorite classic is the golden girls , is that considered classic ? . . . . .',\n",
       "        'The first step is the last one, is that not a problem?'],\n",
       "       [nan,\n",
       "        \"guess it's better if you could sing that song infront of her......\",\n",
       "        'The U.S. Department of regulatory data for of for to,\\n\\n',\n",
       "        \"guess it ' s better if you could sing that song infront of her . . . . . .\",\n",
       "        \"I think it's better if you could see that from the end of it.\"],\n",
       "       [nan,\n",
       "        'jerry, jerry, jerry........he must have picked up some skills after seeing all those fights up close!',\n",
       "        \"The statement of the participants' Association of Clinical Medical Doctors (A.C.M.D.S.C.\",\n",
       "        'jerry , jerry , jerry . . . . . . . . he must have picked up some skills after seeing all those fights up close !',\n",
       "        'I think that I was in, I think that I was locked up some time ago and all those things are,'],\n",
       "       [nan, '.....        Yeah I think I got it.',\n",
       "        'The management of the New York Consolidated System (NYC) has been',\n",
       "        '. . . . . yeah i think i got it .', '\"I, I, I, I, I, I, I.'],\n",
       "       [nan, \"........Oh.... then no I'm not gay either.\",\n",
       "        'The disclosures disclosed by the former top-ranking U.',\n",
       "        \". . . . . . . . . . . . . so no i ' m not gay either .\",\n",
       "        'The \"No, no I\\'m sorry\"'],\n",
       "       [nan, \"Umm..., don't know..., my head hurts...\",\n",
       "        'The sources for this article are the Trademark Law in the United',\n",
       "        \"umm . . . , don ' t sleep . . . , my head hurts . . .\",\n",
       "        '\"No, I don\\'t want to see my family.'],\n",
       "       [nan, 'The word you are looking for is.............  strengths',\n",
       "        'The Securities and Exchange Commission has been a major player',\n",
       "        'the word you are looking for is . . . . . . . . . . . . . strengths',\n",
       "        'The answer you are looking for is in the form']], dtype=object)"
      ]
     },
     "execution_count": 311,
     "metadata": {},
     "output_type": "execute_result"
    }
   ],
   "source": [
    "test_cases[['prompt', 'original', 'edited_mucola', 'edited_mm', 'edited_ours']].values"
   ]
  },
  {
   "cell_type": "code",
   "execution_count": 312,
   "metadata": {},
   "outputs": [],
   "source": [
    "test_cases_final = test_cases.sample(5, random_state = 1234)"
   ]
  },
  {
   "cell_type": "code",
   "execution_count": 313,
   "metadata": {},
   "outputs": [
    {
     "data": {
      "text/plain": [
       "array([[nan,\n",
       "        'oh favorite classic is the golden girls, is that considered classic?.....',\n",
       "        'The government of the United States has a policy of not using the \"',\n",
       "        'oh favorite classic is the golden girls , is that considered classic ? . . . . .',\n",
       "        'The first step is the last one, is that not a problem?'],\n",
       "       [nan, 'lol...what ever makes you feel good...lol',\n",
       "        'The first political and economic Act- transactions in the',\n",
       "        'lol . . . what ever makes you feel good . . . lol',\n",
       "        'What else does it make you think of?'],\n",
       "       [nan, 'The word you are looking for is.............  strengths',\n",
       "        'The Securities and Exchange Commission has been a major player',\n",
       "        'the word you are looking for is . . . . . . . . . . . . . strengths',\n",
       "        'The answer you are looking for is in the form'],\n",
       "       [nan,\n",
       "        'Beasty boys..haha.. seriously..umm..bone thugs and harmony',\n",
       "        'The disclosures disclosed in the new report are the first to be made by the',\n",
       "        'beastie boys . . haha . . seriously . . umm . . bone thugs and harmony',\n",
       "        '2. The, the, the, the, and, and,'],\n",
       "       [nan,\n",
       "        'jerry, jerry, jerry........he must have picked up some skills after seeing all those fights up close!',\n",
       "        \"The statement of the participants' Association of Clinical Medical Doctors (A.C.M.D.S.C.\",\n",
       "        'jerry , jerry , jerry . . . . . . . . he must have picked up some skills after seeing all those fights up close !',\n",
       "        'I think that I was in, I think that I was locked up some time ago and all those things are,']],\n",
       "      dtype=object)"
      ]
     },
     "execution_count": 313,
     "metadata": {},
     "output_type": "execute_result"
    }
   ],
   "source": [
    "test_cases_final[['prompt', 'original', 'edited_mucola', 'edited_mm', 'edited_ours']].values"
   ]
  },
  {
   "cell_type": "code",
   "execution_count": 314,
   "metadata": {},
   "outputs": [],
   "source": [
    "test_cases_final.to_excel('/data/hyeryung/mucoco/new_module/nb_prepare_qual_eval_data_form_formal.xlsx',index=False)"
   ]
  }
 ],
 "metadata": {
  "kernelspec": {
   "display_name": "loc-edit",
   "language": "python",
   "name": "python3"
  },
  "language_info": {
   "codemirror_mode": {
    "name": "ipython",
    "version": 3
   },
   "file_extension": ".py",
   "mimetype": "text/x-python",
   "name": "python",
   "nbconvert_exporter": "python",
   "pygments_lexer": "ipython3",
   "version": "3.8.18"
  }
 },
 "nbformat": 4,
 "nbformat_minor": 2
}
