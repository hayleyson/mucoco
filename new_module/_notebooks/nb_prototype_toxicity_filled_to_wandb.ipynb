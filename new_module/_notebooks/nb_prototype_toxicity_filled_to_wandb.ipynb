{
 "cells": [
  {
   "cell_type": "code",
   "execution_count": 20,
   "id": "84f5ef8f-9c5d-4572-b339-6c42e89233cb",
   "metadata": {},
   "outputs": [],
   "source": [
    "import wandb\n",
    "from glob import glob\n",
    "import os\n",
    "\n",
    "os.chdir('/home/s3/hyeryung/mucoco')"
   ]
  },
  {
   "cell_type": "code",
   "execution_count": 68,
   "id": "d886606d-a84e-4dbc-95b1-e296ed331ed6",
   "metadata": {},
   "outputs": [],
   "source": [
    "wandb_ids = ['oc6pto51',\n",
    " 'wj9ww99a',\n",
    " 'gb09bmmt',\n",
    " 'nkss5p4q',\n",
    " 'by5s93vs',\n",
    " '1p7censa',\n",
    " 'rc2h1xg6',\n",
    " '0ejjmp0e',\n",
    " 'gtgpwrna',\n",
    " '7fjid6rd',\n",
    " 'vbwqb7sj',\n",
    " 'bbja89dg',\n",
    " 'tsnyh5jg',\n",
    " '5de5l7xb',\n",
    " '0v4eiwve',\n",
    " '59vupfa1',\n",
    " 'wtbdd1l0',\n",
    " 'kpseb40i',\n",
    " 'rt1gftvo',\n",
    " 'c77e9d5d']"
   ]
  },
  {
   "cell_type": "code",
   "execution_count": 69,
   "id": "5b680b52-1598-45a5-acb1-14f57b59111a",
   "metadata": {},
   "outputs": [],
   "source": [
    "api = wandb.Api()"
   ]
  },
  {
   "cell_type": "code",
   "execution_count": 13,
   "id": "6f0d7776-729e-4382-829e-c41c0f7f08a2",
   "metadata": {},
   "outputs": [],
   "source": [
    "run_id = wandb_ids[0]"
   ]
  },
  {
   "cell_type": "code",
   "execution_count": 72,
   "id": "4a05be89-d81d-4373-9635-1afd3ecd6e26",
   "metadata": {},
   "outputs": [],
   "source": [
    "task_ntokens={k:float(v) for k, v in [x.split() for x in \"toxicity 55218 ; formality 18970 ; sentiment 7168\".split(';')]}"
   ]
  },
  {
   "cell_type": "code",
   "execution_count": 73,
   "id": "0e824c6b-b7c3-4f04-a881-46b9f621212d",
   "metadata": {},
   "outputs": [
    {
     "name": "stdout",
     "output_type": "stream",
     "text": [
      "oc6pto51\n",
      "wj9ww99a\n",
      "gb09bmmt\n",
      "nkss5p4q\n",
      "by5s93vs\n",
      "1p7censa\n",
      "rc2h1xg6\n",
      "0ejjmp0e\n",
      "gtgpwrna\n",
      "7fjid6rd\n",
      "vbwqb7sj\n",
      "bbja89dg\n",
      "tsnyh5jg\n",
      "5de5l7xb\n",
      "0v4eiwve\n",
      "59vupfa1\n",
      "wtbdd1l0\n",
      "kpseb40i\n",
      "rt1gftvo\n",
      "c77e9d5d\n"
     ]
    }
   ],
   "source": [
    "## toks_p_sec\n",
    "for run_id in wandb_ids:\n",
    "    run = api.run(f'hayleyson/toxicity-decoding/{run_id}')\n",
    "    \n",
    "    prefix = \"mlm\"\n",
    "    print(run_id)\n",
    "\n",
    "    decode_time = run.summary.get('decode_time', None)\n",
    "    toks_p_sec = task_ntokens['toxicity']/decode_time\n",
    "\n",
    "    run.summary.update({'toks_p_sec':toks_p_sec})\n",
    "    run.update()"
   ]
  },
  {
   "cell_type": "code",
   "execution_count": 75,
   "id": "e397804c-8377-461a-a6aa-cb30266cc639",
   "metadata": {},
   "outputs": [
    {
     "name": "stdout",
     "output_type": "stream",
     "text": [
      "\"bbja89dg\" \"5de5l7xb\" \"59vupfa1\" \"kpseb40i\"\n"
     ]
    }
   ],
   "source": [
    "print(' '.join(['\"'+x+'\"' for x in \"\"\"bbja89dg\n",
    "5de5l7xb\n",
    "59vupfa1\n",
    "kpseb40i\"\"\".split()]))"
   ]
  },
  {
   "cell_type": "code",
   "execution_count": 52,
   "id": "bc7b4f9b-187d-4225-9cf4-fcb8f6896740",
   "metadata": {},
   "outputs": [
    {
     "name": "stdout",
     "output_type": "stream",
     "text": [
      "wj9ww99a grad_norm\n",
      "{'avg_max_toxicity_filled': 0.274467780328, 'toxic_probability_p_filled': 0.14, 'avg_toxicity_filled': 0.09028755544697602, 'toxic_probability_s_filled': 0.0204}\n",
      "gtgpwrna None\n",
      "{'avg_max_toxicity_filled': 0.25115324615199996, 'toxic_probability_p_filled': 0.12, 'avg_toxicity_filled': 0.077436514693296, 'toxic_probability_s_filled': 0.0176}\n",
      "7fjid6rd None\n",
      "{'avg_max_toxicity_filled': 0.285186147212, 'toxic_probability_p_filled': 0.156, 'avg_toxicity_filled': 0.09247871386222122, 'toxic_probability_s_filled': 0.0252}\n",
      "vbwqb7sj None\n",
      "{'avg_max_toxicity_filled': 0.266454138608, 'toxic_probability_p_filled': 0.144, 'avg_toxicity_filled': 0.084246484053736, 'toxic_probability_s_filled': 0.0232}\n",
      "tsnyh5jg None\n",
      "{'avg_max_toxicity_filled': 0.292576138832, 'toxic_probability_p_filled': 0.168, 'avg_toxicity_filled': 0.095011631544804, 'toxic_probability_s_filled': 0.0272}\n",
      "0v4eiwve None\n",
      "{'avg_max_toxicity_filled': 0.246775791212, 'toxic_probability_p_filled': 0.1, 'avg_toxicity_filled': 0.07604071576794401, 'toxic_probability_s_filled': 0.0116}\n",
      "wtbdd1l0 None\n",
      "{'avg_max_toxicity_filled': 0.273008951408, 'toxic_probability_p_filled': 0.132, 'avg_toxicity_filled': 0.08857420433233601, 'toxic_probability_s_filled': 0.0184}\n",
      "rt1gftvo None\n",
      "{'avg_max_toxicity_filled': 0.24862787544, 'toxic_probability_p_filled': 0.104, 'avg_toxicity_filled': 0.077843776768576, 'toxic_probability_s_filled': 0.0128}\n",
      "c77e9d5d None\n",
      "{'avg_max_toxicity_filled': 0.27591691860399997, 'toxic_probability_p_filled': 0.132, 'avg_toxicity_filled': 0.090793591477776, 'toxic_probability_s_filled': 0.0184}\n",
      "oc6pto51 grad_norm\n",
      "{'avg_max_toxicity_filled': 0.228888558936, 'toxic_probability_p_filled': 0.076, 'avg_toxicity_filled': 0.07268663795417601, 'toxic_probability_s_filled': 0.0112}\n",
      "1p7censa grad_norm\n",
      "{'avg_max_toxicity_filled': 0.260470374172, 'toxic_probability_p_filled': 0.104, 'avg_toxicity_filled': 0.088627541780002, 'toxic_probability_s_filled': 0.0156}\n",
      "nkss5p4q grad_norm\n",
      "{'avg_max_toxicity_filled': 0.276999514168, 'toxic_probability_p_filled': 0.144, 'avg_toxicity_filled': 0.090521054171376, 'toxic_probability_s_filled': 0.0208}\n",
      "0ejjmp0e grad_norm\n",
      "{'avg_max_toxicity_filled': 0.27236222882799993, 'toxic_probability_p_filled': 0.132, 'avg_toxicity_filled': 0.09111884954720001, 'toxic_probability_s_filled': 0.0192}\n",
      "by5s93vs grad_norm\n",
      "{'avg_max_toxicity_filled': 0.22218100594, 'toxic_probability_p_filled': 0.052, 'avg_toxicity_filled': 0.07154386111017601, 'toxic_probability_s_filled': 0.006}\n",
      "gb09bmmt grad_norm\n",
      "{'avg_max_toxicity_filled': 0.22560459907199998, 'toxic_probability_p_filled': 0.076, 'avg_toxicity_filled': 0.072192029864936, 'toxic_probability_s_filled': 0.0104}\n",
      "rc2h1xg6 grad_norm\n",
      "{'avg_max_toxicity_filled': 0.239204987524, 'toxic_probability_p_filled': 0.084, 'avg_toxicity_filled': 0.07659442124553599, 'toxic_probability_s_filled': 0.01}\n"
     ]
    }
   ],
   "source": [
    "# for run_id in wandb_ids:\n",
    "#     run = api.run(f'hayleyson/toxicity-decoding/{run_id}')\n",
    "    \n",
    "#     prefix = \"mlm\"\n",
    "#     print(run_id, run.config.get('locate_method', None))\n",
    "    \n",
    "#     min_epsilon = run.config['min_epsilons'][0] if isinstance(run.config['min_epsilons'],list) else run.config['min_epsilons']\n",
    "#     outfile_path_pattern = f\"{run.config['output_dir_prefix']}/*{prefix}*{run_id}*/results_filled.txt\"\n",
    "#     result_path = glob(outfile_path_pattern)[0]\n",
    "    \n",
    "#     with open(result_path, 'r') as f:\n",
    "#         result = f.readlines()\n",
    "    \n",
    "#     toxicity_filled_entry = [x for x in result if x.startswith('avg_max_toxicity: ')]\n",
    "#     if len(toxicity_filled_entry) == 1:\n",
    "#         toxicity_filled_dict={k+'_filled':float(v) for k,v in [y.strip().split(': ') for y in toxicity_filled_entry[0].split(', ')]}\n",
    "#         print(toxicity_filled_dict)\n",
    "#     else:\n",
    "#         print(toxicity_filled_entry)\n",
    "\n",
    "#     # run.summary.update(toxicity_filled_dict)\n",
    "#     # run.update()"
   ]
  },
  {
   "cell_type": "code",
   "execution_count": null,
   "id": "9e7f8ac4-f11b-4540-be56-43b6386e40f6",
   "metadata": {},
   "outputs": [],
   "source": [
    "## 생각해보니 이미 뽑힌 결과가 있으니까 조금만 수정하면 되겠음\n",
    "\n",
    "\n",
    "\n",
    "\n"
   ]
  }
 ],
 "metadata": {
  "kernelspec": {
   "display_name": "Python 3 (ipykernel)",
   "language": "python",
   "name": "python3"
  },
  "language_info": {
   "codemirror_mode": {
    "name": "ipython",
    "version": 3
   },
   "file_extension": ".py",
   "mimetype": "text/x-python",
   "name": "python",
   "nbconvert_exporter": "python",
   "pygments_lexer": "ipython3",
   "version": "3.11.7"
  }
 },
 "nbformat": 4,
 "nbformat_minor": 5
}
