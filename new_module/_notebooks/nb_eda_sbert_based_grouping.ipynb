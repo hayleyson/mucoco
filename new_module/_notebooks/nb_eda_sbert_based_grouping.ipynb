{
 "cells": [
  {
   "cell_type": "code",
   "execution_count": 39,
   "metadata": {},
   "outputs": [],
   "source": [
    "from glob import glob\n",
    "import numpy as np\n",
    "import os\n",
    "os.chdir('/data/hyeryung/mucoco')\n",
    "import pandas as pd\n",
    "from evaluation.prompted_sampling.evaluate import distinctness, repetition\n",
    "from transformers import AutoTokenizer\n",
    "from tqdm import tqdm"
   ]
  },
  {
   "cell_type": "code",
   "execution_count": 2,
   "metadata": {},
   "outputs": [],
   "source": [
    "tokenizer = AutoTokenizer.from_pretrained('gpt2-large')"
   ]
  },
  {
   "cell_type": "code",
   "execution_count": 3,
   "metadata": {},
   "outputs": [
    {
     "data": {
      "text/plain": [
       "['/data/hyeryung/BOLT/sentiment/sentiment/neg.len12.jsonl',\n",
       " '/data/hyeryung/BOLT/sentiment/sentiment/neg.len20.jsonl',\n",
       " '/data/hyeryung/BOLT/sentiment/sentiment/neg.len50.jsonl',\n",
       " '/data/hyeryung/BOLT/sentiment/sentiment/pos.len12.jsonl',\n",
       " '/data/hyeryung/BOLT/sentiment/sentiment/pos.len20.jsonl',\n",
       " '/data/hyeryung/BOLT/sentiment/sentiment/pos.len50.jsonl']"
      ]
     },
     "execution_count": 3,
     "metadata": {},
     "output_type": "execute_result"
    }
   ],
   "source": [
    "sorted(glob('/data/hyeryung/BOLT/sentiment/sentiment/*.jsonl'))"
   ]
  },
  {
   "cell_type": "code",
   "execution_count": 48,
   "metadata": {},
   "outputs": [],
   "source": [
    "neg_files = ['/data/hyeryung/BOLT/sentiment/sentiment/neg.len12.jsonl',\n",
    " '/data/hyeryung/BOLT/sentiment/sentiment/neg.len20.jsonl',\n",
    " '/data/hyeryung/BOLT/sentiment/sentiment/neg.len50.jsonl']\n",
    "pos_files = ['/data/hyeryung/BOLT/sentiment/sentiment/pos.len12.jsonl',\n",
    " '/data/hyeryung/BOLT/sentiment/sentiment/pos.len20.jsonl',\n",
    " '/data/hyeryung/BOLT/sentiment/sentiment/pos.len50.jsonl']"
   ]
  },
  {
   "cell_type": "code",
   "execution_count": 49,
   "metadata": {},
   "outputs": [],
   "source": [
    "data = []\n",
    "for fpath in neg_files + pos_files:\n",
    "    output = pd.read_json(fpath, lines=True)\n",
    "    output['fpath'] = fpath\n",
    "    data.append(output)\n",
    "data = pd.concat(data, axis=0)"
   ]
  },
  {
   "cell_type": "code",
   "execution_count": 50,
   "metadata": {},
   "outputs": [],
   "source": [
    "data = data.explode('generations')"
   ]
  },
  {
   "cell_type": "code",
   "execution_count": 51,
   "metadata": {},
   "outputs": [],
   "source": [
    "data['seq_len'] = data['generations'].apply(lambda x: len(tokenizer.encode(x['text'])))"
   ]
  },
  {
   "cell_type": "code",
   "execution_count": 52,
   "metadata": {},
   "outputs": [
    {
     "data": {
      "text/plain": [
       "49196"
      ]
     },
     "execution_count": 52,
     "metadata": {},
     "output_type": "execute_result"
    }
   ],
   "source": [
    "data.seq_len.sum()"
   ]
  },
  {
   "cell_type": "code",
   "execution_count": 53,
   "metadata": {},
   "outputs": [
    {
     "name": "stdout",
     "output_type": "stream",
     "text": [
      "/data/hyeryung/BOLT/sentiment/sentiment/neg.len12-results.txt.sbertscore\n",
      "/data/hyeryung/BOLT/sentiment/sentiment/neg.len20-results.txt.sbertscore\n",
      "/data/hyeryung/BOLT/sentiment/sentiment/neg.len50-results.txt.sbertscore\n",
      "/data/hyeryung/BOLT/sentiment/sentiment/pos.len12-results.txt.sbertscore\n",
      "/data/hyeryung/BOLT/sentiment/sentiment/pos.len20-results.txt.sbertscore\n",
      "/data/hyeryung/BOLT/sentiment/sentiment/pos.len50-results.txt.sbertscore\n",
      "0.029692789159978725\n"
     ]
    }
   ],
   "source": [
    "suffix = 'sbertscore'\n",
    "neg_files = sorted(glob(f'/data/hyeryung/BOLT/sentiment/sentiment/neg*.{suffix}'))\n",
    "pos_files = sorted(glob(f'/data/hyeryung/BOLT/sentiment/sentiment/pos*.{suffix}'))\n",
    "for tmp in neg_files:\n",
    "    print(tmp)\n",
    "for tmp in pos_files:\n",
    "    print(tmp)\n",
    "    \n",
    "all_data = []\n",
    "for fpath in neg_files + pos_files:\n",
    "    with open(fpath , 'r') as f:\n",
    "        raw_data = f.readlines()\n",
    "        tmp_data = [float(x.strip()) for x in raw_data[1:]]\n",
    "    all_data.extend(tmp_data)\n",
    "data['bert']=all_data\n",
    "print(np.mean(all_data))\n"
   ]
  },
  {
   "cell_type": "code",
   "execution_count": 54,
   "metadata": {},
   "outputs": [
    {
     "name": "stdout",
     "output_type": "stream",
     "text": [
      "/data/hyeryung/BOLT/sentiment/sentiment/neg.len12-results.txt.fluency\n",
      "/data/hyeryung/BOLT/sentiment/sentiment/neg.len20-results.txt.fluency\n",
      "/data/hyeryung/BOLT/sentiment/sentiment/neg.len50-results.txt.fluency\n",
      "/data/hyeryung/BOLT/sentiment/sentiment/pos.len12-results.txt.fluency\n",
      "/data/hyeryung/BOLT/sentiment/sentiment/pos.len20-results.txt.fluency\n",
      "/data/hyeryung/BOLT/sentiment/sentiment/pos.len50-results.txt.fluency\n",
      "0.9566666666666667\n"
     ]
    }
   ],
   "source": [
    "suffix = 'fluency'\n",
    "neg_files = sorted(glob(f'/data/hyeryung/BOLT/sentiment/sentiment/neg*.{suffix}'))\n",
    "pos_files = sorted(glob(f'/data/hyeryung/BOLT/sentiment/sentiment/pos*.{suffix}'))\n",
    "for tmp in neg_files:\n",
    "    print(tmp)\n",
    "for tmp in pos_files:\n",
    "    print(tmp)\n",
    "all_data = []\n",
    "for fpath in neg_files + pos_files:\n",
    "    with open(fpath , 'r') as f:\n",
    "        tmp_data = [1 if x.strip() == 'LABEL_1' else 0 for x in f.readlines()]\n",
    "    all_data.extend(tmp_data)\n",
    "data['fluency'] = all_data\n",
    "print(np.mean(all_data))"
   ]
  },
  {
   "cell_type": "code",
   "execution_count": 55,
   "metadata": {},
   "outputs": [
    {
     "name": "stdout",
     "output_type": "stream",
     "text": [
      "/data/hyeryung/BOLT/sentiment/sentiment/neg.len12-results.txt.ppl-big\n",
      "/data/hyeryung/BOLT/sentiment/sentiment/neg.len20-results.txt.ppl-big\n",
      "/data/hyeryung/BOLT/sentiment/sentiment/neg.len50-results.txt.ppl-big\n",
      "/data/hyeryung/BOLT/sentiment/sentiment/pos.len12-results.txt.ppl-big\n",
      "/data/hyeryung/BOLT/sentiment/sentiment/pos.len20-results.txt.ppl-big\n",
      "/data/hyeryung/BOLT/sentiment/sentiment/pos.len50-results.txt.ppl-big\n",
      "8.614294544184443\n"
     ]
    }
   ],
   "source": [
    "suffix = 'ppl-big'\n",
    "neg_files = sorted(glob(f'/data/hyeryung/BOLT/sentiment/sentiment/neg*.{suffix}'))\n",
    "pos_files = sorted(glob(f'/data/hyeryung/BOLT/sentiment/sentiment/pos*.{suffix}'))\n",
    "for tmp in neg_files:\n",
    "    print(tmp)\n",
    "for tmp in pos_files:\n",
    "    print(tmp)\n",
    "all_data = []\n",
    "for fpath in neg_files + pos_files:\n",
    "    with open(fpath , 'r') as f:\n",
    "        tmp_data = [float(x.strip().split(',')[0]) for x in f.readlines()]\n",
    "    all_data.extend(tmp_data)\n",
    "data['ppl'] = all_data\n",
    "print(np.mean(all_data))"
   ]
  },
  {
   "cell_type": "code",
   "execution_count": 56,
   "metadata": {},
   "outputs": [
    {
     "name": "stdout",
     "output_type": "stream",
     "text": [
      "/data/hyeryung/BOLT/sentiment/sentiment/neg.len12-results.txt.repetitions\n",
      "/data/hyeryung/BOLT/sentiment/sentiment/neg.len20-results.txt.repetitions\n",
      "/data/hyeryung/BOLT/sentiment/sentiment/neg.len50-results.txt.repetitions\n",
      "/data/hyeryung/BOLT/sentiment/sentiment/pos.len12-results.txt.repetitions\n",
      "/data/hyeryung/BOLT/sentiment/sentiment/pos.len20-results.txt.repetitions\n",
      "/data/hyeryung/BOLT/sentiment/sentiment/pos.len50-results.txt.repetitions\n",
      "0.0\n"
     ]
    }
   ],
   "source": [
    "suffix = 'repetitions'\n",
    "neg_files = sorted(glob(f'/data/hyeryung/BOLT/sentiment/sentiment/neg*.{suffix}'))\n",
    "pos_files = sorted(glob(f'/data/hyeryung/BOLT/sentiment/sentiment/pos*.{suffix}'))\n",
    "for tmp in neg_files:\n",
    "    print(tmp)\n",
    "for tmp in pos_files:\n",
    "    print(tmp)\n",
    "all_data = []\n",
    "for fpath in neg_files + pos_files:\n",
    "    with open(fpath , 'r') as f:\n",
    "        tmp_data = [0 if x.strip() == \"{}\" else 1 for x in f.readlines()]\n",
    "    all_data.extend(tmp_data)\n",
    "data['rep']=all_data\n",
    "print(np.mean(all_data))\n"
   ]
  },
  {
   "cell_type": "code",
   "execution_count": 57,
   "metadata": {},
   "outputs": [
    {
     "name": "stdout",
     "output_type": "stream",
     "text": [
      "/data/hyeryung/BOLT/sentiment/sentiment/neg.len12-results.txt.sentiment_ext\n",
      "/data/hyeryung/BOLT/sentiment/sentiment/neg.len20-results.txt.sentiment_ext\n",
      "/data/hyeryung/BOLT/sentiment/sentiment/neg.len50-results.txt.sentiment_ext\n",
      "/data/hyeryung/BOLT/sentiment/sentiment/pos.len12-results.txt.sentiment_ext\n",
      "/data/hyeryung/BOLT/sentiment/sentiment/pos.len20-results.txt.sentiment_ext\n",
      "/data/hyeryung/BOLT/sentiment/sentiment/pos.len50-results.txt.sentiment_ext\n",
      "0.7616666666666667\n"
     ]
    }
   ],
   "source": [
    "suffix = 'sentiment_ext'\n",
    "neg_files = sorted(glob(f'/data/hyeryung/BOLT/sentiment/sentiment/neg*.{suffix}'))\n",
    "pos_files = sorted(glob(f'/data/hyeryung/BOLT/sentiment/sentiment/pos*.{suffix}'))\n",
    "for tmp in neg_files:\n",
    "    print(tmp)\n",
    "for tmp in pos_files:\n",
    "    print(tmp)\n",
    "\n",
    "all_data = []\n",
    "all_data_2 = []\n",
    "\n",
    "for fpath in neg_files:\n",
    "    \n",
    "    with open(fpath , 'r') as f:\n",
    "        raw_data = f.readlines()\n",
    "        tmp_data = [1 if eval(x)['label']=='NEGATIVE' else 0 for x in raw_data]\n",
    "        tmp_data_2 = [eval(x)['score'] if eval(x)['label']=='POSITIVE' else 1-eval(x)['score'] for x in raw_data]\n",
    "    all_data.extend(tmp_data)\n",
    "    all_data_2.extend(tmp_data_2)\n",
    "    \n",
    "for fpath in pos_files:\n",
    "    \n",
    "    with open(fpath , 'r') as f:\n",
    "        raw_data = f.readlines()\n",
    "        tmp_data = [1 if eval(x)['label']=='POSITIVE' else 0 for x in raw_data]\n",
    "        tmp_data_2 = [eval(x)['score'] if eval(x)['label']=='POSITIVE' else 1-eval(x)['score'] for x in raw_data]\n",
    "    all_data.extend(tmp_data)\n",
    "    all_data_2.extend(tmp_data_2)\n",
    "    \n",
    "data['sentiment_acc'] = all_data\n",
    "data['positive_proba'] = all_data_2\n",
    "print(np.mean(all_data))\n"
   ]
  },
  {
   "cell_type": "code",
   "execution_count": 58,
   "metadata": {},
   "outputs": [
    {
     "name": "stderr",
     "output_type": "stream",
     "text": [
      "Evaluating dist-n: 100%|██████████| 15/15 [00:00<00:00, 4816.98it/s]\n",
      "Evaluating dist-n: 100%|██████████| 15/15 [00:00<00:00, 3413.33it/s]\n",
      "Evaluating dist-n: 100%|██████████| 15/15 [00:00<00:00, 1111.29it/s]\n",
      "Evaluating dist-n: 100%|██████████| 15/15 [00:00<00:00, 4838.84it/s]\n",
      "Evaluating dist-n: 100%|██████████| 15/15 [00:00<00:00, 3423.18it/s]\n",
      "Evaluating dist-n: 100%|██████████| 15/15 [00:00<00:00, 1606.44it/s]"
     ]
    },
    {
     "name": "stdout",
     "output_type": "stream",
     "text": [
      "0.8067590312313181\n"
     ]
    },
    {
     "name": "stderr",
     "output_type": "stream",
     "text": [
      "\n"
     ]
    }
   ],
   "source": [
    "# ## dist-3\n",
    "neg_files = ['/data/hyeryung/BOLT/sentiment/sentiment/neg.len12.jsonl',\n",
    " '/data/hyeryung/BOLT/sentiment/sentiment/neg.len20.jsonl',\n",
    " '/data/hyeryung/BOLT/sentiment/sentiment/neg.len50.jsonl']\n",
    "pos_files = ['/data/hyeryung/BOLT/sentiment/sentiment/pos.len12.jsonl',\n",
    " '/data/hyeryung/BOLT/sentiment/sentiment/pos.len20.jsonl',\n",
    " '/data/hyeryung/BOLT/sentiment/sentiment/pos.len50.jsonl']\n",
    "dist3_metrics=[]\n",
    "for fpath in neg_files + pos_files:\n",
    "\n",
    "    outputs=pd.read_json(fpath, lines=True)\n",
    "    _,_,dist3=distinctness(outputs)\n",
    "    dist3_metrics.append(dist3)\n",
    "#\n",
    "print(np.mean(dist3_metrics))"
   ]
  },
  {
   "cell_type": "code",
   "execution_count": 59,
   "metadata": {},
   "outputs": [],
   "source": [
    "data['target']=data['fpath'].str.split('/').apply(lambda x: x[-1][:3])"
   ]
  },
  {
   "cell_type": "code",
   "execution_count": 60,
   "metadata": {},
   "outputs": [
    {
     "data": {
      "text/html": [
       "<div>\n",
       "<style scoped>\n",
       "    .dataframe tbody tr th:only-of-type {\n",
       "        vertical-align: middle;\n",
       "    }\n",
       "\n",
       "    .dataframe tbody tr th {\n",
       "        vertical-align: top;\n",
       "    }\n",
       "\n",
       "    .dataframe thead th {\n",
       "        text-align: right;\n",
       "    }\n",
       "</style>\n",
       "<table border=\"1\" class=\"dataframe\">\n",
       "  <thead>\n",
       "    <tr style=\"text-align: right;\">\n",
       "      <th></th>\n",
       "      <th>prompt</th>\n",
       "      <th>generations</th>\n",
       "      <th>fpath</th>\n",
       "      <th>seq_len</th>\n",
       "      <th>bert</th>\n",
       "      <th>fluency</th>\n",
       "      <th>ppl</th>\n",
       "      <th>rep</th>\n",
       "      <th>sentiment_acc</th>\n",
       "      <th>positive_proba</th>\n",
       "      <th>target</th>\n",
       "    </tr>\n",
       "  </thead>\n",
       "  <tbody>\n",
       "    <tr>\n",
       "      <th>1</th>\n",
       "      <td>{'text': 'The book'}</td>\n",
       "      <td>{'text': ' is full of interesting insights and...</td>\n",
       "      <td>/data/hyeryung/BOLT/sentiment/sentiment/pos.le...</td>\n",
       "      <td>12</td>\n",
       "      <td>0.537997</td>\n",
       "      <td>1</td>\n",
       "      <td>11.719075</td>\n",
       "      <td>0</td>\n",
       "      <td>1</td>\n",
       "      <td>0.998888</td>\n",
       "      <td>pos</td>\n",
       "    </tr>\n",
       "  </tbody>\n",
       "</table>\n",
       "</div>"
      ],
      "text/plain": [
       "                 prompt                                        generations  \\\n",
       "1  {'text': 'The book'}  {'text': ' is full of interesting insights and...   \n",
       "\n",
       "                                               fpath  seq_len      bert  \\\n",
       "1  /data/hyeryung/BOLT/sentiment/sentiment/pos.le...       12  0.537997   \n",
       "\n",
       "   fluency        ppl  rep  sentiment_acc  positive_proba target  \n",
       "1        1  11.719075    0              1        0.998888    pos  "
      ]
     },
     "execution_count": 60,
     "metadata": {},
     "output_type": "execute_result"
    }
   ],
   "source": [
    "data.loc[data['bert']>= 0.5,]"
   ]
  },
  {
   "cell_type": "code",
   "execution_count": 61,
   "metadata": {},
   "outputs": [],
   "source": [
    "data['sbert_geq_50']=data['bert'] >= 0.5"
   ]
  },
  {
   "cell_type": "code",
   "execution_count": 63,
   "metadata": {},
   "outputs": [
    {
     "data": {
      "text/html": [
       "<div>\n",
       "<style scoped>\n",
       "    .dataframe tbody tr th:only-of-type {\n",
       "        vertical-align: middle;\n",
       "    }\n",
       "\n",
       "    .dataframe tbody tr th {\n",
       "        vertical-align: top;\n",
       "    }\n",
       "\n",
       "    .dataframe thead th {\n",
       "        text-align: right;\n",
       "    }\n",
       "</style>\n",
       "<table border=\"1\" class=\"dataframe\">\n",
       "  <thead>\n",
       "    <tr style=\"text-align: right;\">\n",
       "      <th></th>\n",
       "      <th>sentiment_acc</th>\n",
       "      <th>ppl</th>\n",
       "      <th>fluency</th>\n",
       "      <th>rep</th>\n",
       "    </tr>\n",
       "    <tr>\n",
       "      <th>sbert_geq_50</th>\n",
       "      <th></th>\n",
       "      <th></th>\n",
       "      <th></th>\n",
       "      <th></th>\n",
       "    </tr>\n",
       "  </thead>\n",
       "  <tbody>\n",
       "    <tr>\n",
       "      <th>True</th>\n",
       "      <td>1.000000</td>\n",
       "      <td>11.719075</td>\n",
       "      <td>1.000000</td>\n",
       "      <td>0.0</td>\n",
       "    </tr>\n",
       "    <tr>\n",
       "      <th>False</th>\n",
       "      <td>0.761534</td>\n",
       "      <td>8.612569</td>\n",
       "      <td>0.956643</td>\n",
       "      <td>0.0</td>\n",
       "    </tr>\n",
       "  </tbody>\n",
       "</table>\n",
       "</div>"
      ],
      "text/plain": [
       "              sentiment_acc        ppl   fluency  rep\n",
       "sbert_geq_50                                         \n",
       "True               1.000000  11.719075  1.000000  0.0\n",
       "False              0.761534   8.612569  0.956643  0.0"
      ]
     },
     "execution_count": 63,
     "metadata": {},
     "output_type": "execute_result"
    }
   ],
   "source": [
    "data.groupby('sbert_geq_50')[['sentiment_acc', 'ppl', 'fluency','rep',\n",
    "       ]].mean().sort_index(ascending=False)"
   ]
  },
  {
   "cell_type": "code",
   "execution_count": 64,
   "metadata": {},
   "outputs": [
    {
     "data": {
      "text/plain": [
       "sbert_geq_50\n",
       "True        1\n",
       "False    1799\n",
       "dtype: int64"
      ]
     },
     "execution_count": 64,
     "metadata": {},
     "output_type": "execute_result"
    }
   ],
   "source": [
    "data.groupby('sbert_geq_50').size().sort_index(ascending=False)"
   ]
  },
  {
   "cell_type": "code",
   "execution_count": 65,
   "metadata": {},
   "outputs": [
    {
     "data": {
      "text/plain": [
       "sbert_geq_50\n",
       "True     0.000556\n",
       "False    0.999444\n",
       "dtype: float64"
      ]
     },
     "execution_count": 65,
     "metadata": {},
     "output_type": "execute_result"
    }
   ],
   "source": [
    "data.groupby('sbert_geq_50').size().sort_index(ascending=False)/data.shape[0]"
   ]
  },
  {
   "cell_type": "code",
   "execution_count": null,
   "metadata": {},
   "outputs": [],
   "source": []
  },
  {
   "cell_type": "code",
   "execution_count": 13,
   "metadata": {},
   "outputs": [],
   "source": [
    "fpath_prefix='/data/hyeryung/BOLT/detoxic/detoxic/'"
   ]
  },
  {
   "cell_type": "code",
   "execution_count": 14,
   "metadata": {},
   "outputs": [],
   "source": [
    "data = []\n",
    "for fpath in sorted(glob(f'{fpath_prefix}*.jsonl')):\n",
    "    output = pd.read_json(fpath, lines=True)\n",
    "    output['fpath'] = fpath\n",
    "    data.append(output)\n",
    "data = pd.concat(data, axis=0)"
   ]
  },
  {
   "cell_type": "code",
   "execution_count": 15,
   "metadata": {},
   "outputs": [],
   "source": [
    "data = data.explode('generations')"
   ]
  },
  {
   "cell_type": "code",
   "execution_count": 16,
   "metadata": {},
   "outputs": [],
   "source": [
    "data['seq_len'] = data['generations'].apply(lambda x: len(tokenizer.encode(x['text'])))"
   ]
  },
  {
   "cell_type": "code",
   "execution_count": 17,
   "metadata": {},
   "outputs": [
    {
     "data": {
      "text/plain": [
       "93152"
      ]
     },
     "execution_count": 17,
     "metadata": {},
     "output_type": "execute_result"
    }
   ],
   "source": [
    "data.seq_len.sum()"
   ]
  },
  {
   "cell_type": "code",
   "execution_count": 18,
   "metadata": {},
   "outputs": [
    {
     "data": {
      "text/plain": [
       "'/data/hyeryung/BOLT/detoxic/detoxic/gen_len20.jsonl'"
      ]
     },
     "execution_count": 18,
     "metadata": {},
     "output_type": "execute_result"
    }
   ],
   "source": [
    "fpath"
   ]
  },
  {
   "cell_type": "code",
   "execution_count": 20,
   "metadata": {},
   "outputs": [
    {
     "name": "stdout",
     "output_type": "stream",
     "text": [
      "0.031783755126808685\n"
     ]
    }
   ],
   "source": [
    "all_data = []\n",
    "for fpath in sorted(glob(f'{fpath_prefix}/*.sbertscore')):\n",
    "    with open(fpath , 'r') as f:\n",
    "        raw_data = f.readlines()\n",
    "        tmp_data = [float(x.strip()) for x in raw_data[1:]]\n",
    "    all_data.extend(tmp_data)\n",
    "data['bert']=all_data\n",
    "print(np.mean(all_data))\n"
   ]
  },
  {
   "cell_type": "code",
   "execution_count": 23,
   "metadata": {},
   "outputs": [
    {
     "name": "stdout",
     "output_type": "stream",
     "text": [
      "0.9592\n"
     ]
    }
   ],
   "source": [
    "all_data = []\n",
    "for fpath in sorted(glob(f'{fpath_prefix}/*.fluency')):\n",
    "    with open(fpath , 'r') as f:\n",
    "        tmp_data = [1 if x.strip() == 'LABEL_1' else 0 for x in f.readlines()]\n",
    "    all_data.extend(tmp_data)\n",
    "data['fluency'] = all_data\n",
    "print(np.mean(all_data))"
   ]
  },
  {
   "cell_type": "code",
   "execution_count": 24,
   "metadata": {},
   "outputs": [
    {
     "name": "stdout",
     "output_type": "stream",
     "text": [
      "8.89616156043901\n"
     ]
    }
   ],
   "source": [
    "all_data = []\n",
    "for fpath in sorted(glob(f'{fpath_prefix}/*.ppl-big')):\n",
    "    with open(fpath , 'r') as f:\n",
    "        tmp_data = [float(x.strip().split(',')[0]) for x in f.readlines()]\n",
    "    all_data.extend(tmp_data)\n",
    "data['ppl'] = all_data\n",
    "print(np.mean(all_data))"
   ]
  },
  {
   "cell_type": "code",
   "execution_count": 25,
   "metadata": {},
   "outputs": [
    {
     "name": "stdout",
     "output_type": "stream",
     "text": [
      "0.0008\n"
     ]
    }
   ],
   "source": [
    "all_data = []\n",
    "for fpath in sorted(glob(f'{fpath_prefix}/*.repetitions')):\n",
    "    with open(fpath , 'r') as f:\n",
    "        tmp_data = [0 if x.strip() == \"{}\" else 1 for x in f.readlines()]\n",
    "    all_data.extend(tmp_data)\n",
    "data['rep']=all_data\n",
    "print(np.mean(all_data))\n"
   ]
  },
  {
   "cell_type": "code",
   "execution_count": 27,
   "metadata": {},
   "outputs": [
    {
     "name": "stdout",
     "output_type": "stream",
     "text": [
      "0.08984012971584\n"
     ]
    }
   ],
   "source": [
    "all_data = []\n",
    "for fpath in sorted(glob(f'{fpath_prefix}/*.toxicity')):\n",
    "    raw_data = pd.read_json(fpath, lines=True)\n",
    "    tmp_data = unravel_toxicity_data(raw_data)\n",
    "    all_data.extend(tmp_data['toxicity'])\n",
    "    \n",
    "    \n",
    "data['toxicity'] = all_data\n",
    "print(np.mean(all_data))"
   ]
  },
  {
   "cell_type": "code",
   "execution_count": 38,
   "metadata": {},
   "outputs": [],
   "source": [
    "data['prompt'] = data['prompt'].apply(lambda x: x['text'])"
   ]
  },
  {
   "cell_type": "code",
   "execution_count": 39,
   "metadata": {},
   "outputs": [
    {
     "data": {
      "text/plain": [
       "0.21490436696"
      ]
     },
     "execution_count": 39,
     "metadata": {},
     "output_type": "execute_result"
    }
   ],
   "source": [
    "data.groupby('prompt')['toxicity'].max().mean()"
   ]
  },
  {
   "cell_type": "code",
   "execution_count": 41,
   "metadata": {},
   "outputs": [
    {
     "data": {
      "text/plain": [
       "0.06"
      ]
     },
     "execution_count": 41,
     "metadata": {},
     "output_type": "execute_result"
    }
   ],
   "source": [
    "(data.groupby('prompt')['is_toxic'].sum() >= 1).mean()"
   ]
  },
  {
   "cell_type": "code",
   "execution_count": 30,
   "metadata": {},
   "outputs": [],
   "source": [
    "data['sbert_geq_50']=data['bert'] >= 0.5"
   ]
  },
  {
   "cell_type": "code",
   "execution_count": 31,
   "metadata": {},
   "outputs": [],
   "source": [
    "data['is_toxic'] = data['toxicity'] >= 0.5"
   ]
  },
  {
   "cell_type": "code",
   "execution_count": 33,
   "metadata": {},
   "outputs": [
    {
     "data": {
      "text/html": [
       "<div>\n",
       "<style scoped>\n",
       "    .dataframe tbody tr th:only-of-type {\n",
       "        vertical-align: middle;\n",
       "    }\n",
       "\n",
       "    .dataframe tbody tr th {\n",
       "        vertical-align: top;\n",
       "    }\n",
       "\n",
       "    .dataframe thead th {\n",
       "        text-align: right;\n",
       "    }\n",
       "</style>\n",
       "<table border=\"1\" class=\"dataframe\">\n",
       "  <thead>\n",
       "    <tr style=\"text-align: right;\">\n",
       "      <th></th>\n",
       "      <th>toxicity</th>\n",
       "      <th>is_toxic</th>\n",
       "      <th>ppl</th>\n",
       "      <th>fluency</th>\n",
       "      <th>rep</th>\n",
       "      <th>sbert</th>\n",
       "    </tr>\n",
       "    <tr>\n",
       "      <th>sbert_geq_50</th>\n",
       "      <th></th>\n",
       "      <th></th>\n",
       "      <th></th>\n",
       "      <th></th>\n",
       "      <th></th>\n",
       "      <th></th>\n",
       "    </tr>\n",
       "  </thead>\n",
       "  <tbody>\n",
       "    <tr>\n",
       "      <th>True</th>\n",
       "      <td>0.214121</td>\n",
       "      <td>0.250000</td>\n",
       "      <td>4.280235</td>\n",
       "      <td>1.000000</td>\n",
       "      <td>0.000000</td>\n",
       "      <td>0.535930</td>\n",
       "    </tr>\n",
       "    <tr>\n",
       "      <th>False</th>\n",
       "      <td>0.089441</td>\n",
       "      <td>0.012039</td>\n",
       "      <td>8.910980</td>\n",
       "      <td>0.959069</td>\n",
       "      <td>0.000803</td>\n",
       "      <td>0.030165</td>\n",
       "    </tr>\n",
       "  </tbody>\n",
       "</table>\n",
       "</div>"
      ],
      "text/plain": [
       "              toxicity  is_toxic       ppl   fluency       rep     sbert\n",
       "sbert_geq_50                                                            \n",
       "True          0.214121  0.250000  4.280235  1.000000  0.000000  0.535930\n",
       "False         0.089441  0.012039  8.910980  0.959069  0.000803  0.030165"
      ]
     },
     "execution_count": 33,
     "metadata": {},
     "output_type": "execute_result"
    }
   ],
   "source": [
    "data.groupby('sbert_geq_50')[['toxicity', 'is_toxic','ppl', 'fluency','rep', 'sbert',\n",
    "       ]].mean().sort_index(ascending=False)"
   ]
  },
  {
   "cell_type": "code",
   "execution_count": 34,
   "metadata": {},
   "outputs": [
    {
     "data": {
      "text/plain": [
       "sbert_geq_50\n",
       "True        8\n",
       "False    2492\n",
       "dtype: int64"
      ]
     },
     "execution_count": 34,
     "metadata": {},
     "output_type": "execute_result"
    }
   ],
   "source": [
    "data.groupby('sbert_geq_50').size().sort_index(ascending=False)"
   ]
  },
  {
   "cell_type": "code",
   "execution_count": 35,
   "metadata": {},
   "outputs": [
    {
     "data": {
      "text/plain": [
       "sbert_geq_50\n",
       "True     0.0032\n",
       "False    0.9968\n",
       "dtype: float64"
      ]
     },
     "execution_count": 35,
     "metadata": {},
     "output_type": "execute_result"
    }
   ],
   "source": [
    "data.groupby('sbert_geq_50').size().sort_index(ascending=False)/data.shape[0]"
   ]
  },
  {
   "cell_type": "code",
   "execution_count": null,
   "metadata": {},
   "outputs": [],
   "source": []
  },
  {
   "cell_type": "code",
   "execution_count": null,
   "metadata": {},
   "outputs": [],
   "source": []
  }
 ],
 "metadata": {
  "kernelspec": {
   "display_name": "loc-edit",
   "language": "python",
   "name": "python3"
  },
  "language_info": {
   "codemirror_mode": {
    "name": "ipython",
    "version": 3
   },
   "file_extension": ".py",
   "mimetype": "text/x-python",
   "name": "python",
   "nbconvert_exporter": "python",
   "pygments_lexer": "ipython3",
   "version": "3.8.18"
  }
 },
 "nbformat": 4,
 "nbformat_minor": 2
}
