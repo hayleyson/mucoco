{
 "cells": [
  {
   "cell_type": "code",
   "execution_count": 1,
   "id": "38eee0e3-ac6b-4177-b245-5a0484a2d61f",
   "metadata": {},
   "outputs": [],
   "source": [
    "import pandas as pd"
   ]
  },
  {
   "cell_type": "code",
   "execution_count": 25,
   "id": "6e61e357-15a9-4b87-a69f-ae9c5737eac3",
   "metadata": {},
   "outputs": [],
   "source": [
    "from transformers import AutoTokenizer"
   ]
  },
  {
   "cell_type": "code",
   "execution_count": null,
   "id": "1acb37b6-5953-4258-8836-f1d0c9a12c5f",
   "metadata": {},
   "outputs": [],
   "source": [
    "from copy import deepcopy\n",
    "\n",
    "tokenizer = AutoTokenizer.from_pretrained('gpt2-large')\n",
    " \n",
    "def correct_text_values_inplace(_df):\n",
    "    \"\"\"a function that converts 'text' key's value in generations list into decoded value from 'token' values\"\"\"\n",
    "    global tokenizer\n",
    "    return_data_list = []\n",
    "    for _, row in _df.iterrows():\n",
    "        row_copy = deepcopy(row['generations'])\n",
    "        for i in range(len(row['generations'])):\n",
    "            row_copy[i]['text'] = tokenizer.decode(row['generations'][i]['tokens'])\n",
    "        return_data_list.append(row_copy)\n",
    "    _df['generations']=return_data_list"
   ]
  },
  {
   "cell_type": "code",
   "execution_count": 95,
   "id": "53b8237e-fd7b-4809-bb65-e17c44659bfe",
   "metadata": {},
   "outputs": [],
   "source": [
    "orig_data = pd.read_json('/home/s3/hyeryung/mucoco/new_module/data/toxicity-avoidance/testset_gpt2_2500.jsonl',lines=True)"
   ]
  },
  {
   "cell_type": "code",
   "execution_count": 97,
   "id": "257dd75a-1044-43e3-81c3-fa95946a89ac",
   "metadata": {},
   "outputs": [],
   "source": [
    "correct_text_values_inplace(orig_data)"
   ]
  },
  {
   "cell_type": "code",
   "execution_count": 99,
   "id": "422c8e3d-901a-4301-8eb0-3ccfaeb939ec",
   "metadata": {},
   "outputs": [],
   "source": [
    "orig_data.to_json('/home/s3/hyeryung/mucoco/new_module/data/toxicity-avoidance/testset_gpt2_2500_space_added.jsonl',lines=True,orient='records')"
   ]
  },
  {
   "cell_type": "code",
   "execution_count": 23,
   "id": "039022b9-bf86-480f-aafa-2d49da012c76",
   "metadata": {},
   "outputs": [],
   "source": []
  },
  {
   "cell_type": "code",
   "execution_count": null,
   "id": "78c75096-3314-498f-9cf5-02fd6d53e40f",
   "metadata": {},
   "outputs": [],
   "source": []
  },
  {
   "cell_type": "code",
   "execution_count": 106,
   "id": "3e2a7d97-aa51-4b50-82a4-0b9e62a2baf9",
   "metadata": {},
   "outputs": [],
   "source": [
    "orig_data = pd.read_json('/home/s3/hyeryung/mucoco/outputs/toxicity/mlm-reranking/roberta-base-jigsaw-toxicity-classifier-with-gpt2-large-embeds-energy-training/mlm-reranking-token-nps4-k3-beam5-allsat_primary-toxic-to-nontoxic-grad_norm-rc2h1xg6/outputs_epsilon0.75_filled.txt',\n",
    "                         lines=True)"
   ]
  },
  {
   "cell_type": "code",
   "execution_count": 113,
   "id": "8f57a28e-025f-4654-9a20-fb59f8601145",
   "metadata": {},
   "outputs": [
    {
     "data": {
      "text/html": [
       "<div>\n",
       "<style scoped>\n",
       "    .dataframe tbody tr th:only-of-type {\n",
       "        vertical-align: middle;\n",
       "    }\n",
       "\n",
       "    .dataframe tbody tr th {\n",
       "        vertical-align: top;\n",
       "    }\n",
       "\n",
       "    .dataframe thead th {\n",
       "        text-align: right;\n",
       "    }\n",
       "</style>\n",
       "<table border=\"1\" class=\"dataframe\">\n",
       "  <thead>\n",
       "    <tr style=\"text-align: right;\">\n",
       "      <th></th>\n",
       "      <th>prompt</th>\n",
       "      <th>generations</th>\n",
       "    </tr>\n",
       "  </thead>\n",
       "  <tbody>\n",
       "    <tr>\n",
       "      <th>0</th>\n",
       "      <td>{'text': '\"I don’t want them to leave, but the...</td>\n",
       "      <td>[{'text': ' stopping me. They have nothing to ...</td>\n",
       "    </tr>\n",
       "    <tr>\n",
       "      <th>1</th>\n",
       "      <td>{'text': '\"I don’t want youthful marriages, th...</td>\n",
       "      <td>[{'text': ' should stay in his bedroom with op...</td>\n",
       "    </tr>\n",
       "    <tr>\n",
       "      <th>2</th>\n",
       "      <td>{'text': '\"I've had families come to me over t...</td>\n",
       "      <td>[{'text': ' years for my Jewish dinner,\" he sa...</td>\n",
       "    </tr>\n",
       "  </tbody>\n",
       "</table>\n",
       "</div>"
      ],
      "text/plain": [
       "                                              prompt  \\\n",
       "0  {'text': '\"I don’t want them to leave, but the...   \n",
       "1  {'text': '\"I don’t want youthful marriages, th...   \n",
       "2  {'text': '\"I've had families come to me over t...   \n",
       "\n",
       "                                         generations  \n",
       "0  [{'text': ' stopping me. They have nothing to ...  \n",
       "1  [{'text': ' should stay in his bedroom with op...  \n",
       "2  [{'text': ' years for my Jewish dinner,\" he sa...  "
      ]
     },
     "execution_count": 113,
     "metadata": {},
     "output_type": "execute_result"
    }
   ],
   "source": [
    "orig_data.head(3)"
   ]
  },
  {
   "cell_type": "code",
   "execution_count": 110,
   "id": "fc51be46-d36c-4ebd-b61a-f560b4238545",
   "metadata": {},
   "outputs": [],
   "source": [
    "correct_text_values_inplace(orig_data)"
   ]
  },
  {
   "cell_type": "code",
   "execution_count": 114,
   "id": "dfff62c4-94b2-4eac-be87-bce623f2e9d7",
   "metadata": {},
   "outputs": [
    {
     "data": {
      "text/html": [
       "<div>\n",
       "<style scoped>\n",
       "    .dataframe tbody tr th:only-of-type {\n",
       "        vertical-align: middle;\n",
       "    }\n",
       "\n",
       "    .dataframe tbody tr th {\n",
       "        vertical-align: top;\n",
       "    }\n",
       "\n",
       "    .dataframe thead th {\n",
       "        text-align: right;\n",
       "    }\n",
       "</style>\n",
       "<table border=\"1\" class=\"dataframe\">\n",
       "  <thead>\n",
       "    <tr style=\"text-align: right;\">\n",
       "      <th></th>\n",
       "      <th>prompt</th>\n",
       "      <th>generations</th>\n",
       "    </tr>\n",
       "  </thead>\n",
       "  <tbody>\n",
       "    <tr>\n",
       "      <th>0</th>\n",
       "      <td>{'text': '\"I don’t want them to leave, but the...</td>\n",
       "      <td>[{'text': ' stopping me. They have nothing to ...</td>\n",
       "    </tr>\n",
       "    <tr>\n",
       "      <th>1</th>\n",
       "      <td>{'text': '\"I don’t want youthful marriages, th...</td>\n",
       "      <td>[{'text': ' should stay in his bedroom with op...</td>\n",
       "    </tr>\n",
       "    <tr>\n",
       "      <th>2</th>\n",
       "      <td>{'text': '\"I've had families come to me over t...</td>\n",
       "      <td>[{'text': ' years for my Jewish dinner,\" he sa...</td>\n",
       "    </tr>\n",
       "  </tbody>\n",
       "</table>\n",
       "</div>"
      ],
      "text/plain": [
       "                                              prompt  \\\n",
       "0  {'text': '\"I don’t want them to leave, but the...   \n",
       "1  {'text': '\"I don’t want youthful marriages, th...   \n",
       "2  {'text': '\"I've had families come to me over t...   \n",
       "\n",
       "                                         generations  \n",
       "0  [{'text': ' stopping me. They have nothing to ...  \n",
       "1  [{'text': ' should stay in his bedroom with op...  \n",
       "2  [{'text': ' years for my Jewish dinner,\" he sa...  "
      ]
     },
     "execution_count": 114,
     "metadata": {},
     "output_type": "execute_result"
    }
   ],
   "source": [
    "orig_data.head(3)"
   ]
  },
  {
   "cell_type": "code",
   "execution_count": 115,
   "id": "76ace589-c3e5-4d95-be21-f79fb9e69820",
   "metadata": {},
   "outputs": [],
   "source": [
    "orig_data.to_json('/home/s3/hyeryung/mucoco/outputs/toxicity/mlm-reranking/roberta-base-jigsaw-toxicity-classifier-with-gpt2-large-embeds-energy-training/mlm-reranking-token-nps4-k3-beam5-allsat_primary-toxic-to-nontoxic-grad_norm-rc2h1xg6/outputs_epsilon0.75_filled_space_added.jsonl',lines=True,orient='records')"
   ]
  },
  {
   "cell_type": "code",
   "execution_count": null,
   "id": "b1c23625-d447-4e8e-82e2-cfa77b66ed26",
   "metadata": {},
   "outputs": [],
   "source": []
  }
 ],
 "metadata": {
  "kernelspec": {
   "display_name": "Python 3 (ipykernel)",
   "language": "python",
   "name": "python3"
  },
  "language_info": {
   "codemirror_mode": {
    "name": "ipython",
    "version": 3
   },
   "file_extension": ".py",
   "mimetype": "text/x-python",
   "name": "python",
   "nbconvert_exporter": "python",
   "pygments_lexer": "ipython3",
   "version": "3.11.7"
  }
 },
 "nbformat": 4,
 "nbformat_minor": 5
}
