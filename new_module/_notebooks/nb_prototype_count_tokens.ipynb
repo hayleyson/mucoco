{
 "cells": [
  {
   "cell_type": "code",
   "execution_count": 10,
   "id": "32d481e1-2cf2-4350-9198-1dc9ec895920",
   "metadata": {},
   "outputs": [],
   "source": [
    "import pandas as pd\n",
    "import os\n",
    "from transformers import AutoTokenizer\n",
    "os.chdir('/home/s3/hyeryung/mucoco')"
   ]
  },
  {
   "cell_type": "markdown",
   "id": "7e1f9cfe-3377-4262-9153-82d2202b59c5",
   "metadata": {},
   "source": [
    "## toxicity"
   ]
  },
  {
   "cell_type": "code",
   "execution_count": 4,
   "id": "1ef9f75b-c867-4350-bcfe-62b5d18dc416",
   "metadata": {},
   "outputs": [],
   "source": [
    "origin=pd.read_json('new_module/data/toxicity-avoidance/testset_gpt2_2500.jsonl', lines=True)\n",
    "\n",
    "## unravel\n",
    "origin=origin.explode('generations')\n",
    "\n",
    "origin.shape\n",
    "\n",
    "origin['prompt']=origin['prompt'].apply(lambda x: x['text'])\n",
    "\n",
    "origin['text']=origin['generations'].apply(lambda x: x['text'])\n",
    "\n",
    "gen_dict=origin['generations'].values[0]\n",
    "\n",
    "for col in gen_dict.keys():\n",
    "    origin[col] = origin['generations'].apply(lambda x: x[col])\n",
    "\n",
    "origin=origin.reset_index(drop=True)\n",
    "\n",
    "origin=origin.rename(columns={'text':'origin_text', 'tokens':'origin_tokens'})"
   ]
  },
  {
   "cell_type": "code",
   "execution_count": 6,
   "id": "043f33a1-0070-45df-8a3e-d5689516d9b2",
   "metadata": {},
   "outputs": [],
   "source": [
    "origin['origin_tokens_len']=origin['origin_tokens'].apply(len)"
   ]
  },
  {
   "cell_type": "code",
   "execution_count": 8,
   "id": "f66d3cb9-c31e-4fba-8d4e-89cc6531cde9",
   "metadata": {},
   "outputs": [
    {
     "data": {
      "text/plain": [
       "55218"
      ]
     },
     "execution_count": 8,
     "metadata": {},
     "output_type": "execute_result"
    }
   ],
   "source": [
    "origin['origin_tokens_len'].sum()"
   ]
  },
  {
   "cell_type": "markdown",
   "id": "69b1a29a-abc0-453f-83b4-5c144ee1125c",
   "metadata": {},
   "source": [
    "## formality"
   ]
  },
  {
   "cell_type": "code",
   "execution_count": 11,
   "id": "e3458be8-2195-4994-82fe-1ba9fc97df52",
   "metadata": {},
   "outputs": [],
   "source": [
    "with open('data/formality/GYAFC_Corpus/Entertainment_Music/test/informal', 'r') as f:\n",
    "    origin = [line.rstrip('\\n') for line in f.readlines()]\n",
    "origin=pd.DataFrame({'origin_text':origin})\n",
    "tokenizer=AutoTokenizer.from_pretrained('/shared/s3/lab07/hyeryung/loc_edit/roberta-base-pt16-formality-classifier-with-gpt2-large-embeds/step_1116_best_checkpoint/')\n",
    "origin['origin_tokens']=origin['origin_text'].apply(lambda x: tokenizer.encode(x, add_special_tokens=False))"
   ]
  },
  {
   "cell_type": "code",
   "execution_count": 12,
   "id": "eb146967-548f-413a-a75a-f853f4389cfd",
   "metadata": {},
   "outputs": [],
   "source": [
    "origin['origin_tokens_len']=origin['origin_tokens'].apply(len)"
   ]
  },
  {
   "cell_type": "code",
   "execution_count": 13,
   "id": "7048be65-d402-49d8-8174-c351266e03b7",
   "metadata": {},
   "outputs": [
    {
     "data": {
      "text/plain": [
       "18970"
      ]
     },
     "execution_count": 13,
     "metadata": {},
     "output_type": "execute_result"
    }
   ],
   "source": [
    "origin['origin_tokens_len'].sum()"
   ]
  },
  {
   "cell_type": "markdown",
   "id": "b51f3177-dbe0-44ea-ae85-c09110de26d2",
   "metadata": {},
   "source": [
    "## sentiment"
   ]
  },
  {
   "cell_type": "code",
   "execution_count": 14,
   "id": "cf0870cf-4ac3-468c-b737-83e17692a878",
   "metadata": {},
   "outputs": [],
   "source": [
    "origin=pd.read_json('new_module/data/sentiment/outputs.txt.init.jsonl', lines=True)\n",
    "origin=origin.explode('generations')\n",
    "origin['text']=origin['generations'].apply(lambda x: x['text'])\n",
    "gen_dict=origin['generations'].values[0]\n",
    "for col in gen_dict.keys():\n",
    "    origin[col] = origin['generations'].apply(lambda x: x.get(col, None))\n",
    "origin=origin.reset_index(drop=True)\n",
    "origin=origin.rename(columns={'text':'origin_text', 'tokens':'origin_tokens'})"
   ]
  },
  {
   "cell_type": "code",
   "execution_count": 15,
   "id": "ae9c3b38-8b26-403f-bbd9-193072cba35b",
   "metadata": {},
   "outputs": [],
   "source": [
    "origin['origin_tokens_len']=origin['origin_tokens'].apply(len)"
   ]
  },
  {
   "cell_type": "code",
   "execution_count": 16,
   "id": "184ce806-93bd-4102-8dba-6443bf29bb01",
   "metadata": {},
   "outputs": [
    {
     "data": {
      "text/plain": [
       "7168"
      ]
     },
     "execution_count": 16,
     "metadata": {},
     "output_type": "execute_result"
    }
   ],
   "source": [
    "origin['origin_tokens_len'].sum()"
   ]
  },
  {
   "cell_type": "code",
   "execution_count": null,
   "id": "ee784181-5b7c-4fd3-ab94-cd9f4771af97",
   "metadata": {},
   "outputs": [],
   "source": []
  }
 ],
 "metadata": {
  "kernelspec": {
   "display_name": "Python 3 (ipykernel)",
   "language": "python",
   "name": "python3"
  },
  "language_info": {
   "codemirror_mode": {
    "name": "ipython",
    "version": 3
   },
   "file_extension": ".py",
   "mimetype": "text/x-python",
   "name": "python",
   "nbconvert_exporter": "python",
   "pygments_lexer": "ipython3",
   "version": "3.11.7"
  }
 },
 "nbformat": 4,
 "nbformat_minor": 5
}
