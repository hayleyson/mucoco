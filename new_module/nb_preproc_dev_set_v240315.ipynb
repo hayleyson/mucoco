{
 "cells": [
  {
   "cell_type": "code",
   "execution_count": 25,
   "metadata": {},
   "outputs": [],
   "source": [
    "import numpy as np\n",
    "import pandas as pd\n",
    "import torch\n",
    "\n",
    "import new_module.losses as lossbuilder\n",
    "from new_module.utils.robertacustom import RobertaCustomForSequenceClassification\n",
    "from transformers import AutoModelForSequenceClassification, AutoTokenizer"
   ]
  },
  {
   "cell_type": "code",
   "execution_count": 35,
   "metadata": {},
   "outputs": [],
   "source": [
    "tokenizer = AutoTokenizer.from_pretrained('/shared/s3/lab07/hyeryung/loc_edit/roberta-base-jigsaw-toxicity-classifier-with-gpt2-large-embeds-2/step_2600_best_checkpoint/')"
   ]
  },
  {
   "cell_type": "code",
   "execution_count": 3,
   "metadata": {},
   "outputs": [],
   "source": [
    "## read original data\n",
    "gpt2_outputs=pd.read_json('new_module/data/toxicity-avoidance/testset_gpt2_2500.jsonl', lines=True)"
   ]
  },
  {
   "cell_type": "code",
   "execution_count": 19,
   "metadata": {},
   "outputs": [],
   "source": [
    "config={'build_loss_dict': {\"coeff_steps\": 200, \"coeff_pattern\": \"constant\", \"loss_type\": \"xentropy\", \"length_normalize\": False, \"AR_temperature\": 1.0, \"AR_top_k\": 0, \"AR_top_p\": 0.96, \"max_output_length\": 20},\n",
    "       }\n",
    "class dummyArgs:\n",
    "    def __init__(self, **kwargs):\n",
    "        for k, v in kwargs.items():\n",
    "            setattr(self, k, v)\n",
    "\n",
    "build_loss_args = dummyArgs(**config[\"build_loss_dict\"])"
   ]
  },
  {
   "cell_type": "code",
   "execution_count": 21,
   "metadata": {},
   "outputs": [],
   "source": [
    "ckpts = [### clsf-embed-share\n",
    "'/shared/s3/lab07/hyeryung/loc_edit/roberta-base-jigsaw-toxicity-classifier-with-gpt2-large-embeds-2/step_2600_best_checkpoint/',\n",
    "### em-embed-share\n",
    "'/shared/s3/lab07/hyeryung/loc_edit/roberta-base-jigsaw-toxicity-classifier-with-gpt2-large-embeds-energy-training/step_2800_best_checkpoint/',\n",
    "### clsf\n",
    "'/shared/s3/lab07/hyeryung/loc_edit/models_re/roberta-base-jigsaw-toxicity-classifier/step_500_best_checkpoint/',\n",
    "### em\n",
    "'/shared/s3/lab07/hyeryung/loc_edit/models_re/roberta-base-jigsaw-toxicity-classifier-energy-training/step_1000_best_checkpoint/'\n",
    "]"
   ]
  },
  {
   "cell_type": "code",
   "execution_count": 23,
   "metadata": {},
   "outputs": [
    {
     "name": "stdout",
     "output_type": "stream",
     "text": [
      "50265\n",
      "50265\n"
     ]
    }
   ],
   "source": [
    "lossfns=[]\n",
    "for ckpt in ckpts:\n",
    "    if 'with-gpt2-large-embeds' in ckpt:\n",
    "        model=RobertaCustomForSequenceClassification.from_pretrained(ckpt)\n",
    "    else:\n",
    "        model=AutoModelForSequenceClassification.from_pretrained(ckpt)\n",
    "    model.eval()\n",
    "    tokenizer=AutoTokenizer.from_pretrained(ckpt)\n",
    "    \n",
    "    lossfn = \\\n",
    "        lossbuilder.build_loss(\n",
    "            \"classification_no_prefix_logprobloss\",\n",
    "            model,\n",
    "            tokenizer,\n",
    "            build_loss_args,\n",
    "        )\n",
    "    lossfns.append(lossfn)"
   ]
  },
  {
   "cell_type": "code",
   "execution_count": 39,
   "metadata": {},
   "outputs": [],
   "source": [
    "source_texts = []\n",
    "AR_predictions = []\n",
    "\n",
    "for i, row in gpt2_outputs.iterrows():\n",
    "    \n",
    "    source_tokens = row.prompt['tokens']\n",
    "    source_text = tokenizer.decode(source_tokens)\n",
    "    \n",
    "    curr_predictions = []\n",
    "    for j in range(10):\n",
    "        predicted_tokens = row.generations[j]['tokens']\n",
    "        AR_prediction = tokenizer.decode(predicted_tokens)\n",
    "        lossvals = np.array([])\n",
    "        with torch.no_grad():\n",
    "            for lossfn in lossfns:\n",
    "                lossvalue = lossfn.compute_gold_loss(\n",
    "                    source_text, AR_prediction,\n",
    "                    label_id=0,\n",
    "                )\n",
    "                lossvals = np.append(lossvals, lossvalue.squeeze().item())\n",
    "        if (lossvals > -np.log(0.75)).sum() >= 1:\n",
    "            curr_predictions.append({'text':AR_prediction})\n",
    "    source_texts.append({'text':source_text})\n",
    "    AR_predictions.append(curr_predictions)\n",
    "        "
   ]
  },
  {
   "cell_type": "code",
   "execution_count": 41,
   "metadata": {},
   "outputs": [],
   "source": [
    "## select examples that are problematic\n",
    "toxic_gens=pd.DataFrame({'prompt': source_texts, 'generations': AR_predictions})\n"
   ]
  },
  {
   "cell_type": "code",
   "execution_count": 43,
   "metadata": {},
   "outputs": [],
   "source": [
    "toxic_gens['count']=toxic_gens['generations'].apply(lambda x: len(x))"
   ]
  },
  {
   "cell_type": "code",
   "execution_count": 46,
   "metadata": {},
   "outputs": [
    {
     "data": {
      "text/plain": [
       "604"
      ]
     },
     "execution_count": 46,
     "metadata": {},
     "output_type": "execute_result"
    }
   ],
   "source": [
    "toxic_gens['count'].sum()"
   ]
  },
  {
   "cell_type": "code",
   "execution_count": 47,
   "metadata": {},
   "outputs": [],
   "source": [
    "del toxic_gens['count']"
   ]
  },
  {
   "cell_type": "code",
   "execution_count": 49,
   "metadata": {},
   "outputs": [],
   "source": [
    "toxic_gens.to_json('new_module/data/toxicity-avoidance/dev_set.jsonl', orient='records', lines=True)"
   ]
  },
  {
   "cell_type": "code",
   "execution_count": null,
   "metadata": {},
   "outputs": [],
   "source": []
  }
 ],
 "metadata": {
  "kernelspec": {
   "display_name": "Python 3 (ipykernel)",
   "language": "python",
   "name": "python3"
  },
  "language_info": {
   "codemirror_mode": {
    "name": "ipython",
    "version": 3
   },
   "file_extension": ".py",
   "mimetype": "text/x-python",
   "name": "python",
   "nbconvert_exporter": "python",
   "pygments_lexer": "ipython3",
   "version": "3.11.7"
  }
 },
 "nbformat": 4,
 "nbformat_minor": 2
}
