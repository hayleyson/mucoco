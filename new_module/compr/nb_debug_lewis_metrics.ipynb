{
 "cells": [
  {
   "cell_type": "code",
   "execution_count": 1,
   "id": "4e18b726-3ce4-4792-bd2c-97cd3f8ebf01",
   "metadata": {},
   "outputs": [],
   "source": [
    "import os\n",
    "os.chdir('/home/s3/hyeryung/mucoco')\n",
    "\n",
    "import pandas as pd"
   ]
  },
  {
   "cell_type": "markdown",
   "id": "2b2d199d-0a48-4935-9663-4fcc7c934ec2",
   "metadata": {},
   "source": [
    "# Debug Issue 1. Low Bertscore (negative) for CLSF_BV0 & EM_BV0\n",
    "## Merge all results into one file."
   ]
  },
  {
   "cell_type": "code",
   "execution_count": 17,
   "id": "ba2e31cd-99df-439b-9fb9-40aec70acc69",
   "metadata": {},
   "outputs": [],
   "source": [
    "# with open('data/Sentiment-and-Style-Transfer/data/yelp/sentiment.test.0') as f:\n",
    "#     source_0 = [line.rstrip('\\n') for line in f.readlines()]"
   ]
  },
  {
   "cell_type": "code",
   "execution_count": 78,
   "id": "3e9a90fb-c16d-448e-b3d2-163120db5fd1",
   "metadata": {},
   "outputs": [],
   "source": [
    "ref_0 = pd.read_csv('data/Sentiment-and-Style-Transfer/data/yelp/reference.0',sep='\\t',header=None,names=['text','ref'])"
   ]
  },
  {
   "cell_type": "code",
   "execution_count": 80,
   "id": "d9aa29a5-59e1-47bb-a967-d4be10cb5b83",
   "metadata": {},
   "outputs": [],
   "source": [
    "with open('lewis/model_outputs/yelp/pos.out', 'r') as f:\n",
    "    lewis_0 = [line.rstrip('\\n') for line in f.readlines()]\n",
    "ref_0['lewis']=lewis_0"
   ]
  },
  {
   "cell_type": "code",
   "execution_count": 81,
   "id": "79491667-53fe-4fc8-9a61-d66e5b209bec",
   "metadata": {},
   "outputs": [],
   "source": [
    "clsf_bv0 = pd.read_json('outputs/sentiment/mlm-reranking/roberta-base-yelp-lewis-sentiment-classifier-with-gpt2-large-embeds-binary/lewis-compr/mlm-beamsearch-v0-word-nps5-k10-beam5-allsat_primary-vtwtoeyi-negative-to-positive/outputs_epsilon0.75.txt',\n",
    "                        lines=True)\n",
    "\n",
    "## unravel data\n",
    "clsf_bv0=clsf_bv0.explode('generations')\n",
    "clsf_bv0['text']=clsf_bv0['generations'].apply(lambda x: x['text'])\n",
    "\n",
    "ref_0['clsf_bv0']=clsf_bv0['text']"
   ]
  },
  {
   "cell_type": "code",
   "execution_count": 82,
   "id": "9e0b85f4-fe18-4af7-b7a7-af748af873f1",
   "metadata": {},
   "outputs": [],
   "source": [
    "em_bv0 = pd.read_json('outputs/sentiment/mlm-reranking/roberta-base-yelp-sentiment-classifier-with-gpt2-large-embeds-energy-training/lewis-compr/mlm-beamsearch-v0-word-nps5-k10-beam5-allsat_primary-dppnf7pu-negative-to-positive/outputs_epsilon0.75.txt', \n",
    "                      lines=True)\n",
    "\n",
    "## unravel data\n",
    "em_bv0=em_bv0.explode('generations')\n",
    "em_bv0['text']=em_bv0['generations'].apply(lambda x: x['text'])\n",
    "\n",
    "ref_0['em_bv0']=em_bv0['text']"
   ]
  },
  {
   "cell_type": "code",
   "execution_count": 83,
   "id": "8e5af80a-8f62-420f-b4ef-a0b19303a638",
   "metadata": {},
   "outputs": [],
   "source": [
    "lewis_bert = pd.read_csv('lewis/model_outputs/yelp/results-negative-to-positive.txt.bertscore')\n",
    "ref_0['bert_lewis']=lewis_bert['bert_score']\n",
    "ref_0['sbert_lewis']=lewis_bert['sbert_score']"
   ]
  },
  {
   "cell_type": "code",
   "execution_count": 84,
   "id": "42f8ec6f-505f-4774-bbe0-9323c91f3d8b",
   "metadata": {},
   "outputs": [],
   "source": [
    "lewis_cls = pd.read_csv('lewis/model_outputs/yelp/results-negative-to-positive.txt.cls')\n",
    "ref_0['cls_lewis']=lewis_cls['sentiment_predictions']"
   ]
  },
  {
   "cell_type": "code",
   "execution_count": 85,
   "id": "132a30aa-be95-4fff-b67f-784202bc45ae",
   "metadata": {},
   "outputs": [],
   "source": [
    "clsf_bv0_bert = pd.read_csv('outputs/sentiment/mlm-reranking/roberta-base-yelp-lewis-sentiment-classifier-with-gpt2-large-embeds-binary/lewis-compr/mlm-beamsearch-v0-word-nps5-k10-beam5-allsat_primary-epsilon0.75-results-negative-to-positive.txt.bertscore')\n",
    "ref_0['bert_clsf_bv0']=clsf_bv0_bert['bert_score']\n",
    "ref_0['sbert_clsf_bv0']=clsf_bv0_bert['sbert_score']"
   ]
  },
  {
   "cell_type": "code",
   "execution_count": 86,
   "id": "49813004-53f0-4581-a5ae-c79d40ccf1b7",
   "metadata": {},
   "outputs": [],
   "source": [
    "clsf_bv0_cls = pd.read_csv('outputs/sentiment/mlm-reranking/roberta-base-yelp-lewis-sentiment-classifier-with-gpt2-large-embeds-binary/lewis-compr/mlm-beamsearch-v0-word-nps5-k10-beam5-allsat_primary-epsilon0.75-results-negative-to-positive.txt.cls')\n",
    "ref_0['cls_clsf_bv0']=clsf_bv0_cls['sentiment_predictions']"
   ]
  },
  {
   "cell_type": "code",
   "execution_count": 87,
   "id": "e5856ee3-c491-4663-bfe0-4586cb91e323",
   "metadata": {},
   "outputs": [],
   "source": [
    "em_bv0_bert = pd.read_csv('outputs/sentiment/mlm-reranking/roberta-base-yelp-sentiment-classifier-with-gpt2-large-embeds-energy-training/lewis-compr/mlm-beamsearch-v0-word-nps5-k10-beam5-allsat_primary-epsilon0.75-results-negative-to-positive.txt.bertscore')\n",
    "ref_0['bert_em_bv0']=em_bv0_bert['bert_score']\n",
    "ref_0['sbert_em_bv0']=em_bv0_bert['sbert_score']"
   ]
  },
  {
   "cell_type": "code",
   "execution_count": 88,
   "id": "bb8d29e5-0230-4b41-a88d-65dc370a69a6",
   "metadata": {},
   "outputs": [],
   "source": [
    "em_bv0_cls = pd.read_csv('outputs/sentiment/mlm-reranking/roberta-base-yelp-sentiment-classifier-with-gpt2-large-embeds-energy-training/lewis-compr/mlm-beamsearch-v0-word-nps5-k10-beam5-allsat_primary-epsilon0.75-results-negative-to-positive.txt.cls')\n",
    "ref_0['cls_em_bv0']=em_bv0_cls['sentiment_predictions']"
   ]
  },
  {
   "cell_type": "code",
   "execution_count": 94,
   "id": "13a59a0e-92ca-4e1a-94d5-d8c38047ae6c",
   "metadata": {},
   "outputs": [],
   "source": [
    "ref_0.to_excel('new_module/compr/evaluate_lewis.xlsx')"
   ]
  },
  {
   "cell_type": "markdown",
   "id": "21404a1f-6be4-4d58-b4fa-b07f084d9c94",
   "metadata": {},
   "source": [
    "## Found Issue 1. For EM_BV0, it seems that quite a lot of samples are '' -> which result in -4.925 in bert scores. \n",
    "Solution: rerun decoding so that regardless of initial text's satisfaction of constraint, locate&edit is conducted for all samples.\n",
    "\n",
    "## Found Issue 2. For CLSF_BV0, strangely, the rows with -4.925 BertScore has string. Find out why. -> Found out that I reversed the pred_0 and pred_1 when evaluating clsf_bv0. \n",
    "Solution: rerun decoding with correct files."
   ]
  },
  {
   "cell_type": "code",
   "execution_count": 12,
   "id": "f8d49075-086d-4185-9174-c23314d21c5c",
   "metadata": {},
   "outputs": [],
   "source": [
    "import evaluate"
   ]
  },
  {
   "cell_type": "code",
   "execution_count": 5,
   "id": "5e238959-ecba-4c1c-87e2-bd4dc19922b4",
   "metadata": {},
   "outputs": [],
   "source": [
    "ref_0=pd.read_excel('new_module/compr/evaluate_lewis.xlsx',index_col=0)"
   ]
  },
  {
   "cell_type": "code",
   "execution_count": 7,
   "id": "25c5859d-5197-4569-a87c-b08cebfac28b",
   "metadata": {},
   "outputs": [],
   "source": [
    "debug_ref_0 = ref_0.loc[ref_0['bert_clsf_bv0']<-3,:].copy()"
   ]
  },
  {
   "cell_type": "code",
   "execution_count": 8,
   "id": "d97f9685-ed8c-4774-b5d6-c659bb983728",
   "metadata": {},
   "outputs": [
    {
     "data": {
      "text/html": [
       "<div>\n",
       "<style scoped>\n",
       "    .dataframe tbody tr th:only-of-type {\n",
       "        vertical-align: middle;\n",
       "    }\n",
       "\n",
       "    .dataframe tbody tr th {\n",
       "        vertical-align: top;\n",
       "    }\n",
       "\n",
       "    .dataframe thead th {\n",
       "        text-align: right;\n",
       "    }\n",
       "</style>\n",
       "<table border=\"1\" class=\"dataframe\">\n",
       "  <thead>\n",
       "    <tr style=\"text-align: right;\">\n",
       "      <th></th>\n",
       "      <th>text</th>\n",
       "      <th>ref</th>\n",
       "      <th>lewis</th>\n",
       "      <th>clsf_bv0</th>\n",
       "      <th>em_bv0</th>\n",
       "      <th>bert_lewis</th>\n",
       "      <th>sbert_lewis</th>\n",
       "      <th>cls_lewis</th>\n",
       "      <th>bert_clsf_bv0</th>\n",
       "      <th>sbert_clsf_bv0</th>\n",
       "      <th>cls_clsf_bv0</th>\n",
       "      <th>bert_em_bv0</th>\n",
       "      <th>sbert_em_bv0</th>\n",
       "      <th>cls_em_bv0</th>\n",
       "    </tr>\n",
       "  </thead>\n",
       "  <tbody>\n",
       "    <tr>\n",
       "      <th>13</th>\n",
       "      <td>said we could n't sit at the table if we were ...</td>\n",
       "      <td>they said we could sit at the table with no he...</td>\n",
       "      <td>we were so impressed we could n't sit at the t...</td>\n",
       "      <td>\"We couldn't be at the table if we weren't in ...</td>\n",
       "      <td>I think we have to sit at the table if we want...</td>\n",
       "      <td>0.318293</td>\n",
       "      <td>0.635969</td>\n",
       "      <td>1</td>\n",
       "      <td>-4.925075</td>\n",
       "      <td>-4.925075</td>\n",
       "      <td>1</td>\n",
       "      <td>0.336163</td>\n",
       "      <td>0.319579</td>\n",
       "      <td>0</td>\n",
       "    </tr>\n",
       "    <tr>\n",
       "      <th>18</th>\n",
       "      <td>the burgers were over cooked to the point the ...</td>\n",
       "      <td>the burgers were cooked perfectly and the meat...</td>\n",
       "      <td>the burgers were perfectly cooked to the point...</td>\n",
       "      <td>But they were so close to the point the game w...</td>\n",
       "      <td>the burgers have been cooked to the point the ...</td>\n",
       "      <td>0.748451</td>\n",
       "      <td>0.790539</td>\n",
       "      <td>1</td>\n",
       "      <td>-4.925075</td>\n",
       "      <td>-4.925075</td>\n",
       "      <td>1</td>\n",
       "      <td>0.588865</td>\n",
       "      <td>0.810976</td>\n",
       "      <td>0</td>\n",
       "    </tr>\n",
       "    <tr>\n",
       "      <th>56</th>\n",
       "      <td>lost a long time customer !</td>\n",
       "      <td>gained a long time customer !</td>\n",
       "      <td>i will be a long time customer !</td>\n",
       "      <td>Hi, first time customer!\\n</td>\n",
       "      <td>NaN</td>\n",
       "      <td>0.630864</td>\n",
       "      <td>0.624011</td>\n",
       "      <td>1</td>\n",
       "      <td>-4.925075</td>\n",
       "      <td>-4.925075</td>\n",
       "      <td>1</td>\n",
       "      <td>-4.925075</td>\n",
       "      <td>-4.925075</td>\n",
       "      <td>1</td>\n",
       "    </tr>\n",
       "    <tr>\n",
       "      <th>59</th>\n",
       "      <td>so far i 'm not really impressed .</td>\n",
       "      <td>so far i 'm really impressed .</td>\n",
       "      <td>so far i am impressed .</td>\n",
       "      <td>So far i'm not really sure.\\n</td>\n",
       "      <td>Well, it's really really good.\\n</td>\n",
       "      <td>0.884421</td>\n",
       "      <td>0.759502</td>\n",
       "      <td>1</td>\n",
       "      <td>-4.925075</td>\n",
       "      <td>-4.925075</td>\n",
       "      <td>1</td>\n",
       "      <td>0.392473</td>\n",
       "      <td>0.331879</td>\n",
       "      <td>1</td>\n",
       "    </tr>\n",
       "    <tr>\n",
       "      <th>83</th>\n",
       "      <td>the salads are ok , nothing special .</td>\n",
       "      <td>the salads are great, really something special.</td>\n",
       "      <td>the salads are always special .</td>\n",
       "      <td>If you are ok, nothing special.\\n</td>\n",
       "      <td>the kids are good, I think.\\n</td>\n",
       "      <td>0.618087</td>\n",
       "      <td>0.566846</td>\n",
       "      <td>1</td>\n",
       "      <td>-4.925075</td>\n",
       "      <td>-4.925075</td>\n",
       "      <td>1</td>\n",
       "      <td>0.416270</td>\n",
       "      <td>0.386847</td>\n",
       "      <td>1</td>\n",
       "    </tr>\n",
       "    <tr>\n",
       "      <th>88</th>\n",
       "      <td>the garlic bread was bland and cold .</td>\n",
       "      <td>it was sitting out for a while on the counter ...</td>\n",
       "      <td>the garlic bread was fresh and delicious .</td>\n",
       "      <td>My garlic bread was bland and cold.\\n</td>\n",
       "      <td>For the bread, take the bread.\\n</td>\n",
       "      <td>0.070940</td>\n",
       "      <td>0.752917</td>\n",
       "      <td>1</td>\n",
       "      <td>-4.925075</td>\n",
       "      <td>-4.925075</td>\n",
       "      <td>1</td>\n",
       "      <td>-0.037768</td>\n",
       "      <td>0.141551</td>\n",
       "      <td>1</td>\n",
       "    </tr>\n",
       "    <tr>\n",
       "      <th>92</th>\n",
       "      <td>i love the food ... however service here is ho...</td>\n",
       "      <td>i love the food ... and service here is aweso...</td>\n",
       "      <td>i love the food and the service here is great .</td>\n",
       "      <td>I love the food... however service here is hor...</td>\n",
       "      <td>i love the place... however service here is ho...</td>\n",
       "      <td>0.851289</td>\n",
       "      <td>0.690451</td>\n",
       "      <td>1</td>\n",
       "      <td>-4.925075</td>\n",
       "      <td>-4.925075</td>\n",
       "      <td>1</td>\n",
       "      <td>0.644619</td>\n",
       "      <td>0.889690</td>\n",
       "      <td>0</td>\n",
       "    </tr>\n",
       "    <tr>\n",
       "      <th>97</th>\n",
       "      <td>she did not apologize or anything .</td>\n",
       "      <td>she apologized immensily</td>\n",
       "      <td>she did a great job or anything .</td>\n",
       "      <td>He did not die or anything.\\n</td>\n",
       "      <td>she did not apologize or resign.\\n</td>\n",
       "      <td>0.085278</td>\n",
       "      <td>0.432117</td>\n",
       "      <td>1</td>\n",
       "      <td>-4.925075</td>\n",
       "      <td>-4.925075</td>\n",
       "      <td>1</td>\n",
       "      <td>0.332343</td>\n",
       "      <td>0.649234</td>\n",
       "      <td>1</td>\n",
       "    </tr>\n",
       "    <tr>\n",
       "      <th>104</th>\n",
       "      <td>we 've tried the cream pancakes as well .</td>\n",
       "      <td>We loved the cream pancakes too.</td>\n",
       "      <td>we loved the cream pancakes as well .</td>\n",
       "      <td>I've tried the cream pancakes as well.\\n</td>\n",
       "      <td>NaN</td>\n",
       "      <td>0.959326</td>\n",
       "      <td>0.777983</td>\n",
       "      <td>1</td>\n",
       "      <td>-4.925075</td>\n",
       "      <td>-4.925075</td>\n",
       "      <td>1</td>\n",
       "      <td>-4.925075</td>\n",
       "      <td>-4.925075</td>\n",
       "      <td>1</td>\n",
       "    </tr>\n",
       "    <tr>\n",
       "      <th>129</th>\n",
       "      <td>just went back to get the rear tire sealed and...</td>\n",
       "      <td>went back and they helped me quickly on the fi...</td>\n",
       "      <td>just came back to get the rear tire sealed and...</td>\n",
       "      <td>I went back to check the rear view mirror and ...</td>\n",
       "      <td>NaN</td>\n",
       "      <td>0.242730</td>\n",
       "      <td>0.847873</td>\n",
       "      <td>0</td>\n",
       "      <td>-4.925075</td>\n",
       "      <td>-4.925075</td>\n",
       "      <td>1</td>\n",
       "      <td>-4.925075</td>\n",
       "      <td>-4.925075</td>\n",
       "      <td>1</td>\n",
       "    </tr>\n",
       "    <tr>\n",
       "      <th>181</th>\n",
       "      <td>this was by far the rudest person i spoke with .</td>\n",
       "      <td>they are usually very warm</td>\n",
       "      <td>this was by far the nicest person i spoke with !</td>\n",
       "      <td>This was the far the most interesting person I...</td>\n",
       "      <td>This was by far the most interesting person I ...</td>\n",
       "      <td>0.095201</td>\n",
       "      <td>0.813225</td>\n",
       "      <td>1</td>\n",
       "      <td>-4.925075</td>\n",
       "      <td>-4.925075</td>\n",
       "      <td>1</td>\n",
       "      <td>0.117680</td>\n",
       "      <td>0.798824</td>\n",
       "      <td>1</td>\n",
       "    </tr>\n",
       "    <tr>\n",
       "      <th>221</th>\n",
       "      <td>but let this story begin at noon today .</td>\n",
       "      <td>story began at noon today, right on time</td>\n",
       "      <td>well let this story begin at noon today .</td>\n",
       "      <td>Details of this event begin at 6pm.\\n</td>\n",
       "      <td>NaN</td>\n",
       "      <td>0.454259</td>\n",
       "      <td>0.996937</td>\n",
       "      <td>0</td>\n",
       "      <td>-4.925075</td>\n",
       "      <td>-4.925075</td>\n",
       "      <td>1</td>\n",
       "      <td>-4.925075</td>\n",
       "      <td>-4.925075</td>\n",
       "      <td>1</td>\n",
       "    </tr>\n",
       "    <tr>\n",
       "      <th>252</th>\n",
       "      <td>french toast plate was good , mom said , but e...</td>\n",
       "      <td>french toast plate was good , mom said , eggs ...</td>\n",
       "      <td>french toast plate was good , mom said , but e...</td>\n",
       "      <td>I think the plate was good, mom said, but it w...</td>\n",
       "      <td>french toast plate. and, mom said, the eggs we...</td>\n",
       "      <td>0.787495</td>\n",
       "      <td>0.846247</td>\n",
       "      <td>1</td>\n",
       "      <td>-4.925075</td>\n",
       "      <td>-4.925075</td>\n",
       "      <td>1</td>\n",
       "      <td>0.735323</td>\n",
       "      <td>0.713262</td>\n",
       "      <td>1</td>\n",
       "    </tr>\n",
       "    <tr>\n",
       "      <th>264</th>\n",
       "      <td>management no longer cares about the golf expe...</td>\n",
       "      <td>The management cares so much for the golf expe...</td>\n",
       "      <td>management is very friendly and cares about th...</td>\n",
       "      <td>He never longer cares about the human experien...</td>\n",
       "      <td>management, and much about the human experienc...</td>\n",
       "      <td>0.622304</td>\n",
       "      <td>0.592575</td>\n",
       "      <td>1</td>\n",
       "      <td>-4.925075</td>\n",
       "      <td>-4.925075</td>\n",
       "      <td>1</td>\n",
       "      <td>0.194031</td>\n",
       "      <td>0.227180</td>\n",
       "      <td>1</td>\n",
       "    </tr>\n",
       "    <tr>\n",
       "      <th>288</th>\n",
       "      <td>the mechanics are very amateur as usual .</td>\n",
       "      <td>the mechanics are very professional as usual.</td>\n",
       "      <td>the mechanics are very friendly as usual .</td>\n",
       "      <td>The mechanics are very simple as well.\\n</td>\n",
       "      <td>the results are very good as usual.\\n</td>\n",
       "      <td>0.865451</td>\n",
       "      <td>0.805505</td>\n",
       "      <td>1</td>\n",
       "      <td>-4.925075</td>\n",
       "      <td>-4.925075</td>\n",
       "      <td>1</td>\n",
       "      <td>0.720624</td>\n",
       "      <td>0.654783</td>\n",
       "      <td>1</td>\n",
       "    </tr>\n",
       "    <tr>\n",
       "      <th>294</th>\n",
       "      <td>i do not recommend anyone to this starbucks .</td>\n",
       "      <td>I would recommend everyone to try this starbucks</td>\n",
       "      <td>i would highly recommend anyone to this starbu...</td>\n",
       "      <td>We do not have anyone at this time yet.\\n</td>\n",
       "      <td>i do not recommend to use this starbucks.\\n</td>\n",
       "      <td>0.679112</td>\n",
       "      <td>0.761019</td>\n",
       "      <td>1</td>\n",
       "      <td>-4.925075</td>\n",
       "      <td>-4.925075</td>\n",
       "      <td>1</td>\n",
       "      <td>0.539928</td>\n",
       "      <td>0.685642</td>\n",
       "      <td>0</td>\n",
       "    </tr>\n",
       "    <tr>\n",
       "      <th>296</th>\n",
       "      <td>management does not seem to care .</td>\n",
       "      <td>management really seem to care .</td>\n",
       "      <td>management does always seem to care .</td>\n",
       "      <td>He does not seem to care.\\n</td>\n",
       "      <td>management does not seem to care.\\n</td>\n",
       "      <td>0.661794</td>\n",
       "      <td>0.630451</td>\n",
       "      <td>1</td>\n",
       "      <td>-4.925075</td>\n",
       "      <td>-4.925075</td>\n",
       "      <td>1</td>\n",
       "      <td>0.653313</td>\n",
       "      <td>1.000001</td>\n",
       "      <td>0</td>\n",
       "    </tr>\n",
       "    <tr>\n",
       "      <th>321</th>\n",
       "      <td>we 'll see if that happens , but i 'm not hold...</td>\n",
       "      <td>we 'll see if that doesn't happen , but i 'm n...</td>\n",
       "      <td>we 'll see if that happens , but i 'll keep my...</td>\n",
       "      <td>We 'll see if that happens, but i'm not holdin...</td>\n",
       "      <td>I 'll see if that works, but i'm still on my p...</td>\n",
       "      <td>0.611148</td>\n",
       "      <td>0.743461</td>\n",
       "      <td>1</td>\n",
       "      <td>-4.925075</td>\n",
       "      <td>-4.925075</td>\n",
       "      <td>1</td>\n",
       "      <td>0.501767</td>\n",
       "      <td>0.644756</td>\n",
       "      <td>0</td>\n",
       "    </tr>\n",
       "    <tr>\n",
       "      <th>348</th>\n",
       "      <td>geez i need to find a source for those uni blo...</td>\n",
       "      <td>I don't think I need a new source for those un...</td>\n",
       "      <td>geez i am happy to find a source for those uni...</td>\n",
       "      <td>I think I need to get a source for those uni b...</td>\n",
       "      <td>So, i had to find a place for my uni course....\\n</td>\n",
       "      <td>0.394636</td>\n",
       "      <td>0.697734</td>\n",
       "      <td>1</td>\n",
       "      <td>-4.925075</td>\n",
       "      <td>-4.925075</td>\n",
       "      <td>1</td>\n",
       "      <td>0.163247</td>\n",
       "      <td>0.290827</td>\n",
       "      <td>0</td>\n",
       "    </tr>\n",
       "    <tr>\n",
       "      <th>357</th>\n",
       "      <td>one was for my dog , and one was for my wife '...</td>\n",
       "      <td>Two for my dogs equally.</td>\n",
       "      <td>one was for my birthday , and one was for my w...</td>\n",
       "      <td>This was for my son, and it is for my son's so...</td>\n",
       "      <td>NaN</td>\n",
       "      <td>0.192281</td>\n",
       "      <td>0.757945</td>\n",
       "      <td>1</td>\n",
       "      <td>-4.925075</td>\n",
       "      <td>-4.925075</td>\n",
       "      <td>1</td>\n",
       "      <td>-4.925075</td>\n",
       "      <td>-4.925075</td>\n",
       "      <td>1</td>\n",
       "    </tr>\n",
       "    <tr>\n",
       "      <th>359</th>\n",
       "      <td>the server was n't buying .</td>\n",
       "      <td>The server was totally buying.</td>\n",
       "      <td>the server was great buying drinks .</td>\n",
       "      <td>But I wasn't buying.\\n</td>\n",
       "      <td>the server is on the server.\\n</td>\n",
       "      <td>0.437536</td>\n",
       "      <td>0.430560</td>\n",
       "      <td>1</td>\n",
       "      <td>-4.925075</td>\n",
       "      <td>-4.925075</td>\n",
       "      <td>1</td>\n",
       "      <td>0.355227</td>\n",
       "      <td>0.391766</td>\n",
       "      <td>0</td>\n",
       "    </tr>\n",
       "    <tr>\n",
       "      <th>393</th>\n",
       "      <td>the rice was cold and hard and the taste was v...</td>\n",
       "      <td>The rice was warm and the taste was great.</td>\n",
       "      <td>the rice was cooked perfectly and hard and the...</td>\n",
       "      <td>The water was cold and hard and the air was ve...</td>\n",
       "      <td>the sky was clear and hard and the wind was ve...</td>\n",
       "      <td>0.708829</td>\n",
       "      <td>0.685230</td>\n",
       "      <td>1</td>\n",
       "      <td>-4.925075</td>\n",
       "      <td>-4.925075</td>\n",
       "      <td>1</td>\n",
       "      <td>0.311170</td>\n",
       "      <td>0.453870</td>\n",
       "      <td>1</td>\n",
       "    </tr>\n",
       "    <tr>\n",
       "      <th>421</th>\n",
       "      <td>the door would n't open at all .</td>\n",
       "      <td>the door was jammed</td>\n",
       "      <td>the door would n't open at all !</td>\n",
       "      <td>And it wouldn't open at all.\\n</td>\n",
       "      <td>the bar of the the bar at night.\\n</td>\n",
       "      <td>0.432274</td>\n",
       "      <td>0.890240</td>\n",
       "      <td>0</td>\n",
       "      <td>-4.925075</td>\n",
       "      <td>-4.925075</td>\n",
       "      <td>1</td>\n",
       "      <td>0.052035</td>\n",
       "      <td>0.035210</td>\n",
       "      <td>1</td>\n",
       "    </tr>\n",
       "    <tr>\n",
       "      <th>464</th>\n",
       "      <td>the problem is nothing was good .</td>\n",
       "      <td>i wasn't as satisfied as I wold have hoped.</td>\n",
       "      <td>the food is amazing was good .</td>\n",
       "      <td>The problem is nothing but good.\\n</td>\n",
       "      <td>the problem is it was done.\\n</td>\n",
       "      <td>0.056632</td>\n",
       "      <td>0.312230</td>\n",
       "      <td>1</td>\n",
       "      <td>-4.925075</td>\n",
       "      <td>-4.925075</td>\n",
       "      <td>1</td>\n",
       "      <td>0.115966</td>\n",
       "      <td>0.674102</td>\n",
       "      <td>0</td>\n",
       "    </tr>\n",
       "    <tr>\n",
       "      <th>471</th>\n",
       "      <td>took my suite to get fitted and a new button p...</td>\n",
       "      <td>Took my suit to get fitted and they put a new ...</td>\n",
       "      <td>took my suite to get fitted and a very nice bu...</td>\n",
       "      <td>I want my suite to get fitted and a new button...</td>\n",
       "      <td>This is my way to get a little of the button p...</td>\n",
       "      <td>0.483474</td>\n",
       "      <td>0.859682</td>\n",
       "      <td>1</td>\n",
       "      <td>-4.925075</td>\n",
       "      <td>-4.925075</td>\n",
       "      <td>1</td>\n",
       "      <td>0.317583</td>\n",
       "      <td>0.394436</td>\n",
       "      <td>0</td>\n",
       "    </tr>\n",
       "    <tr>\n",
       "      <th>492</th>\n",
       "      <td>three women met for lunch last friday at eleme...</td>\n",
       "      <td>three woman met for a nice lunch last friday a...</td>\n",
       "      <td>my husband and women met for lunch last friday...</td>\n",
       "      <td>The two met for lunch on friday at elements at...</td>\n",
       "      <td>NaN</td>\n",
       "      <td>0.651205</td>\n",
       "      <td>0.626357</td>\n",
       "      <td>1</td>\n",
       "      <td>-4.925075</td>\n",
       "      <td>-4.925075</td>\n",
       "      <td>1</td>\n",
       "      <td>-4.925075</td>\n",
       "      <td>-4.925075</td>\n",
       "      <td>1</td>\n",
       "    </tr>\n",
       "  </tbody>\n",
       "</table>\n",
       "</div>"
      ],
      "text/plain": [
       "                                                  text  \\\n",
       "13   said we could n't sit at the table if we were ...   \n",
       "18   the burgers were over cooked to the point the ...   \n",
       "56                         lost a long time customer !   \n",
       "59                  so far i 'm not really impressed .   \n",
       "83               the salads are ok , nothing special .   \n",
       "88               the garlic bread was bland and cold .   \n",
       "92   i love the food ... however service here is ho...   \n",
       "97                 she did not apologize or anything .   \n",
       "104          we 've tried the cream pancakes as well .   \n",
       "129  just went back to get the rear tire sealed and...   \n",
       "181   this was by far the rudest person i spoke with .   \n",
       "221           but let this story begin at noon today .   \n",
       "252  french toast plate was good , mom said , but e...   \n",
       "264  management no longer cares about the golf expe...   \n",
       "288          the mechanics are very amateur as usual .   \n",
       "294      i do not recommend anyone to this starbucks .   \n",
       "296                 management does not seem to care .   \n",
       "321  we 'll see if that happens , but i 'm not hold...   \n",
       "348  geez i need to find a source for those uni blo...   \n",
       "357  one was for my dog , and one was for my wife '...   \n",
       "359                        the server was n't buying .   \n",
       "393  the rice was cold and hard and the taste was v...   \n",
       "421                   the door would n't open at all .   \n",
       "464                  the problem is nothing was good .   \n",
       "471  took my suite to get fitted and a new button p...   \n",
       "492  three women met for lunch last friday at eleme...   \n",
       "\n",
       "                                                   ref  \\\n",
       "13   they said we could sit at the table with no he...   \n",
       "18   the burgers were cooked perfectly and the meat...   \n",
       "56                       gained a long time customer !   \n",
       "59                      so far i 'm really impressed .   \n",
       "83     the salads are great, really something special.   \n",
       "88   it was sitting out for a while on the counter ...   \n",
       "92    i love the food ... and service here is aweso...   \n",
       "97                            she apologized immensily   \n",
       "104                   We loved the cream pancakes too.   \n",
       "129  went back and they helped me quickly on the fi...   \n",
       "181                         they are usually very warm   \n",
       "221           story began at noon today, right on time   \n",
       "252  french toast plate was good , mom said , eggs ...   \n",
       "264  The management cares so much for the golf expe...   \n",
       "288      the mechanics are very professional as usual.   \n",
       "294   I would recommend everyone to try this starbucks   \n",
       "296                   management really seem to care .   \n",
       "321  we 'll see if that doesn't happen , but i 'm n...   \n",
       "348  I don't think I need a new source for those un...   \n",
       "357                           Two for my dogs equally.   \n",
       "359                     The server was totally buying.   \n",
       "393         The rice was warm and the taste was great.   \n",
       "421                                the door was jammed   \n",
       "464        i wasn't as satisfied as I wold have hoped.   \n",
       "471  Took my suit to get fitted and they put a new ...   \n",
       "492  three woman met for a nice lunch last friday a...   \n",
       "\n",
       "                                                 lewis  \\\n",
       "13   we were so impressed we could n't sit at the t...   \n",
       "18   the burgers were perfectly cooked to the point...   \n",
       "56                    i will be a long time customer !   \n",
       "59                             so far i am impressed .   \n",
       "83                     the salads are always special .   \n",
       "88          the garlic bread was fresh and delicious .   \n",
       "92     i love the food and the service here is great .   \n",
       "97                   she did a great job or anything .   \n",
       "104              we loved the cream pancakes as well .   \n",
       "129  just came back to get the rear tire sealed and...   \n",
       "181   this was by far the nicest person i spoke with !   \n",
       "221          well let this story begin at noon today .   \n",
       "252  french toast plate was good , mom said , but e...   \n",
       "264  management is very friendly and cares about th...   \n",
       "288         the mechanics are very friendly as usual .   \n",
       "294  i would highly recommend anyone to this starbu...   \n",
       "296              management does always seem to care .   \n",
       "321  we 'll see if that happens , but i 'll keep my...   \n",
       "348  geez i am happy to find a source for those uni...   \n",
       "357  one was for my birthday , and one was for my w...   \n",
       "359               the server was great buying drinks .   \n",
       "393  the rice was cooked perfectly and hard and the...   \n",
       "421                   the door would n't open at all !   \n",
       "464                     the food is amazing was good .   \n",
       "471  took my suite to get fitted and a very nice bu...   \n",
       "492  my husband and women met for lunch last friday...   \n",
       "\n",
       "                                              clsf_bv0  \\\n",
       "13   \"We couldn't be at the table if we weren't in ...   \n",
       "18   But they were so close to the point the game w...   \n",
       "56                          Hi, first time customer!\\n   \n",
       "59                       So far i'm not really sure.\\n   \n",
       "83                   If you are ok, nothing special.\\n   \n",
       "88               My garlic bread was bland and cold.\\n   \n",
       "92   I love the food... however service here is hor...   \n",
       "97                       He did not die or anything.\\n   \n",
       "104           I've tried the cream pancakes as well.\\n   \n",
       "129  I went back to check the rear view mirror and ...   \n",
       "181  This was the far the most interesting person I...   \n",
       "221              Details of this event begin at 6pm.\\n   \n",
       "252  I think the plate was good, mom said, but it w...   \n",
       "264  He never longer cares about the human experien...   \n",
       "288           The mechanics are very simple as well.\\n   \n",
       "294          We do not have anyone at this time yet.\\n   \n",
       "296                        He does not seem to care.\\n   \n",
       "321  We 'll see if that happens, but i'm not holdin...   \n",
       "348  I think I need to get a source for those uni b...   \n",
       "357  This was for my son, and it is for my son's so...   \n",
       "359                             But I wasn't buying.\\n   \n",
       "393  The water was cold and hard and the air was ve...   \n",
       "421                     And it wouldn't open at all.\\n   \n",
       "464                 The problem is nothing but good.\\n   \n",
       "471  I want my suite to get fitted and a new button...   \n",
       "492  The two met for lunch on friday at elements at...   \n",
       "\n",
       "                                                em_bv0  bert_lewis  \\\n",
       "13   I think we have to sit at the table if we want...    0.318293   \n",
       "18   the burgers have been cooked to the point the ...    0.748451   \n",
       "56                                                 NaN    0.630864   \n",
       "59                    Well, it's really really good.\\n    0.884421   \n",
       "83                       the kids are good, I think.\\n    0.618087   \n",
       "88                    For the bread, take the bread.\\n    0.070940   \n",
       "92   i love the place... however service here is ho...    0.851289   \n",
       "97                  she did not apologize or resign.\\n    0.085278   \n",
       "104                                                NaN    0.959326   \n",
       "129                                                NaN    0.242730   \n",
       "181  This was by far the most interesting person I ...    0.095201   \n",
       "221                                                NaN    0.454259   \n",
       "252  french toast plate. and, mom said, the eggs we...    0.787495   \n",
       "264  management, and much about the human experienc...    0.622304   \n",
       "288              the results are very good as usual.\\n    0.865451   \n",
       "294        i do not recommend to use this starbucks.\\n    0.679112   \n",
       "296                management does not seem to care.\\n    0.661794   \n",
       "321  I 'll see if that works, but i'm still on my p...    0.611148   \n",
       "348  So, i had to find a place for my uni course....\\n    0.394636   \n",
       "357                                                NaN    0.192281   \n",
       "359                     the server is on the server.\\n    0.437536   \n",
       "393  the sky was clear and hard and the wind was ve...    0.708829   \n",
       "421                 the bar of the the bar at night.\\n    0.432274   \n",
       "464                      the problem is it was done.\\n    0.056632   \n",
       "471  This is my way to get a little of the button p...    0.483474   \n",
       "492                                                NaN    0.651205   \n",
       "\n",
       "     sbert_lewis  cls_lewis  bert_clsf_bv0  sbert_clsf_bv0  cls_clsf_bv0  \\\n",
       "13      0.635969          1      -4.925075       -4.925075             1   \n",
       "18      0.790539          1      -4.925075       -4.925075             1   \n",
       "56      0.624011          1      -4.925075       -4.925075             1   \n",
       "59      0.759502          1      -4.925075       -4.925075             1   \n",
       "83      0.566846          1      -4.925075       -4.925075             1   \n",
       "88      0.752917          1      -4.925075       -4.925075             1   \n",
       "92      0.690451          1      -4.925075       -4.925075             1   \n",
       "97      0.432117          1      -4.925075       -4.925075             1   \n",
       "104     0.777983          1      -4.925075       -4.925075             1   \n",
       "129     0.847873          0      -4.925075       -4.925075             1   \n",
       "181     0.813225          1      -4.925075       -4.925075             1   \n",
       "221     0.996937          0      -4.925075       -4.925075             1   \n",
       "252     0.846247          1      -4.925075       -4.925075             1   \n",
       "264     0.592575          1      -4.925075       -4.925075             1   \n",
       "288     0.805505          1      -4.925075       -4.925075             1   \n",
       "294     0.761019          1      -4.925075       -4.925075             1   \n",
       "296     0.630451          1      -4.925075       -4.925075             1   \n",
       "321     0.743461          1      -4.925075       -4.925075             1   \n",
       "348     0.697734          1      -4.925075       -4.925075             1   \n",
       "357     0.757945          1      -4.925075       -4.925075             1   \n",
       "359     0.430560          1      -4.925075       -4.925075             1   \n",
       "393     0.685230          1      -4.925075       -4.925075             1   \n",
       "421     0.890240          0      -4.925075       -4.925075             1   \n",
       "464     0.312230          1      -4.925075       -4.925075             1   \n",
       "471     0.859682          1      -4.925075       -4.925075             1   \n",
       "492     0.626357          1      -4.925075       -4.925075             1   \n",
       "\n",
       "     bert_em_bv0  sbert_em_bv0  cls_em_bv0  \n",
       "13      0.336163      0.319579           0  \n",
       "18      0.588865      0.810976           0  \n",
       "56     -4.925075     -4.925075           1  \n",
       "59      0.392473      0.331879           1  \n",
       "83      0.416270      0.386847           1  \n",
       "88     -0.037768      0.141551           1  \n",
       "92      0.644619      0.889690           0  \n",
       "97      0.332343      0.649234           1  \n",
       "104    -4.925075     -4.925075           1  \n",
       "129    -4.925075     -4.925075           1  \n",
       "181     0.117680      0.798824           1  \n",
       "221    -4.925075     -4.925075           1  \n",
       "252     0.735323      0.713262           1  \n",
       "264     0.194031      0.227180           1  \n",
       "288     0.720624      0.654783           1  \n",
       "294     0.539928      0.685642           0  \n",
       "296     0.653313      1.000001           0  \n",
       "321     0.501767      0.644756           0  \n",
       "348     0.163247      0.290827           0  \n",
       "357    -4.925075     -4.925075           1  \n",
       "359     0.355227      0.391766           0  \n",
       "393     0.311170      0.453870           1  \n",
       "421     0.052035      0.035210           1  \n",
       "464     0.115966      0.674102           0  \n",
       "471     0.317583      0.394436           0  \n",
       "492    -4.925075     -4.925075           1  "
      ]
     },
     "execution_count": 8,
     "metadata": {},
     "output_type": "execute_result"
    }
   ],
   "source": [
    "debug_ref_0"
   ]
  },
  {
   "cell_type": "code",
   "execution_count": 14,
   "id": "b02fdef6-2c06-418d-a550-56fbf0bf0193",
   "metadata": {},
   "outputs": [],
   "source": [
    "idx = 13\n",
    "src = debug_ref_0.loc[idx, 'text']\n",
    "ref = debug_ref_0.loc[idx, 'ref']\n",
    "pred = debug_ref_0.loc[idx, 'clsf_bv0']"
   ]
  },
  {
   "cell_type": "code",
   "execution_count": 13,
   "id": "66815106-7b65-48bd-b5dd-16acb7eba012",
   "metadata": {},
   "outputs": [
    {
     "data": {
      "application/vnd.jupyter.widget-view+json": {
       "model_id": "1a23e4731f434919ba24f1c8cc707814",
       "version_major": 2,
       "version_minor": 0
      },
      "text/plain": [
       "Downloading builder script:   0%|          | 0.00/7.95k [00:00<?, ?B/s]"
      ]
     },
     "metadata": {},
     "output_type": "display_data"
    }
   ],
   "source": [
    "bertscore = evaluate.load(\"bertscore\")"
   ]
  },
  {
   "cell_type": "code",
   "execution_count": 16,
   "id": "a22eb98c-6249-4f30-8e3a-d99916afa18d",
   "metadata": {},
   "outputs": [],
   "source": [
    "os.environ['HF_HOME']='/shared/s3/lab07/hyeryung/hf_cache'\n",
    "os.environ['HF_DATASETS_CACHE']='/shared/s3/lab07/hyeryung/hf_cache'\n",
    "os.environ['TRANSFORMERS_CACHE']='/shared/s3/lab07/hyeryung/hf_cache'"
   ]
  },
  {
   "cell_type": "code",
   "execution_count": 17,
   "id": "a960a006-0a41-446d-96ed-60a57b3b912b",
   "metadata": {},
   "outputs": [
    {
     "data": {
      "application/vnd.jupyter.widget-view+json": {
       "model_id": "c987ca571a0148e1b125ea67d5c5f290",
       "version_major": 2,
       "version_minor": 0
      },
      "text/plain": [
       "model.safetensors:   0%|          | 0.00/1.42G [00:00<?, ?B/s]"
      ]
     },
     "metadata": {},
     "output_type": "display_data"
    },
    {
     "name": "stderr",
     "output_type": "stream",
     "text": [
      "Some weights of RobertaModel were not initialized from the model checkpoint at roberta-large and are newly initialized: ['roberta.pooler.dense.weight', 'roberta.pooler.dense.bias']\n",
      "You should probably TRAIN this model on a down-stream task to be able to use it for predictions and inference.\n"
     ]
    }
   ],
   "source": [
    "bert_score = bertscore.compute(predictions=[pred], references=[ref], lang=\"en\", rescale_with_baseline=True)"
   ]
  },
  {
   "cell_type": "code",
   "execution_count": 18,
   "id": "bf75c476-d00d-429c-b5ad-a662f89ef0a8",
   "metadata": {},
   "outputs": [
    {
     "data": {
      "text/plain": [
       "{'precision': [0.1198190376162529],\n",
       " 'recall': [0.22995620965957642],\n",
       " 'f1': [0.17563839256763458],\n",
       " 'hashcode': 'roberta-large_L17_no-idf_version=0.3.12(hug_trans=4.30.2)-rescaled'}"
      ]
     },
     "execution_count": 18,
     "metadata": {},
     "output_type": "execute_result"
    }
   ],
   "source": [
    "bert_score"
   ]
  },
  {
   "cell_type": "code",
   "execution_count": 19,
   "id": "1bcb1c4f-fee1-4f7b-9730-f33f7866074e",
   "metadata": {},
   "outputs": [],
   "source": [
    "bert_score = bertscore.compute(predictions=[pred], references=[src], lang=\"en\", rescale_with_baseline=True)"
   ]
  },
  {
   "cell_type": "code",
   "execution_count": 20,
   "id": "013154db-dce7-455b-b692-4c02c5a01b15",
   "metadata": {},
   "outputs": [
    {
     "data": {
      "text/plain": [
       "{'precision': [0.3526301085948944],\n",
       " 'recall': [0.18894222378730774],\n",
       " 'f1': [0.27068275213241577],\n",
       " 'hashcode': 'roberta-large_L17_no-idf_version=0.3.12(hug_trans=4.30.2)-rescaled'}"
      ]
     },
     "execution_count": 20,
     "metadata": {},
     "output_type": "execute_result"
    }
   ],
   "source": [
    "bert_score"
   ]
  },
  {
   "cell_type": "code",
   "execution_count": 24,
   "id": "45564f2e-6a09-4ff5-b5ae-6718c31cdd21",
   "metadata": {},
   "outputs": [],
   "source": [
    "bert_score = bertscore.compute(predictions=debug_ref_0.loc[:, 'clsf_bv0'].tolist(), references=debug_ref_0.loc[:, 'text'].tolist(), lang=\"en\", rescale_with_baseline=True)"
   ]
  },
  {
   "cell_type": "code",
   "execution_count": 25,
   "id": "8cb257ad-42fe-428f-8ea6-df3e1726fd8a",
   "metadata": {
    "scrolled": true
   },
   "outputs": [
    {
     "data": {
      "text/plain": [
       "{'precision': [0.35263150930404663,\n",
       "  0.19314943253993988,\n",
       "  0.33724766969680786,\n",
       "  0.6753238439559937,\n",
       "  0.5138356685638428,\n",
       "  0.9661069512367249,\n",
       "  0.8884523510932922,\n",
       "  0.6810457110404968,\n",
       "  0.9327162504196167,\n",
       "  0.39812788367271423,\n",
       "  0.6221935749053955,\n",
       "  0.26614412665367126,\n",
       "  0.46920350193977356,\n",
       "  0.7260136008262634,\n",
       "  0.5426690578460693,\n",
       "  0.19026567041873932,\n",
       "  0.8892121911048889,\n",
       "  0.8255161046981812,\n",
       "  0.7217661142349243,\n",
       "  0.44464200735092163,\n",
       "  0.6815459132194519,\n",
       "  0.6650265455245972,\n",
       "  0.684224545955658,\n",
       "  0.4952433109283447,\n",
       "  0.7666742205619812,\n",
       "  0.6958027482032776],\n",
       " 'recall': [0.1889432817697525,\n",
       "  0.11681004613637924,\n",
       "  0.35667726397514343,\n",
       "  0.44781434535980225,\n",
       "  0.3449268937110901,\n",
       "  0.8324404358863831,\n",
       "  0.8002338409423828,\n",
       "  0.5398414134979248,\n",
       "  0.6453701257705688,\n",
       "  0.2736797332763672,\n",
       "  0.5911695957183838,\n",
       "  0.09406804293394089,\n",
       "  0.24916626513004303,\n",
       "  0.6034619212150574,\n",
       "  0.4189896881580353,\n",
       "  0.05509646236896515,\n",
       "  0.7461383938789368,\n",
       "  0.6725088953971863,\n",
       "  0.621113121509552,\n",
       "  0.24804355204105377,\n",
       "  0.3472084105014801,\n",
       "  0.6157046556472778,\n",
       "  0.40716010332107544,\n",
       "  0.42912742495536804,\n",
       "  0.7220766544342041,\n",
       "  0.6387540698051453],\n",
       " 'f1': [0.27068382501602173,\n",
       "  0.15606509149074554,\n",
       "  0.3480058014392853,\n",
       "  0.5599262714385986,\n",
       "  0.42897772789001465,\n",
       "  0.8986704349517822,\n",
       "  0.8442580699920654,\n",
       "  0.6101762652397156,\n",
       "  0.7857800722122192,\n",
       "  0.33624622225761414,\n",
       "  0.6072768568992615,\n",
       "  0.17998935282230377,\n",
       "  0.3579384684562683,\n",
       "  0.6646109223365784,\n",
       "  0.48096564412117004,\n",
       "  0.12320160865783691,\n",
       "  0.8170807957649231,\n",
       "  0.7483894228935242,\n",
       "  0.6715205311775208,\n",
       "  0.34557393193244934,\n",
       "  0.5100393295288086,\n",
       "  0.6408399343490601,\n",
       "  0.5429285764694214,\n",
       "  0.4628554880619049,\n",
       "  0.7447023987770081,\n",
       "  0.6676728129386902],\n",
       " 'hashcode': 'roberta-large_L17_no-idf_version=0.3.12(hug_trans=4.30.2)-rescaled'}"
      ]
     },
     "execution_count": 25,
     "metadata": {},
     "output_type": "execute_result"
    }
   ],
   "source": [
    "bert_score"
   ]
  },
  {
   "cell_type": "markdown",
   "id": "006986ca-5ee1-47a2-883f-a84ab822fc41",
   "metadata": {},
   "source": [
    "# Debug Issue 2. Low Accuracy Score for CLSF_BV0"
   ]
  },
  {
   "cell_type": "code",
   "execution_count": 4,
   "id": "5ac7ddf3-cbf2-4679-a096-24699dc38a1d",
   "metadata": {},
   "outputs": [],
   "source": [
    "clsf_bv0 = pd.read_json('outputs/sentiment/mlm-reranking/roberta-base-yelp-lewis-sentiment-classifier-with-gpt2-large-embeds-binary/lewis-compr/mlm-beamsearch-v0-word-nps5-k10-beam5-allsat_primary-9fjc2pfg-negative-to-positive/outputs_epsilon0.75.txt',lines=True)"
   ]
  },
  {
   "cell_type": "code",
   "execution_count": 6,
   "id": "85190dcc-de6c-4ba9-be94-1e2a21b9bd22",
   "metadata": {},
   "outputs": [],
   "source": [
    "clsf_bv0=clsf_bv0.explode('generations')\n",
    "clsf_bv0['text']=clsf_bv0['generations'].apply(lambda x: x['text'])"
   ]
  },
  {
   "cell_type": "code",
   "execution_count": 9,
   "id": "4f0a5e0a-3487-4433-b676-aac20dcf4c4a",
   "metadata": {},
   "outputs": [],
   "source": [
    "clsf_bv0['indices']=clsf_bv0['generations'].apply(lambda x: x['indices'])\n",
    "clsf_bv0['orig_tokens_at_indices']=clsf_bv0['generations'].apply(lambda x: x['orig_tokens_at_indices'])"
   ]
  },
  {
   "cell_type": "code",
   "execution_count": 13,
   "id": "6dc8815a-89e1-4649-ac34-42b6fa60bd8e",
   "metadata": {},
   "outputs": [],
   "source": [
    "ref_0 = pd.read_csv('data/Sentiment-and-Style-Transfer/data/yelp/reference.0',sep='\\t',header=None,names=['src','ref'])"
   ]
  },
  {
   "cell_type": "code",
   "execution_count": 20,
   "id": "c9293931-955a-4eb2-b3e2-000a71330e82",
   "metadata": {},
   "outputs": [],
   "source": [
    "clsf_bv0_cls = pd.read_csv('outputs/sentiment/mlm-reranking/roberta-base-yelp-lewis-sentiment-classifier-with-gpt2-large-embeds-binary/lewis-compr/mlm-beamsearch-v0-word-nps5-k10-beam5-allsat_primary-epsilon0.75-results-negative-to-positive.txt.cls')"
   ]
  },
  {
   "cell_type": "code",
   "execution_count": 16,
   "id": "b7657b0c-798e-49fe-8cc1-81b441c3cc01",
   "metadata": {},
   "outputs": [],
   "source": [
    "debug_df=pd.concat([ref_0,clsf_bv0[['text','indices','orig_tokens_at_indices']]],axis=1)"
   ]
  },
  {
   "cell_type": "code",
   "execution_count": 21,
   "id": "58ed7527-20a3-4cc3-ad04-6f2ba5ec94da",
   "metadata": {},
   "outputs": [],
   "source": [
    "debug_df['cls_clsf_bv0']=clsf_bv0_cls['sentiment_predictions']"
   ]
  },
  {
   "cell_type": "code",
   "execution_count": 23,
   "id": "39b30084-0b79-460d-84dd-15819cc9e7d3",
   "metadata": {},
   "outputs": [],
   "source": [
    "debug_df.to_excel('new_module/compr/result_debug_clsf_bv0.xlsx',index=False)"
   ]
  },
  {
   "cell_type": "markdown",
   "id": "63ee6f1b-e6bd-4554-bd60-3169b971aaad",
   "metadata": {},
   "source": [
    "# Code to Generate Excel File for Qualitative Result Anlaysis"
   ]
  },
  {
   "cell_type": "code",
   "execution_count": 17,
   "id": "6509ece0-4e27-4bb7-85f4-98e549af5a6e",
   "metadata": {},
   "outputs": [],
   "source": [
    "# with open('data/Sentiment-and-Style-Transfer/data/yelp/sentiment.test.0') as f:\n",
    "#     source_0 = [line.rstrip('\\n') for line in f.readlines()]"
   ]
  },
  {
   "cell_type": "code",
   "execution_count": 262,
   "id": "9a527767-64eb-416a-8bc4-954a079ec822",
   "metadata": {},
   "outputs": [],
   "source": [
    "ref_0 = pd.read_csv('data/Sentiment-and-Style-Transfer/data/yelp/reference.0',sep='\\t',header=None,names=['src','ref'])"
   ]
  },
  {
   "cell_type": "code",
   "execution_count": 263,
   "id": "7eb1032f-ff77-4e6a-9342-b335c34ef67f",
   "metadata": {},
   "outputs": [],
   "source": [
    "cls=pd.read_csv('data/Sentiment-and-Style-Transfer/data/yelp/reference.0.results.txt.cls')\n",
    "ref_0[f'ref_cls']=cls['sentiment_predictions']"
   ]
  },
  {
   "cell_type": "code",
   "execution_count": 264,
   "id": "c9e21cad-192c-406e-89ba-1f9ba74a8639",
   "metadata": {},
   "outputs": [],
   "source": [
    "with open('lewis/model_outputs/yelp/pos.out', 'r') as f:\n",
    "    lewis_0 = pd.DataFrame({\"lewis\":[line.rstrip('\\n') for line in f.readlines()]})"
   ]
  },
  {
   "cell_type": "code",
   "execution_count": 265,
   "id": "7e1d09f9-0e22-4ffb-989a-bc8adf8535ed",
   "metadata": {},
   "outputs": [],
   "source": [
    "cls=pd.read_csv('lewis/model_outputs/yelp/results-negative-to-positive.txt.cls')\n",
    "lewis_0[f'lewis_cls']=cls['sentiment_predictions']"
   ]
  },
  {
   "cell_type": "code",
   "execution_count": 277,
   "id": "4dac28ef-0020-4a8f-84aa-c21e666d9b8c",
   "metadata": {},
   "outputs": [],
   "source": [
    "result_paths_0 = ['outputs/sentiment/mlm-reranking/roberta-base-yelp-lewis-sentiment-classifier-with-gpt2-large-embeds-binary/lewis-compr/mlm-beamsearch-v0-word-nps5-k10-beam5-allsat_primary-866hmm6j-negative-to-positive-grad_norm-866hmm6j/outputs_epsilon0.75.txt',\n",
    "                'outputs/sentiment/mlm-reranking/roberta-base-yelp-lewis-sentiment-classifier-with-gpt2-large-embeds-binary/lewis-compr/mlm-beamsearch-v0-word-nps5-k10-beam5-allsat_primary-9fjc2pfg-negative-to-positive/outputs_epsilon0.75.txt',\n",
    "               # 'outputs/sentiment/mlm-reranking/roberta-base-yelp-sentiment-classifier-with-gpt2-large-embeds-energy-training/lewis-compr/mlm-beamsearch-v0-word-nps5-k10-beam5-allsat_primary-k5ojm8zg-negative-to-positive-grad_norm-k5ojm8zg/outputs_epsilon0.75.txt',\n",
    "               # 'outputs/sentiment/mlm-reranking/roberta-base-yelp-sentiment-classifier-with-gpt2-large-embeds-energy-training/lewis-compr/mlm-beamsearch-v0-word-nps5-k10-beam5-allsat_primary-z9nof4p7-negative-to-positive/outputs_epsilon0.75.txt'\n",
    "                 ]"
   ]
  },
  {
   "cell_type": "code",
   "execution_count": 278,
   "id": "c0fad90c-1566-4958-86d2-4ac4ced06c13",
   "metadata": {},
   "outputs": [],
   "source": [
    "cls_paths_0 = ['outputs/sentiment/mlm-reranking/roberta-base-yelp-lewis-sentiment-classifier-with-gpt2-large-embeds-binary/lewis-compr/mlm-beamsearch-v0-word-nps5-k10-beam5-allsat_primary-866hmm6j-negative-to-positive-grad_norm-866hmm6j/results_epsilon0.75.txt.cls',\n",
    "                'outputs/sentiment/mlm-reranking/roberta-base-yelp-lewis-sentiment-classifier-with-gpt2-large-embeds-binary/lewis-compr/mlm-beamsearch-v0-word-nps5-k10-beam5-allsat_primary-9fjc2pfg-negative-to-positive/results_epsilon0.75.txt.cls',\n",
    "               # 'outputs/sentiment/mlm-reranking/roberta-base-yelp-sentiment-classifier-with-gpt2-large-embeds-energy-training/lewis-compr/mlm-beamsearch-v0-word-nps5-k10-beam5-allsat_primary-k5ojm8zg-negative-to-positive-grad_norm-k5ojm8zg/results_epsilon0.75.txt.cls',\n",
    "               # 'outputs/sentiment/mlm-reranking/roberta-base-yelp-sentiment-classifier-with-gpt2-large-embeds-energy-training/lewis-compr/mlm-beamsearch-v0-word-nps5-k10-beam5-allsat_primary-z9nof4p7-negative-to-positive/results_epsilon0.75.txt.cls'\n",
    "              ]"
   ]
  },
  {
   "cell_type": "code",
   "execution_count": 279,
   "id": "b4c8e9d2-a0fd-4547-955c-29ad2de78fea",
   "metadata": {},
   "outputs": [],
   "source": [
    "exp_names_0 = ['clsf_grad_norm','clsf_attn'\n",
    "               #,'em_grad_norm','em_attn'\n",
    "              ]"
   ]
  },
  {
   "cell_type": "code",
   "execution_count": 280,
   "id": "91e92a1e-941d-47d1-b33d-032d05492f56",
   "metadata": {},
   "outputs": [],
   "source": [
    "result_list_0=[]\n",
    "for i, path in enumerate(result_paths_0):\n",
    "    result=pd.read_json(path,lines=True)\n",
    "    result=result.explode('generations')\n",
    "    colname=exp_names_0[i]\n",
    "    result[colname]=result['generations'].apply(lambda x: x['text'].rstrip('\\n'))\n",
    "\n",
    "    cls=pd.read_csv(cls_paths_0[i])\n",
    "    result[f'{colname}_cls']=cls['sentiment_predictions']\n",
    "    \n",
    "    result=result[[colname,f'{colname}_cls']].copy()\n",
    "    result_list_0.append(result)"
   ]
  },
  {
   "cell_type": "code",
   "execution_count": 332,
   "id": "4a12ba06-c70c-434f-afe5-855503c2a59f",
   "metadata": {
    "scrolled": true
   },
   "outputs": [],
   "source": [
    "result_0=pd.concat([ref_0, lewis_0]+result_list_0,axis=1)"
   ]
  },
  {
   "cell_type": "code",
   "execution_count": 333,
   "id": "3a90469f-dfb2-4f5e-9c58-e594a8f9d5f3",
   "metadata": {},
   "outputs": [
    {
     "data": {
      "text/plain": [
       "ref_cls               0.788\n",
       "lewis_cls             0.832\n",
       "clsf_grad_norm_cls    0.656\n",
       "clsf_attn_cls         0.374\n",
       "dtype: float64"
      ]
     },
     "execution_count": 333,
     "metadata": {},
     "output_type": "execute_result"
    }
   ],
   "source": [
    "result_0[[col for col in result_0.columns if '_cls' in col]].mean()"
   ]
  },
  {
   "cell_type": "code",
   "execution_count": 334,
   "id": "ccac786b-2ca4-481e-906c-974cd988479a",
   "metadata": {},
   "outputs": [],
   "source": [
    "## analyze diff between src and ref \n",
    "\n",
    "def get_token_diff(x, colname1, colname2):\n",
    "    \n",
    "    a_list = tokenizer.tokenize(x[colname1])\n",
    "    b_list = tokenizer.tokenize(x[colname2])\n",
    "    \n",
    "    s = SequenceMatcher(None, a_list, b_list)\n",
    "    \n",
    "    replaced_deleted_tokens_ref = []\n",
    "    for tag, i1, i2, j1, j2 in s.get_opcodes():\n",
    "        if (tag == \"replace\") or (tag == \"delete\"):\n",
    "            replaced_deleted_tokens_ref.extend(list(range(i1,i2)))\n",
    "    return replaced_deleted_tokens_ref"
   ]
  },
  {
   "cell_type": "code",
   "execution_count": 335,
   "id": "d1a878fe-ef1d-4fc6-a07b-6b54b851193f",
   "metadata": {},
   "outputs": [],
   "source": [
    "result_0['edited_toks_ref']=result_0.apply(lambda x: get_token_diff(x,'src','ref'),axis=1)"
   ]
  },
  {
   "cell_type": "code",
   "execution_count": 336,
   "id": "35e054bd-733a-48c7-b2a3-015981364fe7",
   "metadata": {},
   "outputs": [],
   "source": [
    "result_0['edited_toks_lewis']=result_0.apply(lambda x: get_token_diff(x,'src','lewis'),axis=1)"
   ]
  },
  {
   "cell_type": "code",
   "execution_count": 337,
   "id": "a991b803-8831-4cb4-b1c4-d232abd5769b",
   "metadata": {},
   "outputs": [],
   "source": [
    "result_0['edited_toks_clsf_grad_norm']=result_0.apply(lambda x: get_token_diff(x,'src','clsf_grad_norm'),axis=1)"
   ]
  },
  {
   "cell_type": "code",
   "execution_count": 338,
   "id": "fbae8222-09c8-4b01-963a-7c6af023cbac",
   "metadata": {},
   "outputs": [],
   "source": [
    "result_0['edited_toks_clsf_attn']=result_0.apply(lambda x: get_token_diff(x,'src','clsf_attn'),axis=1)"
   ]
  },
  {
   "cell_type": "code",
   "execution_count": 339,
   "id": "c12c7255-8c2e-4171-9a9c-7c8d51befcda",
   "metadata": {},
   "outputs": [],
   "source": [
    "import numpy as np"
   ]
  },
  {
   "cell_type": "code",
   "execution_count": 340,
   "id": "bda56f3b-d9be-444b-b985-594bc86299ea",
   "metadata": {},
   "outputs": [],
   "source": [
    "def locate_precision(x, colname1, colname2):\n",
    "    if len(x[colname2])==0:\n",
    "        return np.nan\n",
    "    else:\n",
    "        return len(set(x[colname1]).intersection(set(x[colname2])))/len(x[colname2])\n",
    "\n",
    "result_0['locate_precision_lewis']=result_0.apply(lambda x: locate_precision(x, 'edited_toks_ref','edited_toks_lewis'),axis=1)\n",
    "result_0['locate_precision_clsf_grad_norm']=result_0.apply(lambda x: locate_precision(x, 'edited_toks_ref','edited_toks_clsf_grad_norm'),axis=1)\n",
    "result_0['locate_precision_clsf_attn']=result_0.apply(lambda x: locate_precision(x, 'edited_toks_ref','edited_toks_clsf_attn'),axis=1)"
   ]
  },
  {
   "cell_type": "code",
   "execution_count": 341,
   "id": "9a709a45-620a-4381-9034-bcb7371a0ae1",
   "metadata": {},
   "outputs": [],
   "source": [
    "def locate_recall(x, colname1, colname2):\n",
    "    if len(x[colname1])==0:\n",
    "        return np.nan\n",
    "    else:\n",
    "        return len(set(x[colname1]).intersection(set(x[colname2])))/len(x[colname1])\n",
    "\n",
    "result_0['locate_recall_lewis']=result_0.apply(lambda x: locate_recall(x, 'edited_toks_ref','edited_toks_lewis'),axis=1)\n",
    "result_0['locate_recall_clsf_grad_norm']=result_0.apply(lambda x: locate_recall(x, 'edited_toks_ref','edited_toks_clsf_grad_norm'),axis=1)\n",
    "result_0['locate_recall_clsf_attn']=result_0.apply(lambda x: locate_recall(x, 'edited_toks_ref','edited_toks_clsf_attn'),axis=1)"
   ]
  },
  {
   "cell_type": "code",
   "execution_count": 342,
   "id": "edbfaefe-c6f3-45b0-a69b-88fc06a990b7",
   "metadata": {},
   "outputs": [],
   "source": [
    "result_0['len_edited_tokens_ref']=result_0['edited_toks_ref'].apply(len)"
   ]
  },
  {
   "cell_type": "code",
   "execution_count": 343,
   "id": "527fdc82-1efe-4474-9ed2-4313f6316143",
   "metadata": {},
   "outputs": [],
   "source": [
    "result_0['len_edited_tokens_lewis']=result_0['edited_toks_lewis'].apply(len)"
   ]
  },
  {
   "cell_type": "code",
   "execution_count": 344,
   "id": "1fb74972-37a0-4daf-ae3e-7edccdde6b7c",
   "metadata": {},
   "outputs": [],
   "source": [
    "result_0['len_edited_tokens_clsf_attn']=result_0['edited_toks_clsf_attn'].apply(len)"
   ]
  },
  {
   "cell_type": "code",
   "execution_count": 345,
   "id": "4f6c870f-7d4d-4ac8-abef-3ac9c3d07090",
   "metadata": {},
   "outputs": [],
   "source": [
    "result_0['len_edited_tokens_clsf_grad_norm']=result_0['edited_toks_clsf_grad_norm'].apply(len)"
   ]
  },
  {
   "cell_type": "code",
   "execution_count": 346,
   "id": "8e55c4cb-7e41-49ed-a39b-d513f865243b",
   "metadata": {},
   "outputs": [
    {
     "data": {
      "text/plain": [
       "len_edited_tokens_ref               6.0\n",
       "len_edited_tokens_lewis             2.0\n",
       "len_edited_tokens_clsf_attn         5.0\n",
       "len_edited_tokens_clsf_grad_norm    6.0\n",
       "dtype: float64"
      ]
     },
     "execution_count": 346,
     "metadata": {},
     "output_type": "execute_result"
    }
   ],
   "source": [
    "result_0[['len_edited_tokens_ref', 'len_edited_tokens_lewis', 'len_edited_tokens_clsf_attn', 'len_edited_tokens_clsf_grad_norm']].median()"
   ]
  },
  {
   "cell_type": "code",
   "execution_count": null,
   "id": "8ff169f0-ad3c-4355-9215-4ce410f10ccb",
   "metadata": {},
   "outputs": [],
   "source": []
  },
  {
   "cell_type": "code",
   "execution_count": null,
   "id": "88818aa3-dbc1-4dd8-b5cb-6cc3076495b2",
   "metadata": {},
   "outputs": [],
   "source": []
  },
  {
   "cell_type": "code",
   "execution_count": 347,
   "id": "f96f85b3-b8b0-41ea-bf03-ab656d79f55e",
   "metadata": {},
   "outputs": [
    {
     "data": {
      "text/plain": [
       "locate_precision_lewis             0.784797\n",
       "locate_precision_clsf_grad_norm    0.664760\n",
       "locate_precision_clsf_attn         0.644929\n",
       "dtype: float64"
      ]
     },
     "execution_count": 347,
     "metadata": {},
     "output_type": "execute_result"
    }
   ],
   "source": [
    "result_0[['locate_precision_lewis',\n",
    "         'locate_precision_clsf_grad_norm',\n",
    "         'locate_precision_clsf_attn']].mean()"
   ]
  },
  {
   "cell_type": "code",
   "execution_count": 348,
   "id": "12d89d63-f28e-41c0-9bc2-e6b20cb1da57",
   "metadata": {},
   "outputs": [
    {
     "data": {
      "text/plain": [
       "locate_recall_lewis             0.350635\n",
       "locate_recall_clsf_grad_norm    0.697967\n",
       "locate_recall_clsf_attn         0.519730\n",
       "dtype: float64"
      ]
     },
     "execution_count": 348,
     "metadata": {},
     "output_type": "execute_result"
    }
   ],
   "source": [
    "result_0[['locate_recall_lewis',\n",
    "         'locate_recall_clsf_grad_norm',\n",
    "         'locate_recall_clsf_attn']].mean()"
   ]
  },
  {
   "cell_type": "code",
   "execution_count": null,
   "id": "00b51f73-b559-431b-877b-be6790f31d19",
   "metadata": {},
   "outputs": [],
   "source": []
  },
  {
   "cell_type": "code",
   "execution_count": 350,
   "id": "b62bba25-6b7a-4e69-afb5-4202e44d9541",
   "metadata": {},
   "outputs": [
    {
     "data": {
      "text/plain": [
       "ref_cls               0.788\n",
       "lewis_cls             0.832\n",
       "clsf_grad_norm_cls    0.656\n",
       "clsf_attn_cls         0.374\n",
       "dtype: float64"
      ]
     },
     "execution_count": 350,
     "metadata": {},
     "output_type": "execute_result"
    }
   ],
   "source": [
    "result_0[[col for col in result_0.columns if col.endswith('_cls')]].mean()"
   ]
  },
  {
   "cell_type": "code",
   "execution_count": 351,
   "id": "5b294942-1bf8-4007-8d80-0aa2811c8ce8",
   "metadata": {},
   "outputs": [
    {
     "data": {
      "text/plain": [
       "0.6701030927835051"
      ]
     },
     "execution_count": 351,
     "metadata": {},
     "output_type": "execute_result"
    }
   ],
   "source": [
    "result_0.loc[result_0['locate_precision_clsf_grad_norm'] >=0.5, 'clsf_grad_norm_cls'].mean()"
   ]
  },
  {
   "cell_type": "code",
   "execution_count": 365,
   "id": "b45d5ccd-9205-4639-a422-ced67df6c2ef",
   "metadata": {},
   "outputs": [
    {
     "data": {
      "text/plain": [
       "0.47058823529411764"
      ]
     },
     "execution_count": 365,
     "metadata": {},
     "output_type": "execute_result"
    }
   ],
   "source": [
    "result_0.loc[result_0['locate_precision_clsf_grad_norm'] ==0., 'clsf_grad_norm_cls'].mean()"
   ]
  },
  {
   "cell_type": "code",
   "execution_count": 352,
   "id": "1f2fbef6-5148-40f4-836a-0a3045e53011",
   "metadata": {},
   "outputs": [
    {
     "data": {
      "text/plain": [
       "0.7050359712230215"
      ]
     },
     "execution_count": 352,
     "metadata": {},
     "output_type": "execute_result"
    }
   ],
   "source": [
    "result_0.loc[result_0['locate_recall_clsf_grad_norm'] >=0.5, 'clsf_grad_norm_cls'].mean()"
   ]
  },
  {
   "cell_type": "code",
   "execution_count": 363,
   "id": "52572b11-31f7-4c28-b096-91553d2ce9d7",
   "metadata": {},
   "outputs": [
    {
     "data": {
      "text/plain": [
       "0.3"
      ]
     },
     "execution_count": 363,
     "metadata": {},
     "output_type": "execute_result"
    }
   ],
   "source": [
    "result_0.loc[result_0['locate_recall_clsf_grad_norm'] ==0., 'clsf_grad_norm_cls'].mean()"
   ]
  },
  {
   "cell_type": "code",
   "execution_count": null,
   "id": "a7fcd600-5a3d-4208-b9a3-199aaeab6c03",
   "metadata": {},
   "outputs": [],
   "source": []
  },
  {
   "cell_type": "code",
   "execution_count": 353,
   "id": "dcb2c1ee-a866-4a1b-ab6b-e645da1929d2",
   "metadata": {},
   "outputs": [
    {
     "data": {
      "text/plain": [
       "0.39572192513368987"
      ]
     },
     "execution_count": 353,
     "metadata": {},
     "output_type": "execute_result"
    }
   ],
   "source": [
    "result_0.loc[result_0['locate_precision_clsf_attn'] >=0.5, 'clsf_attn_cls'].mean()"
   ]
  },
  {
   "cell_type": "code",
   "execution_count": 366,
   "id": "2c190c41-16fe-4a2e-8d6a-a12d57d3ae88",
   "metadata": {},
   "outputs": [
    {
     "data": {
      "text/plain": [
       "0.2926829268292683"
      ]
     },
     "execution_count": 366,
     "metadata": {},
     "output_type": "execute_result"
    }
   ],
   "source": [
    "result_0.loc[result_0['locate_precision_clsf_attn'] ==0., 'clsf_attn_cls'].mean()"
   ]
  },
  {
   "cell_type": "code",
   "execution_count": 354,
   "id": "ae00c04b-fe3a-46b6-8bd7-555dd8aad061",
   "metadata": {},
   "outputs": [
    {
     "data": {
      "text/plain": [
       "0.46440677966101696"
      ]
     },
     "execution_count": 354,
     "metadata": {},
     "output_type": "execute_result"
    }
   ],
   "source": [
    "result_0.loc[result_0['locate_recall_clsf_attn'] >=0.5, 'clsf_attn_cls'].mean()"
   ]
  },
  {
   "cell_type": "code",
   "execution_count": 361,
   "id": "54ba9ca0-215b-4639-8f1e-d1a010ed947c",
   "metadata": {},
   "outputs": [
    {
     "data": {
      "text/plain": [
       "0.2647058823529412"
      ]
     },
     "execution_count": 361,
     "metadata": {},
     "output_type": "execute_result"
    }
   ],
   "source": [
    "result_0.loc[result_0['locate_recall_clsf_attn'] ==0., 'clsf_attn_cls'].mean()"
   ]
  },
  {
   "cell_type": "code",
   "execution_count": null,
   "id": "e2c6aa99-4f56-4675-ae14-bf19cd5f5b1c",
   "metadata": {},
   "outputs": [],
   "source": []
  },
  {
   "cell_type": "code",
   "execution_count": 355,
   "id": "d124a72e-99de-4b56-bbcc-3d700f1596f9",
   "metadata": {},
   "outputs": [
    {
     "data": {
      "text/plain": [
       "0.850356294536817"
      ]
     },
     "execution_count": 355,
     "metadata": {},
     "output_type": "execute_result"
    }
   ],
   "source": [
    "result_0.loc[result_0['locate_precision_lewis'] >=0.5, 'lewis_cls'].mean()"
   ]
  },
  {
   "cell_type": "code",
   "execution_count": 358,
   "id": "c8b87bb8-2a95-46cf-a19c-14e9b12f99b8",
   "metadata": {},
   "outputs": [
    {
     "data": {
      "text/plain": [
       "0.7746478873239436"
      ]
     },
     "execution_count": 358,
     "metadata": {},
     "output_type": "execute_result"
    }
   ],
   "source": [
    "result_0.loc[result_0['locate_precision_lewis'] <0.5, 'lewis_cls'].mean()"
   ]
  },
  {
   "cell_type": "code",
   "execution_count": 359,
   "id": "041a7dec-19d7-4a2f-894b-e292712853be",
   "metadata": {},
   "outputs": [
    {
     "data": {
      "text/plain": [
       "0.7021276595744681"
      ]
     },
     "execution_count": 359,
     "metadata": {},
     "output_type": "execute_result"
    }
   ],
   "source": [
    "result_0.loc[result_0['locate_precision_lewis'] ==0, 'lewis_cls'].mean()"
   ]
  },
  {
   "cell_type": "code",
   "execution_count": 356,
   "id": "64928f1f-f86b-4a21-8122-c90f02538a28",
   "metadata": {},
   "outputs": [
    {
     "data": {
      "text/plain": [
       "0.9111111111111111"
      ]
     },
     "execution_count": 356,
     "metadata": {},
     "output_type": "execute_result"
    }
   ],
   "source": [
    "result_0.loc[result_0['locate_recall_lewis'] >=0.5, 'lewis_cls'].mean()"
   ]
  },
  {
   "cell_type": "code",
   "execution_count": 357,
   "id": "45df8630-d877-46c7-b5ae-df8565a755f4",
   "metadata": {},
   "outputs": [
    {
     "data": {
      "text/plain": [
       "0.8044692737430168"
      ]
     },
     "execution_count": 357,
     "metadata": {},
     "output_type": "execute_result"
    }
   ],
   "source": [
    "result_0.loc[result_0['locate_recall_lewis'] < 0.5, 'lewis_cls'].mean()"
   ]
  },
  {
   "cell_type": "code",
   "execution_count": 360,
   "id": "5105ae5c-1f6d-4eb9-8a8e-6c180a255dfa",
   "metadata": {},
   "outputs": [
    {
     "data": {
      "text/plain": [
       "0.6458333333333334"
      ]
     },
     "execution_count": 360,
     "metadata": {},
     "output_type": "execute_result"
    }
   ],
   "source": [
    "result_0.loc[result_0['locate_recall_lewis'] == 0., 'lewis_cls'].mean()"
   ]
  },
  {
   "cell_type": "code",
   "execution_count": 374,
   "id": "a88fc638-60a8-49cc-87a5-7bef01e11b55",
   "metadata": {},
   "outputs": [
    {
     "data": {
      "text/plain": [
       "array([['so basically tasted watered down .',\n",
       "        \"It didn't taste watered down at all. \",\n",
       "        'so basically tasted watered and fresh .'],\n",
       "       ['definitely disappointed that i could not use my birthday gift !',\n",
       "        'definitely not disappointed that i could use my birthday gift !',\n",
       "        'definitely recommend this place so much that i could not use my birthday gift !'],\n",
       "       ['my pad thai tasted like thai rice noodles with barbeque sauce .',\n",
       "        'the pad thai tasted like the best I have had in a while',\n",
       "        'my pad thai and thai rice noodles with barbeque sauce were amazing .'],\n",
       "       ['they really need to work on their customer service and general attitude .',\n",
       "        \"they don't need to work on their customer service and general attitude .\",\n",
       "        'they really seem to work on their customer service and general attitude .'],\n",
       "       ['when i first came to phx ... yes this sounded indian to me .',\n",
       "        'when i first came to phx ... yes this sounded american to me .',\n",
       "        'when i first came to phx this is indian to me !'],\n",
       "       ['this was my first stop in looking for a wedding dress .',\n",
       "        \"I'm looking for wedding dresses, and this one was my first stop!\",\n",
       "        'this is my go to stop in looking for a wedding dress .'],\n",
       "       ['i got there , was seated pretty quickly , and then chose my color .',\n",
       "        'We were seated quick as soon as we got there, then we glady chose colors.',\n",
       "        'i got there , was seated pretty quickly , and then got my color done .'],\n",
       "       [\"was n't busy , no biggie .\", 'was busy , no biggie .',\n",
       "        \"was n't bad , not biggie !\"],\n",
       "       ['so i brought my business elsewhere .',\n",
       "        'I chose not to bring my business elsewhere. ',\n",
       "        'so i brought my business here .'],\n",
       "       ['even the ice cream was very , very run of the mill .',\n",
       "        'Even the ice cream was very, very unique and good.',\n",
       "        'even the ice cream is good , just run of the mill .'],\n",
       "       ['there is a reason they can get you in fairly quickly .',\n",
       "        'They were so quick and they get you in very quickly.',\n",
       "        'there is a reason they can get you in fairly quickly .'],\n",
       "       ['i went to sit down and wait for my order .',\n",
       "        'excited, I went to sit down and wait for my order.',\n",
       "        'i love to sit down and wait for my order .'],\n",
       "       ['they charged me for work not done , and parts not installed .',\n",
       "        'they only charged me for work done, and parts installed.',\n",
       "        'they are great for work not done , and parts not installed .'],\n",
       "       ['it looks old and outdated .', \"It doesn't look old or outdated\",\n",
       "        'it looks old and beautiful .'],\n",
       "       ['for the record i am a good cook , i use seasoning !',\n",
       "        'for the record i am a terrific cook, i use all kinds of seasoning !',\n",
       "        'for the record i am a very good cook , i highly recommend them !'],\n",
       "       ['the only thing i was offered was a free dessert .',\n",
       "        \"the only thing i wasn't offered was a free dessert .\",\n",
       "        'the best thing i was offered was a delicious dessert .'],\n",
       "       ['needless to say , i contacted the store manager directly after leaving .',\n",
       "        'i contacted the store manager and he gave us a great compensation',\n",
       "        'needless to say , i recommend the store manager directly after leaving .'],\n",
       "       [\"he could n't actually read her pressure , though .\",\n",
       "        'He could really read her pressure, though.',\n",
       "        \"he could n't actually read her pressure , but he loved it .\"],\n",
       "       [\"sounds good does n't it ?\", \"Sounds great doesn't it?\",\n",
       "        \"it 'sounds good does n't it ?\"],\n",
       "       ['too bad it was at the expense of the other customers .',\n",
       "        \"too bad it wasn't at the expense of the other customers .\",\n",
       "        'i was pleasantly surprised that it was at the expense of the other customers.'],\n",
       "       [\"we 'll see if that happens , but i 'm not holding my breath .\",\n",
       "        \"we 'll see if that doesn't happen , but i 'm not holding my breath that it won't .\",\n",
       "        \"we 'll see if that happens , but i 'll keep my breath .\"],\n",
       "       ['no wonder these restaurants are closing up all around the valley .',\n",
       "        \"no wonder these restaurants aren't closing up all around the valley .\",\n",
       "        'no wonder these restaurants are always packed up all around the valley .'],\n",
       "       ['so , it went in the trash .',\n",
       "        'I would never put it in the trash.',\n",
       "        'so , it went in the right order .'],\n",
       "       [\"went to the sunday brunch to celebrate our daughter 's college graduation .\",\n",
       "        'went to sunday brunch and had a great time with my daughter for her graduation',\n",
       "        \"we went for the sunday brunch to celebrate our daughter 's college graduation .\"],\n",
       "       ['i also told him i would leave him some good feedback online .',\n",
       "        'I told him I would leave excellent feedback online.',\n",
       "        'i also told him i would definitely give him some good feedback online .'],\n",
       "       [\"we told them to forget it , we did n't want to wait .\",\n",
       "        'we told them not to forget it , we wanted to wait .',\n",
       "        \"we told them to do it , we did n't want to wait !\"],\n",
       "       ['i guess even great restaurants have bad days .',\n",
       "        \"i guess great restaurants don't have bad days .\",\n",
       "        'i think even great restaurants have great days .'],\n",
       "       ['next dish was moo goo gai pan to which the sauce is the secret .',\n",
       "        'next dish was moo goo gai pan to which the awesome sauce is the secret.',\n",
       "        'my favorite dish was moo goo gai pan to which the sauce is the best in town .'],\n",
       "       ['let me tell you , this place was far from busy !',\n",
       "        'The place was incredibly busy.',\n",
       "        'let me tell you , this place is not far from my favorite !'],\n",
       "       ['it is way overpriced ( compare to what they serve !',\n",
       "        'it is way under-priced ( compare to what they serve !',\n",
       "        'it is well worth over $ ( compare to what they serve !'],\n",
       "       ['this is a far cry from real new mexican cuisine .',\n",
       "        'this is a close call from real new mexican cuisine.',\n",
       "        'this is a nice far cry from real new mexican cuisine .']],\n",
       "      dtype=object)"
      ]
     },
     "execution_count": 374,
     "metadata": {},
     "output_type": "execute_result"
    }
   ],
   "source": [
    "result_0.loc[(result_0['locate_recall_lewis']==0.) & \n",
    "            (result_0['lewis_cls']==1.),['src', 'ref','lewis']].values"
   ]
  },
  {
   "cell_type": "code",
   "execution_count": 376,
   "id": "5bb35274-895e-4aa6-a272-8c058c2849ae",
   "metadata": {},
   "outputs": [
    {
     "data": {
      "text/plain": [
       "array([['when i first came to phx ... yes this sounded indian to me .',\n",
       "        'when i first came to phx ... yes this sounded american to me .',\n",
       "        'so i was able to get this, and i am indian, and i'],\n",
       "       [\"we 'll see if that happens , but i 'm not holding my breath .\",\n",
       "        \"we 'll see if that doesn't happen , but i 'm not holding my breath that it won't .\",\n",
       "        \"I 'll see if that happens, but i'm still on my own.\"],\n",
       "       ['no wonder these restaurants are closing up all around the valley .',\n",
       "        \"no wonder these restaurants aren't closing up all around the valley .\",\n",
       "        'The new food restaurants are popping up all around the country.']],\n",
       "      dtype=object)"
      ]
     },
     "execution_count": 376,
     "metadata": {},
     "output_type": "execute_result"
    }
   ],
   "source": [
    "result_0.loc[(result_0['locate_recall_clsf_grad_norm']==0.) & \n",
    "            (result_0['clsf_grad_norm_cls']==1.),['src', 'ref','clsf_grad_norm']].values"
   ]
  },
  {
   "cell_type": "code",
   "execution_count": 377,
   "id": "b1befc91-ea1b-4aac-9213-0c0b3463ea84",
   "metadata": {},
   "outputs": [
    {
     "data": {
      "text/plain": [
       "array([['i know i should have sent this back and walk out .',\n",
       "        \"i know i shouldn't have sent this back and walked out .\",\n",
       "        'I think I should have sent this back and walk away.'],\n",
       "       ['so who do i call to get my money back .',\n",
       "        'so who do i call to give my money to .',\n",
       "        'So who do i call to get my money back?'],\n",
       "       ['the sandwich was not that great .', 'the sandwich was great .',\n",
       "        'The sandwich was not that good.'],\n",
       "       ['the only thing i was offered was a free dessert .',\n",
       "        \"the only thing i wasn't offered was a free dessert .\",\n",
       "        'The best thing I was offered was a free lunch box'],\n",
       "       ['management does not seem to care .',\n",
       "        'management really seem to care .', 'He does not seem to care.'],\n",
       "       ['service was average but could not make up for the poor food and drink .',\n",
       "        'service was above average as well as the food and drink .',\n",
       "        'It is good but could not make up for the poor food and drink.'],\n",
       "       ['i said it was disgusting to even serve this to diners .',\n",
       "        'This food was great for diners . ',\n",
       "        'i said it was disgusting to even serve this to diners.']],\n",
       "      dtype=object)"
      ]
     },
     "execution_count": 377,
     "metadata": {},
     "output_type": "execute_result"
    }
   ],
   "source": [
    "result_0.loc[(result_0['locate_recall_clsf_grad_norm']==0.) & \n",
    "            (result_0['clsf_grad_norm_cls']==0.),['src', 'ref','clsf_grad_norm']].values"
   ]
  },
  {
   "cell_type": "code",
   "execution_count": 378,
   "id": "dece92dc-2f4b-496f-8442-a62ab47786c4",
   "metadata": {},
   "outputs": [
    {
     "data": {
      "text/plain": [
       "array([[\"i ca n't believe how inconsiderate this pharmacy is .\",\n",
       "        'This pharmacy is really considerate.',\n",
       "        \"I don't know what it's like in this pharmacy, but\"],\n",
       "       ['just left and took it off the bill .',\n",
       "        'just left and put it on the bill .',\n",
       "        'Download this and get it from the store.'],\n",
       "       ['but it probably sucks too !',\n",
       "        \"but it probably doesn't suck too !\", \"but it probably won't.\"],\n",
       "       [\"said we could n't sit at the table if we were n't ordering dinner .\",\n",
       "        'they said we could sit at the table with no hesitation',\n",
       "        \"Do you really want to sit at the table when we weren't ordering food?\"],\n",
       "       ['the burgers were over cooked to the point the meat was crunchy .',\n",
       "        'the burgers were cooked perfectly and the meat was juicy',\n",
       "        'The burgers have been cooked to the point the meat is almost cooked.'],\n",
       "       ['so i asked for the card to be refunded .',\n",
       "        'I might consider asking for the card to be refunded. ',\n",
       "        \"It's time for the card to be made by me\"],\n",
       "       ['the beans were in the burro in the rice was nowhere to be found .',\n",
       "        'the beans were in the burro and the rice was plentiful',\n",
       "        'The beans cooked in the burro in the rice cooker. Photo by the recipe'],\n",
       "       ['they really need to work on their customer service and general attitude .',\n",
       "        \"they don't need to work on their customer service and general attitude .\",\n",
       "        '\"We have to work with our customer service and general attitude.'],\n",
       "       ['i skipped eating and we went back to the beer .',\n",
       "        ' i continued eating and later we went back to the beer .',\n",
       "        'We were eating and we went back to the hotel.'],\n",
       "       [\"my `` hot '' sub was cold and the meat was watery .\",\n",
       "        \"my `` hot '' sub was hot and the meat was tender .\",\n",
       "        \"The ``A '' is a '' and the rest of it is the\"],\n",
       "       [\"you wo n't find a better selection in scottsdale .\",\n",
       "        \"you wo n't find a better selection in arizona .\",\n",
       "        \"If you couldn't find a better place in the world for this!\"],\n",
       "       ['i left hungry and unsatisfied , never again .',\n",
       "        'I left full and satisfied, will visit again.',\n",
       "        'So left hungry and unsatisfied, I went to'],\n",
       "       [\"had one mediocre meal and said , `` we 'll try again '' .\",\n",
       "        'Had one great meal and said, \"we\\'ll try again.\"',\n",
       "        '\"After a year and a half ``I \\'ll try again.\\'\\'\\'\\''],\n",
       "       ['i was also curious about another product but he straight up walked off .',\n",
       "        'i was also curious about another product and he straight up told me all about it .',\n",
       "        \"He was also asked about another product but he didn't mention it.\"],\n",
       "       [\"you 'll have zero appetite after the first bite .\",\n",
       "        \"You'll be wanting more after the first bite !\",\n",
       "        \"You 'll have to go after the first one.\"],\n",
       "       ['but it may not actually be in stock anyway .',\n",
       "        'Everything is always in stock here. ',\n",
       "        'I hope this will be available in stock at all'],\n",
       "       ['it looks like blended up chicken put into the shape of grilled pieces .',\n",
       "        'the blended up chicken was made just the way i wanted it',\n",
       "        'It is all wrapped up and cut into the shape of grilled cheese.'],\n",
       "       ['there are better happy hours and better beers all around mill !',\n",
       "        'one of the best happy hours anywhere',\n",
       "        'It was the early hours and the beers all around me.'],\n",
       "       [\"the woman did n't even apologize .\",\n",
       "        'she would have apologised but she was in a hurry',\n",
       "        \"The woman didn't even know that\"],\n",
       "       ['the espresso was way too hot .',\n",
       "        'it seems it was warmed up a tad too bit',\n",
       "        'The espresso was way too strong.'],\n",
       "       [\"no , i 'm not at a scottsdale club .\", 'this was a great club',\n",
       "        'This is a for a show at a scottsdale restaurant.'],\n",
       "       ['if i could give zero stars i def would .',\n",
       "        'the stars was 5 plus', 'if i can make it, i def have to'],\n",
       "       [\"i 'm not one of the corn people .\",\n",
       "        \"I'm one of the corn people. \",\n",
       "        'This photo is of one of the cornfields in'],\n",
       "       ['so , no treatment and no medication to help me deal with my condition .',\n",
       "        'so , several treatments and medications to help me deal with my condition .',\n",
       "        'This is the treatment and treatment plan to help me deal with my depression.'],\n",
       "       ['at this location the service was terrible .',\n",
       "        'at this location the service was awesome .',\n",
       "        'At this location the service is currently unavailable'],\n",
       "       ['only then did our waitress show up with another styrofoam cup full of water .',\n",
       "        'our waitress showed up quickly',\n",
       "        'At this point our team came up with a full, and a cup full of ice.'],\n",
       "       [\"i hate to see what their delivery times are when it 's last call .\",\n",
       "        'delivery times were fast',\n",
       "        \"It's the show where their delivery times are when it's last seen.\"],\n",
       "       ['just went back to get the rear tire sealed and filled .',\n",
       "        'went back and they helped me quickly on the filling',\n",
       "        \"It's time to get the new tire, and the tires\"],\n",
       "       ['the food is worse than you find in the freezer section at walmart .',\n",
       "        'the food is way better than you find in the freezer section at walmart .',\n",
       "        'The food that you can you find in the freezer section at the grocery store'],\n",
       "       ['and the cleaning is way over priced .', 'price was good',\n",
       "        'And the cleaning is just part of the'],\n",
       "       [\"just do n't bother ordering anything if you 're seated .\",\n",
       "        \"I would recommend ordering something once you're seated\",\n",
       "        \"What is the point of ordering anything if you're already in\"],\n",
       "       [\"i replied , '' um ... no i 'm cool .\",\n",
       "        'I said everything is great',\n",
       "        \"She replied, '' um... I'm sorry, I...\"],\n",
       "       [\"meanwhile i 'm waiting for an answer .\",\n",
       "        'the answer came quickly', \"So, i'm waiting for an update.\"],\n",
       "       ['oh , i should not have asked .', 'oh , i should have asked .',\n",
       "        'i think i really should have done this'],\n",
       "       ['my toddler found a dead mouse under one of the seats .',\n",
       "        'my toddler found a mouse toy under one of the seats .',\n",
       "        'A man with a toy gun at one of the game tables'],\n",
       "       ['furthermore , there is no sausage or bacon on the menu .',\n",
       "        'There are plenty of sausage and bacon options.',\n",
       "        'What is the, and what is, or bacon on the bread?'],\n",
       "       ['nope , way way worse .', 'It was way better.',\n",
       "        'There is a way, to,'],\n",
       "       ['there are no smiles and no customer service .',\n",
       "        'There were plenty of smiles and quality customer service.',\n",
       "        \"It's all smiles and no customer service.\"],\n",
       "       [\"if your patio is south facing , you 're out of luck .\",\n",
       "        \" If your patio is south facing, you're in luck.\",\n",
       "        \"If your patio is south facing, you'll get more of the sun\"],\n",
       "       [\"plus the dude did n't even know how to work the computer .\",\n",
       "        'Plus the dude knew how to work the computer.',\n",
       "        'And the dude who did not even know how to work the damn thing'],\n",
       "       ['the food was mediocre at best , far too greasy and not cooked well .',\n",
       "        'the food was great , not too greasy and cooked well .',\n",
       "        'The food we eat at home is often made from processed and not cooked properly.'],\n",
       "       [\"was n't busy , no biggie .\", 'was busy , no biggie .',\n",
       "        \"It's been busy, but the, and\"],\n",
       "       ['food was alright maybe we should have ordered off the mexican menu .',\n",
       "        'food was very good, we ordered off the mexican menu.',\n",
       "        'I think that I may need to go with the mexican menu.'],\n",
       "       [\"one broken thing after another they do n't care to address .\",\n",
       "        'the addressed all the broken items',\n",
       "        '\"One person to another they don\\'t care to know.'],\n",
       "       [\"wendy 's has been know to be cheap with their drink refills for years .\",\n",
       "        \"Wendy's has been known to not be cheap even with drink refills over the years. \",\n",
       "        \"It's said that everyone has been trying to get them with their drink refills for years.\"],\n",
       "       ['did they not have a fountain machine on site ?',\n",
       "        'I bet they have a fountain machine on site!',\n",
       "        \"And they'll have a fountain machine on the side\"],\n",
       "       [\"always takes way too long even if you 're the only one there .\",\n",
       "        'the place was quick and i was the only one',\n",
       "        \"It's a the, even if you're the only one in there\"],\n",
       "       ['however , everyone else paid after their nails were completed .',\n",
       "        'everyone paid at the same time',\n",
       "        'This is what everyone looks like after their nails were done.'],\n",
       "       ['so , that was my one and only time ordering the benedict there .',\n",
       "        'I will be ordering the benedict again very good meal!',\n",
       "        '\"If that\\'s the case and you\\'re ordering the benedict, then'],\n",
       "       ['were we irritating her or something ?',\n",
       "        'were we impressing her or something ?',\n",
       "        'Are we helping her or hurting her'],\n",
       "       ['do not sign a lease with these people .',\n",
       "        'sign a lease with these people immediately.',\n",
       "        'When you sign a lease with these companies:'],\n",
       "       ['had to returned one entree because too cold .',\n",
       "        'every entree came out perfect',\n",
       "        'Back to that one time, because that one time'],\n",
       "       ['the restroom was a mess .', 'the restroom was clean',\n",
       "        'The restroom is a big deal'],\n",
       "       ['either way i would never recommend buying from camping world .',\n",
       "        'either way i would recommend buying from camping world.',\n",
       "        \"This is why we're not buying from camping stores.\"],\n",
       "       ['i went to sit down and wait for my order .',\n",
       "        'excited, I went to sit down and wait for my order.',\n",
       "        'I had to sit down and wait for my turn.'],\n",
       "       ['he did not return my call either .', 'He returned my call',\n",
       "        'He may not return my call or email'],\n",
       "       ['i would rather wait for hot food than have it cold and soggy .',\n",
       "        \"I don't mind waiting for hot food\",\n",
       "        'How do you use a hot food to get it hot and then eat it?'],\n",
       "       ['when it came we should have sent it back .',\n",
       "        'When it came we were so happy . ',\n",
       "        'If it is we will have seen it in time'],\n",
       "       ['i dont know why i was expecting anything different .',\n",
       "        'This is exactly what i was expecting!',\n",
       "        'I dont know if i was expecting anything from this'],\n",
       "       ['two hours of my life i can never get back .',\n",
       "        'Two hours of my life I was happy to give up.',\n",
       "        \"Every day of my life i can't get enough of\"],\n",
       "       ['dropped off my red purse and three pair of black shoes .',\n",
       "        'Very great experience with the red purse and wonderful black shoes. ',\n",
       "        'He was in a red shirt and three pair of black pants.'],\n",
       "       ['service fair , pace was bad between courses - long waits .',\n",
       "        'Service was great, Very short wait time , highly recommend.',\n",
       "        '1. The pace of time between courses - long and slow'],\n",
       "       ['second time , not so good .',\n",
       "        'Very great time here for the 2nd time.',\n",
       "        'The time, and so, the'],\n",
       "       ['i checked online , and the coupon site said my certificate was good .',\n",
       "        'I was able to use my certificate because it was good still.',\n",
       "        'I am online, and the web site of my company is up.'],\n",
       "       ['needless to say , i contacted the store manager directly after leaving .',\n",
       "        'i contacted the store manager and he gave us a great compensation',\n",
       "        'A woman says she believes she was the store manager who witnessed the shooting'],\n",
       "       ['had it not been so terribly hot , it would have just been inconvenient .',\n",
       "        'the establishment had the perfect temparature',\n",
       "        'And it had been so long, that it must have seemed like a day'],\n",
       "       ['she did offer me a copy if i would like a soda while waiting .',\n",
       "        'she offered me a soda while i waited which was very nice',\n",
       "        'Can you send me a message? i can send you messages while i work'],\n",
       "       ['i emailed to let them know but they apparently dont care .',\n",
       "        'I emailed to let them know they really do care.',\n",
       "        \"I emailed to let them know but they apparently didn't respond\"],\n",
       "       [\"it did n't get finished .\", \"I bet it's going to get finished.\",\n",
       "        \"I just don't get it.\"],\n",
       "       ['absolutely terrible , do not order from this place .',\n",
       "        'Absolutely fabulous, do order from this place.',\n",
       "        'You can also do this order from this page.'],\n",
       "       ['ate kicked ass , marquee , not so much .',\n",
       "        'ate kicked ass, marquee, pretty good too.',\n",
       "        'I, on the and, and so on.'],\n",
       "       ['i have not received such an attitude toward a customer before .',\n",
       "        'he is usually on the calmer side but he must have been having a bad day',\n",
       "        \"There's a man with an attitude toward a customer. (\"],\n",
       "       ['too bad it was at the expense of the other customers .',\n",
       "        \"too bad it wasn't at the expense of the other customers .\",\n",
       "        'What is the, at the end of the other side,'],\n",
       "       ['this woman should not be in the service industry in az with that attitude .',\n",
       "        'this woman belongs in the service industry in az with that great attitude .',\n",
       "        'You may need to be in the service industry in azcentral or she.'],\n",
       "       [\"it was embarrassing for all involved , though i do n't think he noticed .\",\n",
       "        'it was fun for all there',\n",
       "        \"I'm sorry for all involved, but i really don't think he will.\"],\n",
       "       [\"hopefully , i do n't take any bed bugs with me .\",\n",
       "        'no bed bugs will go with me',\n",
       "        \"Yes, but you'll want to bring any bed bugs with you.\"],\n",
       "       ['geez i need to find a source for those uni blocks ... .',\n",
       "        \"I don't think I need a new source for those uni blocks\",\n",
       "        'So, you need to find a source for those uni-c.'],\n",
       "       [\"one was for my dog , and one was for my wife 's dog .\",\n",
       "        'Two for my dogs equally.',\n",
       "        \"I feel for my dog, and I feel for my wife's dog.\"],\n",
       "       ['my fault for not looking more closely , i guess .',\n",
       "        'I looked really close.', '1, for a, more for a, and,'],\n",
       "       [\"the server was n't buying .\", 'The server was totally buying.',\n",
       "        'The server is still not working properly'],\n",
       "       ['sad what has happened to this sandwich shop .',\n",
       "        'great what has happened to this sandwich shop .',\n",
       "        'This is what has happened to this sandwich in America'],\n",
       "       [\"i did n't even eat it .\", 'i ate all of it',\n",
       "        '\"I don\\'t even get the point'],\n",
       "       ['absolutely ridiculous stay away from this place .',\n",
       "        \"absolutely awesome, can't stay away from this place .\",\n",
       "        'I always stay away from this particular game'],\n",
       "       ['this piece of shit gave me wonton crackers for my soup .',\n",
       "        'I had delicious crackers for my soup.',\n",
       "        'A couple of people sent me some chicken and rice for my birthday.'],\n",
       "       ['great food but horrible staff and very very rude workers !',\n",
       "        'great food and excellent staff and very very nice workers.',\n",
       "        'Great food, horrible staff and very little friendly staff.'],\n",
       "       ['next dish was moo goo gai pan to which the sauce is the secret .',\n",
       "        'next dish was moo goo gai pan to which the awesome sauce is the secret.',\n",
       "        'This dish is a traditional goo gai pan to which the sauce is the base.'],\n",
       "       ['tonight i lost all respect for this company .',\n",
       "        'I gained more respect for this company.',\n",
       "        \"I've just lost all respect for this company.\"],\n",
       "       ['included in this price was a credit card fee and an after midnight fee .',\n",
       "        'Included in this price was a small credit card fee and a negligible after midnight fee.',\n",
       "        'The difference in this case is the 10% tax and an after midnight tax.'],\n",
       "       ['actually , just keep walking .', 'actually, go on in.',\n",
       "        \"I'll just keep doing it\"],\n",
       "       ['it is way overpriced ( compare to what they serve !',\n",
       "        'it is way under-priced ( compare to what they serve !',\n",
       "        'What is the I, ( compare to what they serve!'],\n",
       "       ['also , could they not bring a single pack of cheese or red peppers ?',\n",
       "        'They had plenty of cheese packets and red pepper.',\n",
       "        'In addition, they will have a free pack of white or red meat.'],\n",
       "       ['too bad too because they brew an outstanding beer .',\n",
       "        'too sweet too because they brew an outstanding beer .',\n",
       "        'Not much, because they brew an amazing beer.'],\n",
       "       ['will never go back to kfc - they essentially stole from me !',\n",
       "        'I will always go back to kfc - they earned my patronage.',\n",
       "        \"I'm going back to kfc and I found this from the site\"],\n",
       "       ['built in cabinets in kitchen and bathroom along with sink are not kept up .',\n",
       "        'built in cabinets in kitchen and bathroom along with sink are well kept up.',\n",
       "        'All the cabinets in kitchen and bathroom along with the kitchen island in the kitchen'],\n",
       "       ['the problem is nothing was good .',\n",
       "        \"i wasn't as satisfied as I wold have hoped.\",\n",
       "        'The truth is nothing was done.'],\n",
       "       ['i tried to no avail .', 'I tried to much success',\n",
       "        'I want to go longer.'],\n",
       "       ['i refused to purchase any of the pictures based on quality .',\n",
       "        'I opted to purchase the pictures based on quality.',\n",
       "        'Click here to purchase any of the pictures based on this review'],\n",
       "       ['perhaps bread should be offered at no charge .',\n",
       "        'bread was offered at no charge',\n",
       "        'This product is now offered at no additional cost'],\n",
       "       [\"they rush , rush and do n't pay attention to their customers .\",\n",
       "        'They pay very much attention to customers !',\n",
       "        'Hurry, rush and rush, rush and rush to the end and'],\n",
       "       ['no massage with my manicure or pedicure .',\n",
       "        'Very nice massage made my maicure and pedicure great',\n",
       "        'A massage, a massage therapist or a massage therapist,'],\n",
       "       ['i do not like the size of the dance floor .',\n",
       "        'I love the size of this dance floor!',\n",
       "        'How do you be the size of the dance floor?'],\n",
       "       ['i guess starbucks customer services is only good at some locations .',\n",
       "        'Starbucks services are good at every location!',\n",
       "        'Note: starbucks customer services is not available at all locations.'],\n",
       "       [\"like it 's been in a fridge for a week .\",\n",
       "        \"like it hasn't been in a fridge for a week .\",\n",
       "        \"If it's been in a fridge for a long time\"],\n",
       "       ['they do not stock some of the most common parts .',\n",
       "        'they stock some of the most common parts .',\n",
       "        'Here are tips for some of the most common health problems']],\n",
       "      dtype=object)"
      ]
     },
     "execution_count": 378,
     "metadata": {},
     "output_type": "execute_result"
    }
   ],
   "source": [
    "result_0.loc[(result_0['locate_recall_clsf_grad_norm']>0.5) & \n",
    "            (result_0['clsf_grad_norm_cls']==0.),['src', 'ref','clsf_grad_norm']].values"
   ]
  },
  {
   "cell_type": "code",
   "execution_count": null,
   "id": "bceefe0f-9a1a-4757-924e-9abe1cb240c7",
   "metadata": {},
   "outputs": [],
   "source": []
  },
  {
   "cell_type": "code",
   "execution_count": 36,
   "id": "fa6f2607-ed05-4b09-b886-0d986625390a",
   "metadata": {},
   "outputs": [],
   "source": [
    "ref_1 = pd.read_csv('data/Sentiment-and-Style-Transfer/data/yelp/reference.1',sep='\\t',header=None,names=['src','ref'])"
   ]
  },
  {
   "cell_type": "code",
   "execution_count": 37,
   "id": "1bcf31aa-9229-4aff-be2f-0485fcb5128e",
   "metadata": {},
   "outputs": [],
   "source": [
    "with open('lewis/model_outputs/yelp/neg.out', 'r') as f:\n",
    "    lewis_1 = pd.DataFrame({\"lewis\":[line.rstrip('\\n') for line in f.readlines()]})"
   ]
  },
  {
   "cell_type": "code",
   "execution_count": 22,
   "id": "12cddde1-8f34-41f8-a6ca-1651948e6468",
   "metadata": {},
   "outputs": [],
   "source": [
    "result_paths_1 = ['outputs/sentiment/mlm-reranking/roberta-base-yelp-lewis-sentiment-classifier-with-gpt2-large-embeds-binary/lewis-compr/mlm-beamsearch-v0-word-nps5-k10-beam5-allsat_primary-ij4hre36-positive-to-negative-grad_norm-ij4hre36/outputs_epsilon0.75.txt',\n",
    "                'outputs/sentiment/mlm-reranking/roberta-base-yelp-lewis-sentiment-classifier-with-gpt2-large-embeds-binary/lewis-compr/mlm-beamsearch-v0-word-nps5-k10-beam5-allsat_primary-qdgh9mv2-positive-to-negative/outputs_epsilon0.75.txt',\n",
    "               'outputs/sentiment/mlm-reranking/roberta-base-yelp-sentiment-classifier-with-gpt2-large-embeds-energy-training/lewis-compr/mlm-beamsearch-v0-word-nps5-k10-beam5-allsat_primary-hw52a3y0-positive-to-negative-grad_norm-hw52a3y0/outputs_epsilon0.75.txt',\n",
    "               'outputs/sentiment/mlm-reranking/roberta-base-yelp-sentiment-classifier-with-gpt2-large-embeds-energy-training/lewis-compr/mlm-beamsearch-v0-word-nps5-k10-beam5-allsat_primary-bff2akpu-positive-to-negative/outputs_epsilon0.75.txt']"
   ]
  },
  {
   "cell_type": "code",
   "execution_count": 23,
   "id": "6c19b57d-b361-40f4-b59b-3a76e79c10f5",
   "metadata": {},
   "outputs": [],
   "source": [
    "result_list_1=[]\n",
    "for path in result_paths_1:\n",
    "    result=pd.read_json(path,lines=True)\n",
    "    result=result.explode('generations')\n",
    "    colname='/'.join([path.split('/')[3],path.split('/')[5]])\n",
    "    result[colname]=result['generations'].apply(lambda x: x['text'].rstrip('\\n'))\n",
    "    result=result[[colname]].copy()\n",
    "    result_list_1.append(result)"
   ]
  },
  {
   "cell_type": "code",
   "execution_count": 38,
   "id": "3c383492-7b26-4cc2-9693-a18350471dfb",
   "metadata": {},
   "outputs": [],
   "source": [
    "result_1=pd.concat([ref_1,lewis_1]+result_list_1,axis=1)"
   ]
  },
  {
   "cell_type": "code",
   "execution_count": null,
   "id": "5fd93c60-58fd-40a4-8594-20504f1da28b",
   "metadata": {},
   "outputs": [],
   "source": []
  },
  {
   "cell_type": "code",
   "execution_count": 76,
   "id": "d9a90dba-ec0b-461c-aeca-8a337159357e",
   "metadata": {},
   "outputs": [],
   "source": [
    "from Levenshtein import editops, opcodes"
   ]
  },
  {
   "cell_type": "code",
   "execution_count": 79,
   "id": "8fe43b0f-afd7-434b-9d9f-bc8413109a0c",
   "metadata": {},
   "outputs": [],
   "source": [
    "from transformers import AutoTokenizer"
   ]
  },
  {
   "cell_type": "code",
   "execution_count": 80,
   "id": "39e5727f-271c-4cbf-9f70-9d720ca173f4",
   "metadata": {},
   "outputs": [],
   "source": [
    "tokenizer = AutoTokenizer.from_pretrained(\"/shared/s3/lab07/hyeryung/loc_edit/models/roberta-base-yelp-lewis-sentiment-classifier-with-gpt2-large-embeds-binary/step_280_best_checkpoint/\")"
   ]
  },
  {
   "cell_type": "code",
   "execution_count": 88,
   "id": "a2703ac2-6199-4cbf-967c-bf325e988743",
   "metadata": {},
   "outputs": [],
   "source": [
    "result_0['src']=result_0['src'].apply(lambda x: tokenizer.decode(tokenizer.encode(x,add_special_tokens=False)))"
   ]
  },
  {
   "cell_type": "code",
   "execution_count": 89,
   "id": "f24626bf-5d66-4977-9de8-8b3de9415ecd",
   "metadata": {},
   "outputs": [],
   "source": [
    "result_0['ref']=result_0['ref'].apply(lambda x: tokenizer.decode(tokenizer.encode(x,add_special_tokens=False)))"
   ]
  },
  {
   "cell_type": "code",
   "execution_count": 90,
   "id": "8189089a-b9e7-4986-9738-cdf1b1480386",
   "metadata": {},
   "outputs": [],
   "source": [
    "result_0['lewis']=result_0['lewis'].apply(lambda x: tokenizer.decode(tokenizer.encode(x,add_special_tokens=False)))"
   ]
  },
  {
   "cell_type": "code",
   "execution_count": 91,
   "id": "5263abd7-a1e2-4f2f-9dff-2787c11ad68f",
   "metadata": {},
   "outputs": [],
   "source": []
  },
  {
   "cell_type": "code",
   "execution_count": 99,
   "id": "5ed770d0-980b-4e97-beae-9ed20aee19b1",
   "metadata": {},
   "outputs": [],
   "source": [
    "from difflib import context_diff, Differ, SequenceMatcher"
   ]
  },
  {
   "cell_type": "code",
   "execution_count": 133,
   "id": "e4ee307e-8828-4dd8-b8a7-471d67c20a3b",
   "metadata": {},
   "outputs": [],
   "source": [
    "import random"
   ]
  },
  {
   "cell_type": "code",
   "execution_count": 235,
   "id": "c18063c2-aa23-4ffb-9c55-f5ddbcf95a6b",
   "metadata": {},
   "outputs": [],
   "source": [
    "sample_id = random.randint(0,len(result_0)-1)"
   ]
  },
  {
   "cell_type": "code",
   "execution_count": 236,
   "id": "c2743c39-9a17-4667-b26a-9807eee0ff1d",
   "metadata": {},
   "outputs": [
    {
     "name": "stdout",
     "output_type": "stream",
     "text": [
      "src: ate kicked ass, marquee, not so much.\n",
      "ref: ate kicked ass, marquee, pretty good too.\n",
      "replace   a[6:9] --> b[6:9] ['Ġnot', 'Ġso', 'Ġmuch'] --> ['Ġpretty', 'Ġgood', 'Ġtoo']\n"
     ]
    }
   ],
   "source": [
    "a_list = tokenizer.tokenize(result_0.src[sample_id])\n",
    "b_list = tokenizer.tokenize(result_0.iloc[sample_id, 1])\n",
    "\n",
    "print(f\"src: {result_0.src[sample_id]}\")\n",
    "print(f\"ref: {result_0.iloc[sample_id, 1]}\")\n",
    "\n",
    "s = SequenceMatcher(None, a_list, b_list)\n",
    "\n",
    "replaced_deleted_tokens_ref = []\n",
    "for tag, i1, i2, j1, j2 in s.get_opcodes():\n",
    "    if tag != \"equal\":\n",
    "        print('{:7}   a[{}:{}] --> b[{}:{}] {!r:>8} --> {!r}'.format(\n",
    "            tag, i1, i2, j1, j2, a_list[i1:i2], b_list[j1:j2]))\n",
    "    if (tag == \"replace\") or (tag == \"delete\"):\n",
    "        replaced_deleted_tokens_ref.extend(list(range(i1,i2)))"
   ]
  },
  {
   "cell_type": "code",
   "execution_count": 237,
   "id": "491b0b00-71a4-4fdf-afd7-549419ea3a59",
   "metadata": {},
   "outputs": [
    {
     "data": {
      "text/plain": [
       "[6, 7, 8]"
      ]
     },
     "execution_count": 237,
     "metadata": {},
     "output_type": "execute_result"
    }
   ],
   "source": [
    "replaced_deleted_tokens_ref"
   ]
  },
  {
   "cell_type": "code",
   "execution_count": 238,
   "id": "f2a28cb2-62ef-49b4-b648-3d6dae957c02",
   "metadata": {},
   "outputs": [
    {
     "name": "stdout",
     "output_type": "stream",
     "text": [
      "src: ate kicked ass, marquee, not so much.\n",
      "lewis: ate kicked ass, marquee, and so did everyone.\n",
      "replace   a[6:7] --> b[6:7] ['Ġnot'] --> ['Ġand']\n",
      "replace   a[8:9] --> b[8:10] ['Ġmuch'] --> ['Ġdid', 'Ġeveryone']\n"
     ]
    }
   ],
   "source": [
    "a_list = tokenizer.tokenize(result_0.src[sample_id])\n",
    "b_list = tokenizer.tokenize(result_0.iloc[sample_id, 2])\n",
    "\n",
    "print(f\"src: {result_0.src[sample_id]}\")\n",
    "print(f\"lewis: {result_0.iloc[sample_id, 2]}\")\n",
    "\n",
    "s = SequenceMatcher(None, a_list, b_list)\n",
    "\n",
    "replaced_deleted_tokens_lewis = []\n",
    "for tag, i1, i2, j1, j2 in s.get_opcodes():\n",
    "    if tag != \"equal\":\n",
    "        print('{:7}   a[{}:{}] --> b[{}:{}] {!r:>8} --> {!r}'.format(\n",
    "            tag, i1, i2, j1, j2, a_list[i1:i2], b_list[j1:j2]))\n",
    "    if (tag == \"replace\") or (tag == \"delete\"):\n",
    "        replaced_deleted_tokens_lewis.extend(list(range(i1,i2)))"
   ]
  },
  {
   "cell_type": "code",
   "execution_count": 239,
   "id": "e79878a7-1d56-4052-a74f-ed172072f096",
   "metadata": {},
   "outputs": [
    {
     "name": "stdout",
     "output_type": "stream",
     "text": [
      "num overlapping replaced or deleted tokens: 2\n"
     ]
    }
   ],
   "source": [
    "print(f\"num overlapping replaced or deleted tokens: {len(set(replaced_deleted_tokens_ref).intersection(replaced_deleted_tokens_lewis))}\")"
   ]
  },
  {
   "cell_type": "code",
   "execution_count": 240,
   "id": "0a943875-1eab-4e93-abf5-9d1a968c0f28",
   "metadata": {},
   "outputs": [
    {
     "name": "stdout",
     "output_type": "stream",
     "text": [
      "src: ate kicked ass, marquee, not so much.\n",
      "roberta-base-yelp-lewis-sentiment-classifier-with-gpt2-large-embeds-binary/mlm-beamsearch-v0-word-nps5-k10-beam5-allsat_primary-866hmm6j-negative-to-positive-grad_norm-866hmm6j: I, on the and, and so on.\n",
      "replace   a[0:3] --> b[0:1] ['ate', 'Ġkicked', 'Ġass'] --> ['I']\n",
      "replace   a[4:5] --> b[2:5] ['Ġmarquee'] --> ['Ġon', 'Ġthe', 'Ġand']\n",
      "replace   a[6:7] --> b[6:7] ['Ġnot'] --> ['Ġand']\n",
      "replace   a[8:9] --> b[8:9] ['Ġmuch'] --> ['Ġon']\n"
     ]
    }
   ],
   "source": [
    "a_list = tokenizer.tokenize(result_0.src[sample_id])\n",
    "b_list = tokenizer.tokenize(result_0.iloc[sample_id, 3])\n",
    "\n",
    "print(f\"src: {result_0.src[sample_id]}\")\n",
    "print(f\"{result_0.columns[3]}: {result_0.iloc[sample_id, 3]}\")\n",
    "\n",
    "s = SequenceMatcher(None, a_list, b_list)\n",
    "\n",
    "replaced_deleted_tokens_3 = []\n",
    "for tag, i1, i2, j1, j2 in s.get_opcodes():\n",
    "    if tag != \"equal\":\n",
    "        print('{:7}   a[{}:{}] --> b[{}:{}] {!r:>8} --> {!r}'.format(\n",
    "            tag, i1, i2, j1, j2, a_list[i1:i2], b_list[j1:j2]))\n",
    "    if (tag == \"replace\") or (tag == \"delete\"):\n",
    "        replaced_deleted_tokens_3.extend(list(range(i1,i2)))"
   ]
  },
  {
   "cell_type": "code",
   "execution_count": 241,
   "id": "99810216-7d19-424c-a2b5-0da82ae62dc9",
   "metadata": {},
   "outputs": [
    {
     "name": "stdout",
     "output_type": "stream",
     "text": [
      "num overlapping replaced or deleted tokens: 2\n"
     ]
    }
   ],
   "source": [
    "print(f\"num overlapping replaced or deleted tokens: {len(set(replaced_deleted_tokens_ref).intersection(replaced_deleted_tokens_3))}\")"
   ]
  },
  {
   "cell_type": "code",
   "execution_count": 242,
   "id": "9696a3b2-3fe2-4f7a-9655-386daa8436c5",
   "metadata": {},
   "outputs": [
    {
     "name": "stdout",
     "output_type": "stream",
     "text": [
      "src: ate kicked ass, marquee, not so much.\n",
      "roberta-base-yelp-lewis-sentiment-classifier-with-gpt2-large-embeds-binary/mlm-beamsearch-v0-word-nps5-k10-beam5-allsat_primary-9fjc2pfg-negative-to-positive: It's not, but, not so much.\n",
      "replace   a[0:3] --> b[0:3] ['ate', 'Ġkicked', 'Ġass'] --> ['It', \"'s\", 'Ġnot']\n",
      "replace   a[4:5] --> b[4:5] ['Ġmarquee'] --> ['Ġbut']\n"
     ]
    }
   ],
   "source": [
    "a_list = tokenizer.tokenize(result_0.src[sample_id])\n",
    "b_list = tokenizer.tokenize(result_0.iloc[sample_id, 4])\n",
    "\n",
    "print(f\"src: {result_0.src[sample_id]}\")\n",
    "print(f\"{result_0.columns[4]}: {result_0.iloc[sample_id, 4]}\")\n",
    "\n",
    "s = SequenceMatcher(None, a_list, b_list)\n",
    "\n",
    "replaced_deleted_tokens_4 = []\n",
    "for tag, i1, i2, j1, j2 in s.get_opcodes():\n",
    "    if tag != \"equal\":\n",
    "        print('{:7}   a[{}:{}] --> b[{}:{}] {!r:>8} --> {!r}'.format(\n",
    "            tag, i1, i2, j1, j2, a_list[i1:i2], b_list[j1:j2]))\n",
    "    if (tag == \"replace\") or (tag == \"delete\"):\n",
    "        replaced_deleted_tokens_4.extend(list(range(i1,i2)))"
   ]
  },
  {
   "cell_type": "code",
   "execution_count": 243,
   "id": "877722ac-70c6-461b-bd98-805baa5cf53c",
   "metadata": {},
   "outputs": [
    {
     "name": "stdout",
     "output_type": "stream",
     "text": [
      "num overlapping replaced or deleted tokens: 0\n"
     ]
    }
   ],
   "source": [
    "print(f\"num overlapping replaced or deleted tokens: {len(set(replaced_deleted_tokens_ref).intersection(replaced_deleted_tokens_4))}\")"
   ]
  },
  {
   "cell_type": "code",
   "execution_count": 244,
   "id": "9586bd63-023b-4d8e-9651-4162fbd0bc20",
   "metadata": {},
   "outputs": [
    {
     "name": "stdout",
     "output_type": "stream",
     "text": [
      "src: ate kicked ass, marquee, not so much.\n",
      "roberta-base-yelp-sentiment-classifier-with-gpt2-large-embeds-energy-training/mlm-beamsearch-v0-word-nps5-k10-beam5-allsat_primary-k5ojm8zg-negative-to-positive-grad_norm-k5ojm8zg: In fact, the situation is not so bad.\n",
      "replace   a[0:3] --> b[0:2] ['ate', 'Ġkicked', 'Ġass'] --> ['In', 'Ġfact']\n",
      "replace   a[4:6] --> b[3:6] ['Ġmarquee', ','] --> ['Ġthe', 'Ġsituation', 'Ġis']\n",
      "replace   a[8:9] --> b[8:9] ['Ġmuch'] --> ['Ġbad']\n"
     ]
    }
   ],
   "source": [
    "a_list = tokenizer.tokenize(result_0.src[sample_id])\n",
    "b_list = tokenizer.tokenize(result_0.iloc[sample_id, 5])\n",
    "\n",
    "print(f\"src: {result_0.src[sample_id]}\")\n",
    "print(f\"{result_0.columns[5]}: {result_0.iloc[sample_id, 5]}\")\n",
    "\n",
    "s = SequenceMatcher(None, a_list, b_list)\n",
    "\n",
    "replaced_deleted_tokens_5 = []\n",
    "for tag, i1, i2, j1, j2 in s.get_opcodes():\n",
    "    if tag != \"equal\":\n",
    "        print('{:7}   a[{}:{}] --> b[{}:{}] {!r:>8} --> {!r}'.format(\n",
    "            tag, i1, i2, j1, j2, a_list[i1:i2], b_list[j1:j2]))\n",
    "    if (tag == \"replace\") or (tag == \"delete\"):\n",
    "        replaced_deleted_tokens_5.extend(list(range(i1,i2)))"
   ]
  },
  {
   "cell_type": "code",
   "execution_count": 245,
   "id": "473fef47-970a-4cba-ae82-5c0718e0004e",
   "metadata": {},
   "outputs": [
    {
     "name": "stdout",
     "output_type": "stream",
     "text": [
      "num overlapping replaced or deleted tokens: 1\n"
     ]
    }
   ],
   "source": [
    "print(f\"num overlapping replaced or deleted tokens: {len(set(replaced_deleted_tokens_ref).intersection(replaced_deleted_tokens_5))}\")"
   ]
  },
  {
   "cell_type": "code",
   "execution_count": 246,
   "id": "9a5f8648-4ae8-44f6-84f1-3f521bafc0f4",
   "metadata": {},
   "outputs": [
    {
     "name": "stdout",
     "output_type": "stream",
     "text": [
      "src: ate kicked ass, marquee, not so much.\n",
      "roberta-base-yelp-sentiment-classifier-with-gpt2-large-embeds-energy-training/mlm-beamsearch-v0-word-nps5-k10-beam5-allsat_primary-z9nof4p7-negative-to-positive: And the ass, too, and so on.\n",
      "replace   a[0:2] --> b[0:2] ['ate', 'Ġkicked'] --> ['And', 'Ġthe']\n",
      "replace   a[4:5] --> b[4:5] ['Ġmarquee'] --> ['Ġtoo']\n",
      "replace   a[6:7] --> b[6:7] ['Ġnot'] --> ['Ġand']\n",
      "replace   a[8:9] --> b[8:9] ['Ġmuch'] --> ['Ġon']\n"
     ]
    }
   ],
   "source": [
    "a_list = tokenizer.tokenize(result_0.src[sample_id])\n",
    "b_list = tokenizer.tokenize(result_0.iloc[sample_id, 6])\n",
    "\n",
    "print(f\"src: {result_0.src[sample_id]}\")\n",
    "print(f\"{result_0.columns[6]}: {result_0.iloc[sample_id, 6]}\")\n",
    "\n",
    "s = SequenceMatcher(None, a_list, b_list)\n",
    "\n",
    "replaced_deleted_tokens_6 = []\n",
    "for tag, i1, i2, j1, j2 in s.get_opcodes():\n",
    "    if tag != \"equal\":\n",
    "        print('{:7}   a[{}:{}] --> b[{}:{}] {!r:>8} --> {!r}'.format(\n",
    "            tag, i1, i2, j1, j2, a_list[i1:i2], b_list[j1:j2]))\n",
    "    if (tag == \"replace\") or (tag == \"delete\"):\n",
    "        replaced_deleted_tokens_6.extend(list(range(i1,i2)))"
   ]
  },
  {
   "cell_type": "code",
   "execution_count": 247,
   "id": "c18c4e42-7aea-4d41-81b5-fe3ac7c98886",
   "metadata": {},
   "outputs": [
    {
     "name": "stdout",
     "output_type": "stream",
     "text": [
      "num overlapping replaced or deleted tokens: 2\n"
     ]
    }
   ],
   "source": [
    "print(f\"num overlapping replaced or deleted tokens: {len(set(replaced_deleted_tokens_ref).intersection(replaced_deleted_tokens_6))}\")"
   ]
  },
  {
   "cell_type": "code",
   "execution_count": null,
   "id": "9ac1e873-afa1-43e5-a4b8-78e025066cfe",
   "metadata": {},
   "outputs": [],
   "source": []
  },
  {
   "cell_type": "code",
   "execution_count": null,
   "id": "3b2b04bc-8a71-4a31-90ff-c2207f1ac04d",
   "metadata": {},
   "outputs": [],
   "source": []
  },
  {
   "cell_type": "code",
   "execution_count": null,
   "id": "5035ea99-13db-4c60-8555-7c855a72d406",
   "metadata": {},
   "outputs": [],
   "source": []
  }
 ],
 "metadata": {
  "kernelspec": {
   "display_name": "Python 3 (ipykernel)",
   "language": "python",
   "name": "python3"
  },
  "language_info": {
   "codemirror_mode": {
    "name": "ipython",
    "version": 3
   },
   "file_extension": ".py",
   "mimetype": "text/x-python",
   "name": "python",
   "nbconvert_exporter": "python",
   "pygments_lexer": "ipython3",
   "version": "3.11.7"
  }
 },
 "nbformat": 4,
 "nbformat_minor": 5
}
